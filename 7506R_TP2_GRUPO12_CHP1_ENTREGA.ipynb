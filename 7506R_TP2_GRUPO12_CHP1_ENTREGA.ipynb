{
  "cells": [
    {
      "cell_type": "markdown",
      "metadata": {
        "id": "qU2cXWPC60pv"
      },
      "source": [
        "# TP2"
      ]
    },
    {
      "cell_type": "code",
      "source": [
        "import warnings\n",
        "warnings.filterwarnings('ignore')\n",
        "\n",
        "!pip install keras-tuner --upgrade\n",
        "!pip install keras==2.12.0\n",
        "import pandas as pd\n",
        "import numpy as np\n",
        "#librerias para visualizar los datos\n",
        "import matplotlib.pyplot as plt\n",
        "import seaborn as sns\n",
        "\n",
        "#modelos\n",
        "from sklearn.model_selection import train_test_split\n",
        "from sklearn.metrics import mean_absolute_error, mean_squared_error\n",
        "from sklearn.metrics import precision_score, recall_score,accuracy_score,f1_score,precision_recall_curve,roc_curve\n",
        "from sklearn.metrics import confusion_matrix, classification_report\n",
        "from sklearn.preprocessing import MinMaxScaler\n",
        "from sklearn import preprocessing\n",
        "from sklearn.metrics import roc_auc_score\n",
        "\n",
        "import tensorflow as tf\n",
        "from tensorflow import keras\n",
        "import keras_tuner as kt\n",
        "\n",
        "import time\n",
        "import datetime\n",
        "\n",
        "np.random.seed(99)\n",
        "tf.random.set_seed(99)\n",
        "\n",
        "from sklearn.model_selection import RandomizedSearchCV\n",
        "from sklearn.model_selection import train_test_split\n",
        "from sklearn.metrics import accuracy_score\n",
        "from keras.models import Sequential\n",
        "from keras.layers import Dense\n",
        "from keras.wrappers.scikit_learn import KerasClassifier\n",
        "from scipy.stats import randint"
      ],
      "metadata": {
        "colab": {
          "base_uri": "https://localhost:8080/"
        },
        "id": "nSRnuv34XHe-",
        "outputId": "50cde69a-3c5b-468a-cc51-e2f83584328e"
      },
      "execution_count": null,
      "outputs": [
        {
          "output_type": "stream",
          "name": "stdout",
          "text": [
            "Collecting keras-tuner\n",
            "  Downloading keras_tuner-1.4.6-py3-none-any.whl (128 kB)\n",
            "\u001b[?25l     \u001b[90m━━━━━━━━━━━━━━━━━━━━━━━━━━━━━━━━━━━━━━━━\u001b[0m \u001b[32m0.0/128.9 kB\u001b[0m \u001b[31m?\u001b[0m eta \u001b[36m-:--:--\u001b[0m\r\u001b[2K     \u001b[91m━━━━━━━━━━━━━━━━━━━━━━━━━━━━━━━━━━\u001b[0m\u001b[91m╸\u001b[0m\u001b[90m━━━━━\u001b[0m \u001b[32m112.6/128.9 kB\u001b[0m \u001b[31m3.1 MB/s\u001b[0m eta \u001b[36m0:00:01\u001b[0m\r\u001b[2K     \u001b[90m━━━━━━━━━━━━━━━━━━━━━━━━━━━━━━━━━━━━━━━━\u001b[0m \u001b[32m128.9/128.9 kB\u001b[0m \u001b[31m2.8 MB/s\u001b[0m eta \u001b[36m0:00:00\u001b[0m\n",
            "\u001b[?25hRequirement already satisfied: keras in /usr/local/lib/python3.10/dist-packages (from keras-tuner) (2.14.0)\n",
            "Requirement already satisfied: packaging in /usr/local/lib/python3.10/dist-packages (from keras-tuner) (23.2)\n",
            "Requirement already satisfied: requests in /usr/local/lib/python3.10/dist-packages (from keras-tuner) (2.31.0)\n",
            "Collecting kt-legacy (from keras-tuner)\n",
            "  Downloading kt_legacy-1.0.5-py3-none-any.whl (9.6 kB)\n",
            "Requirement already satisfied: charset-normalizer<4,>=2 in /usr/local/lib/python3.10/dist-packages (from requests->keras-tuner) (3.3.2)\n",
            "Requirement already satisfied: idna<4,>=2.5 in /usr/local/lib/python3.10/dist-packages (from requests->keras-tuner) (3.6)\n",
            "Requirement already satisfied: urllib3<3,>=1.21.1 in /usr/local/lib/python3.10/dist-packages (from requests->keras-tuner) (2.0.7)\n",
            "Requirement already satisfied: certifi>=2017.4.17 in /usr/local/lib/python3.10/dist-packages (from requests->keras-tuner) (2023.11.17)\n",
            "Installing collected packages: kt-legacy, keras-tuner\n",
            "Successfully installed keras-tuner-1.4.6 kt-legacy-1.0.5\n",
            "Collecting keras==2.12.0\n",
            "  Downloading keras-2.12.0-py2.py3-none-any.whl (1.7 MB)\n",
            "\u001b[2K     \u001b[90m━━━━━━━━━━━━━━━━━━━━━━━━━━━━━━━━━━━━━━━━\u001b[0m \u001b[32m1.7/1.7 MB\u001b[0m \u001b[31m13.2 MB/s\u001b[0m eta \u001b[36m0:00:00\u001b[0m\n",
            "\u001b[?25hInstalling collected packages: keras\n",
            "  Attempting uninstall: keras\n",
            "    Found existing installation: keras 2.14.0\n",
            "    Uninstalling keras-2.14.0:\n",
            "      Successfully uninstalled keras-2.14.0\n",
            "\u001b[31mERROR: pip's dependency resolver does not currently take into account all the packages that are installed. This behaviour is the source of the following dependency conflicts.\n",
            "tensorflow 2.14.0 requires keras<2.15,>=2.14.0, but you have keras 2.12.0 which is incompatible.\u001b[0m\u001b[31m\n",
            "\u001b[0mSuccessfully installed keras-2.12.0\n"
          ]
        }
      ]
    },
    {
      "cell_type": "markdown",
      "metadata": {
        "id": "fhK35bxYOuce"
      },
      "source": [
        "## Enunciado\n",
        "Los conjuntos de datos a utilizar train y test se encuentran disponibles en la competencia de\n",
        "Kaggle y deberán descargarlos desde allí. Allí mismo encontrarán también un archivo de\n",
        "ejemplo de cómo se deben subir las soluciones.\n",
        "El trabajo consiste en construir diferentes modelos de clasificación, capaces de analizar una\n",
        "porción de texto en lenguaje natural y detectar el sentimiento allí presente, al menos de forma\n",
        "binaria: positivo o negativo.\n",
        "Para ello habrá que realizar un preprocesamiento del texto para que este pueda ser analizado\n",
        "por los distintos modelos. Se utilizará el modelo de bag of words, o cualquier otro que permita\n",
        "convertir texto en vectores."
      ]
    },
    {
      "cell_type": "markdown",
      "metadata": {
        "id": "jNt-joT3k6jp"
      },
      "source": [
        "Los modelos que se deben construir son los siguientes:\n",
        "\n",
        "* Bayes Naïve\n",
        "* Random Forest\n",
        "* XGBoost\n",
        "* Un modelo de red neuronal aplicando Keras y Tensor Flow.\n",
        "* Un ensamble de al menos 3 modelos elegidos por el grupo."
      ]
    },
    {
      "cell_type": "markdown",
      "metadata": {
        "id": "pxWBI-m3aPq9"
      },
      "source": [
        "Para cada uno de estos modelos se debe realizar una búsqueda de hiperparametros que\n",
        "optimicen su desempeño en el conjunto de test local (porción del archivo training).\n",
        "Una vez encontrados dichos hiperparametros, se procederá a hacer un submit a Kaggle. Es decir\n",
        "que habrá al menos 5 submits (uno por cada modelo)."
      ]
    },
    {
      "cell_type": "markdown",
      "metadata": {
        "id": "J-IwL-CBPekt"
      },
      "source": [
        "## Importamos librerías y datasets:"
      ]
    },
    {
      "cell_type": "code",
      "execution_count": null,
      "metadata": {
        "id": "nTJOamBOPi7s",
        "colab": {
          "base_uri": "https://localhost:8080/"
        },
        "outputId": "93b9760d-c04d-4989-9255-b85c00f4706b"
      },
      "outputs": [
        {
          "output_type": "stream",
          "name": "stderr",
          "text": [
            "[nltk_data] Downloading package stopwords to /root/nltk_data...\n",
            "[nltk_data]   Unzipping corpora/stopwords.zip.\n"
          ]
        },
        {
          "output_type": "execute_result",
          "data": {
            "text/plain": [
              "True"
            ]
          },
          "metadata": {},
          "execution_count": 2
        }
      ],
      "source": [
        "import warnings\n",
        "warnings.filterwarnings('ignore')\n",
        "\n",
        "import pandas as pd\n",
        "\n",
        "import matplotlib.pyplot as plt\n",
        "import seaborn as sns\n",
        "\n",
        "import numpy as np\n",
        "\n",
        "from sklearn.model_selection import train_test_split, cross_val_score, StratifiedKFold, KFold, RandomizedSearchCV\n",
        "from sklearn.metrics import confusion_matrix, classification_report, accuracy_score, confusion_matrix, classification_report, make_scorer, f1_score\n",
        "\n",
        "from sklearn.naive_bayes import MultinomialNB, GaussianNB\n",
        "from sklearn.pipeline import make_pipeline\n",
        "from sklearn.feature_extraction.text import TfidfVectorizer, CountVectorizer, HashingVectorizer\n",
        "\n",
        "from sklearn.ensemble import RandomForestClassifier\n",
        "from sklearn.model_selection import cross_val_score\n",
        "from sklearn.preprocessing import MaxAbsScaler\n",
        "from sklearn.ensemble import StackingClassifier\n",
        "from sklearn.linear_model import LogisticRegressionCV\n",
        "from sklearn.model_selection import cross_val_score, RepeatedStratifiedKFold\n",
        "from collections import defaultdict\n",
        "from sklearn.model_selection import cross_validate\n",
        "from sklearn.ensemble import VotingClassifier\n",
        "\n",
        "from scipy.stats import uniform, randint\n",
        "\n",
        "import xgboost as xgb\n",
        "from xgboost import XGBClassifier\n",
        "\n",
        "from joblib import dump, load\n",
        "\n",
        "import nltk\n",
        "from nltk.corpus import stopwords\n",
        "nltk.download('stopwords')"
      ]
    },
    {
      "cell_type": "markdown",
      "metadata": {
        "id": "8xYYI1XKP0Am"
      },
      "source": [
        "Montamos Google Drive:"
      ]
    },
    {
      "cell_type": "code",
      "execution_count": null,
      "metadata": {
        "colab": {
          "base_uri": "https://localhost:8080/"
        },
        "id": "u8AdTcowPzTt",
        "outputId": "8b92d5e9-9a11-45f4-ff38-62ba8d5ea84c"
      },
      "outputs": [
        {
          "output_type": "stream",
          "name": "stdout",
          "text": [
            "Mounted at /content/drive\n"
          ]
        }
      ],
      "source": [
        "from google.colab import drive\n",
        "drive.mount('/content/drive', force_remount=True)"
      ]
    },
    {
      "cell_type": "code",
      "execution_count": null,
      "metadata": {
        "id": "Ry3sLAVROE-T"
      },
      "outputs": [],
      "source": [
        "ds_train = pd.read_csv('/content/drive/MyDrive/Tp_Datos_2023_2°/TP2/train.csv')\n",
        "ds_test = pd.read_csv('/content/drive/MyDrive/Tp_Datos_2023_2°/TP2/test.csv')\n",
        "ds_train_stemmed = pd.read_csv('/content/drive/MyDrive/Tp_Datos_2023_2°/TP2/datasets/train_con_stemming_aplicado.csv')"
      ]
    },
    {
      "cell_type": "markdown",
      "metadata": {
        "id": "Si4LPI_9UPiW"
      },
      "source": [
        "## Análisis de datos"
      ]
    },
    {
      "cell_type": "markdown",
      "source": [
        "Realizamos una primera lectura de los dataset:"
      ],
      "metadata": {
        "id": "6jbKu2Cdz3gY"
      }
    },
    {
      "cell_type": "code",
      "execution_count": null,
      "metadata": {
        "colab": {
          "base_uri": "https://localhost:8080/",
          "height": 424
        },
        "id": "PU86HQhkqmeT",
        "outputId": "66eb3b7b-9db8-4bb6-c564-2610d2df06f2"
      },
      "outputs": [
        {
          "data": {
            "text/html": [
              "\n",
              "  <div id=\"df-26012eda-5cb4-411d-8cb4-047e69bb1f1e\" class=\"colab-df-container\">\n",
              "    <div>\n",
              "<style scoped>\n",
              "    .dataframe tbody tr th:only-of-type {\n",
              "        vertical-align: middle;\n",
              "    }\n",
              "\n",
              "    .dataframe tbody tr th {\n",
              "        vertical-align: top;\n",
              "    }\n",
              "\n",
              "    .dataframe thead th {\n",
              "        text-align: right;\n",
              "    }\n",
              "</style>\n",
              "<table border=\"1\" class=\"dataframe\">\n",
              "  <thead>\n",
              "    <tr style=\"text-align: right;\">\n",
              "      <th></th>\n",
              "      <th>ID</th>\n",
              "      <th>review_es</th>\n",
              "      <th>sentimiento</th>\n",
              "    </tr>\n",
              "  </thead>\n",
              "  <tbody>\n",
              "    <tr>\n",
              "      <th>0</th>\n",
              "      <td>0</td>\n",
              "      <td>Uno de los otros críticos ha mencionado que de...</td>\n",
              "      <td>positivo</td>\n",
              "    </tr>\n",
              "    <tr>\n",
              "      <th>1</th>\n",
              "      <td>1</td>\n",
              "      <td>Una pequeña pequeña producción.La técnica de f...</td>\n",
              "      <td>positivo</td>\n",
              "    </tr>\n",
              "    <tr>\n",
              "      <th>2</th>\n",
              "      <td>2</td>\n",
              "      <td>Pensé que esta era una manera maravillosa de p...</td>\n",
              "      <td>positivo</td>\n",
              "    </tr>\n",
              "    <tr>\n",
              "      <th>3</th>\n",
              "      <td>3</td>\n",
              "      <td>Básicamente, hay una familia donde un niño peq...</td>\n",
              "      <td>negativo</td>\n",
              "    </tr>\n",
              "    <tr>\n",
              "      <th>4</th>\n",
              "      <td>4</td>\n",
              "      <td>El \"amor en el tiempo\" de Petter Mattei es una...</td>\n",
              "      <td>positivo</td>\n",
              "    </tr>\n",
              "    <tr>\n",
              "      <th>...</th>\n",
              "      <td>...</td>\n",
              "      <td>...</td>\n",
              "      <td>...</td>\n",
              "    </tr>\n",
              "    <tr>\n",
              "      <th>49995</th>\n",
              "      <td>49995</td>\n",
              "      <td>Pensé que esta película hizo un buen trabajo a...</td>\n",
              "      <td>positivo</td>\n",
              "    </tr>\n",
              "    <tr>\n",
              "      <th>49996</th>\n",
              "      <td>49996</td>\n",
              "      <td>Mala parcela, mal diálogo, mala actuación, dir...</td>\n",
              "      <td>negativo</td>\n",
              "    </tr>\n",
              "    <tr>\n",
              "      <th>49997</th>\n",
              "      <td>49997</td>\n",
              "      <td>Soy católica enseñada en escuelas primarias pa...</td>\n",
              "      <td>negativo</td>\n",
              "    </tr>\n",
              "    <tr>\n",
              "      <th>49998</th>\n",
              "      <td>49998</td>\n",
              "      <td>Voy a tener que estar en desacuerdo con el com...</td>\n",
              "      <td>negativo</td>\n",
              "    </tr>\n",
              "    <tr>\n",
              "      <th>49999</th>\n",
              "      <td>49999</td>\n",
              "      <td>Nadie espera que las películas de Star Trek se...</td>\n",
              "      <td>negativo</td>\n",
              "    </tr>\n",
              "  </tbody>\n",
              "</table>\n",
              "<p>50000 rows × 3 columns</p>\n",
              "</div>\n",
              "    <div class=\"colab-df-buttons\">\n",
              "\n",
              "  <div class=\"colab-df-container\">\n",
              "    <button class=\"colab-df-convert\" onclick=\"convertToInteractive('df-26012eda-5cb4-411d-8cb4-047e69bb1f1e')\"\n",
              "            title=\"Convert this dataframe to an interactive table.\"\n",
              "            style=\"display:none;\">\n",
              "\n",
              "  <svg xmlns=\"http://www.w3.org/2000/svg\" height=\"24px\" viewBox=\"0 -960 960 960\">\n",
              "    <path d=\"M120-120v-720h720v720H120Zm60-500h600v-160H180v160Zm220 220h160v-160H400v160Zm0 220h160v-160H400v160ZM180-400h160v-160H180v160Zm440 0h160v-160H620v160ZM180-180h160v-160H180v160Zm440 0h160v-160H620v160Z\"/>\n",
              "  </svg>\n",
              "    </button>\n",
              "\n",
              "  <style>\n",
              "    .colab-df-container {\n",
              "      display:flex;\n",
              "      gap: 12px;\n",
              "    }\n",
              "\n",
              "    .colab-df-convert {\n",
              "      background-color: #E8F0FE;\n",
              "      border: none;\n",
              "      border-radius: 50%;\n",
              "      cursor: pointer;\n",
              "      display: none;\n",
              "      fill: #1967D2;\n",
              "      height: 32px;\n",
              "      padding: 0 0 0 0;\n",
              "      width: 32px;\n",
              "    }\n",
              "\n",
              "    .colab-df-convert:hover {\n",
              "      background-color: #E2EBFA;\n",
              "      box-shadow: 0px 1px 2px rgba(60, 64, 67, 0.3), 0px 1px 3px 1px rgba(60, 64, 67, 0.15);\n",
              "      fill: #174EA6;\n",
              "    }\n",
              "\n",
              "    .colab-df-buttons div {\n",
              "      margin-bottom: 4px;\n",
              "    }\n",
              "\n",
              "    [theme=dark] .colab-df-convert {\n",
              "      background-color: #3B4455;\n",
              "      fill: #D2E3FC;\n",
              "    }\n",
              "\n",
              "    [theme=dark] .colab-df-convert:hover {\n",
              "      background-color: #434B5C;\n",
              "      box-shadow: 0px 1px 3px 1px rgba(0, 0, 0, 0.15);\n",
              "      filter: drop-shadow(0px 1px 2px rgba(0, 0, 0, 0.3));\n",
              "      fill: #FFFFFF;\n",
              "    }\n",
              "  </style>\n",
              "\n",
              "    <script>\n",
              "      const buttonEl =\n",
              "        document.querySelector('#df-26012eda-5cb4-411d-8cb4-047e69bb1f1e button.colab-df-convert');\n",
              "      buttonEl.style.display =\n",
              "        google.colab.kernel.accessAllowed ? 'block' : 'none';\n",
              "\n",
              "      async function convertToInteractive(key) {\n",
              "        const element = document.querySelector('#df-26012eda-5cb4-411d-8cb4-047e69bb1f1e');\n",
              "        const dataTable =\n",
              "          await google.colab.kernel.invokeFunction('convertToInteractive',\n",
              "                                                    [key], {});\n",
              "        if (!dataTable) return;\n",
              "\n",
              "        const docLinkHtml = 'Like what you see? Visit the ' +\n",
              "          '<a target=\"_blank\" href=https://colab.research.google.com/notebooks/data_table.ipynb>data table notebook</a>'\n",
              "          + ' to learn more about interactive tables.';\n",
              "        element.innerHTML = '';\n",
              "        dataTable['output_type'] = 'display_data';\n",
              "        await google.colab.output.renderOutput(dataTable, element);\n",
              "        const docLink = document.createElement('div');\n",
              "        docLink.innerHTML = docLinkHtml;\n",
              "        element.appendChild(docLink);\n",
              "      }\n",
              "    </script>\n",
              "  </div>\n",
              "\n",
              "\n",
              "<div id=\"df-d1885064-b7f9-4b83-9fbc-11cd7107c429\">\n",
              "  <button class=\"colab-df-quickchart\" onclick=\"quickchart('df-d1885064-b7f9-4b83-9fbc-11cd7107c429')\"\n",
              "            title=\"Suggest charts\"\n",
              "            style=\"display:none;\">\n",
              "\n",
              "<svg xmlns=\"http://www.w3.org/2000/svg\" height=\"24px\"viewBox=\"0 0 24 24\"\n",
              "     width=\"24px\">\n",
              "    <g>\n",
              "        <path d=\"M19 3H5c-1.1 0-2 .9-2 2v14c0 1.1.9 2 2 2h14c1.1 0 2-.9 2-2V5c0-1.1-.9-2-2-2zM9 17H7v-7h2v7zm4 0h-2V7h2v10zm4 0h-2v-4h2v4z\"/>\n",
              "    </g>\n",
              "</svg>\n",
              "  </button>\n",
              "\n",
              "<style>\n",
              "  .colab-df-quickchart {\n",
              "      --bg-color: #E8F0FE;\n",
              "      --fill-color: #1967D2;\n",
              "      --hover-bg-color: #E2EBFA;\n",
              "      --hover-fill-color: #174EA6;\n",
              "      --disabled-fill-color: #AAA;\n",
              "      --disabled-bg-color: #DDD;\n",
              "  }\n",
              "\n",
              "  [theme=dark] .colab-df-quickchart {\n",
              "      --bg-color: #3B4455;\n",
              "      --fill-color: #D2E3FC;\n",
              "      --hover-bg-color: #434B5C;\n",
              "      --hover-fill-color: #FFFFFF;\n",
              "      --disabled-bg-color: #3B4455;\n",
              "      --disabled-fill-color: #666;\n",
              "  }\n",
              "\n",
              "  .colab-df-quickchart {\n",
              "    background-color: var(--bg-color);\n",
              "    border: none;\n",
              "    border-radius: 50%;\n",
              "    cursor: pointer;\n",
              "    display: none;\n",
              "    fill: var(--fill-color);\n",
              "    height: 32px;\n",
              "    padding: 0;\n",
              "    width: 32px;\n",
              "  }\n",
              "\n",
              "  .colab-df-quickchart:hover {\n",
              "    background-color: var(--hover-bg-color);\n",
              "    box-shadow: 0 1px 2px rgba(60, 64, 67, 0.3), 0 1px 3px 1px rgba(60, 64, 67, 0.15);\n",
              "    fill: var(--button-hover-fill-color);\n",
              "  }\n",
              "\n",
              "  .colab-df-quickchart-complete:disabled,\n",
              "  .colab-df-quickchart-complete:disabled:hover {\n",
              "    background-color: var(--disabled-bg-color);\n",
              "    fill: var(--disabled-fill-color);\n",
              "    box-shadow: none;\n",
              "  }\n",
              "\n",
              "  .colab-df-spinner {\n",
              "    border: 2px solid var(--fill-color);\n",
              "    border-color: transparent;\n",
              "    border-bottom-color: var(--fill-color);\n",
              "    animation:\n",
              "      spin 1s steps(1) infinite;\n",
              "  }\n",
              "\n",
              "  @keyframes spin {\n",
              "    0% {\n",
              "      border-color: transparent;\n",
              "      border-bottom-color: var(--fill-color);\n",
              "      border-left-color: var(--fill-color);\n",
              "    }\n",
              "    20% {\n",
              "      border-color: transparent;\n",
              "      border-left-color: var(--fill-color);\n",
              "      border-top-color: var(--fill-color);\n",
              "    }\n",
              "    30% {\n",
              "      border-color: transparent;\n",
              "      border-left-color: var(--fill-color);\n",
              "      border-top-color: var(--fill-color);\n",
              "      border-right-color: var(--fill-color);\n",
              "    }\n",
              "    40% {\n",
              "      border-color: transparent;\n",
              "      border-right-color: var(--fill-color);\n",
              "      border-top-color: var(--fill-color);\n",
              "    }\n",
              "    60% {\n",
              "      border-color: transparent;\n",
              "      border-right-color: var(--fill-color);\n",
              "    }\n",
              "    80% {\n",
              "      border-color: transparent;\n",
              "      border-right-color: var(--fill-color);\n",
              "      border-bottom-color: var(--fill-color);\n",
              "    }\n",
              "    90% {\n",
              "      border-color: transparent;\n",
              "      border-bottom-color: var(--fill-color);\n",
              "    }\n",
              "  }\n",
              "</style>\n",
              "\n",
              "  <script>\n",
              "    async function quickchart(key) {\n",
              "      const quickchartButtonEl =\n",
              "        document.querySelector('#' + key + ' button');\n",
              "      quickchartButtonEl.disabled = true;  // To prevent multiple clicks.\n",
              "      quickchartButtonEl.classList.add('colab-df-spinner');\n",
              "      try {\n",
              "        const charts = await google.colab.kernel.invokeFunction(\n",
              "            'suggestCharts', [key], {});\n",
              "      } catch (error) {\n",
              "        console.error('Error during call to suggestCharts:', error);\n",
              "      }\n",
              "      quickchartButtonEl.classList.remove('colab-df-spinner');\n",
              "      quickchartButtonEl.classList.add('colab-df-quickchart-complete');\n",
              "    }\n",
              "    (() => {\n",
              "      let quickchartButtonEl =\n",
              "        document.querySelector('#df-d1885064-b7f9-4b83-9fbc-11cd7107c429 button');\n",
              "      quickchartButtonEl.style.display =\n",
              "        google.colab.kernel.accessAllowed ? 'block' : 'none';\n",
              "    })();\n",
              "  </script>\n",
              "</div>\n",
              "    </div>\n",
              "  </div>\n"
            ],
            "text/plain": [
              "          ID                                          review_es sentimiento\n",
              "0          0  Uno de los otros críticos ha mencionado que de...    positivo\n",
              "1          1  Una pequeña pequeña producción.La técnica de f...    positivo\n",
              "2          2  Pensé que esta era una manera maravillosa de p...    positivo\n",
              "3          3  Básicamente, hay una familia donde un niño peq...    negativo\n",
              "4          4  El \"amor en el tiempo\" de Petter Mattei es una...    positivo\n",
              "...      ...                                                ...         ...\n",
              "49995  49995  Pensé que esta película hizo un buen trabajo a...    positivo\n",
              "49996  49996  Mala parcela, mal diálogo, mala actuación, dir...    negativo\n",
              "49997  49997  Soy católica enseñada en escuelas primarias pa...    negativo\n",
              "49998  49998  Voy a tener que estar en desacuerdo con el com...    negativo\n",
              "49999  49999  Nadie espera que las películas de Star Trek se...    negativo\n",
              "\n",
              "[50000 rows x 3 columns]"
            ]
          },
          "execution_count": 4,
          "metadata": {},
          "output_type": "execute_result"
        }
      ],
      "source": [
        "ds_train"
      ]
    },
    {
      "cell_type": "code",
      "execution_count": null,
      "metadata": {
        "colab": {
          "base_uri": "https://localhost:8080/",
          "height": 424
        },
        "id": "WsUsjvTxqo7d",
        "outputId": "d73df420-a730-4565-f955-eeab81a0ebce"
      },
      "outputs": [
        {
          "data": {
            "text/html": [
              "\n",
              "  <div id=\"df-880f5eab-d49f-4db4-8574-8f9d3b87ac6e\" class=\"colab-df-container\">\n",
              "    <div>\n",
              "<style scoped>\n",
              "    .dataframe tbody tr th:only-of-type {\n",
              "        vertical-align: middle;\n",
              "    }\n",
              "\n",
              "    .dataframe tbody tr th {\n",
              "        vertical-align: top;\n",
              "    }\n",
              "\n",
              "    .dataframe thead th {\n",
              "        text-align: right;\n",
              "    }\n",
              "</style>\n",
              "<table border=\"1\" class=\"dataframe\">\n",
              "  <thead>\n",
              "    <tr style=\"text-align: right;\">\n",
              "      <th></th>\n",
              "      <th>ID</th>\n",
              "      <th>review_es</th>\n",
              "    </tr>\n",
              "  </thead>\n",
              "  <tbody>\n",
              "    <tr>\n",
              "      <th>0</th>\n",
              "      <td>60000</td>\n",
              "      <td>La mayor virtud de esta película es su existen...</td>\n",
              "    </tr>\n",
              "    <tr>\n",
              "      <th>1</th>\n",
              "      <td>60001</td>\n",
              "      <td>No soy un experto cinéfilo, pero pocas veces m...</td>\n",
              "    </tr>\n",
              "    <tr>\n",
              "      <th>2</th>\n",
              "      <td>60002</td>\n",
              "      <td>Si no eres un incondicional del humor estilo T...</td>\n",
              "    </tr>\n",
              "    <tr>\n",
              "      <th>3</th>\n",
              "      <td>60003</td>\n",
              "      <td>No sé qué está pasando, si la gente se deja ll...</td>\n",
              "    </tr>\n",
              "    <tr>\n",
              "      <th>4</th>\n",
              "      <td>60004</td>\n",
              "      <td>Pero cuando amanece,y me quedo solo,siento en ...</td>\n",
              "    </tr>\n",
              "    <tr>\n",
              "      <th>...</th>\n",
              "      <td>...</td>\n",
              "      <td>...</td>\n",
              "    </tr>\n",
              "    <tr>\n",
              "      <th>8594</th>\n",
              "      <td>68594</td>\n",
              "      <td>Buena no, lo siguiente. Por fin un film serio ...</td>\n",
              "    </tr>\n",
              "    <tr>\n",
              "      <th>8595</th>\n",
              "      <td>68595</td>\n",
              "      <td>Me esperaba mucho, pero que mucho, más.Guión m...</td>\n",
              "    </tr>\n",
              "    <tr>\n",
              "      <th>8596</th>\n",
              "      <td>68596</td>\n",
              "      <td>De mal cuerpo como sensación al finalizar, de ...</td>\n",
              "    </tr>\n",
              "    <tr>\n",
              "      <th>8597</th>\n",
              "      <td>68597</td>\n",
              "      <td>Los que han añadido comentarios os lo han dich...</td>\n",
              "    </tr>\n",
              "    <tr>\n",
              "      <th>8598</th>\n",
              "      <td>68598</td>\n",
              "      <td>Fui a ver esta película de cine con entusiasmo...</td>\n",
              "    </tr>\n",
              "  </tbody>\n",
              "</table>\n",
              "<p>8599 rows × 2 columns</p>\n",
              "</div>\n",
              "    <div class=\"colab-df-buttons\">\n",
              "\n",
              "  <div class=\"colab-df-container\">\n",
              "    <button class=\"colab-df-convert\" onclick=\"convertToInteractive('df-880f5eab-d49f-4db4-8574-8f9d3b87ac6e')\"\n",
              "            title=\"Convert this dataframe to an interactive table.\"\n",
              "            style=\"display:none;\">\n",
              "\n",
              "  <svg xmlns=\"http://www.w3.org/2000/svg\" height=\"24px\" viewBox=\"0 -960 960 960\">\n",
              "    <path d=\"M120-120v-720h720v720H120Zm60-500h600v-160H180v160Zm220 220h160v-160H400v160Zm0 220h160v-160H400v160ZM180-400h160v-160H180v160Zm440 0h160v-160H620v160ZM180-180h160v-160H180v160Zm440 0h160v-160H620v160Z\"/>\n",
              "  </svg>\n",
              "    </button>\n",
              "\n",
              "  <style>\n",
              "    .colab-df-container {\n",
              "      display:flex;\n",
              "      gap: 12px;\n",
              "    }\n",
              "\n",
              "    .colab-df-convert {\n",
              "      background-color: #E8F0FE;\n",
              "      border: none;\n",
              "      border-radius: 50%;\n",
              "      cursor: pointer;\n",
              "      display: none;\n",
              "      fill: #1967D2;\n",
              "      height: 32px;\n",
              "      padding: 0 0 0 0;\n",
              "      width: 32px;\n",
              "    }\n",
              "\n",
              "    .colab-df-convert:hover {\n",
              "      background-color: #E2EBFA;\n",
              "      box-shadow: 0px 1px 2px rgba(60, 64, 67, 0.3), 0px 1px 3px 1px rgba(60, 64, 67, 0.15);\n",
              "      fill: #174EA6;\n",
              "    }\n",
              "\n",
              "    .colab-df-buttons div {\n",
              "      margin-bottom: 4px;\n",
              "    }\n",
              "\n",
              "    [theme=dark] .colab-df-convert {\n",
              "      background-color: #3B4455;\n",
              "      fill: #D2E3FC;\n",
              "    }\n",
              "\n",
              "    [theme=dark] .colab-df-convert:hover {\n",
              "      background-color: #434B5C;\n",
              "      box-shadow: 0px 1px 3px 1px rgba(0, 0, 0, 0.15);\n",
              "      filter: drop-shadow(0px 1px 2px rgba(0, 0, 0, 0.3));\n",
              "      fill: #FFFFFF;\n",
              "    }\n",
              "  </style>\n",
              "\n",
              "    <script>\n",
              "      const buttonEl =\n",
              "        document.querySelector('#df-880f5eab-d49f-4db4-8574-8f9d3b87ac6e button.colab-df-convert');\n",
              "      buttonEl.style.display =\n",
              "        google.colab.kernel.accessAllowed ? 'block' : 'none';\n",
              "\n",
              "      async function convertToInteractive(key) {\n",
              "        const element = document.querySelector('#df-880f5eab-d49f-4db4-8574-8f9d3b87ac6e');\n",
              "        const dataTable =\n",
              "          await google.colab.kernel.invokeFunction('convertToInteractive',\n",
              "                                                    [key], {});\n",
              "        if (!dataTable) return;\n",
              "\n",
              "        const docLinkHtml = 'Like what you see? Visit the ' +\n",
              "          '<a target=\"_blank\" href=https://colab.research.google.com/notebooks/data_table.ipynb>data table notebook</a>'\n",
              "          + ' to learn more about interactive tables.';\n",
              "        element.innerHTML = '';\n",
              "        dataTable['output_type'] = 'display_data';\n",
              "        await google.colab.output.renderOutput(dataTable, element);\n",
              "        const docLink = document.createElement('div');\n",
              "        docLink.innerHTML = docLinkHtml;\n",
              "        element.appendChild(docLink);\n",
              "      }\n",
              "    </script>\n",
              "  </div>\n",
              "\n",
              "\n",
              "<div id=\"df-31f1b98e-a25a-4d49-ad83-60ed88220f46\">\n",
              "  <button class=\"colab-df-quickchart\" onclick=\"quickchart('df-31f1b98e-a25a-4d49-ad83-60ed88220f46')\"\n",
              "            title=\"Suggest charts\"\n",
              "            style=\"display:none;\">\n",
              "\n",
              "<svg xmlns=\"http://www.w3.org/2000/svg\" height=\"24px\"viewBox=\"0 0 24 24\"\n",
              "     width=\"24px\">\n",
              "    <g>\n",
              "        <path d=\"M19 3H5c-1.1 0-2 .9-2 2v14c0 1.1.9 2 2 2h14c1.1 0 2-.9 2-2V5c0-1.1-.9-2-2-2zM9 17H7v-7h2v7zm4 0h-2V7h2v10zm4 0h-2v-4h2v4z\"/>\n",
              "    </g>\n",
              "</svg>\n",
              "  </button>\n",
              "\n",
              "<style>\n",
              "  .colab-df-quickchart {\n",
              "      --bg-color: #E8F0FE;\n",
              "      --fill-color: #1967D2;\n",
              "      --hover-bg-color: #E2EBFA;\n",
              "      --hover-fill-color: #174EA6;\n",
              "      --disabled-fill-color: #AAA;\n",
              "      --disabled-bg-color: #DDD;\n",
              "  }\n",
              "\n",
              "  [theme=dark] .colab-df-quickchart {\n",
              "      --bg-color: #3B4455;\n",
              "      --fill-color: #D2E3FC;\n",
              "      --hover-bg-color: #434B5C;\n",
              "      --hover-fill-color: #FFFFFF;\n",
              "      --disabled-bg-color: #3B4455;\n",
              "      --disabled-fill-color: #666;\n",
              "  }\n",
              "\n",
              "  .colab-df-quickchart {\n",
              "    background-color: var(--bg-color);\n",
              "    border: none;\n",
              "    border-radius: 50%;\n",
              "    cursor: pointer;\n",
              "    display: none;\n",
              "    fill: var(--fill-color);\n",
              "    height: 32px;\n",
              "    padding: 0;\n",
              "    width: 32px;\n",
              "  }\n",
              "\n",
              "  .colab-df-quickchart:hover {\n",
              "    background-color: var(--hover-bg-color);\n",
              "    box-shadow: 0 1px 2px rgba(60, 64, 67, 0.3), 0 1px 3px 1px rgba(60, 64, 67, 0.15);\n",
              "    fill: var(--button-hover-fill-color);\n",
              "  }\n",
              "\n",
              "  .colab-df-quickchart-complete:disabled,\n",
              "  .colab-df-quickchart-complete:disabled:hover {\n",
              "    background-color: var(--disabled-bg-color);\n",
              "    fill: var(--disabled-fill-color);\n",
              "    box-shadow: none;\n",
              "  }\n",
              "\n",
              "  .colab-df-spinner {\n",
              "    border: 2px solid var(--fill-color);\n",
              "    border-color: transparent;\n",
              "    border-bottom-color: var(--fill-color);\n",
              "    animation:\n",
              "      spin 1s steps(1) infinite;\n",
              "  }\n",
              "\n",
              "  @keyframes spin {\n",
              "    0% {\n",
              "      border-color: transparent;\n",
              "      border-bottom-color: var(--fill-color);\n",
              "      border-left-color: var(--fill-color);\n",
              "    }\n",
              "    20% {\n",
              "      border-color: transparent;\n",
              "      border-left-color: var(--fill-color);\n",
              "      border-top-color: var(--fill-color);\n",
              "    }\n",
              "    30% {\n",
              "      border-color: transparent;\n",
              "      border-left-color: var(--fill-color);\n",
              "      border-top-color: var(--fill-color);\n",
              "      border-right-color: var(--fill-color);\n",
              "    }\n",
              "    40% {\n",
              "      border-color: transparent;\n",
              "      border-right-color: var(--fill-color);\n",
              "      border-top-color: var(--fill-color);\n",
              "    }\n",
              "    60% {\n",
              "      border-color: transparent;\n",
              "      border-right-color: var(--fill-color);\n",
              "    }\n",
              "    80% {\n",
              "      border-color: transparent;\n",
              "      border-right-color: var(--fill-color);\n",
              "      border-bottom-color: var(--fill-color);\n",
              "    }\n",
              "    90% {\n",
              "      border-color: transparent;\n",
              "      border-bottom-color: var(--fill-color);\n",
              "    }\n",
              "  }\n",
              "</style>\n",
              "\n",
              "  <script>\n",
              "    async function quickchart(key) {\n",
              "      const quickchartButtonEl =\n",
              "        document.querySelector('#' + key + ' button');\n",
              "      quickchartButtonEl.disabled = true;  // To prevent multiple clicks.\n",
              "      quickchartButtonEl.classList.add('colab-df-spinner');\n",
              "      try {\n",
              "        const charts = await google.colab.kernel.invokeFunction(\n",
              "            'suggestCharts', [key], {});\n",
              "      } catch (error) {\n",
              "        console.error('Error during call to suggestCharts:', error);\n",
              "      }\n",
              "      quickchartButtonEl.classList.remove('colab-df-spinner');\n",
              "      quickchartButtonEl.classList.add('colab-df-quickchart-complete');\n",
              "    }\n",
              "    (() => {\n",
              "      let quickchartButtonEl =\n",
              "        document.querySelector('#df-31f1b98e-a25a-4d49-ad83-60ed88220f46 button');\n",
              "      quickchartButtonEl.style.display =\n",
              "        google.colab.kernel.accessAllowed ? 'block' : 'none';\n",
              "    })();\n",
              "  </script>\n",
              "</div>\n",
              "    </div>\n",
              "  </div>\n"
            ],
            "text/plain": [
              "         ID                                          review_es\n",
              "0     60000  La mayor virtud de esta película es su existen...\n",
              "1     60001  No soy un experto cinéfilo, pero pocas veces m...\n",
              "2     60002  Si no eres un incondicional del humor estilo T...\n",
              "3     60003  No sé qué está pasando, si la gente se deja ll...\n",
              "4     60004  Pero cuando amanece,y me quedo solo,siento en ...\n",
              "...     ...                                                ...\n",
              "8594  68594  Buena no, lo siguiente. Por fin un film serio ...\n",
              "8595  68595  Me esperaba mucho, pero que mucho, más.Guión m...\n",
              "8596  68596  De mal cuerpo como sensación al finalizar, de ...\n",
              "8597  68597  Los que han añadido comentarios os lo han dich...\n",
              "8598  68598  Fui a ver esta película de cine con entusiasmo...\n",
              "\n",
              "[8599 rows x 2 columns]"
            ]
          },
          "execution_count": 5,
          "metadata": {},
          "output_type": "execute_result"
        }
      ],
      "source": [
        "ds_test"
      ]
    },
    {
      "cell_type": "code",
      "execution_count": null,
      "metadata": {
        "colab": {
          "base_uri": "https://localhost:8080/"
        },
        "id": "YKHX7-goRHl2",
        "outputId": "154502ee-442f-4806-ac11-6090521e3e72"
      },
      "outputs": [
        {
          "output_type": "stream",
          "name": "stdout",
          "text": [
            "<class 'pandas.core.frame.DataFrame'>\n",
            "RangeIndex: 50000 entries, 0 to 49999\n",
            "Data columns (total 3 columns):\n",
            " #   Column       Non-Null Count  Dtype \n",
            "---  ------       --------------  ----- \n",
            " 0   ID           50000 non-null  int64 \n",
            " 1   review_es    50000 non-null  object\n",
            " 2   sentimiento  50000 non-null  object\n",
            "dtypes: int64(1), object(2)\n",
            "memory usage: 1.1+ MB\n"
          ]
        }
      ],
      "source": [
        "ds_train.info()"
      ]
    },
    {
      "cell_type": "markdown",
      "metadata": {
        "id": "AYdtErucVZug"
      },
      "source": [
        "No tenemos datos nulos"
      ]
    },
    {
      "cell_type": "code",
      "execution_count": null,
      "metadata": {
        "colab": {
          "base_uri": "https://localhost:8080/"
        },
        "id": "siKMWZ4TFc0i",
        "outputId": "fe57c369-150c-4dcd-f2d1-687482d9496e"
      },
      "outputs": [
        {
          "output_type": "execute_result",
          "data": {
            "text/plain": [
              "positivo    25000\n",
              "negativo    25000\n",
              "Name: sentimiento, dtype: int64"
            ]
          },
          "metadata": {},
          "execution_count": 5
        }
      ],
      "source": [
        "ds_train['sentimiento'].value_counts()"
      ]
    },
    {
      "cell_type": "markdown",
      "metadata": {
        "id": "s4CNwWg_FmLA"
      },
      "source": [
        "Tenemos la misma cantidad de reseñas positivas y negativas"
      ]
    },
    {
      "cell_type": "markdown",
      "source": [
        "### Aplicamos stemming a la columna de review_es"
      ],
      "metadata": {
        "id": "AgTOmexRwr3o"
      }
    },
    {
      "cell_type": "code",
      "source": [
        "ds_train_copy = ds_train.copy()\n",
        "ds_train_copy['review_es'][0]"
      ],
      "metadata": {
        "colab": {
          "base_uri": "https://localhost:8080/",
          "height": 244
        },
        "id": "c0R2jtksx2ws",
        "outputId": "3d121039-27d0-459d-95fc-5db5bc516a86"
      },
      "execution_count": null,
      "outputs": [
        {
          "output_type": "execute_result",
          "data": {
            "text/plain": [
              "'Uno de los otros críticos ha mencionado que después de ver solo 1 Oz Episodio, estará enganchado. Tienen razón, ya que esto es exactamente lo que sucedió conmigo. La primera cosa que me golpeó sobre Oz fue su brutalidad y sus escenas de violencia inconfiadas, que se encuentran a la derecha de la palabra. Confía en mí, este no es un espectáculo para los débiles de corazón o tímido. Este espectáculo no extrae punzones con respecto a las drogas, el sexo o la violencia. Es Hardcore, en el uso clásico de la palabra. Se llama OZ, ya que es el apodo dado al Penitenciario del Estado de Seguridad Máximo de Oswald. Se centra principalmente en la ciudad de Emeralda, una sección experimental de la prisión donde todas las células tienen frentes de vidrio y se enfrentan hacia adentro, por lo que la privacidad no es alta en la agenda. Em City es el hogar de muchos ... Fariarios, musulmanes, gangstas, latinos, cristianos, italianos, irlandeses y más ... así que las esposas, las miradas de muerte, las relaciones peligrosas y los acuerdos sombreados nunca están lejos. Yo diría el principal atractivo de El espectáculo se debe al hecho de que va donde otros espectáculos no se atreverían. Olvídate de las imágenes bonitas pintadas para las audiencias convencionales, olvidan el encanto, olviden el romance ... Oz no se mete. El primer episodio que he visto me sorprendió tan desagradable que fue surrealista, no podía decir que estaba listo para ello, pero cuando observé más, desarrollé un gusto por Oz, y me acostumbré a los altos niveles de violencia gráfica. No solo la violencia, sino la injusticia (Guardias torcidas que se vendrán por un níquel, los reclusos que se matarán en orden y se alejarán con él, de manera educada, los reclusos de clase media se convirtieron en perras de la prisión debido a su falta de habilidades callejeras O experiencia en la prisión) viendo oz, puede sentirse cómodo con lo que es incómodo visualización ... eso es si puedes ponerte en contacto con tu lado más oscuro.'"
            ],
            "application/vnd.google.colaboratory.intrinsic+json": {
              "type": "string"
            }
          },
          "metadata": {},
          "execution_count": 4
        }
      ]
    },
    {
      "cell_type": "code",
      "source": [
        "from nltk.stem import SnowballStemmer\n",
        "from nltk import word_tokenize\n",
        "\n",
        "# Descarga de recursos necesarios para NLTK (esto se hace una vez)\n",
        "nltk.download('punkt')\n",
        "nltk.download('stopwords')\n",
        "\n",
        "# Configura el stemmer para español\n",
        "stemmer = SnowballStemmer(\"spanish\")\n",
        "\n",
        "# Ejemplo de función para aplicar stemming a una fila de la columna 'ds_train_x'\n",
        "def apply_stemming(text):\n",
        "    words = word_tokenize(text)\n",
        "    stemmed_words = [stemmer.stem(word) for word in words]\n",
        "    return ' '.join(stemmed_words)\n",
        "\n",
        "\n",
        "\n",
        "# Aplica la función a la columna 'ds_train_x'\n",
        "ds_train_x_stemmed = ds_train_copy['review_es'].apply(apply_stemming)\n",
        "ds_train_x_stemmed[0]"
      ],
      "metadata": {
        "colab": {
          "base_uri": "https://localhost:8080/",
          "height": 313
        },
        "id": "JW4phOWtwuTL",
        "outputId": "8dc6e7fd-9f70-4f6e-cc83-8d9bae6f8d18"
      },
      "execution_count": null,
      "outputs": [
        {
          "output_type": "stream",
          "name": "stderr",
          "text": [
            "[nltk_data] Downloading package punkt to /root/nltk_data...\n",
            "[nltk_data]   Unzipping tokenizers/punkt.zip.\n",
            "[nltk_data] Downloading package stopwords to /root/nltk_data...\n",
            "[nltk_data]   Package stopwords is already up-to-date!\n"
          ]
        },
        {
          "output_type": "execute_result",
          "data": {
            "text/plain": [
              "'uno de los otros critic ha mencion que despues de ver sol 1 oz episodi , estar enganch . tien razon , ya que esto es exact lo que suced conmig . la primer cos que me golpe sobr oz fue su brutal y sus escen de violenci inconfi , que se encuentr a la derech de la palabr . conf en mi , este no es un espectacul par los debil de corazon o tim . este espectacul no extra punzon con respect a las drog , el sex o la violenci . es hardcor , en el uso clasic de la palabr . se llam oz , ya que es el apod dad al penitenciari del estad de segur maxim de oswald . se centr principal en la ciud de emerald , una seccion experimental de la prision dond tod las celul tien frent de vidri y se enfrent haci adentr , por lo que la privac no es alta en la agend . em city es el hog de much ... fariari , musulman , gangst , latin , cristian , italian , irlandes y mas ... asi que las espos , las mir de muert , las relacion peligr y los acuerd sombr nunc estan lej . yo dir el principal atract de el espectacul se deb al hech de que va dond otros espectacul no se atrev . olvidat de las imagen bonit pint par las audienci convencional , olvid el encant , olvid el romanc ... oz no se met . el prim episodi que he vist me sorprend tan desagrad que fue surreal , no pod dec que estab list par ello , per cuand observ mas , desarroll un gust por oz , y me acostumbr a los altos nivel de violenci grafic . no sol la violenci , sin la injustici ( guardi torc que se vendran por un niquel , los reclus que se mat en orden y se alej con el , de maner educ , los reclus de clas medi se convirt en perr de la prision deb a su falt de habil callejer o experient en la prision ) viend oz , pued sent comod con lo que es incomod visualiz ... eso es si pued ponert en contact con tu lad mas oscur .'"
            ],
            "application/vnd.google.colaboratory.intrinsic+json": {
              "type": "string"
            }
          },
          "metadata": {},
          "execution_count": 5
        }
      ]
    },
    {
      "cell_type": "code",
      "source": [
        "ds_train_copy['review_es'] = ds_train_x_stemmed\n",
        "ds_train_copy.head()"
      ],
      "metadata": {
        "colab": {
          "base_uri": "https://localhost:8080/",
          "height": 206
        },
        "id": "ts4VqwqHS8wn",
        "outputId": "d07630d9-39c0-4d09-dc74-337c70f8eb9d"
      },
      "execution_count": null,
      "outputs": [
        {
          "output_type": "execute_result",
          "data": {
            "text/plain": [
              "   ID                                          review_es sentimiento\n",
              "0   0  uno de los otros critic ha mencion que despues...    positivo\n",
              "1   1  una pequeñ pequeñ produccion.l tecnic de filma...    positivo\n",
              "2   2  pens que esta era una maner maravill de pas ti...    positivo\n",
              "3   3  basic , hay una famili dond un niñ pequeñ ( ja...    negativo\n",
              "4   4  el `` amor en el tiemp '' de pett mattei es un...    positivo"
            ],
            "text/html": [
              "\n",
              "  <div id=\"df-7234949d-ba10-4733-9cd2-7d1b63605b29\" class=\"colab-df-container\">\n",
              "    <div>\n",
              "<style scoped>\n",
              "    .dataframe tbody tr th:only-of-type {\n",
              "        vertical-align: middle;\n",
              "    }\n",
              "\n",
              "    .dataframe tbody tr th {\n",
              "        vertical-align: top;\n",
              "    }\n",
              "\n",
              "    .dataframe thead th {\n",
              "        text-align: right;\n",
              "    }\n",
              "</style>\n",
              "<table border=\"1\" class=\"dataframe\">\n",
              "  <thead>\n",
              "    <tr style=\"text-align: right;\">\n",
              "      <th></th>\n",
              "      <th>ID</th>\n",
              "      <th>review_es</th>\n",
              "      <th>sentimiento</th>\n",
              "    </tr>\n",
              "  </thead>\n",
              "  <tbody>\n",
              "    <tr>\n",
              "      <th>0</th>\n",
              "      <td>0</td>\n",
              "      <td>uno de los otros critic ha mencion que despues...</td>\n",
              "      <td>positivo</td>\n",
              "    </tr>\n",
              "    <tr>\n",
              "      <th>1</th>\n",
              "      <td>1</td>\n",
              "      <td>una pequeñ pequeñ produccion.l tecnic de filma...</td>\n",
              "      <td>positivo</td>\n",
              "    </tr>\n",
              "    <tr>\n",
              "      <th>2</th>\n",
              "      <td>2</td>\n",
              "      <td>pens que esta era una maner maravill de pas ti...</td>\n",
              "      <td>positivo</td>\n",
              "    </tr>\n",
              "    <tr>\n",
              "      <th>3</th>\n",
              "      <td>3</td>\n",
              "      <td>basic , hay una famili dond un niñ pequeñ ( ja...</td>\n",
              "      <td>negativo</td>\n",
              "    </tr>\n",
              "    <tr>\n",
              "      <th>4</th>\n",
              "      <td>4</td>\n",
              "      <td>el `` amor en el tiemp '' de pett mattei es un...</td>\n",
              "      <td>positivo</td>\n",
              "    </tr>\n",
              "  </tbody>\n",
              "</table>\n",
              "</div>\n",
              "    <div class=\"colab-df-buttons\">\n",
              "\n",
              "  <div class=\"colab-df-container\">\n",
              "    <button class=\"colab-df-convert\" onclick=\"convertToInteractive('df-7234949d-ba10-4733-9cd2-7d1b63605b29')\"\n",
              "            title=\"Convert this dataframe to an interactive table.\"\n",
              "            style=\"display:none;\">\n",
              "\n",
              "  <svg xmlns=\"http://www.w3.org/2000/svg\" height=\"24px\" viewBox=\"0 -960 960 960\">\n",
              "    <path d=\"M120-120v-720h720v720H120Zm60-500h600v-160H180v160Zm220 220h160v-160H400v160Zm0 220h160v-160H400v160ZM180-400h160v-160H180v160Zm440 0h160v-160H620v160ZM180-180h160v-160H180v160Zm440 0h160v-160H620v160Z\"/>\n",
              "  </svg>\n",
              "    </button>\n",
              "\n",
              "  <style>\n",
              "    .colab-df-container {\n",
              "      display:flex;\n",
              "      gap: 12px;\n",
              "    }\n",
              "\n",
              "    .colab-df-convert {\n",
              "      background-color: #E8F0FE;\n",
              "      border: none;\n",
              "      border-radius: 50%;\n",
              "      cursor: pointer;\n",
              "      display: none;\n",
              "      fill: #1967D2;\n",
              "      height: 32px;\n",
              "      padding: 0 0 0 0;\n",
              "      width: 32px;\n",
              "    }\n",
              "\n",
              "    .colab-df-convert:hover {\n",
              "      background-color: #E2EBFA;\n",
              "      box-shadow: 0px 1px 2px rgba(60, 64, 67, 0.3), 0px 1px 3px 1px rgba(60, 64, 67, 0.15);\n",
              "      fill: #174EA6;\n",
              "    }\n",
              "\n",
              "    .colab-df-buttons div {\n",
              "      margin-bottom: 4px;\n",
              "    }\n",
              "\n",
              "    [theme=dark] .colab-df-convert {\n",
              "      background-color: #3B4455;\n",
              "      fill: #D2E3FC;\n",
              "    }\n",
              "\n",
              "    [theme=dark] .colab-df-convert:hover {\n",
              "      background-color: #434B5C;\n",
              "      box-shadow: 0px 1px 3px 1px rgba(0, 0, 0, 0.15);\n",
              "      filter: drop-shadow(0px 1px 2px rgba(0, 0, 0, 0.3));\n",
              "      fill: #FFFFFF;\n",
              "    }\n",
              "  </style>\n",
              "\n",
              "    <script>\n",
              "      const buttonEl =\n",
              "        document.querySelector('#df-7234949d-ba10-4733-9cd2-7d1b63605b29 button.colab-df-convert');\n",
              "      buttonEl.style.display =\n",
              "        google.colab.kernel.accessAllowed ? 'block' : 'none';\n",
              "\n",
              "      async function convertToInteractive(key) {\n",
              "        const element = document.querySelector('#df-7234949d-ba10-4733-9cd2-7d1b63605b29');\n",
              "        const dataTable =\n",
              "          await google.colab.kernel.invokeFunction('convertToInteractive',\n",
              "                                                    [key], {});\n",
              "        if (!dataTable) return;\n",
              "\n",
              "        const docLinkHtml = 'Like what you see? Visit the ' +\n",
              "          '<a target=\"_blank\" href=https://colab.research.google.com/notebooks/data_table.ipynb>data table notebook</a>'\n",
              "          + ' to learn more about interactive tables.';\n",
              "        element.innerHTML = '';\n",
              "        dataTable['output_type'] = 'display_data';\n",
              "        await google.colab.output.renderOutput(dataTable, element);\n",
              "        const docLink = document.createElement('div');\n",
              "        docLink.innerHTML = docLinkHtml;\n",
              "        element.appendChild(docLink);\n",
              "      }\n",
              "    </script>\n",
              "  </div>\n",
              "\n",
              "\n",
              "<div id=\"df-0f82c0b1-ec83-430e-a0c9-bde402776ba7\">\n",
              "  <button class=\"colab-df-quickchart\" onclick=\"quickchart('df-0f82c0b1-ec83-430e-a0c9-bde402776ba7')\"\n",
              "            title=\"Suggest charts\"\n",
              "            style=\"display:none;\">\n",
              "\n",
              "<svg xmlns=\"http://www.w3.org/2000/svg\" height=\"24px\"viewBox=\"0 0 24 24\"\n",
              "     width=\"24px\">\n",
              "    <g>\n",
              "        <path d=\"M19 3H5c-1.1 0-2 .9-2 2v14c0 1.1.9 2 2 2h14c1.1 0 2-.9 2-2V5c0-1.1-.9-2-2-2zM9 17H7v-7h2v7zm4 0h-2V7h2v10zm4 0h-2v-4h2v4z\"/>\n",
              "    </g>\n",
              "</svg>\n",
              "  </button>\n",
              "\n",
              "<style>\n",
              "  .colab-df-quickchart {\n",
              "      --bg-color: #E8F0FE;\n",
              "      --fill-color: #1967D2;\n",
              "      --hover-bg-color: #E2EBFA;\n",
              "      --hover-fill-color: #174EA6;\n",
              "      --disabled-fill-color: #AAA;\n",
              "      --disabled-bg-color: #DDD;\n",
              "  }\n",
              "\n",
              "  [theme=dark] .colab-df-quickchart {\n",
              "      --bg-color: #3B4455;\n",
              "      --fill-color: #D2E3FC;\n",
              "      --hover-bg-color: #434B5C;\n",
              "      --hover-fill-color: #FFFFFF;\n",
              "      --disabled-bg-color: #3B4455;\n",
              "      --disabled-fill-color: #666;\n",
              "  }\n",
              "\n",
              "  .colab-df-quickchart {\n",
              "    background-color: var(--bg-color);\n",
              "    border: none;\n",
              "    border-radius: 50%;\n",
              "    cursor: pointer;\n",
              "    display: none;\n",
              "    fill: var(--fill-color);\n",
              "    height: 32px;\n",
              "    padding: 0;\n",
              "    width: 32px;\n",
              "  }\n",
              "\n",
              "  .colab-df-quickchart:hover {\n",
              "    background-color: var(--hover-bg-color);\n",
              "    box-shadow: 0 1px 2px rgba(60, 64, 67, 0.3), 0 1px 3px 1px rgba(60, 64, 67, 0.15);\n",
              "    fill: var(--button-hover-fill-color);\n",
              "  }\n",
              "\n",
              "  .colab-df-quickchart-complete:disabled,\n",
              "  .colab-df-quickchart-complete:disabled:hover {\n",
              "    background-color: var(--disabled-bg-color);\n",
              "    fill: var(--disabled-fill-color);\n",
              "    box-shadow: none;\n",
              "  }\n",
              "\n",
              "  .colab-df-spinner {\n",
              "    border: 2px solid var(--fill-color);\n",
              "    border-color: transparent;\n",
              "    border-bottom-color: var(--fill-color);\n",
              "    animation:\n",
              "      spin 1s steps(1) infinite;\n",
              "  }\n",
              "\n",
              "  @keyframes spin {\n",
              "    0% {\n",
              "      border-color: transparent;\n",
              "      border-bottom-color: var(--fill-color);\n",
              "      border-left-color: var(--fill-color);\n",
              "    }\n",
              "    20% {\n",
              "      border-color: transparent;\n",
              "      border-left-color: var(--fill-color);\n",
              "      border-top-color: var(--fill-color);\n",
              "    }\n",
              "    30% {\n",
              "      border-color: transparent;\n",
              "      border-left-color: var(--fill-color);\n",
              "      border-top-color: var(--fill-color);\n",
              "      border-right-color: var(--fill-color);\n",
              "    }\n",
              "    40% {\n",
              "      border-color: transparent;\n",
              "      border-right-color: var(--fill-color);\n",
              "      border-top-color: var(--fill-color);\n",
              "    }\n",
              "    60% {\n",
              "      border-color: transparent;\n",
              "      border-right-color: var(--fill-color);\n",
              "    }\n",
              "    80% {\n",
              "      border-color: transparent;\n",
              "      border-right-color: var(--fill-color);\n",
              "      border-bottom-color: var(--fill-color);\n",
              "    }\n",
              "    90% {\n",
              "      border-color: transparent;\n",
              "      border-bottom-color: var(--fill-color);\n",
              "    }\n",
              "  }\n",
              "</style>\n",
              "\n",
              "  <script>\n",
              "    async function quickchart(key) {\n",
              "      const quickchartButtonEl =\n",
              "        document.querySelector('#' + key + ' button');\n",
              "      quickchartButtonEl.disabled = true;  // To prevent multiple clicks.\n",
              "      quickchartButtonEl.classList.add('colab-df-spinner');\n",
              "      try {\n",
              "        const charts = await google.colab.kernel.invokeFunction(\n",
              "            'suggestCharts', [key], {});\n",
              "      } catch (error) {\n",
              "        console.error('Error during call to suggestCharts:', error);\n",
              "      }\n",
              "      quickchartButtonEl.classList.remove('colab-df-spinner');\n",
              "      quickchartButtonEl.classList.add('colab-df-quickchart-complete');\n",
              "    }\n",
              "    (() => {\n",
              "      let quickchartButtonEl =\n",
              "        document.querySelector('#df-0f82c0b1-ec83-430e-a0c9-bde402776ba7 button');\n",
              "      quickchartButtonEl.style.display =\n",
              "        google.colab.kernel.accessAllowed ? 'block' : 'none';\n",
              "    })();\n",
              "  </script>\n",
              "</div>\n",
              "    </div>\n",
              "  </div>\n"
            ]
          },
          "metadata": {},
          "execution_count": 11
        }
      ]
    },
    {
      "cell_type": "code",
      "source": [
        "ds_train_copy.to_csv('/content/drive/MyDrive/Tp_Datos_2023_2°/TP2/datasets/train_con_stemming_aplicado.csv')"
      ],
      "metadata": {
        "id": "N7o_o-8jSGY5"
      },
      "execution_count": null,
      "outputs": []
    },
    {
      "cell_type": "markdown",
      "metadata": {
        "id": "wio1rSiEZLjz"
      },
      "source": [
        "## Realizamos una division de train para pruebas"
      ]
    },
    {
      "cell_type": "code",
      "execution_count": null,
      "metadata": {
        "id": "1fJNByoNAVI5"
      },
      "outputs": [],
      "source": [
        "#Division del dataset\n",
        "ds_train_x = ds_train['review_es']\n",
        "ds_train_y = ds_train['sentimiento']"
      ]
    },
    {
      "cell_type": "markdown",
      "metadata": {
        "id": "Leqq7nQ6cQT8"
      },
      "source": [
        "### Aplicamos el train_test_split"
      ]
    },
    {
      "cell_type": "code",
      "execution_count": null,
      "metadata": {
        "id": "X4Wlem3_ZQX0"
      },
      "outputs": [],
      "source": [
        "x_train, x_test, y_train, y_test = train_test_split(ds_train_x,\n",
        "                                                    ds_train_y,\n",
        "                                                    test_size=0.30,\n",
        "                                                    random_state = 99)"
      ]
    },
    {
      "cell_type": "markdown",
      "metadata": {
        "id": "KBeaAZyWcghP"
      },
      "source": [
        "## Bayes Naïve"
      ]
    },
    {
      "cell_type": "markdown",
      "metadata": {
        "id": "oPsYGwP0grnd"
      },
      "source": [
        "### Creamos un primer modelo con CountVectorizer()\n",
        "\n",
        "A continuación creamos un modelo básico preprocesando con CountVectorizer (Utilizando los hiperparámetros por defecto)"
      ]
    },
    {
      "cell_type": "code",
      "execution_count": null,
      "metadata": {
        "id": "9FpXb0R_ddCX"
      },
      "outputs": [],
      "source": [
        "model = make_pipeline(CountVectorizer(), MultinomialNB())\n",
        "model.fit(x_train, y_train)\n",
        "y_pred = model.predict(x_test)"
      ]
    },
    {
      "cell_type": "code",
      "execution_count": null,
      "metadata": {
        "colab": {
          "base_uri": "https://localhost:8080/"
        },
        "id": "bbZ-WRlYgPJv",
        "outputId": "5255241a-fbf7-4668-a465-ea7d9b672f60"
      },
      "outputs": [
        {
          "name": "stdout",
          "output_type": "stream",
          "text": [
            "              precision    recall  f1-score   support\n",
            "\n",
            "    negativo       0.83      0.88      0.85      7489\n",
            "    positivo       0.87      0.81      0.84      7511\n",
            "\n",
            "    accuracy                           0.85     15000\n",
            "   macro avg       0.85      0.85      0.85     15000\n",
            "weighted avg       0.85      0.85      0.85     15000\n",
            "\n"
          ]
        }
      ],
      "source": [
        "print(classification_report(y_test,y_pred))"
      ]
    },
    {
      "cell_type": "code",
      "execution_count": null,
      "metadata": {
        "colab": {
          "base_uri": "https://localhost:8080/",
          "height": 466
        },
        "id": "JBngFjp5gc1Q",
        "outputId": "2aabf332-dc21-41b7-ce92-f1e2eca13308"
      },
      "outputs": [
        {
          "data": {
            "text/plain": [
              "Text(50.722222222222214, 0.5, 'Valores reales')"
            ]
          },
          "execution_count": 10,
          "metadata": {},
          "output_type": "execute_result"
        },
        {
          "data": {
            "image/png": "[encoded data removed]",
            "text/plain": [
              "<Figure size 640x480 with 2 Axes>"
            ]
          },
          "metadata": {},
          "output_type": "display_data"
        }
      ],
      "source": [
        "#Creo la matriz de confusión\n",
        "tabla=confusion_matrix(y_test, y_pred)\n",
        "\n",
        "#Grafico la matriz de confusión\n",
        "sns.heatmap(tabla,cmap='GnBu',annot=True,fmt='g')\n",
        "plt.xlabel('Valores predichos')\n",
        "plt.ylabel('Valores reales')"
      ]
    },
    {
      "cell_type": "markdown",
      "metadata": {
        "id": "P4xqt5ywgx3X"
      },
      "source": [
        "### Creamos otro modelo, esta vez con TfidfVectorizer()"
      ]
    },
    {
      "cell_type": "code",
      "execution_count": null,
      "metadata": {
        "id": "bZXUHuhPgxj2"
      },
      "outputs": [],
      "source": [
        "model = make_pipeline(TfidfVectorizer(), MultinomialNB())\n",
        "model.fit(x_train, y_train)\n",
        "y_pred = model.predict(x_test)"
      ]
    },
    {
      "cell_type": "code",
      "execution_count": null,
      "metadata": {
        "colab": {
          "base_uri": "https://localhost:8080/"
        },
        "id": "FXPrxgWchIBn",
        "outputId": "77a3ffbd-fcd6-4444-a093-98ddd0ce4847"
      },
      "outputs": [
        {
          "name": "stdout",
          "output_type": "stream",
          "text": [
            "              precision    recall  f1-score   support\n",
            "\n",
            "    negativo       0.85      0.88      0.86      7489\n",
            "    positivo       0.87      0.85      0.86      7511\n",
            "\n",
            "    accuracy                           0.86     15000\n",
            "   macro avg       0.86      0.86      0.86     15000\n",
            "weighted avg       0.86      0.86      0.86     15000\n",
            "\n"
          ]
        }
      ],
      "source": [
        "print(classification_report(y_test,y_pred))"
      ]
    },
    {
      "cell_type": "markdown",
      "source": [
        "Observamos una leve mejoría respecto a CountVectorizer tanto en accuracy como en el balance de negativas/positivas correctamente predichas."
      ],
      "metadata": {
        "id": "acve_E4uwCHz"
      }
    },
    {
      "cell_type": "code",
      "execution_count": null,
      "metadata": {
        "colab": {
          "base_uri": "https://localhost:8080/",
          "height": 466
        },
        "id": "2F3VDJh_hGLX",
        "outputId": "532319ad-d202-42ac-bd88-cdaf1816d8cd"
      },
      "outputs": [
        {
          "data": {
            "text/plain": [
              "Text(50.722222222222214, 0.5, 'Valores reales')"
            ]
          },
          "execution_count": 13,
          "metadata": {},
          "output_type": "execute_result"
        },
        {
          "data": {
            "image/png": "[encoded data removed]",
            "text/plain": [
              "<Figure size 640x480 with 2 Axes>"
            ]
          },
          "metadata": {},
          "output_type": "display_data"
        }
      ],
      "source": [
        "#Creo la matriz de confusión\n",
        "tabla=confusion_matrix(y_test, y_pred)\n",
        "\n",
        "#Grafico la matriz de confusión\n",
        "sns.heatmap(tabla,cmap='GnBu',annot=True,fmt='g')\n",
        "plt.xlabel('Valores predichos')\n",
        "plt.ylabel('Valores reales')"
      ]
    },
    {
      "cell_type": "markdown",
      "metadata": {
        "id": "goY16cLfCcEP"
      },
      "source": [
        "### También probamos con HashingVectorizer"
      ]
    },
    {
      "cell_type": "code",
      "execution_count": null,
      "metadata": {
        "id": "Aq7umYf8Cfsu"
      },
      "outputs": [],
      "source": [
        "model = make_pipeline(HashingVectorizer(alternate_sign=False), MultinomialNB())\n",
        "model.fit(x_train, y_train)\n",
        "y_pred = model.predict(x_test)"
      ]
    },
    {
      "cell_type": "code",
      "execution_count": null,
      "metadata": {
        "colab": {
          "base_uri": "https://localhost:8080/"
        },
        "id": "kVJY10-iEl57",
        "outputId": "2367b7a6-25cd-47c7-ae80-cb6f3e508959"
      },
      "outputs": [
        {
          "name": "stdout",
          "output_type": "stream",
          "text": [
            "              precision    recall  f1-score   support\n",
            "\n",
            "    negativo       0.81      0.91      0.86      7489\n",
            "    positivo       0.89      0.79      0.84      7511\n",
            "\n",
            "    accuracy                           0.85     15000\n",
            "   macro avg       0.85      0.85      0.85     15000\n",
            "weighted avg       0.85      0.85      0.85     15000\n",
            "\n"
          ]
        }
      ],
      "source": [
        "print(classification_report(y_test,y_pred))"
      ]
    },
    {
      "cell_type": "markdown",
      "source": [
        "Con HashingVectorizer obtuvimos una precisión de predicción mas alta que TfidfVectorizer para reseñas positivas, pero esto llega a un pequeño desbalance entre clases. Por lo tanto, decidimos que para el preprocesamiento utilizaremos TfidfVectorizer."
      ],
      "metadata": {
        "id": "TeeLWyeGwrU6"
      }
    },
    {
      "cell_type": "code",
      "execution_count": null,
      "metadata": {
        "colab": {
          "base_uri": "https://localhost:8080/",
          "height": 466
        },
        "id": "8gDealGUEv65",
        "outputId": "b373776c-a217-44c2-d7e1-4a3ada5feaf9"
      },
      "outputs": [
        {
          "data": {
            "text/plain": [
              "Text(50.722222222222214, 0.5, 'Valores reales')"
            ]
          },
          "execution_count": 31,
          "metadata": {},
          "output_type": "execute_result"
        },
        {
          "data": {
            "image/png": "[encoded data removed]",
            "text/plain": [
              "<Figure size 640x480 with 2 Axes>"
            ]
          },
          "metadata": {},
          "output_type": "display_data"
        }
      ],
      "source": [
        "#Creo la matriz de confusión\n",
        "tabla=confusion_matrix(y_test, y_pred)\n",
        "\n",
        "#Grafico la matriz de confusión\n",
        "sns.heatmap(tabla,cmap='GnBu',annot=True,fmt='g')\n",
        "plt.xlabel('Valores predichos')\n",
        "plt.ylabel('Valores reales')"
      ]
    },
    {
      "cell_type": "markdown",
      "metadata": {
        "id": "ttZnatZRCJ4A"
      },
      "source": [
        "Realizamos una predicción del dataset test"
      ]
    },
    {
      "cell_type": "code",
      "execution_count": null,
      "metadata": {
        "id": "Jd8ulVD7COOo"
      },
      "outputs": [],
      "source": [
        "model = make_pipeline(TfidfVectorizer(), MultinomialNB())\n",
        "model.fit(ds_train_x, ds_train_y)\n",
        "y_pred = model.predict(ds_test['review_es'])"
      ]
    },
    {
      "cell_type": "code",
      "execution_count": null,
      "metadata": {
        "colab": {
          "base_uri": "https://localhost:8080/"
        },
        "id": "SUXqcqOlCksH",
        "outputId": "599ddf4c-a12e-4948-acae-f33585726024"
      },
      "outputs": [
        {
          "data": {
            "text/plain": [
              "array(['negativo', 'negativo', 'negativo', ..., 'positivo', 'negativo',\n",
              "       'negativo'], dtype='<U8')"
            ]
          },
          "execution_count": 15,
          "metadata": {},
          "output_type": "execute_result"
        }
      ],
      "source": [
        "y_pred"
      ]
    },
    {
      "cell_type": "code",
      "execution_count": null,
      "metadata": {
        "id": "9So2YWpSC2Lg"
      },
      "outputs": [],
      "source": [
        "submission_modelo_basico = pd.DataFrame({'ID': ds_test['ID'], 'sentimiento': y_pred})\n",
        "submission_modelo_basico.to_csv('/content/drive/MyDrive/Tp_Datos_2023_2°/TP2/submissions/submission_modelo_basico.csv', index=False)"
      ]
    },
    {
      "cell_type": "code",
      "execution_count": null,
      "metadata": {
        "colab": {
          "base_uri": "https://localhost:8080/"
        },
        "id": "kCRztxNuDUmX",
        "outputId": "96aee7a0-ae90-4123-ceaf-748d2a4bdd9d"
      },
      "outputs": [
        {
          "name": "stdout",
          "output_type": "stream",
          "text": [
            "<class 'pandas.core.frame.DataFrame'>\n",
            "RangeIndex: 8599 entries, 0 to 8598\n",
            "Data columns (total 2 columns):\n",
            " #   Column       Non-Null Count  Dtype \n",
            "---  ------       --------------  ----- \n",
            " 0   ID           8599 non-null   int64 \n",
            " 1   sentimiento  8599 non-null   object\n",
            "dtypes: int64(1), object(1)\n",
            "memory usage: 134.5+ KB\n"
          ]
        }
      ],
      "source": [
        "submission_modelo_basico.info()"
      ]
    },
    {
      "cell_type": "markdown",
      "metadata": {
        "id": "4PY4ArzYS_Ye"
      },
      "source": [
        "Guardamos el modelo"
      ]
    },
    {
      "cell_type": "code",
      "execution_count": null,
      "metadata": {
        "colab": {
          "base_uri": "https://localhost:8080/"
        },
        "id": "UwZ5iMzyDXkn",
        "outputId": "1ec5d8f9-8a77-4a04-fc54-1ce6185fc531"
      },
      "outputs": [
        {
          "data": {
            "text/plain": [
              "['/content/drive/MyDrive/Tp_Datos_2023_2°/TP2/modelos/modelo_basico.joblib']"
            ]
          },
          "execution_count": 19,
          "metadata": {},
          "output_type": "execute_result"
        }
      ],
      "source": [
        "dump(model, '/content/drive/MyDrive/Tp_Datos_2023_2°/TP2/modelos/modelo_basico.joblib')"
      ]
    },
    {
      "cell_type": "markdown",
      "metadata": {
        "id": "aVtxyg5O64t1"
      },
      "source": [
        "### Optimizamos hiperparámetros\n"
      ]
    },
    {
      "cell_type": "markdown",
      "source": [
        "Buscamos los mejores hiperparámetros tanto para TfidfVectorizer como para Bayes Naive con RandomizedSearchCV"
      ],
      "metadata": {
        "id": "fauDe_OpxFHo"
      }
    },
    {
      "cell_type": "markdown",
      "metadata": {
        "id": "gIuHKqCnBhSv"
      },
      "source": [
        "#### Utilizando TfidfVectorizer"
      ]
    },
    {
      "cell_type": "code",
      "execution_count": null,
      "metadata": {
        "colab": {
          "base_uri": "https://localhost:8080/"
        },
        "id": "3FiNA6LW67U2",
        "outputId": "64c8be68-7ce0-4e1e-80f5-8b2d41853e64"
      },
      "outputs": [
        {
          "name": "stdout",
          "output_type": "stream",
          "text": [
            "Fitting 4 folds for each of 10 candidates, totalling 40 fits\n",
            "[CV 1/4] END multinomialnb__alpha=1.5, multinomialnb__fit_prior=True, tfidfvectorizer__lowercase=True, tfidfvectorizer__strip_accents=None;, score=0.855 total time=  11.4s\n",
            "[CV 2/4] END multinomialnb__alpha=1.5, multinomialnb__fit_prior=True, tfidfvectorizer__lowercase=True, tfidfvectorizer__strip_accents=None;, score=0.852 total time=  12.4s\n",
            "[CV 3/4] END multinomialnb__alpha=1.5, multinomialnb__fit_prior=True, tfidfvectorizer__lowercase=True, tfidfvectorizer__strip_accents=None;, score=0.855 total time=  13.4s\n",
            "[CV 4/4] END multinomialnb__alpha=1.5, multinomialnb__fit_prior=True, tfidfvectorizer__lowercase=True, tfidfvectorizer__strip_accents=None;, score=0.854 total time=  12.9s\n",
            "[CV 1/4] END multinomialnb__alpha=2.0, multinomialnb__fit_prior=False, tfidfvectorizer__lowercase=True, tfidfvectorizer__strip_accents=ascii;, score=0.854 total time=  13.5s\n",
            "[CV 2/4] END multinomialnb__alpha=2.0, multinomialnb__fit_prior=False, tfidfvectorizer__lowercase=True, tfidfvectorizer__strip_accents=ascii;, score=0.850 total time=  13.4s\n",
            "[CV 3/4] END multinomialnb__alpha=2.0, multinomialnb__fit_prior=False, tfidfvectorizer__lowercase=True, tfidfvectorizer__strip_accents=ascii;, score=0.853 total time=  24.1s\n",
            "[CV 4/4] END multinomialnb__alpha=2.0, multinomialnb__fit_prior=False, tfidfvectorizer__lowercase=True, tfidfvectorizer__strip_accents=ascii;, score=0.852 total time=  13.2s\n",
            "[CV 1/4] END multinomialnb__alpha=1.5, multinomialnb__fit_prior=False, tfidfvectorizer__lowercase=True, tfidfvectorizer__strip_accents=None;, score=0.855 total time=  13.9s\n",
            "[CV 2/4] END multinomialnb__alpha=1.5, multinomialnb__fit_prior=False, tfidfvectorizer__lowercase=True, tfidfvectorizer__strip_accents=None;, score=0.852 total time=  11.3s\n",
            "[CV 3/4] END multinomialnb__alpha=1.5, multinomialnb__fit_prior=False, tfidfvectorizer__lowercase=True, tfidfvectorizer__strip_accents=None;, score=0.855 total time=  12.5s\n",
            "[CV 4/4] END multinomialnb__alpha=1.5, multinomialnb__fit_prior=False, tfidfvectorizer__lowercase=True, tfidfvectorizer__strip_accents=None;, score=0.854 total time=  12.8s\n",
            "[CV 1/4] END multinomialnb__alpha=1.0, multinomialnb__fit_prior=False, tfidfvectorizer__lowercase=False, tfidfvectorizer__strip_accents=ascii;, score=0.857 total time=  13.4s\n",
            "[CV 2/4] END multinomialnb__alpha=1.0, multinomialnb__fit_prior=False, tfidfvectorizer__lowercase=False, tfidfvectorizer__strip_accents=ascii;, score=0.853 total time=  14.9s\n",
            "[CV 3/4] END multinomialnb__alpha=1.0, multinomialnb__fit_prior=False, tfidfvectorizer__lowercase=False, tfidfvectorizer__strip_accents=ascii;, score=0.857 total time=  13.5s\n",
            "[CV 4/4] END multinomialnb__alpha=1.0, multinomialnb__fit_prior=False, tfidfvectorizer__lowercase=False, tfidfvectorizer__strip_accents=ascii;, score=0.856 total time=  13.6s\n",
            "[CV 1/4] END multinomialnb__alpha=1.5, multinomialnb__fit_prior=False, tfidfvectorizer__lowercase=True, tfidfvectorizer__strip_accents=ascii;, score=0.855 total time=  13.5s\n",
            "[CV 2/4] END multinomialnb__alpha=1.5, multinomialnb__fit_prior=False, tfidfvectorizer__lowercase=True, tfidfvectorizer__strip_accents=ascii;, score=0.851 total time=  13.6s\n",
            "[CV 3/4] END multinomialnb__alpha=1.5, multinomialnb__fit_prior=False, tfidfvectorizer__lowercase=True, tfidfvectorizer__strip_accents=ascii;, score=0.855 total time=  13.6s\n",
            "[CV 4/4] END multinomialnb__alpha=1.5, multinomialnb__fit_prior=False, tfidfvectorizer__lowercase=True, tfidfvectorizer__strip_accents=ascii;, score=0.854 total time=  13.3s\n",
            "[CV 1/4] END multinomialnb__alpha=1.5, multinomialnb__fit_prior=False, tfidfvectorizer__lowercase=False, tfidfvectorizer__strip_accents=None;, score=0.853 total time=  12.4s\n",
            "[CV 2/4] END multinomialnb__alpha=1.5, multinomialnb__fit_prior=False, tfidfvectorizer__lowercase=False, tfidfvectorizer__strip_accents=None;, score=0.850 total time=  12.8s\n",
            "[CV 3/4] END multinomialnb__alpha=1.5, multinomialnb__fit_prior=False, tfidfvectorizer__lowercase=False, tfidfvectorizer__strip_accents=None;, score=0.856 total time=  11.7s\n",
            "[CV 4/4] END multinomialnb__alpha=1.5, multinomialnb__fit_prior=False, tfidfvectorizer__lowercase=False, tfidfvectorizer__strip_accents=None;, score=0.855 total time=  12.0s\n",
            "[CV 1/4] END multinomialnb__alpha=1.5, multinomialnb__fit_prior=True, tfidfvectorizer__lowercase=False, tfidfvectorizer__strip_accents=ascii;, score=0.855 total time=  13.5s\n",
            "[CV 2/4] END multinomialnb__alpha=1.5, multinomialnb__fit_prior=True, tfidfvectorizer__lowercase=False, tfidfvectorizer__strip_accents=ascii;, score=0.850 total time=  13.5s\n",
            "[CV 3/4] END multinomialnb__alpha=1.5, multinomialnb__fit_prior=True, tfidfvectorizer__lowercase=False, tfidfvectorizer__strip_accents=ascii;, score=0.855 total time=  13.5s\n",
            "[CV 4/4] END multinomialnb__alpha=1.5, multinomialnb__fit_prior=True, tfidfvectorizer__lowercase=False, tfidfvectorizer__strip_accents=ascii;, score=0.854 total time=  13.5s\n",
            "[CV 1/4] END multinomialnb__alpha=0.5, multinomialnb__fit_prior=False, tfidfvectorizer__lowercase=True, tfidfvectorizer__strip_accents=None;, score=0.855 total time=  13.0s\n",
            "[CV 2/4] END multinomialnb__alpha=0.5, multinomialnb__fit_prior=False, tfidfvectorizer__lowercase=True, tfidfvectorizer__strip_accents=None;, score=0.856 total time=  12.6s\n",
            "[CV 3/4] END multinomialnb__alpha=0.5, multinomialnb__fit_prior=False, tfidfvectorizer__lowercase=True, tfidfvectorizer__strip_accents=None;, score=0.859 total time=  12.5s\n",
            "[CV 4/4] END multinomialnb__alpha=0.5, multinomialnb__fit_prior=False, tfidfvectorizer__lowercase=True, tfidfvectorizer__strip_accents=None;, score=0.857 total time=  12.7s\n",
            "[CV 1/4] END multinomialnb__alpha=1.0, multinomialnb__fit_prior=False, tfidfvectorizer__lowercase=True, tfidfvectorizer__strip_accents=None;, score=0.855 total time=  12.6s\n",
            "[CV 2/4] END multinomialnb__alpha=1.0, multinomialnb__fit_prior=False, tfidfvectorizer__lowercase=True, tfidfvectorizer__strip_accents=None;, score=0.854 total time=  11.5s\n",
            "[CV 3/4] END multinomialnb__alpha=1.0, multinomialnb__fit_prior=False, tfidfvectorizer__lowercase=True, tfidfvectorizer__strip_accents=None;, score=0.858 total time=  12.2s\n",
            "[CV 4/4] END multinomialnb__alpha=1.0, multinomialnb__fit_prior=False, tfidfvectorizer__lowercase=True, tfidfvectorizer__strip_accents=None;, score=0.854 total time=  12.9s\n",
            "[CV 1/4] END multinomialnb__alpha=0.5, multinomialnb__fit_prior=False, tfidfvectorizer__lowercase=False, tfidfvectorizer__strip_accents=ascii;, score=0.855 total time=  13.4s\n",
            "[CV 2/4] END multinomialnb__alpha=0.5, multinomialnb__fit_prior=False, tfidfvectorizer__lowercase=False, tfidfvectorizer__strip_accents=ascii;, score=0.856 total time=  13.5s\n",
            "[CV 3/4] END multinomialnb__alpha=0.5, multinomialnb__fit_prior=False, tfidfvectorizer__lowercase=False, tfidfvectorizer__strip_accents=ascii;, score=0.857 total time=  13.5s\n",
            "[CV 4/4] END multinomialnb__alpha=0.5, multinomialnb__fit_prior=False, tfidfvectorizer__lowercase=False, tfidfvectorizer__strip_accents=ascii;, score=0.857 total time=  13.5s\n",
            "Mejores hiperparámetros encontrados:\n",
            "{'tfidfvectorizer__strip_accents': None, 'tfidfvectorizer__lowercase': True, 'multinomialnb__fit_prior': False, 'multinomialnb__alpha': 0.5}\n",
            "F1-score con mejores hiperparámetros: 0.85666\n"
          ]
        }
      ],
      "source": [
        "clasificador = make_pipeline(TfidfVectorizer(), MultinomialNB())\n",
        "\n",
        "\n",
        "param_dist = {\n",
        "    'multinomialnb__alpha': [0.1, 0.5, 1.0, 1.5, 2.0],\n",
        "    'multinomialnb__fit_prior': [True, False],\n",
        "    'tfidfvectorizer__strip_accents': ['ascii', None],\n",
        "    'tfidfvectorizer__lowercase': [True, False]\n",
        "}\n",
        "\n",
        "\n",
        "random_search = RandomizedSearchCV(clasificador,\n",
        "                                   scoring='f1_micro',\n",
        "                                   param_distributions=param_dist,\n",
        "                                   n_iter=15,\n",
        "                                   cv=4,\n",
        "                                   n_jobs=1,\n",
        "                                   random_state=99,\n",
        "                                   verbose=4)\n",
        "\n",
        "\n",
        "random_search.fit(ds_train_x, ds_train_y)\n",
        "\n",
        "print(\"Mejores hiperparámetros encontrados:\")\n",
        "print(random_search.best_params_)\n",
        "\n",
        "print(\"F1-score con mejores hiperparámetros:\", random_search.best_score_)"
      ]
    },
    {
      "cell_type": "code",
      "execution_count": null,
      "metadata": {
        "id": "VrvMNzK1-SbE"
      },
      "outputs": [],
      "source": [
        "best_estimator = random_search.best_estimator_"
      ]
    },
    {
      "cell_type": "code",
      "execution_count": null,
      "metadata": {
        "id": "riWWBJLn-dnj"
      },
      "outputs": [],
      "source": [
        "best_estimator.fit(ds_train_x, ds_train_y)\n",
        "y_pred_optimizado = best_estimator.predict(ds_test['review_es'])"
      ]
    },
    {
      "cell_type": "markdown",
      "metadata": {
        "id": "8XFEmiyABrFm"
      },
      "source": [
        "#### Utilizando HashingVectorizer"
      ]
    },
    {
      "cell_type": "code",
      "execution_count": null,
      "metadata": {
        "colab": {
          "base_uri": "https://localhost:8080/"
        },
        "id": "adXuPhMkBuCw",
        "outputId": "f4359044-ec7b-4c14-e1b0-aa76a15286bb"
      },
      "outputs": [
        {
          "name": "stdout",
          "output_type": "stream",
          "text": [
            "Fitting 4 folds for each of 15 candidates, totalling 60 fits\n",
            "[CV 1/4] END hashingvectorizer__lowercase=False, hashingvectorizer__strip_accents=ascii, multinomialnb__alpha=1.0, multinomialnb__fit_prior=False;, score=0.843 total time=  10.9s\n",
            "[CV 2/4] END hashingvectorizer__lowercase=False, hashingvectorizer__strip_accents=ascii, multinomialnb__alpha=1.0, multinomialnb__fit_prior=False;, score=0.835 total time=   8.8s\n",
            "[CV 3/4] END hashingvectorizer__lowercase=False, hashingvectorizer__strip_accents=ascii, multinomialnb__alpha=1.0, multinomialnb__fit_prior=False;, score=0.844 total time=  11.1s\n",
            "[CV 4/4] END hashingvectorizer__lowercase=False, hashingvectorizer__strip_accents=ascii, multinomialnb__alpha=1.0, multinomialnb__fit_prior=False;, score=0.841 total time=  11.0s\n",
            "[CV 1/4] END hashingvectorizer__lowercase=False, hashingvectorizer__strip_accents=None, multinomialnb__alpha=1.5, multinomialnb__fit_prior=True;, score=0.839 total time=   9.4s\n",
            "[CV 2/4] END hashingvectorizer__lowercase=False, hashingvectorizer__strip_accents=None, multinomialnb__alpha=1.5, multinomialnb__fit_prior=True;, score=0.827 total time=   9.2s\n",
            "[CV 3/4] END hashingvectorizer__lowercase=False, hashingvectorizer__strip_accents=None, multinomialnb__alpha=1.5, multinomialnb__fit_prior=True;, score=0.837 total time=  10.5s\n",
            "[CV 4/4] END hashingvectorizer__lowercase=False, hashingvectorizer__strip_accents=None, multinomialnb__alpha=1.5, multinomialnb__fit_prior=True;, score=0.833 total time=  11.0s\n",
            "[CV 1/4] END hashingvectorizer__lowercase=False, hashingvectorizer__strip_accents=ascii, multinomialnb__alpha=2.0, multinomialnb__fit_prior=False;, score=0.836 total time=   8.9s\n",
            "[CV 2/4] END hashingvectorizer__lowercase=False, hashingvectorizer__strip_accents=ascii, multinomialnb__alpha=2.0, multinomialnb__fit_prior=False;, score=0.825 total time=  12.4s\n",
            "[CV 3/4] END hashingvectorizer__lowercase=False, hashingvectorizer__strip_accents=ascii, multinomialnb__alpha=2.0, multinomialnb__fit_prior=False;, score=0.835 total time=  11.1s\n",
            "[CV 4/4] END hashingvectorizer__lowercase=False, hashingvectorizer__strip_accents=ascii, multinomialnb__alpha=2.0, multinomialnb__fit_prior=False;, score=0.831 total time=  10.9s\n",
            "[CV 1/4] END hashingvectorizer__lowercase=False, hashingvectorizer__strip_accents=ascii, multinomialnb__alpha=0.5, multinomialnb__fit_prior=True;, score=0.850 total time=   8.8s\n",
            "[CV 2/4] END hashingvectorizer__lowercase=False, hashingvectorizer__strip_accents=ascii, multinomialnb__alpha=0.5, multinomialnb__fit_prior=True;, score=0.843 total time=  11.0s\n",
            "[CV 3/4] END hashingvectorizer__lowercase=False, hashingvectorizer__strip_accents=ascii, multinomialnb__alpha=0.5, multinomialnb__fit_prior=True;, score=0.850 total time=  10.8s\n",
            "[CV 4/4] END hashingvectorizer__lowercase=False, hashingvectorizer__strip_accents=ascii, multinomialnb__alpha=0.5, multinomialnb__fit_prior=True;, score=0.848 total time=   9.7s\n",
            "[CV 1/4] END hashingvectorizer__lowercase=False, hashingvectorizer__strip_accents=ascii, multinomialnb__alpha=2.0, multinomialnb__fit_prior=True;, score=0.836 total time=  10.1s\n",
            "[CV 2/4] END hashingvectorizer__lowercase=False, hashingvectorizer__strip_accents=ascii, multinomialnb__alpha=2.0, multinomialnb__fit_prior=True;, score=0.825 total time=  11.1s\n",
            "[CV 3/4] END hashingvectorizer__lowercase=False, hashingvectorizer__strip_accents=ascii, multinomialnb__alpha=2.0, multinomialnb__fit_prior=True;, score=0.835 total time=  10.8s\n",
            "[CV 4/4] END hashingvectorizer__lowercase=False, hashingvectorizer__strip_accents=ascii, multinomialnb__alpha=2.0, multinomialnb__fit_prior=True;, score=0.831 total time=   8.8s\n",
            "[CV 1/4] END hashingvectorizer__lowercase=False, hashingvectorizer__strip_accents=None, multinomialnb__alpha=0.1, multinomialnb__fit_prior=False;, score=0.858 total time=  10.5s\n",
            "[CV 2/4] END hashingvectorizer__lowercase=False, hashingvectorizer__strip_accents=None, multinomialnb__alpha=0.1, multinomialnb__fit_prior=False;, score=0.855 total time=  10.3s\n",
            "[CV 3/4] END hashingvectorizer__lowercase=False, hashingvectorizer__strip_accents=None, multinomialnb__alpha=0.1, multinomialnb__fit_prior=False;, score=0.861 total time=   8.3s\n",
            "[CV 4/4] END hashingvectorizer__lowercase=False, hashingvectorizer__strip_accents=None, multinomialnb__alpha=0.1, multinomialnb__fit_prior=False;, score=0.858 total time=  10.5s\n",
            "[CV 1/4] END hashingvectorizer__lowercase=False, hashingvectorizer__strip_accents=ascii, multinomialnb__alpha=1.5, multinomialnb__fit_prior=True;, score=0.841 total time=  10.9s\n",
            "[CV 2/4] END hashingvectorizer__lowercase=False, hashingvectorizer__strip_accents=ascii, multinomialnb__alpha=1.5, multinomialnb__fit_prior=True;, score=0.830 total time=  10.0s\n",
            "[CV 3/4] END hashingvectorizer__lowercase=False, hashingvectorizer__strip_accents=ascii, multinomialnb__alpha=1.5, multinomialnb__fit_prior=True;, score=0.838 total time=   9.7s\n",
            "[CV 4/4] END hashingvectorizer__lowercase=False, hashingvectorizer__strip_accents=ascii, multinomialnb__alpha=1.5, multinomialnb__fit_prior=True;, score=0.835 total time=  11.0s\n",
            "[CV 1/4] END hashingvectorizer__lowercase=True, hashingvectorizer__strip_accents=None, multinomialnb__alpha=0.5, multinomialnb__fit_prior=False;, score=0.851 total time=  10.5s\n",
            "[CV 2/4] END hashingvectorizer__lowercase=True, hashingvectorizer__strip_accents=None, multinomialnb__alpha=0.5, multinomialnb__fit_prior=False;, score=0.842 total time=   8.5s\n",
            "[CV 3/4] END hashingvectorizer__lowercase=True, hashingvectorizer__strip_accents=None, multinomialnb__alpha=0.5, multinomialnb__fit_prior=False;, score=0.851 total time=  10.7s\n",
            "[CV 4/4] END hashingvectorizer__lowercase=True, hashingvectorizer__strip_accents=None, multinomialnb__alpha=0.5, multinomialnb__fit_prior=False;, score=0.848 total time=  10.5s\n",
            "[CV 1/4] END hashingvectorizer__lowercase=False, hashingvectorizer__strip_accents=ascii, multinomialnb__alpha=0.1, multinomialnb__fit_prior=False;, score=0.857 total time=   9.4s\n",
            "[CV 2/4] END hashingvectorizer__lowercase=False, hashingvectorizer__strip_accents=ascii, multinomialnb__alpha=0.1, multinomialnb__fit_prior=False;, score=0.854 total time=  10.4s\n",
            "[CV 3/4] END hashingvectorizer__lowercase=False, hashingvectorizer__strip_accents=ascii, multinomialnb__alpha=0.1, multinomialnb__fit_prior=False;, score=0.861 total time=  11.0s\n",
            "[CV 4/4] END hashingvectorizer__lowercase=False, hashingvectorizer__strip_accents=ascii, multinomialnb__alpha=0.1, multinomialnb__fit_prior=False;, score=0.859 total time=  10.9s\n",
            "[CV 1/4] END hashingvectorizer__lowercase=True, hashingvectorizer__strip_accents=None, multinomialnb__alpha=1.0, multinomialnb__fit_prior=True;, score=0.845 total time=   8.6s\n",
            "[CV 2/4] END hashingvectorizer__lowercase=True, hashingvectorizer__strip_accents=None, multinomialnb__alpha=1.0, multinomialnb__fit_prior=True;, score=0.835 total time=  10.7s\n",
            "[CV 3/4] END hashingvectorizer__lowercase=True, hashingvectorizer__strip_accents=None, multinomialnb__alpha=1.0, multinomialnb__fit_prior=True;, score=0.844 total time=  10.5s\n",
            "[CV 4/4] END hashingvectorizer__lowercase=True, hashingvectorizer__strip_accents=None, multinomialnb__alpha=1.0, multinomialnb__fit_prior=True;, score=0.841 total time=   8.6s\n",
            "[CV 1/4] END hashingvectorizer__lowercase=False, hashingvectorizer__strip_accents=ascii, multinomialnb__alpha=1.5, multinomialnb__fit_prior=False;, score=0.841 total time=  10.9s\n",
            "[CV 2/4] END hashingvectorizer__lowercase=False, hashingvectorizer__strip_accents=ascii, multinomialnb__alpha=1.5, multinomialnb__fit_prior=False;, score=0.830 total time=  11.0s\n",
            "[CV 3/4] END hashingvectorizer__lowercase=False, hashingvectorizer__strip_accents=ascii, multinomialnb__alpha=1.5, multinomialnb__fit_prior=False;, score=0.838 total time=  11.0s\n",
            "[CV 4/4] END hashingvectorizer__lowercase=False, hashingvectorizer__strip_accents=ascii, multinomialnb__alpha=1.5, multinomialnb__fit_prior=False;, score=0.835 total time=   8.8s\n",
            "[CV 1/4] END hashingvectorizer__lowercase=False, hashingvectorizer__strip_accents=None, multinomialnb__alpha=1.5, multinomialnb__fit_prior=False;, score=0.839 total time=  10.5s\n",
            "[CV 2/4] END hashingvectorizer__lowercase=False, hashingvectorizer__strip_accents=None, multinomialnb__alpha=1.5, multinomialnb__fit_prior=False;, score=0.827 total time=  10.2s\n",
            "[CV 3/4] END hashingvectorizer__lowercase=False, hashingvectorizer__strip_accents=None, multinomialnb__alpha=1.5, multinomialnb__fit_prior=False;, score=0.837 total time=   8.3s\n",
            "[CV 4/4] END hashingvectorizer__lowercase=False, hashingvectorizer__strip_accents=None, multinomialnb__alpha=1.5, multinomialnb__fit_prior=False;, score=0.833 total time=  10.5s\n",
            "[CV 1/4] END hashingvectorizer__lowercase=False, hashingvectorizer__strip_accents=None, multinomialnb__alpha=2.0, multinomialnb__fit_prior=True;, score=0.835 total time=  10.2s\n",
            "[CV 2/4] END hashingvectorizer__lowercase=False, hashingvectorizer__strip_accents=None, multinomialnb__alpha=2.0, multinomialnb__fit_prior=True;, score=0.823 total time=   8.2s\n",
            "[CV 3/4] END hashingvectorizer__lowercase=False, hashingvectorizer__strip_accents=None, multinomialnb__alpha=2.0, multinomialnb__fit_prior=True;, score=0.833 total time=  10.5s\n",
            "[CV 4/4] END hashingvectorizer__lowercase=False, hashingvectorizer__strip_accents=None, multinomialnb__alpha=2.0, multinomialnb__fit_prior=True;, score=0.829 total time=  10.2s\n",
            "[CV 1/4] END hashingvectorizer__lowercase=False, hashingvectorizer__strip_accents=None, multinomialnb__alpha=1.0, multinomialnb__fit_prior=True;, score=0.843 total time=   8.2s\n",
            "[CV 2/4] END hashingvectorizer__lowercase=False, hashingvectorizer__strip_accents=None, multinomialnb__alpha=1.0, multinomialnb__fit_prior=True;, score=0.832 total time=  10.4s\n",
            "[CV 3/4] END hashingvectorizer__lowercase=False, hashingvectorizer__strip_accents=None, multinomialnb__alpha=1.0, multinomialnb__fit_prior=True;, score=0.842 total time=  10.3s\n",
            "[CV 4/4] END hashingvectorizer__lowercase=False, hashingvectorizer__strip_accents=None, multinomialnb__alpha=1.0, multinomialnb__fit_prior=True;, score=0.839 total time=   8.3s\n",
            "[CV 1/4] END hashingvectorizer__lowercase=False, hashingvectorizer__strip_accents=ascii, multinomialnb__alpha=1.0, multinomialnb__fit_prior=True;, score=0.843 total time=  11.1s\n",
            "[CV 2/4] END hashingvectorizer__lowercase=False, hashingvectorizer__strip_accents=ascii, multinomialnb__alpha=1.0, multinomialnb__fit_prior=True;, score=0.835 total time=  11.0s\n",
            "[CV 3/4] END hashingvectorizer__lowercase=False, hashingvectorizer__strip_accents=ascii, multinomialnb__alpha=1.0, multinomialnb__fit_prior=True;, score=0.844 total time=  11.0s\n",
            "[CV 4/4] END hashingvectorizer__lowercase=False, hashingvectorizer__strip_accents=ascii, multinomialnb__alpha=1.0, multinomialnb__fit_prior=True;, score=0.841 total time=   8.8s\n",
            "Mejores hiperparámetros encontrados:\n",
            "{'multinomialnb__fit_prior': False, 'multinomialnb__alpha': 0.1, 'hashingvectorizer__strip_accents': 'ascii', 'hashingvectorizer__lowercase': False}\n",
            "F1-score con mejores hiperparámetros: 0.85778\n"
          ]
        }
      ],
      "source": [
        "clasificador = make_pipeline(HashingVectorizer(alternate_sign=False), MultinomialNB())\n",
        "\n",
        "\n",
        "param_dist = {\n",
        "    'multinomialnb__alpha': [0.1, 0.5, 1.0, 1.5, 2.0],\n",
        "    'multinomialnb__fit_prior': [True, False],\n",
        "    'hashingvectorizer__strip_accents': ['ascii', None],\n",
        "    'hashingvectorizer__lowercase': [True, False]\n",
        "}\n",
        "\n",
        "\n",
        "random_search = RandomizedSearchCV(clasificador,\n",
        "                                   scoring='f1_micro',\n",
        "                                   param_distributions=param_dist,\n",
        "                                   n_iter=15,\n",
        "                                   cv=4,\n",
        "                                   n_jobs=1,\n",
        "                                   random_state=99,\n",
        "                                   verbose=4)\n",
        "\n",
        "\n",
        "random_search.fit(ds_train_x, ds_train_y)\n",
        "\n",
        "print(\"Mejores hiperparámetros encontrados:\")\n",
        "print(random_search.best_params_)\n",
        "\n",
        "print(\"F1-score con mejores hiperparámetros:\", random_search.best_score_)"
      ]
    },
    {
      "cell_type": "code",
      "execution_count": null,
      "metadata": {
        "colab": {
          "base_uri": "https://localhost:8080/"
        },
        "id": "VQcKig-nJPi9",
        "outputId": "55f9910b-0145-4f32-925c-45a63cf79f92"
      },
      "outputs": [
        {
          "data": {
            "text/plain": [
              "['/content/drive/MyDrive/Tp_Datos_2023_2°/TP2/modelos/modelo_optimizado_hashvectorizer.joblib']"
            ]
          },
          "execution_count": 35,
          "metadata": {},
          "output_type": "execute_result"
        }
      ],
      "source": [
        "y_pred = random_search.predict(ds_test['review_es'])\n",
        "\n",
        "submission_modelo_optimizado = pd.DataFrame({'ID': ds_test['ID'], 'sentimiento': y_pred})\n",
        "submission_modelo_optimizado.to_csv('/content/drive/MyDrive/Tp_Datos_2023_2°/TP2/submissions/submission_modelo_optimizado_hashvectorizer.csv', index=False)\n",
        "\n",
        "dump(random_search.best_model_, '/content/drive/MyDrive/Tp_Datos_2023_2°/TP2/modelos/modelo_optimizado_hashvectorizer.joblib')"
      ]
    },
    {
      "cell_type": "markdown",
      "metadata": {
        "id": "htc686HRJePJ"
      },
      "source": [
        "### Utilizamos stop words importando nltk"
      ]
    },
    {
      "cell_type": "code",
      "execution_count": null,
      "metadata": {
        "id": "2472aKIOJ4u2"
      },
      "outputs": [],
      "source": [
        "stopwords = nltk.corpus.stopwords.words('spanish')"
      ]
    },
    {
      "cell_type": "code",
      "execution_count": null,
      "metadata": {
        "colab": {
          "base_uri": "https://localhost:8080/"
        },
        "id": "z-uDPDXWJ591",
        "outputId": "2e636850-e9e6-4a9f-cdd2-ab18c96fe258"
      },
      "outputs": [
        {
          "name": "stdout",
          "output_type": "stream",
          "text": [
            "['de', 'la', 'que', 'el', 'en', 'y', 'a', 'los', 'del', 'se', 'las', 'por', 'un', 'para', 'con', 'no', 'una', 'su', 'al', 'lo', 'como', 'más', 'pero', 'sus', 'le', 'ya', 'o', 'este', 'sí', 'porque', 'esta', 'entre', 'cuando', 'muy', 'sin', 'sobre', 'también', 'me', 'hasta', 'hay', 'donde', 'quien', 'desde', 'todo', 'nos', 'durante', 'todos', 'uno', 'les', 'ni', 'contra', 'otros', 'ese', 'eso', 'ante', 'ellos', 'e', 'esto', 'mí', 'antes', 'algunos', 'qué', 'unos', 'yo', 'otro', 'otras', 'otra', 'él', 'tanto', 'esa', 'estos', 'mucho', 'quienes', 'nada', 'muchos', 'cual', 'poco', 'ella', 'estar', 'estas', 'algunas', 'algo', 'nosotros', 'mi', 'mis', 'tú', 'te', 'ti', 'tu', 'tus', 'ellas', 'nosotras', 'vosotros', 'vosotras', 'os', 'mío', 'mía', 'míos', 'mías', 'tuyo', 'tuya', 'tuyos', 'tuyas', 'suyo', 'suya', 'suyos', 'suyas', 'nuestro', 'nuestra', 'nuestros', 'nuestras', 'vuestro', 'vuestra', 'vuestros', 'vuestras', 'esos', 'esas', 'estoy', 'estás', 'está', 'estamos', 'estáis', 'están', 'esté', 'estés', 'estemos', 'estéis', 'estén', 'estaré', 'estarás', 'estará', 'estaremos', 'estaréis', 'estarán', 'estaría', 'estarías', 'estaríamos', 'estaríais', 'estarían', 'estaba', 'estabas', 'estábamos', 'estabais', 'estaban', 'estuve', 'estuviste', 'estuvo', 'estuvimos', 'estuvisteis', 'estuvieron', 'estuviera', 'estuvieras', 'estuviéramos', 'estuvierais', 'estuvieran', 'estuviese', 'estuvieses', 'estuviésemos', 'estuvieseis', 'estuviesen', 'estando', 'estado', 'estada', 'estados', 'estadas', 'estad', 'he', 'has', 'ha', 'hemos', 'habéis', 'han', 'haya', 'hayas', 'hayamos', 'hayáis', 'hayan', 'habré', 'habrás', 'habrá', 'habremos', 'habréis', 'habrán', 'habría', 'habrías', 'habríamos', 'habríais', 'habrían', 'había', 'habías', 'habíamos', 'habíais', 'habían', 'hube', 'hubiste', 'hubo', 'hubimos', 'hubisteis', 'hubieron', 'hubiera', 'hubieras', 'hubiéramos', 'hubierais', 'hubieran', 'hubiese', 'hubieses', 'hubiésemos', 'hubieseis', 'hubiesen', 'habiendo', 'habido', 'habida', 'habidos', 'habidas', 'soy', 'eres', 'es', 'somos', 'sois', 'son', 'sea', 'seas', 'seamos', 'seáis', 'sean', 'seré', 'serás', 'será', 'seremos', 'seréis', 'serán', 'sería', 'serías', 'seríamos', 'seríais', 'serían', 'era', 'eras', 'éramos', 'erais', 'eran', 'fui', 'fuiste', 'fue', 'fuimos', 'fuisteis', 'fueron', 'fuera', 'fueras', 'fuéramos', 'fuerais', 'fueran', 'fuese', 'fueses', 'fuésemos', 'fueseis', 'fuesen', 'sintiendo', 'sentido', 'sentida', 'sentidos', 'sentidas', 'siente', 'sentid', 'tengo', 'tienes', 'tiene', 'tenemos', 'tenéis', 'tienen', 'tenga', 'tengas', 'tengamos', 'tengáis', 'tengan', 'tendré', 'tendrás', 'tendrá', 'tendremos', 'tendréis', 'tendrán', 'tendría', 'tendrías', 'tendríamos', 'tendríais', 'tendrían', 'tenía', 'tenías', 'teníamos', 'teníais', 'tenían', 'tuve', 'tuviste', 'tuvo', 'tuvimos', 'tuvisteis', 'tuvieron', 'tuviera', 'tuvieras', 'tuviéramos', 'tuvierais', 'tuvieran', 'tuviese', 'tuvieses', 'tuviésemos', 'tuvieseis', 'tuviesen', 'teniendo', 'tenido', 'tenida', 'tenidos', 'tenidas', 'tened']\n"
          ]
        }
      ],
      "source": [
        "print(stopwords)"
      ]
    },
    {
      "cell_type": "markdown",
      "metadata": {
        "id": "MWgBGjaDMjqv"
      },
      "source": [
        "Performance con stopwords de nltk:"
      ]
    },
    {
      "cell_type": "code",
      "execution_count": null,
      "metadata": {
        "colab": {
          "base_uri": "https://localhost:8080/"
        },
        "id": "RwxolBN1KJUJ",
        "outputId": "6f32095a-1eb2-4869-a60d-6f8b5d41ea13"
      },
      "outputs": [
        {
          "data": {
            "text/plain": [
              "array([0.8517, 0.8558, 0.8602, 0.8503, 0.8602])"
            ]
          },
          "execution_count": 29,
          "metadata": {},
          "output_type": "execute_result"
        }
      ],
      "source": [
        "model = make_pipeline(HashingVectorizer(stop_words = stopwords, alternate_sign=False), MultinomialNB())\n",
        "\n",
        "scores = cross_val_score(model, ds_train_x, ds_train_y, cv=5)\n",
        "scores"
      ]
    },
    {
      "cell_type": "markdown",
      "metadata": {
        "id": "Zz_if74kMnZA"
      },
      "source": [
        "Performance sin stopwords:"
      ]
    },
    {
      "cell_type": "code",
      "execution_count": null,
      "metadata": {
        "colab": {
          "base_uri": "https://localhost:8080/"
        },
        "id": "x_IglOIFMOUk",
        "outputId": "1802006d-32d5-4eac-a4bd-00ece3be1abc"
      },
      "outputs": [
        {
          "data": {
            "text/plain": [
              "array([0.8395, 0.837 , 0.8449, 0.8424, 0.8431])"
            ]
          },
          "execution_count": 31,
          "metadata": {},
          "output_type": "execute_result"
        }
      ],
      "source": [
        "model = make_pipeline(HashingVectorizer(alternate_sign=False), MultinomialNB())\n",
        "\n",
        "scores = cross_val_score(model, ds_train_x, ds_train_y, cv=5)\n",
        "scores"
      ]
    },
    {
      "cell_type": "markdown",
      "metadata": {
        "id": "N3fZri_lNuRF"
      },
      "source": [
        "Buscamos mejores hiperparámetros para un modelo con HashingVectorizer usando stopwords"
      ]
    },
    {
      "cell_type": "code",
      "execution_count": null,
      "metadata": {
        "colab": {
          "base_uri": "https://localhost:8080/"
        },
        "id": "LTZoTGPiN2dq",
        "outputId": "a98b5229-fc7e-49f6-cad5-c47501a3b8e7"
      },
      "outputs": [
        {
          "name": "stdout",
          "output_type": "stream",
          "text": [
            "Fitting 4 folds for each of 10 candidates, totalling 40 fits\n",
            "[CV 1/4] END hashingvectorizer__lowercase=True, hashingvectorizer__strip_accents=None, multinomialnb__alpha=0.30000000000000004, multinomialnb__fit_prior=False;, score=0.859 total time=  10.8s\n",
            "[CV 2/4] END hashingvectorizer__lowercase=True, hashingvectorizer__strip_accents=None, multinomialnb__alpha=0.30000000000000004, multinomialnb__fit_prior=False;, score=0.857 total time=  10.3s\n",
            "[CV 3/4] END hashingvectorizer__lowercase=True, hashingvectorizer__strip_accents=None, multinomialnb__alpha=0.30000000000000004, multinomialnb__fit_prior=False;, score=0.861 total time=   9.0s\n",
            "[CV 4/4] END hashingvectorizer__lowercase=True, hashingvectorizer__strip_accents=None, multinomialnb__alpha=0.30000000000000004, multinomialnb__fit_prior=False;, score=0.859 total time=  10.7s\n",
            "[CV 1/4] END hashingvectorizer__lowercase=False, hashingvectorizer__strip_accents=ascii, multinomialnb__alpha=1.7000000000000002, multinomialnb__fit_prior=False;, score=0.852 total time=  11.2s\n",
            "[CV 2/4] END hashingvectorizer__lowercase=False, hashingvectorizer__strip_accents=ascii, multinomialnb__alpha=1.7000000000000002, multinomialnb__fit_prior=False;, score=0.848 total time=   9.4s\n",
            "[CV 3/4] END hashingvectorizer__lowercase=False, hashingvectorizer__strip_accents=ascii, multinomialnb__alpha=1.7000000000000002, multinomialnb__fit_prior=False;, score=0.856 total time=  11.1s\n",
            "[CV 4/4] END hashingvectorizer__lowercase=False, hashingvectorizer__strip_accents=ascii, multinomialnb__alpha=1.7000000000000002, multinomialnb__fit_prior=False;, score=0.851 total time=  11.4s\n",
            "[CV 1/4] END hashingvectorizer__lowercase=False, hashingvectorizer__strip_accents=None, multinomialnb__alpha=1.4000000000000001, multinomialnb__fit_prior=False;, score=0.852 total time=  10.4s\n",
            "[CV 2/4] END hashingvectorizer__lowercase=False, hashingvectorizer__strip_accents=None, multinomialnb__alpha=1.4000000000000001, multinomialnb__fit_prior=False;, score=0.850 total time=   8.4s\n",
            "[CV 3/4] END hashingvectorizer__lowercase=False, hashingvectorizer__strip_accents=None, multinomialnb__alpha=1.4000000000000001, multinomialnb__fit_prior=False;, score=0.857 total time=  10.5s\n",
            "[CV 4/4] END hashingvectorizer__lowercase=False, hashingvectorizer__strip_accents=None, multinomialnb__alpha=1.4000000000000001, multinomialnb__fit_prior=False;, score=0.852 total time=  10.3s\n",
            "[CV 1/4] END hashingvectorizer__lowercase=False, hashingvectorizer__strip_accents=ascii, multinomialnb__alpha=0.8, multinomialnb__fit_prior=True;, score=0.853 total time=   9.2s\n",
            "[CV 2/4] END hashingvectorizer__lowercase=False, hashingvectorizer__strip_accents=ascii, multinomialnb__alpha=0.8, multinomialnb__fit_prior=True;, score=0.852 total time=  11.3s\n",
            "[CV 3/4] END hashingvectorizer__lowercase=False, hashingvectorizer__strip_accents=ascii, multinomialnb__alpha=0.8, multinomialnb__fit_prior=True;, score=0.859 total time=  11.3s\n",
            "[CV 4/4] END hashingvectorizer__lowercase=False, hashingvectorizer__strip_accents=ascii, multinomialnb__alpha=0.8, multinomialnb__fit_prior=True;, score=0.856 total time=  11.1s\n",
            "[CV 1/4] END hashingvectorizer__lowercase=True, hashingvectorizer__strip_accents=ascii, multinomialnb__alpha=0.5, multinomialnb__fit_prior=True;, score=0.858 total time=   9.2s\n",
            "[CV 2/4] END hashingvectorizer__lowercase=True, hashingvectorizer__strip_accents=ascii, multinomialnb__alpha=0.5, multinomialnb__fit_prior=True;, score=0.856 total time=  11.4s\n",
            "[CV 3/4] END hashingvectorizer__lowercase=True, hashingvectorizer__strip_accents=ascii, multinomialnb__alpha=0.5, multinomialnb__fit_prior=True;, score=0.859 total time=  11.4s\n",
            "[CV 4/4] END hashingvectorizer__lowercase=True, hashingvectorizer__strip_accents=ascii, multinomialnb__alpha=0.5, multinomialnb__fit_prior=True;, score=0.859 total time=  11.3s\n",
            "[CV 1/4] END hashingvectorizer__lowercase=False, hashingvectorizer__strip_accents=ascii, multinomialnb__alpha=1.1, multinomialnb__fit_prior=False;, score=0.853 total time=   9.1s\n",
            "[CV 2/4] END hashingvectorizer__lowercase=False, hashingvectorizer__strip_accents=ascii, multinomialnb__alpha=1.1, multinomialnb__fit_prior=False;, score=0.850 total time=  11.3s\n",
            "[CV 3/4] END hashingvectorizer__lowercase=False, hashingvectorizer__strip_accents=ascii, multinomialnb__alpha=1.1, multinomialnb__fit_prior=False;, score=0.857 total time=  11.3s\n",
            "[CV 4/4] END hashingvectorizer__lowercase=False, hashingvectorizer__strip_accents=ascii, multinomialnb__alpha=1.1, multinomialnb__fit_prior=False;, score=0.854 total time=  11.3s\n",
            "[CV 1/4] END hashingvectorizer__lowercase=True, hashingvectorizer__strip_accents=ascii, multinomialnb__alpha=0.30000000000000004, multinomialnb__fit_prior=True;, score=0.860 total time=   9.2s\n",
            "[CV 2/4] END hashingvectorizer__lowercase=True, hashingvectorizer__strip_accents=ascii, multinomialnb__alpha=0.30000000000000004, multinomialnb__fit_prior=True;, score=0.857 total time=  11.4s\n",
            "[CV 3/4] END hashingvectorizer__lowercase=True, hashingvectorizer__strip_accents=ascii, multinomialnb__alpha=0.30000000000000004, multinomialnb__fit_prior=True;, score=0.860 total time=  11.4s\n",
            "[CV 4/4] END hashingvectorizer__lowercase=True, hashingvectorizer__strip_accents=ascii, multinomialnb__alpha=0.30000000000000004, multinomialnb__fit_prior=True;, score=0.860 total time=  11.3s\n",
            "[CV 1/4] END hashingvectorizer__lowercase=True, hashingvectorizer__strip_accents=ascii, multinomialnb__alpha=0.9, multinomialnb__fit_prior=True;, score=0.857 total time=   9.3s\n",
            "[CV 2/4] END hashingvectorizer__lowercase=True, hashingvectorizer__strip_accents=ascii, multinomialnb__alpha=0.9, multinomialnb__fit_prior=True;, score=0.855 total time=  11.5s\n",
            "[CV 3/4] END hashingvectorizer__lowercase=True, hashingvectorizer__strip_accents=ascii, multinomialnb__alpha=0.9, multinomialnb__fit_prior=True;, score=0.859 total time=  11.4s\n",
            "[CV 4/4] END hashingvectorizer__lowercase=True, hashingvectorizer__strip_accents=ascii, multinomialnb__alpha=0.9, multinomialnb__fit_prior=True;, score=0.857 total time=  11.2s\n",
            "[CV 1/4] END hashingvectorizer__lowercase=False, hashingvectorizer__strip_accents=None, multinomialnb__alpha=0.7000000000000001, multinomialnb__fit_prior=True;, score=0.854 total time=   8.4s\n",
            "[CV 2/4] END hashingvectorizer__lowercase=False, hashingvectorizer__strip_accents=None, multinomialnb__alpha=0.7000000000000001, multinomialnb__fit_prior=True;, score=0.853 total time=  10.5s\n",
            "[CV 3/4] END hashingvectorizer__lowercase=False, hashingvectorizer__strip_accents=None, multinomialnb__alpha=0.7000000000000001, multinomialnb__fit_prior=True;, score=0.859 total time=  10.4s\n",
            "[CV 4/4] END hashingvectorizer__lowercase=False, hashingvectorizer__strip_accents=None, multinomialnb__alpha=0.7000000000000001, multinomialnb__fit_prior=True;, score=0.857 total time=   8.4s\n",
            "[CV 1/4] END hashingvectorizer__lowercase=True, hashingvectorizer__strip_accents=None, multinomialnb__alpha=1.4000000000000001, multinomialnb__fit_prior=False;, score=0.856 total time=  10.7s\n",
            "[CV 2/4] END hashingvectorizer__lowercase=True, hashingvectorizer__strip_accents=None, multinomialnb__alpha=1.4000000000000001, multinomialnb__fit_prior=False;, score=0.853 total time=  10.6s\n",
            "[CV 3/4] END hashingvectorizer__lowercase=True, hashingvectorizer__strip_accents=None, multinomialnb__alpha=1.4000000000000001, multinomialnb__fit_prior=False;, score=0.857 total time=   8.9s\n",
            "[CV 4/4] END hashingvectorizer__lowercase=True, hashingvectorizer__strip_accents=None, multinomialnb__alpha=1.4000000000000001, multinomialnb__fit_prior=False;, score=0.854 total time=  10.3s\n",
            "Mejores hiperparámetros encontrados:\n",
            "{'multinomialnb__fit_prior': True, 'multinomialnb__alpha': 0.30000000000000004, 'hashingvectorizer__strip_accents': 'ascii', 'hashingvectorizer__lowercase': True}\n",
            "F1-score con mejores hiperparámetros: 0.8592599999999999\n"
          ]
        }
      ],
      "source": [
        "clasificador = make_pipeline(HashingVectorizer(stop_words = stopwords, alternate_sign=False), MultinomialNB())\n",
        "\n",
        "\n",
        "param_dist = {\n",
        "    'multinomialnb__alpha': np.arange(0.1, 2.0, 0.1).tolist(),\n",
        "    'multinomialnb__fit_prior': [True, False],\n",
        "    'hashingvectorizer__strip_accents': ['ascii', None],\n",
        "    'hashingvectorizer__lowercase': [True, False]\n",
        "}\n",
        "\n",
        "\n",
        "random_search = RandomizedSearchCV(clasificador,\n",
        "                                   scoring='f1_micro',\n",
        "                                   param_distributions=param_dist,\n",
        "                                   n_iter=10,\n",
        "                                   cv=4,\n",
        "                                   n_jobs=1,\n",
        "                                   random_state=99,\n",
        "                                   verbose=4)\n",
        "\n",
        "\n",
        "random_search.fit(ds_train_x, ds_train_y)\n",
        "\n",
        "print(\"Mejores hiperparámetros encontrados:\")\n",
        "print(random_search.best_params_)\n",
        "\n",
        "print(\"F1-score con mejores hiperparámetros:\", random_search.best_score_)"
      ]
    },
    {
      "cell_type": "markdown",
      "source": [
        "###Realizamos una predicción con un train_test_split"
      ],
      "metadata": {
        "id": "lYAhLxBW1PjP"
      }
    },
    {
      "cell_type": "code",
      "source": [
        "mejor_modelo_nb = random_search.best_estimator_\n",
        "mejor_modelo_nb.fit(x_train, y_train)\n",
        "y_pred = mejor_modelo_nb.predict(x_test)"
      ],
      "metadata": {
        "id": "boN84Axj0NzS"
      },
      "execution_count": null,
      "outputs": []
    },
    {
      "cell_type": "code",
      "execution_count": null,
      "metadata": {
        "colab": {
          "base_uri": "https://localhost:8080/"
        },
        "outputId": "16a3164a-ba9b-4b93-fdc3-21ca3d09c190",
        "id": "osH_LZC80swk"
      },
      "outputs": [
        {
          "output_type": "stream",
          "name": "stdout",
          "text": [
            "              precision    recall  f1-score   support\n",
            "\n",
            "    negativo       0.86      0.87      0.87      7489\n",
            "    positivo       0.87      0.86      0.86      7511\n",
            "\n",
            "    accuracy                           0.87     15000\n",
            "   macro avg       0.87      0.87      0.87     15000\n",
            "weighted avg       0.87      0.87      0.87     15000\n",
            "\n"
          ]
        }
      ],
      "source": [
        "print(classification_report(y_test,y_pred))"
      ]
    },
    {
      "cell_type": "code",
      "execution_count": null,
      "metadata": {
        "colab": {
          "base_uri": "https://localhost:8080/",
          "height": 466
        },
        "outputId": "2580e2d7-745e-4189-d092-11f9124d8eeb",
        "id": "NfjCyQ4S0swm"
      },
      "outputs": [
        {
          "output_type": "execute_result",
          "data": {
            "text/plain": [
              "Text(50.722222222222214, 0.5, 'Valores reales')"
            ]
          },
          "metadata": {},
          "execution_count": 9
        },
        {
          "output_type": "display_data",
          "data": {
            "text/plain": [
              "<Figure size 640x480 with 2 Axes>"
            ],
            "image/png": "[encoded data removed]"
          },
          "metadata": {}
        }
      ],
      "source": [
        "#Creo la matriz de confusión\n",
        "tabla=confusion_matrix(y_test, y_pred)\n",
        "\n",
        "#Grafico la matriz de confusión\n",
        "sns.heatmap(tabla,cmap='GnBu',annot=True,fmt='g')\n",
        "plt.xlabel('Valores predichos')\n",
        "plt.ylabel('Valores reales')"
      ]
    },
    {
      "cell_type": "markdown",
      "source": [
        "### Realizamos una predicción del dataset de test, realizamos el submit a Kaggle y guardamos el modelo"
      ],
      "metadata": {
        "id": "LDR0Zv5s1fq_"
      }
    },
    {
      "cell_type": "code",
      "execution_count": null,
      "metadata": {
        "colab": {
          "base_uri": "https://localhost:8080/"
        },
        "id": "tBl3HYQ5Q2In",
        "outputId": "83886960-91b5-4935-c813-a7dcb1bb4833"
      },
      "outputs": [
        {
          "data": {
            "text/plain": [
              "['/content/drive/MyDrive/Tp_Datos_2023_2°/TP2/modelos/modelo_stopwords.joblib']"
            ]
          },
          "execution_count": 34,
          "metadata": {},
          "output_type": "execute_result"
        }
      ],
      "source": [
        "y_pred = random_search.predict(ds_test['review_es'])\n",
        "\n",
        "submission_modelo_stopwords = pd.DataFrame({'ID': ds_test['ID'], 'sentimiento': y_pred})\n",
        "submission_modelo_stopwords.to_csv('/content/drive/MyDrive/Tp_Datos_2023_2°/TP2/submissions/submission_modelo_stopwords.csv', index=False)\n",
        "\n",
        "dump(random_search, '/content/drive/MyDrive/Tp_Datos_2023_2°/TP2/modelos/modelo_stopwords.joblib')"
      ]
    },
    {
      "cell_type": "markdown",
      "source": [
        "### Realizamos otra predicción, esta vez con stemming aplicado"
      ],
      "metadata": {
        "id": "ujOWHevJTvem"
      }
    },
    {
      "cell_type": "code",
      "source": [
        "#Cargo el mejor modelo de naive bayes\n",
        "modelo = load('/content/drive/MyDrive/Tp_Datos_2023_2°/TP2/modelos/modelo_stopwords.joblib')\n",
        "#Vuelvo a entrenar el modelo, esta vez con los datos que ya tienen stemming aplicado\n",
        "modelo.best_estimator_.fit(ds_train_copy['review_es'], ds_train_copy['sentimiento'])"
      ],
      "metadata": {
        "colab": {
          "base_uri": "https://localhost:8080/",
          "height": 126
        },
        "id": "QKpdNVJjT00t",
        "outputId": "399c560b-cff4-4acc-9d73-51fe04dec7b4"
      },
      "execution_count": null,
      "outputs": [
        {
          "output_type": "execute_result",
          "data": {
            "text/plain": [
              "Pipeline(steps=[('hashingvectorizer',\n",
              "                 HashingVectorizer(alternate_sign=False,\n",
              "                                   stop_words=['de', 'la', 'que', 'el', 'en',\n",
              "                                               'y', 'a', 'los', 'del', 'se',\n",
              "                                               'las', 'por', 'un', 'para',\n",
              "                                               'con', 'no', 'una', 'su', 'al',\n",
              "                                               'lo', 'como', 'más', 'pero',\n",
              "                                               'sus', 'le', 'ya', 'o', 'este',\n",
              "                                               'sí', 'porque', ...],\n",
              "                                   strip_accents='ascii')),\n",
              "                ('multinomialnb', MultinomialNB(alpha=0.30000000000000004))])"
            ],
            "text/html": [
              "<style>#sk-container-id-2 {color: black;background-color: white;}#sk-container-id-2 pre{padding: 0;}#sk-container-id-2 div.sk-toggleable {background-color: white;}#sk-container-id-2 label.sk-toggleable__label {cursor: pointer;display: block;width: 100%;margin-bottom: 0;padding: 0.3em;box-sizing: border-box;text-align: center;}#sk-container-id-2 label.sk-toggleable__label-arrow:before {content: \"▸\";float: left;margin-right: 0.25em;color: #696969;}#sk-container-id-2 label.sk-toggleable__label-arrow:hover:before {color: black;}#sk-container-id-2 div.sk-estimator:hover label.sk-toggleable__label-arrow:before {color: black;}#sk-container-id-2 div.sk-toggleable__content {max-height: 0;max-width: 0;overflow: hidden;text-align: left;background-color: #f0f8ff;}#sk-container-id-2 div.sk-toggleable__content pre {margin: 0.2em;color: black;border-radius: 0.25em;background-color: #f0f8ff;}#sk-container-id-2 input.sk-toggleable__control:checked~div.sk-toggleable__content {max-height: 200px;max-width: 100%;overflow: auto;}#sk-container-id-2 input.sk-toggleable__control:checked~label.sk-toggleable__label-arrow:before {content: \"▾\";}#sk-container-id-2 div.sk-estimator input.sk-toggleable__control:checked~label.sk-toggleable__label {background-color: #d4ebff;}#sk-container-id-2 div.sk-label input.sk-toggleable__control:checked~label.sk-toggleable__label {background-color: #d4ebff;}#sk-container-id-2 input.sk-hidden--visually {border: 0;clip: rect(1px 1px 1px 1px);clip: rect(1px, 1px, 1px, 1px);height: 1px;margin: -1px;overflow: hidden;padding: 0;position: absolute;width: 1px;}#sk-container-id-2 div.sk-estimator {font-family: monospace;background-color: #f0f8ff;border: 1px dotted black;border-radius: 0.25em;box-sizing: border-box;margin-bottom: 0.5em;}#sk-container-id-2 div.sk-estimator:hover {background-color: #d4ebff;}#sk-container-id-2 div.sk-parallel-item::after {content: \"\";width: 100%;border-bottom: 1px solid gray;flex-grow: 1;}#sk-container-id-2 div.sk-label:hover label.sk-toggleable__label {background-color: #d4ebff;}#sk-container-id-2 div.sk-serial::before {content: \"\";position: absolute;border-left: 1px solid gray;box-sizing: border-box;top: 0;bottom: 0;left: 50%;z-index: 0;}#sk-container-id-2 div.sk-serial {display: flex;flex-direction: column;align-items: center;background-color: white;padding-right: 0.2em;padding-left: 0.2em;position: relative;}#sk-container-id-2 div.sk-item {position: relative;z-index: 1;}#sk-container-id-2 div.sk-parallel {display: flex;align-items: stretch;justify-content: center;background-color: white;position: relative;}#sk-container-id-2 div.sk-item::before, #sk-container-id-2 div.sk-parallel-item::before {content: \"\";position: absolute;border-left: 1px solid gray;box-sizing: border-box;top: 0;bottom: 0;left: 50%;z-index: -1;}#sk-container-id-2 div.sk-parallel-item {display: flex;flex-direction: column;z-index: 1;position: relative;background-color: white;}#sk-container-id-2 div.sk-parallel-item:first-child::after {align-self: flex-end;width: 50%;}#sk-container-id-2 div.sk-parallel-item:last-child::after {align-self: flex-start;width: 50%;}#sk-container-id-2 div.sk-parallel-item:only-child::after {width: 0;}#sk-container-id-2 div.sk-dashed-wrapped {border: 1px dashed gray;margin: 0 0.4em 0.5em 0.4em;box-sizing: border-box;padding-bottom: 0.4em;background-color: white;}#sk-container-id-2 div.sk-label label {font-family: monospace;font-weight: bold;display: inline-block;line-height: 1.2em;}#sk-container-id-2 div.sk-label-container {text-align: center;}#sk-container-id-2 div.sk-container {/* jupyter's `normalize.less` sets `[hidden] { display: none; }` but bootstrap.min.css set `[hidden] { display: none !important; }` so we also need the `!important` here to be able to override the default hidden behavior on the sphinx rendered scikit-learn.org. See: https://github.com/scikit-learn/scikit-learn/issues/21755 */display: inline-block !important;position: relative;}#sk-container-id-2 div.sk-text-repr-fallback {display: none;}</style><div id=\"sk-container-id-2\" class=\"sk-top-container\"><div class=\"sk-text-repr-fallback\"><pre>Pipeline(steps=[(&#x27;hashingvectorizer&#x27;,\n",
              "                 HashingVectorizer(alternate_sign=False,\n",
              "                                   stop_words=[&#x27;de&#x27;, &#x27;la&#x27;, &#x27;que&#x27;, &#x27;el&#x27;, &#x27;en&#x27;,\n",
              "                                               &#x27;y&#x27;, &#x27;a&#x27;, &#x27;los&#x27;, &#x27;del&#x27;, &#x27;se&#x27;,\n",
              "                                               &#x27;las&#x27;, &#x27;por&#x27;, &#x27;un&#x27;, &#x27;para&#x27;,\n",
              "                                               &#x27;con&#x27;, &#x27;no&#x27;, &#x27;una&#x27;, &#x27;su&#x27;, &#x27;al&#x27;,\n",
              "                                               &#x27;lo&#x27;, &#x27;como&#x27;, &#x27;más&#x27;, &#x27;pero&#x27;,\n",
              "                                               &#x27;sus&#x27;, &#x27;le&#x27;, &#x27;ya&#x27;, &#x27;o&#x27;, &#x27;este&#x27;,\n",
              "                                               &#x27;sí&#x27;, &#x27;porque&#x27;, ...],\n",
              "                                   strip_accents=&#x27;ascii&#x27;)),\n",
              "                (&#x27;multinomialnb&#x27;, MultinomialNB(alpha=0.30000000000000004))])</pre><b>In a Jupyter environment, please rerun this cell to show the HTML representation or trust the notebook. <br />On GitHub, the HTML representation is unable to render, please try loading this page with nbviewer.org.</b></div><div class=\"sk-container\" hidden><div class=\"sk-item sk-dashed-wrapped\"><div class=\"sk-label-container\"><div class=\"sk-label sk-toggleable\"><input class=\"sk-toggleable__control sk-hidden--visually\" id=\"sk-estimator-id-5\" type=\"checkbox\" ><label for=\"sk-estimator-id-5\" class=\"sk-toggleable__label sk-toggleable__label-arrow\">Pipeline</label><div class=\"sk-toggleable__content\"><pre>Pipeline(steps=[(&#x27;hashingvectorizer&#x27;,\n",
              "                 HashingVectorizer(alternate_sign=False,\n",
              "                                   stop_words=[&#x27;de&#x27;, &#x27;la&#x27;, &#x27;que&#x27;, &#x27;el&#x27;, &#x27;en&#x27;,\n",
              "                                               &#x27;y&#x27;, &#x27;a&#x27;, &#x27;los&#x27;, &#x27;del&#x27;, &#x27;se&#x27;,\n",
              "                                               &#x27;las&#x27;, &#x27;por&#x27;, &#x27;un&#x27;, &#x27;para&#x27;,\n",
              "                                               &#x27;con&#x27;, &#x27;no&#x27;, &#x27;una&#x27;, &#x27;su&#x27;, &#x27;al&#x27;,\n",
              "                                               &#x27;lo&#x27;, &#x27;como&#x27;, &#x27;más&#x27;, &#x27;pero&#x27;,\n",
              "                                               &#x27;sus&#x27;, &#x27;le&#x27;, &#x27;ya&#x27;, &#x27;o&#x27;, &#x27;este&#x27;,\n",
              "                                               &#x27;sí&#x27;, &#x27;porque&#x27;, ...],\n",
              "                                   strip_accents=&#x27;ascii&#x27;)),\n",
              "                (&#x27;multinomialnb&#x27;, MultinomialNB(alpha=0.30000000000000004))])</pre></div></div></div><div class=\"sk-serial\"><div class=\"sk-item\"><div class=\"sk-estimator sk-toggleable\"><input class=\"sk-toggleable__control sk-hidden--visually\" id=\"sk-estimator-id-6\" type=\"checkbox\" ><label for=\"sk-estimator-id-6\" class=\"sk-toggleable__label sk-toggleable__label-arrow\">HashingVectorizer</label><div class=\"sk-toggleable__content\"><pre>HashingVectorizer(alternate_sign=False,\n",
              "                  stop_words=[&#x27;de&#x27;, &#x27;la&#x27;, &#x27;que&#x27;, &#x27;el&#x27;, &#x27;en&#x27;, &#x27;y&#x27;, &#x27;a&#x27;, &#x27;los&#x27;,\n",
              "                              &#x27;del&#x27;, &#x27;se&#x27;, &#x27;las&#x27;, &#x27;por&#x27;, &#x27;un&#x27;, &#x27;para&#x27;, &#x27;con&#x27;,\n",
              "                              &#x27;no&#x27;, &#x27;una&#x27;, &#x27;su&#x27;, &#x27;al&#x27;, &#x27;lo&#x27;, &#x27;como&#x27;, &#x27;más&#x27;,\n",
              "                              &#x27;pero&#x27;, &#x27;sus&#x27;, &#x27;le&#x27;, &#x27;ya&#x27;, &#x27;o&#x27;, &#x27;este&#x27;, &#x27;sí&#x27;,\n",
              "                              &#x27;porque&#x27;, ...],\n",
              "                  strip_accents=&#x27;ascii&#x27;)</pre></div></div></div><div class=\"sk-item\"><div class=\"sk-estimator sk-toggleable\"><input class=\"sk-toggleable__control sk-hidden--visually\" id=\"sk-estimator-id-7\" type=\"checkbox\" ><label for=\"sk-estimator-id-7\" class=\"sk-toggleable__label sk-toggleable__label-arrow\">MultinomialNB</label><div class=\"sk-toggleable__content\"><pre>MultinomialNB(alpha=0.30000000000000004)</pre></div></div></div></div></div></div></div>"
            ]
          },
          "metadata": {},
          "execution_count": 16
        }
      ]
    },
    {
      "cell_type": "code",
      "source": [
        "y_pred = modelo.best_estimator_.predict(ds_test['review_es'])"
      ],
      "metadata": {
        "id": "jK03cNBBU2PJ"
      },
      "execution_count": null,
      "outputs": []
    },
    {
      "cell_type": "code",
      "source": [
        "submission_modelo_stemming = pd.DataFrame({'ID': ds_test['ID'], 'sentimiento': y_pred})\n",
        "submission_modelo_stemming.to_csv('/content/drive/MyDrive/Tp_Datos_2023_2°/TP2/submissions/submission_modelo_stemming.csv', index=False)\n",
        "\n",
        "dump(modelo.best_estimator_, '/content/drive/MyDrive/Tp_Datos_2023_2°/TP2/modelos/modelo_stemming.joblib')"
      ],
      "metadata": {
        "colab": {
          "base_uri": "https://localhost:8080/"
        },
        "id": "MB_Wqu2AU-1f",
        "outputId": "27d2f3c6-902a-460b-9e6e-8ef2ccdf78ec"
      },
      "execution_count": null,
      "outputs": [
        {
          "output_type": "execute_result",
          "data": {
            "text/plain": [
              "['/content/drive/MyDrive/Tp_Datos_2023_2°/TP2/modelos/modelo_stemming.joblib']"
            ]
          },
          "metadata": {},
          "execution_count": 20
        }
      ]
    },
    {
      "cell_type": "markdown",
      "metadata": {
        "id": "Hs3oxwgqmCzw"
      },
      "source": [
        "## RandomForest"
      ]
    },
    {
      "cell_type": "markdown",
      "source": [
        "Convertimos a numérico los valores de sentimientos binarios"
      ],
      "metadata": {
        "id": "CF857rhWjhfr"
      }
    },
    {
      "cell_type": "code",
      "execution_count": null,
      "metadata": {
        "id": "HkI8N9BemK6h"
      },
      "outputs": [],
      "source": [
        "y_train_bin = y_train.copy()\n",
        "y_train_bin = y_train_bin.map({'negativo': 0, 'positivo': 1})"
      ]
    },
    {
      "cell_type": "markdown",
      "source": [
        "Creamos un modelo de RandomForest básico (sin optimizar) en conjunto con TfIdfVectorizer, lo entrenamos y hacemos las predicciones"
      ],
      "metadata": {
        "id": "mqDyi55EjkJ3"
      }
    },
    {
      "cell_type": "code",
      "execution_count": null,
      "metadata": {
        "id": "Xhs1UEL2mK6h"
      },
      "outputs": [],
      "source": [
        "model = make_pipeline(TfidfVectorizer(), RandomForestClassifier(random_state=99))\n",
        "model.fit(x_train, y_train_bin)\n",
        "y_pred = model.predict(x_test)"
      ]
    },
    {
      "cell_type": "code",
      "execution_count": null,
      "metadata": {
        "colab": {
          "base_uri": "https://localhost:8080/"
        },
        "id": "ZSK9q3G3mK6h",
        "outputId": "9a4b3ae9-2b37-4732-d4e1-97238c4b1a7a"
      },
      "outputs": [
        {
          "name": "stdout",
          "output_type": "stream",
          "text": [
            "              precision    recall  f1-score   support\n",
            "\n",
            "           0       0.83      0.85      0.84      7489\n",
            "           1       0.85      0.82      0.83      7511\n",
            "\n",
            "    accuracy                           0.84     15000\n",
            "   macro avg       0.84      0.84      0.84     15000\n",
            "weighted avg       0.84      0.84      0.84     15000\n",
            "\n"
          ]
        }
      ],
      "source": [
        "y_test_bin = y_test.map({'negativo': 0, 'positivo': 1})\n",
        "print(classification_report(y_test_bin,y_pred))"
      ]
    },
    {
      "cell_type": "code",
      "execution_count": null,
      "metadata": {
        "colab": {
          "base_uri": "https://localhost:8080/",
          "height": 466
        },
        "id": "oOllE2uJmK6h",
        "outputId": "39392dce-754b-4237-d800-cf6368e45310"
      },
      "outputs": [
        {
          "data": {
            "text/plain": [
              "Text(50.722222222222214, 0.5, 'Valores reales')"
            ]
          },
          "execution_count": 49,
          "metadata": {},
          "output_type": "execute_result"
        },
        {
          "data": {
            "image/png": "[encoded data removed]",
            "text/plain": [
              "<Figure size 640x480 with 2 Axes>"
            ]
          },
          "metadata": {},
          "output_type": "display_data"
        }
      ],
      "source": [
        "#Creo la matriz de confusión\n",
        "tabla=confusion_matrix(y_test_bin, y_pred)\n",
        "\n",
        "#Grafico la matriz de confusión\n",
        "sns.heatmap(tabla,cmap='GnBu',annot=True,fmt='g')\n",
        "plt.xlabel('Valores predichos')\n",
        "plt.ylabel('Valores reales')"
      ]
    },
    {
      "cell_type": "markdown",
      "metadata": {
        "id": "hFToJW3iqk3U"
      },
      "source": [
        "#### Optimización de hiperparámetros de RandomForest en conjunto de TfIdfVectorizer\n"
      ]
    },
    {
      "cell_type": "markdown",
      "source": [
        "Obtenemos los stopwords en español"
      ],
      "metadata": {
        "id": "b5PnPutcjoD0"
      }
    },
    {
      "cell_type": "code",
      "execution_count": null,
      "metadata": {
        "colab": {
          "base_uri": "https://localhost:8080/"
        },
        "id": "LyUQKk4W9H1I",
        "outputId": "a0720855-4672-4a53-be2b-ce3eeb3ad315"
      },
      "outputs": [
        {
          "output_type": "stream",
          "name": "stderr",
          "text": [
            "[nltk_data] Downloading package stopwords to /root/nltk_data...\n",
            "[nltk_data]   Package stopwords is already up-to-date!\n"
          ]
        }
      ],
      "source": [
        "import nltk\n",
        "from nltk.corpus import stopwords\n",
        "\n",
        "# Descarga la lista de stopwords en español\n",
        "nltk.download('stopwords')\n",
        "\n",
        "# Obtiene la lista de stopwords en español\n",
        "spanish_stopwords = stopwords.words('spanish')"
      ]
    },
    {
      "cell_type": "markdown",
      "source": [
        "Hacemos la búsqueda de mejores hiperparámetros"
      ],
      "metadata": {
        "id": "DcObX9MAjp5M"
      }
    },
    {
      "cell_type": "code",
      "execution_count": null,
      "metadata": {
        "colab": {
          "base_uri": "https://localhost:8080/",
          "height": 660
        },
        "outputId": "18c5b636-9dd2-407b-9aba-61d2df1bb391",
        "id": "nyyhznuHjyuw"
      },
      "outputs": [
        {
          "name": "stdout",
          "output_type": "stream",
          "text": [
            "Mejores hiperparámetros: {'tfidfvectorizer__use_idf': True, 'tfidfvectorizer__sublinear_tf': False, 'tfidfvectorizer__strip_accents': 'unicode', 'tfidfvectorizer__smooth_idf': False, 'tfidfvectorizer__ngram_range': (2, 2), 'tfidfvectorizer__min_df': 2, 'tfidfvectorizer__max_features': 5000, 'tfidfvectorizer__max_df': 0.9, 'tfidfvectorizer__lowercase': False, 'randomforestclassifier__n_estimators': 180, 'randomforestclassifier__min_samples_split': 5, 'randomforestclassifier__min_samples_leaf': 4, 'randomforestclassifier__max_features': 'log2', 'randomforestclassifier__max_depth': 70, 'randomforestclassifier__criterion': 'entropy'}\n",
            "              precision    recall  f1-score   support\n",
            "\n",
            "    negativo       0.86      0.72      0.78      7489\n",
            "    positivo       0.76      0.89      0.82      7511\n",
            "\n",
            "    accuracy                           0.80     15000\n",
            "   macro avg       0.81      0.80      0.80     15000\n",
            "weighted avg       0.81      0.80      0.80     15000\n",
            "\n"
          ]
        },
        {
          "data": {
            "text/plain": [
              "Text(50.722222222222214, 0.5, 'Valores reales')"
            ]
          },
          "execution_count": 20,
          "metadata": {},
          "output_type": "execute_result"
        },
        {
          "data": {
            "image/png": "[encoded data removed]",
            "text/plain": [
              "<Figure size 640x480 with 2 Axes>"
            ]
          },
          "metadata": {},
          "output_type": "display_data"
        }
      ],
      "source": [
        "from sklearn.ensemble import RandomForestClassifier\n",
        "from sklearn.feature_extraction.text import TfidfVectorizer\n",
        "from sklearn.model_selection import RandomizedSearchCV\n",
        "from scipy.stats import randint\n",
        "from nltk.corpus import stopwords\n",
        "\n",
        "# Crear el modelo de RandomForest con TfidfVectorizer que incluye stopwords en español\n",
        "model = make_pipeline(\n",
        "    TfidfVectorizer(stop_words=spanish_stopwords),  # Establece la lista de stopwords en español\n",
        "    RandomForestClassifier(random_state=99)\n",
        ")\n",
        "\n",
        "# Definir el espacio de búsqueda de hiperparámetros para RandomForest\n",
        "param_dist_rf = {\n",
        "    'randomforestclassifier__n_estimators': [140, 160, 180, 200],\n",
        "    'randomforestclassifier__max_depth': [40, 50, 60, 70],\n",
        "    'randomforestclassifier__min_samples_split': [2, 5, 10],\n",
        "    'randomforestclassifier__min_samples_leaf': [1, 2, 4],\n",
        "    'randomforestclassifier__max_features': ['sqrt', 'log2'],\n",
        "    'randomforestclassifier__criterion': ['gini', 'entropy']\n",
        "}\n",
        "\n",
        "\n",
        "# Definir el espacio de búsqueda de hiperparámetros para TfidfVectorizer\n",
        "param_dist_tfidf = {\n",
        "    'tfidfvectorizer__strip_accents': [None, 'ascii', 'unicode'],\n",
        "    'tfidfvectorizer__lowercase': [True, False],\n",
        "    'tfidfvectorizer__ngram_range': [(1, 1), (1, 2), (2, 2)],\n",
        "    'tfidfvectorizer__max_df': [0.8, 0.9, 1.0],\n",
        "    'tfidfvectorizer__min_df': [1, 2, 3],\n",
        "    'tfidfvectorizer__max_features': [1000, 5000, 10000],\n",
        "    'tfidfvectorizer__use_idf': [True, False],\n",
        "    'tfidfvectorizer__smooth_idf': [True, False],\n",
        "    'tfidfvectorizer__sublinear_tf': [True, False]\n",
        "}\n",
        "# Realizar la búsqueda de hiperparámetros con RandomizedSearchCV\n",
        "random_search = RandomizedSearchCV(\n",
        "    model,\n",
        "    param_distributions={**param_dist_tfidf, **param_dist_rf},  # Combinar hiperparámetros\n",
        "    n_iter=10,\n",
        "    scoring='f1',\n",
        "    cv=10,\n",
        "    random_state=42,\n",
        "    n_jobs=-1\n",
        ")\n",
        "\n",
        "# ENTRENO CON MIS DATOS COMPLETOS ds_train\n",
        "random_search.fit(ds_train_x, ds_train_y)\n",
        "\n",
        "# Obtener el mejor modelo y sus hiperparámetros\n",
        "best_model = random_search.best_estimator_\n",
        "best_params = random_search.best_params_\n",
        "\n",
        "# Imprimir los mejores hiperparámetros\n",
        "print(\"Mejores hiperparámetros:\", best_params)\n",
        "\n",
        "#PREDIGO SOBRE MI DATASET COMPLETO DE TEST\n",
        "y_pred_kaggle_submission = best_model.predict(ds_test) # <--- PARA KAGGLE\n",
        "\n",
        "# Realizar predicciones en el conjunto de prueba para hacer el classificacion report\n",
        "y_pred_para_matriz_de_confusion = best_model.predict(x_test)  # <--- PARA LA MATRIZ DE CONFUSION Y EL CLASSIFICATION REPORT\n",
        "\n",
        "# Calcular el informe de clasificación\n",
        "print(classification_report(y_test, y_pred_para_matriz_de_confusion))\n",
        "\n",
        "#Creo la matriz de confusión\n",
        "\n",
        "tabla=confusion_matrix(y_test, y_pred_para_matriz_de_confusion)\n",
        "\n",
        "#Grafico la matriz de confusión\n",
        "sns.heatmap(tabla,cmap='GnBu',annot=True,fmt='g')\n",
        "plt.xlabel('Valores predichos')\n",
        "plt.ylabel('Valores reales')\n"
      ]
    },
    {
      "cell_type": "markdown",
      "source": [
        "Hacemos la prediccion para Kaggle"
      ],
      "metadata": {
        "id": "mGklLVNIj-2J"
      }
    },
    {
      "cell_type": "code",
      "execution_count": null,
      "metadata": {
        "colab": {
          "base_uri": "https://localhost:8080/",
          "height": 424
        },
        "id": "L6ZMKFTiNhgT",
        "outputId": "bd2df051-ba2f-4b51-e447-9f289af63b2a"
      },
      "outputs": [
        {
          "data": {
            "text/html": [
              "\n",
              "  <div id=\"df-29df84a8-6010-4984-bcc3-c96dbb3af8df\" class=\"colab-df-container\">\n",
              "    <div>\n",
              "<style scoped>\n",
              "    .dataframe tbody tr th:only-of-type {\n",
              "        vertical-align: middle;\n",
              "    }\n",
              "\n",
              "    .dataframe tbody tr th {\n",
              "        vertical-align: top;\n",
              "    }\n",
              "\n",
              "    .dataframe thead th {\n",
              "        text-align: right;\n",
              "    }\n",
              "</style>\n",
              "<table border=\"1\" class=\"dataframe\">\n",
              "  <thead>\n",
              "    <tr style=\"text-align: right;\">\n",
              "      <th></th>\n",
              "      <th>ID</th>\n",
              "      <th>review_es</th>\n",
              "    </tr>\n",
              "  </thead>\n",
              "  <tbody>\n",
              "    <tr>\n",
              "      <th>0</th>\n",
              "      <td>60000</td>\n",
              "      <td>La mayor virtud de esta película es su existen...</td>\n",
              "    </tr>\n",
              "    <tr>\n",
              "      <th>1</th>\n",
              "      <td>60001</td>\n",
              "      <td>No soy un experto cinéfilo, pero pocas veces m...</td>\n",
              "    </tr>\n",
              "    <tr>\n",
              "      <th>2</th>\n",
              "      <td>60002</td>\n",
              "      <td>Si no eres un incondicional del humor estilo T...</td>\n",
              "    </tr>\n",
              "    <tr>\n",
              "      <th>3</th>\n",
              "      <td>60003</td>\n",
              "      <td>No sé qué está pasando, si la gente se deja ll...</td>\n",
              "    </tr>\n",
              "    <tr>\n",
              "      <th>4</th>\n",
              "      <td>60004</td>\n",
              "      <td>Pero cuando amanece,y me quedo solo,siento en ...</td>\n",
              "    </tr>\n",
              "    <tr>\n",
              "      <th>...</th>\n",
              "      <td>...</td>\n",
              "      <td>...</td>\n",
              "    </tr>\n",
              "    <tr>\n",
              "      <th>8594</th>\n",
              "      <td>68594</td>\n",
              "      <td>Buena no, lo siguiente. Por fin un film serio ...</td>\n",
              "    </tr>\n",
              "    <tr>\n",
              "      <th>8595</th>\n",
              "      <td>68595</td>\n",
              "      <td>Me esperaba mucho, pero que mucho, más.Guión m...</td>\n",
              "    </tr>\n",
              "    <tr>\n",
              "      <th>8596</th>\n",
              "      <td>68596</td>\n",
              "      <td>De mal cuerpo como sensación al finalizar, de ...</td>\n",
              "    </tr>\n",
              "    <tr>\n",
              "      <th>8597</th>\n",
              "      <td>68597</td>\n",
              "      <td>Los que han añadido comentarios os lo han dich...</td>\n",
              "    </tr>\n",
              "    <tr>\n",
              "      <th>8598</th>\n",
              "      <td>68598</td>\n",
              "      <td>Fui a ver esta película de cine con entusiasmo...</td>\n",
              "    </tr>\n",
              "  </tbody>\n",
              "</table>\n",
              "<p>8599 rows × 2 columns</p>\n",
              "</div>\n",
              "    <div class=\"colab-df-buttons\">\n",
              "\n",
              "  <div class=\"colab-df-container\">\n",
              "    <button class=\"colab-df-convert\" onclick=\"convertToInteractive('df-29df84a8-6010-4984-bcc3-c96dbb3af8df')\"\n",
              "            title=\"Convert this dataframe to an interactive table.\"\n",
              "            style=\"display:none;\">\n",
              "\n",
              "  <svg xmlns=\"http://www.w3.org/2000/svg\" height=\"24px\" viewBox=\"0 -960 960 960\">\n",
              "    <path d=\"M120-120v-720h720v720H120Zm60-500h600v-160H180v160Zm220 220h160v-160H400v160Zm0 220h160v-160H400v160ZM180-400h160v-160H180v160Zm440 0h160v-160H620v160ZM180-180h160v-160H180v160Zm440 0h160v-160H620v160Z\"/>\n",
              "  </svg>\n",
              "    </button>\n",
              "\n",
              "  <style>\n",
              "    .colab-df-container {\n",
              "      display:flex;\n",
              "      gap: 12px;\n",
              "    }\n",
              "\n",
              "    .colab-df-convert {\n",
              "      background-color: #E8F0FE;\n",
              "      border: none;\n",
              "      border-radius: 50%;\n",
              "      cursor: pointer;\n",
              "      display: none;\n",
              "      fill: #1967D2;\n",
              "      height: 32px;\n",
              "      padding: 0 0 0 0;\n",
              "      width: 32px;\n",
              "    }\n",
              "\n",
              "    .colab-df-convert:hover {\n",
              "      background-color: #E2EBFA;\n",
              "      box-shadow: 0px 1px 2px rgba(60, 64, 67, 0.3), 0px 1px 3px 1px rgba(60, 64, 67, 0.15);\n",
              "      fill: #174EA6;\n",
              "    }\n",
              "\n",
              "    .colab-df-buttons div {\n",
              "      margin-bottom: 4px;\n",
              "    }\n",
              "\n",
              "    [theme=dark] .colab-df-convert {\n",
              "      background-color: #3B4455;\n",
              "      fill: #D2E3FC;\n",
              "    }\n",
              "\n",
              "    [theme=dark] .colab-df-convert:hover {\n",
              "      background-color: #434B5C;\n",
              "      box-shadow: 0px 1px 3px 1px rgba(0, 0, 0, 0.15);\n",
              "      filter: drop-shadow(0px 1px 2px rgba(0, 0, 0, 0.3));\n",
              "      fill: #FFFFFF;\n",
              "    }\n",
              "  </style>\n",
              "\n",
              "    <script>\n",
              "      const buttonEl =\n",
              "        document.querySelector('#df-29df84a8-6010-4984-bcc3-c96dbb3af8df button.colab-df-convert');\n",
              "      buttonEl.style.display =\n",
              "        google.colab.kernel.accessAllowed ? 'block' : 'none';\n",
              "\n",
              "      async function convertToInteractive(key) {\n",
              "        const element = document.querySelector('#df-29df84a8-6010-4984-bcc3-c96dbb3af8df');\n",
              "        const dataTable =\n",
              "          await google.colab.kernel.invokeFunction('convertToInteractive',\n",
              "                                                    [key], {});\n",
              "        if (!dataTable) return;\n",
              "\n",
              "        const docLinkHtml = 'Like what you see? Visit the ' +\n",
              "          '<a target=\"_blank\" href=https://colab.research.google.com/notebooks/data_table.ipynb>data table notebook</a>'\n",
              "          + ' to learn more about interactive tables.';\n",
              "        element.innerHTML = '';\n",
              "        dataTable['output_type'] = 'display_data';\n",
              "        await google.colab.output.renderOutput(dataTable, element);\n",
              "        const docLink = document.createElement('div');\n",
              "        docLink.innerHTML = docLinkHtml;\n",
              "        element.appendChild(docLink);\n",
              "      }\n",
              "    </script>\n",
              "  </div>\n",
              "\n",
              "\n",
              "<div id=\"df-f5f43f14-7534-46d4-ac34-cdd23c1fd61a\">\n",
              "  <button class=\"colab-df-quickchart\" onclick=\"quickchart('df-f5f43f14-7534-46d4-ac34-cdd23c1fd61a')\"\n",
              "            title=\"Suggest charts\"\n",
              "            style=\"display:none;\">\n",
              "\n",
              "<svg xmlns=\"http://www.w3.org/2000/svg\" height=\"24px\"viewBox=\"0 0 24 24\"\n",
              "     width=\"24px\">\n",
              "    <g>\n",
              "        <path d=\"M19 3H5c-1.1 0-2 .9-2 2v14c0 1.1.9 2 2 2h14c1.1 0 2-.9 2-2V5c0-1.1-.9-2-2-2zM9 17H7v-7h2v7zm4 0h-2V7h2v10zm4 0h-2v-4h2v4z\"/>\n",
              "    </g>\n",
              "</svg>\n",
              "  </button>\n",
              "\n",
              "<style>\n",
              "  .colab-df-quickchart {\n",
              "      --bg-color: #E8F0FE;\n",
              "      --fill-color: #1967D2;\n",
              "      --hover-bg-color: #E2EBFA;\n",
              "      --hover-fill-color: #174EA6;\n",
              "      --disabled-fill-color: #AAA;\n",
              "      --disabled-bg-color: #DDD;\n",
              "  }\n",
              "\n",
              "  [theme=dark] .colab-df-quickchart {\n",
              "      --bg-color: #3B4455;\n",
              "      --fill-color: #D2E3FC;\n",
              "      --hover-bg-color: #434B5C;\n",
              "      --hover-fill-color: #FFFFFF;\n",
              "      --disabled-bg-color: #3B4455;\n",
              "      --disabled-fill-color: #666;\n",
              "  }\n",
              "\n",
              "  .colab-df-quickchart {\n",
              "    background-color: var(--bg-color);\n",
              "    border: none;\n",
              "    border-radius: 50%;\n",
              "    cursor: pointer;\n",
              "    display: none;\n",
              "    fill: var(--fill-color);\n",
              "    height: 32px;\n",
              "    padding: 0;\n",
              "    width: 32px;\n",
              "  }\n",
              "\n",
              "  .colab-df-quickchart:hover {\n",
              "    background-color: var(--hover-bg-color);\n",
              "    box-shadow: 0 1px 2px rgba(60, 64, 67, 0.3), 0 1px 3px 1px rgba(60, 64, 67, 0.15);\n",
              "    fill: var(--button-hover-fill-color);\n",
              "  }\n",
              "\n",
              "  .colab-df-quickchart-complete:disabled,\n",
              "  .colab-df-quickchart-complete:disabled:hover {\n",
              "    background-color: var(--disabled-bg-color);\n",
              "    fill: var(--disabled-fill-color);\n",
              "    box-shadow: none;\n",
              "  }\n",
              "\n",
              "  .colab-df-spinner {\n",
              "    border: 2px solid var(--fill-color);\n",
              "    border-color: transparent;\n",
              "    border-bottom-color: var(--fill-color);\n",
              "    animation:\n",
              "      spin 1s steps(1) infinite;\n",
              "  }\n",
              "\n",
              "  @keyframes spin {\n",
              "    0% {\n",
              "      border-color: transparent;\n",
              "      border-bottom-color: var(--fill-color);\n",
              "      border-left-color: var(--fill-color);\n",
              "    }\n",
              "    20% {\n",
              "      border-color: transparent;\n",
              "      border-left-color: var(--fill-color);\n",
              "      border-top-color: var(--fill-color);\n",
              "    }\n",
              "    30% {\n",
              "      border-color: transparent;\n",
              "      border-left-color: var(--fill-color);\n",
              "      border-top-color: var(--fill-color);\n",
              "      border-right-color: var(--fill-color);\n",
              "    }\n",
              "    40% {\n",
              "      border-color: transparent;\n",
              "      border-right-color: var(--fill-color);\n",
              "      border-top-color: var(--fill-color);\n",
              "    }\n",
              "    60% {\n",
              "      border-color: transparent;\n",
              "      border-right-color: var(--fill-color);\n",
              "    }\n",
              "    80% {\n",
              "      border-color: transparent;\n",
              "      border-right-color: var(--fill-color);\n",
              "      border-bottom-color: var(--fill-color);\n",
              "    }\n",
              "    90% {\n",
              "      border-color: transparent;\n",
              "      border-bottom-color: var(--fill-color);\n",
              "    }\n",
              "  }\n",
              "</style>\n",
              "\n",
              "  <script>\n",
              "    async function quickchart(key) {\n",
              "      const quickchartButtonEl =\n",
              "        document.querySelector('#' + key + ' button');\n",
              "      quickchartButtonEl.disabled = true;  // To prevent multiple clicks.\n",
              "      quickchartButtonEl.classList.add('colab-df-spinner');\n",
              "      try {\n",
              "        const charts = await google.colab.kernel.invokeFunction(\n",
              "            'suggestCharts', [key], {});\n",
              "      } catch (error) {\n",
              "        console.error('Error during call to suggestCharts:', error);\n",
              "      }\n",
              "      quickchartButtonEl.classList.remove('colab-df-spinner');\n",
              "      quickchartButtonEl.classList.add('colab-df-quickchart-complete');\n",
              "    }\n",
              "    (() => {\n",
              "      let quickchartButtonEl =\n",
              "        document.querySelector('#df-f5f43f14-7534-46d4-ac34-cdd23c1fd61a button');\n",
              "      quickchartButtonEl.style.display =\n",
              "        google.colab.kernel.accessAllowed ? 'block' : 'none';\n",
              "    })();\n",
              "  </script>\n",
              "</div>\n",
              "    </div>\n",
              "  </div>\n"
            ],
            "text/plain": [
              "         ID                                          review_es\n",
              "0     60000  La mayor virtud de esta película es su existen...\n",
              "1     60001  No soy un experto cinéfilo, pero pocas veces m...\n",
              "2     60002  Si no eres un incondicional del humor estilo T...\n",
              "3     60003  No sé qué está pasando, si la gente se deja ll...\n",
              "4     60004  Pero cuando amanece,y me quedo solo,siento en ...\n",
              "...     ...                                                ...\n",
              "8594  68594  Buena no, lo siguiente. Por fin un film serio ...\n",
              "8595  68595  Me esperaba mucho, pero que mucho, más.Guión m...\n",
              "8596  68596  De mal cuerpo como sensación al finalizar, de ...\n",
              "8597  68597  Los que han añadido comentarios os lo han dich...\n",
              "8598  68598  Fui a ver esta película de cine con entusiasmo...\n",
              "\n",
              "[8599 rows x 2 columns]"
            ]
          },
          "execution_count": 26,
          "metadata": {},
          "output_type": "execute_result"
        }
      ],
      "source": [
        "y_pred_kaggle_submission = best_model.predict(ds_test['review_es']) # <--- PARA KAGGLE\n",
        "ds_test"
      ]
    },
    {
      "cell_type": "code",
      "execution_count": null,
      "metadata": {
        "colab": {
          "base_uri": "https://localhost:8080/"
        },
        "id": "VcnKrZ7Q14TF",
        "outputId": "f8110af9-0fd1-4444-cacd-334d084d4a37"
      },
      "outputs": [
        {
          "data": {
            "text/plain": [
              "array(['negativo', 'positivo', 'positivo', ..., 'positivo', 'positivo',\n",
              "       'negativo'], dtype=object)"
            ]
          },
          "execution_count": 27,
          "metadata": {},
          "output_type": "execute_result"
        }
      ],
      "source": [
        "y_pred_kaggle_submission"
      ]
    },
    {
      "cell_type": "code",
      "execution_count": null,
      "metadata": {
        "colab": {
          "base_uri": "https://localhost:8080/"
        },
        "id": "u1lYUfArMexu",
        "outputId": "e5aa5e16-9b39-42a3-cb73-12ca92520c74"
      },
      "outputs": [
        {
          "data": {
            "text/plain": [
              "Index(['ID', 'review_es', 'sentimiento'], dtype='object')"
            ]
          },
          "execution_count": 13,
          "metadata": {},
          "output_type": "execute_result"
        }
      ],
      "source": [
        "ds_train.column"
      ]
    },
    {
      "cell_type": "code",
      "execution_count": null,
      "metadata": {
        "colab": {
          "base_uri": "https://localhost:8080/"
        },
        "id": "LFzSjPX4MDCj",
        "outputId": "1b4570d5-c9e0-4c99-e30f-83311281eef3"
      },
      "outputs": [
        {
          "name": "stdout",
          "output_type": "stream",
          "text": [
            "<class 'pandas.core.frame.DataFrame'>\n",
            "RangeIndex: 8599 entries, 0 to 8598\n",
            "Data columns (total 2 columns):\n",
            " #   Column       Non-Null Count  Dtype \n",
            "---  ------       --------------  ----- \n",
            " 0   id           8599 non-null   int64 \n",
            " 1   sentimiento  8599 non-null   object\n",
            "dtypes: int64(1), object(1)\n",
            "memory usage: 134.5+ KB\n"
          ]
        }
      ],
      "source": [
        "# Creamos el DataFrame con los IDs seleccionados y los valores de y_pred_kaggle_submission\n",
        "df_submission = pd.DataFrame({'id': ds_test['ID'], 'sentimiento': y_pred_kaggle_submission})\n",
        "\n",
        "# Verificar la información del DataFrame\n",
        "df_submission.info()\n",
        "\n",
        "# Guardar el DataFrame en un archivo CSV\n",
        "df_submission.to_csv('RandomForestOptimizado_textClassifier_1.csv', index=False)"
      ]
    },
    {
      "cell_type": "markdown",
      "source": [
        "#### Optimizacion de hiperparámetros de RandomForest en conjunto con CountVectorizer\n",
        "\n",
        "Comentario: acá no usamos el dataset de entrenamiento con el stemming aplicado"
      ],
      "metadata": {
        "id": "xgcXYfiMxktT"
      }
    },
    {
      "cell_type": "code",
      "source": [
        "import nltk\n",
        "from nltk.corpus import stopwords\n",
        "from sklearn.ensemble import RandomForestClassifier\n",
        "from sklearn.feature_extraction.text import CountVectorizer\n",
        "from sklearn.model_selection import RandomizedSearchCV\n",
        "from scipy.stats import randint\n",
        "from sklearn.pipeline import make_pipeline\n",
        "from sklearn.metrics import classification_report, confusion_matrix\n",
        "import seaborn as sns\n",
        "import matplotlib.pyplot as plt\n",
        "\n",
        "# Descargar la lista de stopwords en español\n",
        "nltk.download('stopwords')\n",
        "\n",
        "# Obtener la lista de stopwords en español\n",
        "spanish_stopwords = stopwords.words('spanish')\n",
        "\n",
        "# Crear el modelo de RandomForest con CountVectorizer que incluye stopwords en español\n",
        "model = make_pipeline(\n",
        "    CountVectorizer(stop_words=spanish_stopwords),  # Establecer la lista de stopwords en español\n",
        "    RandomForestClassifier(random_state=99)\n",
        ")\n",
        "\n",
        "# Definir el espacio de búsqueda de hiperparámetros para RandomForest y CountVectorizer\n",
        "param_dist = {\n",
        "    'countvectorizer__strip_accents': [None, 'ascii', 'unicode'],\n",
        "    'countvectorizer__lowercase': [True, False],\n",
        "    'countvectorizer__ngram_range': [(1, 1), (1, 2), (2, 2)],\n",
        "    'countvectorizer__max_df': [0.8, 0.9, 1.0],\n",
        "    'countvectorizer__min_df': [1, 2, 3],\n",
        "    'countvectorizer__max_features': [1000, 5000, 10000],\n",
        "    'randomforestclassifier__n_estimators': [140, 160, 180, 200],\n",
        "    'randomforestclassifier__max_depth': [40, 50, 60, 70],\n",
        "    'randomforestclassifier__min_samples_split': [2, 5, 10],\n",
        "    'randomforestclassifier__min_samples_leaf': [1, 2, 4],\n",
        "    'randomforestclassifier__max_features': ['sqrt', 'log2'],\n",
        "    'randomforestclassifier__criterion': ['gini', 'entropy']\n",
        "}\n",
        "\n",
        "# Realizar la búsqueda de hiperparámetros con RandomizedSearchCV\n",
        "random_search = RandomizedSearchCV(\n",
        "    model,\n",
        "    param_distributions=param_dist,\n",
        "    n_iter=3,\n",
        "    scoring='f1',\n",
        "    cv=6,\n",
        "    random_state=99,\n",
        "    n_jobs=-1,\n",
        "    verbose=4\n",
        ")\n",
        "\n",
        "# ENTRENAR CON EL DATASET COMPLETO ds_train (sin stemin)\n",
        "random_search.fit(ds_train_x, ds_train_y)\n",
        "\n",
        "# Obtener el mejor modelo y sus hiperparámetros\n",
        "best_model = random_search.best_estimator_\n",
        "best_params = random_search.best_params_\n",
        "\n",
        "# Imprimir los mejores hiperparámetros\n",
        "print(\"Mejores hiperparámetros:\", best_params)\n",
        "\n",
        "# PREDICCIONES EN EL DATASET COMPLETO DE TEST\n",
        "y_pred_kaggle_submission = best_model.predict(ds_test)  # PARA KAGGLE\n",
        "\n",
        "# Predicciones en el conjunto de prueba para el classification report y la matriz de confusión\n",
        "y_pred_para_matriz_de_confusion = best_model.predict(x_test)\n",
        "\n",
        "# Calcular el informe de clasificación\n",
        "print(classification_report(y_test, y_pred_para_matriz_de_confusion))\n",
        "\n",
        "# Crear la matriz de confusión\n",
        "tabla = confusion_matrix(y_test, y_pred_para_matriz_de_confusion)\n",
        "\n",
        "# Graficar la matriz de confusión\n",
        "sns.heatmap(tabla, cmap='GnBu', annot=True, fmt='g')\n",
        "plt.xlabel('Valores predichos')\n",
        "plt.ylabel('Valores reales')\n",
        "plt.show()\n"
      ],
      "metadata": {
        "colab": {
          "base_uri": "https://localhost:8080/",
          "height": 695
        },
        "id": "fGAZoI5Kxnus",
        "outputId": "781be5d7-48b2-48da-8f56-eb7aa49d774e"
      },
      "execution_count": null,
      "outputs": [
        {
          "output_type": "stream",
          "name": "stderr",
          "text": [
            "[nltk_data] Downloading package stopwords to /root/nltk_data...\n",
            "[nltk_data]   Package stopwords is already up-to-date!\n"
          ]
        },
        {
          "output_type": "stream",
          "name": "stdout",
          "text": [
            "Fitting 6 folds for each of 3 candidates, totalling 18 fits\n",
            "Mejores hiperparámetros: {'randomforestclassifier__n_estimators': 160, 'randomforestclassifier__min_samples_split': 5, 'randomforestclassifier__min_samples_leaf': 1, 'randomforestclassifier__max_features': 'log2', 'randomforestclassifier__max_depth': 70, 'randomforestclassifier__criterion': 'gini', 'countvectorizer__strip_accents': 'unicode', 'countvectorizer__ngram_range': (2, 2), 'countvectorizer__min_df': 1, 'countvectorizer__max_features': 5000, 'countvectorizer__max_df': 0.8, 'countvectorizer__lowercase': False}\n",
            "              precision    recall  f1-score   support\n",
            "\n",
            "    negativo       0.95      0.79      0.86      7489\n",
            "    positivo       0.82      0.96      0.88      7511\n",
            "\n",
            "    accuracy                           0.88     15000\n",
            "   macro avg       0.89      0.88      0.87     15000\n",
            "weighted avg       0.89      0.88      0.87     15000\n",
            "\n"
          ]
        },
        {
          "output_type": "display_data",
          "data": {
            "text/plain": [
              "<Figure size 640x480 with 2 Axes>"
            ],
            "image/png": "[encoded data removed]"
          },
          "metadata": {}
        }
      ]
    },
    {
      "cell_type": "code",
      "source": [
        "# PREDICCIONES EN EL DATASET COMPLETO DE TEST\n",
        "y_pred_kaggle_submission = best_model.predict(ds_test['review_es']) # <--- PARA KAGGLE\n",
        "y_pred_kaggle_submission"
      ],
      "metadata": {
        "colab": {
          "base_uri": "https://localhost:8080/"
        },
        "id": "WqVxUCJ4_NKh",
        "outputId": "80fca2be-805d-48fe-b6ca-e6442c146648"
      },
      "execution_count": null,
      "outputs": [
        {
          "output_type": "execute_result",
          "data": {
            "text/plain": [
              "array(['negativo', 'positivo', 'positivo', ..., 'positivo', 'negativo',\n",
              "       'negativo'], dtype=object)"
            ]
          },
          "metadata": {},
          "execution_count": 17
        }
      ]
    },
    {
      "cell_type": "code",
      "source": [
        "df_submission = pd.DataFrame({'id': ds_test['ID'], 'sentimiento': y_pred_kaggle_submission})\n",
        "\n",
        "# Verificar la información del DataFrame\n",
        "df_submission.info()\n",
        "\n",
        "# Guardar el DataFrame en un archivo CSV\n",
        "df_submission.to_csv('RandomForestOptimizado_CountVectorizer.csv', index=False)"
      ],
      "metadata": {
        "colab": {
          "base_uri": "https://localhost:8080/"
        },
        "id": "37o5c_Hn-8ex",
        "outputId": "7744e605-5f5c-41ee-846b-9eaa941b58e0"
      },
      "execution_count": null,
      "outputs": [
        {
          "output_type": "stream",
          "name": "stdout",
          "text": [
            "<class 'pandas.core.frame.DataFrame'>\n",
            "RangeIndex: 8599 entries, 0 to 8598\n",
            "Data columns (total 2 columns):\n",
            " #   Column       Non-Null Count  Dtype \n",
            "---  ------       --------------  ----- \n",
            " 0   id           8599 non-null   int64 \n",
            " 1   sentimiento  8599 non-null   object\n",
            "dtypes: int64(1), object(1)\n",
            "memory usage: 134.5+ KB\n"
          ]
        }
      ]
    },
    {
      "cell_type": "markdown",
      "source": [
        "### Realizo una nueva predicción con el dataset con stemming aplicado"
      ],
      "metadata": {
        "id": "LlZ4jAszPxub"
      }
    },
    {
      "cell_type": "code",
      "source": [
        "best_model_rf = load('/content/drive/MyDrive/Tp_Datos_2023_2°/TP2/modelos/modelo_optimizado_rf.joblib')"
      ],
      "metadata": {
        "id": "pL9pQzTLP3wK"
      },
      "execution_count": null,
      "outputs": []
    },
    {
      "cell_type": "markdown",
      "source": [
        "Entrenamos al modelo, que tenía la mejor combinacion de hiperparámetros, con la columna de 'review_es' con el stemming aplicado"
      ],
      "metadata": {
        "id": "UE62odSAmr8Y"
      }
    },
    {
      "cell_type": "code",
      "source": [
        "best_model_rf.fit(ds_train_stemmed['review_es'],ds_train_stemmed['sentimiento'])"
      ],
      "metadata": {
        "colab": {
          "base_uri": "https://localhost:8080/",
          "height": 126
        },
        "id": "X5s54DySQEbN",
        "outputId": "040f6af5-567d-4d3d-b49f-df590be45044"
      },
      "execution_count": null,
      "outputs": [
        {
          "output_type": "execute_result",
          "data": {
            "text/plain": [
              "Pipeline(steps=[('tfidfvectorizer',\n",
              "                 TfidfVectorizer(lowercase=False, max_df=0.9, max_features=5000,\n",
              "                                 min_df=2, ngram_range=(2, 2),\n",
              "                                 stop_words=['de', 'la', 'que', 'el', 'en', 'y',\n",
              "                                             'a', 'los', 'del', 'se', 'las',\n",
              "                                             'por', 'un', 'para', 'con', 'no',\n",
              "                                             'una', 'su', 'al', 'lo', 'como',\n",
              "                                             'más', 'pero', 'sus', 'le', 'ya',\n",
              "                                             'o', 'este', 'sí', 'porque', ...],\n",
              "                                 strip_accents='unicode')),\n",
              "                ('randomforestclassifier',\n",
              "                 RandomForestClassifier(criterion='entropy', max_depth=70,\n",
              "                                        max_features='log2', min_samples_leaf=4,\n",
              "                                        min_samples_split=5, n_estimators=180,\n",
              "                                        random_state=99))])"
            ],
            "text/html": [
              "<style>#sk-container-id-1 {color: black;background-color: white;}#sk-container-id-1 pre{padding: 0;}#sk-container-id-1 div.sk-toggleable {background-color: white;}#sk-container-id-1 label.sk-toggleable__label {cursor: pointer;display: block;width: 100%;margin-bottom: 0;padding: 0.3em;box-sizing: border-box;text-align: center;}#sk-container-id-1 label.sk-toggleable__label-arrow:before {content: \"▸\";float: left;margin-right: 0.25em;color: #696969;}#sk-container-id-1 label.sk-toggleable__label-arrow:hover:before {color: black;}#sk-container-id-1 div.sk-estimator:hover label.sk-toggleable__label-arrow:before {color: black;}#sk-container-id-1 div.sk-toggleable__content {max-height: 0;max-width: 0;overflow: hidden;text-align: left;background-color: #f0f8ff;}#sk-container-id-1 div.sk-toggleable__content pre {margin: 0.2em;color: black;border-radius: 0.25em;background-color: #f0f8ff;}#sk-container-id-1 input.sk-toggleable__control:checked~div.sk-toggleable__content {max-height: 200px;max-width: 100%;overflow: auto;}#sk-container-id-1 input.sk-toggleable__control:checked~label.sk-toggleable__label-arrow:before {content: \"▾\";}#sk-container-id-1 div.sk-estimator input.sk-toggleable__control:checked~label.sk-toggleable__label {background-color: #d4ebff;}#sk-container-id-1 div.sk-label input.sk-toggleable__control:checked~label.sk-toggleable__label {background-color: #d4ebff;}#sk-container-id-1 input.sk-hidden--visually {border: 0;clip: rect(1px 1px 1px 1px);clip: rect(1px, 1px, 1px, 1px);height: 1px;margin: -1px;overflow: hidden;padding: 0;position: absolute;width: 1px;}#sk-container-id-1 div.sk-estimator {font-family: monospace;background-color: #f0f8ff;border: 1px dotted black;border-radius: 0.25em;box-sizing: border-box;margin-bottom: 0.5em;}#sk-container-id-1 div.sk-estimator:hover {background-color: #d4ebff;}#sk-container-id-1 div.sk-parallel-item::after {content: \"\";width: 100%;border-bottom: 1px solid gray;flex-grow: 1;}#sk-container-id-1 div.sk-label:hover label.sk-toggleable__label {background-color: #d4ebff;}#sk-container-id-1 div.sk-serial::before {content: \"\";position: absolute;border-left: 1px solid gray;box-sizing: border-box;top: 0;bottom: 0;left: 50%;z-index: 0;}#sk-container-id-1 div.sk-serial {display: flex;flex-direction: column;align-items: center;background-color: white;padding-right: 0.2em;padding-left: 0.2em;position: relative;}#sk-container-id-1 div.sk-item {position: relative;z-index: 1;}#sk-container-id-1 div.sk-parallel {display: flex;align-items: stretch;justify-content: center;background-color: white;position: relative;}#sk-container-id-1 div.sk-item::before, #sk-container-id-1 div.sk-parallel-item::before {content: \"\";position: absolute;border-left: 1px solid gray;box-sizing: border-box;top: 0;bottom: 0;left: 50%;z-index: -1;}#sk-container-id-1 div.sk-parallel-item {display: flex;flex-direction: column;z-index: 1;position: relative;background-color: white;}#sk-container-id-1 div.sk-parallel-item:first-child::after {align-self: flex-end;width: 50%;}#sk-container-id-1 div.sk-parallel-item:last-child::after {align-self: flex-start;width: 50%;}#sk-container-id-1 div.sk-parallel-item:only-child::after {width: 0;}#sk-container-id-1 div.sk-dashed-wrapped {border: 1px dashed gray;margin: 0 0.4em 0.5em 0.4em;box-sizing: border-box;padding-bottom: 0.4em;background-color: white;}#sk-container-id-1 div.sk-label label {font-family: monospace;font-weight: bold;display: inline-block;line-height: 1.2em;}#sk-container-id-1 div.sk-label-container {text-align: center;}#sk-container-id-1 div.sk-container {/* jupyter's `normalize.less` sets `[hidden] { display: none; }` but bootstrap.min.css set `[hidden] { display: none !important; }` so we also need the `!important` here to be able to override the default hidden behavior on the sphinx rendered scikit-learn.org. See: https://github.com/scikit-learn/scikit-learn/issues/21755 */display: inline-block !important;position: relative;}#sk-container-id-1 div.sk-text-repr-fallback {display: none;}</style><div id=\"sk-container-id-1\" class=\"sk-top-container\"><div class=\"sk-text-repr-fallback\"><pre>Pipeline(steps=[(&#x27;tfidfvectorizer&#x27;,\n",
              "                 TfidfVectorizer(lowercase=False, max_df=0.9, max_features=5000,\n",
              "                                 min_df=2, ngram_range=(2, 2),\n",
              "                                 stop_words=[&#x27;de&#x27;, &#x27;la&#x27;, &#x27;que&#x27;, &#x27;el&#x27;, &#x27;en&#x27;, &#x27;y&#x27;,\n",
              "                                             &#x27;a&#x27;, &#x27;los&#x27;, &#x27;del&#x27;, &#x27;se&#x27;, &#x27;las&#x27;,\n",
              "                                             &#x27;por&#x27;, &#x27;un&#x27;, &#x27;para&#x27;, &#x27;con&#x27;, &#x27;no&#x27;,\n",
              "                                             &#x27;una&#x27;, &#x27;su&#x27;, &#x27;al&#x27;, &#x27;lo&#x27;, &#x27;como&#x27;,\n",
              "                                             &#x27;más&#x27;, &#x27;pero&#x27;, &#x27;sus&#x27;, &#x27;le&#x27;, &#x27;ya&#x27;,\n",
              "                                             &#x27;o&#x27;, &#x27;este&#x27;, &#x27;sí&#x27;, &#x27;porque&#x27;, ...],\n",
              "                                 strip_accents=&#x27;unicode&#x27;)),\n",
              "                (&#x27;randomforestclassifier&#x27;,\n",
              "                 RandomForestClassifier(criterion=&#x27;entropy&#x27;, max_depth=70,\n",
              "                                        max_features=&#x27;log2&#x27;, min_samples_leaf=4,\n",
              "                                        min_samples_split=5, n_estimators=180,\n",
              "                                        random_state=99))])</pre><b>In a Jupyter environment, please rerun this cell to show the HTML representation or trust the notebook. <br />On GitHub, the HTML representation is unable to render, please try loading this page with nbviewer.org.</b></div><div class=\"sk-container\" hidden><div class=\"sk-item sk-dashed-wrapped\"><div class=\"sk-label-container\"><div class=\"sk-label sk-toggleable\"><input class=\"sk-toggleable__control sk-hidden--visually\" id=\"sk-estimator-id-1\" type=\"checkbox\" ><label for=\"sk-estimator-id-1\" class=\"sk-toggleable__label sk-toggleable__label-arrow\">Pipeline</label><div class=\"sk-toggleable__content\"><pre>Pipeline(steps=[(&#x27;tfidfvectorizer&#x27;,\n",
              "                 TfidfVectorizer(lowercase=False, max_df=0.9, max_features=5000,\n",
              "                                 min_df=2, ngram_range=(2, 2),\n",
              "                                 stop_words=[&#x27;de&#x27;, &#x27;la&#x27;, &#x27;que&#x27;, &#x27;el&#x27;, &#x27;en&#x27;, &#x27;y&#x27;,\n",
              "                                             &#x27;a&#x27;, &#x27;los&#x27;, &#x27;del&#x27;, &#x27;se&#x27;, &#x27;las&#x27;,\n",
              "                                             &#x27;por&#x27;, &#x27;un&#x27;, &#x27;para&#x27;, &#x27;con&#x27;, &#x27;no&#x27;,\n",
              "                                             &#x27;una&#x27;, &#x27;su&#x27;, &#x27;al&#x27;, &#x27;lo&#x27;, &#x27;como&#x27;,\n",
              "                                             &#x27;más&#x27;, &#x27;pero&#x27;, &#x27;sus&#x27;, &#x27;le&#x27;, &#x27;ya&#x27;,\n",
              "                                             &#x27;o&#x27;, &#x27;este&#x27;, &#x27;sí&#x27;, &#x27;porque&#x27;, ...],\n",
              "                                 strip_accents=&#x27;unicode&#x27;)),\n",
              "                (&#x27;randomforestclassifier&#x27;,\n",
              "                 RandomForestClassifier(criterion=&#x27;entropy&#x27;, max_depth=70,\n",
              "                                        max_features=&#x27;log2&#x27;, min_samples_leaf=4,\n",
              "                                        min_samples_split=5, n_estimators=180,\n",
              "                                        random_state=99))])</pre></div></div></div><div class=\"sk-serial\"><div class=\"sk-item\"><div class=\"sk-estimator sk-toggleable\"><input class=\"sk-toggleable__control sk-hidden--visually\" id=\"sk-estimator-id-2\" type=\"checkbox\" ><label for=\"sk-estimator-id-2\" class=\"sk-toggleable__label sk-toggleable__label-arrow\">TfidfVectorizer</label><div class=\"sk-toggleable__content\"><pre>TfidfVectorizer(lowercase=False, max_df=0.9, max_features=5000, min_df=2,\n",
              "                ngram_range=(2, 2),\n",
              "                stop_words=[&#x27;de&#x27;, &#x27;la&#x27;, &#x27;que&#x27;, &#x27;el&#x27;, &#x27;en&#x27;, &#x27;y&#x27;, &#x27;a&#x27;, &#x27;los&#x27;,\n",
              "                            &#x27;del&#x27;, &#x27;se&#x27;, &#x27;las&#x27;, &#x27;por&#x27;, &#x27;un&#x27;, &#x27;para&#x27;, &#x27;con&#x27;,\n",
              "                            &#x27;no&#x27;, &#x27;una&#x27;, &#x27;su&#x27;, &#x27;al&#x27;, &#x27;lo&#x27;, &#x27;como&#x27;, &#x27;más&#x27;,\n",
              "                            &#x27;pero&#x27;, &#x27;sus&#x27;, &#x27;le&#x27;, &#x27;ya&#x27;, &#x27;o&#x27;, &#x27;este&#x27;, &#x27;sí&#x27;,\n",
              "                            &#x27;porque&#x27;, ...],\n",
              "                strip_accents=&#x27;unicode&#x27;)</pre></div></div></div><div class=\"sk-item\"><div class=\"sk-estimator sk-toggleable\"><input class=\"sk-toggleable__control sk-hidden--visually\" id=\"sk-estimator-id-3\" type=\"checkbox\" ><label for=\"sk-estimator-id-3\" class=\"sk-toggleable__label sk-toggleable__label-arrow\">RandomForestClassifier</label><div class=\"sk-toggleable__content\"><pre>RandomForestClassifier(criterion=&#x27;entropy&#x27;, max_depth=70, max_features=&#x27;log2&#x27;,\n",
              "                       min_samples_leaf=4, min_samples_split=5,\n",
              "                       n_estimators=180, random_state=99)</pre></div></div></div></div></div></div></div>"
            ]
          },
          "metadata": {},
          "execution_count": 5
        }
      ]
    },
    {
      "cell_type": "markdown",
      "source": [
        "Hacemos la prediccion sobre nuestro dataset de test"
      ],
      "metadata": {
        "id": "GgKZoLCCnheM"
      }
    },
    {
      "cell_type": "code",
      "source": [
        "y_pred = best_model_rf.predict(ds_test['review_es'])"
      ],
      "metadata": {
        "id": "Ki5HPqekQggQ"
      },
      "execution_count": null,
      "outputs": []
    },
    {
      "cell_type": "markdown",
      "source": [
        "Creamos la tabla para submitear en kaggle"
      ],
      "metadata": {
        "id": "tDvnbvEpnj1B"
      }
    },
    {
      "cell_type": "code",
      "source": [
        "df_submission = pd.DataFrame({'id': ds_test['ID'], 'sentimiento': y_pred})\n",
        "\n",
        "# Verificar la información del DataFrame\n",
        "df_submission.info()\n",
        "\n",
        "# Guardar el DataFrame en un archivo CSV\n",
        "df_submission.to_csv('/content/drive/MyDrive/Tp_Datos_2023_2°/TP2/submissions/RandomForestOptimizado_stemming.csv', index=False)"
      ],
      "metadata": {
        "colab": {
          "base_uri": "https://localhost:8080/"
        },
        "id": "DE-mL4-iQnPn",
        "outputId": "00ed5ac9-fbd0-46ad-b1e1-5ecdcb6a9936"
      },
      "execution_count": null,
      "outputs": [
        {
          "output_type": "stream",
          "name": "stdout",
          "text": [
            "<class 'pandas.core.frame.DataFrame'>\n",
            "RangeIndex: 8599 entries, 0 to 8598\n",
            "Data columns (total 2 columns):\n",
            " #   Column       Non-Null Count  Dtype \n",
            "---  ------       --------------  ----- \n",
            " 0   id           8599 non-null   int64 \n",
            " 1   sentimiento  8599 non-null   object\n",
            "dtypes: int64(1), object(1)\n",
            "memory usage: 134.5+ KB\n"
          ]
        }
      ]
    },
    {
      "cell_type": "markdown",
      "metadata": {
        "id": "lJ7dAC8bmAh4"
      },
      "source": [
        "## XGBoost"
      ]
    },
    {
      "cell_type": "code",
      "execution_count": null,
      "metadata": {
        "id": "R1odnwB1jjz_"
      },
      "outputs": [],
      "source": [
        "y_train_bin = y_train.copy()"
      ]
    },
    {
      "cell_type": "markdown",
      "source": [
        "Hacemos la transformacion de los valores binarios de las etiquetas (en el dataset de train) de string a numérico"
      ],
      "metadata": {
        "id": "GVvuY-AlnnM6"
      }
    },
    {
      "cell_type": "code",
      "execution_count": null,
      "metadata": {
        "id": "z12RhGiljvnP"
      },
      "outputs": [],
      "source": [
        "y_train_bin = y_train_bin.map({'negativo': 0, 'positivo': 1})"
      ]
    },
    {
      "cell_type": "markdown",
      "source": [
        "Obtenemos los stopwords en español, creamos instancias básicas de TfIdfVectorizer y XGBoost y predecimos sobre nuestro dataset de test"
      ],
      "metadata": {
        "id": "LSJNK0gHnzbH"
      }
    },
    {
      "cell_type": "code",
      "execution_count": null,
      "metadata": {
        "id": "EMeTWUWbiae_"
      },
      "outputs": [],
      "source": [
        "stopwords = nltk.corpus.stopwords.words('spanish')\n",
        "\n",
        "model = make_pipeline(TfidfVectorizer(stop_words = stopwords), XGBClassifier(objective='binary:logistic', random_state=99))\n",
        "model.fit(x_train, y_train_bin)\n",
        "y_pred = model.predict(x_test)"
      ]
    },
    {
      "cell_type": "code",
      "execution_count": null,
      "metadata": {
        "colab": {
          "base_uri": "https://localhost:8080/"
        },
        "id": "6CrhG8TflUiw",
        "outputId": "7dad555f-6daa-40e1-fe4c-cb34cda2237f"
      },
      "outputs": [
        {
          "output_type": "stream",
          "name": "stdout",
          "text": [
            "              precision    recall  f1-score   support\n",
            "\n",
            "           0       0.86      0.82      0.84      7489\n",
            "           1       0.83      0.87      0.85      7511\n",
            "\n",
            "    accuracy                           0.84     15000\n",
            "   macro avg       0.84      0.84      0.84     15000\n",
            "weighted avg       0.84      0.84      0.84     15000\n",
            "\n"
          ]
        }
      ],
      "source": [
        "#Hacemos la conversion de para poder comparar la prediccion\n",
        "y_test_bin = y_test.map({'negativo': 0, 'positivo': 1})\n",
        "print(classification_report(y_test_bin,y_pred))"
      ]
    },
    {
      "cell_type": "code",
      "execution_count": null,
      "metadata": {
        "colab": {
          "base_uri": "https://localhost:8080/",
          "height": 466
        },
        "id": "h-AP-Pfvldco",
        "outputId": "2b2a6cab-d513-4ec3-f5a4-5a538a774147"
      },
      "outputs": [
        {
          "output_type": "execute_result",
          "data": {
            "text/plain": [
              "Text(50.722222222222214, 0.5, 'Valores reales')"
            ]
          },
          "metadata": {},
          "execution_count": 25
        },
        {
          "output_type": "display_data",
          "data": {
            "text/plain": [
              "<Figure size 640x480 with 2 Axes>"
            ],
            "image/png": "[encoded data removed]"
          },
          "metadata": {}
        }
      ],
      "source": [
        "#Creo la matriz de confusión\n",
        "tabla=confusion_matrix(y_test_bin, y_pred)\n",
        "\n",
        "#Grafico la matriz de confusión\n",
        "sns.heatmap(tabla,cmap='GnBu',annot=True,fmt='g')\n",
        "plt.xlabel('Valores predichos')\n",
        "plt.ylabel('Valores reales')"
      ]
    },
    {
      "cell_type": "markdown",
      "metadata": {
        "id": "ua1q03y8UZH9"
      },
      "source": [
        "#### Optimización de hiperparámetros de XGBoost en conjunto con TfIdfVectorizer\n"
      ]
    },
    {
      "cell_type": "code",
      "source": [
        "ds_train_y_bin = ds_train['sentimiento'].map({'negativo': 0, 'positivo': 1})"
      ],
      "metadata": {
        "id": "yin13WXlYXFl"
      },
      "execution_count": null,
      "outputs": []
    },
    {
      "cell_type": "code",
      "execution_count": null,
      "metadata": {
        "colab": {
          "base_uri": "https://localhost:8080/"
        },
        "id": "G4TDm2fXUcR3",
        "outputId": "4e0a1890-c60d-43dd-8cd6-db56c4afb0b1"
      },
      "outputs": [
        {
          "output_type": "stream",
          "name": "stdout",
          "text": [
            "Fitting 10 folds for each of 4 candidates, totalling 40 fits\n",
            "[CV 1/10] END tfidfvectorizer__lowercase=False, tfidfvectorizer__max_df=0.9, tfidfvectorizer__max_features=1000, tfidfvectorizer__min_df=2, tfidfvectorizer__ngram_range=(1, 1), tfidfvectorizer__smooth_idf=True, tfidfvectorizer__strip_accents=None, tfidfvectorizer__sublinear_tf=False, tfidfvectorizer__use_idf=True, xgbclassifier__alpha=0.5656174196105306, xgbclassifier__gamma=0.29762249870394397, xgbclassifier__lambda=0.04669572050695325, xgbclassifier__learning_rate=0.9906273994707961, xgbclassifier__max_depth=8, xgbclassifier__n_estimators=109;, score=0.790 total time= 1.3min\n",
            "[CV 2/10] END tfidfvectorizer__lowercase=False, tfidfvectorizer__max_df=0.9, tfidfvectorizer__max_features=1000, tfidfvectorizer__min_df=2, tfidfvectorizer__ngram_range=(1, 1), tfidfvectorizer__smooth_idf=True, tfidfvectorizer__strip_accents=None, tfidfvectorizer__sublinear_tf=False, tfidfvectorizer__use_idf=True, xgbclassifier__alpha=0.5656174196105306, xgbclassifier__gamma=0.29762249870394397, xgbclassifier__lambda=0.04669572050695325, xgbclassifier__learning_rate=0.9906273994707961, xgbclassifier__max_depth=8, xgbclassifier__n_estimators=109;, score=0.789 total time= 1.3min\n",
            "[CV 3/10] END tfidfvectorizer__lowercase=False, tfidfvectorizer__max_df=0.9, tfidfvectorizer__max_features=1000, tfidfvectorizer__min_df=2, tfidfvectorizer__ngram_range=(1, 1), tfidfvectorizer__smooth_idf=True, tfidfvectorizer__strip_accents=None, tfidfvectorizer__sublinear_tf=False, tfidfvectorizer__use_idf=True, xgbclassifier__alpha=0.5656174196105306, xgbclassifier__gamma=0.29762249870394397, xgbclassifier__lambda=0.04669572050695325, xgbclassifier__learning_rate=0.9906273994707961, xgbclassifier__max_depth=8, xgbclassifier__n_estimators=109;, score=0.780 total time= 1.2min\n",
            "[CV 4/10] END tfidfvectorizer__lowercase=False, tfidfvectorizer__max_df=0.9, tfidfvectorizer__max_features=1000, tfidfvectorizer__min_df=2, tfidfvectorizer__ngram_range=(1, 1), tfidfvectorizer__smooth_idf=True, tfidfvectorizer__strip_accents=None, tfidfvectorizer__sublinear_tf=False, tfidfvectorizer__use_idf=True, xgbclassifier__alpha=0.5656174196105306, xgbclassifier__gamma=0.29762249870394397, xgbclassifier__lambda=0.04669572050695325, xgbclassifier__learning_rate=0.9906273994707961, xgbclassifier__max_depth=8, xgbclassifier__n_estimators=109;, score=0.786 total time= 1.2min\n",
            "[CV 5/10] END tfidfvectorizer__lowercase=False, tfidfvectorizer__max_df=0.9, tfidfvectorizer__max_features=1000, tfidfvectorizer__min_df=2, tfidfvectorizer__ngram_range=(1, 1), tfidfvectorizer__smooth_idf=True, tfidfvectorizer__strip_accents=None, tfidfvectorizer__sublinear_tf=False, tfidfvectorizer__use_idf=True, xgbclassifier__alpha=0.5656174196105306, xgbclassifier__gamma=0.29762249870394397, xgbclassifier__lambda=0.04669572050695325, xgbclassifier__learning_rate=0.9906273994707961, xgbclassifier__max_depth=8, xgbclassifier__n_estimators=109;, score=0.803 total time= 1.2min\n",
            "[CV 6/10] END tfidfvectorizer__lowercase=False, tfidfvectorizer__max_df=0.9, tfidfvectorizer__max_features=1000, tfidfvectorizer__min_df=2, tfidfvectorizer__ngram_range=(1, 1), tfidfvectorizer__smooth_idf=True, tfidfvectorizer__strip_accents=None, tfidfvectorizer__sublinear_tf=False, tfidfvectorizer__use_idf=True, xgbclassifier__alpha=0.5656174196105306, xgbclassifier__gamma=0.29762249870394397, xgbclassifier__lambda=0.04669572050695325, xgbclassifier__learning_rate=0.9906273994707961, xgbclassifier__max_depth=8, xgbclassifier__n_estimators=109;, score=0.806 total time= 1.2min\n",
            "[CV 7/10] END tfidfvectorizer__lowercase=False, tfidfvectorizer__max_df=0.9, tfidfvectorizer__max_features=1000, tfidfvectorizer__min_df=2, tfidfvectorizer__ngram_range=(1, 1), tfidfvectorizer__smooth_idf=True, tfidfvectorizer__strip_accents=None, tfidfvectorizer__sublinear_tf=False, tfidfvectorizer__use_idf=True, xgbclassifier__alpha=0.5656174196105306, xgbclassifier__gamma=0.29762249870394397, xgbclassifier__lambda=0.04669572050695325, xgbclassifier__learning_rate=0.9906273994707961, xgbclassifier__max_depth=8, xgbclassifier__n_estimators=109;, score=0.798 total time= 1.2min\n",
            "[CV 8/10] END tfidfvectorizer__lowercase=False, tfidfvectorizer__max_df=0.9, tfidfvectorizer__max_features=1000, tfidfvectorizer__min_df=2, tfidfvectorizer__ngram_range=(1, 1), tfidfvectorizer__smooth_idf=True, tfidfvectorizer__strip_accents=None, tfidfvectorizer__sublinear_tf=False, tfidfvectorizer__use_idf=True, xgbclassifier__alpha=0.5656174196105306, xgbclassifier__gamma=0.29762249870394397, xgbclassifier__lambda=0.04669572050695325, xgbclassifier__learning_rate=0.9906273994707961, xgbclassifier__max_depth=8, xgbclassifier__n_estimators=109;, score=0.794 total time= 1.2min\n",
            "[CV 9/10] END tfidfvectorizer__lowercase=False, tfidfvectorizer__max_df=0.9, tfidfvectorizer__max_features=1000, tfidfvectorizer__min_df=2, tfidfvectorizer__ngram_range=(1, 1), tfidfvectorizer__smooth_idf=True, tfidfvectorizer__strip_accents=None, tfidfvectorizer__sublinear_tf=False, tfidfvectorizer__use_idf=True, xgbclassifier__alpha=0.5656174196105306, xgbclassifier__gamma=0.29762249870394397, xgbclassifier__lambda=0.04669572050695325, xgbclassifier__learning_rate=0.9906273994707961, xgbclassifier__max_depth=8, xgbclassifier__n_estimators=109;, score=0.801 total time= 1.2min\n",
            "[CV 10/10] END tfidfvectorizer__lowercase=False, tfidfvectorizer__max_df=0.9, tfidfvectorizer__max_features=1000, tfidfvectorizer__min_df=2, tfidfvectorizer__ngram_range=(1, 1), tfidfvectorizer__smooth_idf=True, tfidfvectorizer__strip_accents=None, tfidfvectorizer__sublinear_tf=False, tfidfvectorizer__use_idf=True, xgbclassifier__alpha=0.5656174196105306, xgbclassifier__gamma=0.29762249870394397, xgbclassifier__lambda=0.04669572050695325, xgbclassifier__learning_rate=0.9906273994707961, xgbclassifier__max_depth=8, xgbclassifier__n_estimators=109;, score=0.801 total time= 1.2min\n",
            "[CV 1/10] END tfidfvectorizer__lowercase=True, tfidfvectorizer__max_df=0.8, tfidfvectorizer__max_features=10000, tfidfvectorizer__min_df=1, tfidfvectorizer__ngram_range=(1, 1), tfidfvectorizer__smooth_idf=True, tfidfvectorizer__strip_accents=None, tfidfvectorizer__sublinear_tf=True, tfidfvectorizer__use_idf=False, xgbclassifier__alpha=0.36050726453927373, xgbclassifier__gamma=0.33167662117194163, xgbclassifier__lambda=0.6274314008177302, xgbclassifier__learning_rate=0.6934763924278945, xgbclassifier__max_depth=9, xgbclassifier__n_estimators=112;, score=0.837 total time= 4.9min\n",
            "[CV 2/10] END tfidfvectorizer__lowercase=True, tfidfvectorizer__max_df=0.8, tfidfvectorizer__max_features=10000, tfidfvectorizer__min_df=1, tfidfvectorizer__ngram_range=(1, 1), tfidfvectorizer__smooth_idf=True, tfidfvectorizer__strip_accents=None, tfidfvectorizer__sublinear_tf=True, tfidfvectorizer__use_idf=False, xgbclassifier__alpha=0.36050726453927373, xgbclassifier__gamma=0.33167662117194163, xgbclassifier__lambda=0.6274314008177302, xgbclassifier__learning_rate=0.6934763924278945, xgbclassifier__max_depth=9, xgbclassifier__n_estimators=112;, score=0.833 total time= 4.9min\n",
            "[CV 3/10] END tfidfvectorizer__lowercase=True, tfidfvectorizer__max_df=0.8, tfidfvectorizer__max_features=10000, tfidfvectorizer__min_df=1, tfidfvectorizer__ngram_range=(1, 1), tfidfvectorizer__smooth_idf=True, tfidfvectorizer__strip_accents=None, tfidfvectorizer__sublinear_tf=True, tfidfvectorizer__use_idf=False, xgbclassifier__alpha=0.36050726453927373, xgbclassifier__gamma=0.33167662117194163, xgbclassifier__lambda=0.6274314008177302, xgbclassifier__learning_rate=0.6934763924278945, xgbclassifier__max_depth=9, xgbclassifier__n_estimators=112;, score=0.832 total time= 4.8min\n",
            "[CV 4/10] END tfidfvectorizer__lowercase=True, tfidfvectorizer__max_df=0.8, tfidfvectorizer__max_features=10000, tfidfvectorizer__min_df=1, tfidfvectorizer__ngram_range=(1, 1), tfidfvectorizer__smooth_idf=True, tfidfvectorizer__strip_accents=None, tfidfvectorizer__sublinear_tf=True, tfidfvectorizer__use_idf=False, xgbclassifier__alpha=0.36050726453927373, xgbclassifier__gamma=0.33167662117194163, xgbclassifier__lambda=0.6274314008177302, xgbclassifier__learning_rate=0.6934763924278945, xgbclassifier__max_depth=9, xgbclassifier__n_estimators=112;, score=0.838 total time= 4.8min\n",
            "[CV 5/10] END tfidfvectorizer__lowercase=True, tfidfvectorizer__max_df=0.8, tfidfvectorizer__max_features=10000, tfidfvectorizer__min_df=1, tfidfvectorizer__ngram_range=(1, 1), tfidfvectorizer__smooth_idf=True, tfidfvectorizer__strip_accents=None, tfidfvectorizer__sublinear_tf=True, tfidfvectorizer__use_idf=False, xgbclassifier__alpha=0.36050726453927373, xgbclassifier__gamma=0.33167662117194163, xgbclassifier__lambda=0.6274314008177302, xgbclassifier__learning_rate=0.6934763924278945, xgbclassifier__max_depth=9, xgbclassifier__n_estimators=112;, score=0.842 total time= 4.8min\n",
            "[CV 6/10] END tfidfvectorizer__lowercase=True, tfidfvectorizer__max_df=0.8, tfidfvectorizer__max_features=10000, tfidfvectorizer__min_df=1, tfidfvectorizer__ngram_range=(1, 1), tfidfvectorizer__smooth_idf=True, tfidfvectorizer__strip_accents=None, tfidfvectorizer__sublinear_tf=True, tfidfvectorizer__use_idf=False, xgbclassifier__alpha=0.36050726453927373, xgbclassifier__gamma=0.33167662117194163, xgbclassifier__lambda=0.6274314008177302, xgbclassifier__learning_rate=0.6934763924278945, xgbclassifier__max_depth=9, xgbclassifier__n_estimators=112;, score=0.844 total time= 5.0min\n",
            "[CV 7/10] END tfidfvectorizer__lowercase=True, tfidfvectorizer__max_df=0.8, tfidfvectorizer__max_features=10000, tfidfvectorizer__min_df=1, tfidfvectorizer__ngram_range=(1, 1), tfidfvectorizer__smooth_idf=True, tfidfvectorizer__strip_accents=None, tfidfvectorizer__sublinear_tf=True, tfidfvectorizer__use_idf=False, xgbclassifier__alpha=0.36050726453927373, xgbclassifier__gamma=0.33167662117194163, xgbclassifier__lambda=0.6274314008177302, xgbclassifier__learning_rate=0.6934763924278945, xgbclassifier__max_depth=9, xgbclassifier__n_estimators=112;, score=0.831 total time= 4.9min\n",
            "[CV 8/10] END tfidfvectorizer__lowercase=True, tfidfvectorizer__max_df=0.8, tfidfvectorizer__max_features=10000, tfidfvectorizer__min_df=1, tfidfvectorizer__ngram_range=(1, 1), tfidfvectorizer__smooth_idf=True, tfidfvectorizer__strip_accents=None, tfidfvectorizer__sublinear_tf=True, tfidfvectorizer__use_idf=False, xgbclassifier__alpha=0.36050726453927373, xgbclassifier__gamma=0.33167662117194163, xgbclassifier__lambda=0.6274314008177302, xgbclassifier__learning_rate=0.6934763924278945, xgbclassifier__max_depth=9, xgbclassifier__n_estimators=112;, score=0.841 total time= 4.8min\n",
            "[CV 9/10] END tfidfvectorizer__lowercase=True, tfidfvectorizer__max_df=0.8, tfidfvectorizer__max_features=10000, tfidfvectorizer__min_df=1, tfidfvectorizer__ngram_range=(1, 1), tfidfvectorizer__smooth_idf=True, tfidfvectorizer__strip_accents=None, tfidfvectorizer__sublinear_tf=True, tfidfvectorizer__use_idf=False, xgbclassifier__alpha=0.36050726453927373, xgbclassifier__gamma=0.33167662117194163, xgbclassifier__lambda=0.6274314008177302, xgbclassifier__learning_rate=0.6934763924278945, xgbclassifier__max_depth=9, xgbclassifier__n_estimators=112;, score=0.844 total time= 4.9min\n",
            "[CV 10/10] END tfidfvectorizer__lowercase=True, tfidfvectorizer__max_df=0.8, tfidfvectorizer__max_features=10000, tfidfvectorizer__min_df=1, tfidfvectorizer__ngram_range=(1, 1), tfidfvectorizer__smooth_idf=True, tfidfvectorizer__strip_accents=None, tfidfvectorizer__sublinear_tf=True, tfidfvectorizer__use_idf=False, xgbclassifier__alpha=0.36050726453927373, xgbclassifier__gamma=0.33167662117194163, xgbclassifier__lambda=0.6274314008177302, xgbclassifier__learning_rate=0.6934763924278945, xgbclassifier__max_depth=9, xgbclassifier__n_estimators=112;, score=0.841 total time= 5.0min\n",
            "[CV 1/10] END tfidfvectorizer__lowercase=False, tfidfvectorizer__max_df=0.9, tfidfvectorizer__max_features=1000, tfidfvectorizer__min_df=2, tfidfvectorizer__ngram_range=(1, 2), tfidfvectorizer__smooth_idf=False, tfidfvectorizer__strip_accents=ascii, tfidfvectorizer__sublinear_tf=True, tfidfvectorizer__use_idf=True, xgbclassifier__alpha=0.09518162193353041, xgbclassifier__gamma=0.41166323884293843, xgbclassifier__lambda=0.09686526126266715, xgbclassifier__learning_rate=0.14401099890768465, xgbclassifier__max_depth=4, xgbclassifier__n_estimators=125;, score=0.803 total time= 1.2min\n",
            "[CV 2/10] END tfidfvectorizer__lowercase=False, tfidfvectorizer__max_df=0.9, tfidfvectorizer__max_features=1000, tfidfvectorizer__min_df=2, tfidfvectorizer__ngram_range=(1, 2), tfidfvectorizer__smooth_idf=False, tfidfvectorizer__strip_accents=ascii, tfidfvectorizer__sublinear_tf=True, tfidfvectorizer__use_idf=True, xgbclassifier__alpha=0.09518162193353041, xgbclassifier__gamma=0.41166323884293843, xgbclassifier__lambda=0.09686526126266715, xgbclassifier__learning_rate=0.14401099890768465, xgbclassifier__max_depth=4, xgbclassifier__n_estimators=125;, score=0.805 total time= 1.2min\n",
            "[CV 3/10] END tfidfvectorizer__lowercase=False, tfidfvectorizer__max_df=0.9, tfidfvectorizer__max_features=1000, tfidfvectorizer__min_df=2, tfidfvectorizer__ngram_range=(1, 2), tfidfvectorizer__smooth_idf=False, tfidfvectorizer__strip_accents=ascii, tfidfvectorizer__sublinear_tf=True, tfidfvectorizer__use_idf=True, xgbclassifier__alpha=0.09518162193353041, xgbclassifier__gamma=0.41166323884293843, xgbclassifier__lambda=0.09686526126266715, xgbclassifier__learning_rate=0.14401099890768465, xgbclassifier__max_depth=4, xgbclassifier__n_estimators=125;, score=0.811 total time= 1.3min\n",
            "[CV 4/10] END tfidfvectorizer__lowercase=False, tfidfvectorizer__max_df=0.9, tfidfvectorizer__max_features=1000, tfidfvectorizer__min_df=2, tfidfvectorizer__ngram_range=(1, 2), tfidfvectorizer__smooth_idf=False, tfidfvectorizer__strip_accents=ascii, tfidfvectorizer__sublinear_tf=True, tfidfvectorizer__use_idf=True, xgbclassifier__alpha=0.09518162193353041, xgbclassifier__gamma=0.41166323884293843, xgbclassifier__lambda=0.09686526126266715, xgbclassifier__learning_rate=0.14401099890768465, xgbclassifier__max_depth=4, xgbclassifier__n_estimators=125;, score=0.809 total time= 1.2min\n",
            "[CV 5/10] END tfidfvectorizer__lowercase=False, tfidfvectorizer__max_df=0.9, tfidfvectorizer__max_features=1000, tfidfvectorizer__min_df=2, tfidfvectorizer__ngram_range=(1, 2), tfidfvectorizer__smooth_idf=False, tfidfvectorizer__strip_accents=ascii, tfidfvectorizer__sublinear_tf=True, tfidfvectorizer__use_idf=True, xgbclassifier__alpha=0.09518162193353041, xgbclassifier__gamma=0.41166323884293843, xgbclassifier__lambda=0.09686526126266715, xgbclassifier__learning_rate=0.14401099890768465, xgbclassifier__max_depth=4, xgbclassifier__n_estimators=125;, score=0.806 total time= 1.2min\n",
            "[CV 6/10] END tfidfvectorizer__lowercase=False, tfidfvectorizer__max_df=0.9, tfidfvectorizer__max_features=1000, tfidfvectorizer__min_df=2, tfidfvectorizer__ngram_range=(1, 2), tfidfvectorizer__smooth_idf=False, tfidfvectorizer__strip_accents=ascii, tfidfvectorizer__sublinear_tf=True, tfidfvectorizer__use_idf=True, xgbclassifier__alpha=0.09518162193353041, xgbclassifier__gamma=0.41166323884293843, xgbclassifier__lambda=0.09686526126266715, xgbclassifier__learning_rate=0.14401099890768465, xgbclassifier__max_depth=4, xgbclassifier__n_estimators=125;, score=0.817 total time= 1.2min\n",
            "[CV 7/10] END tfidfvectorizer__lowercase=False, tfidfvectorizer__max_df=0.9, tfidfvectorizer__max_features=1000, tfidfvectorizer__min_df=2, tfidfvectorizer__ngram_range=(1, 2), tfidfvectorizer__smooth_idf=False, tfidfvectorizer__strip_accents=ascii, tfidfvectorizer__sublinear_tf=True, tfidfvectorizer__use_idf=True, xgbclassifier__alpha=0.09518162193353041, xgbclassifier__gamma=0.41166323884293843, xgbclassifier__lambda=0.09686526126266715, xgbclassifier__learning_rate=0.14401099890768465, xgbclassifier__max_depth=4, xgbclassifier__n_estimators=125;, score=0.813 total time= 1.3min\n",
            "[CV 8/10] END tfidfvectorizer__lowercase=False, tfidfvectorizer__max_df=0.9, tfidfvectorizer__max_features=1000, tfidfvectorizer__min_df=2, tfidfvectorizer__ngram_range=(1, 2), tfidfvectorizer__smooth_idf=False, tfidfvectorizer__strip_accents=ascii, tfidfvectorizer__sublinear_tf=True, tfidfvectorizer__use_idf=True, xgbclassifier__alpha=0.09518162193353041, xgbclassifier__gamma=0.41166323884293843, xgbclassifier__lambda=0.09686526126266715, xgbclassifier__learning_rate=0.14401099890768465, xgbclassifier__max_depth=4, xgbclassifier__n_estimators=125;, score=0.818 total time= 1.2min\n",
            "[CV 9/10] END tfidfvectorizer__lowercase=False, tfidfvectorizer__max_df=0.9, tfidfvectorizer__max_features=1000, tfidfvectorizer__min_df=2, tfidfvectorizer__ngram_range=(1, 2), tfidfvectorizer__smooth_idf=False, tfidfvectorizer__strip_accents=ascii, tfidfvectorizer__sublinear_tf=True, tfidfvectorizer__use_idf=True, xgbclassifier__alpha=0.09518162193353041, xgbclassifier__gamma=0.41166323884293843, xgbclassifier__lambda=0.09686526126266715, xgbclassifier__learning_rate=0.14401099890768465, xgbclassifier__max_depth=4, xgbclassifier__n_estimators=125;, score=0.813 total time= 1.4min\n",
            "[CV 10/10] END tfidfvectorizer__lowercase=False, tfidfvectorizer__max_df=0.9, tfidfvectorizer__max_features=1000, tfidfvectorizer__min_df=2, tfidfvectorizer__ngram_range=(1, 2), tfidfvectorizer__smooth_idf=False, tfidfvectorizer__strip_accents=ascii, tfidfvectorizer__sublinear_tf=True, tfidfvectorizer__use_idf=True, xgbclassifier__alpha=0.09518162193353041, xgbclassifier__gamma=0.41166323884293843, xgbclassifier__lambda=0.09686526126266715, xgbclassifier__learning_rate=0.14401099890768465, xgbclassifier__max_depth=4, xgbclassifier__n_estimators=125;, score=0.811 total time= 1.2min\n",
            "[CV 1/10] END tfidfvectorizer__lowercase=True, tfidfvectorizer__max_df=0.9, tfidfvectorizer__max_features=5000, tfidfvectorizer__min_df=2, tfidfvectorizer__ngram_range=(1, 2), tfidfvectorizer__smooth_idf=True, tfidfvectorizer__strip_accents=ascii, tfidfvectorizer__sublinear_tf=True, tfidfvectorizer__use_idf=False, xgbclassifier__alpha=0.7058756569689376, xgbclassifier__gamma=0.3775647770023919, xgbclassifier__lambda=0.3120897936952004, xgbclassifier__learning_rate=0.19492978248653436, xgbclassifier__max_depth=8, xgbclassifier__n_estimators=61;, score=0.825 total time= 3.6min\n",
            "[CV 2/10] END tfidfvectorizer__lowercase=True, tfidfvectorizer__max_df=0.9, tfidfvectorizer__max_features=5000, tfidfvectorizer__min_df=2, tfidfvectorizer__ngram_range=(1, 2), tfidfvectorizer__smooth_idf=True, tfidfvectorizer__strip_accents=ascii, tfidfvectorizer__sublinear_tf=True, tfidfvectorizer__use_idf=False, xgbclassifier__alpha=0.7058756569689376, xgbclassifier__gamma=0.3775647770023919, xgbclassifier__lambda=0.3120897936952004, xgbclassifier__learning_rate=0.19492978248653436, xgbclassifier__max_depth=8, xgbclassifier__n_estimators=61;, score=0.823 total time= 3.6min\n",
            "[CV 3/10] END tfidfvectorizer__lowercase=True, tfidfvectorizer__max_df=0.9, tfidfvectorizer__max_features=5000, tfidfvectorizer__min_df=2, tfidfvectorizer__ngram_range=(1, 2), tfidfvectorizer__smooth_idf=True, tfidfvectorizer__strip_accents=ascii, tfidfvectorizer__sublinear_tf=True, tfidfvectorizer__use_idf=False, xgbclassifier__alpha=0.7058756569689376, xgbclassifier__gamma=0.3775647770023919, xgbclassifier__lambda=0.3120897936952004, xgbclassifier__learning_rate=0.19492978248653436, xgbclassifier__max_depth=8, xgbclassifier__n_estimators=61;, score=0.822 total time= 3.6min\n",
            "[CV 4/10] END tfidfvectorizer__lowercase=True, tfidfvectorizer__max_df=0.9, tfidfvectorizer__max_features=5000, tfidfvectorizer__min_df=2, tfidfvectorizer__ngram_range=(1, 2), tfidfvectorizer__smooth_idf=True, tfidfvectorizer__strip_accents=ascii, tfidfvectorizer__sublinear_tf=True, tfidfvectorizer__use_idf=False, xgbclassifier__alpha=0.7058756569689376, xgbclassifier__gamma=0.3775647770023919, xgbclassifier__lambda=0.3120897936952004, xgbclassifier__learning_rate=0.19492978248653436, xgbclassifier__max_depth=8, xgbclassifier__n_estimators=61;, score=0.823 total time= 3.6min\n",
            "[CV 5/10] END tfidfvectorizer__lowercase=True, tfidfvectorizer__max_df=0.9, tfidfvectorizer__max_features=5000, tfidfvectorizer__min_df=2, tfidfvectorizer__ngram_range=(1, 2), tfidfvectorizer__smooth_idf=True, tfidfvectorizer__strip_accents=ascii, tfidfvectorizer__sublinear_tf=True, tfidfvectorizer__use_idf=False, xgbclassifier__alpha=0.7058756569689376, xgbclassifier__gamma=0.3775647770023919, xgbclassifier__lambda=0.3120897936952004, xgbclassifier__learning_rate=0.19492978248653436, xgbclassifier__max_depth=8, xgbclassifier__n_estimators=61;, score=0.819 total time= 3.5min\n",
            "[CV 6/10] END tfidfvectorizer__lowercase=True, tfidfvectorizer__max_df=0.9, tfidfvectorizer__max_features=5000, tfidfvectorizer__min_df=2, tfidfvectorizer__ngram_range=(1, 2), tfidfvectorizer__smooth_idf=True, tfidfvectorizer__strip_accents=ascii, tfidfvectorizer__sublinear_tf=True, tfidfvectorizer__use_idf=False, xgbclassifier__alpha=0.7058756569689376, xgbclassifier__gamma=0.3775647770023919, xgbclassifier__lambda=0.3120897936952004, xgbclassifier__learning_rate=0.19492978248653436, xgbclassifier__max_depth=8, xgbclassifier__n_estimators=61;, score=0.834 total time= 3.7min\n",
            "[CV 7/10] END tfidfvectorizer__lowercase=True, tfidfvectorizer__max_df=0.9, tfidfvectorizer__max_features=5000, tfidfvectorizer__min_df=2, tfidfvectorizer__ngram_range=(1, 2), tfidfvectorizer__smooth_idf=True, tfidfvectorizer__strip_accents=ascii, tfidfvectorizer__sublinear_tf=True, tfidfvectorizer__use_idf=False, xgbclassifier__alpha=0.7058756569689376, xgbclassifier__gamma=0.3775647770023919, xgbclassifier__lambda=0.3120897936952004, xgbclassifier__learning_rate=0.19492978248653436, xgbclassifier__max_depth=8, xgbclassifier__n_estimators=61;, score=0.826 total time= 3.5min\n",
            "[CV 8/10] END tfidfvectorizer__lowercase=True, tfidfvectorizer__max_df=0.9, tfidfvectorizer__max_features=5000, tfidfvectorizer__min_df=2, tfidfvectorizer__ngram_range=(1, 2), tfidfvectorizer__smooth_idf=True, tfidfvectorizer__strip_accents=ascii, tfidfvectorizer__sublinear_tf=True, tfidfvectorizer__use_idf=False, xgbclassifier__alpha=0.7058756569689376, xgbclassifier__gamma=0.3775647770023919, xgbclassifier__lambda=0.3120897936952004, xgbclassifier__learning_rate=0.19492978248653436, xgbclassifier__max_depth=8, xgbclassifier__n_estimators=61;, score=0.835 total time= 3.5min\n",
            "[CV 9/10] END tfidfvectorizer__lowercase=True, tfidfvectorizer__max_df=0.9, tfidfvectorizer__max_features=5000, tfidfvectorizer__min_df=2, tfidfvectorizer__ngram_range=(1, 2), tfidfvectorizer__smooth_idf=True, tfidfvectorizer__strip_accents=ascii, tfidfvectorizer__sublinear_tf=True, tfidfvectorizer__use_idf=False, xgbclassifier__alpha=0.7058756569689376, xgbclassifier__gamma=0.3775647770023919, xgbclassifier__lambda=0.3120897936952004, xgbclassifier__learning_rate=0.19492978248653436, xgbclassifier__max_depth=8, xgbclassifier__n_estimators=61;, score=0.831 total time= 3.5min\n",
            "[CV 10/10] END tfidfvectorizer__lowercase=True, tfidfvectorizer__max_df=0.9, tfidfvectorizer__max_features=5000, tfidfvectorizer__min_df=2, tfidfvectorizer__ngram_range=(1, 2), tfidfvectorizer__smooth_idf=True, tfidfvectorizer__strip_accents=ascii, tfidfvectorizer__sublinear_tf=True, tfidfvectorizer__use_idf=False, xgbclassifier__alpha=0.7058756569689376, xgbclassifier__gamma=0.3775647770023919, xgbclassifier__lambda=0.3120897936952004, xgbclassifier__learning_rate=0.19492978248653436, xgbclassifier__max_depth=8, xgbclassifier__n_estimators=61;, score=0.834 total time= 3.5min\n"
          ]
        },
        {
          "output_type": "execute_result",
          "data": {
            "text/plain": [
              "{'tfidfvectorizer__lowercase': True,\n",
              " 'tfidfvectorizer__max_df': 0.8,\n",
              " 'tfidfvectorizer__max_features': 10000,\n",
              " 'tfidfvectorizer__min_df': 1,\n",
              " 'tfidfvectorizer__ngram_range': (1, 1),\n",
              " 'tfidfvectorizer__smooth_idf': True,\n",
              " 'tfidfvectorizer__strip_accents': None,\n",
              " 'tfidfvectorizer__sublinear_tf': True,\n",
              " 'tfidfvectorizer__use_idf': False,\n",
              " 'xgbclassifier__alpha': 0.36050726453927373,\n",
              " 'xgbclassifier__gamma': 0.33167662117194163,\n",
              " 'xgbclassifier__lambda': 0.6274314008177302,\n",
              " 'xgbclassifier__learning_rate': 0.6934763924278945,\n",
              " 'xgbclassifier__max_depth': 9,\n",
              " 'xgbclassifier__n_estimators': 112}"
            ]
          },
          "metadata": {},
          "execution_count": 33
        }
      ],
      "source": [
        "# Obtiene la lista de stopwords en español\n",
        "stopwords = nltk.corpus.stopwords.words('spanish')\n",
        "\n",
        "model = make_pipeline(\n",
        "    TfidfVectorizer(stop_words = stopwords),  # Establece la lista de stopwords en español\n",
        "    xgb.XGBClassifier(objective='binary:logistic', random_state=99)\n",
        ")\n",
        "\n",
        "# Defino la grilla de hiperparámetros y sus rangos\n",
        "param_dist = {\n",
        "    'xgbclassifier__learning_rate': uniform(0, 1),\n",
        "    'xgbclassifier__max_depth': randint(3, 10),\n",
        "    #'xgbclassifier__subsample': uniform(0.5, 0.5),\n",
        "    #'xgbclassifier__colsample_bytree': uniform(0.5, 0.5),\n",
        "    'xgbclassifier__gamma': uniform(0, 1),\n",
        "    'xgbclassifier__alpha': uniform(0, 1),\n",
        "    'xgbclassifier__lambda': uniform(0, 1),\n",
        "    'xgbclassifier__n_estimators': randint(50, 200),\n",
        "\n",
        "    'tfidfvectorizer__strip_accents': [None, 'ascii'],\n",
        "    'tfidfvectorizer__lowercase': [True, False],\n",
        "    'tfidfvectorizer__ngram_range': [(1, 1), (1, 2), (2, 2)],\n",
        "    'tfidfvectorizer__max_df': [0.8, 0.9, 1.0],\n",
        "    'tfidfvectorizer__min_df': [1, 2, 3],\n",
        "    'tfidfvectorizer__max_features': [1000, 5000, 10000],\n",
        "    'tfidfvectorizer__use_idf': [True, False],\n",
        "    'tfidfvectorizer__smooth_idf': [True, False],\n",
        "    'tfidfvectorizer__sublinear_tf': [True, False]\n",
        "}\n",
        "\n",
        "# Busca el mejor modelo de XGBoost con RandomizedSearchCV\n",
        "random_search = RandomizedSearchCV(\n",
        "    estimator=model,\n",
        "    param_distributions= param_dist,\n",
        "    n_iter=4, ## <--- Prueba 4 combinaciones aleatorias.\n",
        "    scoring='f1',\n",
        "    cv=10, ## <-- Prueba con 10 splits para el cross validation\n",
        "    random_state=99,\n",
        "    verbose = 4\n",
        ")\n",
        "\n",
        "# ENTRENO CON MIS DATOS COMPLETOS ds_train\n",
        "random_search.fit(ds_train_x, ds_train_y_bin) # <-- IMPORTANTISIMO QUE SE ENTRENE CON LOS DATASET COMPLETOS, Y NO CON EL 70% - 30%\n",
        "\n",
        "# Obtener el mejor modelo y sus hiperparámetros\n",
        "best_model = random_search.best_estimator_\n",
        "best_params = random_search.best_params_\n",
        "best_params"
      ]
    },
    {
      "cell_type": "markdown",
      "source": [
        "**Mejores hiperparámetros:**\n",
        "\n",
        "{'tfidfvectorizer__lowercase': True,\n",
        " 'tfidfvectorizer__max_df': 0.8,\n",
        " 'tfidfvectorizer__max_features': 10000,\n",
        " 'tfidfvectorizer__min_df': 1,\n",
        " 'tfidfvectorizer__ngram_range': (1, 1),\n",
        " 'tfidfvectorizer__smooth_idf': True,\n",
        " 'tfidfvectorizer__strip_accents': None,\n",
        " 'tfidfvectorizer__sublinear_tf': True,\n",
        " 'tfidfvectorizer__use_idf': False,\n",
        " 'xgbclassifier__alpha': 0.36050726453927373,\n",
        " 'xgbclassifier__gamma': 0.33167662117194163,\n",
        " 'xgbclassifier__lambda': 0.6274314008177302,\n",
        " 'xgbclassifier__learning_rate': 0.6934763924278945,\n",
        " 'xgbclassifier__max_depth': 9,\n",
        " 'xgbclassifier__n_estimators': 112}"
      ],
      "metadata": {
        "id": "HgeA32iUz5Hf"
      }
    },
    {
      "cell_type": "code",
      "source": [
        "random_search.best_score_"
      ],
      "metadata": {
        "colab": {
          "base_uri": "https://localhost:8080/"
        },
        "id": "Y_lz1lazz43v",
        "outputId": "1f2049f9-23d4-4316-b68e-ba8bbcf59681"
      },
      "execution_count": null,
      "outputs": [
        {
          "output_type": "execute_result",
          "data": {
            "text/plain": [
              "0.8383574451311352"
            ]
          },
          "metadata": {},
          "execution_count": 34
        }
      ]
    },
    {
      "cell_type": "markdown",
      "source": [
        "Hacemos la prediccion para kaggle y para la matriz de confusion"
      ],
      "metadata": {
        "id": "yuhLzR4NodyU"
      }
    },
    {
      "cell_type": "code",
      "execution_count": null,
      "metadata": {
        "id": "S15CXDdrdOcT"
      },
      "outputs": [],
      "source": [
        "#PREDIGO SOBRE MI DATASET COMPLETO DE TEST\n",
        "y_pred_kaggle_submission = best_model.predict(ds_test['review_es']) # <--- PARA KAGGLE\n",
        "\n",
        "# Realizar predicciones en el conjunto de prueba para hacer el classificacion report\n",
        "\n",
        "y_pred_para_matriz_de_confusion = best_model.predict(x_test)  # <--- PARA LA MATRIZ DE CONFUSION Y EL CLASSIFICATION REPORT\n",
        "\n",
        "# Calcular el informe de clasificación\n",
        "print(classification_report(y_test_bin, y_pred_para_matriz_de_confusion))\n",
        "\n",
        "#Creo la matriz de confusión\n",
        "\n",
        "tabla=confusion_matrix(y_test_bin, y_pred_para_matriz_de_confusion)\n",
        "\n",
        "#Grafico la matriz de confusión\n",
        "sns.heatmap(tabla,cmap='GnBu',annot=True,fmt='g')\n",
        "plt.xlabel('Valores predichos')\n",
        "plt.ylabel('Valores reales')\n"
      ]
    },
    {
      "cell_type": "markdown",
      "source": [
        "Creamos la tabla para submitear a Kaggle"
      ],
      "metadata": {
        "id": "pIX8htiQohR1"
      }
    },
    {
      "cell_type": "code",
      "source": [
        "#Guardamos el modelo\n",
        "dump(best_model, '/content/drive/MyDrive/Tp_Datos_2023_2°/TP2/modelos/modelo_optimizado_xgbboost.joblib')\n",
        "\n",
        "#Generamos csv para Kaggle\n",
        "submission_opt_xgb = pd.DataFrame({'ID': ds_test['ID'], 'sentimiento': y_pred_submission})\n",
        "submission_opt_xgb.sentimiento = submission_opt_xgb.sentimiento.map({0: 'negativo', 1: 'positivo'})\n",
        "submission_opt_xgb.to_csv('/content/drive/MyDrive/Tp_Datos_2023_2°/TP2/submissions/submission_opt_xgb.csv', index=False)"
      ],
      "metadata": {
        "id": "j2nBISoP0tRY"
      },
      "execution_count": null,
      "outputs": []
    },
    {
      "cell_type": "markdown",
      "source": [
        "### Realizo una nueva predicción con el dataset con stemming aplicado"
      ],
      "metadata": {
        "id": "LtIKrTsxR8Yx"
      }
    },
    {
      "cell_type": "code",
      "source": [
        "best_model_xgb = load('/content/drive/MyDrive/Tp_Datos_2023_2°/TP2/modelos/modelo_optimizado_xgbboost.joblib')"
      ],
      "metadata": {
        "id": "4Y_Q6MaLR8Yy"
      },
      "execution_count": null,
      "outputs": []
    },
    {
      "cell_type": "code",
      "source": [
        "best_model_xgb.best_estimator_.fit(ds_train_stemmed['review_es'],ds_train_y_bin)"
      ],
      "metadata": {
        "colab": {
          "base_uri": "https://localhost:8080/",
          "height": 126
        },
        "outputId": "7b1f30fa-2e14-4901-b1ad-0188e7dcb618",
        "id": "NGA464tAR8Y0"
      },
      "execution_count": null,
      "outputs": [
        {
          "output_type": "execute_result",
          "data": {
            "text/plain": [
              "Pipeline(steps=[('tfidfvectorizer',\n",
              "                 TfidfVectorizer(max_df=0.8, max_features=10000,\n",
              "                                 stop_words=['de', 'la', 'que', 'el', 'en', 'y',\n",
              "                                             'a', 'los', 'del', 'se', 'las',\n",
              "                                             'por', 'un', 'para', 'con', 'no',\n",
              "                                             'una', 'su', 'al', 'lo', 'como',\n",
              "                                             'más', 'pero', 'sus', 'le', 'ya',\n",
              "                                             'o', 'este', 'sí', 'porque', ...],\n",
              "                                 sublinear_tf=True, use_idf=False)),\n",
              "                ('xgbclassifier',\n",
              "                 XGBClassifier(alpha=0.36050726453...\n",
              "                               feature_types=None, gamma=0.33167662117194163,\n",
              "                               grow_policy=None, importance_type=None,\n",
              "                               interaction_constraints=None,\n",
              "                               lambda=0.6274314008177302,\n",
              "                               learning_rate=0.6934763924278945, max_bin=None,\n",
              "                               max_cat_threshold=None, max_cat_to_onehot=None,\n",
              "                               max_delta_step=None, max_depth=9,\n",
              "                               max_leaves=None, min_child_weight=None,\n",
              "                               missing=nan, monotone_constraints=None,\n",
              "                               multi_strategy=None, n_estimators=112,\n",
              "                               n_jobs=None, ...))])"
            ],
            "text/html": [
              "<style>#sk-container-id-2 {color: black;background-color: white;}#sk-container-id-2 pre{padding: 0;}#sk-container-id-2 div.sk-toggleable {background-color: white;}#sk-container-id-2 label.sk-toggleable__label {cursor: pointer;display: block;width: 100%;margin-bottom: 0;padding: 0.3em;box-sizing: border-box;text-align: center;}#sk-container-id-2 label.sk-toggleable__label-arrow:before {content: \"▸\";float: left;margin-right: 0.25em;color: #696969;}#sk-container-id-2 label.sk-toggleable__label-arrow:hover:before {color: black;}#sk-container-id-2 div.sk-estimator:hover label.sk-toggleable__label-arrow:before {color: black;}#sk-container-id-2 div.sk-toggleable__content {max-height: 0;max-width: 0;overflow: hidden;text-align: left;background-color: #f0f8ff;}#sk-container-id-2 div.sk-toggleable__content pre {margin: 0.2em;color: black;border-radius: 0.25em;background-color: #f0f8ff;}#sk-container-id-2 input.sk-toggleable__control:checked~div.sk-toggleable__content {max-height: 200px;max-width: 100%;overflow: auto;}#sk-container-id-2 input.sk-toggleable__control:checked~label.sk-toggleable__label-arrow:before {content: \"▾\";}#sk-container-id-2 div.sk-estimator input.sk-toggleable__control:checked~label.sk-toggleable__label {background-color: #d4ebff;}#sk-container-id-2 div.sk-label input.sk-toggleable__control:checked~label.sk-toggleable__label {background-color: #d4ebff;}#sk-container-id-2 input.sk-hidden--visually {border: 0;clip: rect(1px 1px 1px 1px);clip: rect(1px, 1px, 1px, 1px);height: 1px;margin: -1px;overflow: hidden;padding: 0;position: absolute;width: 1px;}#sk-container-id-2 div.sk-estimator {font-family: monospace;background-color: #f0f8ff;border: 1px dotted black;border-radius: 0.25em;box-sizing: border-box;margin-bottom: 0.5em;}#sk-container-id-2 div.sk-estimator:hover {background-color: #d4ebff;}#sk-container-id-2 div.sk-parallel-item::after {content: \"\";width: 100%;border-bottom: 1px solid gray;flex-grow: 1;}#sk-container-id-2 div.sk-label:hover label.sk-toggleable__label {background-color: #d4ebff;}#sk-container-id-2 div.sk-serial::before {content: \"\";position: absolute;border-left: 1px solid gray;box-sizing: border-box;top: 0;bottom: 0;left: 50%;z-index: 0;}#sk-container-id-2 div.sk-serial {display: flex;flex-direction: column;align-items: center;background-color: white;padding-right: 0.2em;padding-left: 0.2em;position: relative;}#sk-container-id-2 div.sk-item {position: relative;z-index: 1;}#sk-container-id-2 div.sk-parallel {display: flex;align-items: stretch;justify-content: center;background-color: white;position: relative;}#sk-container-id-2 div.sk-item::before, #sk-container-id-2 div.sk-parallel-item::before {content: \"\";position: absolute;border-left: 1px solid gray;box-sizing: border-box;top: 0;bottom: 0;left: 50%;z-index: -1;}#sk-container-id-2 div.sk-parallel-item {display: flex;flex-direction: column;z-index: 1;position: relative;background-color: white;}#sk-container-id-2 div.sk-parallel-item:first-child::after {align-self: flex-end;width: 50%;}#sk-container-id-2 div.sk-parallel-item:last-child::after {align-self: flex-start;width: 50%;}#sk-container-id-2 div.sk-parallel-item:only-child::after {width: 0;}#sk-container-id-2 div.sk-dashed-wrapped {border: 1px dashed gray;margin: 0 0.4em 0.5em 0.4em;box-sizing: border-box;padding-bottom: 0.4em;background-color: white;}#sk-container-id-2 div.sk-label label {font-family: monospace;font-weight: bold;display: inline-block;line-height: 1.2em;}#sk-container-id-2 div.sk-label-container {text-align: center;}#sk-container-id-2 div.sk-container {/* jupyter's `normalize.less` sets `[hidden] { display: none; }` but bootstrap.min.css set `[hidden] { display: none !important; }` so we also need the `!important` here to be able to override the default hidden behavior on the sphinx rendered scikit-learn.org. See: https://github.com/scikit-learn/scikit-learn/issues/21755 */display: inline-block !important;position: relative;}#sk-container-id-2 div.sk-text-repr-fallback {display: none;}</style><div id=\"sk-container-id-2\" class=\"sk-top-container\"><div class=\"sk-text-repr-fallback\"><pre>Pipeline(steps=[(&#x27;tfidfvectorizer&#x27;,\n",
              "                 TfidfVectorizer(max_df=0.8, max_features=10000,\n",
              "                                 stop_words=[&#x27;de&#x27;, &#x27;la&#x27;, &#x27;que&#x27;, &#x27;el&#x27;, &#x27;en&#x27;, &#x27;y&#x27;,\n",
              "                                             &#x27;a&#x27;, &#x27;los&#x27;, &#x27;del&#x27;, &#x27;se&#x27;, &#x27;las&#x27;,\n",
              "                                             &#x27;por&#x27;, &#x27;un&#x27;, &#x27;para&#x27;, &#x27;con&#x27;, &#x27;no&#x27;,\n",
              "                                             &#x27;una&#x27;, &#x27;su&#x27;, &#x27;al&#x27;, &#x27;lo&#x27;, &#x27;como&#x27;,\n",
              "                                             &#x27;más&#x27;, &#x27;pero&#x27;, &#x27;sus&#x27;, &#x27;le&#x27;, &#x27;ya&#x27;,\n",
              "                                             &#x27;o&#x27;, &#x27;este&#x27;, &#x27;sí&#x27;, &#x27;porque&#x27;, ...],\n",
              "                                 sublinear_tf=True, use_idf=False)),\n",
              "                (&#x27;xgbclassifier&#x27;,\n",
              "                 XGBClassifier(alpha=0.36050726453...\n",
              "                               feature_types=None, gamma=0.33167662117194163,\n",
              "                               grow_policy=None, importance_type=None,\n",
              "                               interaction_constraints=None,\n",
              "                               lambda=0.6274314008177302,\n",
              "                               learning_rate=0.6934763924278945, max_bin=None,\n",
              "                               max_cat_threshold=None, max_cat_to_onehot=None,\n",
              "                               max_delta_step=None, max_depth=9,\n",
              "                               max_leaves=None, min_child_weight=None,\n",
              "                               missing=nan, monotone_constraints=None,\n",
              "                               multi_strategy=None, n_estimators=112,\n",
              "                               n_jobs=None, ...))])</pre><b>In a Jupyter environment, please rerun this cell to show the HTML representation or trust the notebook. <br />On GitHub, the HTML representation is unable to render, please try loading this page with nbviewer.org.</b></div><div class=\"sk-container\" hidden><div class=\"sk-item sk-dashed-wrapped\"><div class=\"sk-label-container\"><div class=\"sk-label sk-toggleable\"><input class=\"sk-toggleable__control sk-hidden--visually\" id=\"sk-estimator-id-4\" type=\"checkbox\" ><label for=\"sk-estimator-id-4\" class=\"sk-toggleable__label sk-toggleable__label-arrow\">Pipeline</label><div class=\"sk-toggleable__content\"><pre>Pipeline(steps=[(&#x27;tfidfvectorizer&#x27;,\n",
              "                 TfidfVectorizer(max_df=0.8, max_features=10000,\n",
              "                                 stop_words=[&#x27;de&#x27;, &#x27;la&#x27;, &#x27;que&#x27;, &#x27;el&#x27;, &#x27;en&#x27;, &#x27;y&#x27;,\n",
              "                                             &#x27;a&#x27;, &#x27;los&#x27;, &#x27;del&#x27;, &#x27;se&#x27;, &#x27;las&#x27;,\n",
              "                                             &#x27;por&#x27;, &#x27;un&#x27;, &#x27;para&#x27;, &#x27;con&#x27;, &#x27;no&#x27;,\n",
              "                                             &#x27;una&#x27;, &#x27;su&#x27;, &#x27;al&#x27;, &#x27;lo&#x27;, &#x27;como&#x27;,\n",
              "                                             &#x27;más&#x27;, &#x27;pero&#x27;, &#x27;sus&#x27;, &#x27;le&#x27;, &#x27;ya&#x27;,\n",
              "                                             &#x27;o&#x27;, &#x27;este&#x27;, &#x27;sí&#x27;, &#x27;porque&#x27;, ...],\n",
              "                                 sublinear_tf=True, use_idf=False)),\n",
              "                (&#x27;xgbclassifier&#x27;,\n",
              "                 XGBClassifier(alpha=0.36050726453...\n",
              "                               feature_types=None, gamma=0.33167662117194163,\n",
              "                               grow_policy=None, importance_type=None,\n",
              "                               interaction_constraints=None,\n",
              "                               lambda=0.6274314008177302,\n",
              "                               learning_rate=0.6934763924278945, max_bin=None,\n",
              "                               max_cat_threshold=None, max_cat_to_onehot=None,\n",
              "                               max_delta_step=None, max_depth=9,\n",
              "                               max_leaves=None, min_child_weight=None,\n",
              "                               missing=nan, monotone_constraints=None,\n",
              "                               multi_strategy=None, n_estimators=112,\n",
              "                               n_jobs=None, ...))])</pre></div></div></div><div class=\"sk-serial\"><div class=\"sk-item\"><div class=\"sk-estimator sk-toggleable\"><input class=\"sk-toggleable__control sk-hidden--visually\" id=\"sk-estimator-id-5\" type=\"checkbox\" ><label for=\"sk-estimator-id-5\" class=\"sk-toggleable__label sk-toggleable__label-arrow\">TfidfVectorizer</label><div class=\"sk-toggleable__content\"><pre>TfidfVectorizer(max_df=0.8, max_features=10000,\n",
              "                stop_words=[&#x27;de&#x27;, &#x27;la&#x27;, &#x27;que&#x27;, &#x27;el&#x27;, &#x27;en&#x27;, &#x27;y&#x27;, &#x27;a&#x27;, &#x27;los&#x27;,\n",
              "                            &#x27;del&#x27;, &#x27;se&#x27;, &#x27;las&#x27;, &#x27;por&#x27;, &#x27;un&#x27;, &#x27;para&#x27;, &#x27;con&#x27;,\n",
              "                            &#x27;no&#x27;, &#x27;una&#x27;, &#x27;su&#x27;, &#x27;al&#x27;, &#x27;lo&#x27;, &#x27;como&#x27;, &#x27;más&#x27;,\n",
              "                            &#x27;pero&#x27;, &#x27;sus&#x27;, &#x27;le&#x27;, &#x27;ya&#x27;, &#x27;o&#x27;, &#x27;este&#x27;, &#x27;sí&#x27;,\n",
              "                            &#x27;porque&#x27;, ...],\n",
              "                sublinear_tf=True, use_idf=False)</pre></div></div></div><div class=\"sk-item\"><div class=\"sk-estimator sk-toggleable\"><input class=\"sk-toggleable__control sk-hidden--visually\" id=\"sk-estimator-id-6\" type=\"checkbox\" ><label for=\"sk-estimator-id-6\" class=\"sk-toggleable__label sk-toggleable__label-arrow\">XGBClassifier</label><div class=\"sk-toggleable__content\"><pre>XGBClassifier(alpha=0.36050726453927373, base_score=None, booster=None,\n",
              "              callbacks=None, colsample_bylevel=None, colsample_bynode=None,\n",
              "              colsample_bytree=None, device=None, early_stopping_rounds=None,\n",
              "              enable_categorical=False, eval_metric=None, feature_types=None,\n",
              "              gamma=0.33167662117194163, grow_policy=None, importance_type=None,\n",
              "              interaction_constraints=None, lambda=0.6274314008177302,\n",
              "              learning_rate=0.6934763924278945, max_bin=None,\n",
              "              max_cat_threshold=None, max_cat_to_onehot=None,\n",
              "              max_delta_step=None, max_depth=9, max_leaves=None,\n",
              "              min_child_weight=None, missing=nan, monotone_constraints=None,\n",
              "              multi_strategy=None, n_estimators=112, n_jobs=None, ...)</pre></div></div></div></div></div></div></div>"
            ]
          },
          "metadata": {},
          "execution_count": 16
        }
      ]
    },
    {
      "cell_type": "code",
      "source": [
        "y_pred = best_model_xgb.predict(ds_test['review_es'])"
      ],
      "metadata": {
        "id": "bqNRTn-ZR8Y2"
      },
      "execution_count": null,
      "outputs": []
    },
    {
      "cell_type": "code",
      "source": [
        "df_submission = pd.DataFrame({'id': ds_test['ID'], 'sentimiento': y_pred})\n",
        "df_submission.sentimiento = df_submission.sentimiento.map({0: 'negativo', 1: 'positivo'})\n",
        "# Verificar la información del DataFrame\n",
        "df_submission.info()\n",
        "\n",
        "# Guardar el DataFrame en un archivo CSV\n",
        "df_submission.to_csv('/content/drive/MyDrive/Tp_Datos_2023_2°/TP2/submissions/modelo_optimizado_stemming_xgboost.csv', index=False)"
      ],
      "metadata": {
        "colab": {
          "base_uri": "https://localhost:8080/"
        },
        "outputId": "e8d5e3e0-5c56-47af-9f40-6ecd2066f98e",
        "id": "Mmib81YKR8Y3"
      },
      "execution_count": null,
      "outputs": [
        {
          "output_type": "stream",
          "name": "stdout",
          "text": [
            "<class 'pandas.core.frame.DataFrame'>\n",
            "RangeIndex: 8599 entries, 0 to 8598\n",
            "Data columns (total 2 columns):\n",
            " #   Column       Non-Null Count  Dtype \n",
            "---  ------       --------------  ----- \n",
            " 0   id           8599 non-null   int64 \n",
            " 1   sentimiento  8599 non-null   object\n",
            "dtypes: int64(1), object(1)\n",
            "memory usage: 134.5+ KB\n"
          ]
        }
      ]
    },
    {
      "cell_type": "code",
      "source": [
        "df_submission.head()"
      ],
      "metadata": {
        "id": "vUIvGUJ1Uamy",
        "outputId": "b2904ec0-73c1-4743-b9b5-69f4327792f0",
        "colab": {
          "base_uri": "https://localhost:8080/",
          "height": 206
        }
      },
      "execution_count": null,
      "outputs": [
        {
          "output_type": "execute_result",
          "data": {
            "text/plain": [
              "      id sentimiento\n",
              "0  60000    negativo\n",
              "1  60001    negativo\n",
              "2  60002    positivo\n",
              "3  60003    negativo\n",
              "4  60004    positivo"
            ],
            "text/html": [
              "\n",
              "  <div id=\"df-e0bb494d-9d03-4b45-853b-860ccd177aad\" class=\"colab-df-container\">\n",
              "    <div>\n",
              "<style scoped>\n",
              "    .dataframe tbody tr th:only-of-type {\n",
              "        vertical-align: middle;\n",
              "    }\n",
              "\n",
              "    .dataframe tbody tr th {\n",
              "        vertical-align: top;\n",
              "    }\n",
              "\n",
              "    .dataframe thead th {\n",
              "        text-align: right;\n",
              "    }\n",
              "</style>\n",
              "<table border=\"1\" class=\"dataframe\">\n",
              "  <thead>\n",
              "    <tr style=\"text-align: right;\">\n",
              "      <th></th>\n",
              "      <th>id</th>\n",
              "      <th>sentimiento</th>\n",
              "    </tr>\n",
              "  </thead>\n",
              "  <tbody>\n",
              "    <tr>\n",
              "      <th>0</th>\n",
              "      <td>60000</td>\n",
              "      <td>negativo</td>\n",
              "    </tr>\n",
              "    <tr>\n",
              "      <th>1</th>\n",
              "      <td>60001</td>\n",
              "      <td>negativo</td>\n",
              "    </tr>\n",
              "    <tr>\n",
              "      <th>2</th>\n",
              "      <td>60002</td>\n",
              "      <td>positivo</td>\n",
              "    </tr>\n",
              "    <tr>\n",
              "      <th>3</th>\n",
              "      <td>60003</td>\n",
              "      <td>negativo</td>\n",
              "    </tr>\n",
              "    <tr>\n",
              "      <th>4</th>\n",
              "      <td>60004</td>\n",
              "      <td>positivo</td>\n",
              "    </tr>\n",
              "  </tbody>\n",
              "</table>\n",
              "</div>\n",
              "    <div class=\"colab-df-buttons\">\n",
              "\n",
              "  <div class=\"colab-df-container\">\n",
              "    <button class=\"colab-df-convert\" onclick=\"convertToInteractive('df-e0bb494d-9d03-4b45-853b-860ccd177aad')\"\n",
              "            title=\"Convert this dataframe to an interactive table.\"\n",
              "            style=\"display:none;\">\n",
              "\n",
              "  <svg xmlns=\"http://www.w3.org/2000/svg\" height=\"24px\" viewBox=\"0 -960 960 960\">\n",
              "    <path d=\"M120-120v-720h720v720H120Zm60-500h600v-160H180v160Zm220 220h160v-160H400v160Zm0 220h160v-160H400v160ZM180-400h160v-160H180v160Zm440 0h160v-160H620v160ZM180-180h160v-160H180v160Zm440 0h160v-160H620v160Z\"/>\n",
              "  </svg>\n",
              "    </button>\n",
              "\n",
              "  <style>\n",
              "    .colab-df-container {\n",
              "      display:flex;\n",
              "      gap: 12px;\n",
              "    }\n",
              "\n",
              "    .colab-df-convert {\n",
              "      background-color: #E8F0FE;\n",
              "      border: none;\n",
              "      border-radius: 50%;\n",
              "      cursor: pointer;\n",
              "      display: none;\n",
              "      fill: #1967D2;\n",
              "      height: 32px;\n",
              "      padding: 0 0 0 0;\n",
              "      width: 32px;\n",
              "    }\n",
              "\n",
              "    .colab-df-convert:hover {\n",
              "      background-color: #E2EBFA;\n",
              "      box-shadow: 0px 1px 2px rgba(60, 64, 67, 0.3), 0px 1px 3px 1px rgba(60, 64, 67, 0.15);\n",
              "      fill: #174EA6;\n",
              "    }\n",
              "\n",
              "    .colab-df-buttons div {\n",
              "      margin-bottom: 4px;\n",
              "    }\n",
              "\n",
              "    [theme=dark] .colab-df-convert {\n",
              "      background-color: #3B4455;\n",
              "      fill: #D2E3FC;\n",
              "    }\n",
              "\n",
              "    [theme=dark] .colab-df-convert:hover {\n",
              "      background-color: #434B5C;\n",
              "      box-shadow: 0px 1px 3px 1px rgba(0, 0, 0, 0.15);\n",
              "      filter: drop-shadow(0px 1px 2px rgba(0, 0, 0, 0.3));\n",
              "      fill: #FFFFFF;\n",
              "    }\n",
              "  </style>\n",
              "\n",
              "    <script>\n",
              "      const buttonEl =\n",
              "        document.querySelector('#df-e0bb494d-9d03-4b45-853b-860ccd177aad button.colab-df-convert');\n",
              "      buttonEl.style.display =\n",
              "        google.colab.kernel.accessAllowed ? 'block' : 'none';\n",
              "\n",
              "      async function convertToInteractive(key) {\n",
              "        const element = document.querySelector('#df-e0bb494d-9d03-4b45-853b-860ccd177aad');\n",
              "        const dataTable =\n",
              "          await google.colab.kernel.invokeFunction('convertToInteractive',\n",
              "                                                    [key], {});\n",
              "        if (!dataTable) return;\n",
              "\n",
              "        const docLinkHtml = 'Like what you see? Visit the ' +\n",
              "          '<a target=\"_blank\" href=https://colab.research.google.com/notebooks/data_table.ipynb>data table notebook</a>'\n",
              "          + ' to learn more about interactive tables.';\n",
              "        element.innerHTML = '';\n",
              "        dataTable['output_type'] = 'display_data';\n",
              "        await google.colab.output.renderOutput(dataTable, element);\n",
              "        const docLink = document.createElement('div');\n",
              "        docLink.innerHTML = docLinkHtml;\n",
              "        element.appendChild(docLink);\n",
              "      }\n",
              "    </script>\n",
              "  </div>\n",
              "\n",
              "\n",
              "<div id=\"df-66bb09f0-3256-4a68-9301-b2f7f70b9210\">\n",
              "  <button class=\"colab-df-quickchart\" onclick=\"quickchart('df-66bb09f0-3256-4a68-9301-b2f7f70b9210')\"\n",
              "            title=\"Suggest charts\"\n",
              "            style=\"display:none;\">\n",
              "\n",
              "<svg xmlns=\"http://www.w3.org/2000/svg\" height=\"24px\"viewBox=\"0 0 24 24\"\n",
              "     width=\"24px\">\n",
              "    <g>\n",
              "        <path d=\"M19 3H5c-1.1 0-2 .9-2 2v14c0 1.1.9 2 2 2h14c1.1 0 2-.9 2-2V5c0-1.1-.9-2-2-2zM9 17H7v-7h2v7zm4 0h-2V7h2v10zm4 0h-2v-4h2v4z\"/>\n",
              "    </g>\n",
              "</svg>\n",
              "  </button>\n",
              "\n",
              "<style>\n",
              "  .colab-df-quickchart {\n",
              "      --bg-color: #E8F0FE;\n",
              "      --fill-color: #1967D2;\n",
              "      --hover-bg-color: #E2EBFA;\n",
              "      --hover-fill-color: #174EA6;\n",
              "      --disabled-fill-color: #AAA;\n",
              "      --disabled-bg-color: #DDD;\n",
              "  }\n",
              "\n",
              "  [theme=dark] .colab-df-quickchart {\n",
              "      --bg-color: #3B4455;\n",
              "      --fill-color: #D2E3FC;\n",
              "      --hover-bg-color: #434B5C;\n",
              "      --hover-fill-color: #FFFFFF;\n",
              "      --disabled-bg-color: #3B4455;\n",
              "      --disabled-fill-color: #666;\n",
              "  }\n",
              "\n",
              "  .colab-df-quickchart {\n",
              "    background-color: var(--bg-color);\n",
              "    border: none;\n",
              "    border-radius: 50%;\n",
              "    cursor: pointer;\n",
              "    display: none;\n",
              "    fill: var(--fill-color);\n",
              "    height: 32px;\n",
              "    padding: 0;\n",
              "    width: 32px;\n",
              "  }\n",
              "\n",
              "  .colab-df-quickchart:hover {\n",
              "    background-color: var(--hover-bg-color);\n",
              "    box-shadow: 0 1px 2px rgba(60, 64, 67, 0.3), 0 1px 3px 1px rgba(60, 64, 67, 0.15);\n",
              "    fill: var(--button-hover-fill-color);\n",
              "  }\n",
              "\n",
              "  .colab-df-quickchart-complete:disabled,\n",
              "  .colab-df-quickchart-complete:disabled:hover {\n",
              "    background-color: var(--disabled-bg-color);\n",
              "    fill: var(--disabled-fill-color);\n",
              "    box-shadow: none;\n",
              "  }\n",
              "\n",
              "  .colab-df-spinner {\n",
              "    border: 2px solid var(--fill-color);\n",
              "    border-color: transparent;\n",
              "    border-bottom-color: var(--fill-color);\n",
              "    animation:\n",
              "      spin 1s steps(1) infinite;\n",
              "  }\n",
              "\n",
              "  @keyframes spin {\n",
              "    0% {\n",
              "      border-color: transparent;\n",
              "      border-bottom-color: var(--fill-color);\n",
              "      border-left-color: var(--fill-color);\n",
              "    }\n",
              "    20% {\n",
              "      border-color: transparent;\n",
              "      border-left-color: var(--fill-color);\n",
              "      border-top-color: var(--fill-color);\n",
              "    }\n",
              "    30% {\n",
              "      border-color: transparent;\n",
              "      border-left-color: var(--fill-color);\n",
              "      border-top-color: var(--fill-color);\n",
              "      border-right-color: var(--fill-color);\n",
              "    }\n",
              "    40% {\n",
              "      border-color: transparent;\n",
              "      border-right-color: var(--fill-color);\n",
              "      border-top-color: var(--fill-color);\n",
              "    }\n",
              "    60% {\n",
              "      border-color: transparent;\n",
              "      border-right-color: var(--fill-color);\n",
              "    }\n",
              "    80% {\n",
              "      border-color: transparent;\n",
              "      border-right-color: var(--fill-color);\n",
              "      border-bottom-color: var(--fill-color);\n",
              "    }\n",
              "    90% {\n",
              "      border-color: transparent;\n",
              "      border-bottom-color: var(--fill-color);\n",
              "    }\n",
              "  }\n",
              "</style>\n",
              "\n",
              "  <script>\n",
              "    async function quickchart(key) {\n",
              "      const quickchartButtonEl =\n",
              "        document.querySelector('#' + key + ' button');\n",
              "      quickchartButtonEl.disabled = true;  // To prevent multiple clicks.\n",
              "      quickchartButtonEl.classList.add('colab-df-spinner');\n",
              "      try {\n",
              "        const charts = await google.colab.kernel.invokeFunction(\n",
              "            'suggestCharts', [key], {});\n",
              "      } catch (error) {\n",
              "        console.error('Error during call to suggestCharts:', error);\n",
              "      }\n",
              "      quickchartButtonEl.classList.remove('colab-df-spinner');\n",
              "      quickchartButtonEl.classList.add('colab-df-quickchart-complete');\n",
              "    }\n",
              "    (() => {\n",
              "      let quickchartButtonEl =\n",
              "        document.querySelector('#df-66bb09f0-3256-4a68-9301-b2f7f70b9210 button');\n",
              "      quickchartButtonEl.style.display =\n",
              "        google.colab.kernel.accessAllowed ? 'block' : 'none';\n",
              "    })();\n",
              "  </script>\n",
              "</div>\n",
              "    </div>\n",
              "  </div>\n"
            ]
          },
          "metadata": {},
          "execution_count": 19
        }
      ]
    },
    {
      "cell_type": "markdown",
      "source": [
        "## Red neuronal"
      ],
      "metadata": {
        "id": "c-GOq2zI2BEG"
      }
    },
    {
      "cell_type": "markdown",
      "source": [
        "### Hacemos una red neuronal básica con embedding en español"
      ],
      "metadata": {
        "id": "VDrjI3nZxgST"
      }
    },
    {
      "cell_type": "code",
      "source": [
        "ds_train_preprocesado = ds_train_copy.copy()\n",
        "ds_train_preprocesado.to_csv('/content/drive/MyDrive/Tp_Datos_2023_2°/TP2/datasets/train_con_stemming_aplicado.csv')"
      ],
      "metadata": {
        "id": "6oN6_ur9eYkl"
      },
      "execution_count": null,
      "outputs": []
    },
    {
      "cell_type": "code",
      "source": [
        "ds_test_preprocesado = ds_test.copy()\n",
        "ds_test_preprocesado['review_es'] = ds_test_preprocesado['review_es'].apply(apply_stemming)\n",
        "ds_test_preprocesado.to_csv('/content/drive/MyDrive/Tp_Datos_2023_2°/TP2/datasets/test_con_stemming_aplicado.csv')"
      ],
      "metadata": {
        "id": "c9vX8emb1ttd"
      },
      "execution_count": null,
      "outputs": []
    },
    {
      "cell_type": "code",
      "source": [
        "y_train_bin = y_train.copy()\n",
        "y_train_bin = y_train_bin.map({'negativo': 0, 'positivo': 1})\n",
        "\n",
        "y_test_bin = y_test.copy()\n",
        "y_test_bin = y_test_bin.map({'negativo': 0, 'positivo': 1})\n",
        "\n",
        "ds_train_y_bin = ds_train_y.copy()\n",
        "ds_train_y_bin = ds_train_y_bin.map({'negativo': 0, 'positivo': 1})"
      ],
      "metadata": {
        "id": "g8CDgU8txgST"
      },
      "execution_count": null,
      "outputs": []
    },
    {
      "cell_type": "code",
      "source": [
        "!pip install tensorflow-hub"
      ],
      "metadata": {
        "colab": {
          "base_uri": "https://localhost:8080/"
        },
        "outputId": "76a00f95-3540-4e04-81dd-91c5fc924508",
        "id": "Tbrm_fvgxgSU"
      },
      "execution_count": null,
      "outputs": [
        {
          "output_type": "stream",
          "name": "stdout",
          "text": [
            "Requirement already satisfied: tensorflow-hub in /usr/local/lib/python3.10/dist-packages (0.15.0)\n",
            "Requirement already satisfied: numpy>=1.12.0 in /usr/local/lib/python3.10/dist-packages (from tensorflow-hub) (1.23.5)\n",
            "Requirement already satisfied: protobuf>=3.19.6 in /usr/local/lib/python3.10/dist-packages (from tensorflow-hub) (3.20.3)\n"
          ]
        }
      ]
    },
    {
      "cell_type": "code",
      "source": [
        "import tensorflow as tf\n",
        "import tensorflow_hub as hub"
      ],
      "metadata": {
        "id": "JELPXk2VxgSU"
      },
      "execution_count": null,
      "outputs": []
    },
    {
      "cell_type": "code",
      "source": [
        "print(\"Version: \", tf.__version__)\n",
        "print(\"Eager mode: \", tf.executing_eagerly())\n",
        "print(\"Hub version: \", hub.__version__)\n",
        "print(\"GPU is\", \"available\" if tf.config.list_physical_devices(\"GPU\") else \"NOT AVAILABLE\")"
      ],
      "metadata": {
        "colab": {
          "base_uri": "https://localhost:8080/"
        },
        "outputId": "17108776-b14c-4b6a-8c17-d0a9fe3b5f8c",
        "id": "oi9cM456xgSU"
      },
      "execution_count": null,
      "outputs": [
        {
          "output_type": "stream",
          "name": "stdout",
          "text": [
            "Version:  2.14.0\n",
            "Eager mode:  True\n",
            "Hub version:  0.15.0\n",
            "GPU is NOT AVAILABLE\n"
          ]
        }
      ]
    },
    {
      "cell_type": "code",
      "source": [
        "# Crear un conjunto de datos de TensorFlow para entrenamiento\n",
        "train_data = tf.data.Dataset.from_tensor_slices((x_train, y_train_bin))\n",
        "\n",
        "# Crear un conjunto de datos de TensorFlow para prueba\n",
        "validation_data = tf.data.Dataset.from_tensor_slices((x_test, y_test_bin))\n",
        "\n",
        "# Creamos un conjunto de datos de TensorFlow para entrenamiento con todo el dataset entero preprocesado (con el stemming aplicado)\n",
        "full_train_data = tf.data.Dataset.from_tensor_slices((ds_train_preprocesado['review_es'], ds_train_y_bin))\n",
        "\n",
        "test_data = tf.data.Dataset.from_tensor_slices((ds_test['review_es']))\n"
      ],
      "metadata": {
        "id": "mJvbff2VxgSU"
      },
      "execution_count": null,
      "outputs": []
    },
    {
      "cell_type": "code",
      "source": [
        "train_examples_batch, train_labels_batch = next(iter(train_data.batch(10)))"
      ],
      "metadata": {
        "id": "s69N7F6gxgSU"
      },
      "execution_count": null,
      "outputs": []
    },
    {
      "cell_type": "code",
      "execution_count": null,
      "metadata": {
        "colab": {
          "base_uri": "https://localhost:8080/"
        },
        "outputId": "98c81c3e-6744-4b4a-dd57-dadde4b56227",
        "id": "fkCMLhzKxgSU"
      },
      "outputs": [
        {
          "output_type": "execute_result",
          "data": {
            "text/plain": [
              "<tf.Tensor: shape=(3, 50), dtype=float32, numpy=\n",
              "array([[ 1.2568082 , -0.4240418 , -0.21261834, -0.15864907,  0.14218198,\n",
              "         0.26415667, -0.21938267,  0.16808572, -0.57886875,  0.54842854,\n",
              "        -0.02695455, -0.014637  , -0.44808292, -0.34956774,  0.13642496,\n",
              "         0.3790391 ,  0.38785222,  0.02965165, -0.37425184, -0.4263551 ,\n",
              "        -0.59753644,  0.13993509, -0.41892475,  0.07894509, -0.05860753,\n",
              "         0.23630966,  0.06260155,  0.10531923, -0.24561104, -0.01204985,\n",
              "        -0.20267922,  0.6783359 , -0.22916022,  0.08402988,  0.03307225,\n",
              "         0.31427926,  0.7365846 , -0.32710096, -0.01465473, -0.34436512,\n",
              "        -0.32286692,  0.11268483,  0.15004244,  0.90087885,  0.15750422,\n",
              "         0.19152626,  0.04074623, -0.40033767,  0.1008134 , -0.5249805 ],\n",
              "       [-1.306359  ,  0.06654456,  1.9976982 ,  1.6909673 , -5.6752477 ,\n",
              "         3.0576103 , -1.5797827 , -0.9561491 , -0.6608932 , -0.13015573,\n",
              "        -0.7895992 , -0.87349206, -2.1181371 , -0.9714413 , -2.3927119 ,\n",
              "         1.5943358 , -0.09668923, -0.6619876 ,  2.6106963 , -5.323152  ,\n",
              "         1.292907  , -0.7969738 , -0.73438555,  1.940742  , -0.48539814,\n",
              "         0.6876122 , -0.4216744 , -1.4234772 , -0.2308269 , -1.6227052 ,\n",
              "        -1.7479533 ,  3.5464134 , -1.3239605 ,  0.8814987 ,  1.1743575 ,\n",
              "        -0.35794055,  0.9282304 ,  1.4891694 , -0.0745263 , -3.1828926 ,\n",
              "         1.1217787 , -0.733974  , -2.7418106 ,  2.368111  , -0.30245367,\n",
              "         0.8013583 ,  0.78689903,  3.123729  ,  0.61282694, -3.8578925 ],\n",
              "       [ 2.1803968 , -0.9263092 , -0.0127877 , -0.6036562 ,  0.35405767,\n",
              "        -0.16049652, -0.42398718, -0.03460888, -0.4273217 ,  0.7965485 ,\n",
              "        -0.6902188 , -0.16331893, -0.810864  , -0.5688051 , -0.20548642,\n",
              "         0.40625817,  0.5113701 ,  0.17362878,  0.13751517, -0.68626195,\n",
              "        -0.42884493,  0.3340252 , -0.29799908,  0.24564925,  0.3086943 ,\n",
              "        -0.33461955,  0.14299996,  0.94090897, -0.40583077, -0.01554088,\n",
              "        -0.5450004 ,  0.9343964 , -0.23543647,  0.19221756, -0.5005431 ,\n",
              "        -0.09405058,  0.6139969 , -0.24283955, -0.355189  , -0.37362874,\n",
              "        -0.4486126 ,  0.7550564 , -0.1977746 ,  1.7511679 , -0.08409326,\n",
              "         0.5182929 , -0.5799018 , -1.3260782 ,  0.30740744, -0.55324334]],\n",
              "      dtype=float32)>"
            ]
          },
          "metadata": {},
          "execution_count": 13
        }
      ],
      "source": [
        "#Utilizamos un embedding en español\n",
        "embedding = \"https://tfhub.dev/google/nnlm-es-dim50/2\"\n",
        "hub_layer = hub.KerasLayer(embedding, input_shape=[],\n",
        "                           dtype=tf.string, trainable=True)\n",
        "hub_layer(train_examples_batch[:3])"
      ]
    },
    {
      "cell_type": "markdown",
      "source": [
        "Creamos una red neuronal básica"
      ],
      "metadata": {
        "id": "hEK5vDQqtHBY"
      }
    },
    {
      "cell_type": "code",
      "source": [
        "model = tf.keras.Sequential()\n",
        "model.add(hub_layer)\n",
        "model.add(tf.keras.layers.Dense(16, activation='relu'))\n",
        "model.add(tf.keras.layers.Dense(1))\n",
        "\n",
        "model.summary()"
      ],
      "metadata": {
        "colab": {
          "base_uri": "https://localhost:8080/"
        },
        "outputId": "3482f23f-93a0-47bf-980c-e31225ca030c",
        "id": "JPT_T1z1xgSU"
      },
      "execution_count": null,
      "outputs": [
        {
          "output_type": "stream",
          "name": "stdout",
          "text": [
            "Model: \"sequential_2\"\n",
            "_________________________________________________________________\n",
            " Layer (type)                Output Shape              Param #   \n",
            "=================================================================\n",
            " keras_layer_2 (KerasLayer)  (None, 50)                48832000  \n",
            "                                                                 \n",
            " dense_4 (Dense)             (None, 16)                816       \n",
            "                                                                 \n",
            " dense_5 (Dense)             (None, 1)                 17        \n",
            "                                                                 \n",
            "=================================================================\n",
            "Total params: 48832833 (186.28 MB)\n",
            "Trainable params: 48832833 (186.28 MB)\n",
            "Non-trainable params: 0 (0.00 Byte)\n",
            "_________________________________________________________________\n"
          ]
        }
      ]
    },
    {
      "cell_type": "code",
      "source": [
        "model.compile(optimizer='adam',\n",
        "              loss=tf.keras.losses.BinaryCrossentropy(from_logits=True),\n",
        "              metrics=['accuracy'])"
      ],
      "metadata": {
        "id": "9WMsXZhexgSV"
      },
      "execution_count": null,
      "outputs": []
    },
    {
      "cell_type": "markdown",
      "source": [
        "Entrenamos el modelo de red neuronal básica"
      ],
      "metadata": {
        "id": "9MHwAUtMtOsu"
      }
    },
    {
      "cell_type": "code",
      "source": [
        "history = model.fit(train_data.shuffle(10000).batch(512),\n",
        "                    epochs=10,\n",
        "                    validation_data=validation_data.batch(512),\n",
        "                    verbose=1)"
      ],
      "metadata": {
        "colab": {
          "base_uri": "https://localhost:8080/"
        },
        "outputId": "f75f13c0-102f-4292-9e44-d73ac3137f8c",
        "id": "AltB6HAMxgSV"
      },
      "execution_count": null,
      "outputs": [
        {
          "output_type": "stream",
          "name": "stdout",
          "text": [
            "Epoch 1/10\n",
            "69/69 [==============================] - 63s 910ms/step - loss: 0.6188 - accuracy: 0.5933 - val_loss: 0.5120 - val_accuracy: 0.7214\n",
            "Epoch 2/10\n",
            "69/69 [==============================] - 70s 1s/step - loss: 0.4057 - accuracy: 0.8125 - val_loss: 0.3651 - val_accuracy: 0.8267\n",
            "Epoch 3/10\n",
            "69/69 [==============================] - 59s 860ms/step - loss: 0.2668 - accuracy: 0.8891 - val_loss: 0.3194 - val_accuracy: 0.8569\n",
            "Epoch 4/10\n",
            "69/69 [==============================] - 59s 856ms/step - loss: 0.1840 - accuracy: 0.9308 - val_loss: 0.3159 - val_accuracy: 0.8569\n",
            "Epoch 5/10\n",
            "69/69 [==============================] - 58s 832ms/step - loss: 0.1273 - accuracy: 0.9562 - val_loss: 0.3272 - val_accuracy: 0.8638\n",
            "Epoch 6/10\n",
            "69/69 [==============================] - 60s 862ms/step - loss: 0.0869 - accuracy: 0.9747 - val_loss: 0.3519 - val_accuracy: 0.8636\n",
            "Epoch 7/10\n",
            "69/69 [==============================] - 59s 855ms/step - loss: 0.0587 - accuracy: 0.9867 - val_loss: 0.3794 - val_accuracy: 0.8574\n",
            "Epoch 8/10\n",
            "69/69 [==============================] - 58s 846ms/step - loss: 0.0389 - accuracy: 0.9939 - val_loss: 0.4088 - val_accuracy: 0.8577\n",
            "Epoch 9/10\n",
            "69/69 [==============================] - 59s 854ms/step - loss: 0.0254 - accuracy: 0.9973 - val_loss: 0.4403 - val_accuracy: 0.8559\n",
            "Epoch 10/10\n",
            "69/69 [==============================] - 59s 857ms/step - loss: 0.0170 - accuracy: 0.9993 - val_loss: 0.4703 - val_accuracy: 0.8533\n"
          ]
        }
      ]
    },
    {
      "cell_type": "code",
      "source": [
        "dump(model, '/content/drive/MyDrive/Tp_Datos_2023_2°/TP2/modelos/modelo_tf.joblib')"
      ],
      "metadata": {
        "colab": {
          "base_uri": "https://localhost:8080/"
        },
        "outputId": "9c8bb19f-355e-4511-892e-5c0288000802",
        "id": "2dOyEmvzxgSV"
      },
      "execution_count": null,
      "outputs": [
        {
          "output_type": "execute_result",
          "data": {
            "text/plain": [
              "['/content/drive/MyDrive/Tp_Datos_2023_2°/TP2/modelos/modelo_tf.joblib']"
            ]
          },
          "metadata": {},
          "execution_count": 61
        }
      ]
    },
    {
      "cell_type": "markdown",
      "source": [
        "Predecimos con el dataset entero de test"
      ],
      "metadata": {
        "id": "Wxur7waKtUTk"
      }
    },
    {
      "cell_type": "code",
      "source": [
        "y_pred = model.predict(ds_test['review_es'], verbose = 2)"
      ],
      "metadata": {
        "colab": {
          "base_uri": "https://localhost:8080/"
        },
        "outputId": "79750e8c-fba4-4cdb-df3c-c71d79dcbcab",
        "id": "KSqZpcFsxgSV"
      },
      "execution_count": null,
      "outputs": [
        {
          "output_type": "stream",
          "name": "stdout",
          "text": [
            "269/269 - 26s - 26s/epoch - 97ms/step\n"
          ]
        }
      ]
    },
    {
      "cell_type": "code",
      "source": [
        "y_pred"
      ],
      "metadata": {
        "colab": {
          "base_uri": "https://localhost:8080/"
        },
        "outputId": "e916c97b-1c8a-4955-bdb2-0ab91e8d42d2",
        "id": "ZqBjils7xgSV"
      },
      "execution_count": null,
      "outputs": [
        {
          "output_type": "execute_result",
          "data": {
            "text/plain": [
              "array([[-6.6793013],\n",
              "       [-1.0680817],\n",
              "       [ 1.3264925],\n",
              "       ...,\n",
              "       [ 2.5445523],\n",
              "       [-3.4945495],\n",
              "       [ 5.683993 ]], dtype=float32)"
            ]
          },
          "metadata": {},
          "execution_count": 60
        }
      ]
    },
    {
      "cell_type": "markdown",
      "source": [
        "Al ser y_pred valores continuos, vamos a mapear cada valor según el critero siguiente"
      ],
      "metadata": {
        "id": "CxrqqFrPt8kt"
      }
    },
    {
      "cell_type": "code",
      "source": [
        "y_pred_final = list(map(lambda x: 'positivo' if x > 0 else 'negativo', y_pred))"
      ],
      "metadata": {
        "id": "QxBfwEAtxgSV"
      },
      "execution_count": null,
      "outputs": []
    },
    {
      "cell_type": "code",
      "source": [
        "submission_red_neuronal = pd.DataFrame({'ID': ds_test['ID'], 'sentimiento': y_pred_final})\n",
        "submission_red_neuronal.to_csv('/content/drive/MyDrive/Tp_Datos_2023_2°/TP2/submissions/submission_red_neuronal.csv', index=False)"
      ],
      "metadata": {
        "id": "Ao9vge_yxgSV"
      },
      "execution_count": null,
      "outputs": []
    },
    {
      "cell_type": "markdown",
      "source": [
        "---"
      ],
      "metadata": {
        "id": "Bt6CxjWIxgSV"
      }
    },
    {
      "cell_type": "markdown",
      "source": [
        "Chequeamos que se formó una tabla"
      ],
      "metadata": {
        "id": "0YdTXz-Yt_WR"
      }
    },
    {
      "cell_type": "code",
      "source": [
        "submission_red_neuronal.info()"
      ],
      "metadata": {
        "colab": {
          "base_uri": "https://localhost:8080/"
        },
        "outputId": "25c114e6-de49-4c66-9320-85bee7087638",
        "id": "Y2d-wgHQxgSV"
      },
      "execution_count": null,
      "outputs": [
        {
          "output_type": "stream",
          "name": "stdout",
          "text": [
            "<class 'pandas.core.frame.DataFrame'>\n",
            "RangeIndex: 8599 entries, 0 to 8598\n",
            "Data columns (total 2 columns):\n",
            " #   Column       Non-Null Count  Dtype \n",
            "---  ------       --------------  ----- \n",
            " 0   ID           8599 non-null   int64 \n",
            " 1   sentimiento  8599 non-null   object\n",
            "dtypes: int64(1), object(1)\n",
            "memory usage: 134.5+ KB\n"
          ]
        }
      ]
    },
    {
      "cell_type": "markdown",
      "source": [
        "---"
      ],
      "metadata": {
        "id": "mFiqQCMlxgSW"
      }
    },
    {
      "cell_type": "markdown",
      "source": [
        "### Prueba con un embedding normalizado"
      ],
      "metadata": {
        "id": "3C-4bRgRz5iB"
      }
    },
    {
      "cell_type": "markdown",
      "source": [
        "Hacemos las transformaciones sobre las etiquetas de train y test"
      ],
      "metadata": {
        "id": "DnHDN0QpuPqs"
      }
    },
    {
      "cell_type": "code",
      "source": [
        "y_train_bin = y_train.copy()\n",
        "y_train_bin = y_train_bin.map({'negativo': 0, 'positivo': 1})\n",
        "\n",
        "y_test_bin = y_test.copy()\n",
        "y_test_bin = y_test_bin.map({'negativo': 0, 'positivo': 1})\n",
        "\n",
        "ds_train_y_bin = ds_train_y.copy()\n",
        "ds_train_y_bin = ds_train_y_bin.map({'negativo': 0, 'positivo': 1})"
      ],
      "metadata": {
        "id": "YmqytMk_ilHM"
      },
      "execution_count": null,
      "outputs": []
    },
    {
      "cell_type": "code",
      "source": [
        "!pip install tensorflow-hub"
      ],
      "metadata": {
        "colab": {
          "base_uri": "https://localhost:8080/"
        },
        "id": "_yM72M_03BDp",
        "outputId": "b9f3c1b1-f633-48ad-f9f9-e39219f42547"
      },
      "execution_count": null,
      "outputs": [
        {
          "output_type": "stream",
          "name": "stdout",
          "text": [
            "Requirement already satisfied: tensorflow-hub in /usr/local/lib/python3.10/dist-packages (0.15.0)\n",
            "Requirement already satisfied: numpy>=1.12.0 in /usr/local/lib/python3.10/dist-packages (from tensorflow-hub) (1.23.5)\n",
            "Requirement already satisfied: protobuf>=3.19.6 in /usr/local/lib/python3.10/dist-packages (from tensorflow-hub) (3.20.3)\n"
          ]
        }
      ]
    },
    {
      "cell_type": "code",
      "source": [
        "import tensorflow as tf\n",
        "import tensorflow_hub as hub"
      ],
      "metadata": {
        "id": "8o8zRwD2fT58"
      },
      "execution_count": null,
      "outputs": []
    },
    {
      "cell_type": "code",
      "source": [
        "# Crear un conjunto de datos de TensorFlow para entrenamiento\n",
        "train_data = tf.data.Dataset.from_tensor_slices((x_train, y_train_bin))\n",
        "\n",
        "# Crear un conjunto de datos de TensorFlow para prueba\n",
        "validation_data = tf.data.Dataset.from_tensor_slices((x_test, y_test_bin))\n",
        "\n",
        "# Creamos un conjunto de datos de TensorFlow para entrenamiento con todo el dataset entero preprocesado (con el stemming aplicado)\n",
        "full_train_data = tf.data.Dataset.from_tensor_slices((ds_train_preprocesado['review_es'], ds_train_y_bin))\n",
        "\n",
        "test_data = tf.data.Dataset.from_tensor_slices((ds_test['review_es']))\n"
      ],
      "metadata": {
        "id": "b4b4kOGgkSxA"
      },
      "execution_count": null,
      "outputs": []
    },
    {
      "cell_type": "code",
      "execution_count": null,
      "metadata": {
        "id": "_NUbzVeYkgcO",
        "colab": {
          "base_uri": "https://localhost:8080/"
        },
        "outputId": "1de8db04-362e-4579-c939-d3db885b6c16"
      },
      "outputs": [
        {
          "output_type": "execute_result",
          "data": {
            "text/plain": [
              "<tf.Tensor: shape=(3, 128), dtype=float32, numpy=\n",
              "array([[ 1.31634426e+00, -5.53583026e-01,  2.11157069e-01,\n",
              "         1.62603930e-01, -1.74071565e-01, -2.79143453e-01,\n",
              "        -3.40094656e-01, -5.27133867e-02, -1.54268637e-01,\n",
              "         1.94167316e-01,  2.00214386e-01,  9.52787250e-02,\n",
              "        -3.50401253e-02, -9.64035392e-02,  9.93275344e-02,\n",
              "         4.20730524e-02, -3.65623206e-01,  5.74279651e-02,\n",
              "         4.95432056e-02,  3.48737873e-02, -6.69720843e-02,\n",
              "         1.36971578e-01, -7.98485950e-02, -2.48903215e-01,\n",
              "        -8.01070333e-02,  5.63085936e-02, -3.52147579e-01,\n",
              "        -1.02620065e-01,  1.25542223e-01,  1.45001963e-01,\n",
              "        -1.84660792e-01,  5.51218586e-03,  1.60286069e-01,\n",
              "        -1.89066455e-01,  2.20353872e-01,  7.05523640e-02,\n",
              "        -1.94801018e-01, -2.92388171e-01,  3.60099822e-02,\n",
              "        -7.17677847e-02, -1.08152039e-01,  2.61824369e-01,\n",
              "         4.60888386e-01,  2.90713847e-01,  3.86475265e-01,\n",
              "         1.23286247e-01,  4.15770471e-01, -1.57791257e-01,\n",
              "        -2.70042509e-01,  2.82226712e-01,  2.50232935e-01,\n",
              "         4.36514467e-01,  1.06471591e-01,  3.86655658e-01,\n",
              "         4.52759713e-01, -1.54280052e-01,  3.83852087e-02,\n",
              "        -1.56610634e-03, -2.00156480e-01, -2.28936926e-01,\n",
              "         7.09301792e-03, -9.32073146e-02, -1.03581600e-01,\n",
              "        -1.31976739e-01,  3.62206817e-01, -3.33356187e-02,\n",
              "         9.62896049e-02, -3.51336509e-01, -3.48798335e-01,\n",
              "         3.84489000e-01,  1.83399782e-01, -4.13134508e-02,\n",
              "         4.07690331e-02,  2.28293478e-01,  2.93037798e-02,\n",
              "         1.26467459e-03,  2.72120554e-02, -1.93970025e-01,\n",
              "         2.58606434e-01,  3.69900882e-01,  3.95731144e-02,\n",
              "        -1.01194777e-01,  1.69087142e-01, -2.64880955e-01,\n",
              "         4.18223113e-01,  1.60917386e-01,  1.29825488e-01,\n",
              "        -3.68867308e-01, -2.32264906e-01,  4.60362900e-03,\n",
              "        -1.53891534e-01,  1.18913129e-01, -2.73549885e-01,\n",
              "        -2.95012951e-01, -1.98770225e-01, -3.49344090e-02,\n",
              "        -2.23450854e-01, -1.49039209e-01, -3.67050260e-01,\n",
              "        -3.88188750e-01,  1.90849170e-01, -1.19452812e-02,\n",
              "         1.96083635e-01, -1.14001766e-01, -1.32962897e-01,\n",
              "         1.95823640e-01, -3.10826115e-02,  2.09840685e-01,\n",
              "        -1.06496565e-01,  2.68678423e-02,  2.83330947e-01,\n",
              "        -2.09905908e-01, -1.10373601e-01, -1.75158963e-01,\n",
              "        -2.10838504e-02, -4.20232117e-03, -4.32032138e-01,\n",
              "        -2.63225824e-01,  7.10103661e-02,  1.16538495e-01,\n",
              "         2.04820648e-01, -2.34122157e-01,  2.88927630e-02,\n",
              "        -4.45456088e-01, -1.38887137e-01,  1.07631706e-01,\n",
              "        -1.97265550e-01,  1.89418569e-01],\n",
              "       [ 2.21334720e+00, -7.68198073e-01,  4.57120866e-01,\n",
              "        -2.35185549e-01,  5.34031428e-02, -5.10184646e-01,\n",
              "        -1.15058255e+00,  1.67990720e+00,  1.69654354e-01,\n",
              "         1.61067235e+00, -1.85094202e+00,  1.39783061e+00,\n",
              "        -8.28038335e-01,  5.66155687e-02, -3.28401953e-01,\n",
              "         3.96878421e-01,  4.11873907e-01, -2.42429823e-01,\n",
              "        -1.58768564e-01,  1.00972280e-01,  2.29237080e-01,\n",
              "         9.13684905e-01,  5.30345459e-03,  6.30860865e-01,\n",
              "        -6.87423408e-01, -5.55648506e-01, -2.29905233e-01,\n",
              "        -9.46761966e-01,  7.73243845e-01,  1.65698171e+00,\n",
              "        -9.56935763e-01,  1.11373496e+00, -1.08987987e+00,\n",
              "        -1.23068786e+00, -9.13607717e-01,  1.81520954e-01,\n",
              "        -1.23989344e+00, -2.47303545e-01,  3.02111953e-01,\n",
              "        -5.87737560e-01, -8.92611563e-01,  3.47681642e+00,\n",
              "        -7.52850771e-01,  2.60541171e-01,  1.85953319e+00,\n",
              "         3.39850068e-01,  9.25708473e-01,  5.25395215e-01,\n",
              "         2.30994844e+00, -5.56529760e-01, -4.16104466e-01,\n",
              "        -1.49507844e+00, -7.03251660e-01,  3.94646645e-01,\n",
              "         2.10933256e+00,  1.81891978e+00,  7.69141555e-01,\n",
              "         4.51314330e-01, -1.47133458e+00,  1.78391542e-02,\n",
              "        -8.85282457e-01,  9.29644227e-01, -2.22922683e+00,\n",
              "         1.51760197e+00,  6.13436043e-01, -4.76680696e-01,\n",
              "         1.14047992e+00,  8.61505866e-01, -2.32628837e-01,\n",
              "         1.16950738e+00,  1.07240856e+00,  3.64425421e-01,\n",
              "        -1.34045470e+00,  2.08306070e-02, -3.98968995e-01,\n",
              "         7.53161013e-01, -2.24757242e+00,  8.41402113e-01,\n",
              "         6.02594554e-01,  1.04833150e+00, -5.74293256e-01,\n",
              "        -1.19148411e-01,  6.56223416e-01, -3.32074672e-01,\n",
              "        -1.29718840e-01,  1.31728280e+00, -2.71569043e-01,\n",
              "        -1.26833069e+00,  3.50058943e-01,  1.03753150e+00,\n",
              "         1.38542879e+00,  6.36573672e-01,  6.98053002e-01,\n",
              "         9.09163579e-02,  1.79479194e+00,  1.13337420e-01,\n",
              "        -1.65078342e-01, -2.01615170e-01, -1.15535021e+00,\n",
              "         9.17463183e-01, -6.44029856e-01, -1.61164737e+00,\n",
              "        -7.90430158e-02, -1.14858997e+00, -2.46687984e+00,\n",
              "        -1.01684844e+00,  2.30470371e+00,  1.00633420e-01,\n",
              "         3.74127835e-01, -2.00909227e-02,  1.78405678e+00,\n",
              "        -1.66660964e+00, -1.23094106e+00,  4.78291661e-01,\n",
              "        -9.99735057e-01,  1.18448138e-01,  4.04158354e-01,\n",
              "        -7.06091046e-01, -1.51723289e+00, -1.49335837e+00,\n",
              "         1.65780795e+00, -1.40619349e+00, -4.09125507e-01,\n",
              "         2.26266193e+00,  9.83868718e-01,  8.06457043e-01,\n",
              "        -1.79519796e+00, -1.24472058e+00],\n",
              "       [ 3.05504894e+00, -3.64841789e-01,  2.65928388e-01,\n",
              "        -4.96963382e-01, -5.69336414e-01, -1.20324269e-01,\n",
              "         7.34889060e-02, -2.31858432e-01,  2.31982172e-01,\n",
              "         1.79281458e-01,  2.20234320e-01, -1.23564765e-01,\n",
              "        -8.48962888e-02,  8.88418406e-02,  4.12640601e-01,\n",
              "         1.71487063e-01, -4.94131297e-01, -2.49024630e-01,\n",
              "         2.48877451e-01,  1.67174950e-01,  2.22523242e-01,\n",
              "         8.45115706e-02,  1.48581192e-01, -1.88973203e-01,\n",
              "         4.26473245e-02,  3.63066971e-01, -3.08624566e-01,\n",
              "        -2.10091621e-01,  1.84243605e-01,  1.15509238e-02,\n",
              "        -8.19456652e-02, -1.85580611e-01,  1.50789231e-01,\n",
              "         9.58369449e-02,  2.10417688e-01,  1.05174854e-01,\n",
              "        -5.47754586e-01, -2.36473128e-01,  4.80225310e-02,\n",
              "        -2.35356670e-03, -5.08506656e-01,  2.84654468e-01,\n",
              "         3.63394022e-01,  2.90087640e-01,  1.85943425e-01,\n",
              "        -3.61212455e-02,  5.06350279e-01, -2.19312012e-01,\n",
              "        -9.41033512e-02,  7.10680664e-01, -7.56276678e-03,\n",
              "         5.05909443e-01, -5.16879447e-02,  5.03135204e-01,\n",
              "         8.43644023e-01, -4.77100104e-01, -1.53732179e-02,\n",
              "        -1.50720656e-01,  2.48020336e-01, -5.12278616e-01,\n",
              "        -1.51344717e-01, -2.10810333e-01,  2.53545165e-01,\n",
              "        -1.00847363e-01,  3.22406530e-01,  1.85095444e-01,\n",
              "         1.07782409e-01, -6.72893584e-01, -5.39258540e-01,\n",
              "         6.38579905e-01,  1.49561524e-01, -2.89627999e-01,\n",
              "         1.46614224e-01,  8.28680396e-02,  1.68226331e-01,\n",
              "        -6.21305481e-02,  1.21996343e-01, -3.03224981e-01,\n",
              "         1.06701426e-01,  5.74179828e-01, -1.60478473e-01,\n",
              "        -4.56300765e-01, -8.49560872e-02, -3.20906937e-01,\n",
              "         3.90056819e-01,  1.58645913e-01,  3.10143560e-01,\n",
              "        -4.46844637e-01, -1.63867012e-01, -4.47705120e-01,\n",
              "        -3.21275830e-01,  3.99570540e-03,  3.10404509e-01,\n",
              "        -5.33958197e-01, -9.89558026e-02, -2.94259667e-01,\n",
              "        -3.26179475e-01, -1.60206512e-01, -6.87717199e-01,\n",
              "        -6.44627400e-03,  2.88799018e-01,  3.17732394e-02,\n",
              "         2.55942196e-01, -1.47257373e-01, -4.57127303e-01,\n",
              "         6.75835967e-01, -1.91946998e-01,  3.74878943e-01,\n",
              "         1.16609707e-01, -1.00644477e-01,  2.71827310e-01,\n",
              "         9.85670239e-02, -1.58892155e-01, -4.30437446e-01,\n",
              "        -1.09533176e-01,  3.84831995e-01, -9.95470762e-01,\n",
              "         3.87126370e-03,  4.02472049e-01,  1.81286737e-01,\n",
              "         9.00632143e-02, -1.03464797e-01,  2.85567105e-01,\n",
              "        -8.04752111e-01, -4.89090741e-01,  2.03516096e-01,\n",
              "        -7.38589525e-01,  1.09175026e-01]], dtype=float32)>"
            ]
          },
          "metadata": {},
          "execution_count": 48
        }
      ],
      "source": [
        "#Utilizamos un embedding en español normalizado\n",
        "\n",
        "embedding = hub.load(\"https://www.kaggle.com/models/google/nnlm/frameworks/TensorFlow2/variations/es-dim128-with-normalization/versions/1\")\n",
        "hub_layer = hub.KerasLayer(embedding, input_shape=[],\n",
        "                           dtype=tf.string, trainable=True)\n",
        "hub_layer(train_examples_batch[:3])"
      ]
    },
    {
      "cell_type": "markdown",
      "source": [
        "Creamos de nuevo una red neuronal básica"
      ],
      "metadata": {
        "id": "ZQzM_VtsuaLo"
      }
    },
    {
      "cell_type": "code",
      "source": [
        "model = tf.keras.Sequential()\n",
        "model.add(hub_layer)\n",
        "model.add(tf.keras.layers.Dense(32, activation='sigmoid'))\n",
        "model.add(tf.keras.layers.Dense(1))\n",
        "\n",
        "model.summary()"
      ],
      "metadata": {
        "colab": {
          "base_uri": "https://localhost:8080/"
        },
        "id": "-goXdhY6i60B",
        "outputId": "7e0e7cf0-492e-4c17-e28f-0940797b1d8c"
      },
      "execution_count": null,
      "outputs": [
        {
          "output_type": "stream",
          "name": "stdout",
          "text": [
            "Model: \"sequential\"\n",
            "_________________________________________________________________\n",
            " Layer (type)                Output Shape              Param #   \n",
            "=================================================================\n",
            " keras_layer_1 (KerasLayer)  (None, 128)               125009920 \n",
            "                                                                 \n",
            " dense (Dense)               (None, 32)                4128      \n",
            "                                                                 \n",
            " dense_1 (Dense)             (None, 1)                 33        \n",
            "                                                                 \n",
            "=================================================================\n",
            "Total params: 125014081 (476.89 MB)\n",
            "Trainable params: 125014081 (476.89 MB)\n",
            "Non-trainable params: 0 (0.00 Byte)\n",
            "_________________________________________________________________\n"
          ]
        }
      ]
    },
    {
      "cell_type": "code",
      "source": [
        "model.compile(optimizer='adam',\n",
        "              loss=tf.keras.losses.BinaryCrossentropy(from_logits=True),\n",
        "              metrics=['accuracy'])"
      ],
      "metadata": {
        "id": "Y-NyjuQKjJ1m"
      },
      "execution_count": null,
      "outputs": []
    },
    {
      "cell_type": "markdown",
      "source": [
        "Entrenamos el modelo de red neuronal pero esta vez con su capa de embedding normalizado"
      ],
      "metadata": {
        "id": "7UJMqquXugN-"
      }
    },
    {
      "cell_type": "code",
      "source": [
        "history = model.fit(train_data.shuffle(10000).batch(512),\n",
        "                    epochs=16,\n",
        "                    validation_data=validation_data.batch(512),\n",
        "                    verbose=1)"
      ],
      "metadata": {
        "colab": {
          "base_uri": "https://localhost:8080/"
        },
        "id": "NdYlzoYql88e",
        "outputId": "66f2864c-fb0a-4008-a485-79e8e0e00e13"
      },
      "execution_count": null,
      "outputs": [
        {
          "output_type": "stream",
          "name": "stdout",
          "text": [
            "Epoch 1/16\n",
            "69/69 [==============================] - 256s 4s/step - loss: 0.5789 - accuracy: 0.6210 - val_loss: 0.4225 - val_accuracy: 0.7965\n",
            "Epoch 2/16\n",
            "69/69 [==============================] - 244s 4s/step - loss: 0.3153 - accuracy: 0.8693 - val_loss: 0.2876 - val_accuracy: 0.8749\n",
            "Epoch 3/16\n",
            "69/69 [==============================] - 268s 4s/step - loss: 0.1930 - accuracy: 0.9292 - val_loss: 0.2574 - val_accuracy: 0.8899\n",
            "Epoch 4/16\n",
            "69/69 [==============================] - 243s 4s/step - loss: 0.1243 - accuracy: 0.9610 - val_loss: 0.2563 - val_accuracy: 0.8908\n",
            "Epoch 5/16\n",
            "69/69 [==============================] - 254s 4s/step - loss: 0.0790 - accuracy: 0.9793 - val_loss: 0.2696 - val_accuracy: 0.8926\n",
            "Epoch 6/16\n",
            "69/69 [==============================] - 244s 4s/step - loss: 0.0487 - accuracy: 0.9905 - val_loss: 0.2855 - val_accuracy: 0.8901\n",
            "Epoch 7/16\n",
            "69/69 [==============================] - 249s 4s/step - loss: 0.0304 - accuracy: 0.9957 - val_loss: 0.3064 - val_accuracy: 0.8877\n",
            "Epoch 8/16\n",
            "69/69 [==============================] - 247s 4s/step - loss: 0.0195 - accuracy: 0.9981 - val_loss: 0.3265 - val_accuracy: 0.8877\n",
            "Epoch 9/16\n",
            "69/69 [==============================] - 239s 3s/step - loss: 0.0129 - accuracy: 0.9990 - val_loss: 0.3439 - val_accuracy: 0.8872\n",
            "Epoch 10/16\n",
            "69/69 [==============================] - 254s 4s/step - loss: 0.0091 - accuracy: 0.9995 - val_loss: 0.3602 - val_accuracy: 0.8865\n",
            "Epoch 11/16\n",
            "69/69 [==============================] - 246s 4s/step - loss: 0.0068 - accuracy: 0.9998 - val_loss: 0.3738 - val_accuracy: 0.8861\n",
            "Epoch 12/16\n",
            "69/69 [==============================] - 255s 4s/step - loss: 0.0052 - accuracy: 0.9999 - val_loss: 0.3865 - val_accuracy: 0.8867\n",
            "Epoch 13/16\n",
            "69/69 [==============================] - 245s 4s/step - loss: 0.0041 - accuracy: 0.9999 - val_loss: 0.3975 - val_accuracy: 0.8847\n",
            "Epoch 14/16\n",
            "69/69 [==============================] - 241s 3s/step - loss: 0.0034 - accuracy: 0.9999 - val_loss: 0.4079 - val_accuracy: 0.8849\n",
            "Epoch 15/16\n",
            "69/69 [==============================] - 249s 4s/step - loss: 0.0029 - accuracy: 0.9999 - val_loss: 0.4172 - val_accuracy: 0.8853\n",
            "Epoch 16/16\n",
            "69/69 [==============================] - 247s 4s/step - loss: 0.0025 - accuracy: 0.9999 - val_loss: 0.4262 - val_accuracy: 0.8851\n"
          ]
        }
      ]
    },
    {
      "cell_type": "markdown",
      "source": [
        "Predecimos sobre el dataset entero de test (para la predicción de Kaggle)"
      ],
      "metadata": {
        "id": "jYVgk2dLujiC"
      }
    },
    {
      "cell_type": "code",
      "source": [
        "y_pred = model.predict(ds_test['review_es'], verbose = 2)"
      ],
      "metadata": {
        "colab": {
          "base_uri": "https://localhost:8080/"
        },
        "id": "0fM9FXUBv96_",
        "outputId": "c631872b-321c-4e8f-bf20-8045b2c18cf7"
      },
      "execution_count": null,
      "outputs": [
        {
          "output_type": "stream",
          "name": "stdout",
          "text": [
            "269/269 - 1s - 673ms/epoch - 3ms/step\n"
          ]
        }
      ]
    },
    {
      "cell_type": "code",
      "source": [
        "y_pred"
      ],
      "metadata": {
        "colab": {
          "base_uri": "https://localhost:8080/"
        },
        "id": "68Y_-341w-N8",
        "outputId": "9edb5e8f-6b7c-4968-e1ca-48f8f8fc5301"
      },
      "execution_count": null,
      "outputs": [
        {
          "output_type": "execute_result",
          "data": {
            "text/plain": [
              "array([[ 4.9871874],\n",
              "       [-8.577467 ],\n",
              "       [ 1.1031841],\n",
              "       ...,\n",
              "       [-2.7746353],\n",
              "       [-6.4678864],\n",
              "       [-5.541673 ]], dtype=float32)"
            ]
          },
          "metadata": {},
          "execution_count": 62
        }
      ]
    },
    {
      "cell_type": "markdown",
      "source": [
        "Hacemos la transformacion de nuevo para la exportación de la tabla a Kaggle"
      ],
      "metadata": {
        "id": "FpYlHkeOuqRd"
      }
    },
    {
      "cell_type": "code",
      "source": [
        "y_pred = list(map(lambda x: 'positivo' if x > 0 else 'negativo', y_pred))"
      ],
      "metadata": {
        "id": "FH4xAOpbxx5m"
      },
      "execution_count": null,
      "outputs": []
    },
    {
      "cell_type": "code",
      "source": [
        "submission_red_neuronal2 = pd.DataFrame({'ID': ds_test['ID'], 'sentimiento': y_pred})\n",
        "submission_red_neuronal2.to_csv('/content/drive/MyDrive/Tp_Datos_2023_2°/TP2/submissions/submission_red_neuronal4.csv', index=False)"
      ],
      "metadata": {
        "id": "c_RjMeyLzPzf"
      },
      "execution_count": null,
      "outputs": []
    },
    {
      "cell_type": "code",
      "source": [
        "#Guardamos el modelo\n",
        "tf.saved_model.save(embedding, \"embedding_espanol_normalizado\")\n",
        "model.save('/content/drive/MyDrive/Tp_Datos_2023_2°/TP2/modelos/modelo_red_neuronal3')"
      ],
      "metadata": {
        "id": "NUChk0QvyfLv"
      },
      "execution_count": null,
      "outputs": []
    },
    {
      "cell_type": "markdown",
      "source": [
        "---"
      ],
      "metadata": {
        "id": "SXc9cpDsv-OP"
      }
    },
    {
      "cell_type": "code",
      "source": [
        "submission_red_neuronal2.info()"
      ],
      "metadata": {
        "colab": {
          "base_uri": "https://localhost:8080/"
        },
        "id": "X7eIz73UypQY",
        "outputId": "b45d1324-0b92-48f4-a3eb-615b5dba6f72"
      },
      "execution_count": null,
      "outputs": [
        {
          "output_type": "stream",
          "name": "stdout",
          "text": [
            "<class 'pandas.core.frame.DataFrame'>\n",
            "RangeIndex: 8599 entries, 0 to 8598\n",
            "Data columns (total 2 columns):\n",
            " #   Column       Non-Null Count  Dtype \n",
            "---  ------       --------------  ----- \n",
            " 0   ID           8599 non-null   int64 \n",
            " 1   sentimiento  8599 non-null   object\n",
            "dtypes: int64(1), object(1)\n",
            "memory usage: 134.5+ KB\n"
          ]
        }
      ]
    },
    {
      "cell_type": "markdown",
      "source": [
        "### <h1> Optimizacion de hiperparámetros de una arquitectura de red neuronal </h1>"
      ],
      "metadata": {
        "id": "1u-LHFvKIa6F"
      }
    },
    {
      "cell_type": "markdown",
      "source": [
        "#### Definimos la arquitectura"
      ],
      "metadata": {
        "id": "Tv_q_pPF4Xbd"
      }
    },
    {
      "cell_type": "code",
      "source": [
        "import keras\n",
        "from keras.layers import Dropout\n",
        "from keras.regularizers import l2\n",
        "\n",
        "# Defino la capa con el embedding normalizado\n",
        "embedding = hub.load(\"https://www.kaggle.com/models/google/nnlm/frameworks/TensorFlow2/variations/es-dim128-with-normalization/versions/1\")\n",
        "embedding_layer = hub.KerasLayer(embedding, input_shape=[], dtype=tf.string, trainable=True)\n",
        "\n",
        "'''\n",
        "-Tiene 3 hiperparámetros para optimizar: cant neuronas, cant capas ocultas, valor del learning_rate\n",
        "-Utiliza el optimizador SGD con un learning_rate paramétrico\n",
        "-Utiliza el regulador L2 en la capa de entrada con un valor constante de learning_rate = 0.01\n",
        "-Utiliza el regulador Dropout en las capas ocultas\n",
        "-Utiliza el regulador L2 para la capa de salida,  con un learning_rate = 0.01\n",
        "-Tiene una capa de embedding normalizado\n",
        "'''\n",
        "def create_model_3(hidden_layers=1, neurons=128, ln_rate_parameter=0.01):\n",
        "    # Optimizador SGD con learning rate variable\n",
        "    optimizer = keras.optimizers.SGD(learning_rate=ln_rate_parameter)\n",
        "    model = keras.Sequential()\n",
        "    # Capa de Embedding\n",
        "    model.add(embedding_layer)\n",
        "    model.add(keras.layers.Dense(neurons, activation='relu', kernel_regularizer=l2(0.01)))\n",
        "\n",
        "    for _ in range(hidden_layers - 1):\n",
        "        model.add(keras.layers.Dense(neurons, activation='relu'))\n",
        "        model.add(Dropout(0.2))  # Añado técnica de regularización por capa oculta\n",
        "\n",
        "    model.add(keras.layers.Dense(1, activation='sigmoid', kernel_regularizer=l2(0.01)))\n",
        "    model.compile(optimizer=optimizer, loss='binary_crossentropy', metrics=['accuracy'])\n",
        "    return model"
      ],
      "metadata": {
        "id": "F0_noR5RzvQf"
      },
      "execution_count": null,
      "outputs": []
    },
    {
      "cell_type": "markdown",
      "source": [
        "Creamos tensores"
      ],
      "metadata": {
        "id": "gmEzh8y94b8p"
      }
    },
    {
      "cell_type": "code",
      "source": [
        "# Crear un conjunto de datos de TensorFlow para entrenamiento\n",
        "train_data = tf.data.Dataset.from_tensor_slices((x_train, y_train_bin))\n",
        "# Crear un conjunto de datos de TensorFlow para prueba\n",
        "validation_data = tf.data.Dataset.from_tensor_slices((x_test, y_test_bin))\n",
        "full_train_data = tf.data.Dataset.from_tensor_slices((ds_train_x, ds_train_y_bin))\n",
        "test_data = tf.data.Dataset.from_tensor_slices((ds_test['review_es']))"
      ],
      "metadata": {
        "id": "yDdV0bQmz0a1"
      },
      "execution_count": null,
      "outputs": []
    },
    {
      "cell_type": "markdown",
      "source": [
        "#### Hacemos una búsqueda de mejores hiperparámetros de la arquitectura"
      ],
      "metadata": {
        "id": "jEpdLMMscqkF"
      }
    },
    {
      "cell_type": "code",
      "source": [
        "from sklearn.metrics import f1_score\n",
        "import keras\n",
        "from keras.layers import Dropout\n",
        "from keras.regularizers import l2\n",
        "\n",
        "# Defino la capa con el embedding normalizado\n",
        "embedding = hub.load(\"https://www.kaggle.com/models/google/nnlm/frameworks/TensorFlow2/variations/es-dim128-with-normalization/versions/1\")\n",
        "embedding_layer = hub.KerasLayer(embedding, input_shape=[], dtype=tf.string, trainable=True)\n",
        "\n",
        "def create_model_3(hidden_layers=1, neurons=128, ln_rate_parameter=0.01):\n",
        "    # Optimizador SGD con learning rate variable\n",
        "    optimizer = keras.optimizers.SGD(learning_rate=ln_rate_parameter)\n",
        "    model = keras.Sequential()\n",
        "    # Capa de Embedding\n",
        "    model.add(embedding_layer)\n",
        "    model.add(keras.layers.Dense(neurons, activation='relu', kernel_regularizer=l2(0.01)))\n",
        "\n",
        "    for _ in range(hidden_layers - 1):\n",
        "        model.add(keras.layers.Dense(neurons, activation='relu'))\n",
        "        model.add(Dropout(0.2))  # Añado técnica de regularización por capa oculta\n",
        "\n",
        "    model.add(keras.layers.Dense(1, activation='sigmoid', kernel_regularizer=l2(0.01)))\n",
        "    model.compile(optimizer=optimizer, loss='binary_crossentropy', metrics=['accuracy'])\n",
        "    return model\n",
        "\n",
        "early_stopping = tf.keras.callbacks.EarlyStopping(\n",
        "    monitor='loss',\n",
        "    patience=1,\n",
        "    min_delta=0.1  # Ajusta este valor según tus necesidades\n",
        ")\n",
        "\n",
        "model = KerasClassifier(build_fn=create_model_3,callbacks=[early_stopping])\n",
        "\n",
        "param_dist_architecture = {\n",
        "    'neurons': [16, 32, 64, 128],\n",
        "    'hidden_layers': [1, 2, 3],\n",
        "    # 'ln_rate_parameter': [0.001, 0.005, 0.0001, 0.01]\n",
        "    'ln_rate_parameter': [0.3, 0.4, 0.01, 0.001]\n",
        "}\n",
        "\n",
        "# Obtenemos los tensores de dimension 1 que necesita la capa de Embedding para funcionar correctamente\n",
        "X_train = np.array([x.numpy() for x, _ in full_train_data])\n",
        "y_train = np.array([y.numpy() for _, y in full_train_data])\n",
        "\n",
        "random_search_architecture = RandomizedSearchCV(estimator=model,\n",
        "                                                param_distributions=param_dist_architecture,\n",
        "                                                n_iter=3,\n",
        "                                                cv=3,\n",
        "                                                scoring='f1',\n",
        "                                                verbose=99,\n",
        "                                               )\n",
        "\n",
        "# Optimizamos hiperparámetros de arquitectura\n",
        "random_search_architecture.fit(X_train,y_train)\n",
        "\n",
        "# Obtener la mejor arquitectura encontrada\n",
        "best_architecture = random_search_architecture.best_estimator_.model\n",
        "best_params = random_search_architecture.best_params_\n",
        "\n",
        "# Imprimir los mejores hiperparámetros\n",
        "print(\"Mejores hiperparámetros:\", best_params)\n"
      ],
      "metadata": {
        "colab": {
          "base_uri": "https://localhost:8080/",
          "height": 904
        },
        "id": "oLG6oZYhacGk",
        "outputId": "969d68ab-3fe9-4866-ac7c-cdd7e3e866c6"
      },
      "execution_count": null,
      "outputs": [
        {
          "output_type": "stream",
          "name": "stdout",
          "text": [
            "Fitting 3 folds for each of 3 candidates, totalling 9 fits\n",
            "[CV 1/3; 1/3] START hidden_layers=2, ln_rate_parameter=0.001, neurons=16........\n",
            "1042/1042 [==============================] - 459s 440ms/step - loss: 0.9860 - accuracy: 0.5028\n",
            "521/521 [==============================] - 225s 431ms/step\n",
            "[CV 1/3; 1/3] END hidden_layers=2, ln_rate_parameter=0.001, neurons=16;, score=0.534 total time=12.8min\n",
            "[CV 2/3; 1/3] START hidden_layers=2, ln_rate_parameter=0.001, neurons=16........\n",
            "1042/1042 [==============================] - 449s 430ms/step - loss: 0.9896 - accuracy: 0.5268\n",
            "521/521 [==============================] - 217s 416ms/step\n",
            "[CV 2/3; 1/3] END hidden_layers=2, ln_rate_parameter=0.001, neurons=16;, score=0.604 total time=12.0min\n",
            "[CV 3/3; 1/3] START hidden_layers=2, ln_rate_parameter=0.001, neurons=16........\n",
            "1042/1042 [==============================] - 444s 425ms/step - loss: 0.9815 - accuracy: 0.4946\n",
            "521/521 [==============================] - 225s 431ms/step\n",
            "[CV 3/3; 1/3] END hidden_layers=2, ln_rate_parameter=0.001, neurons=16;, score=0.469 total time=12.2min\n",
            "[CV 1/3; 2/3] START hidden_layers=2, ln_rate_parameter=0.01, neurons=64.........\n",
            "1042/1042 [==============================] - 429s 411ms/step - loss: 1.3694 - accuracy: 0.6355\n",
            "521/521 [==============================] - 225s 432ms/step\n",
            "[CV 1/3; 2/3] END hidden_layers=2, ln_rate_parameter=0.01, neurons=64;, score=0.713 total time=11.8min\n",
            "[CV 2/3; 2/3] START hidden_layers=2, ln_rate_parameter=0.01, neurons=64.........\n",
            "1042/1042 [==============================] - 430s 412ms/step - loss: 1.3936 - accuracy: 0.6269\n",
            "521/521 [==============================] - 236s 453ms/step\n",
            "[CV 2/3; 2/3] END hidden_layers=2, ln_rate_parameter=0.01, neurons=64;, score=0.696 total time=11.6min\n",
            "[CV 3/3; 2/3] START hidden_layers=2, ln_rate_parameter=0.01, neurons=64.........\n",
            "1042/1042 [==============================] - 421s 404ms/step - loss: 1.3868 - accuracy: 0.6499\n",
            "521/521 [==============================] - 208s 399ms/step\n",
            "[CV 3/3; 2/3] END hidden_layers=2, ln_rate_parameter=0.01, neurons=64;, score=0.739 total time=11.8min\n",
            "[CV 1/3; 3/3] START hidden_layers=1, ln_rate_parameter=0.01, neurons=128........\n",
            "1042/1042 [==============================] - 422s 403ms/step - loss: 1.7268 - accuracy: 0.6837\n",
            "521/521 [==============================] - 207s 397ms/step\n",
            "[CV 1/3; 3/3] END hidden_layers=1, ln_rate_parameter=0.01, neurons=128;, score=0.728 total time=10.9min\n",
            "[CV 2/3; 3/3] START hidden_layers=1, ln_rate_parameter=0.01, neurons=128........\n",
            "1042/1042 [==============================] - 420s 403ms/step - loss: 1.7325 - accuracy: 0.6761\n",
            "521/521 [==============================] - 206s 396ms/step\n",
            "[CV 2/3; 3/3] END hidden_layers=1, ln_rate_parameter=0.01, neurons=128;, score=0.712 total time=11.4min\n",
            "[CV 3/3; 3/3] START hidden_layers=1, ln_rate_parameter=0.01, neurons=128........\n",
            "1042/1042 [==============================] - 419s 402ms/step - loss: 1.7193 - accuracy: 0.6653\n",
            "521/521 [==============================] - 208s 399ms/step\n",
            "[CV 3/3; 3/3] END hidden_layers=1, ln_rate_parameter=0.01, neurons=128;, score=0.727 total time=11.4min\n",
            "1563/1563 [==============================] - 642s 410ms/step - loss: 1.6110 - accuracy: 0.6971\n"
          ]
        },
        {
          "output_type": "error",
          "ename": "NameError",
          "evalue": "ignored",
          "traceback": [
            "\u001b[0;31m---------------------------------------------------------------------------\u001b[0m",
            "\u001b[0;31mNameError\u001b[0m                                 Traceback (most recent call last)",
            "\u001b[0;32m<ipython-input-9-d6ef0d323612>\u001b[0m in \u001b[0;36m<cell line: 63>\u001b[0;34m()\u001b[0m\n\u001b[1;32m     61\u001b[0m \u001b[0;31m# Obtener la mejor arquitectura encontrada\u001b[0m\u001b[0;34m\u001b[0m\u001b[0;34m\u001b[0m\u001b[0m\n\u001b[1;32m     62\u001b[0m \u001b[0mbest_architecture\u001b[0m \u001b[0;34m=\u001b[0m \u001b[0mrandom_search_architecture\u001b[0m\u001b[0;34m.\u001b[0m\u001b[0mbest_estimator_\u001b[0m\u001b[0;34m.\u001b[0m\u001b[0mmodel\u001b[0m\u001b[0;34m\u001b[0m\u001b[0;34m\u001b[0m\u001b[0m\n\u001b[0;32m---> 63\u001b[0;31m \u001b[0mbest_params\u001b[0m \u001b[0;34m=\u001b[0m \u001b[0mrandom_search\u001b[0m\u001b[0;34m.\u001b[0m\u001b[0mbest_params_\u001b[0m\u001b[0;34m\u001b[0m\u001b[0;34m\u001b[0m\u001b[0m\n\u001b[0m\u001b[1;32m     64\u001b[0m \u001b[0;34m\u001b[0m\u001b[0m\n\u001b[1;32m     65\u001b[0m \u001b[0;31m# Imprimir los mejores hiperparámetros\u001b[0m\u001b[0;34m\u001b[0m\u001b[0;34m\u001b[0m\u001b[0m\n",
            "\u001b[0;31mNameError\u001b[0m: name 'random_search' is not defined"
          ]
        }
      ]
    },
    {
      "cell_type": "markdown",
      "source": [
        "El error del log anterior se debe a que al final nos habíamos equivocado de nombre de variable, pero como tardó bastante tiempo imprimir todo eso, dejamos esa expresion de error.\n",
        "\n",
        "Ahora obtenemos los mejores hiperparámetros de la red neuronal:"
      ],
      "metadata": {
        "id": "XUlsEIpFrFgW"
      }
    },
    {
      "cell_type": "code",
      "source": [
        "best_params = random_search_architecture.best_params_\n",
        "\n",
        "# Imprimir los mejores hiperparámetros\n",
        "print(\"Mejores hiperparámetros:\", best_params)"
      ],
      "metadata": {
        "colab": {
          "base_uri": "https://localhost:8080/"
        },
        "id": "sU4rR0Ivqtxw",
        "outputId": "73f8e9da-bd76-4a68-e2d8-e5889a9fbf80"
      },
      "execution_count": null,
      "outputs": [
        {
          "output_type": "stream",
          "name": "stdout",
          "text": [
            "Mejores hiperparámetros: {'neurons': 128, 'ln_rate_parameter': 0.01, 'hidden_layers': 1}\n"
          ]
        }
      ]
    },
    {
      "cell_type": "markdown",
      "source": [
        "#### Hacemos una búsqueda de mejores hiperparámetros de entrenamiento para la mejor red neuronal encontrada"
      ],
      "metadata": {
        "id": "jQnUAMKBrWQA"
      }
    },
    {
      "cell_type": "code",
      "source": [
        "# Creamos un modelo de red neuronal con los mejores valores de los hiperparámetros\n",
        "best_model = best_architecture\n",
        "\n",
        "# Optimizamos epochs y batch_size\n",
        "param_dist_training = {\n",
        "    'epochs': [10, 20, 30],\n",
        "    'batch_size': [128, 256, 512]\n",
        "}\n",
        "\n",
        "\n",
        "#Hacemos la búsqueda de mejores valores de hiperparámetros para el entrenamiento\n",
        "random_search_training = RandomizedSearchCV(estimator=KerasClassifier(build_fn=lambda: best_model),\n",
        "                                            param_distributions=param_dist_training,\n",
        "                                            n_iter=3,\n",
        "                                            verbose=99,\n",
        "                                            cv=3) # <-- es un detallecito que se puede borrar\n",
        "\n",
        "random_search_training.fit(X_train, y_train)\n",
        "\n",
        "# Obtenemos los mejores hiperparámetros\n",
        "best_training = random_search_training.best_params_\n",
        "\n",
        "# Entrenamos el mejor modelo obtenido anteriormente, ahora con los mejores hiperparámetros de entrenamiento\n",
        "best_model.fit(train_data, epochs=best_training['epochs'], batch_size=best_training['batch_size'])"
      ],
      "metadata": {
        "colab": {
          "base_uri": "https://localhost:8080/",
          "height": 1000
        },
        "id": "uzKxga1wrc4Y",
        "outputId": "42ff96ea-8cb8-4951-b39a-614b7b50b80b"
      },
      "execution_count": null,
      "outputs": [
        {
          "output_type": "stream",
          "name": "stdout",
          "text": [
            "Fitting 3 folds for each of 3 candidates, totalling 9 fits\n",
            "[CV 1/3; 1/3] START batch_size=256, epochs=20...................................\n",
            "Epoch 1/20\n",
            "131/131 [==============================] - 61s 464ms/step - loss: 1.2644 - accuracy: 0.7434\n",
            "Epoch 2/20\n",
            "131/131 [==============================] - 57s 435ms/step - loss: 1.2262 - accuracy: 0.7454\n",
            "Epoch 3/20\n",
            "131/131 [==============================] - 58s 440ms/step - loss: 1.1902 - accuracy: 0.7475\n",
            "Epoch 4/20\n",
            "131/131 [==============================] - 59s 448ms/step - loss: 1.1562 - accuracy: 0.7509\n",
            "Epoch 5/20\n",
            "131/131 [==============================] - 57s 438ms/step - loss: 1.1239 - accuracy: 0.7531\n",
            "Epoch 6/20\n",
            "131/131 [==============================] - 57s 435ms/step - loss: 1.0934 - accuracy: 0.7547\n",
            "Epoch 7/20\n",
            "131/131 [==============================] - 56s 431ms/step - loss: 1.0644 - accuracy: 0.7574\n",
            "Epoch 8/20\n",
            "131/131 [==============================] - 62s 473ms/step - loss: 1.0371 - accuracy: 0.7612\n",
            "Epoch 9/20\n",
            "131/131 [==============================] - 56s 431ms/step - loss: 1.0113 - accuracy: 0.7628\n",
            "Epoch 10/20\n",
            "131/131 [==============================] - 57s 433ms/step - loss: 0.9867 - accuracy: 0.7651\n",
            "Epoch 11/20\n",
            "131/131 [==============================] - 56s 425ms/step - loss: 0.9634 - accuracy: 0.7673\n",
            "Epoch 12/20\n",
            "131/131 [==============================] - 57s 436ms/step - loss: 0.9413 - accuracy: 0.7687\n",
            "Epoch 13/20\n",
            "131/131 [==============================] - 56s 425ms/step - loss: 0.9204 - accuracy: 0.7710\n",
            "Epoch 14/20\n",
            "131/131 [==============================] - 57s 437ms/step - loss: 0.9005 - accuracy: 0.7732\n",
            "Epoch 15/20\n",
            "131/131 [==============================] - 56s 426ms/step - loss: 0.8816 - accuracy: 0.7746\n",
            "Epoch 16/20\n",
            "131/131 [==============================] - 56s 429ms/step - loss: 0.8637 - accuracy: 0.7772\n",
            "Epoch 17/20\n",
            "131/131 [==============================] - 56s 431ms/step - loss: 0.8465 - accuracy: 0.7793\n",
            "Epoch 18/20\n",
            "131/131 [==============================] - 55s 422ms/step - loss: 0.8303 - accuracy: 0.7812\n",
            "Epoch 19/20\n",
            "131/131 [==============================] - 57s 435ms/step - loss: 0.8149 - accuracy: 0.7825\n",
            "Epoch 20/20\n",
            "131/131 [==============================] - 55s 423ms/step - loss: 0.8002 - accuracy: 0.7837\n",
            "66/66 [==============================] - 28s 411ms/step - loss: 0.8029 - accuracy: 0.7755\n",
            "[CV 1/3; 1/3] END ....batch_size=256, epochs=20;, score=0.776 total time=20.1min\n",
            "[CV 2/3; 1/3] START batch_size=256, epochs=20...................................\n",
            "Epoch 1/20\n",
            "131/131 [==============================] - 56s 431ms/step - loss: 0.7886 - accuracy: 0.7831\n",
            "Epoch 2/20\n",
            "131/131 [==============================] - 57s 431ms/step - loss: 0.7752 - accuracy: 0.7855\n",
            "Epoch 3/20\n",
            "131/131 [==============================] - 57s 438ms/step - loss: 0.7627 - accuracy: 0.7867\n",
            "Epoch 4/20\n",
            "131/131 [==============================] - 56s 430ms/step - loss: 0.7506 - accuracy: 0.7873\n",
            "Epoch 5/20\n",
            "131/131 [==============================] - 56s 427ms/step - loss: 0.7391 - accuracy: 0.7892\n",
            "Epoch 6/20\n",
            "131/131 [==============================] - 59s 449ms/step - loss: 0.7282 - accuracy: 0.7906\n",
            "Epoch 7/20\n",
            "131/131 [==============================] - 56s 424ms/step - loss: 0.7178 - accuracy: 0.7918\n",
            "Epoch 8/20\n",
            "131/131 [==============================] - 57s 435ms/step - loss: 0.7080 - accuracy: 0.7931\n",
            "Epoch 9/20\n",
            "131/131 [==============================] - 56s 425ms/step - loss: 0.6985 - accuracy: 0.7937\n",
            "Epoch 10/20\n",
            "131/131 [==============================] - 57s 432ms/step - loss: 0.6895 - accuracy: 0.7955\n",
            "Epoch 11/20\n",
            "131/131 [==============================] - 56s 430ms/step - loss: 0.6810 - accuracy: 0.7967\n",
            "Epoch 12/20\n",
            "131/131 [==============================] - 57s 433ms/step - loss: 0.6729 - accuracy: 0.7973\n",
            "Epoch 13/20\n",
            "131/131 [==============================] - 57s 431ms/step - loss: 0.6651 - accuracy: 0.7984\n",
            "Epoch 14/20\n",
            "131/131 [==============================] - 56s 427ms/step - loss: 0.6577 - accuracy: 0.7996\n",
            "Epoch 15/20\n",
            "131/131 [==============================] - 57s 434ms/step - loss: 0.6506 - accuracy: 0.8014\n",
            "Epoch 16/20\n",
            "131/131 [==============================] - 56s 424ms/step - loss: 0.6438 - accuracy: 0.8022\n",
            "Epoch 17/20\n",
            "131/131 [==============================] - 57s 432ms/step - loss: 0.6374 - accuracy: 0.8033\n",
            "Epoch 18/20\n",
            "131/131 [==============================] - 56s 429ms/step - loss: 0.6312 - accuracy: 0.8048\n",
            "Epoch 19/20\n",
            "131/131 [==============================] - 56s 429ms/step - loss: 0.6252 - accuracy: 0.8051\n",
            "Epoch 20/20\n",
            "131/131 [==============================] - 57s 434ms/step - loss: 0.6196 - accuracy: 0.8065\n",
            "66/66 [==============================] - 28s 429ms/step - loss: 0.6198 - accuracy: 0.8049\n",
            "[CV 2/3; 1/3] END ....batch_size=256, epochs=20;, score=0.805 total time=20.1min\n",
            "[CV 3/3; 1/3] START batch_size=256, epochs=20...................................\n",
            "Epoch 1/20\n",
            "131/131 [==============================] - 57s 436ms/step - loss: 0.6183 - accuracy: 0.8052\n",
            "Epoch 2/20\n",
            "131/131 [==============================] - 58s 440ms/step - loss: 0.6130 - accuracy: 0.8063\n",
            "Epoch 3/20\n",
            "131/131 [==============================] - 56s 427ms/step - loss: 0.6080 - accuracy: 0.8074\n",
            "Epoch 4/20\n",
            "131/131 [==============================] - 57s 437ms/step - loss: 0.6033 - accuracy: 0.8085\n",
            "Epoch 5/20\n",
            "131/131 [==============================] - 56s 430ms/step - loss: 0.5988 - accuracy: 0.8093\n",
            "Epoch 6/20\n",
            "131/131 [==============================] - 56s 431ms/step - loss: 0.5944 - accuracy: 0.8101\n",
            "Epoch 7/20\n",
            "131/131 [==============================] - 58s 440ms/step - loss: 0.5903 - accuracy: 0.8109\n",
            "Epoch 8/20\n",
            "131/131 [==============================] - 56s 427ms/step - loss: 0.5863 - accuracy: 0.8115\n",
            "Epoch 9/20\n",
            "131/131 [==============================] - 57s 436ms/step - loss: 0.5825 - accuracy: 0.8123\n",
            "Epoch 10/20\n",
            "131/131 [==============================] - 57s 433ms/step - loss: 0.5789 - accuracy: 0.8137\n",
            "Epoch 11/20\n",
            "131/131 [==============================] - 57s 434ms/step - loss: 0.5753 - accuracy: 0.8142\n",
            "Epoch 12/20\n",
            "131/131 [==============================] - 56s 430ms/step - loss: 0.5721 - accuracy: 0.8139\n",
            "Epoch 13/20\n",
            "131/131 [==============================] - 56s 428ms/step - loss: 0.5688 - accuracy: 0.8155\n",
            "Epoch 14/20\n",
            "131/131 [==============================] - 57s 435ms/step - loss: 0.5656 - accuracy: 0.8159\n",
            "Epoch 15/20\n",
            "131/131 [==============================] - 56s 425ms/step - loss: 0.5628 - accuracy: 0.8167\n",
            "Epoch 16/20\n",
            "131/131 [==============================] - 57s 436ms/step - loss: 0.5599 - accuracy: 0.8184\n",
            "Epoch 17/20\n",
            "131/131 [==============================] - 56s 427ms/step - loss: 0.5573 - accuracy: 0.8181\n",
            "Epoch 18/20\n",
            "131/131 [==============================] - 57s 432ms/step - loss: 0.5546 - accuracy: 0.8183\n",
            "Epoch 19/20\n",
            "131/131 [==============================] - 56s 429ms/step - loss: 0.5521 - accuracy: 0.8186\n",
            "Epoch 20/20\n",
            "131/131 [==============================] - 56s 427ms/step - loss: 0.5496 - accuracy: 0.8195\n",
            "66/66 [==============================] - 27s 413ms/step - loss: 0.5415 - accuracy: 0.8226\n",
            "[CV 3/3; 1/3] END ....batch_size=256, epochs=20;, score=0.823 total time=20.1min\n",
            "[CV 1/3; 2/3] START batch_size=128, epochs=20...................................\n",
            "Epoch 1/20\n",
            "261/261 [==============================] - 110s 423ms/step - loss: 0.5419 - accuracy: 0.8228\n",
            "Epoch 2/20\n",
            "261/261 [==============================] - 111s 426ms/step - loss: 0.5374 - accuracy: 0.8241\n",
            "Epoch 3/20\n",
            "261/261 [==============================] - 110s 423ms/step - loss: 0.5335 - accuracy: 0.8251\n",
            "Epoch 4/20\n",
            "261/261 [==============================] - 110s 421ms/step - loss: 0.5297 - accuracy: 0.8276\n",
            "Epoch 5/20\n",
            "261/261 [==============================] - 110s 423ms/step - loss: 0.5262 - accuracy: 0.8278\n",
            "Epoch 6/20\n",
            "261/261 [==============================] - 111s 424ms/step - loss: 0.5228 - accuracy: 0.8290\n",
            "Epoch 7/20\n",
            "261/261 [==============================] - 110s 420ms/step - loss: 0.5199 - accuracy: 0.8293\n",
            "Epoch 8/20\n",
            "261/261 [==============================] - 110s 423ms/step - loss: 0.5169 - accuracy: 0.8296\n",
            "Epoch 9/20\n",
            "261/261 [==============================] - 111s 424ms/step - loss: 0.5144 - accuracy: 0.8318\n",
            "Epoch 10/20\n",
            "261/261 [==============================] - 110s 422ms/step - loss: 0.5118 - accuracy: 0.8315\n",
            "Epoch 11/20\n",
            "261/261 [==============================] - 110s 422ms/step - loss: 0.5095 - accuracy: 0.8336\n",
            "Epoch 12/20\n",
            "261/261 [==============================] - 110s 423ms/step - loss: 0.5072 - accuracy: 0.8342\n",
            "Epoch 13/20\n",
            "261/261 [==============================] - 110s 423ms/step - loss: 0.5051 - accuracy: 0.8356\n",
            "Epoch 14/20\n",
            "261/261 [==============================] - 110s 422ms/step - loss: 0.5030 - accuracy: 0.8362\n",
            "Epoch 15/20\n",
            "261/261 [==============================] - 112s 427ms/step - loss: 0.5012 - accuracy: 0.8368\n",
            "Epoch 16/20\n",
            "261/261 [==============================] - 110s 423ms/step - loss: 0.4994 - accuracy: 0.8368\n",
            "Epoch 17/20\n",
            "261/261 [==============================] - 109s 419ms/step - loss: 0.4977 - accuracy: 0.8384\n",
            "Epoch 18/20\n",
            "261/261 [==============================] - 109s 417ms/step - loss: 0.4961 - accuracy: 0.8384\n",
            "Epoch 19/20\n",
            "261/261 [==============================] - 109s 418ms/step - loss: 0.4945 - accuracy: 0.8396\n",
            "Epoch 20/20\n",
            "261/261 [==============================] - 108s 415ms/step - loss: 0.4930 - accuracy: 0.8402\n",
            "131/131 [==============================] - 54s 412ms/step - loss: 0.5080 - accuracy: 0.8262\n",
            "[CV 1/3; 2/3] END ....batch_size=128, epochs=20;, score=0.826 total time=37.6min\n",
            "[CV 2/3; 2/3] START batch_size=128, epochs=20...................................\n",
            "Epoch 1/20\n",
            "261/261 [==============================] - 108s 413ms/step - loss: 0.4961 - accuracy: 0.8360\n",
            "Epoch 2/20\n",
            "261/261 [==============================] - 108s 415ms/step - loss: 0.4942 - accuracy: 0.8374\n",
            "Epoch 3/20\n",
            "261/261 [==============================] - 108s 412ms/step - loss: 0.4931 - accuracy: 0.8384\n",
            "Epoch 4/20\n",
            "261/261 [==============================] - 109s 417ms/step - loss: 0.4917 - accuracy: 0.8396\n",
            "Epoch 5/20\n",
            "261/261 [==============================] - 109s 418ms/step - loss: 0.4903 - accuracy: 0.8391\n",
            "Epoch 6/20\n",
            "261/261 [==============================] - 108s 413ms/step - loss: 0.4891 - accuracy: 0.8397\n",
            "Epoch 7/20\n",
            "261/261 [==============================] - 108s 413ms/step - loss: 0.4878 - accuracy: 0.8400\n",
            "Epoch 8/20\n",
            "261/261 [==============================] - 109s 416ms/step - loss: 0.4867 - accuracy: 0.8420\n",
            "Epoch 9/20\n",
            "261/261 [==============================] - 108s 414ms/step - loss: 0.4854 - accuracy: 0.8421\n",
            "Epoch 10/20\n",
            "261/261 [==============================] - 109s 417ms/step - loss: 0.4844 - accuracy: 0.8426\n",
            "Epoch 11/20\n",
            "261/261 [==============================] - 107s 411ms/step - loss: 0.4834 - accuracy: 0.8430\n",
            "Epoch 12/20\n",
            "261/261 [==============================] - 109s 416ms/step - loss: 0.4824 - accuracy: 0.8436\n",
            "Epoch 13/20\n",
            "261/261 [==============================] - 108s 414ms/step - loss: 0.4813 - accuracy: 0.8440\n",
            "Epoch 14/20\n",
            "261/261 [==============================] - 107s 411ms/step - loss: 0.4803 - accuracy: 0.8441\n",
            "Epoch 15/20\n",
            "261/261 [==============================] - 108s 414ms/step - loss: 0.4795 - accuracy: 0.8459\n",
            "Epoch 16/20\n",
            "261/261 [==============================] - 107s 410ms/step - loss: 0.4784 - accuracy: 0.8459\n",
            "Epoch 17/20\n",
            "261/261 [==============================] - 108s 414ms/step - loss: 0.4776 - accuracy: 0.8467\n",
            "Epoch 18/20\n",
            "261/261 [==============================] - 107s 410ms/step - loss: 0.4767 - accuracy: 0.8467\n",
            "Epoch 19/20\n",
            "261/261 [==============================] - 108s 412ms/step - loss: 0.4756 - accuracy: 0.8472\n",
            "Epoch 20/20\n",
            "261/261 [==============================] - 107s 411ms/step - loss: 0.4747 - accuracy: 0.8479\n",
            "131/131 [==============================] - 53s 402ms/step - loss: 0.4769 - accuracy: 0.8458\n",
            "[CV 2/3; 2/3] END ....batch_size=128, epochs=20;, score=0.846 total time=37.8min\n",
            "[CV 3/3; 2/3] START batch_size=128, epochs=20...................................\n",
            "Epoch 1/20\n",
            "261/261 [==============================] - 106s 404ms/step - loss: 0.4784 - accuracy: 0.8449\n",
            "Epoch 2/20\n",
            "261/261 [==============================] - 106s 407ms/step - loss: 0.4774 - accuracy: 0.8456\n",
            "Epoch 3/20\n",
            "261/261 [==============================] - 107s 411ms/step - loss: 0.4765 - accuracy: 0.8458\n",
            "Epoch 4/20\n",
            "261/261 [==============================] - 106s 408ms/step - loss: 0.4755 - accuracy: 0.8470\n",
            "Epoch 5/20\n",
            "261/261 [==============================] - 106s 406ms/step - loss: 0.4749 - accuracy: 0.8456\n",
            "Epoch 6/20\n",
            "261/261 [==============================] - 106s 408ms/step - loss: 0.4739 - accuracy: 0.8477\n",
            "Epoch 7/20\n",
            "261/261 [==============================] - 106s 407ms/step - loss: 0.4732 - accuracy: 0.8478\n",
            "Epoch 8/20\n",
            "261/261 [==============================] - 108s 413ms/step - loss: 0.4724 - accuracy: 0.8477\n",
            "Epoch 9/20\n",
            "261/261 [==============================] - 111s 424ms/step - loss: 0.4714 - accuracy: 0.8485\n",
            "Epoch 10/20\n",
            "261/261 [==============================] - 112s 429ms/step - loss: 0.4708 - accuracy: 0.8494\n",
            "Epoch 11/20\n",
            "261/261 [==============================] - 113s 435ms/step - loss: 0.4699 - accuracy: 0.8496\n",
            "Epoch 12/20\n",
            "261/261 [==============================] - 111s 425ms/step - loss: 0.4694 - accuracy: 0.8498\n",
            "Epoch 13/20\n",
            "261/261 [==============================] - 113s 434ms/step - loss: 0.4685 - accuracy: 0.8498\n",
            "Epoch 14/20\n",
            "261/261 [==============================] - 125s 479ms/step - loss: 0.4677 - accuracy: 0.8511\n",
            "Epoch 15/20\n",
            "261/261 [==============================] - 112s 428ms/step - loss: 0.4672 - accuracy: 0.8514\n",
            "Epoch 16/20\n",
            "261/261 [==============================] - 113s 433ms/step - loss: 0.4663 - accuracy: 0.8514\n",
            "Epoch 17/20\n",
            "261/261 [==============================] - 112s 427ms/step - loss: 0.4657 - accuracy: 0.8518\n",
            "Epoch 18/20\n",
            "261/261 [==============================] - 112s 429ms/step - loss: 0.4650 - accuracy: 0.8526\n",
            "Epoch 19/20\n",
            "261/261 [==============================] - 112s 429ms/step - loss: 0.4643 - accuracy: 0.8526\n",
            "Epoch 20/20\n",
            "261/261 [==============================] - 112s 428ms/step - loss: 0.4636 - accuracy: 0.8526\n",
            "131/131 [==============================] - 55s 419ms/step - loss: 0.4576 - accuracy: 0.8573\n",
            "[CV 3/3; 2/3] END ....batch_size=128, epochs=20;, score=0.857 total time=38.3min\n",
            "[CV 1/3; 3/3] START batch_size=512, epochs=30...................................\n",
            "Epoch 1/30\n",
            "66/66 [==============================] - 30s 455ms/step - loss: 0.4592 - accuracy: 0.8561\n",
            "Epoch 2/30\n",
            "66/66 [==============================] - 30s 456ms/step - loss: 0.4589 - accuracy: 0.8561\n",
            "Epoch 3/30\n",
            "66/66 [==============================] - 30s 455ms/step - loss: 0.4588 - accuracy: 0.8563\n",
            "Epoch 4/30\n",
            "66/66 [==============================] - 30s 457ms/step - loss: 0.4586 - accuracy: 0.8566\n",
            "Epoch 5/30\n",
            "66/66 [==============================] - 30s 452ms/step - loss: 0.4584 - accuracy: 0.8570\n",
            "Epoch 6/30\n",
            "66/66 [==============================] - 30s 453ms/step - loss: 0.4582 - accuracy: 0.8563\n",
            "Epoch 7/30\n",
            "66/66 [==============================] - 30s 456ms/step - loss: 0.4580 - accuracy: 0.8570\n",
            "Epoch 8/30\n",
            "66/66 [==============================] - 31s 461ms/step - loss: 0.4580 - accuracy: 0.8565\n",
            "Epoch 9/30\n",
            "66/66 [==============================] - 30s 454ms/step - loss: 0.4577 - accuracy: 0.8576\n",
            "Epoch 10/30\n",
            "66/66 [==============================] - 31s 473ms/step - loss: 0.4575 - accuracy: 0.8575\n",
            "Epoch 11/30\n",
            "66/66 [==============================] - 30s 455ms/step - loss: 0.4573 - accuracy: 0.8576\n",
            "Epoch 12/30\n",
            "66/66 [==============================] - 30s 449ms/step - loss: 0.4571 - accuracy: 0.8584\n",
            "Epoch 13/30\n",
            "66/66 [==============================] - 30s 448ms/step - loss: 0.4570 - accuracy: 0.8574\n",
            "Epoch 14/30\n",
            "66/66 [==============================] - 30s 447ms/step - loss: 0.4568 - accuracy: 0.8579\n",
            "Epoch 15/30\n",
            "66/66 [==============================] - 30s 449ms/step - loss: 0.4567 - accuracy: 0.8580\n",
            "Epoch 16/30\n",
            "66/66 [==============================] - 30s 449ms/step - loss: 0.4565 - accuracy: 0.8578\n",
            "Epoch 17/30\n",
            "66/66 [==============================] - 30s 447ms/step - loss: 0.4563 - accuracy: 0.8580\n",
            "Epoch 18/30\n",
            "66/66 [==============================] - 30s 450ms/step - loss: 0.4562 - accuracy: 0.8578\n",
            "Epoch 19/30\n",
            "66/66 [==============================] - 30s 450ms/step - loss: 0.4560 - accuracy: 0.8585\n",
            "Epoch 20/30\n",
            "66/66 [==============================] - 30s 450ms/step - loss: 0.4558 - accuracy: 0.8583\n",
            "Epoch 21/30\n",
            "66/66 [==============================] - 30s 450ms/step - loss: 0.4557 - accuracy: 0.8586\n",
            "Epoch 22/30\n",
            "66/66 [==============================] - 30s 452ms/step - loss: 0.4555 - accuracy: 0.8584\n",
            "Epoch 23/30\n",
            "66/66 [==============================] - 30s 452ms/step - loss: 0.4554 - accuracy: 0.8589\n",
            "Epoch 24/30\n",
            "66/66 [==============================] - 30s 453ms/step - loss: 0.4552 - accuracy: 0.8583\n",
            "Epoch 25/30\n",
            "66/66 [==============================] - 30s 452ms/step - loss: 0.4551 - accuracy: 0.8586\n",
            "Epoch 26/30\n",
            "66/66 [==============================] - 30s 453ms/step - loss: 0.4550 - accuracy: 0.8588\n",
            "Epoch 27/30\n",
            "66/66 [==============================] - 30s 453ms/step - loss: 0.4547 - accuracy: 0.8592\n",
            "Epoch 28/30\n",
            "66/66 [==============================] - 30s 456ms/step - loss: 0.4546 - accuracy: 0.8595\n",
            "Epoch 29/30\n",
            "66/66 [==============================] - 30s 456ms/step - loss: 0.4544 - accuracy: 0.8585\n",
            "Epoch 30/30\n",
            "66/66 [==============================] - 30s 453ms/step - loss: 0.4543 - accuracy: 0.8597\n",
            "33/33 [==============================] - 14s 437ms/step - loss: 0.4616 - accuracy: 0.8549\n",
            "[CV 1/3; 3/3] END ....batch_size=512, epochs=30;, score=0.855 total time=15.4min\n",
            "[CV 2/3; 3/3] START batch_size=512, epochs=30...................................\n",
            "Epoch 1/30\n",
            "66/66 [==============================] - 30s 451ms/step - loss: 0.4568 - accuracy: 0.8576\n",
            "Epoch 2/30\n",
            "66/66 [==============================] - 30s 450ms/step - loss: 0.4566 - accuracy: 0.8579\n",
            "Epoch 3/30\n",
            "66/66 [==============================] - 30s 452ms/step - loss: 0.4565 - accuracy: 0.8583\n",
            "Epoch 4/30\n",
            "66/66 [==============================] - 30s 451ms/step - loss: 0.4563 - accuracy: 0.8580\n",
            "Epoch 5/30\n",
            "66/66 [==============================] - 30s 454ms/step - loss: 0.4561 - accuracy: 0.8575\n",
            "Epoch 6/30\n",
            "66/66 [==============================] - 30s 451ms/step - loss: 0.4559 - accuracy: 0.8581\n",
            "Epoch 7/30\n",
            "66/66 [==============================] - 30s 450ms/step - loss: 0.4557 - accuracy: 0.8581\n",
            "Epoch 8/30\n",
            "66/66 [==============================] - 30s 453ms/step - loss: 0.4557 - accuracy: 0.8574\n",
            "Epoch 9/30\n",
            "66/66 [==============================] - 30s 454ms/step - loss: 0.4554 - accuracy: 0.8581\n",
            "Epoch 10/30\n",
            "66/66 [==============================] - 30s 452ms/step - loss: 0.4552 - accuracy: 0.8580\n",
            "Epoch 11/30\n",
            "66/66 [==============================] - 30s 450ms/step - loss: 0.4551 - accuracy: 0.8584\n",
            "Epoch 12/30\n",
            "66/66 [==============================] - 30s 450ms/step - loss: 0.4549 - accuracy: 0.8585\n",
            "Epoch 13/30\n",
            "66/66 [==============================] - 30s 453ms/step - loss: 0.4548 - accuracy: 0.8579\n",
            "Epoch 14/30\n",
            "66/66 [==============================] - 30s 455ms/step - loss: 0.4547 - accuracy: 0.8585\n",
            "Epoch 15/30\n",
            "66/66 [==============================] - 30s 453ms/step - loss: 0.4545 - accuracy: 0.8588\n",
            "Epoch 16/30\n",
            "66/66 [==============================] - 31s 472ms/step - loss: 0.4543 - accuracy: 0.8587\n",
            "Epoch 17/30\n",
            "66/66 [==============================] - 30s 454ms/step - loss: 0.4542 - accuracy: 0.8590\n",
            "Epoch 18/30\n",
            "66/66 [==============================] - 30s 451ms/step - loss: 0.4540 - accuracy: 0.8583\n",
            "Epoch 19/30\n",
            "66/66 [==============================] - 30s 453ms/step - loss: 0.4538 - accuracy: 0.8582\n",
            "Epoch 20/30\n",
            "66/66 [==============================] - 30s 455ms/step - loss: 0.4536 - accuracy: 0.8589\n",
            "Epoch 21/30\n",
            "66/66 [==============================] - 30s 458ms/step - loss: 0.4535 - accuracy: 0.8585\n",
            "Epoch 22/30\n",
            "66/66 [==============================] - 30s 453ms/step - loss: 0.4534 - accuracy: 0.8587\n",
            "Epoch 23/30\n",
            "66/66 [==============================] - 30s 454ms/step - loss: 0.4533 - accuracy: 0.8596\n",
            "Epoch 24/30\n",
            "66/66 [==============================] - 30s 453ms/step - loss: 0.4531 - accuracy: 0.8587\n",
            "Epoch 25/30\n",
            "66/66 [==============================] - 30s 456ms/step - loss: 0.4530 - accuracy: 0.8595\n",
            "Epoch 26/30\n",
            "66/66 [==============================] - 30s 455ms/step - loss: 0.4528 - accuracy: 0.8595\n",
            "Epoch 27/30\n",
            "66/66 [==============================] - 30s 456ms/step - loss: 0.4527 - accuracy: 0.8596\n",
            "Epoch 28/30\n",
            "66/66 [==============================] - 30s 455ms/step - loss: 0.4525 - accuracy: 0.8594\n",
            "Epoch 29/30\n",
            "66/66 [==============================] - 30s 453ms/step - loss: 0.4523 - accuracy: 0.8590\n",
            "Epoch 30/30\n",
            "66/66 [==============================] - 30s 449ms/step - loss: 0.4522 - accuracy: 0.8593\n",
            "33/33 [==============================] - 14s 425ms/step - loss: 0.4540 - accuracy: 0.8567\n",
            "[CV 2/3; 3/3] END ....batch_size=512, epochs=30;, score=0.857 total time=15.7min\n",
            "[CV 3/3; 3/3] START batch_size=512, epochs=30...................................\n",
            "Epoch 1/30\n",
            "66/66 [==============================] - 30s 453ms/step - loss: 0.4551 - accuracy: 0.8573\n",
            "Epoch 2/30\n",
            "66/66 [==============================] - 30s 453ms/step - loss: 0.4550 - accuracy: 0.8574\n",
            "Epoch 3/30\n",
            "66/66 [==============================] - 30s 451ms/step - loss: 0.4547 - accuracy: 0.8574\n",
            "Epoch 4/30\n",
            "66/66 [==============================] - 30s 451ms/step - loss: 0.4546 - accuracy: 0.8580\n",
            "Epoch 5/30\n",
            "66/66 [==============================] - 30s 453ms/step - loss: 0.4545 - accuracy: 0.8572\n",
            "Epoch 6/30\n",
            "66/66 [==============================] - 30s 454ms/step - loss: 0.4543 - accuracy: 0.8580\n",
            "Epoch 7/30\n",
            "66/66 [==============================] - 30s 451ms/step - loss: 0.4541 - accuracy: 0.8579\n",
            "Epoch 8/30\n",
            "66/66 [==============================] - 30s 450ms/step - loss: 0.4539 - accuracy: 0.8586\n",
            "Epoch 9/30\n",
            "66/66 [==============================] - 30s 450ms/step - loss: 0.4538 - accuracy: 0.8581\n",
            "Epoch 10/30\n",
            "66/66 [==============================] - 30s 448ms/step - loss: 0.4536 - accuracy: 0.8582\n",
            "Epoch 11/30\n",
            "66/66 [==============================] - 30s 447ms/step - loss: 0.4535 - accuracy: 0.8586\n",
            "Epoch 12/30\n",
            "66/66 [==============================] - 30s 447ms/step - loss: 0.4534 - accuracy: 0.8590\n",
            "Epoch 13/30\n",
            "66/66 [==============================] - 30s 449ms/step - loss: 0.4532 - accuracy: 0.8591\n",
            "Epoch 14/30\n",
            "66/66 [==============================] - 30s 447ms/step - loss: 0.4530 - accuracy: 0.8591\n",
            "Epoch 15/30\n",
            "66/66 [==============================] - 31s 465ms/step - loss: 0.4529 - accuracy: 0.8586\n",
            "Epoch 16/30\n",
            "66/66 [==============================] - 29s 443ms/step - loss: 0.4528 - accuracy: 0.8588\n",
            "Epoch 17/30\n",
            "66/66 [==============================] - 30s 452ms/step - loss: 0.4528 - accuracy: 0.8589\n",
            "Epoch 18/30\n",
            "66/66 [==============================] - 30s 452ms/step - loss: 0.4525 - accuracy: 0.8593\n",
            "Epoch 19/30\n",
            "66/66 [==============================] - 30s 450ms/step - loss: 0.4524 - accuracy: 0.8593\n",
            "Epoch 20/30\n",
            "66/66 [==============================] - 30s 452ms/step - loss: 0.4522 - accuracy: 0.8589\n",
            "Epoch 21/30\n",
            "66/66 [==============================] - 30s 450ms/step - loss: 0.4521 - accuracy: 0.8592\n",
            "Epoch 22/30\n",
            "66/66 [==============================] - 30s 451ms/step - loss: 0.4519 - accuracy: 0.8598\n",
            "Epoch 23/30\n",
            "66/66 [==============================] - 30s 449ms/step - loss: 0.4519 - accuracy: 0.8593\n",
            "Epoch 24/30\n",
            "66/66 [==============================] - 30s 450ms/step - loss: 0.4516 - accuracy: 0.8593\n",
            "Epoch 25/30\n",
            "66/66 [==============================] - 30s 450ms/step - loss: 0.4515 - accuracy: 0.8594\n",
            "Epoch 26/30\n",
            "66/66 [==============================] - 30s 452ms/step - loss: 0.4513 - accuracy: 0.8600\n",
            "Epoch 27/30\n",
            "66/66 [==============================] - 30s 453ms/step - loss: 0.4513 - accuracy: 0.8605\n",
            "Epoch 28/30\n",
            "66/66 [==============================] - 30s 451ms/step - loss: 0.4511 - accuracy: 0.8602\n",
            "Epoch 29/30\n",
            "66/66 [==============================] - 30s 453ms/step - loss: 0.4510 - accuracy: 0.8598\n",
            "Epoch 30/30\n",
            "66/66 [==============================] - 30s 452ms/step - loss: 0.4508 - accuracy: 0.8597\n",
            "33/33 [==============================] - 14s 434ms/step - loss: 0.4452 - accuracy: 0.8624\n",
            "[CV 3/3; 3/3] END ....batch_size=512, epochs=30;, score=0.862 total time=15.7min\n",
            "Epoch 1/30\n",
            "98/98 [==============================] - 44s 446ms/step - loss: 0.4488 - accuracy: 0.8612\n",
            "Epoch 2/30\n",
            "98/98 [==============================] - 44s 448ms/step - loss: 0.4485 - accuracy: 0.8613\n",
            "Epoch 3/30\n",
            "98/98 [==============================] - 44s 450ms/step - loss: 0.4485 - accuracy: 0.8617\n",
            "Epoch 4/30\n",
            "98/98 [==============================] - 44s 450ms/step - loss: 0.4483 - accuracy: 0.8614\n",
            "Epoch 5/30\n",
            "98/98 [==============================] - 45s 462ms/step - loss: 0.4481 - accuracy: 0.8611\n",
            "Epoch 6/30\n",
            "98/98 [==============================] - 44s 449ms/step - loss: 0.4479 - accuracy: 0.8616\n",
            "Epoch 7/30\n",
            "98/98 [==============================] - 44s 449ms/step - loss: 0.4477 - accuracy: 0.8615\n",
            "Epoch 8/30\n",
            "98/98 [==============================] - 44s 449ms/step - loss: 0.4476 - accuracy: 0.8618\n",
            "Epoch 9/30\n",
            "98/98 [==============================] - 44s 453ms/step - loss: 0.4474 - accuracy: 0.8617\n",
            "Epoch 10/30\n",
            "98/98 [==============================] - 44s 446ms/step - loss: 0.4472 - accuracy: 0.8619\n",
            "Epoch 11/30\n",
            "98/98 [==============================] - 44s 445ms/step - loss: 0.4470 - accuracy: 0.8619\n",
            "Epoch 12/30\n",
            "98/98 [==============================] - 44s 444ms/step - loss: 0.4469 - accuracy: 0.8618\n",
            "Epoch 13/30\n",
            "98/98 [==============================] - 54s 553ms/step - loss: 0.4467 - accuracy: 0.8620\n",
            "Epoch 14/30\n",
            "98/98 [==============================] - 43s 442ms/step - loss: 0.4466 - accuracy: 0.8619\n",
            "Epoch 15/30\n",
            "98/98 [==============================] - 44s 448ms/step - loss: 0.4463 - accuracy: 0.8621\n",
            "Epoch 16/30\n",
            "98/98 [==============================] - 44s 449ms/step - loss: 0.4462 - accuracy: 0.8624\n",
            "Epoch 17/30\n",
            "98/98 [==============================] - 44s 451ms/step - loss: 0.4460 - accuracy: 0.8620\n",
            "Epoch 18/30\n",
            "98/98 [==============================] - 44s 451ms/step - loss: 0.4459 - accuracy: 0.8622\n",
            "Epoch 19/30\n",
            "98/98 [==============================] - 44s 449ms/step - loss: 0.4457 - accuracy: 0.8627\n",
            "Epoch 20/30\n",
            "98/98 [==============================] - 44s 453ms/step - loss: 0.4455 - accuracy: 0.8627\n",
            "Epoch 21/30\n",
            "98/98 [==============================] - 44s 454ms/step - loss: 0.4453 - accuracy: 0.8620\n",
            "Epoch 22/30\n",
            "98/98 [==============================] - 44s 452ms/step - loss: 0.4452 - accuracy: 0.8626\n",
            "Epoch 23/30\n",
            "98/98 [==============================] - 44s 454ms/step - loss: 0.4450 - accuracy: 0.8631\n",
            "Epoch 24/30\n",
            "98/98 [==============================] - 44s 454ms/step - loss: 0.4449 - accuracy: 0.8625\n",
            "Epoch 25/30\n",
            "98/98 [==============================] - 44s 454ms/step - loss: 0.4447 - accuracy: 0.8633\n",
            "Epoch 26/30\n",
            "98/98 [==============================] - 44s 448ms/step - loss: 0.4445 - accuracy: 0.8632\n",
            "Epoch 27/30\n",
            "98/98 [==============================] - 44s 447ms/step - loss: 0.4444 - accuracy: 0.8633\n",
            "Epoch 28/30\n",
            "98/98 [==============================] - 45s 463ms/step - loss: 0.4442 - accuracy: 0.8632\n",
            "Epoch 29/30\n",
            "98/98 [==============================] - 46s 471ms/step - loss: 0.4440 - accuracy: 0.8635\n",
            "Epoch 30/30\n",
            "98/98 [==============================] - 44s 445ms/step - loss: 0.4439 - accuracy: 0.8634\n"
          ]
        },
        {
          "output_type": "error",
          "ename": "NameError",
          "evalue": "ignored",
          "traceback": [
            "\u001b[0;31m---------------------------------------------------------------------------\u001b[0m",
            "\u001b[0;31mNameError\u001b[0m                                 Traceback (most recent call last)",
            "\u001b[0;32m<ipython-input-13-15c5720252de>\u001b[0m in \u001b[0;36m<cell line: 32>\u001b[0;34m()\u001b[0m\n\u001b[1;32m     30\u001b[0m \u001b[0;34m\u001b[0m\u001b[0m\n\u001b[1;32m     31\u001b[0m \u001b[0;31m# Entrenamos el mejor modelo obtenido anteriormente, ahora con los mejores hiperparámetros de entrenamiento\u001b[0m\u001b[0;34m\u001b[0m\u001b[0;34m\u001b[0m\u001b[0m\n\u001b[0;32m---> 32\u001b[0;31m \u001b[0mbest_model\u001b[0m\u001b[0;34m.\u001b[0m\u001b[0mfit\u001b[0m\u001b[0;34m(\u001b[0m\u001b[0mtrain_data\u001b[0m\u001b[0;34m,\u001b[0m \u001b[0mepochs\u001b[0m\u001b[0;34m=\u001b[0m\u001b[0mbest_training\u001b[0m\u001b[0;34m[\u001b[0m\u001b[0;34m'epochs'\u001b[0m\u001b[0;34m]\u001b[0m\u001b[0;34m,\u001b[0m \u001b[0mbatch_size\u001b[0m\u001b[0;34m=\u001b[0m\u001b[0mbest_training\u001b[0m\u001b[0;34m[\u001b[0m\u001b[0;34m'batch_size'\u001b[0m\u001b[0;34m]\u001b[0m\u001b[0;34m)\u001b[0m\u001b[0;34m\u001b[0m\u001b[0;34m\u001b[0m\u001b[0m\n\u001b[0m",
            "\u001b[0;31mNameError\u001b[0m: name 'train_data' is not defined"
          ]
        }
      ]
    },
    {
      "cell_type": "markdown",
      "source": [
        "Nos falló el entrenamiento del mejor modelo porque nos equivocamos de nombre de variable, pero como tarda bastante esto, decidimos dejarlo en el log el error, y ahora en lo siguiente entrenar al mejor modelo con los mejores hiperparámetros de la red neuronal y de entrenamiento"
      ],
      "metadata": {
        "id": "bgyW94wj4v68"
      }
    },
    {
      "cell_type": "markdown",
      "source": [
        "<h1> Obtenemos los mejores hiperparámetros del entrenamiento de la mejor red neuronal dado el RandomizedSearchCV </h1>"
      ],
      "metadata": {
        "id": "WolHoVx81AZ0"
      }
    },
    {
      "cell_type": "code",
      "source": [
        "best_training = random_search_training.best_params_\n",
        "best_training"
      ],
      "metadata": {
        "colab": {
          "base_uri": "https://localhost:8080/"
        },
        "id": "EKzZb12Qkf9e",
        "outputId": "425343e3-122c-4bae-a294-bd8b83913bb7"
      },
      "execution_count": null,
      "outputs": [
        {
          "output_type": "execute_result",
          "data": {
            "text/plain": [
              "{'epochs': 30, 'batch_size': 512}"
            ]
          },
          "metadata": {},
          "execution_count": 15
        }
      ]
    },
    {
      "cell_type": "markdown",
      "source": [
        "Entrenamos ahora al mejor modelo de red neuronal encontrado con los mejores hiperparámetros de entrenamiento:"
      ],
      "metadata": {
        "id": "skI47Zl31A0G"
      }
    },
    {
      "cell_type": "code",
      "source": [
        "# Entrenamos el mejor modelo obtenido anteriormente, ahora con los mejores hiperparámetros de entrenamiento\n",
        "best_model.fit(X_train,y_train, epochs=best_training['epochs'], batch_size=best_training['batch_size'])"
      ],
      "metadata": {
        "colab": {
          "base_uri": "https://localhost:8080/"
        },
        "id": "2livy1nzkxcH",
        "outputId": "6f5f4dce-5156-4c8f-e223-e9fa3205d74f"
      },
      "execution_count": null,
      "outputs": [
        {
          "output_type": "stream",
          "name": "stdout",
          "text": [
            "Epoch 1/30\n",
            "98/98 [==============================] - 61s 616ms/step - loss: 0.4437 - accuracy: 0.8635\n",
            "Epoch 2/30\n",
            "98/98 [==============================] - 65s 665ms/step - loss: 0.4435 - accuracy: 0.8632\n",
            "Epoch 3/30\n",
            "98/98 [==============================] - 43s 440ms/step - loss: 0.4434 - accuracy: 0.8636\n",
            "Epoch 4/30\n",
            "98/98 [==============================] - 45s 462ms/step - loss: 0.4432 - accuracy: 0.8635\n",
            "Epoch 5/30\n",
            "98/98 [==============================] - 44s 453ms/step - loss: 0.4431 - accuracy: 0.8635\n",
            "Epoch 6/30\n",
            "98/98 [==============================] - 46s 466ms/step - loss: 0.4429 - accuracy: 0.8639\n",
            "Epoch 7/30\n",
            "98/98 [==============================] - 43s 437ms/step - loss: 0.4427 - accuracy: 0.8641\n",
            "Epoch 8/30\n",
            "98/98 [==============================] - 45s 464ms/step - loss: 0.4426 - accuracy: 0.8638\n",
            "Epoch 9/30\n",
            "98/98 [==============================] - 43s 444ms/step - loss: 0.4424 - accuracy: 0.8639\n",
            "Epoch 10/30\n",
            "98/98 [==============================] - 43s 441ms/step - loss: 0.4423 - accuracy: 0.8642\n",
            "Epoch 11/30\n",
            "98/98 [==============================] - 44s 451ms/step - loss: 0.4421 - accuracy: 0.8642\n",
            "Epoch 12/30\n",
            "98/98 [==============================] - 44s 444ms/step - loss: 0.4420 - accuracy: 0.8639\n",
            "Epoch 13/30\n",
            "98/98 [==============================] - 44s 446ms/step - loss: 0.4418 - accuracy: 0.8643\n",
            "Epoch 14/30\n",
            "98/98 [==============================] - 53s 545ms/step - loss: 0.4417 - accuracy: 0.8638\n",
            "Epoch 15/30\n",
            "98/98 [==============================] - 45s 460ms/step - loss: 0.4415 - accuracy: 0.8642\n",
            "Epoch 16/30\n",
            "98/98 [==============================] - 44s 444ms/step - loss: 0.4413 - accuracy: 0.8649\n",
            "Epoch 17/30\n",
            "98/98 [==============================] - 45s 454ms/step - loss: 0.4412 - accuracy: 0.8646\n",
            "Epoch 18/30\n",
            "98/98 [==============================] - 44s 454ms/step - loss: 0.4410 - accuracy: 0.8644\n",
            "Epoch 19/30\n",
            "98/98 [==============================] - 43s 439ms/step - loss: 0.4409 - accuracy: 0.8650\n",
            "Epoch 20/30\n",
            "98/98 [==============================] - 45s 463ms/step - loss: 0.4407 - accuracy: 0.8650\n",
            "Epoch 21/30\n",
            "98/98 [==============================] - 44s 452ms/step - loss: 0.4406 - accuracy: 0.8643\n",
            "Epoch 22/30\n",
            "98/98 [==============================] - 43s 437ms/step - loss: 0.4404 - accuracy: 0.8649\n",
            "Epoch 23/30\n",
            "98/98 [==============================] - 44s 452ms/step - loss: 0.4403 - accuracy: 0.8649\n",
            "Epoch 24/30\n",
            "98/98 [==============================] - 45s 457ms/step - loss: 0.4402 - accuracy: 0.8646\n",
            "Epoch 25/30\n",
            "98/98 [==============================] - 43s 442ms/step - loss: 0.4399 - accuracy: 0.8655\n",
            "Epoch 26/30\n",
            "98/98 [==============================] - 45s 456ms/step - loss: 0.4398 - accuracy: 0.8655\n",
            "Epoch 27/30\n",
            "98/98 [==============================] - 44s 452ms/step - loss: 0.4397 - accuracy: 0.8652\n",
            "Epoch 28/30\n",
            "98/98 [==============================] - 55s 561ms/step - loss: 0.4395 - accuracy: 0.8653\n",
            "Epoch 29/30\n",
            "98/98 [==============================] - 44s 446ms/step - loss: 0.4394 - accuracy: 0.8655\n",
            "Epoch 30/30\n",
            "98/98 [==============================] - 56s 572ms/step - loss: 0.4392 - accuracy: 0.8655\n"
          ]
        },
        {
          "output_type": "execute_result",
          "data": {
            "text/plain": [
              "<keras.callbacks.History at 0x7ec70370df90>"
            ]
          },
          "metadata": {},
          "execution_count": 16
        }
      ]
    },
    {
      "cell_type": "markdown",
      "source": [
        "#### <h1> Exportamos el mejor modelo entrenado</h1>"
      ],
      "metadata": {
        "id": "kNEa_PdlRINk"
      }
    },
    {
      "cell_type": "code",
      "source": [
        "dump(best_model, '/content/drive/MyDrive/Tp_Datos_2023_2°/TP2/modelos/modelo_red_neuronal_borrador_optimizado_con_regularizadores.joblib')"
      ],
      "metadata": {
        "id": "km0YQ0uKRM4N"
      },
      "execution_count": null,
      "outputs": []
    },
    {
      "cell_type": "markdown",
      "source": [
        "#### <h1> Hacemos la exportación a kaggle </h1>"
      ],
      "metadata": {
        "id": "z3lHA4LPQ3lV"
      }
    },
    {
      "cell_type": "code",
      "source": [
        "# Acá obtengo predicciones continuas\n",
        "y_pred = best_model.predict(ds_test['review_es'], verbose=99)\n",
        "\n",
        "# Aplicar un umbral (por ejemplo, 0.5) para convertir a etiquetas binarias (\"positivo\" ó \"negativo\")\n",
        "umbral = 0.5\n",
        "y_pred_final = list(map(lambda x: 'positivo' if x > umbral else 'negativo', y_pred))\n",
        "\n",
        "# Crear la tabla con las predicciones\n",
        "submission_red_neuronal = pd.DataFrame({'ID': ds_test['ID'], 'sentimiento': y_pred_final})\n",
        "\n",
        "# Guardar la tabla en un archivo CSV\n",
        "submission_red_neuronal.to_csv('/content/drive/MyDrive/Tp_Datos_2023_2°/TP2/submissions/submission_red_neuronal_con_regularizadores.csv', index=False)"
      ],
      "metadata": {
        "id": "4sPaTaN3yMFM"
      },
      "execution_count": null,
      "outputs": []
    },
    {
      "cell_type": "markdown",
      "source": [
        "#### Armamos la matriz de confusión"
      ],
      "metadata": {
        "id": "asFAym-qrZhL"
      }
    },
    {
      "cell_type": "code",
      "source": [
        "y_pred"
      ],
      "metadata": {
        "colab": {
          "base_uri": "https://localhost:8080/"
        },
        "id": "R3uqFzgJuMr9",
        "outputId": "700c7660-8c87-4005-e1c5-079c2f3f13a1"
      },
      "execution_count": null,
      "outputs": [
        {
          "output_type": "execute_result",
          "data": {
            "text/plain": [
              "array([[0.7624933 ],\n",
              "       [0.388216  ],\n",
              "       [0.95279986],\n",
              "       ...,\n",
              "       [0.46422684],\n",
              "       [0.83188003],\n",
              "       [0.91002   ]], dtype=float32)"
            ]
          },
          "metadata": {},
          "execution_count": 27
        }
      ]
    },
    {
      "cell_type": "code",
      "source": [
        "y_test_bin"
      ],
      "metadata": {
        "colab": {
          "base_uri": "https://localhost:8080/"
        },
        "id": "hx4XlhQiuQn7",
        "outputId": "6a41cbd5-052a-4f3e-f5a7-0177af0755ca"
      },
      "execution_count": null,
      "outputs": [
        {
          "output_type": "execute_result",
          "data": {
            "text/plain": [
              "8800     1\n",
              "24061    0\n",
              "1144     1\n",
              "2703     0\n",
              "5542     0\n",
              "        ..\n",
              "29555    1\n",
              "44184    1\n",
              "47703    1\n",
              "42297    1\n",
              "48148    1\n",
              "Name: sentimiento, Length: 15000, dtype: int64"
            ]
          },
          "metadata": {},
          "execution_count": 28
        }
      ]
    },
    {
      "cell_type": "code",
      "source": [
        "# Aplicar un umbral (por ejemplo, 0.5) para convertir a etiquetas binarias (\"positivo\" ó \"negativo\")\n",
        "umbral = 0.5\n",
        "y_pred_final = list(map(lambda x: 1 if x > umbral else 0, y_pred))\n",
        "\n",
        "print(classification_report(y_test_bin,y_pred_final))\n",
        "#Creo la matriz de confusión\n",
        "tabla=confusion_matrix(y_test_bin, y_pred_final)\n",
        "\n",
        "#Grafico la matriz de confusión\n",
        "sns.heatmap(tabla,cmap='GnBu',annot=True,fmt='g')\n",
        "plt.xlabel('Valores predichos')\n",
        "plt.ylabel('Valores reales')"
      ],
      "metadata": {
        "colab": {
          "base_uri": "https://localhost:8080/",
          "height": 623
        },
        "id": "amlGvIqWuUed",
        "outputId": "bf0d5f7e-7fa8-4c55-b701-c1f9ab310c9c"
      },
      "execution_count": null,
      "outputs": [
        {
          "output_type": "stream",
          "name": "stdout",
          "text": [
            "              precision    recall  f1-score   support\n",
            "\n",
            "           0       0.87      0.87      0.87      7489\n",
            "           1       0.87      0.87      0.87      7511\n",
            "\n",
            "    accuracy                           0.87     15000\n",
            "   macro avg       0.87      0.87      0.87     15000\n",
            "weighted avg       0.87      0.87      0.87     15000\n",
            "\n"
          ]
        },
        {
          "output_type": "execute_result",
          "data": {
            "text/plain": [
              "Text(50.722222222222214, 0.5, 'Valores reales')"
            ]
          },
          "metadata": {},
          "execution_count": 33
        },
        {
          "output_type": "display_data",
          "data": {
            "text/plain": [
              "<Figure size 640x480 with 2 Axes>"
            ],
            "image/png": "[encoded data removed]"
          },
          "metadata": {}
        }
      ]
    },
    {
      "cell_type": "markdown",
      "source": [
        "## Ensamble\n",
        "\n",
        "Vamos a crear un ensamble híbrido de tipo Voting, cuyos modelos a utilizar serán los mejores modelos de RandomForest, XGBoost y Naive Bayes.\n",
        "\n"
      ],
      "metadata": {
        "id": "k3zPdRtPblwO"
      }
    },
    {
      "cell_type": "code",
      "source": [
        "best_xgb_model = load('/content/drive/MyDrive/Tp_Datos_2023_2°/TP2/modelos/modelo_optimizado_xgbboost.joblib').best_estimator_\n",
        "\n",
        "spanish_stopwords = stopwords.words('spanish')\n",
        "best_random_forest_model = make_pipeline(\n",
        "    TfidfVectorizer(stop_words=spanish_stopwords,use_idf=True, sublinear_tf = False, strip_accents='unicode', ngram_range=(2,2), min_df=2, max_features=5000, max_df=0.9, lowercase=False),\n",
        "    RandomForestClassifier(random_state=99, n_estimators=180, min_samples_split=5, min_samples_leaf=4, max_features='log2', max_depth=70, criterion='entropy')\n",
        ")\n",
        "\n",
        "dump(best_random_forest_model, '/content/drive/MyDrive/Tp_Datos_2023_2°/TP2/modelos/modelo_optimizado_rf.joblib')\n",
        "\n",
        "best_bayes_model = load('/content/drive/MyDrive/Tp_Datos_2023_2°/TP2/modelos/modelo_optimizado_hashvectorizer.joblib').best_estimator_"
      ],
      "metadata": {
        "id": "kh7ISxrqcfUV"
      },
      "execution_count": null,
      "outputs": []
    },
    {
      "cell_type": "code",
      "source": [
        "#Creo ensamble de Votación\n",
        "vot_clf = VotingClassifier(estimators = [('rnd', best_random_forest_model), ('bayes',best_bayes_model),('xgb',best_xgb_model)], voting = 'hard')"
      ],
      "metadata": {
        "id": "6fsBcrJ1br0U"
      },
      "execution_count": null,
      "outputs": []
    },
    {
      "cell_type": "code",
      "source": [
        "#Entreno el ensamble con los datasets enteros\n",
        "vot_clf.fit(ds_train_copy['review_es'], ds_train_copy['sentimiento'])\n",
        "\n",
        "#Evaluo en conjunto de test con x_test, para poder armar la matriz de correlación.\n",
        "y_pred = vot_clf.predict(x_test)\n",
        "print(classification_report(y_test, y_pred))\n",
        "cm = confusion_matrix(y_test,y_pred)\n",
        "sns.heatmap(cm, cmap='Blues',annot=True,fmt='g')\n",
        "plt.xlabel('Predicted')\n",
        "plt.ylabel('True')"
      ],
      "metadata": {
        "colab": {
          "base_uri": "https://localhost:8080/",
          "height": 623
        },
        "id": "G-F5UajIcnx5",
        "outputId": "46abbc0e-312a-4bfd-ebaf-0887347f72fd"
      },
      "execution_count": null,
      "outputs": [
        {
          "output_type": "stream",
          "name": "stdout",
          "text": [
            "              precision    recall  f1-score   support\n",
            "\n",
            "    negativo       0.88      0.85      0.87      7489\n",
            "    positivo       0.86      0.89      0.87      7511\n",
            "\n",
            "    accuracy                           0.87     15000\n",
            "   macro avg       0.87      0.87      0.87     15000\n",
            "weighted avg       0.87      0.87      0.87     15000\n",
            "\n"
          ]
        },
        {
          "output_type": "execute_result",
          "data": {
            "text/plain": [
              "Text(50.722222222222214, 0.5, 'True')"
            ]
          },
          "metadata": {},
          "execution_count": 59
        },
        {
          "output_type": "display_data",
          "data": {
            "text/plain": [
              "<Figure size 640x480 with 2 Axes>"
            ],
            "image/png": "[encoded data removed]"
          },
          "metadata": {}
        }
      ]
    },
    {
      "cell_type": "markdown",
      "source": [
        "Genero predicción del dataset test con fit completo de train para Kaggle:"
      ],
      "metadata": {
        "id": "KV6cSIcYgv-a"
      }
    },
    {
      "cell_type": "code",
      "source": [
        "vot_clf.fit(ds_train_copy['review_es'], ds_train_copy['sentimiento'])\n",
        "y_pred_kaggle_submission = vot_clf.predict(ds_test['review_es'])\n",
        "\n",
        "df_submission_voting = pd.DataFrame({'id': ds_test['ID'], 'sentimiento': y_pred_kaggle_submission})\n",
        "df_submission_voting.to_csv('/content/drive/MyDrive/Tp_Datos_2023_2°/TP2/submissions/submission_ensamble_voting_con_stemming.csv', index=False)\n",
        "# Verificar la información del DataFrame\n",
        "df_submission_voting.info()\n",
        "\n"
      ],
      "metadata": {
        "colab": {
          "base_uri": "https://localhost:8080/"
        },
        "id": "3FOx8DhPgvPe",
        "outputId": "724699db-ebc3-4a9f-d84e-c47cbf462ab7"
      },
      "execution_count": null,
      "outputs": [
        {
          "output_type": "stream",
          "name": "stdout",
          "text": [
            "<class 'pandas.core.frame.DataFrame'>\n",
            "RangeIndex: 8599 entries, 0 to 8598\n",
            "Data columns (total 2 columns):\n",
            " #   Column       Non-Null Count  Dtype \n",
            "---  ------       --------------  ----- \n",
            " 0   id           8599 non-null   int64 \n",
            " 1   sentimiento  8599 non-null   object\n",
            "dtypes: int64(1), object(1)\n",
            "memory usage: 134.5+ KB\n"
          ]
        }
      ]
    },
    {
      "cell_type": "markdown",
      "source": [
        "Guardo el ensamble"
      ],
      "metadata": {
        "id": "QGSxhpz7jjyr"
      }
    },
    {
      "cell_type": "code",
      "source": [
        "dump(vot_clf,'/content/drive/MyDrive/Tp_Datos_2023_2°/TP2/modelos/ensamble_voting_con_Stemming.joblib')"
      ],
      "metadata": {
        "colab": {
          "base_uri": "https://localhost:8080/"
        },
        "id": "3647RkLmjY6p",
        "outputId": "99a8448b-0c37-4058-de72-f887dd35ea0f"
      },
      "execution_count": null,
      "outputs": [
        {
          "output_type": "execute_result",
          "data": {
            "text/plain": [
              "['/content/drive/MyDrive/Tp_Datos_2023_2°/TP2/modelos/ensamble_voting_con_Stemming.joblib']"
            ]
          },
          "metadata": {},
          "execution_count": 29
        }
      ]
    }
  ],
  "metadata": {
    "colab": {
      "provenance": [],
      "collapsed_sections": [
        "KBeaAZyWcghP",
        "oPsYGwP0grnd",
        "Hs3oxwgqmCzw",
        "lJ7dAC8bmAh4",
        "I35TIgpHtcgS",
        "za4_c7V8HP7S",
        "xixX0mVw5MCo"
      ],
      "toc_visible": true
    },
    "kernelspec": {
      "display_name": "Python 3",
      "name": "python3"
    },
    "language_info": {
      "name": "python"
    }
  },
  "nbformat": 4,
  "nbformat_minor": 0
}