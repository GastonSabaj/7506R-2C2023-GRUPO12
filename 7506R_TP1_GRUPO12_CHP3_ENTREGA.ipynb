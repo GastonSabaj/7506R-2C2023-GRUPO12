{
  "cells": [
    {
      "cell_type": "markdown",
      "metadata": {
        "id": "iodHrXdgUKTi"
      },
      "source": [
        "#Checkpoint 3: Ensambles\n",
        "\n"
      ]
    },
    {
      "cell_type": "markdown",
      "metadata": {
        "id": "Fd_9WAQtVDCw"
      },
      "source": [
        "Enunciado:\n",
        "\n",
        "* Construir un clasificador KNN optimizar sus hiperparámetros mediante k-fold\n",
        "Cross Validation\n",
        "* Construir un clasificador SVM variando el kernel y los parámetros.\n",
        "* Construir un clasificador RF y optimizar sus hiperparámetros mediante k-fold\n",
        "Cross Validation\n",
        "* Construir un clasificador XGBoost y optimizar sus hiperparámetros.\n",
        "* Construir un ensamble híbrido tipo Voting y otro tipo Stacking.\n",
        "* Evaluar la performance de todos los modelos en entrenamiento y validación,\n",
        "explicar todas las métricas y mostrar la matriz de confusión.\n",
        "* Generar predicciones con el set de test y realizar los submits correspondientes en\n",
        "la competencia de Kaggle."
      ]
    },
    {
      "cell_type": "markdown",
      "metadata": {
        "id": "QKuIKN_SUfcR"
      },
      "source": [
        "## Importamos librerías y datasets"
      ]
    },
    {
      "cell_type": "markdown",
      "metadata": {
        "id": "NFMh-2sCSbjM"
      },
      "source": [
        "Importamos librerías:"
      ]
    },
    {
      "cell_type": "code",
      "execution_count": null,
      "metadata": {
        "colab": {
          "base_uri": "https://localhost:8080/"
        },
        "id": "jbCC9MfvRxV0",
        "outputId": "99a0928f-a31b-4907-9d6b-2ccf5b45394b"
      },
      "outputs": [
        {
          "output_type": "stream",
          "name": "stdout",
          "text": [
            "Collecting dtreeviz\n",
            "  Downloading dtreeviz-2.2.2-py3-none-any.whl (91 kB)\n",
            "\u001b[?25l     \u001b[90m━━━━━━━━━━━━━━━━━━━━━━━━━━━━━━━━━━━━━━━━\u001b[0m \u001b[32m0.0/91.8 kB\u001b[0m \u001b[31m?\u001b[0m eta \u001b[36m-:--:--\u001b[0m\r\u001b[2K     \u001b[91m━━━━━━━━━━━━━━━━━━━━━━━━━━━━━━━━━━━\u001b[0m\u001b[91m╸\u001b[0m\u001b[90m━━━━\u001b[0m \u001b[32m81.9/91.8 kB\u001b[0m \u001b[31m3.4 MB/s\u001b[0m eta \u001b[36m0:00:01\u001b[0m\r\u001b[2K     \u001b[90m━━━━━━━━━━━━━━━━━━━━━━━━━━━━━━━━━━━━━━━━\u001b[0m \u001b[32m91.8/91.8 kB\u001b[0m \u001b[31m2.5 MB/s\u001b[0m eta \u001b[36m0:00:00\u001b[0m\n",
            "\u001b[?25hRequirement already satisfied: graphviz>=0.9 in /usr/local/lib/python3.10/dist-packages (from dtreeviz) (0.20.1)\n",
            "Requirement already satisfied: pandas in /usr/local/lib/python3.10/dist-packages (from dtreeviz) (1.5.3)\n",
            "Requirement already satisfied: numpy in /usr/local/lib/python3.10/dist-packages (from dtreeviz) (1.23.5)\n",
            "Requirement already satisfied: scikit-learn in /usr/local/lib/python3.10/dist-packages (from dtreeviz) (1.2.2)\n",
            "Requirement already satisfied: matplotlib in /usr/local/lib/python3.10/dist-packages (from dtreeviz) (3.7.1)\n",
            "Requirement already satisfied: colour in /usr/local/lib/python3.10/dist-packages (from dtreeviz) (0.1.5)\n",
            "Requirement already satisfied: pytest in /usr/local/lib/python3.10/dist-packages (from dtreeviz) (7.4.2)\n",
            "Requirement already satisfied: contourpy>=1.0.1 in /usr/local/lib/python3.10/dist-packages (from matplotlib->dtreeviz) (1.1.1)\n",
            "Requirement already satisfied: cycler>=0.10 in /usr/local/lib/python3.10/dist-packages (from matplotlib->dtreeviz) (0.12.1)\n",
            "Requirement already satisfied: fonttools>=4.22.0 in /usr/local/lib/python3.10/dist-packages (from matplotlib->dtreeviz) (4.43.1)\n",
            "Requirement already satisfied: kiwisolver>=1.0.1 in /usr/local/lib/python3.10/dist-packages (from matplotlib->dtreeviz) (1.4.5)\n",
            "Requirement already satisfied: packaging>=20.0 in /usr/local/lib/python3.10/dist-packages (from matplotlib->dtreeviz) (23.2)\n",
            "Requirement already satisfied: pillow>=6.2.0 in /usr/local/lib/python3.10/dist-packages (from matplotlib->dtreeviz) (9.4.0)\n",
            "Requirement already satisfied: pyparsing>=2.3.1 in /usr/local/lib/python3.10/dist-packages (from matplotlib->dtreeviz) (3.1.1)\n",
            "Requirement already satisfied: python-dateutil>=2.7 in /usr/local/lib/python3.10/dist-packages (from matplotlib->dtreeviz) (2.8.2)\n",
            "Requirement already satisfied: pytz>=2020.1 in /usr/local/lib/python3.10/dist-packages (from pandas->dtreeviz) (2023.3.post1)\n",
            "Requirement already satisfied: iniconfig in /usr/local/lib/python3.10/dist-packages (from pytest->dtreeviz) (2.0.0)\n",
            "Requirement already satisfied: pluggy<2.0,>=0.12 in /usr/local/lib/python3.10/dist-packages (from pytest->dtreeviz) (1.3.0)\n",
            "Requirement already satisfied: exceptiongroup>=1.0.0rc8 in /usr/local/lib/python3.10/dist-packages (from pytest->dtreeviz) (1.1.3)\n",
            "Requirement already satisfied: tomli>=1.0.0 in /usr/local/lib/python3.10/dist-packages (from pytest->dtreeviz) (2.0.1)\n",
            "Requirement already satisfied: scipy>=1.3.2 in /usr/local/lib/python3.10/dist-packages (from scikit-learn->dtreeviz) (1.11.3)\n",
            "Requirement already satisfied: joblib>=1.1.1 in /usr/local/lib/python3.10/dist-packages (from scikit-learn->dtreeviz) (1.3.2)\n",
            "Requirement already satisfied: threadpoolctl>=2.0.0 in /usr/local/lib/python3.10/dist-packages (from scikit-learn->dtreeviz) (3.2.0)\n",
            "Requirement already satisfied: six>=1.5 in /usr/local/lib/python3.10/dist-packages (from python-dateutil>=2.7->matplotlib->dtreeviz) (1.16.0)\n",
            "Installing collected packages: dtreeviz\n",
            "Successfully installed dtreeviz-2.2.2\n"
          ]
        }
      ],
      "source": [
        "import warnings\n",
        "warnings.filterwarnings('ignore')\n",
        "\n",
        "!pip install 'dtreeviz'\n",
        "import pandas as pd\n",
        "import numpy as np\n",
        "#librerias para visualizar los datos\n",
        "import matplotlib.pyplot as plt\n",
        "import seaborn as sns\n",
        "import dtreeviz.trees as dtreeviz\n",
        "#modelos\n",
        "from sklearn import tree\n",
        "from sklearn.model_selection import train_test_split\n",
        "from sklearn.metrics import precision_score, recall_score,accuracy_score,f1_score,precision_recall_curve,roc_curve\n",
        "from sklearn.metrics import confusion_matrix, classification_report\n",
        "from sklearn.svm import SVC\n",
        "from sklearn.preprocessing import MinMaxScaler\n",
        "from sklearn import preprocessing\n",
        "from sklearn.metrics import roc_auc_score\n",
        "\n",
        "import time\n",
        "import datetime"
      ]
    },
    {
      "cell_type": "markdown",
      "metadata": {
        "id": "lv2s9A86SqYz"
      },
      "source": [
        "Montamos Google Drive:"
      ]
    },
    {
      "cell_type": "code",
      "execution_count": null,
      "metadata": {
        "colab": {
          "base_uri": "https://localhost:8080/"
        },
        "id": "_fRbaKrsSot7",
        "outputId": "c50b14a5-723b-4ce0-ae15-35c243f32605"
      },
      "outputs": [
        {
          "output_type": "stream",
          "name": "stdout",
          "text": [
            "Mounted at /content/drive\n"
          ]
        }
      ],
      "source": [
        "from google.colab import drive\n",
        "drive.mount('/content/drive')"
      ]
    },
    {
      "cell_type": "markdown",
      "metadata": {
        "id": "_0NwMJlhSdm8"
      },
      "source": [
        "Importamos datasets:"
      ]
    },
    {
      "cell_type": "code",
      "execution_count": null,
      "metadata": {
        "id": "RrGrLSxwSgWz"
      },
      "outputs": [],
      "source": [
        "ds_hoteles_train = pd.read_csv('/content/drive/MyDrive/Tp_Datos_2023_2°/hoteles_train_exportado.csv')\n",
        "ds_hoteles_test = pd.read_csv('/content/drive/MyDrive/Tp_Datos_2023_2°/hotels_test.csv')\n",
        "ds_paises_continentes = pd.read_csv('/content/drive/MyDrive/Tp_Datos_2023_2°/tabla_pais_continente.csv')"
      ]
    },
    {
      "cell_type": "markdown",
      "metadata": {
        "id": "iFsey0zzdE9L"
      },
      "source": [
        "### Hacemos la copia de los datasets"
      ]
    },
    {
      "cell_type": "code",
      "execution_count": null,
      "metadata": {
        "id": "GJxKyPL5dEpz"
      },
      "outputs": [],
      "source": [
        "ds_hoteles_train_copy = ds_hoteles_train.copy()\n",
        "ds_hoteles_test_copy = ds_hoteles_test.copy()\n",
        "ds_paises_continentes_copy = ds_paises_continentes.copy()"
      ]
    },
    {
      "cell_type": "markdown",
      "metadata": {
        "id": "1iQNUHqxUjA6"
      },
      "source": [
        "## Realizamos transformaciones"
      ]
    },
    {
      "cell_type": "markdown",
      "metadata": {
        "id": "LwOcUbpZTBkb"
      },
      "source": [
        "Realizamos las mismas transformaciones que en el checkpoint anterior:"
      ]
    },
    {
      "cell_type": "markdown",
      "metadata": {
        "id": "VfbYNPCCTKOa"
      },
      "source": [
        "### En train"
      ]
    },
    {
      "cell_type": "code",
      "execution_count": null,
      "metadata": {
        "id": "4U0kG-0OTOuQ"
      },
      "outputs": [],
      "source": [
        "#country / nombre_continente\n",
        "moda_country = ds_hoteles_train_copy['country'].mode().iloc[0]\n",
        "ds_hoteles_train_copy['country'].fillna(moda_country, inplace=True)\n",
        "ds_hoteles_train_copy['country'].unique()\n",
        "\n",
        "ds_paises_continentes_copy.rename(columns={'alpha-3': 'country', 'region': 'nombre_continente'}, inplace=True)\n",
        "ds_hoteles_train_copy = pd.merge(ds_hoteles_train_copy, ds_paises_continentes_copy[['country','nombre_continente']],on='country', how='left')\n",
        "\n",
        "ds_hoteles_train_copy.loc[ds_hoteles_train_copy['country'] == 'CN', 'nombre_continente'] = \"Asia\"\n",
        "ds_hoteles_train_copy.loc[ds_hoteles_train_copy['country'] == 'ATA', 'nombre_continente'] = \"Antartica\"\n",
        "\n",
        "ds_hoteles_train_copy.drop(['country'], axis=1, inplace=True)\n",
        "\n",
        "#arrival_time\n",
        "ds_hoteles_train_copy['arrival_date'] = pd.to_datetime(ds_hoteles_train_copy['arrival_date'])\n",
        "ds_hoteles_train_copy['arrival_date'] = ds_hoteles_train_copy['arrival_date'].astype(int)\n",
        "\n",
        "#One-hot encoding\n",
        "vars_a_onehot = ['hotel','market_segment','distribution_channel','reserved_room_type','assigned_room_type','deposit_type','customer_type','meal','nombre_continente']\n",
        "\n",
        "#Les aplicamos One Hot Encoding\n",
        "ds_hoteles_train_copy = pd.get_dummies(ds_hoteles_train_copy, columns=vars_a_onehot, drop_first=True)"
      ]
    },
    {
      "cell_type": "markdown",
      "metadata": {
        "id": "092w_6ZETL7J"
      },
      "source": [
        "### En test"
      ]
    },
    {
      "cell_type": "code",
      "execution_count": null,
      "metadata": {
        "id": "tB3WtIAKUaXa"
      },
      "outputs": [],
      "source": [
        "#Obtengo la moda\n",
        "moda_country = ds_hoteles_test_copy['country'].mode().iloc[0]\n",
        "\n",
        "#Reemplazar los NaN por la moda de 'country'\n",
        "ds_hoteles_test_copy['country'].fillna(moda_country, inplace=True)\n",
        "\n",
        "#Obtenemos un nuevo dataframe, donde unimos las columnas de hoteles_test_copy y df_Tabla_Pais_Continente_copy\n",
        "ds_hoteles_test_copy = pd.merge(ds_hoteles_test_copy,ds_paises_continentes_copy[['country','nombre_continente']],on='country', how='left')\n",
        "\n",
        "#Reemplazamos los valores de continente donde eran NaN (o NULL)\n",
        "ds_hoteles_test_copy.loc[ds_hoteles_test_copy['country'] == 'CN', 'nombre_continente'] = \"Asia\"\n",
        "ds_hoteles_test_copy.loc[ds_hoteles_test_copy['country'] == 'ATA', 'nombre_continente'] = \"Antartica\"\n",
        "\n",
        "#Eliminamos la variable country\n",
        "ds_hoteles_test_copy.drop(['country'], axis=1, inplace=True)"
      ]
    },
    {
      "cell_type": "code",
      "execution_count": null,
      "metadata": {
        "id": "o3Rf1g0xswRK"
      },
      "outputs": [],
      "source": [
        "#Me guardo la columna id antes de borrarla\n",
        "ds_hoteles_test_id = ds_hoteles_test_copy['id']"
      ]
    },
    {
      "cell_type": "code",
      "execution_count": null,
      "metadata": {
        "id": "jTB68j-MVAqR"
      },
      "outputs": [],
      "source": [
        "#Eliminamos la columna 'company' e 'id'\n",
        "ds_hoteles_test_copy.drop([\"company\", \"id\"], axis=1, inplace=True)\n",
        "\n",
        "#Obtenemos la moda de children y agent\n",
        "moda_children = pd.Series(ds_hoteles_test_copy['children'].values.flatten()).mode()[0]\n",
        "moda_agent = pd.Series(ds_hoteles_test_copy['agent'].values.flatten()).mode()[0]\n",
        "\n",
        "#Reemplazamos los NaN de ambas columnas por la moda\n",
        "ds_hoteles_test_copy[\"children\"] = ds_hoteles_test_copy[\"children\"].fillna(moda_children)\n",
        "ds_hoteles_test_copy[\"agent\"] = ds_hoteles_test_copy[\"agent\"].fillna(moda_agent)\n",
        "\n",
        "#Reemplazamos 'Undefined' por 'SC' en la columna meal\n",
        "ds_hoteles_test_copy['meal'].replace('Undefined', 'SC', inplace = True)\n",
        "\n",
        "#Además vamos a eliminar la columna de reservation_status_date:\n",
        "ds_hoteles_test_copy.drop([\"reservation_status_date\"], axis=1,inplace=True)\n",
        "\n",
        "# Crear una nueva columna 'arrival_date' combinando las variables con el número de semana\n",
        "ds_hoteles_test_copy['arrival_date'] = pd.to_datetime(ds_hoteles_test_copy['arrival_date_year'].astype(str) + '-' + ds_hoteles_test_copy['arrival_date_month'] + '-' + ds_hoteles_test['arrival_date_day_of_month'].astype(str), format='%Y-%B-%d')\n",
        "ds_hoteles_test_copy['arrival_date'] = ds_hoteles_test_copy['arrival_date'].astype(int)\n",
        "\n",
        "#Borramos las columnas arrival_date_year; arrival_date_month; arrival_date_day_of_month\n",
        "ds_hoteles_test_copy.drop(['arrival_date_year', 'arrival_date_month', 'arrival_date_day_of_month'], axis=1,inplace=True)\n",
        "\n"
      ]
    },
    {
      "cell_type": "code",
      "execution_count": null,
      "metadata": {
        "id": "Flbt6VJmVTAg"
      },
      "outputs": [],
      "source": [
        "#Les aplicamos One Hot Encoding a las misma variables que en train\n",
        "ds_hoteles_test_copy = pd.get_dummies(ds_hoteles_test_copy, columns=vars_a_onehot, drop_first=True)\n",
        "\n",
        "#Creamos la variable 'assigned_room_type_L' en el dataset de test y la llenamos de ceros\n",
        "ds_hoteles_test_copy['assigned_room_type_L'] = 0"
      ]
    },
    {
      "cell_type": "markdown",
      "metadata": {
        "id": "U-wIPnNLVmnQ"
      },
      "source": [
        "Ordenamos las columnas de ambos datasets alfabeticamente:"
      ]
    },
    {
      "cell_type": "code",
      "execution_count": null,
      "metadata": {
        "id": "ZaZsJpd6VltQ"
      },
      "outputs": [],
      "source": [
        "ds_hoteles_train_copy = ds_hoteles_train_copy.reindex(sorted(ds_hoteles_train_copy.columns), axis=1)\n",
        "ds_hoteles_test_copy = ds_hoteles_test_copy.reindex(sorted(ds_hoteles_test_copy.columns), axis=1)"
      ]
    },
    {
      "cell_type": "markdown",
      "metadata": {
        "id": "HVhU4MQsV5on"
      },
      "source": [
        "Comprobamos que la limpieza esté correcta:"
      ]
    },
    {
      "cell_type": "code",
      "execution_count": null,
      "metadata": {
        "colab": {
          "base_uri": "https://localhost:8080/"
        },
        "id": "5NiuPNu3WMDX",
        "outputId": "2e000043-c545-4ef1-cea1-55bdf3a7b347"
      },
      "outputs": [
        {
          "output_type": "stream",
          "name": "stdout",
          "text": [
            "<class 'pandas.core.frame.DataFrame'>\n",
            "RangeIndex: 61909 entries, 0 to 61908\n",
            "Data columns (total 27 columns):\n",
            " #   Column                          Non-Null Count  Dtype  \n",
            "---  ------                          --------------  -----  \n",
            " 0   hotel                           61909 non-null  object \n",
            " 1   lead_time                       61909 non-null  int64  \n",
            " 2   arrival_date_week_number        61909 non-null  int64  \n",
            " 3   stays_in_weekend_nights         61909 non-null  int64  \n",
            " 4   stays_in_week_nights            61909 non-null  int64  \n",
            " 5   adults                          61909 non-null  int64  \n",
            " 6   children                        61909 non-null  float64\n",
            " 7   babies                          61909 non-null  int64  \n",
            " 8   meal                            61909 non-null  object \n",
            " 9   country                         61688 non-null  object \n",
            " 10  market_segment                  61909 non-null  object \n",
            " 11  distribution_channel            61909 non-null  object \n",
            " 12  is_repeated_guest               61909 non-null  int64  \n",
            " 13  previous_cancellations          61909 non-null  int64  \n",
            " 14  previous_bookings_not_canceled  61909 non-null  int64  \n",
            " 15  reserved_room_type              61909 non-null  object \n",
            " 16  assigned_room_type              61909 non-null  object \n",
            " 17  booking_changes                 61909 non-null  int64  \n",
            " 18  deposit_type                    61909 non-null  object \n",
            " 19  agent                           61909 non-null  float64\n",
            " 20  days_in_waiting_list            61909 non-null  int64  \n",
            " 21  customer_type                   61909 non-null  object \n",
            " 22  adr                             61909 non-null  float64\n",
            " 23  required_car_parking_spaces     61909 non-null  int64  \n",
            " 24  total_of_special_requests       61909 non-null  int64  \n",
            " 25  is_canceled                     61909 non-null  int64  \n",
            " 26  arrival_date                    61909 non-null  object \n",
            "dtypes: float64(3), int64(14), object(10)\n",
            "memory usage: 12.8+ MB\n"
          ]
        }
      ],
      "source": [
        "ds_hoteles_train.info()"
      ]
    },
    {
      "cell_type": "code",
      "execution_count": null,
      "metadata": {
        "colab": {
          "base_uri": "https://localhost:8080/"
        },
        "id": "nD7RipAHV5on",
        "outputId": "e6b397d7-ffa0-4d41-8f52-9019852a7fc9"
      },
      "outputs": [
        {
          "output_type": "stream",
          "name": "stdout",
          "text": [
            "<class 'pandas.core.frame.DataFrame'>\n",
            "RangeIndex: 26535 entries, 0 to 26534\n",
            "Data columns (total 31 columns):\n",
            " #   Column                          Non-Null Count  Dtype  \n",
            "---  ------                          --------------  -----  \n",
            " 0   hotel                           26535 non-null  object \n",
            " 1   lead_time                       26535 non-null  int64  \n",
            " 2   arrival_date_year               26535 non-null  int64  \n",
            " 3   arrival_date_month              26535 non-null  object \n",
            " 4   arrival_date_week_number        26535 non-null  int64  \n",
            " 5   arrival_date_day_of_month       26535 non-null  int64  \n",
            " 6   stays_in_weekend_nights         26535 non-null  int64  \n",
            " 7   stays_in_week_nights            26535 non-null  int64  \n",
            " 8   adults                          26535 non-null  int64  \n",
            " 9   children                        26535 non-null  float64\n",
            " 10  babies                          26535 non-null  int64  \n",
            " 11  meal                            26535 non-null  object \n",
            " 12  country                         26440 non-null  object \n",
            " 13  market_segment                  26535 non-null  object \n",
            " 14  distribution_channel            26535 non-null  object \n",
            " 15  is_repeated_guest               26535 non-null  int64  \n",
            " 16  previous_cancellations          26535 non-null  int64  \n",
            " 17  previous_bookings_not_canceled  26535 non-null  int64  \n",
            " 18  reserved_room_type              26535 non-null  object \n",
            " 19  assigned_room_type              26535 non-null  object \n",
            " 20  booking_changes                 26535 non-null  int64  \n",
            " 21  deposit_type                    26535 non-null  object \n",
            " 22  agent                           23172 non-null  float64\n",
            " 23  company                         1317 non-null   float64\n",
            " 24  days_in_waiting_list            26535 non-null  int64  \n",
            " 25  customer_type                   26535 non-null  object \n",
            " 26  adr                             26535 non-null  float64\n",
            " 27  required_car_parking_spaces     26535 non-null  int64  \n",
            " 28  total_of_special_requests       26535 non-null  int64  \n",
            " 29  reservation_status_date         26535 non-null  object \n",
            " 30  id                              26535 non-null  object \n",
            "dtypes: float64(4), int64(15), object(12)\n",
            "memory usage: 6.3+ MB\n"
          ]
        }
      ],
      "source": [
        "ds_hoteles_test.info()"
      ]
    },
    {
      "cell_type": "markdown",
      "metadata": {
        "id": "wio1rSiEZLjz"
      },
      "source": [
        "## Realizamos una division de train para pruebas"
      ]
    },
    {
      "cell_type": "markdown",
      "metadata": {
        "id": "Leqq7nQ6cQT8"
      },
      "source": [
        "### Aplicamos el train_test_split"
      ]
    },
    {
      "cell_type": "code",
      "execution_count": null,
      "metadata": {
        "id": "X4Wlem3_ZQX0"
      },
      "outputs": [],
      "source": [
        "ds_hoteles_train_x = ds_hoteles_train_copy.drop('is_canceled', axis = 1)\n",
        "ds_hoteles_train_y = ds_hoteles_train_copy['is_canceled']\n",
        "\n",
        "ds_test_x = ds_hoteles_test_copy\n",
        "\n",
        "x_train, x_test, y_train, y_test = train_test_split(ds_hoteles_train_x,\n",
        "                                                    ds_hoteles_train_y,\n",
        "                                                    test_size=0.30,\n",
        "                                                    random_state = 99,\n",
        "                                                    stratify= ds_hoteles_train['is_canceled'].values)"
      ]
    },
    {
      "cell_type": "markdown",
      "source": [
        "Como resultado, x_train contendrá el 70% de los datos originales en ds_hoteles_train_x"
      ],
      "metadata": {
        "id": "byP7swOK21Kp"
      }
    },
    {
      "cell_type": "code",
      "source": [
        "are_equal_size = len(ds_hoteles_train_x) == len(x_train)\n",
        "are_equal_size\n",
        "print(len(ds_hoteles_train_x))\n",
        "print(len(x_train))"
      ],
      "metadata": {
        "colab": {
          "base_uri": "https://localhost:8080/"
        },
        "id": "CkHOxuou2O1e",
        "outputId": "8b890cc0-a4ec-45fb-e9e1-11d71b3bca38"
      },
      "execution_count": null,
      "outputs": [
        {
          "output_type": "stream",
          "name": "stdout",
          "text": [
            "61909\n",
            "43336\n"
          ]
        }
      ]
    },
    {
      "cell_type": "markdown",
      "metadata": {
        "id": "L1aik0sjUOuy"
      },
      "source": [
        "## Construimos un clasificador KNN y optimizamos sus hiperparámetros mediante k-fold Cross Validation"
      ]
    },
    {
      "cell_type": "code",
      "execution_count": null,
      "metadata": {
        "id": "I4o8VjgoYLhl"
      },
      "outputs": [],
      "source": [
        "from sklearn.model_selection import train_test_split\n",
        "from sklearn.neighbors import KNeighborsClassifier\n",
        "from sklearn.metrics import accuracy_score"
      ]
    },
    {
      "cell_type": "markdown",
      "metadata": {
        "id": "rL3jy_ezYZKV"
      },
      "source": [
        "### Construimos un modelo con parámetros por defecto"
      ]
    },
    {
      "cell_type": "markdown",
      "metadata": {
        "id": "odPlEnDSYw9b"
      },
      "source": [
        "Creamos el modelo y observamos los parámetros por defecto:"
      ]
    },
    {
      "cell_type": "code",
      "execution_count": null,
      "metadata": {
        "colab": {
          "base_uri": "https://localhost:8080/"
        },
        "id": "MYDzgFNCYnM6",
        "outputId": "d5014986-42a2-4935-cdd1-3f722750fad1"
      },
      "outputs": [
        {
          "data": {
            "text/plain": [
              "{'algorithm': 'auto',\n",
              " 'leaf_size': 30,\n",
              " 'metric': 'minkowski',\n",
              " 'metric_params': None,\n",
              " 'n_jobs': None,\n",
              " 'n_neighbors': 5,\n",
              " 'p': 2,\n",
              " 'weights': 'uniform'}"
            ]
          },
          "execution_count": 16,
          "metadata": {},
          "output_type": "execute_result"
        }
      ],
      "source": [
        "KNN_Classifier = KNeighborsClassifier()\n",
        "KNN_Classifier.get_params()"
      ]
    },
    {
      "cell_type": "markdown",
      "metadata": {
        "id": "e1hXHoaKY8D8"
      },
      "source": [
        "Entrenamos el modelo con nuestra división del dataset:"
      ]
    },
    {
      "cell_type": "code",
      "execution_count": null,
      "metadata": {
        "id": "yUqwiBJDZHDs"
      },
      "outputs": [],
      "source": [
        "KNN_Classifier.fit(x_train, y_train)\n",
        "y_pred = KNN_Classifier.predict(x_test)"
      ]
    },
    {
      "cell_type": "markdown",
      "metadata": {
        "id": "SOpwiFQMVfx5"
      },
      "source": [
        "#### Evaluamos sus métricas"
      ]
    },
    {
      "cell_type": "markdown",
      "metadata": {
        "id": "aFfaPvvpa3ai"
      },
      "source": [
        "Observamos sus metricas:"
      ]
    },
    {
      "cell_type": "code",
      "execution_count": null,
      "metadata": {
        "colab": {
          "base_uri": "https://localhost:8080/"
        },
        "id": "8Uau8YJGa5ZC",
        "outputId": "7f0f7396-6e14-49dd-ab5a-1b0558d54e7c"
      },
      "outputs": [
        {
          "name": "stdout",
          "output_type": "stream",
          "text": [
            "              precision    recall  f1-score   support\n",
            "\n",
            "           0       0.55      0.56      0.56      9292\n",
            "           1       0.55      0.54      0.55      9281\n",
            "\n",
            "    accuracy                           0.55     18573\n",
            "   macro avg       0.55      0.55      0.55     18573\n",
            "weighted avg       0.55      0.55      0.55     18573\n",
            "\n"
          ]
        }
      ],
      "source": [
        "print(classification_report(y_test,y_pred))"
      ]
    },
    {
      "cell_type": "markdown",
      "metadata": {
        "id": "ftod-R5cbepK"
      },
      "source": [
        "Obtenemos un 0.55 en f1-score que es bastante menor en comparación con los modelos de árboles donde obtuvimos entre 0.79-0.83."
      ]
    },
    {
      "cell_type": "markdown",
      "metadata": {
        "id": "mJOCF6iZVfx8"
      },
      "source": [
        "#### Matriz de confusión"
      ]
    },
    {
      "cell_type": "markdown",
      "metadata": {
        "id": "2J-254QAapjE"
      },
      "source": [
        "Imprimimos su matriz de confusión:"
      ]
    },
    {
      "cell_type": "code",
      "execution_count": null,
      "metadata": {
        "colab": {
          "base_uri": "https://localhost:8080/",
          "height": 466
        },
        "id": "PJwvAV0rar-7",
        "outputId": "b0cccd3a-60b8-4b02-a816-ae56c2380d36"
      },
      "outputs": [
        {
          "data": {
            "text/plain": [
              "Text(50.722222222222214, 0.5, 'Valores reales')"
            ]
          },
          "execution_count": 16,
          "metadata": {},
          "output_type": "execute_result"
        },
        {
          "data": {
            "image/png": "[encoded data removed]",
            "text/plain": [
              "<Figure size 640x480 with 2 Axes>"
            ]
          },
          "metadata": {},
          "output_type": "display_data"
        }
      ],
      "source": [
        "#Creo la matriz de confusión\n",
        "tabla=confusion_matrix(y_test, y_pred)\n",
        "\n",
        "#Grafico la matriz de confusión\n",
        "sns.heatmap(tabla,cmap='GnBu',annot=True,fmt='g')\n",
        "plt.xlabel('Valores predichos')\n",
        "plt.ylabel('Valores reales')"
      ]
    },
    {
      "cell_type": "markdown",
      "metadata": {
        "id": "yOf90c3Gh5ay"
      },
      "source": [
        "### Optimizamos hiperparámetros"
      ]
    },
    {
      "cell_type": "markdown",
      "metadata": {
        "id": "-9Nzuvm9h8LD"
      },
      "source": [
        "Probamos variaciones de cantidad de vecinos:"
      ]
    },
    {
      "cell_type": "code",
      "execution_count": null,
      "metadata": {
        "colab": {
          "base_uri": "https://localhost:8080/"
        },
        "id": "I86E6WvidiCH",
        "outputId": "afdf37e2-c1ec-4138-f398-3233ef89f043"
      },
      "outputs": [
        {
          "data": {
            "text/plain": [
              "18.573"
            ]
          },
          "execution_count": 17,
          "metadata": {},
          "output_type": "execute_result"
        }
      ],
      "source": [
        "len(x_test)/1000"
      ]
    },
    {
      "cell_type": "code",
      "execution_count": null,
      "metadata": {
        "id": "jacRKyJxcFlB"
      },
      "outputs": [],
      "source": [
        "# Variamos la cantidad de vecinos (K)\n",
        "\n",
        "reducir_pasos = 1000\n",
        "\n",
        "metrics = [] #cantidad de vecinos y cantidad de aciertos\n",
        "\n",
        "k_range=range(1, int(len(x_test)/reducir_pasos)) # vecinos desde 1 hasta cantidad total de puntos en test\n",
        "\n",
        "for n in k_range:\n",
        "\n",
        "    knn = KNeighborsClassifier(n_neighbors=n)\n",
        "    knn.fit(x_train, y_train)\n",
        "    y_pred = knn.predict(x_test)\n",
        "    metrics.append((n, (y_test == y_pred).sum()))\n",
        "    n = n + reducir_pasos"
      ]
    },
    {
      "cell_type": "code",
      "execution_count": null,
      "metadata": {
        "colab": {
          "base_uri": "https://localhost:8080/",
          "height": 472
        },
        "id": "GGAknHhodGeX",
        "outputId": "9fe49f8f-2ff0-416f-e47b-56f7193c8c23"
      },
      "outputs": [
        {
          "data": {
            "image/png": "[encoded data removed]",
            "text/plain": [
              "<Figure size 640x480 with 1 Axes>"
            ]
          },
          "metadata": {},
          "output_type": "display_data"
        }
      ],
      "source": [
        "# ploteamos\n",
        "\n",
        "df_metrics = pd.DataFrame(metrics, columns=['cant_vecinos', 'correctos'])\n",
        "\n",
        "ax = df_metrics.plot( x='cant_vecinos',\n",
        "                      y='correctos',\n",
        "                      title='Aciertos vs Cantidad de Vecinos'\n",
        "                     )\n",
        "\n",
        "ax.set_ylabel(\"Cantidad de aciertos\")\n",
        "ax.set_xlabel(\"Cantidad de Vecinos\")\n",
        "plt.show()"
      ]
    },
    {
      "cell_type": "code",
      "execution_count": null,
      "metadata": {
        "id": "q0Xvpdh6fuAD"
      },
      "outputs": [],
      "source": [
        "#Otra forma de hacer lo mismo pero mas espaciado\n",
        "max_cantidad_vecinos = 200\n",
        "cantidad_pasos = 10\n",
        "\n",
        "n = 1\n",
        "while n < max_cantidad_vecinos:\n",
        "  knn = KNeighborsClassifier(n_neighbors=n)\n",
        "  knn.fit(x_train, y_train)\n",
        "  y_pred = knn.predict(x_test)\n",
        "  metrics.append((n, (y_test == y_pred).sum()))\n",
        "  n = n + int(max_cantidad_vecinos / cantidad_pasos)"
      ]
    },
    {
      "cell_type": "code",
      "execution_count": null,
      "metadata": {
        "colab": {
          "base_uri": "https://localhost:8080/",
          "height": 472
        },
        "id": "55KnFWz0g4Wy",
        "outputId": "25431717-bf01-4206-9ec6-604c74bd9019"
      },
      "outputs": [
        {
          "data": {
            "image/png": "[encoded data removed]",
            "text/plain": [
              "<Figure size 640x480 with 1 Axes>"
            ]
          },
          "metadata": {},
          "output_type": "display_data"
        }
      ],
      "source": [
        "# ploteamos\n",
        "\n",
        "df_metrics = pd.DataFrame(metrics, columns=['cant_vecinos', 'correctos'])\n",
        "\n",
        "ax = df_metrics.plot( x='cant_vecinos',\n",
        "                      y='correctos',\n",
        "                      title='Aciertos vs Cantidad de Vecinos'\n",
        "                     )\n",
        "\n",
        "ax.set_ylabel(\"Cantidad de aciertos\")\n",
        "ax.set_xlabel(\"Cantidad de Vecinos\")\n",
        "plt.show()"
      ]
    },
    {
      "cell_type": "code",
      "execution_count": null,
      "metadata": {
        "colab": {
          "base_uri": "https://localhost:8080/"
        },
        "id": "_npV48kng_zb",
        "outputId": "0f4587cf-ff7d-4e89-de60-9c83e2f7b99f"
      },
      "outputs": [
        {
          "data": {
            "text/plain": [
              "(181, 10384)"
            ]
          },
          "execution_count": 22,
          "metadata": {},
          "output_type": "execute_result"
        }
      ],
      "source": [
        "max(metrics)"
      ]
    },
    {
      "cell_type": "code",
      "execution_count": null,
      "metadata": {
        "colab": {
          "base_uri": "https://localhost:8080/"
        },
        "id": "l-BwH3ZCjdv3",
        "outputId": "f0e603e6-abdc-449a-b6db-b6799483d95d"
      },
      "outputs": [
        {
          "data": {
            "text/plain": [
              "[(181, 10384),\n",
              " (161, 10443),\n",
              " (141, 10472),\n",
              " (121, 10487),\n",
              " (101, 10487),\n",
              " (81, 10626),\n",
              " (61, 10588),\n",
              " (41, 10635),\n",
              " (21, 10506),\n",
              " (17, 10476),\n",
              " (16, 10429),\n",
              " (15, 10441),\n",
              " (14, 10382),\n",
              " (13, 10454),\n",
              " (12, 10402),\n",
              " (11, 10446),\n",
              " (10, 10412),\n",
              " (9, 10346),\n",
              " (8, 10315),\n",
              " (7, 10258),\n",
              " (6, 10173),\n",
              " (5, 10242),\n",
              " (4, 10042),\n",
              " (3, 10076),\n",
              " (2, 9834),\n",
              " (1, 9771),\n",
              " (1, 9771)]"
            ]
          },
          "execution_count": 23,
          "metadata": {},
          "output_type": "execute_result"
        }
      ],
      "source": [
        "metrics.sort(reverse=True)\n",
        "metrics"
      ]
    },
    {
      "cell_type": "markdown",
      "metadata": {
        "id": "3jWoCWe6hQJ5"
      },
      "source": [
        "Podemos observar que 181 vecinos nos dio la mayor cantidad de aciertos"
      ]
    },
    {
      "cell_type": "markdown",
      "metadata": {
        "id": "QoaiatCSiyGv"
      },
      "source": [
        "Con Random Search CV buscamos los otros mejores parámetros"
      ]
    },
    {
      "cell_type": "code",
      "execution_count": null,
      "metadata": {
        "colab": {
          "base_uri": "https://localhost:8080/",
          "height": 118
        },
        "id": "vqYM6quZi5zh",
        "outputId": "7536fc0a-490b-40b8-e00a-220f2db93021"
      },
      "outputs": [
        {
          "data": {
            "text/html": [
              "<style>#sk-container-id-1 {color: black;background-color: white;}#sk-container-id-1 pre{padding: 0;}#sk-container-id-1 div.sk-toggleable {background-color: white;}#sk-container-id-1 label.sk-toggleable__label {cursor: pointer;display: block;width: 100%;margin-bottom: 0;padding: 0.3em;box-sizing: border-box;text-align: center;}#sk-container-id-1 label.sk-toggleable__label-arrow:before {content: \"▸\";float: left;margin-right: 0.25em;color: #696969;}#sk-container-id-1 label.sk-toggleable__label-arrow:hover:before {color: black;}#sk-container-id-1 div.sk-estimator:hover label.sk-toggleable__label-arrow:before {color: black;}#sk-container-id-1 div.sk-toggleable__content {max-height: 0;max-width: 0;overflow: hidden;text-align: left;background-color: #f0f8ff;}#sk-container-id-1 div.sk-toggleable__content pre {margin: 0.2em;color: black;border-radius: 0.25em;background-color: #f0f8ff;}#sk-container-id-1 input.sk-toggleable__control:checked~div.sk-toggleable__content {max-height: 200px;max-width: 100%;overflow: auto;}#sk-container-id-1 input.sk-toggleable__control:checked~label.sk-toggleable__label-arrow:before {content: \"▾\";}#sk-container-id-1 div.sk-estimator input.sk-toggleable__control:checked~label.sk-toggleable__label {background-color: #d4ebff;}#sk-container-id-1 div.sk-label input.sk-toggleable__control:checked~label.sk-toggleable__label {background-color: #d4ebff;}#sk-container-id-1 input.sk-hidden--visually {border: 0;clip: rect(1px 1px 1px 1px);clip: rect(1px, 1px, 1px, 1px);height: 1px;margin: -1px;overflow: hidden;padding: 0;position: absolute;width: 1px;}#sk-container-id-1 div.sk-estimator {font-family: monospace;background-color: #f0f8ff;border: 1px dotted black;border-radius: 0.25em;box-sizing: border-box;margin-bottom: 0.5em;}#sk-container-id-1 div.sk-estimator:hover {background-color: #d4ebff;}#sk-container-id-1 div.sk-parallel-item::after {content: \"\";width: 100%;border-bottom: 1px solid gray;flex-grow: 1;}#sk-container-id-1 div.sk-label:hover label.sk-toggleable__label {background-color: #d4ebff;}#sk-container-id-1 div.sk-serial::before {content: \"\";position: absolute;border-left: 1px solid gray;box-sizing: border-box;top: 0;bottom: 0;left: 50%;z-index: 0;}#sk-container-id-1 div.sk-serial {display: flex;flex-direction: column;align-items: center;background-color: white;padding-right: 0.2em;padding-left: 0.2em;position: relative;}#sk-container-id-1 div.sk-item {position: relative;z-index: 1;}#sk-container-id-1 div.sk-parallel {display: flex;align-items: stretch;justify-content: center;background-color: white;position: relative;}#sk-container-id-1 div.sk-item::before, #sk-container-id-1 div.sk-parallel-item::before {content: \"\";position: absolute;border-left: 1px solid gray;box-sizing: border-box;top: 0;bottom: 0;left: 50%;z-index: -1;}#sk-container-id-1 div.sk-parallel-item {display: flex;flex-direction: column;z-index: 1;position: relative;background-color: white;}#sk-container-id-1 div.sk-parallel-item:first-child::after {align-self: flex-end;width: 50%;}#sk-container-id-1 div.sk-parallel-item:last-child::after {align-self: flex-start;width: 50%;}#sk-container-id-1 div.sk-parallel-item:only-child::after {width: 0;}#sk-container-id-1 div.sk-dashed-wrapped {border: 1px dashed gray;margin: 0 0.4em 0.5em 0.4em;box-sizing: border-box;padding-bottom: 0.4em;background-color: white;}#sk-container-id-1 div.sk-label label {font-family: monospace;font-weight: bold;display: inline-block;line-height: 1.2em;}#sk-container-id-1 div.sk-label-container {text-align: center;}#sk-container-id-1 div.sk-container {/* jupyter's `normalize.less` sets `[hidden] { display: none; }` but bootstrap.min.css set `[hidden] { display: none !important; }` so we also need the `!important` here to be able to override the default hidden behavior on the sphinx rendered scikit-learn.org. See: https://github.com/scikit-learn/scikit-learn/issues/21755 */display: inline-block !important;position: relative;}#sk-container-id-1 div.sk-text-repr-fallback {display: none;}</style><div id=\"sk-container-id-1\" class=\"sk-top-container\"><div class=\"sk-text-repr-fallback\"><pre>RandomizedSearchCV(cv=20, estimator=KNeighborsClassifier(), n_iter=50,\n",
              "                   param_distributions={&#x27;algorithm&#x27;: [&#x27;ball_tree&#x27;, &#x27;kd_tree&#x27;,\n",
              "                                                      &#x27;brute&#x27;],\n",
              "                                        &#x27;metric&#x27;: [&#x27;euclidean&#x27;, &#x27;manhattan&#x27;,\n",
              "                                                   &#x27;chebyshev&#x27;],\n",
              "                                        &#x27;n_neighbors&#x27;: range(1, 200),\n",
              "                                        &#x27;weights&#x27;: [&#x27;distance&#x27;, &#x27;uniform&#x27;]},\n",
              "                   random_state=5, scoring=&#x27;f1&#x27;)</pre><b>In a Jupyter environment, please rerun this cell to show the HTML representation or trust the notebook. <br />On GitHub, the HTML representation is unable to render, please try loading this page with nbviewer.org.</b></div><div class=\"sk-container\" hidden><div class=\"sk-item sk-dashed-wrapped\"><div class=\"sk-label-container\"><div class=\"sk-label sk-toggleable\"><input class=\"sk-toggleable__control sk-hidden--visually\" id=\"sk-estimator-id-1\" type=\"checkbox\" ><label for=\"sk-estimator-id-1\" class=\"sk-toggleable__label sk-toggleable__label-arrow\">RandomizedSearchCV</label><div class=\"sk-toggleable__content\"><pre>RandomizedSearchCV(cv=20, estimator=KNeighborsClassifier(), n_iter=50,\n",
              "                   param_distributions={&#x27;algorithm&#x27;: [&#x27;ball_tree&#x27;, &#x27;kd_tree&#x27;,\n",
              "                                                      &#x27;brute&#x27;],\n",
              "                                        &#x27;metric&#x27;: [&#x27;euclidean&#x27;, &#x27;manhattan&#x27;,\n",
              "                                                   &#x27;chebyshev&#x27;],\n",
              "                                        &#x27;n_neighbors&#x27;: range(1, 200),\n",
              "                                        &#x27;weights&#x27;: [&#x27;distance&#x27;, &#x27;uniform&#x27;]},\n",
              "                   random_state=5, scoring=&#x27;f1&#x27;)</pre></div></div></div><div class=\"sk-parallel\"><div class=\"sk-parallel-item\"><div class=\"sk-item\"><div class=\"sk-label-container\"><div class=\"sk-label sk-toggleable\"><input class=\"sk-toggleable__control sk-hidden--visually\" id=\"sk-estimator-id-2\" type=\"checkbox\" ><label for=\"sk-estimator-id-2\" class=\"sk-toggleable__label sk-toggleable__label-arrow\">estimator: KNeighborsClassifier</label><div class=\"sk-toggleable__content\"><pre>KNeighborsClassifier()</pre></div></div></div><div class=\"sk-serial\"><div class=\"sk-item\"><div class=\"sk-estimator sk-toggleable\"><input class=\"sk-toggleable__control sk-hidden--visually\" id=\"sk-estimator-id-3\" type=\"checkbox\" ><label for=\"sk-estimator-id-3\" class=\"sk-toggleable__label sk-toggleable__label-arrow\">KNeighborsClassifier</label><div class=\"sk-toggleable__content\"><pre>KNeighborsClassifier()</pre></div></div></div></div></div></div></div></div></div></div>"
            ],
            "text/plain": [
              "RandomizedSearchCV(cv=20, estimator=KNeighborsClassifier(), n_iter=50,\n",
              "                   param_distributions={'algorithm': ['ball_tree', 'kd_tree',\n",
              "                                                      'brute'],\n",
              "                                        'metric': ['euclidean', 'manhattan',\n",
              "                                                   'chebyshev'],\n",
              "                                        'n_neighbors': range(1, 200),\n",
              "                                        'weights': ['distance', 'uniform']},\n",
              "                   random_state=5, scoring='f1')"
            ]
          },
          "execution_count": 35,
          "metadata": {},
          "output_type": "execute_result"
        }
      ],
      "source": [
        "from sklearn.model_selection import RandomizedSearchCV\n",
        "\n",
        "iteraciones = 50\n",
        "folds = 20\n",
        "#Grilla de Parámetros\n",
        "params_grid={ 'n_neighbors': range(1,200),\n",
        "              'weights':['distance','uniform'],\n",
        "              'algorithm':['ball_tree', 'kd_tree', 'brute'],\n",
        "              'metric':['euclidean','manhattan','chebyshev']\n",
        "             }\n",
        "\n",
        "#Clasificador KNN\n",
        "knn=KNeighborsClassifier()\n",
        "\n",
        "#Random Search\n",
        "rand = RandomizedSearchCV(knn, params_grid, cv=folds, scoring='f1', n_iter=iteraciones, random_state=5)\n",
        "\n",
        "#rand.fit(x_train, y_train)\n",
        "rand.fit(ds_hoteles_train_x, ds_hoteles_train_y)"
      ]
    },
    {
      "cell_type": "code",
      "execution_count": null,
      "metadata": {
        "colab": {
          "base_uri": "https://localhost:8080/"
        },
        "id": "PFwNo5MklRHF",
        "outputId": "39781451-bb12-4df8-d31a-36d2b23c8366"
      },
      "outputs": [
        {
          "name": "stdout",
          "output_type": "stream",
          "text": [
            "{'weights': 'distance', 'n_neighbors': 8, 'metric': 'manhattan', 'algorithm': 'brute'}\n",
            "0.7417862384408203\n"
          ]
        }
      ],
      "source": [
        "#Mejores hiperparametros del arbol\n",
        "print(rand.best_params_)\n",
        "#Mejor métrica\n",
        "print(rand.best_score_)"
      ]
    },
    {
      "cell_type": "code",
      "execution_count": null,
      "metadata": {
        "colab": {
          "base_uri": "https://localhost:8080/"
        },
        "id": "U9sAL7hll0qv",
        "outputId": "3be352f7-e61b-42eb-dcd3-8a0a944124aa"
      },
      "outputs": [
        {
          "data": {
            "text/plain": [
              "array([0.55967005, 0.7408259 , 0.57757695, 0.56096391, 0.57166352,\n",
              "       0.56339612, 0.72456959, 0.56108656, 0.5884317 , 0.72674172,\n",
              "       0.57858683, 0.57423514, 0.74178624, 0.72994177, 0.7311243 ,\n",
              "       0.56808969, 0.73960425, 0.63228344, 0.73096993, 0.56852075,\n",
              "       0.60586804, 0.72726859, 0.58449023, 0.70183216, 0.73086469,\n",
              "       0.58016812, 0.73353136, 0.72670172, 0.57361571, 0.72448722,\n",
              "       0.73447611, 0.72443726, 0.57499168, 0.73362393, 0.68607602,\n",
              "       0.56609487, 0.56712271, 0.58485296, 0.36631978, 0.73085825,\n",
              "       0.72448651, 0.57287757, 0.73448626, 0.73190127, 0.57249283,\n",
              "       0.73493896, 0.58493721, 0.55881521, 0.61134895, 0.56182172])"
            ]
          },
          "execution_count": 37,
          "metadata": {},
          "output_type": "execute_result"
        }
      ],
      "source": [
        "rand.cv_results_['mean_test_score']"
      ]
    },
    {
      "cell_type": "code",
      "execution_count": null,
      "metadata": {
        "id": "uXqq6IIolj6G"
      },
      "outputs": [],
      "source": [
        "#f-score = 0.71\n",
        "#knn_mejores_hiperparametros = {'weights': 'distance', 'n_neighbors': 101, 'metric': 'manhattan', 'algorithm': 'kd_tree'}\n",
        "#f-score = 0.73\n",
        "#knn_mejores_hiperparametros = {'weights': 'distance', 'n_neighbors': 4, 'metric': 'chebyshev', 'algorithm': 'brute'}\n",
        "#f-score = 0.74\n",
        "knn_mejores_hiperparametros = {'weights': 'distance', 'n_neighbors': 8, 'metric': 'manhattan', 'algorithm': 'brute'}"
      ]
    },
    {
      "cell_type": "code",
      "execution_count": null,
      "metadata": {
        "id": "ohzrkZGMmSuG"
      },
      "outputs": [],
      "source": [
        "mejor_knn = rand.best_estimator_\n",
        "mejor_knn.fit(x_train, y_train)\n",
        "y_pred = mejor_knn.predict(x_test)"
      ]
    },
    {
      "cell_type": "markdown",
      "source": [
        "Realizamos cross-validation:"
      ],
      "metadata": {
        "id": "IIgAhF7fMBL1"
      }
    },
    {
      "cell_type": "code",
      "execution_count": null,
      "metadata": {
        "colab": {
          "base_uri": "https://localhost:8080/"
        },
        "outputId": "efda5999-75bc-4191-8b40-8a5f8936cf00",
        "id": "SrUNH-jwMH1G"
      },
      "outputs": [
        {
          "output_type": "execute_result",
          "data": {
            "text/plain": [
              "array([0.74783167, 0.74926829, 0.75823293, 0.75649968, 0.75616438,\n",
              "       0.74838918, 0.75630789, 0.75282349, 0.74943639, 0.76078935])"
            ]
          },
          "metadata": {},
          "execution_count": 18
        }
      ],
      "source": [
        "from sklearn.model_selection import cross_val_score\n",
        "mejor_knn = KNeighborsClassifier(**knn_mejores_hiperparametros)\n",
        "scores = cross_val_score(mejor_knn, ds_hoteles_train_x, ds_hoteles_train_y, cv=10, scoring='f1')\n",
        "scores"
      ]
    },
    {
      "cell_type": "markdown",
      "metadata": {
        "id": "aHvFWDeRoZ7V"
      },
      "source": [
        "Imprimimos su matriz de confusión:"
      ]
    },
    {
      "cell_type": "code",
      "execution_count": null,
      "metadata": {
        "colab": {
          "base_uri": "https://localhost:8080/",
          "height": 466
        },
        "id": "EQ_5FiowoZ7V",
        "outputId": "7279881f-d7be-46d5-c216-6deb1624bfab"
      },
      "outputs": [
        {
          "data": {
            "text/plain": [
              "Text(50.722222222222214, 0.5, 'Valores reales')"
            ]
          },
          "execution_count": 40,
          "metadata": {},
          "output_type": "execute_result"
        },
        {
          "data": {
            "image/png": "[encoded data removed]",
            "text/plain": [
              "<Figure size 640x480 with 2 Axes>"
            ]
          },
          "metadata": {},
          "output_type": "display_data"
        }
      ],
      "source": [
        "#Creo la matriz de confusión\n",
        "tabla=confusion_matrix(y_test, y_pred)\n",
        "\n",
        "#Grafico la matriz de confusión\n",
        "sns.heatmap(tabla,cmap='GnBu',annot=True,fmt='g')\n",
        "plt.xlabel('Valores predichos')\n",
        "plt.ylabel('Valores reales')"
      ]
    },
    {
      "cell_type": "code",
      "execution_count": null,
      "metadata": {
        "colab": {
          "base_uri": "https://localhost:8080/"
        },
        "id": "MDhg8NafpAiz",
        "outputId": "a1e77abd-5409-4f70-bb9f-634291202fb2"
      },
      "outputs": [
        {
          "name": "stdout",
          "output_type": "stream",
          "text": [
            "              precision    recall  f1-score   support\n",
            "\n",
            "           0       0.75      0.74      0.74      9292\n",
            "           1       0.74      0.75      0.75      9281\n",
            "\n",
            "    accuracy                           0.75     18573\n",
            "   macro avg       0.75      0.75      0.75     18573\n",
            "weighted avg       0.75      0.75      0.75     18573\n",
            "\n"
          ]
        }
      ],
      "source": [
        "print(classification_report(y_test, y_pred))"
      ]
    },
    {
      "cell_type": "markdown",
      "metadata": {
        "id": "4zUi35PoVr39"
      },
      "source": [
        "### Generamos predicciones con el set de test"
      ]
    },
    {
      "cell_type": "markdown",
      "source": [
        "Entrenamos el modelo con el 100% de train:"
      ],
      "metadata": {
        "id": "W90ZmCji7_PC"
      }
    },
    {
      "cell_type": "code",
      "source": [
        "mejor_knn = KNeighborsClassifier(**knn_mejores_hiperparametros)\n",
        "mejor_knn.fit(ds_hoteles_train_x, ds_hoteles_train_y)\n",
        "y_pred_mejor_knn = mejor_knn.predict(ds_test_x)"
      ],
      "metadata": {
        "id": "sRH0ZA8MmApH"
      },
      "execution_count": null,
      "outputs": []
    },
    {
      "cell_type": "code",
      "source": [
        "df_submission = pd.DataFrame({'id': ds_hoteles_test_id,'is_canceled': y_pred_mejor_knn})\n",
        "df_submission.info()\n",
        "df_submission.to_csv('/content/drive/MyDrive/Tp_Datos_2023_2°/submission_kaggle_knn_mejor_v2.csv', index=False)"
      ],
      "metadata": {
        "colab": {
          "base_uri": "https://localhost:8080/"
        },
        "id": "ngIK7By8l2Q8",
        "outputId": "3472c0d0-3628-4f9e-8b79-c6da36c7c231"
      },
      "execution_count": null,
      "outputs": [
        {
          "output_type": "stream",
          "name": "stdout",
          "text": [
            "<class 'pandas.core.frame.DataFrame'>\n",
            "Int64Index: 26535 entries, 0 to 26534\n",
            "Data columns (total 2 columns):\n",
            " #   Column       Non-Null Count  Dtype \n",
            "---  ------       --------------  ----- \n",
            " 0   id           26535 non-null  object\n",
            " 1   is_canceled  26535 non-null  int64 \n",
            "dtypes: int64(1), object(1)\n",
            "memory usage: 621.9+ KB\n"
          ]
        }
      ]
    },
    {
      "cell_type": "markdown",
      "metadata": {
        "id": "dsEGVNXKUw6t"
      },
      "source": [
        "## Construimos un clasificador SVM variando el kernel y los parámetros."
      ]
    },
    {
      "cell_type": "markdown",
      "metadata": {
        "id": "YgRbqni4qsnw"
      },
      "source": [
        "### Creamos un modelo con parámetros por defecto\n",
        "\n"
      ]
    },
    {
      "cell_type": "code",
      "execution_count": null,
      "metadata": {
        "colab": {
          "base_uri": "https://localhost:8080/"
        },
        "id": "Mkoxxg2huA2I",
        "outputId": "6d0b4363-3559-4baa-afc7-4622f02320c8"
      },
      "outputs": [
        {
          "name": "stdout",
          "output_type": "stream",
          "text": [
            "              precision    recall  f1-score   support\n",
            "\n",
            "           0       0.51      0.52      0.51      9225\n",
            "           1       0.52      0.52      0.52      9348\n",
            "\n",
            "    accuracy                           0.52     18573\n",
            "   macro avg       0.52      0.52      0.52     18573\n",
            "weighted avg       0.52      0.52      0.52     18573\n",
            "\n"
          ]
        }
      ],
      "source": [
        "#Construyo un modelo SVM\n",
        "svm = SVC()\n",
        "\n",
        "#Lo entreno con los datos sin escalar\n",
        "svm.fit(x_train, y_train)\n",
        "\n",
        "#Hago la prediccion y calculo las métricas\n",
        "y_pred=svm.predict(x_test)\n",
        "print(classification_report(y_pred,y_test))"
      ]
    },
    {
      "cell_type": "markdown",
      "metadata": {
        "id": "NyJe1Ozs5UVc"
      },
      "source": [
        "Normalizamos los datos: (Tanto con min/max scaler como con standard scaler)"
      ]
    },
    {
      "cell_type": "code",
      "execution_count": null,
      "metadata": {
        "id": "i60dCM_YeAA9"
      },
      "outputs": [],
      "source": [
        "#Armo una version escalada con minmax (media=0 , var=1  )\n",
        "min_max_scaler = preprocessing.MinMaxScaler()\n",
        "x_train_minmax = min_max_scaler.fit_transform(x_train)\n",
        "x_test_minmax  = min_max_scaler.transform(x_test)\n",
        "\n",
        "ds_train_minmax = min_max_scaler.fit_transform(ds_hoteles_train_x)\n",
        "ds_test_minmax = min_max_scaler.fit_transform(ds_hoteles_test_copy)\n",
        "\n",
        "#Armo una version estandarizada\n",
        "stand_scaler = preprocessing.StandardScaler()\n",
        "x_train_norm = stand_scaler.fit_transform(x_train)\n",
        "x_test_norm=stand_scaler.transform(x_test)\n",
        "\n",
        "ds_train_norm = min_max_scaler.fit_transform(ds_hoteles_train_x)\n",
        "ds_test_norm = min_max_scaler.fit_transform(ds_hoteles_test_copy)"
      ]
    },
    {
      "cell_type": "markdown",
      "metadata": {
        "id": "BPcUMnWa5YTk"
      },
      "source": [
        "Probamos crear el modelo con los datos normalizados (standard scaler)"
      ]
    },
    {
      "cell_type": "code",
      "execution_count": null,
      "metadata": {
        "colab": {
          "base_uri": "https://localhost:8080/"
        },
        "id": "4fkDDX965YDK",
        "outputId": "2e380a6d-ca65-42a3-e95c-f2d61544062c"
      },
      "outputs": [
        {
          "name": "stdout",
          "output_type": "stream",
          "text": [
            "              precision    recall  f1-score   support\n",
            "\n",
            "           0       0.86      0.78      0.82     10230\n",
            "           1       0.76      0.84      0.80      8343\n",
            "\n",
            "    accuracy                           0.81     18573\n",
            "   macro avg       0.81      0.81      0.81     18573\n",
            "weighted avg       0.81      0.81      0.81     18573\n",
            "\n"
          ]
        }
      ],
      "source": [
        "#Construyo un modelo SVM\n",
        "svm_norm= SVC()\n",
        "\n",
        "#Lo entreno con los datos escalados con normalizacion\n",
        "svm_norm.fit(x_train_norm, y_train)\n",
        "\n",
        "#Hago la prediccion y calculo las métricas\n",
        "y_pred_norm=svm_norm.predict(x_test_norm)\n",
        "print(classification_report(y_pred_norm,y_test))"
      ]
    },
    {
      "cell_type": "markdown",
      "metadata": {
        "id": "AJeIZk6S-7wN"
      },
      "source": [
        "Imprimimos su matriz de confusión:"
      ]
    },
    {
      "cell_type": "code",
      "execution_count": null,
      "metadata": {
        "colab": {
          "base_uri": "https://localhost:8080/",
          "height": 466
        },
        "id": "Lip-vBPH-7wN",
        "outputId": "123220dd-f860-460d-9725-b79786e0d731"
      },
      "outputs": [
        {
          "data": {
            "text/plain": [
              "Text(50.722222222222214, 0.5, 'Valores reales')"
            ]
          },
          "execution_count": 47,
          "metadata": {},
          "output_type": "execute_result"
        },
        {
          "data": {
            "image/png": "[encoded data removed]",
            "text/plain": [
              "<Figure size 640x480 with 2 Axes>"
            ]
          },
          "metadata": {},
          "output_type": "display_data"
        }
      ],
      "source": [
        "#Creo la matriz de confusión\n",
        "tabla=confusion_matrix(y_test, y_pred_norm)\n",
        "\n",
        "#Grafico la matriz de confusión\n",
        "sns.heatmap(tabla,cmap='GnBu',annot=True,fmt='g')\n",
        "plt.xlabel('Valores predichos')\n",
        "plt.ylabel('Valores reales')"
      ]
    },
    {
      "cell_type": "markdown",
      "metadata": {
        "id": "Y8C2a7eR5zjE"
      },
      "source": [
        "Probamos crear el modelo con los datos normalizados (min/max scaler)"
      ]
    },
    {
      "cell_type": "code",
      "execution_count": null,
      "metadata": {
        "colab": {
          "base_uri": "https://localhost:8080/"
        },
        "id": "BxStUXN354Ab",
        "outputId": "2ff4a552-cfe2-4c2b-eaf4-7f785452d0f2"
      },
      "outputs": [
        {
          "name": "stdout",
          "output_type": "stream",
          "text": [
            "              precision    recall  f1-score   support\n",
            "\n",
            "           0       0.84      0.75      0.79     10414\n",
            "           1       0.72      0.82      0.77      8159\n",
            "\n",
            "    accuracy                           0.78     18573\n",
            "   macro avg       0.78      0.79      0.78     18573\n",
            "weighted avg       0.79      0.78      0.78     18573\n",
            "\n"
          ]
        }
      ],
      "source": [
        "#Construyo un modelo SVM\n",
        "svm_minmax= SVC()\n",
        "\n",
        "#Lo entreno con los datos escalados con normalizacion\n",
        "svm_minmax.fit(x_train_minmax, y_train)\n",
        "\n",
        "#Hago la prediccion y calculo las métricas\n",
        "y_pred_minmax=svm_minmax.predict(x_test_minmax)\n",
        "print(classification_report(y_pred_minmax, y_test))"
      ]
    },
    {
      "cell_type": "markdown",
      "metadata": {
        "id": "N4QTJ68x-9Rt"
      },
      "source": [
        "Imprimimos su matriz de confusión:"
      ]
    },
    {
      "cell_type": "code",
      "execution_count": null,
      "metadata": {
        "colab": {
          "base_uri": "https://localhost:8080/",
          "height": 466
        },
        "id": "2G-7a-yw-9Ru",
        "outputId": "fc58f34b-f99e-4879-e3bc-ef1cb9e50aff"
      },
      "outputs": [
        {
          "data": {
            "text/plain": [
              "Text(50.722222222222214, 0.5, 'Valores reales')"
            ]
          },
          "execution_count": 48,
          "metadata": {},
          "output_type": "execute_result"
        },
        {
          "data": {
            "image/png": "[encoded data removed]",
            "text/plain": [
              "<Figure size 640x480 with 2 Axes>"
            ]
          },
          "metadata": {},
          "output_type": "display_data"
        }
      ],
      "source": [
        "#Creo la matriz de confusión\n",
        "tabla=confusion_matrix(y_test, y_pred_minmax)\n",
        "\n",
        "#Grafico la matriz de confusión\n",
        "sns.heatmap(tabla,cmap='GnBu',annot=True,fmt='g')\n",
        "plt.xlabel('Valores predichos')\n",
        "plt.ylabel('Valores reales')"
      ]
    },
    {
      "cell_type": "markdown",
      "metadata": {
        "id": "KFfVqkt12efE"
      },
      "source": [
        "<b> Conclusión: </b> tenemos mejores métricas con standard scaler"
      ]
    },
    {
      "cell_type": "markdown",
      "metadata": {
        "id": "aW2ve5fArT-G"
      },
      "source": [
        "### Optimizamos kernel y parámetros"
      ]
    },
    {
      "cell_type": "markdown",
      "metadata": {
        "id": "YWsUZNcx4wb8"
      },
      "source": [
        "Primero probamos con los distintos kernels sin regularizar"
      ]
    },
    {
      "cell_type": "markdown",
      "metadata": {
        "id": "vM6MYrna4ZQc"
      },
      "source": [
        "Probamos con un kernel lineal:"
      ]
    },
    {
      "cell_type": "code",
      "execution_count": null,
      "metadata": {
        "colab": {
          "base_uri": "https://localhost:8080/"
        },
        "id": "9wsrD0sb2sCq",
        "outputId": "cb8e6219-1e18-4d33-e8a1-28c03e5fa51f"
      },
      "outputs": [
        {
          "name": "stdout",
          "output_type": "stream",
          "text": [
            "              precision    recall  f1-score   support\n",
            "\n",
            "           0       0.82      0.75      0.78     10115\n",
            "           1       0.73      0.80      0.76      8458\n",
            "\n",
            "    accuracy                           0.77     18573\n",
            "   macro avg       0.77      0.77      0.77     18573\n",
            "weighted avg       0.77      0.77      0.77     18573\n",
            "\n"
          ]
        }
      ],
      "source": [
        "clf = SVC(kernel='linear')\n",
        "clf.fit(x_train_minmax, y_train)\n",
        "\n",
        "y_pred_lin=clf.predict(x_test_minmax)\n",
        "print(classification_report(y_pred_lin, y_test))"
      ]
    },
    {
      "cell_type": "markdown",
      "metadata": {
        "id": "fQiJbcD74bRk"
      },
      "source": [
        "Probamos con un kernel polinómico:"
      ]
    },
    {
      "cell_type": "code",
      "execution_count": null,
      "metadata": {
        "colab": {
          "base_uri": "https://localhost:8080/"
        },
        "id": "nUe6YpZ75zoL",
        "outputId": "318dac49-a20b-4068-a3ab-ad9d224e5488"
      },
      "outputs": [
        {
          "name": "stdout",
          "output_type": "stream",
          "text": [
            "              precision    recall  f1-score   support\n",
            "\n",
            "           0       0.84      0.76      0.80     10305\n",
            "           1       0.73      0.82      0.77      8268\n",
            "\n",
            "    accuracy                           0.79     18573\n",
            "   macro avg       0.78      0.79      0.78     18573\n",
            "weighted avg       0.79      0.79      0.79     18573\n",
            "\n"
          ]
        }
      ],
      "source": [
        "clf = SVC(kernel='poly')\n",
        "clf.fit(x_train_minmax, y_train)\n",
        "\n",
        "y_pred_pol=clf.predict(x_test_minmax)\n",
        "print(classification_report(y_pred_pol, y_test))"
      ]
    },
    {
      "cell_type": "markdown",
      "metadata": {
        "id": "okRjYa-8HzWy"
      },
      "source": [
        "Ahora probamos regularizando:"
      ]
    },
    {
      "cell_type": "code",
      "execution_count": null,
      "metadata": {
        "colab": {
          "base_uri": "https://localhost:8080/"
        },
        "id": "E05u43r2H1ba",
        "outputId": "23ba34a8-ebdf-4506-afe9-b61f751b3911"
      },
      "outputs": [
        {
          "name": "stdout",
          "output_type": "stream",
          "text": [
            "              precision    recall  f1-score   support\n",
            "\n",
            "           0       0.81      0.75      0.78     10043\n",
            "           1       0.73      0.80      0.76      8530\n",
            "\n",
            "    accuracy                           0.77     18573\n",
            "   macro avg       0.77      0.78      0.77     18573\n",
            "weighted avg       0.78      0.77      0.77     18573\n",
            "\n"
          ]
        }
      ],
      "source": [
        "clf = SVC(kernel='linear', C=5)\n",
        "clf.fit(x_train_minmax, y_train)\n",
        "\n",
        "y_pred_lin=clf.predict(x_test_minmax)\n",
        "print(classification_report(y_pred_lin, y_test))"
      ]
    },
    {
      "cell_type": "code",
      "execution_count": null,
      "metadata": {
        "colab": {
          "base_uri": "https://localhost:8080/"
        },
        "id": "cex1mIReH7Qq",
        "outputId": "9283c004-6be6-4b86-b540-e35424e7be36"
      },
      "outputs": [
        {
          "name": "stdout",
          "output_type": "stream",
          "text": [
            "              precision    recall  f1-score   support\n",
            "\n",
            "           0       0.84      0.78      0.81     10018\n",
            "           1       0.76      0.83      0.80      8555\n",
            "\n",
            "    accuracy                           0.80     18573\n",
            "   macro avg       0.80      0.81      0.80     18573\n",
            "weighted avg       0.81      0.80      0.80     18573\n",
            "\n"
          ]
        }
      ],
      "source": [
        "clf = SVC(kernel='poly', C = 5)\n",
        "clf.fit(x_train_minmax, y_train)\n",
        "\n",
        "y_pred_pol=clf.predict(x_test_minmax)\n",
        "print(classification_report(y_pred_pol, y_test))"
      ]
    },
    {
      "cell_type": "code",
      "execution_count": null,
      "metadata": {
        "colab": {
          "base_uri": "https://localhost:8080/"
        },
        "id": "j_ppY8HBLXYT",
        "outputId": "33f5939f-b7f7-45fe-fc20-2c728ddf8491"
      },
      "outputs": [
        {
          "name": "stdout",
          "output_type": "stream",
          "text": [
            "              precision    recall  f1-score   support\n",
            "\n",
            "           0       0.84      0.80      0.82      9775\n",
            "           1       0.79      0.84      0.81      8798\n",
            "\n",
            "    accuracy                           0.82     18573\n",
            "   macro avg       0.82      0.82      0.82     18573\n",
            "weighted avg       0.82      0.82      0.82     18573\n",
            "\n"
          ]
        }
      ],
      "source": [
        "clf = SVC(C = 10)\n",
        "clf.fit(x_train_norm, y_train)\n",
        "\n",
        "y_pred_C10=clf.predict(x_test_norm)\n",
        "print(classification_report(y_pred_C10, y_test))"
      ]
    },
    {
      "cell_type": "code",
      "execution_count": null,
      "metadata": {
        "colab": {
          "base_uri": "https://localhost:8080/",
          "height": 466
        },
        "id": "qkjZrd1EXAB3",
        "outputId": "e3158092-390b-450f-f90d-892dc9c19150"
      },
      "outputs": [
        {
          "data": {
            "text/plain": [
              "Text(50.722222222222214, 0.5, 'Valores reales')"
            ]
          },
          "execution_count": 22,
          "metadata": {},
          "output_type": "execute_result"
        },
        {
          "data": {
            "image/png": "[encoded data removed]",
            "text/plain": [
              "<Figure size 640x480 with 2 Axes>"
            ]
          },
          "metadata": {},
          "output_type": "display_data"
        }
      ],
      "source": [
        "#Creo la matriz de confusión\n",
        "tabla=confusion_matrix(y_test, y_pred_C10)\n",
        "\n",
        "#Grafico la matriz de confusión\n",
        "sns.heatmap(tabla,cmap='GnBu',annot=True,fmt='g')\n",
        "plt.xlabel('Valores predichos')\n",
        "plt.ylabel('Valores reales')"
      ]
    },
    {
      "cell_type": "markdown",
      "metadata": {
        "id": "pPQ3p14ynTx1"
      },
      "source": [
        "Realizamos k-fold cv:"
      ]
    },
    {
      "cell_type": "code",
      "execution_count": null,
      "metadata": {
        "id": "X7lVADaYmlCL"
      },
      "outputs": [],
      "source": [
        "clf = SVC(C = 10)\n",
        "from sklearn.model_selection import cross_val_score\n",
        "scores = cross_val_score(clf, ds_train_norm, ds_hoteles_train_y, cv=10)\n",
        "scores"
      ]
    },
    {
      "cell_type": "markdown",
      "source": [
        "Probamos crear el modelo con un degree = 5 para un kernel polinómico:"
      ],
      "metadata": {
        "id": "TmzG-yNaaRF3"
      }
    },
    {
      "cell_type": "code",
      "execution_count": null,
      "metadata": {
        "id": "qniHtU7SaA05",
        "outputId": "3aa58237-1b0e-4564-cd1a-85d46f2b7f47"
      },
      "outputs": [
        {
          "name": "stdout",
          "output_type": "stream",
          "text": [
            "              precision    recall  f1-score   support\n",
            "\n",
            "           0       0.85      0.76      0.80     10312\n",
            "           1       0.73      0.83      0.78      8130\n",
            "\n",
            "    accuracy                           0.79     18442\n",
            "   macro avg       0.79      0.79      0.79     18442\n",
            "weighted avg       0.80      0.79      0.79     18442\n",
            "\n"
          ]
        }
      ],
      "source": [
        "clf = SVC(kernel='poly',degree= 5, C = 10)\n",
        "clf.fit(x_train_norm, y_train)\n",
        "y_pred_pol=clf.predict(x_test_norm)\n",
        "print(classification_report(y_pred_pol, y_test))"
      ]
    },
    {
      "cell_type": "code",
      "execution_count": null,
      "metadata": {
        "id": "mcCNdC8GaA05",
        "outputId": "0f2ffdb1-9861-47fa-db17-6fd46cd699ba"
      },
      "outputs": [
        {
          "data": {
            "text/plain": [
              "Text(50.722222222222214, 0.5, 'Valores reales')"
            ]
          },
          "execution_count": 15,
          "metadata": {},
          "output_type": "execute_result"
        },
        {
          "data": {
            "image/png": "[encoded data removed]",
            "text/plain": [
              "<Figure size 640x480 with 2 Axes>"
            ]
          },
          "metadata": {},
          "output_type": "display_data"
        }
      ],
      "source": [
        "\n",
        "#Creo la matriz de confusión\n",
        "tabla=confusion_matrix(y_test, y_pred_pol)\n",
        "\n",
        "#Grafico la matriz de confusión\n",
        "sns.heatmap(tabla,cmap='GnBu',annot=True,fmt='g')\n",
        "plt.xlabel('Valores predichos')\n",
        "plt.ylabel('Valores reales')"
      ]
    },
    {
      "cell_type": "markdown",
      "metadata": {
        "id": "9YSLq2qiVsV1"
      },
      "source": [
        "### Generamos predicciones con el set de test"
      ]
    },
    {
      "cell_type": "markdown",
      "metadata": {
        "id": "bmo1l0PTYuGK"
      },
      "source": [
        "Generamos la predicción con el dataset de test con los modelos de mejor resultado:"
      ]
    },
    {
      "cell_type": "code",
      "execution_count": null,
      "metadata": {
        "id": "ZaH12TJ9YuGK",
        "outputId": "fa9ee5a4-b1ff-4cc1-c0f6-4405b6d5a719"
      },
      "outputs": [
        {
          "name": "stdout",
          "output_type": "stream",
          "text": [
            "<class 'pandas.core.frame.DataFrame'>\n",
            "RangeIndex: 26535 entries, 0 to 26534\n",
            "Data columns (total 2 columns):\n",
            " #   Column       Non-Null Count  Dtype \n",
            "---  ------       --------------  ----- \n",
            " 0   id           26535 non-null  object\n",
            " 1   is_canceled  26535 non-null  int64 \n",
            "dtypes: int64(1), object(1)\n",
            "memory usage: 414.7+ KB\n"
          ]
        }
      ],
      "source": [
        "clf = SVC(kernel='poly',degree= 5, C = 10)\n",
        "clf.fit(ds_train_norm, ds_hoteles_train_y)\n",
        "y_pred_pol=clf.predict(ds_test_norm)\n",
        "\n",
        "df_submission = pd.DataFrame({'id': ds_hoteles_test_id,'is_canceled': y_pred_pol})\n",
        "df_submission.info()\n",
        "df_submission.to_csv('submission_kaggle_svc_c10_d5.csv', index=False)"
      ]
    },
    {
      "cell_type": "code",
      "execution_count": null,
      "metadata": {
        "id": "KvfO7aKJXWyo"
      },
      "outputs": [],
      "source": [
        "clf = SVC(C = 10)\n",
        "clf.fit(ds_train_norm, ds_hoteles_train_y)\n",
        "y_pred_C10_test=clf.predict(ds_test_norm)"
      ]
    },
    {
      "cell_type": "code",
      "execution_count": null,
      "metadata": {
        "colab": {
          "base_uri": "https://localhost:8080/"
        },
        "id": "kdiED2RLuRl6",
        "outputId": "2cd52260-4649-4f44-ee12-2db0322bc20c"
      },
      "outputs": [
        {
          "name": "stdout",
          "output_type": "stream",
          "text": [
            "<class 'pandas.core.frame.DataFrame'>\n",
            "Int64Index: 26535 entries, 0 to 26534\n",
            "Data columns (total 2 columns):\n",
            " #   Column       Non-Null Count  Dtype \n",
            "---  ------       --------------  ----- \n",
            " 0   id           26535 non-null  object\n",
            " 1   is_canceled  26535 non-null  int64 \n",
            "dtypes: int64(1), object(1)\n",
            "memory usage: 621.9+ KB\n"
          ]
        }
      ],
      "source": [
        "df_submission = pd.DataFrame({'id': ds_hoteles_test_id,'is_canceled': y_pred_C10_test})\n",
        "df_submission.info()\n",
        "df_submission.to_csv('/content/drive/MyDrive/Tp_Datos_2023_2°/submission_kaggle_svc_c10.csv', index=False)"
      ]
    },
    {
      "cell_type": "markdown",
      "metadata": {
        "id": "0PmmAcSXU5df"
      },
      "source": [
        "## Construimos un clasificador RandomForest y optimizamos sus hiperparámetros mediante k-fold Cross Validation\n"
      ]
    },
    {
      "cell_type": "code",
      "execution_count": null,
      "metadata": {
        "id": "XhooAgJ5MAWN"
      },
      "outputs": [],
      "source": [
        "from sklearn.ensemble import RandomForestClassifier\n",
        "from sklearn.model_selection import cross_val_score\n",
        "from sklearn.metrics import accuracy_score, confusion_matrix, classification_report\n",
        "from sklearn.model_selection import StratifiedKFold, KFold,RandomizedSearchCV\n",
        "#from sklearn.tree import DecisionTreeClassifier\n",
        "from sklearn.metrics import make_scorer, f1_score"
      ]
    },
    {
      "cell_type": "code",
      "execution_count": null,
      "metadata": {
        "colab": {
          "base_uri": "https://localhost:8080/"
        },
        "id": "Pcoy0rdO51xI",
        "outputId": "4d9a1446-70c3-46fd-ff9f-f862e08fa71c"
      },
      "outputs": [
        {
          "name": "stdout",
          "output_type": "stream",
          "text": [
            "Mejores hiperparámetros: {'n_estimators': 180, 'min_samples_split': 2, 'min_samples_leaf': 1, 'max_features': 'log2', 'max_depth': 60, 'criterion': 'entropy'}\n"
          ]
        }
      ],
      "source": [
        "from sklearn.ensemble import RandomForestClassifier\n",
        "from sklearn.model_selection import cross_val_score\n",
        "from sklearn.metrics import accuracy_score, confusion_matrix, classification_report\n",
        "from sklearn.model_selection import StratifiedKFold, KFold,RandomizedSearchCV\n",
        "#from sklearn.tree import DecisionTreeClassifier\n",
        "from sklearn.metrics import make_scorer, f1_score\n",
        "\n",
        "\n",
        "# Crear un clasificador Random Forest\n",
        "random_forest_model = RandomForestClassifier(random_state=42)\n",
        "\n",
        "# Definir el espacio de búsqueda de hiperparámetros\n",
        "param_distributions = {\n",
        "    'n_estimators': [140,160,180,200],\n",
        "    'max_depth': [40,50,60,70],\n",
        "    'min_samples_split': [2, 5, 10],\n",
        "    'min_samples_leaf': [1, 2, 4],\n",
        "    'max_features': ['sqrt', 'log2'],\n",
        "    'criterion': ['gini', 'entropy']\n",
        "    # Otros hiperparámetros de RandomForest aquí\n",
        "}\n",
        "\n",
        "# Definir la métrica que quieres optimizar (F1-Score)\n",
        "scorer_fn = make_scorer(f1_score)\n",
        "\n",
        "# Crear el objeto RandomizedSearchCV\n",
        "random_search = RandomizedSearchCV(\n",
        "    estimator=random_forest_model,\n",
        "    param_distributions=param_distributions,\n",
        "    scoring=scorer_fn,\n",
        "    cv=5,  # Número de folds para la validación cruzada\n",
        "    n_iter=20,  # Número de combinaciones aleatorias a probar\n",
        "    random_state=42  # Semilla aleatoria para reproducibilidad\n",
        ")\n",
        "\n",
        "# Realizar la búsqueda aleatoria de hiperparámetros\n",
        "random_search.fit(ds_hoteles_train_x, ds_hoteles_train_y)\n",
        "\n",
        "# Obtener la mejor combinación de hiperparámetros\n",
        "best_params = random_search.best_params_\n",
        "print(\"Mejores hiperparámetros:\", best_params)\n",
        "\n",
        "# Obtener el modelo con los mejores hiperparámetros\n",
        "best_model = random_search.best_estimator_\n",
        "\n",
        "# Evaluar el modelo en el conjunto de prueba (ds_test_x)\n",
        "y_pred = best_model.predict(ds_test_x)"
      ]
    },
    {
      "cell_type": "markdown",
      "metadata": {
        "id": "C09xbKeDVglI"
      },
      "source": [
        "### Evaluamos sus métricas"
      ]
    },
    {
      "cell_type": "code",
      "source": [
        "# Crear un clasificador Random Forest con los mejores hiperparámetros\n",
        "best_random_forest_model = RandomForestClassifier(\n",
        "    n_estimators=180,\n",
        "    max_depth=60,\n",
        "    min_samples_split=2,\n",
        "    min_samples_leaf=1,\n",
        "    max_features='log2',\n",
        "    criterion='entropy',\n",
        "    random_state=42\n",
        ")\n"
      ],
      "metadata": {
        "id": "aXlI_hvhcWhG"
      },
      "execution_count": null,
      "outputs": []
    },
    {
      "cell_type": "code",
      "execution_count": null,
      "metadata": {
        "colab": {
          "base_uri": "https://localhost:8080/"
        },
        "id": "0C5urr9GgnFh",
        "outputId": "0fe72dc5-5df7-4d89-a535-9466ad84c9fe"
      },
      "outputs": [
        {
          "name": "stdout",
          "output_type": "stream",
          "text": [
            "F1-score en cada fold: [0.85403266 0.86559803 0.84752575 0.8527868  0.86420975 0.8567201\n",
            " 0.85132787 0.85062035 0.84304488 0.86063326 0.86436105 0.8528827\n",
            " 0.84875622 0.86055777 0.86159941]\n",
            "F1-score promedio: 0.8556437722998517\n"
          ]
        }
      ],
      "source": [
        "#best_random_forest_model = RandomForestClassifier(**best_model.best_params)\n",
        "\n",
        "# Realizar k-fold cross-validation (por ejemplo, con k=15)\n",
        "scores = cross_val_score(best_random_forest_model, ds_hoteles_train_x, ds_hoteles_train_y, cv=15, scoring='f1')\n",
        "\n",
        "# Imprimir los resultados de cada fold\n",
        "print(\"F1-score en cada fold:\", scores)\n",
        "\n",
        "# Imprimir la precisión promedio\n",
        "print(\"F1-score promedio:\", scores.mean())"
      ]
    },
    {
      "cell_type": "code",
      "execution_count": null,
      "metadata": {
        "colab": {
          "base_uri": "https://localhost:8080/"
        },
        "id": "dcNRVbwV51xI",
        "outputId": "d1f18a88-afb1-4b64-a417-5d74fba95ccb"
      },
      "outputs": [
        {
          "data": {
            "text/plain": [
              "array([1, 1, 0, ..., 1, 0, 0])"
            ]
          },
          "execution_count": 43,
          "metadata": {},
          "output_type": "execute_result"
        }
      ],
      "source": [
        "y_pred"
      ]
    },
    {
      "cell_type": "code",
      "execution_count": null,
      "metadata": {
        "colab": {
          "base_uri": "https://localhost:8080/",
          "height": 424
        },
        "id": "wpyMkf0w51xI",
        "outputId": "e57bac54-2029-40aa-b2e8-958a40291e28"
      },
      "outputs": [
        {
          "data": {
            "text/html": [
              "\n",
              "  <div id=\"df-8e5943d1-9a92-4940-9870-bcf9843fda35\" class=\"colab-df-container\">\n",
              "    <div>\n",
              "<style scoped>\n",
              "    .dataframe tbody tr th:only-of-type {\n",
              "        vertical-align: middle;\n",
              "    }\n",
              "\n",
              "    .dataframe tbody tr th {\n",
              "        vertical-align: top;\n",
              "    }\n",
              "\n",
              "    .dataframe thead th {\n",
              "        text-align: right;\n",
              "    }\n",
              "</style>\n",
              "<table border=\"1\" class=\"dataframe\">\n",
              "  <thead>\n",
              "    <tr style=\"text-align: right;\">\n",
              "      <th></th>\n",
              "      <th>id</th>\n",
              "      <th>is_canceled</th>\n",
              "    </tr>\n",
              "  </thead>\n",
              "  <tbody>\n",
              "    <tr>\n",
              "      <th>0</th>\n",
              "      <td>e6d0d58a-ab96-44d3-b28f-85df1cc15f1e</td>\n",
              "      <td>1</td>\n",
              "    </tr>\n",
              "    <tr>\n",
              "      <th>1</th>\n",
              "      <td>aba9aac2-4495-4645-a60e-90328713c999</td>\n",
              "      <td>1</td>\n",
              "    </tr>\n",
              "    <tr>\n",
              "      <th>2</th>\n",
              "      <td>b345b5dc-c804-4d77-a39f-1f4e65d1f1ad</td>\n",
              "      <td>0</td>\n",
              "    </tr>\n",
              "    <tr>\n",
              "      <th>3</th>\n",
              "      <td>ce1b400e-afa1-4946-bdff-004b859eb61c</td>\n",
              "      <td>1</td>\n",
              "    </tr>\n",
              "    <tr>\n",
              "      <th>4</th>\n",
              "      <td>c4fbec0d-8e2e-4db2-9d4f-a6ccb9f51214</td>\n",
              "      <td>1</td>\n",
              "    </tr>\n",
              "    <tr>\n",
              "      <th>...</th>\n",
              "      <td>...</td>\n",
              "      <td>...</td>\n",
              "    </tr>\n",
              "    <tr>\n",
              "      <th>26530</th>\n",
              "      <td>636ccded-66ad-4538-8006-c0b9f84c6256</td>\n",
              "      <td>0</td>\n",
              "    </tr>\n",
              "    <tr>\n",
              "      <th>26531</th>\n",
              "      <td>11e19741-bd28-4459-8ea3-184f1664000f</td>\n",
              "      <td>0</td>\n",
              "    </tr>\n",
              "    <tr>\n",
              "      <th>26532</th>\n",
              "      <td>36a4c7b0-d6b1-4528-93db-311be96ec1c6</td>\n",
              "      <td>1</td>\n",
              "    </tr>\n",
              "    <tr>\n",
              "      <th>26533</th>\n",
              "      <td>89c85fa5-2b3d-4131-844c-e151a65ca240</td>\n",
              "      <td>0</td>\n",
              "    </tr>\n",
              "    <tr>\n",
              "      <th>26534</th>\n",
              "      <td>bd4e9eee-f28e-4a53-b4a1-277426efbcee</td>\n",
              "      <td>0</td>\n",
              "    </tr>\n",
              "  </tbody>\n",
              "</table>\n",
              "<p>26535 rows × 2 columns</p>\n",
              "</div>\n",
              "    <div class=\"colab-df-buttons\">\n",
              "\n",
              "  <div class=\"colab-df-container\">\n",
              "    <button class=\"colab-df-convert\" onclick=\"convertToInteractive('df-8e5943d1-9a92-4940-9870-bcf9843fda35')\"\n",
              "            title=\"Convert this dataframe to an interactive table.\"\n",
              "            style=\"display:none;\">\n",
              "\n",
              "  <svg xmlns=\"http://www.w3.org/2000/svg\" height=\"24px\" viewBox=\"0 -960 960 960\">\n",
              "    <path d=\"M120-120v-720h720v720H120Zm60-500h600v-160H180v160Zm220 220h160v-160H400v160Zm0 220h160v-160H400v160ZM180-400h160v-160H180v160Zm440 0h160v-160H620v160ZM180-180h160v-160H180v160Zm440 0h160v-160H620v160Z\"/>\n",
              "  </svg>\n",
              "    </button>\n",
              "\n",
              "  <style>\n",
              "    .colab-df-container {\n",
              "      display:flex;\n",
              "      gap: 12px;\n",
              "    }\n",
              "\n",
              "    .colab-df-convert {\n",
              "      background-color: #E8F0FE;\n",
              "      border: none;\n",
              "      border-radius: 50%;\n",
              "      cursor: pointer;\n",
              "      display: none;\n",
              "      fill: #1967D2;\n",
              "      height: 32px;\n",
              "      padding: 0 0 0 0;\n",
              "      width: 32px;\n",
              "    }\n",
              "\n",
              "    .colab-df-convert:hover {\n",
              "      background-color: #E2EBFA;\n",
              "      box-shadow: 0px 1px 2px rgba(60, 64, 67, 0.3), 0px 1px 3px 1px rgba(60, 64, 67, 0.15);\n",
              "      fill: #174EA6;\n",
              "    }\n",
              "\n",
              "    .colab-df-buttons div {\n",
              "      margin-bottom: 4px;\n",
              "    }\n",
              "\n",
              "    [theme=dark] .colab-df-convert {\n",
              "      background-color: #3B4455;\n",
              "      fill: #D2E3FC;\n",
              "    }\n",
              "\n",
              "    [theme=dark] .colab-df-convert:hover {\n",
              "      background-color: #434B5C;\n",
              "      box-shadow: 0px 1px 3px 1px rgba(0, 0, 0, 0.15);\n",
              "      filter: drop-shadow(0px 1px 2px rgba(0, 0, 0, 0.3));\n",
              "      fill: #FFFFFF;\n",
              "    }\n",
              "  </style>\n",
              "\n",
              "    <script>\n",
              "      const buttonEl =\n",
              "        document.querySelector('#df-8e5943d1-9a92-4940-9870-bcf9843fda35 button.colab-df-convert');\n",
              "      buttonEl.style.display =\n",
              "        google.colab.kernel.accessAllowed ? 'block' : 'none';\n",
              "\n",
              "      async function convertToInteractive(key) {\n",
              "        const element = document.querySelector('#df-8e5943d1-9a92-4940-9870-bcf9843fda35');\n",
              "        const dataTable =\n",
              "          await google.colab.kernel.invokeFunction('convertToInteractive',\n",
              "                                                    [key], {});\n",
              "        if (!dataTable) return;\n",
              "\n",
              "        const docLinkHtml = 'Like what you see? Visit the ' +\n",
              "          '<a target=\"_blank\" href=https://colab.research.google.com/notebooks/data_table.ipynb>data table notebook</a>'\n",
              "          + ' to learn more about interactive tables.';\n",
              "        element.innerHTML = '';\n",
              "        dataTable['output_type'] = 'display_data';\n",
              "        await google.colab.output.renderOutput(dataTable, element);\n",
              "        const docLink = document.createElement('div');\n",
              "        docLink.innerHTML = docLinkHtml;\n",
              "        element.appendChild(docLink);\n",
              "      }\n",
              "    </script>\n",
              "  </div>\n",
              "\n",
              "\n",
              "<div id=\"df-af328dd9-460c-48ff-857c-e24492b0bfeb\">\n",
              "  <button class=\"colab-df-quickchart\" onclick=\"quickchart('df-af328dd9-460c-48ff-857c-e24492b0bfeb')\"\n",
              "            title=\"Suggest charts.\"\n",
              "            style=\"display:none;\">\n",
              "\n",
              "<svg xmlns=\"http://www.w3.org/2000/svg\" height=\"24px\"viewBox=\"0 0 24 24\"\n",
              "     width=\"24px\">\n",
              "    <g>\n",
              "        <path d=\"M19 3H5c-1.1 0-2 .9-2 2v14c0 1.1.9 2 2 2h14c1.1 0 2-.9 2-2V5c0-1.1-.9-2-2-2zM9 17H7v-7h2v7zm4 0h-2V7h2v10zm4 0h-2v-4h2v4z\"/>\n",
              "    </g>\n",
              "</svg>\n",
              "  </button>\n",
              "\n",
              "<style>\n",
              "  .colab-df-quickchart {\n",
              "      --bg-color: #E8F0FE;\n",
              "      --fill-color: #1967D2;\n",
              "      --hover-bg-color: #E2EBFA;\n",
              "      --hover-fill-color: #174EA6;\n",
              "      --disabled-fill-color: #AAA;\n",
              "      --disabled-bg-color: #DDD;\n",
              "  }\n",
              "\n",
              "  [theme=dark] .colab-df-quickchart {\n",
              "      --bg-color: #3B4455;\n",
              "      --fill-color: #D2E3FC;\n",
              "      --hover-bg-color: #434B5C;\n",
              "      --hover-fill-color: #FFFFFF;\n",
              "      --disabled-bg-color: #3B4455;\n",
              "      --disabled-fill-color: #666;\n",
              "  }\n",
              "\n",
              "  .colab-df-quickchart {\n",
              "    background-color: var(--bg-color);\n",
              "    border: none;\n",
              "    border-radius: 50%;\n",
              "    cursor: pointer;\n",
              "    display: none;\n",
              "    fill: var(--fill-color);\n",
              "    height: 32px;\n",
              "    padding: 0;\n",
              "    width: 32px;\n",
              "  }\n",
              "\n",
              "  .colab-df-quickchart:hover {\n",
              "    background-color: var(--hover-bg-color);\n",
              "    box-shadow: 0 1px 2px rgba(60, 64, 67, 0.3), 0 1px 3px 1px rgba(60, 64, 67, 0.15);\n",
              "    fill: var(--button-hover-fill-color);\n",
              "  }\n",
              "\n",
              "  .colab-df-quickchart-complete:disabled,\n",
              "  .colab-df-quickchart-complete:disabled:hover {\n",
              "    background-color: var(--disabled-bg-color);\n",
              "    fill: var(--disabled-fill-color);\n",
              "    box-shadow: none;\n",
              "  }\n",
              "\n",
              "  .colab-df-spinner {\n",
              "    border: 2px solid var(--fill-color);\n",
              "    border-color: transparent;\n",
              "    border-bottom-color: var(--fill-color);\n",
              "    animation:\n",
              "      spin 1s steps(1) infinite;\n",
              "  }\n",
              "\n",
              "  @keyframes spin {\n",
              "    0% {\n",
              "      border-color: transparent;\n",
              "      border-bottom-color: var(--fill-color);\n",
              "      border-left-color: var(--fill-color);\n",
              "    }\n",
              "    20% {\n",
              "      border-color: transparent;\n",
              "      border-left-color: var(--fill-color);\n",
              "      border-top-color: var(--fill-color);\n",
              "    }\n",
              "    30% {\n",
              "      border-color: transparent;\n",
              "      border-left-color: var(--fill-color);\n",
              "      border-top-color: var(--fill-color);\n",
              "      border-right-color: var(--fill-color);\n",
              "    }\n",
              "    40% {\n",
              "      border-color: transparent;\n",
              "      border-right-color: var(--fill-color);\n",
              "      border-top-color: var(--fill-color);\n",
              "    }\n",
              "    60% {\n",
              "      border-color: transparent;\n",
              "      border-right-color: var(--fill-color);\n",
              "    }\n",
              "    80% {\n",
              "      border-color: transparent;\n",
              "      border-right-color: var(--fill-color);\n",
              "      border-bottom-color: var(--fill-color);\n",
              "    }\n",
              "    90% {\n",
              "      border-color: transparent;\n",
              "      border-bottom-color: var(--fill-color);\n",
              "    }\n",
              "  }\n",
              "</style>\n",
              "\n",
              "  <script>\n",
              "    async function quickchart(key) {\n",
              "      const quickchartButtonEl =\n",
              "        document.querySelector('#' + key + ' button');\n",
              "      quickchartButtonEl.disabled = true;  // To prevent multiple clicks.\n",
              "      quickchartButtonEl.classList.add('colab-df-spinner');\n",
              "      try {\n",
              "        const charts = await google.colab.kernel.invokeFunction(\n",
              "            'suggestCharts', [key], {});\n",
              "      } catch (error) {\n",
              "        console.error('Error during call to suggestCharts:', error);\n",
              "      }\n",
              "      quickchartButtonEl.classList.remove('colab-df-spinner');\n",
              "      quickchartButtonEl.classList.add('colab-df-quickchart-complete');\n",
              "    }\n",
              "    (() => {\n",
              "      let quickchartButtonEl =\n",
              "        document.querySelector('#df-af328dd9-460c-48ff-857c-e24492b0bfeb button');\n",
              "      quickchartButtonEl.style.display =\n",
              "        google.colab.kernel.accessAllowed ? 'block' : 'none';\n",
              "    })();\n",
              "  </script>\n",
              "</div>\n",
              "    </div>\n",
              "  </div>\n"
            ],
            "text/plain": [
              "                                         id  is_canceled\n",
              "0      e6d0d58a-ab96-44d3-b28f-85df1cc15f1e            1\n",
              "1      aba9aac2-4495-4645-a60e-90328713c999            1\n",
              "2      b345b5dc-c804-4d77-a39f-1f4e65d1f1ad            0\n",
              "3      ce1b400e-afa1-4946-bdff-004b859eb61c            1\n",
              "4      c4fbec0d-8e2e-4db2-9d4f-a6ccb9f51214            1\n",
              "...                                     ...          ...\n",
              "26530  636ccded-66ad-4538-8006-c0b9f84c6256            0\n",
              "26531  11e19741-bd28-4459-8ea3-184f1664000f            0\n",
              "26532  36a4c7b0-d6b1-4528-93db-311be96ec1c6            1\n",
              "26533  89c85fa5-2b3d-4131-844c-e151a65ca240            0\n",
              "26534  bd4e9eee-f28e-4a53-b4a1-277426efbcee            0\n",
              "\n",
              "[26535 rows x 2 columns]"
            ]
          },
          "execution_count": 45,
          "metadata": {},
          "output_type": "execute_result"
        }
      ],
      "source": [
        "df_submission = pd.DataFrame({'id': ds_hoteles_test['id'], 'is_canceled': y_pred})\n",
        "df_submission"
      ]
    },
    {
      "cell_type": "code",
      "execution_count": null,
      "metadata": {
        "id": "DWpcgG5751xJ"
      },
      "outputs": [],
      "source": [
        "df_submission.to_csv('/content/drive/MyDrive/Tp_Datos_2023_2°/Submission_RandomForest.csv',index=False)"
      ]
    },
    {
      "cell_type": "markdown",
      "metadata": {
        "id": "zvieHKqEVglK"
      },
      "source": [
        "### Matriz de confusión"
      ]
    },
    {
      "cell_type": "code",
      "execution_count": null,
      "metadata": {
        "colab": {
          "base_uri": "https://localhost:8080/",
          "height": 92
        },
        "id": "_coO3Nj_NXhu",
        "outputId": "fc026f44-153c-4eac-f927-03daba7eaf4b"
      },
      "outputs": [
        {
          "output_type": "execute_result",
          "data": {
            "text/plain": [
              "RandomForestClassifier(criterion='entropy', max_depth=60, max_features='log2',\n",
              "                       n_estimators=180, random_state=42)"
            ],
            "text/html": [
              "<style>#sk-container-id-2 {color: black;background-color: white;}#sk-container-id-2 pre{padding: 0;}#sk-container-id-2 div.sk-toggleable {background-color: white;}#sk-container-id-2 label.sk-toggleable__label {cursor: pointer;display: block;width: 100%;margin-bottom: 0;padding: 0.3em;box-sizing: border-box;text-align: center;}#sk-container-id-2 label.sk-toggleable__label-arrow:before {content: \"▸\";float: left;margin-right: 0.25em;color: #696969;}#sk-container-id-2 label.sk-toggleable__label-arrow:hover:before {color: black;}#sk-container-id-2 div.sk-estimator:hover label.sk-toggleable__label-arrow:before {color: black;}#sk-container-id-2 div.sk-toggleable__content {max-height: 0;max-width: 0;overflow: hidden;text-align: left;background-color: #f0f8ff;}#sk-container-id-2 div.sk-toggleable__content pre {margin: 0.2em;color: black;border-radius: 0.25em;background-color: #f0f8ff;}#sk-container-id-2 input.sk-toggleable__control:checked~div.sk-toggleable__content {max-height: 200px;max-width: 100%;overflow: auto;}#sk-container-id-2 input.sk-toggleable__control:checked~label.sk-toggleable__label-arrow:before {content: \"▾\";}#sk-container-id-2 div.sk-estimator input.sk-toggleable__control:checked~label.sk-toggleable__label {background-color: #d4ebff;}#sk-container-id-2 div.sk-label input.sk-toggleable__control:checked~label.sk-toggleable__label {background-color: #d4ebff;}#sk-container-id-2 input.sk-hidden--visually {border: 0;clip: rect(1px 1px 1px 1px);clip: rect(1px, 1px, 1px, 1px);height: 1px;margin: -1px;overflow: hidden;padding: 0;position: absolute;width: 1px;}#sk-container-id-2 div.sk-estimator {font-family: monospace;background-color: #f0f8ff;border: 1px dotted black;border-radius: 0.25em;box-sizing: border-box;margin-bottom: 0.5em;}#sk-container-id-2 div.sk-estimator:hover {background-color: #d4ebff;}#sk-container-id-2 div.sk-parallel-item::after {content: \"\";width: 100%;border-bottom: 1px solid gray;flex-grow: 1;}#sk-container-id-2 div.sk-label:hover label.sk-toggleable__label {background-color: #d4ebff;}#sk-container-id-2 div.sk-serial::before {content: \"\";position: absolute;border-left: 1px solid gray;box-sizing: border-box;top: 0;bottom: 0;left: 50%;z-index: 0;}#sk-container-id-2 div.sk-serial {display: flex;flex-direction: column;align-items: center;background-color: white;padding-right: 0.2em;padding-left: 0.2em;position: relative;}#sk-container-id-2 div.sk-item {position: relative;z-index: 1;}#sk-container-id-2 div.sk-parallel {display: flex;align-items: stretch;justify-content: center;background-color: white;position: relative;}#sk-container-id-2 div.sk-item::before, #sk-container-id-2 div.sk-parallel-item::before {content: \"\";position: absolute;border-left: 1px solid gray;box-sizing: border-box;top: 0;bottom: 0;left: 50%;z-index: -1;}#sk-container-id-2 div.sk-parallel-item {display: flex;flex-direction: column;z-index: 1;position: relative;background-color: white;}#sk-container-id-2 div.sk-parallel-item:first-child::after {align-self: flex-end;width: 50%;}#sk-container-id-2 div.sk-parallel-item:last-child::after {align-self: flex-start;width: 50%;}#sk-container-id-2 div.sk-parallel-item:only-child::after {width: 0;}#sk-container-id-2 div.sk-dashed-wrapped {border: 1px dashed gray;margin: 0 0.4em 0.5em 0.4em;box-sizing: border-box;padding-bottom: 0.4em;background-color: white;}#sk-container-id-2 div.sk-label label {font-family: monospace;font-weight: bold;display: inline-block;line-height: 1.2em;}#sk-container-id-2 div.sk-label-container {text-align: center;}#sk-container-id-2 div.sk-container {/* jupyter's `normalize.less` sets `[hidden] { display: none; }` but bootstrap.min.css set `[hidden] { display: none !important; }` so we also need the `!important` here to be able to override the default hidden behavior on the sphinx rendered scikit-learn.org. See: https://github.com/scikit-learn/scikit-learn/issues/21755 */display: inline-block !important;position: relative;}#sk-container-id-2 div.sk-text-repr-fallback {display: none;}</style><div id=\"sk-container-id-2\" class=\"sk-top-container\"><div class=\"sk-text-repr-fallback\"><pre>RandomForestClassifier(criterion=&#x27;entropy&#x27;, max_depth=60, max_features=&#x27;log2&#x27;,\n",
              "                       n_estimators=180, random_state=42)</pre><b>In a Jupyter environment, please rerun this cell to show the HTML representation or trust the notebook. <br />On GitHub, the HTML representation is unable to render, please try loading this page with nbviewer.org.</b></div><div class=\"sk-container\" hidden><div class=\"sk-item\"><div class=\"sk-estimator sk-toggleable\"><input class=\"sk-toggleable__control sk-hidden--visually\" id=\"sk-estimator-id-2\" type=\"checkbox\" checked><label for=\"sk-estimator-id-2\" class=\"sk-toggleable__label sk-toggleable__label-arrow\">RandomForestClassifier</label><div class=\"sk-toggleable__content\"><pre>RandomForestClassifier(criterion=&#x27;entropy&#x27;, max_depth=60, max_features=&#x27;log2&#x27;,\n",
              "                       n_estimators=180, random_state=42)</pre></div></div></div></div></div>"
            ]
          },
          "metadata": {},
          "execution_count": 21
        }
      ],
      "source": [
        "best_random_forest_model.fit(x_train, y_train)"
      ]
    },
    {
      "cell_type": "code",
      "execution_count": null,
      "metadata": {
        "colab": {
          "base_uri": "https://localhost:8080/",
          "height": 640
        },
        "id": "HireKD0g7ERV",
        "outputId": "d5813f58-92ce-403f-821a-1a9bfc00ce0d"
      },
      "outputs": [
        {
          "output_type": "stream",
          "name": "stdout",
          "text": [
            "              precision    recall  f1-score   support\n",
            "\n",
            "           0       0.84      0.88      0.86      9292\n",
            "           1       0.87      0.83      0.85      9281\n",
            "\n",
            "    accuracy                           0.86     18573\n",
            "   macro avg       0.86      0.86      0.86     18573\n",
            "weighted avg       0.86      0.86      0.86     18573\n",
            "\n",
            "F1-Score: 0.8517579631874793\n"
          ]
        },
        {
          "output_type": "execute_result",
          "data": {
            "text/plain": [
              "Text(50.722222222222214, 0.5, 'True')"
            ]
          },
          "metadata": {},
          "execution_count": 22
        },
        {
          "output_type": "display_data",
          "data": {
            "text/plain": [
              "<Figure size 640x480 with 2 Axes>"
            ],
            "image/png": "[encoded data removed]"
          },
          "metadata": {}
        }
      ],
      "source": [
        "from sklearn.metrics import confusion_matrix, classification_report\n",
        "from sklearn.tree import DecisionTreeClassifier\n",
        "\n",
        "\n",
        "#Predicción sobre el set de evaluacion\n",
        "y_pred= best_random_forest_model.predict(x_test)\n",
        "\n",
        "#Arbol Reporte y Matriz de Confusion\n",
        "print(classification_report(y_test,y_pred))\n",
        "\n",
        "#Utilizo y_test, que sale de el train_test_split\n",
        "print('F1-Score: {}'.format(f1_score(y_test, y_pred, average='binary'))) #binary considera la clase positiva por defecto 1\n",
        "\n",
        "\n",
        "cm = confusion_matrix(y_test,y_pred)\n",
        "sns.heatmap(cm, cmap='Blues',annot=True,fmt='g')\n",
        "plt.xlabel('Predicted')\n",
        "plt.ylabel('True')"
      ]
    },
    {
      "cell_type": "code",
      "execution_count": null,
      "metadata": {
        "colab": {
          "base_uri": "https://localhost:8080/"
        },
        "id": "Zzgp-C48QQLJ",
        "outputId": "45bd578f-0041-4aeb-ce6d-f69876cfb70e"
      },
      "outputs": [
        {
          "data": {
            "text/plain": [
              "18573"
            ]
          },
          "execution_count": 33,
          "metadata": {},
          "output_type": "execute_result"
        }
      ],
      "source": [
        "len(y_test)"
      ]
    },
    {
      "cell_type": "markdown",
      "metadata": {
        "id": "VD9fbsGSVIub"
      },
      "source": [
        "## Construimos un clasificador XGBoost y optimizamos sus hiperparámetros."
      ]
    },
    {
      "cell_type": "markdown",
      "metadata": {
        "id": "Z4dKa5IQ4eTk"
      },
      "source": [
        "#### Definición de los hiperparámetros\n",
        "\n",
        "**Hiper-parámetros**\n",
        "\n",
        "* learning_rate: tasa de aprendizaje\n",
        "+ max_depth: máxima profundidad de cada árbol\n",
        "* subsample: porcentaje de muestras usadas para cada árbol (valor muy bajo, posible underfitting)\n",
        "* colsample_bytree: porcentaje de features usadas para cada árbol (valores muy alto, posible overfitting)\n",
        "* n_estimators: cantidad de árboles a construir.\n",
        "* objective: función de error a utilizar (algunas: reg:linear para regresión,\n",
        "* reg:logistic o binary:logistic para clasificación)\n",
        "\n",
        "**Parámetros de regularización:**\n",
        "\n",
        "* **gamma**: umbral para hacer split basado en la reducción de error de hacer el nuevo split.\n",
        "* **alpha**: regularización para los pesos de las hojas. Un valor más alto genera una mayor regularización.\n",
        "* **lambda**: similar alpha pero para la sintonia fina."
      ]
    },
    {
      "cell_type": "markdown",
      "metadata": {
        "id": "VXT7hmNxWDNc"
      },
      "source": [
        "### Modelo base de XGBoost"
      ]
    },
    {
      "cell_type": "markdown",
      "metadata": {
        "id": "Bt-BXcQxV7Sd"
      },
      "source": [
        "#### Entrenamos un modelo de XGBoost base"
      ]
    },
    {
      "cell_type": "code",
      "execution_count": null,
      "metadata": {
        "colab": {
          "base_uri": "https://localhost:8080/",
          "height": 248
        },
        "id": "ifjNPJwSkSzJ",
        "outputId": "8c9a4faa-d693-4a9c-ee5a-3919c1fb3170"
      },
      "outputs": [
        {
          "data": {
            "text/html": [
              "<style>#sk-container-id-2 {color: black;background-color: white;}#sk-container-id-2 pre{padding: 0;}#sk-container-id-2 div.sk-toggleable {background-color: white;}#sk-container-id-2 label.sk-toggleable__label {cursor: pointer;display: block;width: 100%;margin-bottom: 0;padding: 0.3em;box-sizing: border-box;text-align: center;}#sk-container-id-2 label.sk-toggleable__label-arrow:before {content: \"▸\";float: left;margin-right: 0.25em;color: #696969;}#sk-container-id-2 label.sk-toggleable__label-arrow:hover:before {color: black;}#sk-container-id-2 div.sk-estimator:hover label.sk-toggleable__label-arrow:before {color: black;}#sk-container-id-2 div.sk-toggleable__content {max-height: 0;max-width: 0;overflow: hidden;text-align: left;background-color: #f0f8ff;}#sk-container-id-2 div.sk-toggleable__content pre {margin: 0.2em;color: black;border-radius: 0.25em;background-color: #f0f8ff;}#sk-container-id-2 input.sk-toggleable__control:checked~div.sk-toggleable__content {max-height: 200px;max-width: 100%;overflow: auto;}#sk-container-id-2 input.sk-toggleable__control:checked~label.sk-toggleable__label-arrow:before {content: \"▾\";}#sk-container-id-2 div.sk-estimator input.sk-toggleable__control:checked~label.sk-toggleable__label {background-color: #d4ebff;}#sk-container-id-2 div.sk-label input.sk-toggleable__control:checked~label.sk-toggleable__label {background-color: #d4ebff;}#sk-container-id-2 input.sk-hidden--visually {border: 0;clip: rect(1px 1px 1px 1px);clip: rect(1px, 1px, 1px, 1px);height: 1px;margin: -1px;overflow: hidden;padding: 0;position: absolute;width: 1px;}#sk-container-id-2 div.sk-estimator {font-family: monospace;background-color: #f0f8ff;border: 1px dotted black;border-radius: 0.25em;box-sizing: border-box;margin-bottom: 0.5em;}#sk-container-id-2 div.sk-estimator:hover {background-color: #d4ebff;}#sk-container-id-2 div.sk-parallel-item::after {content: \"\";width: 100%;border-bottom: 1px solid gray;flex-grow: 1;}#sk-container-id-2 div.sk-label:hover label.sk-toggleable__label {background-color: #d4ebff;}#sk-container-id-2 div.sk-serial::before {content: \"\";position: absolute;border-left: 1px solid gray;box-sizing: border-box;top: 0;bottom: 0;left: 50%;z-index: 0;}#sk-container-id-2 div.sk-serial {display: flex;flex-direction: column;align-items: center;background-color: white;padding-right: 0.2em;padding-left: 0.2em;position: relative;}#sk-container-id-2 div.sk-item {position: relative;z-index: 1;}#sk-container-id-2 div.sk-parallel {display: flex;align-items: stretch;justify-content: center;background-color: white;position: relative;}#sk-container-id-2 div.sk-item::before, #sk-container-id-2 div.sk-parallel-item::before {content: \"\";position: absolute;border-left: 1px solid gray;box-sizing: border-box;top: 0;bottom: 0;left: 50%;z-index: -1;}#sk-container-id-2 div.sk-parallel-item {display: flex;flex-direction: column;z-index: 1;position: relative;background-color: white;}#sk-container-id-2 div.sk-parallel-item:first-child::after {align-self: flex-end;width: 50%;}#sk-container-id-2 div.sk-parallel-item:last-child::after {align-self: flex-start;width: 50%;}#sk-container-id-2 div.sk-parallel-item:only-child::after {width: 0;}#sk-container-id-2 div.sk-dashed-wrapped {border: 1px dashed gray;margin: 0 0.4em 0.5em 0.4em;box-sizing: border-box;padding-bottom: 0.4em;background-color: white;}#sk-container-id-2 div.sk-label label {font-family: monospace;font-weight: bold;display: inline-block;line-height: 1.2em;}#sk-container-id-2 div.sk-label-container {text-align: center;}#sk-container-id-2 div.sk-container {/* jupyter's `normalize.less` sets `[hidden] { display: none; }` but bootstrap.min.css set `[hidden] { display: none !important; }` so we also need the `!important` here to be able to override the default hidden behavior on the sphinx rendered scikit-learn.org. See: https://github.com/scikit-learn/scikit-learn/issues/21755 */display: inline-block !important;position: relative;}#sk-container-id-2 div.sk-text-repr-fallback {display: none;}</style><div id=\"sk-container-id-2\" class=\"sk-top-container\"><div class=\"sk-text-repr-fallback\"><pre>XGBClassifier(base_score=None, booster=None, callbacks=None,\n",
              "              colsample_bylevel=None, colsample_bynode=None,\n",
              "              colsample_bytree=None, device=None, early_stopping_rounds=None,\n",
              "              enable_categorical=False, eval_metric=None, feature_types=None,\n",
              "              gamma=None, grow_policy=None, importance_type=None,\n",
              "              interaction_constraints=None, learning_rate=None, max_bin=None,\n",
              "              max_cat_threshold=None, max_cat_to_onehot=None,\n",
              "              max_delta_step=None, max_depth=None, max_leaves=None,\n",
              "              min_child_weight=None, missing=nan, monotone_constraints=None,\n",
              "              multi_strategy=None, n_estimators=100, n_jobs=None,\n",
              "              num_parallel_tree=None, random_state=0, ...)</pre><b>In a Jupyter environment, please rerun this cell to show the HTML representation or trust the notebook. <br />On GitHub, the HTML representation is unable to render, please try loading this page with nbviewer.org.</b></div><div class=\"sk-container\" hidden><div class=\"sk-item\"><div class=\"sk-estimator sk-toggleable\"><input class=\"sk-toggleable__control sk-hidden--visually\" id=\"sk-estimator-id-2\" type=\"checkbox\" checked><label for=\"sk-estimator-id-2\" class=\"sk-toggleable__label sk-toggleable__label-arrow\">XGBClassifier</label><div class=\"sk-toggleable__content\"><pre>XGBClassifier(base_score=None, booster=None, callbacks=None,\n",
              "              colsample_bylevel=None, colsample_bynode=None,\n",
              "              colsample_bytree=None, device=None, early_stopping_rounds=None,\n",
              "              enable_categorical=False, eval_metric=None, feature_types=None,\n",
              "              gamma=None, grow_policy=None, importance_type=None,\n",
              "              interaction_constraints=None, learning_rate=None, max_bin=None,\n",
              "              max_cat_threshold=None, max_cat_to_onehot=None,\n",
              "              max_delta_step=None, max_depth=None, max_leaves=None,\n",
              "              min_child_weight=None, missing=nan, monotone_constraints=None,\n",
              "              multi_strategy=None, n_estimators=100, n_jobs=None,\n",
              "              num_parallel_tree=None, random_state=0, ...)</pre></div></div></div></div></div>"
            ],
            "text/plain": [
              "XGBClassifier(base_score=None, booster=None, callbacks=None,\n",
              "              colsample_bylevel=None, colsample_bynode=None,\n",
              "              colsample_bytree=None, device=None, early_stopping_rounds=None,\n",
              "              enable_categorical=False, eval_metric=None, feature_types=None,\n",
              "              gamma=None, grow_policy=None, importance_type=None,\n",
              "              interaction_constraints=None, learning_rate=None, max_bin=None,\n",
              "              max_cat_threshold=None, max_cat_to_onehot=None,\n",
              "              max_delta_step=None, max_depth=None, max_leaves=None,\n",
              "              min_child_weight=None, missing=nan, monotone_constraints=None,\n",
              "              multi_strategy=None, n_estimators=100, n_jobs=None,\n",
              "              num_parallel_tree=None, random_state=0, ...)"
            ]
          },
          "execution_count": 15,
          "metadata": {},
          "output_type": "execute_result"
        }
      ],
      "source": [
        "#Creo el modelo y lo entreno\n",
        "\n",
        "import xgboost as xgb\n",
        "\n",
        "#Por defecto, el XGBoost se construye con la función objetivo: binary:logistic, que sirve para problemas de clasificación.\n",
        "xgb_model = xgb.XGBClassifier(random_state=0, n_estimators=100)\n",
        "xgb_model.fit(x_train, y_train)"
      ]
    },
    {
      "cell_type": "markdown",
      "metadata": {
        "id": "Hr79Sv6RVhFg"
      },
      "source": [
        "#### Evaluamos sus métricas"
      ]
    },
    {
      "cell_type": "markdown",
      "metadata": {
        "id": "3mU2w5YyWhR1"
      },
      "source": [
        "##### Evaluamos con el x_test (del train_test_split)"
      ]
    },
    {
      "cell_type": "code",
      "execution_count": null,
      "metadata": {
        "colab": {
          "base_uri": "https://localhost:8080/",
          "height": 623
        },
        "id": "xntqjHY6ky-i",
        "outputId": "259e01d0-3734-490f-f143-215fb55ef2c2"
      },
      "outputs": [
        {
          "name": "stdout",
          "output_type": "stream",
          "text": [
            "AUC: 0.9227561835907009\n",
            "              precision    recall  f1-score   support\n",
            "\n",
            "           0       0.83      0.86      0.84      9292\n",
            "           1       0.85      0.82      0.84      9281\n",
            "\n",
            "    accuracy                           0.84     18573\n",
            "   macro avg       0.84      0.84      0.84     18573\n",
            "weighted avg       0.84      0.84      0.84     18573\n",
            "\n"
          ]
        },
        {
          "data": {
            "image/png": "[encoded data removed]",
            "text/plain": [
              "<Figure size 640x480 with 2 Axes>"
            ]
          },
          "metadata": {},
          "output_type": "display_data"
        }
      ],
      "source": [
        "from sklearn.metrics import f1_score\n",
        "\n",
        "#Evaluo en el set de test\n",
        "y_pred_proba= xgb_model.predict_proba(x_test)[:, 1]\n",
        "print('AUC:',roc_auc_score(y_test, y_pred_proba))\n",
        "\n",
        "#Matriz de Confusion\n",
        "\n",
        "y_pred=xgb_model.predict(x_test)\n",
        "\n",
        "cm = confusion_matrix(y_test,y_pred)\n",
        "sns.heatmap(cm, cmap='Blues',annot=True,fmt='g')\n",
        "plt.xlabel('Predicted')\n",
        "plt.ylabel('True')\n",
        "\n",
        "#Reporte\n",
        "print(classification_report(y_test,y_pred))"
      ]
    },
    {
      "cell_type": "markdown",
      "metadata": {
        "id": "YMLaX_oSW10-"
      },
      "source": [
        "##### Hacemos cross validation al DMatrix con learning_rate = 0.1"
      ]
    },
    {
      "cell_type": "code",
      "execution_count": null,
      "metadata": {
        "colab": {
          "base_uri": "https://localhost:8080/",
          "height": 300
        },
        "id": "5SoDilf1lTUx",
        "outputId": "eb3fa465-4031-486f-d3b9-489222a2b805"
      },
      "outputs": [
        {
          "data": {
            "text/html": [
              "\n",
              "  <div id=\"df-8c7dade5-7c75-419c-8d86-89ae26eaa183\" class=\"colab-df-container\">\n",
              "    <div>\n",
              "<style scoped>\n",
              "    .dataframe tbody tr th:only-of-type {\n",
              "        vertical-align: middle;\n",
              "    }\n",
              "\n",
              "    .dataframe tbody tr th {\n",
              "        vertical-align: top;\n",
              "    }\n",
              "\n",
              "    .dataframe thead th {\n",
              "        text-align: right;\n",
              "    }\n",
              "</style>\n",
              "<table border=\"1\" class=\"dataframe\">\n",
              "  <thead>\n",
              "    <tr style=\"text-align: right;\">\n",
              "      <th></th>\n",
              "      <th>train-auc-mean</th>\n",
              "      <th>train-auc-std</th>\n",
              "      <th>test-auc-mean</th>\n",
              "      <th>test-auc-std</th>\n",
              "    </tr>\n",
              "  </thead>\n",
              "  <tbody>\n",
              "    <tr>\n",
              "      <th>0</th>\n",
              "      <td>0.856060</td>\n",
              "      <td>0.000187</td>\n",
              "      <td>0.854612</td>\n",
              "      <td>0.000961</td>\n",
              "    </tr>\n",
              "    <tr>\n",
              "      <th>1</th>\n",
              "      <td>0.860849</td>\n",
              "      <td>0.000203</td>\n",
              "      <td>0.859663</td>\n",
              "      <td>0.001161</td>\n",
              "    </tr>\n",
              "    <tr>\n",
              "      <th>2</th>\n",
              "      <td>0.862538</td>\n",
              "      <td>0.001290</td>\n",
              "      <td>0.860980</td>\n",
              "      <td>0.001834</td>\n",
              "    </tr>\n",
              "    <tr>\n",
              "      <th>3</th>\n",
              "      <td>0.863851</td>\n",
              "      <td>0.000760</td>\n",
              "      <td>0.862196</td>\n",
              "      <td>0.001348</td>\n",
              "    </tr>\n",
              "    <tr>\n",
              "      <th>4</th>\n",
              "      <td>0.866734</td>\n",
              "      <td>0.000522</td>\n",
              "      <td>0.864651</td>\n",
              "      <td>0.001123</td>\n",
              "    </tr>\n",
              "    <tr>\n",
              "      <th>5</th>\n",
              "      <td>0.868185</td>\n",
              "      <td>0.000836</td>\n",
              "      <td>0.865918</td>\n",
              "      <td>0.000999</td>\n",
              "    </tr>\n",
              "    <tr>\n",
              "      <th>6</th>\n",
              "      <td>0.869541</td>\n",
              "      <td>0.001056</td>\n",
              "      <td>0.867260</td>\n",
              "      <td>0.001459</td>\n",
              "    </tr>\n",
              "    <tr>\n",
              "      <th>7</th>\n",
              "      <td>0.871861</td>\n",
              "      <td>0.000662</td>\n",
              "      <td>0.869283</td>\n",
              "      <td>0.001004</td>\n",
              "    </tr>\n",
              "  </tbody>\n",
              "</table>\n",
              "</div>\n",
              "    <div class=\"colab-df-buttons\">\n",
              "\n",
              "  <div class=\"colab-df-container\">\n",
              "    <button class=\"colab-df-convert\" onclick=\"convertToInteractive('df-8c7dade5-7c75-419c-8d86-89ae26eaa183')\"\n",
              "            title=\"Convert this dataframe to an interactive table.\"\n",
              "            style=\"display:none;\">\n",
              "\n",
              "  <svg xmlns=\"http://www.w3.org/2000/svg\" height=\"24px\" viewBox=\"0 -960 960 960\">\n",
              "    <path d=\"M120-120v-720h720v720H120Zm60-500h600v-160H180v160Zm220 220h160v-160H400v160Zm0 220h160v-160H400v160ZM180-400h160v-160H180v160Zm440 0h160v-160H620v160ZM180-180h160v-160H180v160Zm440 0h160v-160H620v160Z\"/>\n",
              "  </svg>\n",
              "    </button>\n",
              "\n",
              "  <style>\n",
              "    .colab-df-container {\n",
              "      display:flex;\n",
              "      gap: 12px;\n",
              "    }\n",
              "\n",
              "    .colab-df-convert {\n",
              "      background-color: #E8F0FE;\n",
              "      border: none;\n",
              "      border-radius: 50%;\n",
              "      cursor: pointer;\n",
              "      display: none;\n",
              "      fill: #1967D2;\n",
              "      height: 32px;\n",
              "      padding: 0 0 0 0;\n",
              "      width: 32px;\n",
              "    }\n",
              "\n",
              "    .colab-df-convert:hover {\n",
              "      background-color: #E2EBFA;\n",
              "      box-shadow: 0px 1px 2px rgba(60, 64, 67, 0.3), 0px 1px 3px 1px rgba(60, 64, 67, 0.15);\n",
              "      fill: #174EA6;\n",
              "    }\n",
              "\n",
              "    .colab-df-buttons div {\n",
              "      margin-bottom: 4px;\n",
              "    }\n",
              "\n",
              "    [theme=dark] .colab-df-convert {\n",
              "      background-color: #3B4455;\n",
              "      fill: #D2E3FC;\n",
              "    }\n",
              "\n",
              "    [theme=dark] .colab-df-convert:hover {\n",
              "      background-color: #434B5C;\n",
              "      box-shadow: 0px 1px 3px 1px rgba(0, 0, 0, 0.15);\n",
              "      filter: drop-shadow(0px 1px 2px rgba(0, 0, 0, 0.3));\n",
              "      fill: #FFFFFF;\n",
              "    }\n",
              "  </style>\n",
              "\n",
              "    <script>\n",
              "      const buttonEl =\n",
              "        document.querySelector('#df-8c7dade5-7c75-419c-8d86-89ae26eaa183 button.colab-df-convert');\n",
              "      buttonEl.style.display =\n",
              "        google.colab.kernel.accessAllowed ? 'block' : 'none';\n",
              "\n",
              "      async function convertToInteractive(key) {\n",
              "        const element = document.querySelector('#df-8c7dade5-7c75-419c-8d86-89ae26eaa183');\n",
              "        const dataTable =\n",
              "          await google.colab.kernel.invokeFunction('convertToInteractive',\n",
              "                                                    [key], {});\n",
              "        if (!dataTable) return;\n",
              "\n",
              "        const docLinkHtml = 'Like what you see? Visit the ' +\n",
              "          '<a target=\"_blank\" href=https://colab.research.google.com/notebooks/data_table.ipynb>data table notebook</a>'\n",
              "          + ' to learn more about interactive tables.';\n",
              "        element.innerHTML = '';\n",
              "        dataTable['output_type'] = 'display_data';\n",
              "        await google.colab.output.renderOutput(dataTable, element);\n",
              "        const docLink = document.createElement('div');\n",
              "        docLink.innerHTML = docLinkHtml;\n",
              "        element.appendChild(docLink);\n",
              "      }\n",
              "    </script>\n",
              "  </div>\n",
              "\n",
              "\n",
              "<div id=\"df-1bd46fa9-2a8f-4262-9681-0214f9f4138a\">\n",
              "  <button class=\"colab-df-quickchart\" onclick=\"quickchart('df-1bd46fa9-2a8f-4262-9681-0214f9f4138a')\"\n",
              "            title=\"Suggest charts.\"\n",
              "            style=\"display:none;\">\n",
              "\n",
              "<svg xmlns=\"http://www.w3.org/2000/svg\" height=\"24px\"viewBox=\"0 0 24 24\"\n",
              "     width=\"24px\">\n",
              "    <g>\n",
              "        <path d=\"M19 3H5c-1.1 0-2 .9-2 2v14c0 1.1.9 2 2 2h14c1.1 0 2-.9 2-2V5c0-1.1-.9-2-2-2zM9 17H7v-7h2v7zm4 0h-2V7h2v10zm4 0h-2v-4h2v4z\"/>\n",
              "    </g>\n",
              "</svg>\n",
              "  </button>\n",
              "\n",
              "<style>\n",
              "  .colab-df-quickchart {\n",
              "      --bg-color: #E8F0FE;\n",
              "      --fill-color: #1967D2;\n",
              "      --hover-bg-color: #E2EBFA;\n",
              "      --hover-fill-color: #174EA6;\n",
              "      --disabled-fill-color: #AAA;\n",
              "      --disabled-bg-color: #DDD;\n",
              "  }\n",
              "\n",
              "  [theme=dark] .colab-df-quickchart {\n",
              "      --bg-color: #3B4455;\n",
              "      --fill-color: #D2E3FC;\n",
              "      --hover-bg-color: #434B5C;\n",
              "      --hover-fill-color: #FFFFFF;\n",
              "      --disabled-bg-color: #3B4455;\n",
              "      --disabled-fill-color: #666;\n",
              "  }\n",
              "\n",
              "  .colab-df-quickchart {\n",
              "    background-color: var(--bg-color);\n",
              "    border: none;\n",
              "    border-radius: 50%;\n",
              "    cursor: pointer;\n",
              "    display: none;\n",
              "    fill: var(--fill-color);\n",
              "    height: 32px;\n",
              "    padding: 0;\n",
              "    width: 32px;\n",
              "  }\n",
              "\n",
              "  .colab-df-quickchart:hover {\n",
              "    background-color: var(--hover-bg-color);\n",
              "    box-shadow: 0 1px 2px rgba(60, 64, 67, 0.3), 0 1px 3px 1px rgba(60, 64, 67, 0.15);\n",
              "    fill: var(--button-hover-fill-color);\n",
              "  }\n",
              "\n",
              "  .colab-df-quickchart-complete:disabled,\n",
              "  .colab-df-quickchart-complete:disabled:hover {\n",
              "    background-color: var(--disabled-bg-color);\n",
              "    fill: var(--disabled-fill-color);\n",
              "    box-shadow: none;\n",
              "  }\n",
              "\n",
              "  .colab-df-spinner {\n",
              "    border: 2px solid var(--fill-color);\n",
              "    border-color: transparent;\n",
              "    border-bottom-color: var(--fill-color);\n",
              "    animation:\n",
              "      spin 1s steps(1) infinite;\n",
              "  }\n",
              "\n",
              "  @keyframes spin {\n",
              "    0% {\n",
              "      border-color: transparent;\n",
              "      border-bottom-color: var(--fill-color);\n",
              "      border-left-color: var(--fill-color);\n",
              "    }\n",
              "    20% {\n",
              "      border-color: transparent;\n",
              "      border-left-color: var(--fill-color);\n",
              "      border-top-color: var(--fill-color);\n",
              "    }\n",
              "    30% {\n",
              "      border-color: transparent;\n",
              "      border-left-color: var(--fill-color);\n",
              "      border-top-color: var(--fill-color);\n",
              "      border-right-color: var(--fill-color);\n",
              "    }\n",
              "    40% {\n",
              "      border-color: transparent;\n",
              "      border-right-color: var(--fill-color);\n",
              "      border-top-color: var(--fill-color);\n",
              "    }\n",
              "    60% {\n",
              "      border-color: transparent;\n",
              "      border-right-color: var(--fill-color);\n",
              "    }\n",
              "    80% {\n",
              "      border-color: transparent;\n",
              "      border-right-color: var(--fill-color);\n",
              "      border-bottom-color: var(--fill-color);\n",
              "    }\n",
              "    90% {\n",
              "      border-color: transparent;\n",
              "      border-bottom-color: var(--fill-color);\n",
              "    }\n",
              "  }\n",
              "</style>\n",
              "\n",
              "  <script>\n",
              "    async function quickchart(key) {\n",
              "      const quickchartButtonEl =\n",
              "        document.querySelector('#' + key + ' button');\n",
              "      quickchartButtonEl.disabled = true;  // To prevent multiple clicks.\n",
              "      quickchartButtonEl.classList.add('colab-df-spinner');\n",
              "      try {\n",
              "        const charts = await google.colab.kernel.invokeFunction(\n",
              "            'suggestCharts', [key], {});\n",
              "      } catch (error) {\n",
              "        console.error('Error during call to suggestCharts:', error);\n",
              "      }\n",
              "      quickchartButtonEl.classList.remove('colab-df-spinner');\n",
              "      quickchartButtonEl.classList.add('colab-df-quickchart-complete');\n",
              "    }\n",
              "    (() => {\n",
              "      let quickchartButtonEl =\n",
              "        document.querySelector('#df-1bd46fa9-2a8f-4262-9681-0214f9f4138a button');\n",
              "      quickchartButtonEl.style.display =\n",
              "        google.colab.kernel.accessAllowed ? 'block' : 'none';\n",
              "    })();\n",
              "  </script>\n",
              "</div>\n",
              "    </div>\n",
              "  </div>\n"
            ],
            "text/plain": [
              "   train-auc-mean  train-auc-std  test-auc-mean  test-auc-std\n",
              "0        0.856060       0.000187       0.854612      0.000961\n",
              "1        0.860849       0.000203       0.859663      0.001161\n",
              "2        0.862538       0.001290       0.860980      0.001834\n",
              "3        0.863851       0.000760       0.862196      0.001348\n",
              "4        0.866734       0.000522       0.864651      0.001123\n",
              "5        0.868185       0.000836       0.865918      0.000999\n",
              "6        0.869541       0.001056       0.867260      0.001459\n",
              "7        0.871861       0.000662       0.869283      0.001004"
            ]
          },
          "execution_count": 16,
          "metadata": {},
          "output_type": "execute_result"
        }
      ],
      "source": [
        "#Datos de entrenamiento en formaro DMatrix\n",
        "data_dmatrix = xgb.DMatrix(data=x_train, label=y_train)\n",
        "\n",
        "#Entreno CV para probar el learning rate\n",
        "results=xgb.cv(dtrain=data_dmatrix,nfold=5,params={'learning_rate':0.1},num_boost_round=8,metrics='auc')\n",
        "results"
      ]
    },
    {
      "cell_type": "markdown",
      "metadata": {
        "id": "9lR75mfqXVTk"
      },
      "source": [
        "##### Hacemos cross validation al DMatrix con learning_rate = 0.3"
      ]
    },
    {
      "cell_type": "code",
      "execution_count": null,
      "metadata": {
        "colab": {
          "base_uri": "https://localhost:8080/",
          "height": 551
        },
        "id": "p1hxsAAflagi",
        "outputId": "a4fc38ad-8d41-4a41-e933-9c7c103706fb"
      },
      "outputs": [
        {
          "data": {
            "text/html": [
              "\n",
              "  <div id=\"df-1b08fd7b-9c21-49d6-8c19-2ca98a7ef803\" class=\"colab-df-container\">\n",
              "    <div>\n",
              "<style scoped>\n",
              "    .dataframe tbody tr th:only-of-type {\n",
              "        vertical-align: middle;\n",
              "    }\n",
              "\n",
              "    .dataframe tbody tr th {\n",
              "        vertical-align: top;\n",
              "    }\n",
              "\n",
              "    .dataframe thead th {\n",
              "        text-align: right;\n",
              "    }\n",
              "</style>\n",
              "<table border=\"1\" class=\"dataframe\">\n",
              "  <thead>\n",
              "    <tr style=\"text-align: right;\">\n",
              "      <th></th>\n",
              "      <th>train-auc-mean</th>\n",
              "      <th>train-auc-std</th>\n",
              "      <th>test-auc-mean</th>\n",
              "      <th>test-auc-std</th>\n",
              "    </tr>\n",
              "  </thead>\n",
              "  <tbody>\n",
              "    <tr>\n",
              "      <th>0</th>\n",
              "      <td>0.855831</td>\n",
              "      <td>0.000360</td>\n",
              "      <td>0.853928</td>\n",
              "      <td>0.006004</td>\n",
              "    </tr>\n",
              "    <tr>\n",
              "      <th>1</th>\n",
              "      <td>0.864950</td>\n",
              "      <td>0.000771</td>\n",
              "      <td>0.863033</td>\n",
              "      <td>0.005614</td>\n",
              "    </tr>\n",
              "    <tr>\n",
              "      <th>2</th>\n",
              "      <td>0.870531</td>\n",
              "      <td>0.001085</td>\n",
              "      <td>0.867910</td>\n",
              "      <td>0.005495</td>\n",
              "    </tr>\n",
              "    <tr>\n",
              "      <th>3</th>\n",
              "      <td>0.875703</td>\n",
              "      <td>0.002199</td>\n",
              "      <td>0.872670</td>\n",
              "      <td>0.005176</td>\n",
              "    </tr>\n",
              "    <tr>\n",
              "      <th>4</th>\n",
              "      <td>0.880293</td>\n",
              "      <td>0.001295</td>\n",
              "      <td>0.877168</td>\n",
              "      <td>0.005173</td>\n",
              "    </tr>\n",
              "    <tr>\n",
              "      <th>5</th>\n",
              "      <td>0.883949</td>\n",
              "      <td>0.001198</td>\n",
              "      <td>0.880468</td>\n",
              "      <td>0.005383</td>\n",
              "    </tr>\n",
              "    <tr>\n",
              "      <th>6</th>\n",
              "      <td>0.887901</td>\n",
              "      <td>0.001368</td>\n",
              "      <td>0.883494</td>\n",
              "      <td>0.005127</td>\n",
              "    </tr>\n",
              "    <tr>\n",
              "      <th>7</th>\n",
              "      <td>0.891342</td>\n",
              "      <td>0.001468</td>\n",
              "      <td>0.886484</td>\n",
              "      <td>0.005208</td>\n",
              "    </tr>\n",
              "    <tr>\n",
              "      <th>8</th>\n",
              "      <td>0.894798</td>\n",
              "      <td>0.001163</td>\n",
              "      <td>0.888902</td>\n",
              "      <td>0.005446</td>\n",
              "    </tr>\n",
              "    <tr>\n",
              "      <th>9</th>\n",
              "      <td>0.897690</td>\n",
              "      <td>0.001432</td>\n",
              "      <td>0.891207</td>\n",
              "      <td>0.005271</td>\n",
              "    </tr>\n",
              "    <tr>\n",
              "      <th>10</th>\n",
              "      <td>0.899708</td>\n",
              "      <td>0.001726</td>\n",
              "      <td>0.892756</td>\n",
              "      <td>0.005200</td>\n",
              "    </tr>\n",
              "    <tr>\n",
              "      <th>11</th>\n",
              "      <td>0.902032</td>\n",
              "      <td>0.001646</td>\n",
              "      <td>0.894426</td>\n",
              "      <td>0.004928</td>\n",
              "    </tr>\n",
              "    <tr>\n",
              "      <th>12</th>\n",
              "      <td>0.904393</td>\n",
              "      <td>0.001319</td>\n",
              "      <td>0.896255</td>\n",
              "      <td>0.004780</td>\n",
              "    </tr>\n",
              "    <tr>\n",
              "      <th>13</th>\n",
              "      <td>0.905605</td>\n",
              "      <td>0.001268</td>\n",
              "      <td>0.896957</td>\n",
              "      <td>0.004880</td>\n",
              "    </tr>\n",
              "    <tr>\n",
              "      <th>14</th>\n",
              "      <td>0.906944</td>\n",
              "      <td>0.001287</td>\n",
              "      <td>0.897978</td>\n",
              "      <td>0.005223</td>\n",
              "    </tr>\n",
              "    <tr>\n",
              "      <th>15</th>\n",
              "      <td>0.908323</td>\n",
              "      <td>0.001315</td>\n",
              "      <td>0.898885</td>\n",
              "      <td>0.005249</td>\n",
              "    </tr>\n",
              "  </tbody>\n",
              "</table>\n",
              "</div>\n",
              "    <div class=\"colab-df-buttons\">\n",
              "\n",
              "  <div class=\"colab-df-container\">\n",
              "    <button class=\"colab-df-convert\" onclick=\"convertToInteractive('df-1b08fd7b-9c21-49d6-8c19-2ca98a7ef803')\"\n",
              "            title=\"Convert this dataframe to an interactive table.\"\n",
              "            style=\"display:none;\">\n",
              "\n",
              "  <svg xmlns=\"http://www.w3.org/2000/svg\" height=\"24px\" viewBox=\"0 -960 960 960\">\n",
              "    <path d=\"M120-120v-720h720v720H120Zm60-500h600v-160H180v160Zm220 220h160v-160H400v160Zm0 220h160v-160H400v160ZM180-400h160v-160H180v160Zm440 0h160v-160H620v160ZM180-180h160v-160H180v160Zm440 0h160v-160H620v160Z\"/>\n",
              "  </svg>\n",
              "    </button>\n",
              "\n",
              "  <style>\n",
              "    .colab-df-container {\n",
              "      display:flex;\n",
              "      gap: 12px;\n",
              "    }\n",
              "\n",
              "    .colab-df-convert {\n",
              "      background-color: #E8F0FE;\n",
              "      border: none;\n",
              "      border-radius: 50%;\n",
              "      cursor: pointer;\n",
              "      display: none;\n",
              "      fill: #1967D2;\n",
              "      height: 32px;\n",
              "      padding: 0 0 0 0;\n",
              "      width: 32px;\n",
              "    }\n",
              "\n",
              "    .colab-df-convert:hover {\n",
              "      background-color: #E2EBFA;\n",
              "      box-shadow: 0px 1px 2px rgba(60, 64, 67, 0.3), 0px 1px 3px 1px rgba(60, 64, 67, 0.15);\n",
              "      fill: #174EA6;\n",
              "    }\n",
              "\n",
              "    .colab-df-buttons div {\n",
              "      margin-bottom: 4px;\n",
              "    }\n",
              "\n",
              "    [theme=dark] .colab-df-convert {\n",
              "      background-color: #3B4455;\n",
              "      fill: #D2E3FC;\n",
              "    }\n",
              "\n",
              "    [theme=dark] .colab-df-convert:hover {\n",
              "      background-color: #434B5C;\n",
              "      box-shadow: 0px 1px 3px 1px rgba(0, 0, 0, 0.15);\n",
              "      filter: drop-shadow(0px 1px 2px rgba(0, 0, 0, 0.3));\n",
              "      fill: #FFFFFF;\n",
              "    }\n",
              "  </style>\n",
              "\n",
              "    <script>\n",
              "      const buttonEl =\n",
              "        document.querySelector('#df-1b08fd7b-9c21-49d6-8c19-2ca98a7ef803 button.colab-df-convert');\n",
              "      buttonEl.style.display =\n",
              "        google.colab.kernel.accessAllowed ? 'block' : 'none';\n",
              "\n",
              "      async function convertToInteractive(key) {\n",
              "        const element = document.querySelector('#df-1b08fd7b-9c21-49d6-8c19-2ca98a7ef803');\n",
              "        const dataTable =\n",
              "          await google.colab.kernel.invokeFunction('convertToInteractive',\n",
              "                                                    [key], {});\n",
              "        if (!dataTable) return;\n",
              "\n",
              "        const docLinkHtml = 'Like what you see? Visit the ' +\n",
              "          '<a target=\"_blank\" href=https://colab.research.google.com/notebooks/data_table.ipynb>data table notebook</a>'\n",
              "          + ' to learn more about interactive tables.';\n",
              "        element.innerHTML = '';\n",
              "        dataTable['output_type'] = 'display_data';\n",
              "        await google.colab.output.renderOutput(dataTable, element);\n",
              "        const docLink = document.createElement('div');\n",
              "        docLink.innerHTML = docLinkHtml;\n",
              "        element.appendChild(docLink);\n",
              "      }\n",
              "    </script>\n",
              "  </div>\n",
              "\n",
              "\n",
              "<div id=\"df-fe110743-422c-45fc-8de3-576edd4b5364\">\n",
              "  <button class=\"colab-df-quickchart\" onclick=\"quickchart('df-fe110743-422c-45fc-8de3-576edd4b5364')\"\n",
              "            title=\"Suggest charts.\"\n",
              "            style=\"display:none;\">\n",
              "\n",
              "<svg xmlns=\"http://www.w3.org/2000/svg\" height=\"24px\"viewBox=\"0 0 24 24\"\n",
              "     width=\"24px\">\n",
              "    <g>\n",
              "        <path d=\"M19 3H5c-1.1 0-2 .9-2 2v14c0 1.1.9 2 2 2h14c1.1 0 2-.9 2-2V5c0-1.1-.9-2-2-2zM9 17H7v-7h2v7zm4 0h-2V7h2v10zm4 0h-2v-4h2v4z\"/>\n",
              "    </g>\n",
              "</svg>\n",
              "  </button>\n",
              "\n",
              "<style>\n",
              "  .colab-df-quickchart {\n",
              "      --bg-color: #E8F0FE;\n",
              "      --fill-color: #1967D2;\n",
              "      --hover-bg-color: #E2EBFA;\n",
              "      --hover-fill-color: #174EA6;\n",
              "      --disabled-fill-color: #AAA;\n",
              "      --disabled-bg-color: #DDD;\n",
              "  }\n",
              "\n",
              "  [theme=dark] .colab-df-quickchart {\n",
              "      --bg-color: #3B4455;\n",
              "      --fill-color: #D2E3FC;\n",
              "      --hover-bg-color: #434B5C;\n",
              "      --hover-fill-color: #FFFFFF;\n",
              "      --disabled-bg-color: #3B4455;\n",
              "      --disabled-fill-color: #666;\n",
              "  }\n",
              "\n",
              "  .colab-df-quickchart {\n",
              "    background-color: var(--bg-color);\n",
              "    border: none;\n",
              "    border-radius: 50%;\n",
              "    cursor: pointer;\n",
              "    display: none;\n",
              "    fill: var(--fill-color);\n",
              "    height: 32px;\n",
              "    padding: 0;\n",
              "    width: 32px;\n",
              "  }\n",
              "\n",
              "  .colab-df-quickchart:hover {\n",
              "    background-color: var(--hover-bg-color);\n",
              "    box-shadow: 0 1px 2px rgba(60, 64, 67, 0.3), 0 1px 3px 1px rgba(60, 64, 67, 0.15);\n",
              "    fill: var(--button-hover-fill-color);\n",
              "  }\n",
              "\n",
              "  .colab-df-quickchart-complete:disabled,\n",
              "  .colab-df-quickchart-complete:disabled:hover {\n",
              "    background-color: var(--disabled-bg-color);\n",
              "    fill: var(--disabled-fill-color);\n",
              "    box-shadow: none;\n",
              "  }\n",
              "\n",
              "  .colab-df-spinner {\n",
              "    border: 2px solid var(--fill-color);\n",
              "    border-color: transparent;\n",
              "    border-bottom-color: var(--fill-color);\n",
              "    animation:\n",
              "      spin 1s steps(1) infinite;\n",
              "  }\n",
              "\n",
              "  @keyframes spin {\n",
              "    0% {\n",
              "      border-color: transparent;\n",
              "      border-bottom-color: var(--fill-color);\n",
              "      border-left-color: var(--fill-color);\n",
              "    }\n",
              "    20% {\n",
              "      border-color: transparent;\n",
              "      border-left-color: var(--fill-color);\n",
              "      border-top-color: var(--fill-color);\n",
              "    }\n",
              "    30% {\n",
              "      border-color: transparent;\n",
              "      border-left-color: var(--fill-color);\n",
              "      border-top-color: var(--fill-color);\n",
              "      border-right-color: var(--fill-color);\n",
              "    }\n",
              "    40% {\n",
              "      border-color: transparent;\n",
              "      border-right-color: var(--fill-color);\n",
              "      border-top-color: var(--fill-color);\n",
              "    }\n",
              "    60% {\n",
              "      border-color: transparent;\n",
              "      border-right-color: var(--fill-color);\n",
              "    }\n",
              "    80% {\n",
              "      border-color: transparent;\n",
              "      border-right-color: var(--fill-color);\n",
              "      border-bottom-color: var(--fill-color);\n",
              "    }\n",
              "    90% {\n",
              "      border-color: transparent;\n",
              "      border-bottom-color: var(--fill-color);\n",
              "    }\n",
              "  }\n",
              "</style>\n",
              "\n",
              "  <script>\n",
              "    async function quickchart(key) {\n",
              "      const quickchartButtonEl =\n",
              "        document.querySelector('#' + key + ' button');\n",
              "      quickchartButtonEl.disabled = true;  // To prevent multiple clicks.\n",
              "      quickchartButtonEl.classList.add('colab-df-spinner');\n",
              "      try {\n",
              "        const charts = await google.colab.kernel.invokeFunction(\n",
              "            'suggestCharts', [key], {});\n",
              "      } catch (error) {\n",
              "        console.error('Error during call to suggestCharts:', error);\n",
              "      }\n",
              "      quickchartButtonEl.classList.remove('colab-df-spinner');\n",
              "      quickchartButtonEl.classList.add('colab-df-quickchart-complete');\n",
              "    }\n",
              "    (() => {\n",
              "      let quickchartButtonEl =\n",
              "        document.querySelector('#df-fe110743-422c-45fc-8de3-576edd4b5364 button');\n",
              "      quickchartButtonEl.style.display =\n",
              "        google.colab.kernel.accessAllowed ? 'block' : 'none';\n",
              "    })();\n",
              "  </script>\n",
              "</div>\n",
              "    </div>\n",
              "  </div>\n"
            ],
            "text/plain": [
              "    train-auc-mean  train-auc-std  test-auc-mean  test-auc-std\n",
              "0         0.855831       0.000360       0.853928      0.006004\n",
              "1         0.864950       0.000771       0.863033      0.005614\n",
              "2         0.870531       0.001085       0.867910      0.005495\n",
              "3         0.875703       0.002199       0.872670      0.005176\n",
              "4         0.880293       0.001295       0.877168      0.005173\n",
              "5         0.883949       0.001198       0.880468      0.005383\n",
              "6         0.887901       0.001368       0.883494      0.005127\n",
              "7         0.891342       0.001468       0.886484      0.005208\n",
              "8         0.894798       0.001163       0.888902      0.005446\n",
              "9         0.897690       0.001432       0.891207      0.005271\n",
              "10        0.899708       0.001726       0.892756      0.005200\n",
              "11        0.902032       0.001646       0.894426      0.004928\n",
              "12        0.904393       0.001319       0.896255      0.004780\n",
              "13        0.905605       0.001268       0.896957      0.004880\n",
              "14        0.906944       0.001287       0.897978      0.005223\n",
              "15        0.908323       0.001315       0.898885      0.005249"
            ]
          },
          "execution_count": 27,
          "metadata": {},
          "output_type": "execute_result"
        }
      ],
      "source": [
        "#Entreno CV para probar el learning rate mas alto\n",
        "results=xgb.cv(dtrain=data_dmatrix,nfold=20,params={'learning_rate':0.3},num_boost_round=16,metrics='auc',seed=99,stratified=True)\n",
        "results"
      ]
    },
    {
      "cell_type": "markdown",
      "metadata": {
        "id": "L6lVcp0ebzJS"
      },
      "source": [
        "### Voy a optimizar los hiperparámetros del XGBoost"
      ]
    },
    {
      "cell_type": "code",
      "source": [
        "import xgboost as xgb\n",
        "from sklearn.model_selection import RandomizedSearchCV\n",
        "from scipy.stats import uniform, randint"
      ],
      "metadata": {
        "id": "bXiLmxLWf60U"
      },
      "execution_count": null,
      "outputs": []
    },
    {
      "cell_type": "code",
      "execution_count": null,
      "metadata": {
        "colab": {
          "base_uri": "https://localhost:8080/"
        },
        "id": "Lkl2HCCHb56y",
        "outputId": "512599a8-3341-42dc-b4e7-9e91e4f4d208"
      },
      "outputs": [
        {
          "name": "stdout",
          "output_type": "stream",
          "text": [
            "Mejores hiperparámetros del XGBoost: {'alpha': 0.29007760721044407, 'colsample_bytree': 0.8090077144994208, 'gamma': 0.42876870094576613, 'lambda': 0.13547406422245023, 'learning_rate': 0.29828232595603077, 'max_depth': 8, 'n_estimators': 179, 'subsample': 0.7871626244247893}\n"
          ]
        }
      ],
      "source": [
        "import xgboost as xgb\n",
        "from sklearn.model_selection import RandomizedSearchCV\n",
        "from scipy.stats import uniform, randint\n",
        "\n",
        "# Creo una instancia de XGBoost con la función objetivo diseñada para problemas de clasificacion (binary:logistic)\n",
        "xgb_model = xgb.XGBClassifier(objective='binary:logistic', random_state=0)\n",
        "\n",
        "# Defino la grilla de hiperparámetros y sus rangos\n",
        "param_dist = {\n",
        "    'learning_rate': uniform(0, 1),\n",
        "    'max_depth': randint(3, 10),\n",
        "    'subsample': uniform(0.5, 0.5),\n",
        "    'colsample_bytree': uniform(0.5, 0.5),\n",
        "    'gamma': uniform(0, 1),\n",
        "    'alpha': uniform(0, 1),\n",
        "    'lambda': uniform(0, 1),\n",
        "    'n_estimators': randint(50, 200)  # Rango de n_estimators de 50 a 200\n",
        "}\n",
        "\n",
        "# Busca el mejor modelo de XGBoost con RandomizedSearchCV\n",
        "random_search = RandomizedSearchCV(\n",
        "    estimator=xgb_model,\n",
        "    param_distributions=param_dist,\n",
        "    n_iter=50, ## <--- Prueba 50 combinaciones aleatorias.\n",
        "    scoring='f1',\n",
        "    cv=20, ## <-- Prueba con 20 splits para el cross validation\n",
        "    random_state=0\n",
        ")\n",
        "\n",
        "# Realiza la búsqueda aleatoria de hiperparámetros\n",
        "random_search.fit(ds_hoteles_train_x, ds_hoteles_train_y)\n",
        "\n",
        "# Obtiene el mejor modelo y los mejores hiperparámetros\n",
        "best_xgb_model = random_search.best_estimator_\n",
        "best_params = random_search.best_params_\n",
        "\n",
        "print(\"Mejores hiperparámetros del XGBoost:\", best_params)"
      ]
    },
    {
      "cell_type": "markdown",
      "metadata": {
        "id": "q6cXI8YUu9hm"
      },
      "source": [
        "En la primer ejecución de este código, tira los hiperparámetros:\n",
        "\n",
        "Mejores hiperparámetros del XGBoost:\n",
        "\n",
        "{'alpha': 0.29007760721044407, 'colsample_bytree': 0.8090077144994208, 'gamma': 0.42876870094576613, 'lambda': 0.13547406422245023, 'learning_rate': 0.29828232595603077, 'max_depth': 8, 'n_estimators': 179, 'subsample': 0.7871626244247893}\n"
      ]
    },
    {
      "cell_type": "markdown",
      "metadata": {
        "id": "RgJVLac5ckAo"
      },
      "source": [
        "#### Evalúo mi mejor modelo"
      ]
    },
    {
      "cell_type": "code",
      "execution_count": null,
      "metadata": {
        "colab": {
          "base_uri": "https://localhost:8080/"
        },
        "id": "6WU0Q5R_cs7B",
        "outputId": "7d384e38-9b77-45fd-ae41-2f5eff46c080"
      },
      "outputs": [
        {
          "name": "stdout",
          "output_type": "stream",
          "text": [
            "F1-score en cada fold: [0.84982935 0.86190827 0.84562098 0.84640119 0.8536466  0.84701311\n",
            " 0.84345048 0.84453163 0.83410929 0.85406991 0.85478388 0.85054081\n",
            " 0.85329415 0.85400926 0.85247501]\n",
            "F1-score promedio: 0.8497122600391408\n"
          ]
        }
      ],
      "source": [
        "# Realizar k-fold cross-validation (por ejemplo, con k=15)\n",
        "scores = cross_val_score(best_xgb_model, ds_hoteles_train_x, ds_hoteles_train_y, cv=15, scoring='f1')\n",
        "\n",
        "# Imprimir los resultados de cada fold\n",
        "print(\"F1-score en cada fold:\", scores)\n",
        "\n",
        "# Imprimir la precisión promedio\n",
        "print(\"F1-score promedio:\", scores.mean())"
      ]
    },
    {
      "cell_type": "markdown",
      "metadata": {
        "id": "4S-l85sWVhFh"
      },
      "source": [
        "#### Visualización de matriz de confusión para modelo optimizado"
      ]
    },
    {
      "cell_type": "code",
      "source": [
        "# Definir los hiperparámetros\n",
        "params = {\n",
        "    'alpha': 0.29007760721044407,\n",
        "    'colsample_bytree': 0.8090077144994208,\n",
        "    'gamma': 0.42876870094576613,\n",
        "    'lambda': 0.13547406422245023,\n",
        "    'learning_rate': 0.29828232595603077,\n",
        "    'max_depth': 8,\n",
        "    'n_estimators': 179,\n",
        "    'subsample': 0.7871626244247893\n",
        "}\n",
        "\n",
        "# Crear el modelo XGBoost con los hiperparámetros\n",
        "mejor_modelo_xgb = xgb.XGBClassifier(\n",
        "    objective='binary:logistic',\n",
        "    random_state=0,\n",
        "    **params  # Pasar los hiperparámetros adicionales\n",
        ")\n",
        "\n",
        "mejor_modelo_xgb.fit(x_train, y_train)"
      ],
      "metadata": {
        "colab": {
          "base_uri": "https://localhost:8080/",
          "height": 252
        },
        "id": "MBpGhotKf381",
        "outputId": "1c25dfd5-f801-4d0f-bb4c-3e97359db9bd"
      },
      "execution_count": null,
      "outputs": [
        {
          "output_type": "execute_result",
          "data": {
            "text/plain": [
              "XGBClassifier(alpha=0.29007760721044407, base_score=None, booster=None,\n",
              "              callbacks=None, colsample_bylevel=None, colsample_bynode=None,\n",
              "              colsample_bytree=0.8090077144994208, device=None,\n",
              "              early_stopping_rounds=None, enable_categorical=False,\n",
              "              eval_metric=None, feature_types=None, gamma=0.42876870094576613,\n",
              "              grow_policy=None, importance_type=None,\n",
              "              interaction_constraints=None, lambda=0.13547406422245023,\n",
              "              learning_rate=0.29828232595603077, max_bin=None,\n",
              "              max_cat_threshold=None, max_cat_to_onehot=None,\n",
              "              max_delta_step=None, max_depth=8, max_leaves=None,\n",
              "              min_child_weight=None, missing=nan, monotone_constraints=None,\n",
              "              multi_strategy=None, n_estimators=179, n_jobs=None, ...)"
            ],
            "text/html": [
              "<style>#sk-container-id-3 {color: black;background-color: white;}#sk-container-id-3 pre{padding: 0;}#sk-container-id-3 div.sk-toggleable {background-color: white;}#sk-container-id-3 label.sk-toggleable__label {cursor: pointer;display: block;width: 100%;margin-bottom: 0;padding: 0.3em;box-sizing: border-box;text-align: center;}#sk-container-id-3 label.sk-toggleable__label-arrow:before {content: \"▸\";float: left;margin-right: 0.25em;color: #696969;}#sk-container-id-3 label.sk-toggleable__label-arrow:hover:before {color: black;}#sk-container-id-3 div.sk-estimator:hover label.sk-toggleable__label-arrow:before {color: black;}#sk-container-id-3 div.sk-toggleable__content {max-height: 0;max-width: 0;overflow: hidden;text-align: left;background-color: #f0f8ff;}#sk-container-id-3 div.sk-toggleable__content pre {margin: 0.2em;color: black;border-radius: 0.25em;background-color: #f0f8ff;}#sk-container-id-3 input.sk-toggleable__control:checked~div.sk-toggleable__content {max-height: 200px;max-width: 100%;overflow: auto;}#sk-container-id-3 input.sk-toggleable__control:checked~label.sk-toggleable__label-arrow:before {content: \"▾\";}#sk-container-id-3 div.sk-estimator input.sk-toggleable__control:checked~label.sk-toggleable__label {background-color: #d4ebff;}#sk-container-id-3 div.sk-label input.sk-toggleable__control:checked~label.sk-toggleable__label {background-color: #d4ebff;}#sk-container-id-3 input.sk-hidden--visually {border: 0;clip: rect(1px 1px 1px 1px);clip: rect(1px, 1px, 1px, 1px);height: 1px;margin: -1px;overflow: hidden;padding: 0;position: absolute;width: 1px;}#sk-container-id-3 div.sk-estimator {font-family: monospace;background-color: #f0f8ff;border: 1px dotted black;border-radius: 0.25em;box-sizing: border-box;margin-bottom: 0.5em;}#sk-container-id-3 div.sk-estimator:hover {background-color: #d4ebff;}#sk-container-id-3 div.sk-parallel-item::after {content: \"\";width: 100%;border-bottom: 1px solid gray;flex-grow: 1;}#sk-container-id-3 div.sk-label:hover label.sk-toggleable__label {background-color: #d4ebff;}#sk-container-id-3 div.sk-serial::before {content: \"\";position: absolute;border-left: 1px solid gray;box-sizing: border-box;top: 0;bottom: 0;left: 50%;z-index: 0;}#sk-container-id-3 div.sk-serial {display: flex;flex-direction: column;align-items: center;background-color: white;padding-right: 0.2em;padding-left: 0.2em;position: relative;}#sk-container-id-3 div.sk-item {position: relative;z-index: 1;}#sk-container-id-3 div.sk-parallel {display: flex;align-items: stretch;justify-content: center;background-color: white;position: relative;}#sk-container-id-3 div.sk-item::before, #sk-container-id-3 div.sk-parallel-item::before {content: \"\";position: absolute;border-left: 1px solid gray;box-sizing: border-box;top: 0;bottom: 0;left: 50%;z-index: -1;}#sk-container-id-3 div.sk-parallel-item {display: flex;flex-direction: column;z-index: 1;position: relative;background-color: white;}#sk-container-id-3 div.sk-parallel-item:first-child::after {align-self: flex-end;width: 50%;}#sk-container-id-3 div.sk-parallel-item:last-child::after {align-self: flex-start;width: 50%;}#sk-container-id-3 div.sk-parallel-item:only-child::after {width: 0;}#sk-container-id-3 div.sk-dashed-wrapped {border: 1px dashed gray;margin: 0 0.4em 0.5em 0.4em;box-sizing: border-box;padding-bottom: 0.4em;background-color: white;}#sk-container-id-3 div.sk-label label {font-family: monospace;font-weight: bold;display: inline-block;line-height: 1.2em;}#sk-container-id-3 div.sk-label-container {text-align: center;}#sk-container-id-3 div.sk-container {/* jupyter's `normalize.less` sets `[hidden] { display: none; }` but bootstrap.min.css set `[hidden] { display: none !important; }` so we also need the `!important` here to be able to override the default hidden behavior on the sphinx rendered scikit-learn.org. See: https://github.com/scikit-learn/scikit-learn/issues/21755 */display: inline-block !important;position: relative;}#sk-container-id-3 div.sk-text-repr-fallback {display: none;}</style><div id=\"sk-container-id-3\" class=\"sk-top-container\"><div class=\"sk-text-repr-fallback\"><pre>XGBClassifier(alpha=0.29007760721044407, base_score=None, booster=None,\n",
              "              callbacks=None, colsample_bylevel=None, colsample_bynode=None,\n",
              "              colsample_bytree=0.8090077144994208, device=None,\n",
              "              early_stopping_rounds=None, enable_categorical=False,\n",
              "              eval_metric=None, feature_types=None, gamma=0.42876870094576613,\n",
              "              grow_policy=None, importance_type=None,\n",
              "              interaction_constraints=None, lambda=0.13547406422245023,\n",
              "              learning_rate=0.29828232595603077, max_bin=None,\n",
              "              max_cat_threshold=None, max_cat_to_onehot=None,\n",
              "              max_delta_step=None, max_depth=8, max_leaves=None,\n",
              "              min_child_weight=None, missing=nan, monotone_constraints=None,\n",
              "              multi_strategy=None, n_estimators=179, n_jobs=None, ...)</pre><b>In a Jupyter environment, please rerun this cell to show the HTML representation or trust the notebook. <br />On GitHub, the HTML representation is unable to render, please try loading this page with nbviewer.org.</b></div><div class=\"sk-container\" hidden><div class=\"sk-item\"><div class=\"sk-estimator sk-toggleable\"><input class=\"sk-toggleable__control sk-hidden--visually\" id=\"sk-estimator-id-3\" type=\"checkbox\" checked><label for=\"sk-estimator-id-3\" class=\"sk-toggleable__label sk-toggleable__label-arrow\">XGBClassifier</label><div class=\"sk-toggleable__content\"><pre>XGBClassifier(alpha=0.29007760721044407, base_score=None, booster=None,\n",
              "              callbacks=None, colsample_bylevel=None, colsample_bynode=None,\n",
              "              colsample_bytree=0.8090077144994208, device=None,\n",
              "              early_stopping_rounds=None, enable_categorical=False,\n",
              "              eval_metric=None, feature_types=None, gamma=0.42876870094576613,\n",
              "              grow_policy=None, importance_type=None,\n",
              "              interaction_constraints=None, lambda=0.13547406422245023,\n",
              "              learning_rate=0.29828232595603077, max_bin=None,\n",
              "              max_cat_threshold=None, max_cat_to_onehot=None,\n",
              "              max_delta_step=None, max_depth=8, max_leaves=None,\n",
              "              min_child_weight=None, missing=nan, monotone_constraints=None,\n",
              "              multi_strategy=None, n_estimators=179, n_jobs=None, ...)</pre></div></div></div></div></div>"
            ]
          },
          "metadata": {},
          "execution_count": 29
        }
      ]
    },
    {
      "cell_type": "code",
      "execution_count": null,
      "metadata": {
        "colab": {
          "base_uri": "https://localhost:8080/",
          "height": 657
        },
        "id": "_qydri0tciRg",
        "outputId": "687d0ad7-6108-4dee-b3fa-123f5e791d47"
      },
      "outputs": [
        {
          "output_type": "stream",
          "name": "stdout",
          "text": [
            "F1-score en el conjunto de prueba: 0.844272984133884\n",
            "              precision    recall  f1-score   support\n",
            "\n",
            "           0       0.84      0.85      0.85      9292\n",
            "           1       0.85      0.84      0.84      9281\n",
            "\n",
            "    accuracy                           0.85     18573\n",
            "   macro avg       0.85      0.85      0.85     18573\n",
            "weighted avg       0.85      0.85      0.85     18573\n",
            "\n",
            "F1-Score: 0.844272984133884\n"
          ]
        },
        {
          "output_type": "execute_result",
          "data": {
            "text/plain": [
              "Text(50.722222222222214, 0.5, 'True')"
            ]
          },
          "metadata": {},
          "execution_count": 30
        },
        {
          "output_type": "display_data",
          "data": {
            "text/plain": [
              "<Figure size 640x480 with 2 Axes>"
            ],
            "image/png": "[encoded data removed]"
          },
          "metadata": {}
        }
      ],
      "source": [
        "from sklearn.metrics import confusion_matrix, classification_report\n",
        "from sklearn.tree import DecisionTreeClassifier\n",
        "\n",
        "# Evalúa el modelo óptimo en el conjunto de prueba\n",
        "#y_pred = best_xgb_model.predict(x_test)\n",
        "y_pred = mejor_modelo_xgb.predict(x_test)\n",
        "f1 = f1_score(y_test, y_pred)\n",
        "print(\"F1-score en el conjunto de prueba:\", f1)\n",
        "\n",
        "#Predicción sobre el set de evaluacion\n",
        "# y_pred= best_random_forest_model.predict(x_test)\n",
        "\n",
        "#Arbol Reporte y Matriz de Confusion\n",
        "print(classification_report(y_test,y_pred))\n",
        "\n",
        "#Utilizo y_test, que sale de el train_test_split\n",
        "print('F1-Score: {}'.format(f1_score(y_test, y_pred, average='binary'))) #binary considera la clase positiva por defecto 1\n",
        "\n",
        "\n",
        "cm = confusion_matrix(y_test,y_pred)\n",
        "sns.heatmap(cm, cmap='Blues',annot=True,fmt='g')\n",
        "plt.xlabel('Predicted')\n",
        "plt.ylabel('True')"
      ]
    },
    {
      "cell_type": "markdown",
      "metadata": {
        "id": "f2eOfuviwdu3"
      },
      "source": [
        "#### Exporto tabla para kaggle\n"
      ]
    },
    {
      "cell_type": "code",
      "execution_count": null,
      "metadata": {
        "colab": {
          "base_uri": "https://localhost:8080/",
          "height": 424
        },
        "id": "gQOFm9yMwlaf",
        "outputId": "d4a5ba25-eef5-4abe-8281-7aebddee571f"
      },
      "outputs": [
        {
          "data": {
            "text/html": [
              "\n",
              "  <div id=\"df-5c5c754c-f90f-4ed2-a72a-491f22ae4779\" class=\"colab-df-container\">\n",
              "    <div>\n",
              "<style scoped>\n",
              "    .dataframe tbody tr th:only-of-type {\n",
              "        vertical-align: middle;\n",
              "    }\n",
              "\n",
              "    .dataframe tbody tr th {\n",
              "        vertical-align: top;\n",
              "    }\n",
              "\n",
              "    .dataframe thead th {\n",
              "        text-align: right;\n",
              "    }\n",
              "</style>\n",
              "<table border=\"1\" class=\"dataframe\">\n",
              "  <thead>\n",
              "    <tr style=\"text-align: right;\">\n",
              "      <th></th>\n",
              "      <th>id</th>\n",
              "      <th>is_canceled</th>\n",
              "    </tr>\n",
              "  </thead>\n",
              "  <tbody>\n",
              "    <tr>\n",
              "      <th>0</th>\n",
              "      <td>e6d0d58a-ab96-44d3-b28f-85df1cc15f1e</td>\n",
              "      <td>1</td>\n",
              "    </tr>\n",
              "    <tr>\n",
              "      <th>1</th>\n",
              "      <td>aba9aac2-4495-4645-a60e-90328713c999</td>\n",
              "      <td>1</td>\n",
              "    </tr>\n",
              "    <tr>\n",
              "      <th>2</th>\n",
              "      <td>b345b5dc-c804-4d77-a39f-1f4e65d1f1ad</td>\n",
              "      <td>0</td>\n",
              "    </tr>\n",
              "    <tr>\n",
              "      <th>3</th>\n",
              "      <td>ce1b400e-afa1-4946-bdff-004b859eb61c</td>\n",
              "      <td>1</td>\n",
              "    </tr>\n",
              "    <tr>\n",
              "      <th>4</th>\n",
              "      <td>c4fbec0d-8e2e-4db2-9d4f-a6ccb9f51214</td>\n",
              "      <td>1</td>\n",
              "    </tr>\n",
              "    <tr>\n",
              "      <th>...</th>\n",
              "      <td>...</td>\n",
              "      <td>...</td>\n",
              "    </tr>\n",
              "    <tr>\n",
              "      <th>26530</th>\n",
              "      <td>636ccded-66ad-4538-8006-c0b9f84c6256</td>\n",
              "      <td>0</td>\n",
              "    </tr>\n",
              "    <tr>\n",
              "      <th>26531</th>\n",
              "      <td>11e19741-bd28-4459-8ea3-184f1664000f</td>\n",
              "      <td>0</td>\n",
              "    </tr>\n",
              "    <tr>\n",
              "      <th>26532</th>\n",
              "      <td>36a4c7b0-d6b1-4528-93db-311be96ec1c6</td>\n",
              "      <td>1</td>\n",
              "    </tr>\n",
              "    <tr>\n",
              "      <th>26533</th>\n",
              "      <td>89c85fa5-2b3d-4131-844c-e151a65ca240</td>\n",
              "      <td>1</td>\n",
              "    </tr>\n",
              "    <tr>\n",
              "      <th>26534</th>\n",
              "      <td>bd4e9eee-f28e-4a53-b4a1-277426efbcee</td>\n",
              "      <td>0</td>\n",
              "    </tr>\n",
              "  </tbody>\n",
              "</table>\n",
              "<p>26535 rows × 2 columns</p>\n",
              "</div>\n",
              "    <div class=\"colab-df-buttons\">\n",
              "\n",
              "  <div class=\"colab-df-container\">\n",
              "    <button class=\"colab-df-convert\" onclick=\"convertToInteractive('df-5c5c754c-f90f-4ed2-a72a-491f22ae4779')\"\n",
              "            title=\"Convert this dataframe to an interactive table.\"\n",
              "            style=\"display:none;\">\n",
              "\n",
              "  <svg xmlns=\"http://www.w3.org/2000/svg\" height=\"24px\" viewBox=\"0 -960 960 960\">\n",
              "    <path d=\"M120-120v-720h720v720H120Zm60-500h600v-160H180v160Zm220 220h160v-160H400v160Zm0 220h160v-160H400v160ZM180-400h160v-160H180v160Zm440 0h160v-160H620v160ZM180-180h160v-160H180v160Zm440 0h160v-160H620v160Z\"/>\n",
              "  </svg>\n",
              "    </button>\n",
              "\n",
              "  <style>\n",
              "    .colab-df-container {\n",
              "      display:flex;\n",
              "      gap: 12px;\n",
              "    }\n",
              "\n",
              "    .colab-df-convert {\n",
              "      background-color: #E8F0FE;\n",
              "      border: none;\n",
              "      border-radius: 50%;\n",
              "      cursor: pointer;\n",
              "      display: none;\n",
              "      fill: #1967D2;\n",
              "      height: 32px;\n",
              "      padding: 0 0 0 0;\n",
              "      width: 32px;\n",
              "    }\n",
              "\n",
              "    .colab-df-convert:hover {\n",
              "      background-color: #E2EBFA;\n",
              "      box-shadow: 0px 1px 2px rgba(60, 64, 67, 0.3), 0px 1px 3px 1px rgba(60, 64, 67, 0.15);\n",
              "      fill: #174EA6;\n",
              "    }\n",
              "\n",
              "    .colab-df-buttons div {\n",
              "      margin-bottom: 4px;\n",
              "    }\n",
              "\n",
              "    [theme=dark] .colab-df-convert {\n",
              "      background-color: #3B4455;\n",
              "      fill: #D2E3FC;\n",
              "    }\n",
              "\n",
              "    [theme=dark] .colab-df-convert:hover {\n",
              "      background-color: #434B5C;\n",
              "      box-shadow: 0px 1px 3px 1px rgba(0, 0, 0, 0.15);\n",
              "      filter: drop-shadow(0px 1px 2px rgba(0, 0, 0, 0.3));\n",
              "      fill: #FFFFFF;\n",
              "    }\n",
              "  </style>\n",
              "\n",
              "    <script>\n",
              "      const buttonEl =\n",
              "        document.querySelector('#df-5c5c754c-f90f-4ed2-a72a-491f22ae4779 button.colab-df-convert');\n",
              "      buttonEl.style.display =\n",
              "        google.colab.kernel.accessAllowed ? 'block' : 'none';\n",
              "\n",
              "      async function convertToInteractive(key) {\n",
              "        const element = document.querySelector('#df-5c5c754c-f90f-4ed2-a72a-491f22ae4779');\n",
              "        const dataTable =\n",
              "          await google.colab.kernel.invokeFunction('convertToInteractive',\n",
              "                                                    [key], {});\n",
              "        if (!dataTable) return;\n",
              "\n",
              "        const docLinkHtml = 'Like what you see? Visit the ' +\n",
              "          '<a target=\"_blank\" href=https://colab.research.google.com/notebooks/data_table.ipynb>data table notebook</a>'\n",
              "          + ' to learn more about interactive tables.';\n",
              "        element.innerHTML = '';\n",
              "        dataTable['output_type'] = 'display_data';\n",
              "        await google.colab.output.renderOutput(dataTable, element);\n",
              "        const docLink = document.createElement('div');\n",
              "        docLink.innerHTML = docLinkHtml;\n",
              "        element.appendChild(docLink);\n",
              "      }\n",
              "    </script>\n",
              "  </div>\n",
              "\n",
              "\n",
              "<div id=\"df-74ba1979-8b27-4463-8d6e-df6b516d9b0e\">\n",
              "  <button class=\"colab-df-quickchart\" onclick=\"quickchart('df-74ba1979-8b27-4463-8d6e-df6b516d9b0e')\"\n",
              "            title=\"Suggest charts.\"\n",
              "            style=\"display:none;\">\n",
              "\n",
              "<svg xmlns=\"http://www.w3.org/2000/svg\" height=\"24px\"viewBox=\"0 0 24 24\"\n",
              "     width=\"24px\">\n",
              "    <g>\n",
              "        <path d=\"M19 3H5c-1.1 0-2 .9-2 2v14c0 1.1.9 2 2 2h14c1.1 0 2-.9 2-2V5c0-1.1-.9-2-2-2zM9 17H7v-7h2v7zm4 0h-2V7h2v10zm4 0h-2v-4h2v4z\"/>\n",
              "    </g>\n",
              "</svg>\n",
              "  </button>\n",
              "\n",
              "<style>\n",
              "  .colab-df-quickchart {\n",
              "      --bg-color: #E8F0FE;\n",
              "      --fill-color: #1967D2;\n",
              "      --hover-bg-color: #E2EBFA;\n",
              "      --hover-fill-color: #174EA6;\n",
              "      --disabled-fill-color: #AAA;\n",
              "      --disabled-bg-color: #DDD;\n",
              "  }\n",
              "\n",
              "  [theme=dark] .colab-df-quickchart {\n",
              "      --bg-color: #3B4455;\n",
              "      --fill-color: #D2E3FC;\n",
              "      --hover-bg-color: #434B5C;\n",
              "      --hover-fill-color: #FFFFFF;\n",
              "      --disabled-bg-color: #3B4455;\n",
              "      --disabled-fill-color: #666;\n",
              "  }\n",
              "\n",
              "  .colab-df-quickchart {\n",
              "    background-color: var(--bg-color);\n",
              "    border: none;\n",
              "    border-radius: 50%;\n",
              "    cursor: pointer;\n",
              "    display: none;\n",
              "    fill: var(--fill-color);\n",
              "    height: 32px;\n",
              "    padding: 0;\n",
              "    width: 32px;\n",
              "  }\n",
              "\n",
              "  .colab-df-quickchart:hover {\n",
              "    background-color: var(--hover-bg-color);\n",
              "    box-shadow: 0 1px 2px rgba(60, 64, 67, 0.3), 0 1px 3px 1px rgba(60, 64, 67, 0.15);\n",
              "    fill: var(--button-hover-fill-color);\n",
              "  }\n",
              "\n",
              "  .colab-df-quickchart-complete:disabled,\n",
              "  .colab-df-quickchart-complete:disabled:hover {\n",
              "    background-color: var(--disabled-bg-color);\n",
              "    fill: var(--disabled-fill-color);\n",
              "    box-shadow: none;\n",
              "  }\n",
              "\n",
              "  .colab-df-spinner {\n",
              "    border: 2px solid var(--fill-color);\n",
              "    border-color: transparent;\n",
              "    border-bottom-color: var(--fill-color);\n",
              "    animation:\n",
              "      spin 1s steps(1) infinite;\n",
              "  }\n",
              "\n",
              "  @keyframes spin {\n",
              "    0% {\n",
              "      border-color: transparent;\n",
              "      border-bottom-color: var(--fill-color);\n",
              "      border-left-color: var(--fill-color);\n",
              "    }\n",
              "    20% {\n",
              "      border-color: transparent;\n",
              "      border-left-color: var(--fill-color);\n",
              "      border-top-color: var(--fill-color);\n",
              "    }\n",
              "    30% {\n",
              "      border-color: transparent;\n",
              "      border-left-color: var(--fill-color);\n",
              "      border-top-color: var(--fill-color);\n",
              "      border-right-color: var(--fill-color);\n",
              "    }\n",
              "    40% {\n",
              "      border-color: transparent;\n",
              "      border-right-color: var(--fill-color);\n",
              "      border-top-color: var(--fill-color);\n",
              "    }\n",
              "    60% {\n",
              "      border-color: transparent;\n",
              "      border-right-color: var(--fill-color);\n",
              "    }\n",
              "    80% {\n",
              "      border-color: transparent;\n",
              "      border-right-color: var(--fill-color);\n",
              "      border-bottom-color: var(--fill-color);\n",
              "    }\n",
              "    90% {\n",
              "      border-color: transparent;\n",
              "      border-bottom-color: var(--fill-color);\n",
              "    }\n",
              "  }\n",
              "</style>\n",
              "\n",
              "  <script>\n",
              "    async function quickchart(key) {\n",
              "      const quickchartButtonEl =\n",
              "        document.querySelector('#' + key + ' button');\n",
              "      quickchartButtonEl.disabled = true;  // To prevent multiple clicks.\n",
              "      quickchartButtonEl.classList.add('colab-df-spinner');\n",
              "      try {\n",
              "        const charts = await google.colab.kernel.invokeFunction(\n",
              "            'suggestCharts', [key], {});\n",
              "      } catch (error) {\n",
              "        console.error('Error during call to suggestCharts:', error);\n",
              "      }\n",
              "      quickchartButtonEl.classList.remove('colab-df-spinner');\n",
              "      quickchartButtonEl.classList.add('colab-df-quickchart-complete');\n",
              "    }\n",
              "    (() => {\n",
              "      let quickchartButtonEl =\n",
              "        document.querySelector('#df-74ba1979-8b27-4463-8d6e-df6b516d9b0e button');\n",
              "      quickchartButtonEl.style.display =\n",
              "        google.colab.kernel.accessAllowed ? 'block' : 'none';\n",
              "    })();\n",
              "  </script>\n",
              "</div>\n",
              "    </div>\n",
              "  </div>\n"
            ],
            "text/plain": [
              "                                         id  is_canceled\n",
              "0      e6d0d58a-ab96-44d3-b28f-85df1cc15f1e            1\n",
              "1      aba9aac2-4495-4645-a60e-90328713c999            1\n",
              "2      b345b5dc-c804-4d77-a39f-1f4e65d1f1ad            0\n",
              "3      ce1b400e-afa1-4946-bdff-004b859eb61c            1\n",
              "4      c4fbec0d-8e2e-4db2-9d4f-a6ccb9f51214            1\n",
              "...                                     ...          ...\n",
              "26530  636ccded-66ad-4538-8006-c0b9f84c6256            0\n",
              "26531  11e19741-bd28-4459-8ea3-184f1664000f            0\n",
              "26532  36a4c7b0-d6b1-4528-93db-311be96ec1c6            1\n",
              "26533  89c85fa5-2b3d-4131-844c-e151a65ca240            1\n",
              "26534  bd4e9eee-f28e-4a53-b4a1-277426efbcee            0\n",
              "\n",
              "[26535 rows x 2 columns]"
            ]
          },
          "execution_count": 41,
          "metadata": {},
          "output_type": "execute_result"
        }
      ],
      "source": [
        "y_pred = best_xgb_model.predict(ds_test_x)\n",
        "df_submission = pd.DataFrame({'id': ds_hoteles_test['id'], 'is_canceled': y_pred})\n",
        "df_submission"
      ]
    },
    {
      "cell_type": "code",
      "execution_count": null,
      "metadata": {
        "id": "Yurj39Caw5Wz"
      },
      "outputs": [],
      "source": [
        "df_submission.to_csv('/content/drive/MyDrive/Tp_Datos_2023_2°/Submission_XGBoost.csv',index=False)"
      ]
    },
    {
      "cell_type": "markdown",
      "metadata": {
        "id": "X7Otka1GVPYm"
      },
      "source": [
        "## Construimos un ensamble híbrido tipo Voting y otro tipo Stacking."
      ]
    },
    {
      "cell_type": "markdown",
      "metadata": {
        "id": "N4eTK-yZxQfb"
      },
      "source": [
        "### Voting\n",
        "\n",
        "Visualización teórica del modelo de ensamble tipo voting:\n",
        "![image.png](data:image/png;base64,iVBORw0KGgoAAAANSUhEUgAABBMAAAF5CAIAAABC8/WRAAAgAElEQVR4AeydB3wVRdeH9f3e5qsIiA2UoqLSWwIh9JIGKlVQQSkCgig1NAlVepGm9A7SkpCE0EIvKZT03hshPbn9bpuZ3e93Zu+9hABBkFAnrpe9uzvtmc3m/HfOmXlJYT+MACPACDACjAAjwAgwAowAI8AI3I/AS/e7gJ1nBBgBRoARYAQYAUaAEWAEGAFGQGHKgd0EjAAjwAgwAowAI8AIMAKMACNwfwJMOdyfEbuCEWAEGAFGgBFgBBgBRoARYASYcmD3ACPACDACjAAjwAgwAowAI8AI3J8AUw73Z8SuYAQYAUaAEWAEGAFGgBFgBBgBphzYPcAIMAKMACPACDACjAAjwAgwAvcnwJTD/RmxKxiB55GAfEejLEfk23/uuKyiA7cnlWWZlD1SUUpFsV5pS0KsyS1HKk7Ozj6zBO68FZ/ZprCKMwKMACPwvBNgyuF572HWvueWgKwoRFHAvL69iURWZJkeh1Nw1rapJpqaEBNZoafhX1mWFRnBxVb7/fY8/+o3i41PZBkrBCuEICwjohCiyIqCoZR7/8hQPJYVJBNMiEzTikSmR2QMbWI/zw8B600L3YoVGasqkd7N1lPPT2NZSxgBRoAReH4IMOXw/PQla8kLRACsaIsAACP91g810KlyKCMYbMpBtcmoraZQ5SATaqxjevGjVw6YICQjUBCKrFqHt2p6x55VOUgKwaAdCMKKiBUiKwiMS2gv+3luCBBrh6rKAZVRDqyvn5teZg1hBBiB55AAUw7PYaeyJj3/BO6uHFQtge6hGVRb7dZIBRUNRH2pT01zBIoDBizg5+EY0jEHGGOQMSFYxgRJMkIPpBxkpNCUhCCiSHSsQVU+D1mlh2sIS1XJBGB0C242+AfLMlMOlcybZc8IMAKMwCMiwJTDIwLJsmEEngABQl2AbGMOMlhgiggOP7cHGJQRA9QKp2cJVqh5j7AsyrIoK5IMTkLqtQ8pHmhqrBAkY0QIRkSSZCzJ4IyiflQAyTLmICMFYxlj1dMJwatpVe0w5VABvGfsFPVmg5uFyHAbwp1ovfMIG196xjqTVZcRYAReLAJMObxY/c1a+3wRAJO6TJwDkWVJVgRCRDDaMfwgLNviGGjbiQIxA9RoIwrGBGERYZ5uAoIUIB/Un4dgRaA+WCGSTERCRESQKBORChpC860gTzU8A8ItsCQTBJ5OGIvgTSXDwEj5cI4KcnqeT1n6xvrPs9pUuElU5SBLCmw2VzmmHJ7VPmX1ZgQYgReDAFMOL0Y/s1Y+nwRU5UDDm8HuxoQICJsxEjCSMMIIERHDJoHrDxhq4MgEVjjoAyRJEhIQFjARCBEkJEqQBNTDfa38e+GUZUKIRDCv1eQHh1zYvGVTaGSkSZQg0pkKknIJrQaw5V8YppB4k0Fz8sRRLy+v0LAIETyWZERHMMqlfSRf1YIfSVa2TMo16hEWAS/pCUhCtYMe2qlMrWq5etrqb9t5VDW/s56yjKMiwn28vY+fPFliMnIESyBn6Wxaary+rRL33rHV/96XsDOMACPACDACj5gAUw6PGCjLjhF4jAQsygECkOEHYcKLkj4pIebs6dN+vn5nz57PLyoxCaJAxQNcQscEqHJASOIMhtLQ0Cu+vt7HjvnHJyZp9UZRAvFAyEPObwOWLRYJMt+8mbJ16zoXV+c9+/ZrjWYRYh7uNCBtMzlB1ahNjCSRLy3KnTP7l7Fjx/65/5BIZBGUw8NXqeLuoNwesR+Umme5z4qrYTt7F0a2c3TiWlU52MRDmZMPs1u2knemr7gyd15/+xGZxkDf/VOWseeB/T//NHbm7NnZxcUGjEUY68IKuNvd7Ua5PWv1m63ydzvJjjECjAAjwAhUCgGmHCoFK8uUEXgsBMopBwkTMyeU7t6xZfiQIS7OLkOGDDt5+nxBiUbAskjoFK3qgIM6OoEMsTGhs2f/0t2pe6/efTZt2ZGemQMORmCl0wECapo9UENgQlVQDqaszNglS2fVrPXuilVrirUGAbK9jyFqsYlFoTA3a9jQQa5ubmvXbVSVA8wD9RTPrXSfhlVI0Gb+qjsVXgtCC2MsiqJerzcajaIoPlDyijN/oLP3qy0d3bo1HXDZ2b3oqBdBG39f19PNbfDQoan5+TqEBLh1kCJDUMzT3NcPRIldzAgwAozA80eAKYfnr09Zi14QAhZrjL6tV1/eS5iYTObCKZPGffLRR//9z39rvVd7+Kgfo+ISeVAORJIxlsFxSQaHIrMoFa9ataitg/2rr1Z56+33vhk84np4tAQLKVhkAwgI6345C9X2tRxr+uJYlJEhKyN62TKqHFavKdLqTSIS0X0yg8IwRjyXn5P+7aABTk4ua9ZtEonCIxivuNOatNXhgXbUCj9QkjsvLttqdbSk7DUwY671p+y+9VhF/5bN+c60hBBRFHU6XXh4eGJiYmlpacXXl5M05Qoul7bc13IXl/t633tDneCLhsVT7zirZLUcIWj9urVuri7fDBmSnJ+vQYiHoHhJJmo4veUOVKtUrmjbwXJ8ytWffWUEGAFGgBGoDAJMOVQGVZYnI/AYCFhe61LLFT5kGZSDmSuYMuln+5YtmjRu0rWbc6vWjv4BZ0oMZp4qBwkClyVCREnU67SZA778wtXF2cXZtW7djwcNHnUtLFq6FSFt84uhodblPxBEX1MnIkwwXX8B/oXQCiTIyJidGbN0iUfN92quWLOuSG/kMcy7WT6P27+DsCAECXxhXsbQ775ycXFZs3aTRGdmhXBvImEsqYWWS0enYoLMaUVoNW6/AmMMMR00hoMa06otqjbQ0pCyKWBCWdXnnl5YAQhEyyxnRqtfaTyCmqu1CLV+t0oiGMsIYkvo/+jWDw1tV6+zpYFMEEJGoyEuLq5vnz4//fRTQEDArTR0z8LHkkg9SZNBZ9EQlnK53qqMeoHtE5jdluTWlbBnayMFZYm+sF4CxdPIGmTtNbXvbn0SJP2xZpWbq/OgIUMSc3NLEeKoclDAawlBWpoXLQX0Lu1bS/a2oumOtUxrlcqJpcfwe8iKYAQYAUbghSLAlMML1d2ssc8LAeqZr05GpAYIEBkRGFcw8lzutEk/tmvbplfv3r/MnPX2OzWXr/k9MTNbgJe9WJIgeJpgUVuad+qkV/t2Dj+MGjV54uR6teoO+uaHK2ExAl2JgUB4tUA3kRqsqjYg4FACIdeiRM8SSZIkQcSCBNMo0fhqmBJJkpE5JyN2JXgr1Vy2el2h3sSDPShhJBCJx0ikpieddxWiKpCIJCgGzE2MJHNhfvr3Q79yc3VZs24DkmHCTjBACY8xh0SBCgAwy+n8UUTCEAgBxUPTeII4jDkJ8xgMUMuPanRLkohgqie6egAsNQeOPwiZsVoBMLOpwAAbFK4Bn3vQMqBJaOi4GlAu0uhzBMYtkiUELbe4d1nlBqSAmBMwlBESJIlXrXCaAqQVguO0HbBOHkYSQqKEJZHWE74gBI2hTEAOihiJRBARjyTeoNdGhIU5trYf8OUAn8N+akQ7lR6QEcECQhLkA6WIIhSPBCSJ8C+PJQlAQtQIRnTiW5hcC2ojioiTEC9JHJI4AtNtSRIyI8SrIgHRloiQswApLJH0EsYcISJtHUCj83QhCfoCRo9ocD7E32MsYgwNQqDfKBZJWr9mdU8310HDhibn5molyQztF2UkEtgEgiEL6D8QVzK9tyDaX9Vjal/Ru0KCm5LeC1ArDLO7Pi+/5KwdjAAjwAg8jQSYcngae4XViRG4DwHLGgcynQWVTmckS0QRZGIUuJxpE0e3c3QYOXq0p7d3vbp1hv0wJuDiZTMCowosUjAfhczUhJ9+/L5de8ely5at/m1lnbffHfT1qCvhMQJY6oTAZVxJUV5MTGRAQICnp7enl+fhw4dPBZyKjo7VmvScxEkSTyRBkjgRm/OLboaFX/M74nfokJfv4cMhgeevB59dvXROrZpUORhU5SAQycQZNdmZqefOnfHxOezpefCwt9fp06eSUlJ0Jg4ioQlGiCqHIQPdXJxWr/sDRirAxuUxNhoNxVER4SdPBHgf9vH09Dzs5XUq4HRMfFKBRseBqStgyYQlvaY0NzI61P+Yv7e3t7eXt7//0cCgIL1OL4HqEKg/DMz6CsMbgiE/P93/iO+FS5czb+SIEpKQSMdPEGfWZ2Um+xz2iYmN12j1HM/lF+aFXAn0P+rr5XnQ65Cnj7dvcNCV7Jw8syBJYONaHXNg6AQjIlAzV0QSL4qmnJyskCshvv5+BzwPHvI+eOy4f2RUpE5nkEQw42EkQadLS044dux4enrajRtZwcFBB729Dnh5HfE/dj00vFirNWOziMwZGcnHjx1ZuWxZo48/6tCu47SpMw8d9PL09ExLzzCbOb1WExsddvzkiZT09MTkpJMBx/cfOnT05Kn07CwB8aJkNJuMUeFRJ4+f9PL2OuR9yMfP99q10Ly8fBGJPOZEZOZ5XXZW0plTx2NiY27kpEVFh/r7+3t6enl5eV+4eCk9M0OVZBIC7WjmDPmFGYFBF44c8fX0POTp5enpfeBy0OXsG7k8D1oLpAjmEOFNJl1ycnzAyRPenl5enl4nT55ITU5evXz5Zz17DBo2LCU3TydKZiSKkiAJnKa48NqVoGNH/bw8D3l6eh0+7Hvu3MXU1HSO56gCwUiSRIEr1RQFBl/y8/fx9Drk7e197OixuLh4rV6PH3YRw/v8xrHTjAAjwAgwApQAUw7sRmAEnkECd1MOsAYcVQ5TJ45s27b1uImTr4eF9e31ecfOXdZu3FKsN4EVDq/KJcGsD754ul6d9/v273fI23Pblk213377m2++vxoRDWsvEIwFzqgrPXs2wGPWTFdXt9atHezs7e3t7VycnadNmxF8/VpBSQkn8PB+Gpl1usLjJ3zHjR/bxqG1nZ19e0fHUcOHrFwyd+708e+8/fby1euKQDlgoggir0lOjNy2dWPv3p+3betgZ9eyTWv7Lz7/fNny32ISU3ScABY94grz0od/O8DFufuqtb+L4LkiImwuLbkZEnR+qru7q0uP1q0dWrVqZW/XysnJefb8X89cCizS65GMiGQ06vJDgs5Nnz6tc5fu9q3btG7dpmvXbsO/H5Gami6KAsYSIZICK+VhmUhGQ0notQsd2zsOGvSdl5+/iU5LS91fUM6NjF07NjZo2Gj1ug0paVm5+fm+R3zGjh3j5NS1TWu71nZ2bezbDPlu6IGDh3Ly8gUYLlH9m+haegqGF/xEkIkoCabCgpt79+wa9cPIjp07tbBrad+6VbduXWbMmBEcctVg4nmQK9LN7Mx9u7c6Ojr+/scfu3fvHjVqVBtHhxatWjq0afvTT+Muh4SUcnoB8SdP+g/9blCzhg3eeO2Vt998u379hi1bAXO/I/7FxaWpyUmrVizq2q3rmt/XL1u50tXNpVmLlj2/6HPsxElBgm4KC70+bcp0V5ceDm0d7OxbtW3XdvToH729fYpKiwV45c+bTcUnj3n2cO0+d/683Xu2z5nj0a1bdzs7u6ZNmw4YOHDnrl2l2hIYAEGEF4ScnAwfv33Dhw/p1q1L69b2rexatbBr/vWgr/cf8MzNLYYBGtEkSkaTSRMXF7Vk6QKn7t3sWrVq07p1z549Vv+20n38OCcnp6+HDUvKzddLEo9EnjcX5ueePH5s1MgRXTp3treza9WqVWv7Nr179Vu75o+kpFRRBKczSeJLSvIvXDz77beDO3TsYGdv5+Dg4Ormtmr12qTUNPyIJ8p6Bh8OrMqMACPACFQmAaYcKpMuy5sRqCQCtysHugCcZFMO0yb84NjWYdKUaWnpGb+vWtGoQYMfx01ISMsUiAzeMYhPT4lbvWLRP//5rwVLl4ZFhW3buuGdaq9/9fXgq+GRoBwwEg368wEnvvisx7u1arbr0NHDY9aiRYvGjh3j2K5tldertHFsd/TUGTP4rvAK0p8/fbRPn89r1nq3U6eOs2fPnjZlSk8Xp/p132tYv85///OfFavXFRtMArj8cNlZibM8pjZq3KBNW4cZv8xYsmSR++SJzk5Or71WdfbchVHxSbCWtcQX5WV8/+1AV2fnVWvXg3uKzIuC1sdrn4N9q9dereLq0tPdferCBQsmThrfuHHDGjVq9OnfP+DCeQFe35uvX7k4fuzod9+pNWTYD7Pnzl+yZMlk98lubj2iY+I4XrB4SdEJfGQsSoI+OzPumwH9WjRvNfvXRaU8TxQZfIck8VpI4PAhgz74+OPd+z0zc/JOBAS0bt26c6dO48f9vGzpkgULfh07dswHH9RzdnbetWcPLKFnjSoHdQaDJCLGPEZcaVHe5o2/t2zZ3L5N67E//7x02dIlixd+1sPtow8/7NrNOTEtQ8vxIkE3b6Tt3LK2bt06H3/asEmz5h07dZy/YN7UKZPtW7WsVbNm/6++Ss7JMQlcSkr8gT93uY//+eM677dqYTd02KglS1csXro0LiHeaDKmJMWvWDqvQYNP6334UcPGjbt17zbNY+ao0WPOnj1tNGquXQt0cGjTsGGTgQO/WbRo8eIli378aUzjpk06d+myfedOs4gkLHLmIn+/PS1aNGhlZ/9+ndqO7dtNmDBx0aJFzi5O773/Xtdu3bx8fPRmTkBEp9f7+/vY2TVxdXWeNGnCkiWLf/113qgfhteu+3637q47duyDAR4MAx0RkddmekyvUuW1hg0bjhgxctasWd99N/idGm/UfuftDz78YOCw4Ym5BUZQBHxh/g2vg/tq165ds2btPn36z583b+Gv80eN/L5+/Q9r1647YsSPGo0ZxAMynz7t/3lP17q1644aOXrBwsULFi2eOWuW+7TpV0LDJGxbUr2SfvdYtowAI8AIvNAEmHJ4obufNf5ZJXAv5SCbRP7m9Ik/tHN0nDjll9y8oogrQd07d/zsi157PQ+bCeGxIEmm82eOfztoQO0P6vuePHkj78bOrRtqVav6zaDB18IjYQFqSdAXFX7/7eBmTZt88+3ggLPnkpJSUlPTYmOjPT33fT2wX81aNWcvWBaXmiFgs2jOnTB2VCu7lgO++fr0ubOJSUmJifHnz55YOG9Gw/p1Xvnvf5etWlug1fNIFAXD1s3rv+j1WZ9+fY8HBMQlxKelpiTGx3h7HrSzs+vu7LbP+7Be4HmJK8zLGD54ACiHdRsEiLk2RYZenjRuTL269Ub/9POxE6cSEpLS01LjE6L9fLw+7+HatGnjnydOMGNYocLn0L5vBvTv2rnbqbMXYxOSU9PTExMTr18L1eqMAoLYcCoeEA1jgHgMXUnOut+W2bVs9e33IyPS0nhCIBeT3vvQfruWLT7/csD5kOulBmNyavLevbsvnT8fHxeXnp6anJIYFRs5bNjQbt26z54zr8RgEqiHPQxl0AENjAWCec6kCb8a2Ma+VY/Peqz5/ffI2Nj0jPTM9LQLZ86M/WHMhx99umDFquQbNwUi3cxJ2bH5t3fefqt5S/sZHnPOX7qUkpqUnBi7bvWybl06NGzaLOBycJFOZzTpsjOTTh3zdWjR7LOeX2zYsj0tMystI0NvNCIkpaUkLFs85+133m7crMW0X2ZeCryckJoSExtTVJgXHXF9xjT3+h9/NGf+gguXAlPT0tPT0+Liouf9OrdTl85f9OpTrDGKSDSbC/x8tjdtUv/9OvVG/DDmkJd3XFx8SkrShQun+/T+4pNPPp04aarWaBYQMXKmpKSYPXu2BgVejo+PTU1NTk5OjI0L79u/l4ND+1keC4wmXpRMekPR3r3bnZy6NmjQYPvOnWERkYlJSaHXrmzbsK5Le4cPPvxw4LARiXkFRpGXJOPFMycGDfzyX//+77z5Cy8HBqWlpaanJcfHha9bt6x7986tWjkcOOBXVFoqiIZduzZ/VK/uV/37nzp5OjU1IyklLSYhMTo+sUijQzANF/thBBgBRoARqCwCTDlUFlmWLyNQiQTuohwQjDnIJpG7OW3iD46O7Sa4zywq0ekKb/70w/cdO3ScNG1mocFoRrxBX7R141o7u1b9vx0amhhfoives23jB2/XGPTtt1cjQDkYjLqYsGt2zZp06txp/ZYtOjOnTm6DkJBzI2Xn5rX16rz3zZCRx89dMon64vzY7p3bte/QeeW69TrOLNAoZJOhOCTw1OCver9RvfrSlasLSnW8wBu0hd8PH9KufbupM2bkF5foDAaDQWc0aGOjI4Z8N7hJs+ZLV6/JKS62KQcXJ5dVazcKMMOP4cCeLZ+5OrVoZX/s3PkCjRacg2gIr0FXtGjuLLvmTbt275ZbquEFzt/H69uvBjq2dfT2O5KZc5PjRYhjhsBgBRa1oIHD1gBoSSECbyoNvni6h6uzU4+euw/7mAiRsJSdnrJ0wfy6dest/G11Yma2SeJ1hpK8/ByBMwscZzQadAaN1qiZM3eOi4vbhInu+aVaDiEME48iWVGnBhIJ5vNz0vZu31C1ymsTJk4MvHJVYzSaTCbOZCgtKFi3as2HH33yxZdfh8YlCLJ4Mydp+8YVb9V44/sfxp4LDDEKPIRkIHNoyJkff/juvdr1dnsdzSkqQbJkNpVEhYd0dLD/8suBnj5HYIwI/KSITHB6SsKSBR7VqlcfPmrM+ctBnCSIMAAiEYk76uvt2AYcinyOHs0vLtEbTCajyWTU+R/17fdl/8bNWkbHp5rMBt6c5+eztVmzj1u1brvnwKH8ohIaZ82bzdpfpk9p3Khxv/7fFOlMPCacaNbpC/JyM3iOE3iz0ajX6zUmc+lk93Ed2neeMH66VmsSRFNebvqv8z0aNmo4ZOjwhOQUsyBCNLxgKriRMnXC2NZt2gwcPjIhrwAIa/K3b1xr37x5q9ZtLwYFmziOxrgLimyITwieNOmHJk2aTnKfmZ6dLUimP/dur/9BXeeuXU4cPVZYVGLiJRNEYMCiJSzOoRIfOyxrRoARYAQUhSkHdhcwAs8ggVvKwTIfq6xYvJVELmfapNFt27Yb7z6zWGvEgn7H5t+du3d1/eyL0LgEg2BOTox2n/DThx/VX7/nz8ziQq2+ZN+2DZ/UenvQt9+GhEfwBBcW5fl57vu4Xt1vhww9dfESBz78EDaNMK/X3Lx26XjrFo3cevbedcBLaypJiDnXqnnjvl8O9gu4YCJYUKddkoxZ6TEr1AjplWuKSnU8zxXdzOjetdOnDT4dPnLkfk+vA56eBw8ePHRw/6YNvw8Y0L923XrT5sxNysqiyiF9+OCBrs6uq9duErGEkW754jkO9q3cvuidXlxskJAI4beChEwyNh3et6tn964tWraMSEw2mMxR4aG/zvFo09pu5OhRW7bvuHQ5ODUlU6c3CYjQDeZyohEJCFy8iIB4Y2Fe5s9jRzm2bzdu6nQtzEQkXDx7ctSwIQ0bNwu4GFig1XHIbOJLS7UFsTHRFy9cPHLkyIFD+/cf2jd06NCOHbqMG68qB4lOPCvB3LgY1iUgiIuPvj5r2oTXXv3f8BEjN2zZtt/T69AhT+9DB70PHpg8fsIHH37cul2n4IhIQRZzbiRt37D8zRpv/PbHpuzCUjPMQSTKkiEz5fpcjwm13quzcYdXVl4RkiWTqSQyLLijQ+svvxx4yMcPPNAUNVAep6fEL/71l+rVq69Zvym3uFQkRISJqQQkGHZv3VSj2uvNW7VYvGI5wD/o6Qnb/hUrlrr2cPu4YWP/k+dKSwsF880jPltatWzYu//AS1ev8+o8UJKAMbdy+aK2rdv0+KxfXqmRw0RAZo4rKS3Ji46MvnjhvP8R34MH9x/y3Dto8AAHh3bjxk0rLTWJoiktJXr8z6M//viTdes33cgv5BAWMYLbhC/ZvHZFz549Bg4fGUeVw83slEVzfmlYv/6YcRMT09IgdBxWHeEVrNVqk9f9vqBtuzZ9+n8Tk5QkSHzg5XPfDhrYrHGjCePH7/1zX+CVa0npWVoTJ2CYFesZ/H1mVWYEGAFG4JkhwJTDM9NVrKKMwC0C91YOdG6lMW3bth83eWah1kAkU3Lc9VEjhjRp3vKPLTuLNKWHDuzt6erS0t4hJjNbK3AGXfH+LX/Uf+eNbwZ/GxwRyRGUezNrz5bfP3j/vTFjfw4JizQjIskKnUrTbNbnJoSdc+3S1tm156aduws1eefP7G/S8NOhI8Zduh5nxJiH6XR4TNdz+G3Z3Fo1a61Y9btGZxI47mZaQsd2Dv/6979eefXV16tVf71q1derVq1a9fVq1arWqFGjarU3ps2anZiZKSA+Pzft++++7uHSc+3vW2CyV6T1mDG+SaMGfQYOyuc4A8acKIoCJ4kGIukuBRwZ3L9vkybNzgaFlOr0PGeOCL8602Nqi1bNPv7kE2dnt4ULl8XGJemNZl4iIoaX8DCPLYQ6iFTpCFgybtjwW8eOjp26ds8oLDVyxq2b1n3m5tKn/9epWTeNAs9J+oKijIuXT40ZM7pbt+6ffPJp1WpVqlar8uprr334wScTJkyjYw4SpnnKCgR10zhzLvTKxVHDBr3+6v9e/V+VKlXfeL3aG69XrVodtterVa36bs33O3RxuhoZZVUOK96qUf239Zuzi7VmmAVVIJI+O+3a/DmgHDZs9crMKZSIaDSWRIQFd2jb+ssBX3r6+ArQEowUGO7ISEtYtnBWterV123cml+qE2VZUgjGZk5ftOWP1f/95z/+/Z9/vfp6larV3qhWtUb1qtWqvQ6d8Hq1qk1atNxzwDu/IIczZh/x2dK6dZM+A7++eC2Uo7PzSjBlLrdy2cI2dvZuPfrmaowmjHhkLC7OvHjh9OhRY7t27vJx/Q9pVlVeefU/dep8MH78dA3IHy4hLnTsmO+bNm3mezwgV6PjYApdcAcjgmbTmuU9e7h9/f3I+Lx8k2ROT4mZ6T7uw9rvT/3FIzEzQ5ARnWqLV5CGN2fv2r22q1PnLk49QmNiOVEwGnUR4VdHjYIQiPqffNyrT98ly1bGJCTrTGamHG49JdgeI+wsmXkAACAASURBVMAIMAKVQIAph0qAyrJkBCqbwO3KARZ3k29FSE+ZOKZt23bjJs8s0BoR4TQlWcuXznds1+6b776PT0qZPn2aY7sOw3/4WSsIPOIN2oK9m9fVfbPqN4OHBEdE8QQX5GXv27nxwzrvjxr9Y+DVMBOSeaLQVRhMZkNuXOi57p3afN6r9879+4u0+UGXfZs2bjhoyA9nAsNMMHW/ACsDiPrM9OgVS+fUrFlrJSgHo2A256UndnR0sLe395gz5/jpMydOnT516tTpUwGnTwWcOnM64My5mOSUUpORl8z5+WnDvxtIlcM2WB4CaT1mTmzcpGHvAd8UmMxQCkJI4gkyKlh/6qjXl70/b96i5bXoGI1BLyHObNJk30gPDg7cuHHjkO+Gtmnj2NXJ5dLlQI1WB8sCEIighQEHGHOAqUMxMl67enbkiMGNmjTZffBwemba+HFj27RxWPrb2lKtgZf44pIcP7/9bRzs23foNGvOPK/DhwNOHT91+tgPP4zo2rnbxIlTC0q1PIKFJWRZlBVJUegyash8/cr5EUO+fvWVVyZPmuLp5XPi1OmTp0+fDDgZEHDiVEDA2bPnQq5cL9ZqJSLcvJG8fcPKt2pUX7V+c3aJ1gxOUyLB+qz0K/Nm/1yrVp3N230yb4JyMBhLw8NCqHLo7+njw8tEgOUTRCKLVDmAt9Ka9ZvzirUSODJB6wRj0bYNa6pXqeLs3H3jli0nT505ders6YAzZ04FnD598sTpgLOBQVl5RUZTKWfIOnp4q32rJn0GfnXx+jUO1uiApScI4VetWOTYurVrz943NXoDEgo1OX5+ezs4tune1fnX+fN9Dnudhsb5D//+W8d2HcaNm15SwkmiOSk+7KcxIxo1avznocO5pVqOyCJ4mglE1Gxcs6yHm8tXw4fH5+XpJVNqcvTMyeM+fP/9ydNmJGZkwcKFMNzEKVhnMt7Ytm1N566d3T7rH5mYDC5PomAy6TOz0s5dOL1q9YpvBn3VokXLYcNGXrwczAliZf/ysfwZAUaAEXiRCTDl8CL3Pmv7M0uAKocyK8EhcGe3rOdwc/KE0Q7UW6lAZxQJL4qlvt5/9u3du379RmvW/uHs7NrNucfW3fs5IkuYN2jyd21aW7tGtUGDh4ZERAkEa0ryTh71/OSjD3r17uftd9yEZDNWzLA+mam0OOPMsQONPvlo4DeD/E4e15mLkxKvtGzRzMnl8z0HfMwICYiXqHJITgybMXXc22+9vWLVOo3OKPFc6c2ML9xcO7TvuHzF6qJSfbFGr9XpdDqNRlus0WtK9LBoAo8lXjLl5acO+26gm3OPtWu30jW/9CtX/Gpv36pjF6e4tAw9z4tUOWDJKPGazet/69jeoW37DlkFhUbBhAhPMC+KvNFgyMxI9/c/8vO4n9+rU3fxkiUJiYl01WtYr0JVDnQpBYKRuTAvZfmS2c2bNx0+auzeP//s17+vUw+3gAuXzDyPMJ+SHLVsyZwaNar/4jHnYmBwbn6+Vlei1RQsXDCvh1uPceMnFZZoeQlW5pZlAcYcZFjuDWMuKTFswbzpr7/22qKFS2JjE0u1+lKdvlSnLdWWajQanVavh2UswIvq5o3UbRtWv1njjVUbNt0o1XAwFy0isj4zM2TenJ9q1ayzeevhrJwCkYh6Y2lY2JX24K3U39PnMC8TEHUwmgLKYfni2dWqV/9949aCUj04/cOyFUYsag7s2fZhndquLk7nLlwo0Wi1WoMeNq0OyGuKDHqDiARRxxuyjx7eZm+nKocrHF1hT1UOa1YubtemjUuPL3I0OgPmoxOuz5/v/s5bby5euOza1auFBXl6XalOmz933i9OTq7jx88oKeVE0ZyZFjtl0k/16388a/6S9JsFJonwsHogh0TNqiXzunfr8tWwYfE3bxpEU25O6vJfZzf86MP+X30dlZACi47DCny8LBkKclMWLpjdvEWrYSPHxadlQfdLSJRETuS0upKUlHgvr/3Dhn7X4NOGW7btKtHontnfalZxRoARYASeAQJMOTwDncSqyAiUJwC+3LJVOciwjC6sIS0Q2cjzeZMmjnFo6zje/ZcCnUmA+YTMMREhM6ZMqlqlWucu3ep/3GDI96OiElPAF4UIek3Brs2/136rxqDBQ65ERIqyZDaXxsVec2zbupVd6znzFmbcyDXRcQStvjj0+iWPXybVrVN3hsfsqPhoTtIWl2S4uTq1bGk/45dZ2TdvmEWzmTNkpCXs37PFuVunKq9XW7FqXanOgETBrC2YMvHnLp06/vjjT4nJaQYTR9f8lWDJA4HLLynRmc1IJoJkzstLGworwfVYt3aLBIskmw977+v1Rc+PP/5009ZtKWnpZo6TRN6gL4mJvv7DqKGt29iNGD1GJwhmyZSUEhsZFVpSXCSJEkZSVlb62t/XvPn2O5Pdp4RHREJmdHolWYZRGgzv1GGZOZEr9vHa3dPNuVHDpsOGDu/Svfv3P45Jz83jJVj3Oi76+qxfJr9W5dUNW7alZecISOI5fVZG4riff+zQocPP4yYWlmhFCRECHlAQ50DoQtGEKyrM9D28t26d2qNGjg4IOKPVGdQiRUkymThNqV6rMYgirPyQcyNt84bfa9SosXr9xpslpQIEcWMiG7Myr86fO65WzbobthzKvJkvYEFvLImOCu3coV3PHj2279ljkiQjz5sFHmEhPS1h6eI51atXX795a6FGBxPawmAUJ2PT+dPHP+/h2qxJ4127dufk5IoQKi4TWNBN0Bh1eZpiE4y+GHljjr/Pdnv7pn0GfnX5+lUe1simhAi/+rcljg6tXXp8lluqM2HheuSlSe4jq71edf+fh/Jz82Hpb7MxKytp9Jjv2zq2B+Wg4QSRLy7MXr5kfuNGjVx79Aq8ElaqN5k4rrAwLyj47JBBA5o1bfL1kOGJN/MMIqfTFfy5Y2NHB/sGjRof8PLNzS+ClRtETqcpOHncb/Dgb1rZtdmwZVdOQZFOr09PTw0Nu16sK+VFsySZkxNi5s+Z9dbb765cvT6/WFP+l4V9ZwQYAUaAEXh0BJhyeHQsWU6MwGMlQBQFNpn+wPtlqhw4oWjy5J/aOjpOcJ9eqDMK8IZd1BTdPLBnW7067//r3//5sP6ni5f/ZkQSJ4siEfTa4t1bN9Wt+e6gQd9dDQ+XwJ3EpNcXjhs3pkmTxs4uLtu374yKio6Njz1/4czipQvt2rTp3MXJz/+YwaRDxCAi7SyP6a3t7Fycnfbs3hEeHXX12pUtm9YP/qr/h/Xq/veV11as/r1EZ0BYwqLe1/vPrwf26dq10+q1q69eu5aQEJ+UlBgXn3A1NPxowNnkjCwkE0niCvIyhw79ys3N7fffN9F5VKXEhOi5s3/5+MMPnLp3275t+/XrobFxsZcuX5g7b3bbdm379O/v5evHY5ETDXv+3D5n7syj/v6xMTGJiXGnTp+cNmPqe7Vrr17zR3JKukhXe4Y38YqkblgGLyOCTVFhQVMnjvvvP/5V/6NPOnZ1Wrx6jRETHtbNEzNT4lctW/jGG9V/dnc/dvp0fFJC2PXgbZvWde/auWnT5j+Pn1xYopUkLEN4A7gIwTxHBFYz4AVdclJU3769OnToMHXqtHPnzicmJiUkJCXEJ12/Fn7u7MWoqFijQUuIcONGxsaNG2rUeHPtHxtgRiPoNUwIdyMz7Ne5E2vVqvfH1n0ZuXk84ozGkvSUhL69PndwaDv1l5lh0dFXQyNybuaZzYa01LjFi6hy2LilsFQDQcYgkESZCOkpiWt/W97w4/rDhw7bt29/TExsYmJKckJydHTUmQtnj505aRQFWBXalHfEd2cru6Z9BnwVdP26CC5DMgzREH7Vb0vaOti7uvUsKNFyWEhMi1i0ZMabb74585fZZ8+eT0hIuHIlZNPmde3at2nQoPH4CdNKNWZRkjhO5+tzoNfnPd6rVWvZ8lWXLgeHR0YePeb/48+jmzdvUq/eB4O++z41p1AvCiIyXAk89eOIIa9XeX3osO8PeXrFxMXExEYGnDo+5scx7Tt0HPztkOTUdDNnzs/LPuy9f+r0yWcunI2KiUyIiz52xHfksKGNm7TYuudAid7EQqQf63OIFcYIMAIvGAGmHF6wDmfNfX4IlFUOShnlUDzZfVxbmJV1WoHOIMAcoSIWTdeuXOrzRc/Xq7ze98uBvsdOmCSRp74oBn3p3p1bP6pTe/DgIdfCw8FjnvBIMickRI/96Ye69Wq//fZbDg5tHNs5NmjUoHbdOvZtHQ/7Hs0vKEJYQNiIiDEpKXbihPEf1qtXq+a79m3aNG/RzK5Viz69vli0cGHNWrVXrllXqjfATEHYbNDl7d2z2dW121tvv9WiVYt27dq179ChrWP7Fq3aOHZwOuTlhwgRRHNhwY2hQ752cXFZs3a9gDFMpCSaIsJDpk6d8Or//lundu2WLVo4ODg0adr4tSqvObm47tq7X2MwcRIEZ+/YtaW7U9d6deu2d3Rs396xcZOG9T+p7+LmFh4ZYzKLatStrBCiWMQDOMVAk2ERib3bN1V79dV//+uV/l8PPnL2nFmGcF4iiZy+5PRJv1Z2zd95r2bj5k3bdWzXprXdR3Xe/8zNzcnZbdyEKQVFGjplE52VFSZmpZOkwmJwnNlUEhJ8qV+/PvXrf9SgQQNHx3adOnVp375Ti+Z2Dg7tV61am5WVhhB340bmps2b33zzrd83bCoq0dCF5bAsCzeyohbMdYe5lXbuy8zLFRAvCkZtacGv82Y1atTw3Vrv2Tu0bd7KwdPzcEFBblpq7NIl86pXr/7H+o0FxcVUOSAIBIclOszZGamzf5ne4NNP69X7wMHBsX37zp0cO7Vp3eajTz7q1L2LURAw4jlzga/v7hYtm/T9cmDw9eswgEIUujw2/9vKxQ4O9m49Pisq0ZklXmPM8z++v3mLZrVqvd+sWYv27du3bNnyjRrVunXv0rFTl/ETpur0ZoRg2cG83Iw9u7d9UK9OrVrvN20KK+I1bdG0Xce2EyeN69+//6Bvhydn5xskUcQmvTb38tkTXTp1fuONGvU++KBNW4fWDq3rfVCvTt0PhgwdcebseQ4c1Xi9rnDHtvX1P/mwYZNGDm0d2jk6Nm3U6L133509d35EXCKP2YIOz88zjrWEEWAEnkICTDk8hZ3CqsQI/BUCtykHOtOoRGSziLQ+hw8uX7HikI+vnhfpC3BJRlxBbpbvYa/pM2Z4+x7JvJkrEIQUichI4E3XrlyeNXP6rp27M29kg3s9zIYpmMza+IQo78MHFi9eMGvWzFmzZ/26cOHmLduCgq8UFBbzAk8NbpjZ32zSxcdFHzqwf+6c2bNmeyxbtsTz0MErIcGXLl2aNXvOuQsXzLxlbn4sGfPzsoKCL23fuWPuvLmzZs+aPXv2/F8X/LFh84lT57Nv5sErfgnckHbt2rxu3ZrzFy/DmAOBeTz1+qLExCg/X6+lSxZ7eHjM9Jg5a86s3Xt2BV25kpNXyEtYAh8hIedm1sWLZ7ds3jRv7pxZs2YuXrJo155d18PCdHqjhMCpC8vUEYiOOdABB4SIiJGZN5aEXDht36zZGzXenj57fmJ2Dg/ruhGCJCyYS4pyLl0+s3Ltytnz53jM8Vi2dMmp4ycCTgTs2LHnkLcvTOlDMMESwRJdQ5pAQkgtYsms1RaHhV39c9+exYsXAUn4mb1y5SpfX/+0tHSzSS8TUaspDgwMnPGLx8XLgXqjkU6ES2RZ1JRknzx+2GPWnAvB14p1Ooh4xoLIG1OS43bu2j577hyPufOWLl+VmJjCc6aioptnzhyfMWPGpcAgvckkwTCUujIdIrA+tD41OeGo/5HVq1d5eHjMmjV7jsfsZcuW7ti942LwZfDLwrwkaGKiQ1asXLJlx860rCxYLIIoMKZFhAvnA35buWz9+g1GMy8QiUf6/ML0CxfOrlq1au7cuR4eHkuXLj1+/OhhH6+NmzZ5e/tyHIQjYCzwvD7nRvrJE/6LFy/08PBYsHDB5q2bg68GhlwJ3LNnz649+wp1RjOGKBpR0OpK88NDQ3ft3rVoySKPWTNnz521aMliT6/DkVGxJaVahMG/TpQMN26knDhxZMXK5XPnzvPwmLV0yVIvT8/ElFSNwSQRNi3rX3l6sGsYAUaAEXhIAkw5PCQ4lowReNIE5DLeStS8gzXBeEyM2dlpsfGx6dnZPMYYzD4kY1HkDAX5NyMiI3PyCsCPRCbqGmIYi0VFueER19LS0owmo7qmGIgHIiBs1mgLEpNiQ8OuhoaFxsTG38jJFSW6DhvE70KoAFFfaYtccREsdxARHpqQEFdYVMjxfGFRUWRURF5+LkI0WFcGXySMJbPZnJtfEBkVFRYWGhZ2PSoqIi0jXWswijRjjCVRNKWmxiUkxOUXFBKYQhXRUgRY3NloSExIDA8LDwsLjYgMLywu4EWeLr1G6MtxWATAZDLcuJEdEREWFnY9Pj42Nz+XBkuALQ+5UZseXJVonAMmEHogiWazvuTS2YAmn3zSoqX91t17S82cQN10ZIRkJBLE84IhJSMpPDo8NOx6fFwcb+I0JZr0jCzgjESoJoguWJaNlkLX2QAFAZHTomQuKMyNi48JDb1Gt+tJSUklJaWSGldNRIE3FRTkR0RG5RcUCqIEOkTGmIgCp8vNyYiMir5ZWGwSBaSWggUkmXNyMqNiokIjIuMTkg0GE8ESz+vz8rIjIiIKCosEJGHwZKMCRh0CgaUURL1em5aWEhZ2PSwsNDw0LC4uNifvpknkJIj3EAk2arW5CYmxyalpWqMRlKVFOYgF+TcSEmKTkpJhMQ0ZI5lH2MTzprS01MjIiNDQ0Pj4eI6DZqampWRnZ2OQDTBTLSaihDiTSZOYGBMedj0qOiozO0tAgl6vyczMSEvPNEtIkDEiHMEmGfMEo8LCwoTE+LCw6+ERofEJ8aWlGkkCMUVduARMOITNJpMmOSkhMiIyNDQsLj6+pLQUZtxiK8E96acSK58RYASeewJMOTz3Xcwa+LwSkBUFxAMNc1DDpTG4pig8Df+lTvfUVpYJVoikyJJCFzNAdNE4TJWDQi1RTGfmsYRLqKY1XCkSy0xBItiUYIMq1k0NyFbtNHDuJ2B0SjIhCqzhC6tx0YWNZYjQhbhhiz2tWrDUZUjNCsOSA9SIR1CiaumC+xAmMC2nTM1Wao6rk6giWVYgd/U4TPlPjVs1LTWU4ZU/jReHAQO60a90OiVbSAgcR2AVQ/gvbEjibmanb9+88Y2qr383ZOj5y0E8lumyYgSMZAyaByYUVURaIrXJYfAC/kMyksBDSV1gTm0CvPamr+pVHQGVp/ORQuAAbQ7UjUYyUHpUfVGBBAgsGcsYwSCGCEY1nUFWkjH0GljQsIYdIQIdM5GhU+AwkmFyJxoXLcsYPLIsS1eoPUtXzlaZwELXioJp72NEoP609qA8FYWXFRCcEEENtVRFqRr8jWR6BDJXF6+AnrX1thqpr3Y3hm6FQAuMYTU6SZZhFigZHMMgc1hvmxIjsgI3JGQo0gtocDitMRQFzZHoeJp6hxM6ATFMQQt3DiyCB7cNkoGU2gFsxOF5fd6xdjECjMBTQoAph6ekI1g1GIGHIKAqB1j8im4y2HsK9TGhb74x2Prw8pvaWAhkBhiMsIFPBygKsPawLCEFEcgEq9YYCACw6OhGrUN4ow9rFav2sDrggAj8qOYdLH9GyioHapnKYNuBhUctaLrWMVEga4viwfSsSBSR2peqPU1HGCDaG6mvmelSFbAYHVUgsrWxMGZCo5yRWjdqX6omJyEKhnLUMQaLhLCcssoJdaACJg4CFxgsXLsSOPbH0a+++r8NGzdmZt+AWU4hFxnwWIxwTCx1AG4KsCBEkbAiIjhutdVVAURDHVQJQyUBHZwBMSaqFbj1CYt/S4Aa6glKDpiC+qJeVarTE6ErM9DYa9p+4AbTvyo0gBk6Dkx62vtg3NOeAgj0uHoWdql4UJUjXf2Dmt3QRMBF0ymiAvcPfLUEOKiZAwlVKFKhArePKkIs3lBq5QE4NATkkEJbSrsGokoURVBkgUaQWzKnSWB8BisK1Y0gTqBd0GvWFimiej+XOUgHl2gFFBAVElEQVggspA3xJVRNP8RvEkvCCDACjAAj8NcIMOXw1zixqxiBp5GARTmUqZoqDaz+MtRypFYXmNHqZWp4BBigqkEMr+MRBoNPodIAqeKBprK8padGJbVEVSUCpqHF0qUl3PoK9ptqw95VOdAX5mDhUkcra3E0NkC1Bak9SvUArIpgGcSAmARELDLGYg3Td/qq8apWUrU11aEMavWCNaxyUM1clUUZk1cti9rpSOTOnj45evQPvXr3iYqK4gWejpXAa3lVElg0E01Cq61KH9ASWAHdBXjpiAy1e6l0sRjq8Gb/lp1tM7htO7dkA1ZHbCwVVUDGUc8ntWkqcLWxhIoNkZrpNjubKCAVVD7QY9Qmh04HOxw2EDuqcKM9ANipogOVpSoHq1ZUm1v2LiqLGm4dmn85pLSZFiEEY1w0c4uMAQFANa2akHaNJU9VpdA7irbRMt8wvY9oKlAW9L5Sy1ObQ+8gOmClIKRgSb3zqPwt8+vAdhkBRoARYAQeMQGmHB4xUJYdI/A4CFgmnrxTOSjUolKdZWx2s+rXdGuySstqEPBKH6xS9Q09rbY6IAFjEurLW4utRnUGuJfQ41Y72Gayq5YxfKVGLlxEs4A30ApdU1m1XKn9RwcmLK+Gyw6GgD1qcXZSdYLlLT68I1drSBUF2Ia0qqpGUjWIZWE81UampVvfo1OHLgWqYYNgiyy3ureAv4uUl5tz7drVoOAgnV6PCV32gb68p/Y2tIz+0LTQTGqPg/bC6jtvOKQeVCmoRjyRqU+QasdbuoOytdSBjgKB386tg2AiA0lgob5Hp1ApUbV31KoQsKdVxaJW7Y4GWpOosgGEI2QInajmI6kdSn3QsKXu6mAKyAyLwLTkrYoXKwXb7UHPqmDVPqdOUJC/6g1FWVBUFsVCtRhkBrW1dgQVjVZXOFsZav+CNlCLo7eiKk7Ua4CAArcKBsmldgj8S3et9Wb/MgKMACPACDxaAkw5PFqeLDdG4LEQsBiyqnKwDCZYC7YZ1qpBfzdDymLsWZSDarTR5Kr9p5625Gd90WuJcVANvjLvgK1GJVxH7XP6AZLEoiCsAwzUtlMlhNWpxGZuqnoATEnqcqJ62mDwp4LxCYgioH4v9NW4tV7URlRNVVqw9UM1kalHUVkT8xaWWzar2ja1TDoIQMMIVOOd6iJqjtM6q22jxq5q99JmWmtLM1cvoRqCOvFDVAJ1arIgVP+xpLOazlYb3WJGQ90sfjdUOdAX8BaiFovf0veWVtgsbWv321pHd0Ay0UqqNjWMjFgvQLRoW7tU5WFt2y3lYCvOVoC1nbYDsFNWyKndStQc1XPW+8Gir6wtslUG7lJrvrYqqTLAerPAFTSsH+pmKZEOnNl8lFQtcbcb/raqsi+MACPACDACD0+AKYeHZ8dSMgJPjMAtc0412MtWRD1neacLL6/BgrNZcdY9MM9uvRKmBp06XkFtvFv50xfEqiOO5YU0WHs2W/jOgtUj1Pqz2YWWCthOWY1B1cSkYRcWmWHxrlFdf6hfkMUMVc131aik+agNLGNcWutMT6jOQ7YCbdakBQu1nmmtLPxu4aK+OKocoi21ALMltNm+FqSWKqn/0E9aVUuMCWWvVqPcp7XEW6a8DRfgUb/c0V4rOQtRa7/dlretqio6yEMNAaCJbRW1jCBZbwhbc1QtYsvEivVWEdY63DpiUw5lBk+sgzDqVbfS2MqHAm81WZWU9OStg/SCssXIaowMPWTtKFsDIDebkiybiu0zAowAI8AIPDICTDk8MpQsI0aAEXgoAjbbVDUq78zDdsEDnSp7cQU5lL3sEe4//hLvWvnHXI3HUFzFRdzrFrorHHaQEWAEGAFG4IEJMOXwwMhYAkaAEWAEGAFGgBFgBBgBRuAFJMCUwwvY6azJjAAjwAgwAowAI8AIMAKMwAMTYMrhgZGxBIwAI8AIMAKMACPACDACjMALSIAphxew01mTGQFGgBFgBBgBRoARYAQYgQcmwJTDAyNjCRgBRoARYAQYAUaAEWAEGIEXkABTDi9gp7MmMwKMACPACDACjAAjwAgwAg9MgCmHB0bGEjACjAAjwAgwAowAI8AIMAIvIAGmHF7ATmdNZgQYAUaAEWAEGAFGgBFgBB6YAFMOD4yMJWAEGAFGgBFgBBgBRoARYAReQAJMObyAnc6azAj8HQJEUe61Vby+r6Io8r3TEnq2gor9nbQVZPtXTlVc9L1oqMcrlclfqXwF11Rquyool516ygioS2/f6/MpqyyrDiPACDxZAkw5PFn+rHRG4JkjcC/7Qj1ecXP+TlpVeFSQQ8VF/82zFZR731MVF11x8orT/s2zFRdd8dm/WTRL/jQRYF39NPUGqwsj8JQTYMrhKe8gVj1GgBFgBBgBRqAyCTDlUJl0Wd6MwHNGgCmH56xDWXMYAUaAEWAEGAFGgBFgBBiBSiHAlEOlYGWZMgKMACPACDACjAAjwAgwAs8ZAaYcnrMOZc1hBB6AgCzfN373AXJjlzICjAAj8NQSkMv8POZKqiU/5kJZcYxAJRFgyqGSwLJsGYGnlsAtp2ZZVmc0unWETnBU8deK21V5ae8rciou+u+crbjJ9z1bcdEVJ6847d88W3HR9z37N0v/O8nvWzd2wd0JvLAmbBnVYNm9O6C/evQB7l5ZJupmfbr+1TLYdYzA00mAKYens19YrRiBR0ag3J9M27yosozVzXbkr+1U/CfzvlOUVpC84rT3FTn3Tf53Lqig2vc9VXG5FSevOO3fPFtx0RWf/ZtF3ye57ea8c+d+s/c+sl+c5zKjssrB9mSwGLbUvLUdfDF3/lqny7bb8q88M++4+L4vQf5aLdhVjMATIsCUwxMCJoaLWAAAIABJREFUz4plBCqfwF3/9qt/6mx/zNgOI/DUEiAE3bnRgbLK/+V5Tku485lAoPtJ2Y0octntziTPxRGi/tyrLXft/zIXW167POjvDn38MuVwV7rs4DNDgCmHZ6arWEUZgQclUObvXNld9Q2j+pfP9rax3Ffb8XI7WJZRhRu2Dc3fbafi5BXXoeK0iP4JL1fbR/X1vkU/KSZ/s4EVV7visxV31t+qGCG4zGYTD5aDLDjnQZ8DZa8v+yBQ9wkhWMYVKoe/1Zt3ew48FRnSe8yiH+g/6i1NqcCalXf5sdEDZtYx2zI7tnbBWaJYHobWi+EZdR/loI7z3aVkdogReIoIMOXwFHUGqwoj8GgJWP/O2f6eqTtwWH2rKMsyIaoTbpkXcAqctm1W31yb70rFfia2y+61U0HyeyWxHa8g7X19mWyZPNxOxUVXfPa+JVaQ/L5p/+YFFRRd8am/WW5FycHSIgQMMyITgrEMmkG9UwkhTDn8nacE/MYTTDCQVffgi4JkBcsKoZv1sWH5l45JlLOS4WLrVu6UbD1uu6DsTsUXV3wWDPE7trKZP8g+kREmEsLI+gDERJZkWSIywfBwvId0UBT6zKQE1XuSPj7pQ9TKDe5QQhSMFdBjtvxlRZKB860737Z3q0PvcujWSbbHCDwlBJhyeEo6glWDEagUAvSv2W1/++F9LoG/7grYZeD6IYO9QI0064GyvgpEIWxjBB4PAdV4BdEANx18wzJGMsIyIhgThDHGTDk8zJPC+g4dfvkxxlaciGBEEDWa1VE7+lbBagPf+fQA2/1OA72sQX/n2XJHKr74r5+9a03KlXXvr0RGCEsiQgjuMYUKU0mWRSLj+yoH4IdVNauO1lARRsUuIUgGnogoElYkDLcuiF1aiETRyXTYAQYfbDLB0jnlvz9MP7M0jMBjIMCUw2OAzIpgBJ4YAWpmWZSD6jIuIVHCIpYleNEIP/B6jY4wEFmBEXaskFsbtduQjNjGCDweAiASQNHCi1tZxkiRJEWUiICQIIm8JImEkCf26/TsFmx9141lImEsIixgwmMiECISLBEREQmDOKOjEeqrBHj1XvatgSX4AStyua3si4Zyp+78WvHFFZ+lNv09q1FxWWVzhhuLEISIgIhIFBHMfBmMfhh2AGl652zVtkMQHI0xkqj2AgUGGygJ+F9E2ExkM5EFWRZkhZcVnoB7pzrYS12VIGuiKKrb0q0BCLizbMrh2b3NWM1fDAJMObwY/cxa+aISKKccEBIFSeCRKBJJlEUMUgGMA6yAiYbgPRnYbeofOio4iOVvo/oXEv7aSmxjBCqTAKImIAyKSQoRFMTJIk8EEQsSFgTRjDF6UX+bH77doMNgcFHBRBYx5rBkVIhWlnSyZFIkThE4haefEgfAMXzCcYlTRE6WOBnZNrOMy2624+pO2VN33S97/Z0XlD3LyajcBRWfveNiDA2528bLWCREIjJPFKOimNWxBnAsos/D+ykHhLEAWhakF08Ih5FAkIQRAuXAg2Yggkw4mZgUmVNkkb6Koc9U+ryVQTmovXFLLFjHhB6+i1lKRuCxEWDK4bGhZgUxAk+AgE05EHD1kBASRSTeLCy6GhUfEp0UEp0SEp0KW0xqcExycAx8vRqdejXKuqlfb/tMuRqdcjU6mW2MQCUQgLsrJDotJDotODo1KDo1MDotMDolMCoxODLhekxiQnqm1mh8Ar9Iz3iRMKhIX6QTmWjMupjcxBPJV3yTgnySg/xSgvyTLx+FLfBoctDRlJCjKSHHYAs+lhJ8NCXoaGow3UKOpob4p4b4p5TfjqbCKXW782y5I7YrIbcHzcpayr1qUjbDMg1Rm1PmMznkRNKVk0nXjiVdP5YcGpKVmK0pQnSCKTDwaZRXuQ63jXQRIvMCupGniUnNCU2+EZaeF5FVmFyoyzMKOgmbCeYI5gkWZCQpCKtjC9QflAo367CC+i8tw3pIHfhlCqIcePb1aSTAlMPT2CusTozAoyJAR94t3kqgHLDEY/Hc1Qj3RVumr/Gbuvro1NXHpq4+Dtsadf8YPVLB51Gain0yApVCYNrqY1NXHZ+66tjUVcfcV59wXxUwZdWJqb8dnf6bn8dq702HziRm5jJ3pQd+PlDpQBQiyTipIG39uV1DD8wd4DWnr8+cPj6z+/qq25y+vnP7+czv5zu/n+88us3t5zu3r9+c2zbfOX3LbhWfLXulul/x9X/n7O1l9fOdU8HW32ful4fn9fdZMPDQglnHt55KvMbJEqIBNnTMtbwFTx+k8EGIrDfxAZci1u05tmCz34LtAYt3n199MHD70WsHz0QcuRxzJiz1anJOcqG2iJN4BcKiYSBDnWZJ9UiieZXZBUlXZitf9AP3NUvACFQyAaYcKhkwy54ReKIEyioHGHYgiMPSTt8z9r3cu/6ws9OovR1H7e846kAH+NzXaeS+jiP3dxi1v/09t33tR/3JNkag8gh0GLWv04h9nUb82XHkvg4jD3Yc4dlpxMHOI/Z3/X5Xt2Hrx8zfExSZiunr8yf6i/WsFU4tU6xgQZZCMsJH7plWZ+nnb6zrXWVT7/9t6vW/Lb1ega33K1v6vrK5n2Xb0veVLX3owV6vbPni+dqgvf/b3PvVzf2qr+7jtHXCtqt+RkWQwDdTdeG8i/muigciy3oT53/u2oqtvjNXe85Yc2T62uPT1/rPXOfnsc5v1roj8zaeXLb77I7jEQFh2ZEZRck5mkItbxZgFicaik1nCqNR1KAp4BuN6ikrHtjt/az9er1o9WXK4UXrcdbeF4vAncpBkPFu/8ttvvz1symnXaecc3a/4DT5Ynf3S90nX3CZdMl18iVn94vOU9jGCDwhAu4X3CZfcJt83sX9orN7kMvkYNdJl90mXnAbf9JlzP7RizwDo9OZcnjQpxgYwhD3TCQFXckOH3Fg6rt/fFFlT99XPPv/26vfP737/tO7H92+/Kf3AOv25T+9+8N2uO/ztnlDi/7l0+8/h7+ssrNv9/0Tt4f5mSzKgcYz38N2V8UDJhDkYBRwqRnn66XMYi4+RxOScPP4lbTdR6Pn/XFq6Iy937jvGTX78LSVJ1ftunjmWkZGgVFnljgBixKWIC5C5BGHZIi2ACcp+IEOsow83KP0B+10dj0jUEkEmHKoJLAsW0bgqSBwh3LAgizv8g+xH7DEZfJpJ/ezTu4Xndwvd5sS2G3KJWf3yy7uQS5TgtnGCDwpAq5Tgt3gJgxymhrcfepV5ylXnCdfdpl00WXCaecfD/24xCsohimHB362qK/QZUVGCrmaHTH80LQamz7/z74+//Tq9w/vvi/79nrZt/fLvn1e9un7sk8/69b3Zd++cBBOPW/bP/x6//NIn3/79f3f7l7d9o3bHurLKwKCKavpvLA0KOFOyqpygOmVZJnGjWEREV4iZglrOanYKBQa+JwSY2KONiQu1+tcwpLtl0bP+XP0nL3TVnit33cxPKWwmBPNhEAsBEYSHQS2LCABE1lZpIMakXJn6ewII/CUEGDK4SnpCFYNRqBSCNypHDhZ3nH0SqsBy10mn3Vyv+DkftnJPbi7e3C3KYFO7oFO7kHq1+70IPtkBB4nASf3YCf3YOfJQU7uQd2mBHeZcqW7e5DzlIuu7hdcJpxx+vHQmCWegUw5POCjQn2TrU77iRQSkh05xHNa9S1f/PtAv/87POAfPv1e8u31kt8XL/n1fsm3z0u+fa1bH/ha/qDt7DO90+dlvz7/d6T3P/36vALK4ecdob6CLNL18eg6IvcgbFMOdE5WCaa0hSUgJCQTkc5vK2KYQZjHUqmZzyjShaYWHL+avOt42NIdp6ev9J67/ugfhy5djMrM0wkmOuKA6HJ8IOjoOnQwnRjs29a1LFePu/hQlbuCfWUEHgMBphweA2RWBCPwxAjYlANM1A7ztcOsgTv8r7QcsMLF/Rw4Jk0OdJoc3H1ySDf3oO7uQXQ/uDscUbeg7pPZxgg8VgJOk4OcJgd1cw/q4g63pbP7RVf3i6pyGL34UGB0GvNWeqAHitURBpxhqHKI+M5zWrWtX/zrYL//8xnwD1+bcuhFlQMVDKAf+rzk2/slP/XgM60T7lL5l317/8Ov9//59f3fLptyQKAc4IkJoO71o4oHRBAsiSPT1SBkUV3xDRY8oetkIFkUZYkniCNEL6LMIsPl6KzdR68t2howdeXhZdvPeZ+JC08uKDYjDhMJJrwGESIroiyLdBZXRNfMgDGIMqoPZmiia0Hcq2rsOCPwmAgw5fCYQLNiGIEnQoBOBkKXOFU/ZCIo8g7/kJZfLne1KIfLVDwEdXMP6T45xGnylVube4j6Dtj6CW+CrfvwbphtjEBlEHCG+xDGwbpMudLNPcR5cqDLpMsuE846/3hwzOJDQUw5PPijhJrC8IEVciU7Yigoh8//dbDPPw73e9mnz8t+vV/y+xx0gmXAocyORTmocuK5+ez9km/vl0E59K+yq48THXPgFUQnZlWlQwXaASa4JXTRTPqJiIJsX6mEkLAMi95YV+pGVE/IGh7FZmv2HAv3WHV00sLDq3ZeCowtyCrldILEIQkWk4M1EEV4QmNBISKMQkApsurERBfegRBrGkr94HcAS8EIPDoCTDk8OpYsJ0bg6SNwF+UAYw53VQ5XupeVDZOvODHlwNTRkyDAlMMjf5CAIUzfpZdRDp8x5fB/vv2r7ATlsD3Ul1OQJBMkw7jDPcIcLN1yu3LARMEyrKcJO0TBIABggBcWj1YkmJZVRjCXqyjLBiTnG3FkumaPf+RPsw7++MuBQwGJyflmI6aTt4LggLXkCBHo5ZICOVuUwyO/JViGjMBDE2DK4aHRsYSMwDNA4C8rh8Bu7kw5sFGUp4IAUw6P/MnClEMZRyzqhaWOOTyscoB5qm7fbMoBQqyJrCCFygaFDkhgmXo3CRiZEdGYUWqe4XRo1tLNF39ZdmTd3kuXo7M1omKWFAFjicB4BYI5lyS6DAR1oFL9p2yuS4/8/mAZMgIPQoAphwehxa5lBJ41Akw5VIY7DcuzUgkw5fDIHzNMOTxq5aBa8bc+QUiAkU8XoSYyjBZgWYYFG5BMJBnckCSERESwiLFJwvkGMSg6d5v3tYUbTyzfcerktZQcLa8XMQfOTYhGPtChCvCMguwgwqHiCIxHftOwDBmBexBgyuEeYNhhRuC5IMCUQ6XauCzzyiBQsXJgEdIP8WS6n3Lo9YLGOTz4mIMaIX3XLlBP0QhrrNCJW8FRCaIXkCzDGALGsIADIpJEkEgUg0ASc7T7T4bPWus7e71fQGhKerHeICKIkIBIawnTOS2wjK1DGLhiN6q71oodZAQeOQGmHB45UpYhI/AUEWDKoTJMW5ZnpRKoQDmwuZUe7uFSTjkM85xebetn/zrY9x8+/V/26U1nZf3sRYyQ/svKwaYK7rpze6fIMoQtiLIiEdhgpTc6PwWCiVshhkGiURAKkjCHSVap+Uhg0k+/7pm+yvP4taQCoyBhIoocJoJERAFJEkYEoqVFqh+gJ9kPI/BkCTDl8GT5s9IZgcolwJRDpdq4LPPKIMCUwyN/KDDl8Ai9le7bOxDWrBCsYKwgDGHTRPU0ok5HEp1xFWZYlYkiYcUkyTml3NmwG5OXHJy91v94UJJelAUkiYQXZUEkSEKEyGoENlsj7r7s2QWPgwBTDo+DMiuDEXhSBJhyqAzTluVZqQSYcnjkjwumHB6vclBU8UAHHxCNpaY9AM5G1lXe6FrVMAMTVsyinK8T/C8n/bo+4NcNAUeDkzUi4rEkYVFCkogIkmWsTrLEhhwe+e8Gy/DBCTDl8ODMWApG4NkhwJRDpdq4LPPKIMCUwyN/wFSoHPowb6UHmpX1r/QOtfAJrLyn0DWhaSg1RDjTZeboLK4ikQWYBhbLGMs8wjmlvNeZ+Dl/nJr5x6nAhLxSIw+eShIoB0kmGCKwqe74K8WzaxiByiTAlENl0mV5MwJPmgBTDo/ItLUtiqcuh8dWxKvE+VudYV2Ru6wE5zT24OglbA3ph3mmqG+8FXCXwVeyI26Pc7hTOfR5CRaWpstI+/W+/W3987EYnHUluL8c5/Aw0GEqVeqTBDO4ltmFMQiCFRHLnIxFBUMgtCiJPCYZhaY/A+LGLPRbuONybEYxz8McrRJM1fr/7L13cBx3ludJK/VsT3dPz+7FxcXdbdzdvxu3uzOzG7E7000S5WELjk6OlCiJFEmgKk0VHEFPggYEjUiKBvQGtgxsee/hvffee1sOF++XAATKXlOkRImF+KlUqEJm/vJlMet9fu/73kPtISDw4As6vNSl8G30Si3gI4dXak7fznwWeMMs8LeTw6qL/Bpdw1fkzf9sM6Raa1tRC20jgzAwCCODMDFWW25/s2XezzaxHzkQE7esDsrmdAI8cmq8sVcByIGw0AjL1jU9pJl8Nf1g2udJ6aaqFrfPf/ob7zMr5OB1L7lsnaWIHFAPaciQDoOYQ07AOmgXHbYMDMvkgOBB8hpoQRq6jhqvY+c/vs+fhxy+eZFezK6mekOjVm9et8cDxVgXXe76jtGbWaXh/OfPVTUdg1OoE7XTDfEGKO3q8bq/uVPf7z4L/OwW8JHDz25y3wF9FvgZLeAjh1fhH68lBxPCBiNQxDI5vLmsxcTNaAA/rJCDlU7Y0HiTpw0xBx85vML7xPeSg+gXIocfd+5fA658fdA3gRyAI9Al9kDfB4/L7XY6Xa7RmUVH41DsFUXc5QKZpXlyAfRMbkAH6FSNtE6v8HPh25XPAi9jAR85vIzVfNv4LPBrsYCPHF4FOaxd2jczcEqwtPbFN/Q5CjhYIW2AWJ2hlU5YUcxh7Yur774RT5iYjxxe8Q3GRw4vaq5+GXKgLurayAN6xbtKDi63c97lGpiay7e2xVwsuPrEUto0OA/gAJVdUZbEK/5g+Hbns8BLWMBHDi9hNN8mPgv8aizgI4c1TvMrcotxC0QbvvbFX9FuX/0OrUzchnIGbAzQU63O2UwnYLyxp+Ajh1d+f/GRw5tMDktLHirm4HIvujyL867F3omFL59aE6/KH+eXjcw5nR43qusKmRO+H58FfnEL+MjhF78Evgn4LPAaLeAjh1fhH1vXoMKLAQcQLK165G8YQsDc7GjYGJBzTM3TDBkay+MNm/AKO/nI4ZXfEd4oclgvCV0dLzr0r1WhtHbnv2TMYWlpaTXsgC40JFKvhB0WXe4Fl3th3u02lLWfvqk8fl1R3TMx7XK5IOiwKnB65R8Q3w59FvgbLOAjh7/BWL4/9VngV2eBv50cKC/z+x7fVC95xel8FZzwbX/6G3kOlOdtZlDBhzeWHMAmL3LOspUQ7bzB0/aRwyu/z7xB5CDmUtiwURK2URK2ihDUkw3SsA3Sr198bVzxC5PDi9d3mRwoePB4XB632+XxDE0tPpIWE0ni1Lzi3pmFBehD7fJ6XKgdNQURywDy4t58v/ks8Not4COH125i3wF8FvgFLeAjh1fBEiuVWKkIw+rjsl/+nd75t/Hj53/FTCeNdNK4XAmKQCIrCD7YmRiMlSjEzz+xHzmijxxe+R3jzSGH9WLuBnHoBnEoRQ7fQIVv/Pq2kQOkQXtgeLzuOafHUt6Z/EAjuCwq7RyemHe6gRygQCvUaF3z88o/Lb4d+izwwxbwkcMP28f3rs8Cv24L+MjhJ5MDJe9ZLcNqZ+AONGwrRVpRnaXXG/T4EVf7e87RTCcNAA9UDVkgBwsDMh8QOYCQ6Q2NIPnI4ZXfdN4EclgOL4hDN4pDN8GAmAOFCqtxBh85eL0ur9fl8Tpdbm/34HSWqvLTo48kloaukWmn2+VBrR2+AQ+v/NPi26HPAj9sAR85/LB9fO/6LPDrtsDfQg5WOixI//B4Q33N73GdX87h/sZWaxIDINoAa/ZorLZ3MCGE+MZWb8SvdNL0je4NVHsHBm5lfp0w/UZMde0V9JHDK7/p/GLksKZpw7IeSUKRQ9gmcdgmSdhGJE9aBoY1OqVlzJCGrZe+jp4Sb5xaiUp1AMESYMOi27vo9rhnnB5zVffhUxlXnxur24bmnVC5lcKG1ceV0q6v/CPj26HPAt9rAR85fK9pfG/4LPAbsMB3ksODXNs/RV5kExomoWfiRiZuYuAmOkG5xd9HDlQ1z9Us2xUBz3KJnlXFDlTsWfVW4QlpppPLZXyo19f4iKs7+bpa0bJr++IS/ne+iPbzLZL5Wkr0Iw4xtc/VRgdrZrW8Iao+ZEJ/ZmMs90BYE38gzCt7+NYc1pQtolMnArNamc//7xl+e0o/+soLlofqqzYaYacTdgZhQ7VZzQzCSCcNNNLAIA3oBNdcghXxFZrzSuWlr/OqYf7Lp7OaL/HiZfrR6VF/gCb5Q/WdEDlYaYR1TSc4A5Ov8nWCe+k70rfIIfYf7lKd4MJXOsEFrnSCC0caIaol3E/22qXcdWu6UK+XhG4AcuBukoRuknA3SUM35oRtkIZCzAEGNK4GLRP6M4CHt5EcnG7PgnfJ6fIszHncdV3jV57YYi9KjOWdM4sej8e9ygyrkYeX/lT4NvRZ4OUs4COHl7ObbyufBX4dFlijhoWnHq930et9mGP758iLLFLLWCUHgnKRLUwcSnmuLKvboawnYaVj4F/SSSONNDIJMxOaKBsYpJG5rKGnMnGRnh78URONsPoRNj/S6kda/EgTDQQzsDBPI8005FUjn9vEBBWNkQHvWmjINWfgVjZmYWPQv4zyMmmofigLN7HQKxSHINdztaOZhU6YkCZnuTUbE7exMBsLQ+3PUJQAHGgSmhgwUGc08IAxMxMOZGXxrUwCipYu+9yoezGDsNIElm0CwxZMzYT9lNCI0i2k/a+kaSupp5F6BmlgEkaYFWZi4mbKn0YQYobJQHtpOF86YaWBy25bSSoAPKNjNibuYMHrJgZmQqcJKctwystQAbIiOkFVQ1r17JcNgi4QdWpU3sLX3EIjLH6kdZvAtg1ZngbGN/qRYFsmZuXwLWzCtJXU/JtQ868C3b8Rhi2k2Q+HlthsAcwE5gNcYaSRFgb6PDBwGx23obOD604nLdsI8xa+3o9vpmEWGm5lkQAkawcCJIoKYP4vgBliJzRJ6lNhgpAIGiuZ3Msni8jBRiOs20h0dNzAxIEcGKiHtNHXQ/ol7z2epSU36iFdtjcz9h/uBW7OCNkgDl9H9ZCWBkEnaeghDe77CjyErpNwf0KyARdoBEYo8IM0dL00dL2Eu14SvCGXuzEnaKPEf4MkYJM4eIOYiwAmYp00cpM4fJMobIP4BeT4CXNYW1Jp9fkbFXNYvpzUvdoDmdBuj8ft9M7PexZ7J2bljvaDx55mqyr7xmad8PbXN/WX/CD4NvNZ4KdZwEcOP81+vq19FnizLfD1lwx69jU5RHwfOVD+KAhymJiVhZtZuJkJbqWRQegZpJ4Fa+2ouBBpZpJUi2LKQYT1eAQDIKan43YY4JHDOjeDMDKRSw2/4hYWsAH8MZ0w0gAtwMNG8GCheh4zcCsdt9IIMwIPONzy67DIDZ461QgZaYfAzYVDrLjdTDQNFEtZWTgnzDTEBpSsCGYFcn+YBgOj3lqNpQBdoEPbtgmsfqSJhTk4/BI2XsoQOLYIrFsElq0Cs58AWAXNCpEDOjR4yeAcI/cXt9Bxim3sVGgCTdLAIMzgbRMOxCpGOm5EjAEbLsPSylm8SA4rkEC9u3wIODQLt7DwVeNQZqRsbmKi0qs0wgIny7dx+FYOwJv+r6ThL4Tlr3w7jSimYRYGZmABBVnYwEjLTj9ceszKxKhQiRkYibAySAAwP9xEw0x0zELDLH6YkYYbGDABYM7lmAN6zqTyKHALkwDOQcahdm5Z+VSsBGEQTMK2K3tA7AoxB0QOZsYKOTAPpn+elGHykcN333O8S1Du/9uD+mso4IPIwW3rLF8mh8zgDeKwFXIIXiGHiFdHDqHrJSHrAUjgyQZp6EZp6CZp6Dt5oRtzwzbnhG4WBW/ODPx9Nvd32dx3xKGbpOHrcyKAHMQQefhp0LIKCd/55M0lh5UoscvpmV/0OCfmXdWd47zTGXeyrDXtwwveJfcadPjuD4LvVZ8FXrMFfOTwmg3s273PAr+oBb6DHDzeh1LbP38POSyLalASLQuzsHAjGzewMAMb1zNB3aRhEQZEEchvJpDniqEwBdLNUx4ktcrOwuwscNCBK5Z9R+T3g7+LQSdmOjj0Fj/SQietDCAHK42EAAJsgtnpuA3IQQBogfCDggoU/QByAL8c5ftaKAhZaVmAQIXUI1yh1rARV6z4r8xlh94GraBxI5MwQhgEPHKKQEwwMcxKw+w0wsESOgJIa4TQujPOyo0zMQTmraR9C+nYKrD6CUw0chVpUGBh7RI7kA8s2COZELVnAwNmZWKhk4UwC24AoKLUYss8tkoIa2MOKC4B015t/7wCYygUw8INTLgoyG64jYVbWbiRhRvQo5UODGNjYg423x5AmoPi9CEJpqBYG5tv5+DFDMwG4RfczMZtbMwO3j+cxddBG8QzEPBB19HGJGxM0oqOZWFglm2Yjkbo6ATAA4qTAKohmIErSJEAk3oFAyOgaIwZZohZUFyI+nhQrLVa+nYZQmiEZRtEilbJQc38IgORQ6vbC+qb7//5tvf8Nr+C+gcgbFha8riXPLbOir2ZcX+GmEMwOOjgo4esk74mcuBugKgFd4MkBCmUwjZJw97NDf87yY4/inb9L1nv/x9ZH/zH7Pf+MSP091nB70q4QBcgWApbL4barK861LC6wzeaHCDq4AW1ktPtnHN6u8cWTtyUX7yvNZS3z/nI4fv/2fve+dks4COHn83UvgP5LPALWOBvJge0os/A7CwQ1ZhZhJEtMAQIdSFxuuA4TVCsJiROGxSr84/RsAVqFq5lo/XmFT39ctNiqnUxC0IWFiYsXduYWBETKwbnHsROIIwB15kEURONsDMJ8HdhGR4oAjxL8GIxG7Q6JmGdnmrTVUPJAAAgAElEQVSBDGEHCF8Y6BCsoHxrG6zWU7EO8HqX+52hHslrl7QhJwHpoCwsWEe3gmyJMAQI9aEJpuA4CwcyMUywW4gkWOiYlQ5/ZgsUWj84YSSumOO/NO05IQ8g1TTcuo0o2kbatglgqkwQLJlheX4lH4AKHSAvHyawItdZ3bmZjpvouJkpMPnHGoLjzP4EuPgoJoPOlGIYSq0EoAVwAhotRFkg94JhQmZB5Z4IM4PUMZDwjIWb2ZgNab2QDAxoxIbIAepBsTBrSIxmf7KBuGmLSrFuF2iCMCMDs9IIO4Ok6rQ6qBgOYB7Sp4HlgfqQeAwzM/gWNmbn4LYA0hISawuJt3FijCwBuiIQhoKYA5qDGc1hJfwC00B7QKEhJm5kY2aQTvGBT+BYBJAPAjl0aRCOQvSDNIORYQ6Ir/ga5heZn5/NNFX+MDlQi+setMT+9jyuotQ3GAnuOd4lr3fJvbTkWlpyu4AcKvdmxP85FZGDhLtezH195LAOtEkh6yTcjeJgKKYkitiQHfFuRuT/Jtr3/4p5jPzEHZqzLBnxf2VE/DGN/bts/43SYAQMkGWxHpDmNY03nRxQnoPT5XItOr0js867krITX8lFuqopNyiZVu/q32oq9wt8xfgO+RZawEcOb+FF953yW2SB1e8Y6gmolb4/5kAtGyNfjcp2sLJJU/gRY/SXJTF3iuPvFsffKYm7UxJ3tzTqivGDowXB0dIgvpaFm/wI+zbS4Uep0sGDhNVxGmhjIDVi2fUH+QrSCOEmNlpup7x/Jm7j8G2BPIs/D1xJBgGpDhzkVoI3SejZmB7xCSX+saJUB3DxkT+9HHyg4g8ICagM77XqIzsDL6ETdqTtMbJBeWVhEeYgoXbPGWPig1rsy4rIRBOT0NIEBj/SuKJrMjJxbSCWdyO/0dE+aawbJK6quKSczTezAIEckHaM2zl8qz8f+IFGmlaiECDWQuIr8PtZsBgPU0Ini5rHAZtpdpwyYrfL+ddLt8cZ2LgOkYABpTpQtVPhvJDjvpy2zoI4wNcqL8AnyA+xwkxIC12gYxAGJmZm860sDJb/aSjPBFnJQEOL/RxS/d4xqai0y949naZv/yguLxBT00nLVqFjq8BOI4toRLEfYadBRjtkqqDMEAAqFmAMiMdYmM0fK2LzzLuPWfEbVfF3a/eeMAfjOiZmpKMsFBZm8efDYGOAN8viJQA/hEZIxbQSiDCiMBQV6qEq3oLdEAcaUYgDUiC2CSwwHyoyA+SQvf9Mlo8cfhCKXIgQVh+BnbxLHs+S27vk9HrdLq/b2lGxQg5BG147OSDRkTRkozh4oyRig2j3O+kf/odHe9mFZy80KxUzzYa5xhu9uf+Su+f3z2jvZLNXyIHa6qekWPwwcrzR5LDk8Xq8iy6Py+2EWkpTC648a/uxr+T38uz9s/PQCm7ltu4jh7fou/xNOlUfObxJV8M3F58FXqkFViSzy9U4ljOkV8lB8M0MaUQOaBGacECeA24NiTVFXXVoG8dKOkYrusYquiaKOyeKuyZtzSMFtq6rT8t3E7mBuJpGmLcRdj9wZCE5GKTtSGdCh/gACIfgFczGxovYuIODg+AeSYysTAJWu9k8e0C0LYDnYGNFkANApWgTDjppYxAmNq5Hq/IWP9zuh1tB2gQhAnBGabiRhrKrIUcCZDmQNsAEH9fO5FsZoImyMHA7HSuhwVY6FqFhAYdY2Jj+/RPGC5k11s4peeUIfsMWGCNjCFR+pI5G2lAkRB8YK4++ZlDXDdlbR+7nV76fKAnAVWyehc2Hs6ABDFjZiILopMFPaNwqNPihBHEQO5F2Omlh4EYGpqeUOYBS4ExDuggnRhb/tETTOqmsHPvslIHFVy2TAwRkUNIIOOJU1VfItEYBEyubZ+HwLBy+BdJOUIs3OmZl8UpYeDEENwgLi7Ch6IcZgYodaIo0MQWQnk7HtGFHFJdzKxw9U4qK/pN3bJFYXgBfT8NNW2Fp3wyogztALUYa6ZiBQTgAtHhydpTE/3A+i69jESYObgng2dhRmhPPavMrhrS1o1fSG3cKdP6Q523zgzlY2biZgxmZuH4bqYXzJa1w6QkTk0Szwu0IaSzQaAI30HATpGGQFB5QMSIjC1gR9Gx0YpkcqCQZFl/LOiBaJYcV3+nb//dAO623bnhQ+QOPd8mFCGERLRE43W4XvI7IweNd9HpcK+QQ9+fUwHcygjaipmzrIX2ZUiuFrhO/wgzp0HUQ0AhenxO8OYf7rmT3nzI//U/SuP1lz+73ltpm+ttdky3Ovuf9sn/N++Tv05ibxQEbISMiDGU4gIBqvfSHAeCl330TyWH53o+CRnDJqPu1xzu/6LY2DB25WXgt09g1OQtXdOVn7af/lX51+Hbms8APWcBHDj9kHd97Pgv8qi3wY+SAFqqXdfawEg/kgNIAUBFScHy5cZrY25aueXfv9FRxbWuOtiLbUJvvaC5rH20emC2qG7r4wLYzvoCJK2lI6sMi9UwCsqhZhJUJaRIgX0GL/VZYNcfty8kPKCjBAJ0SCkTAX4JIiYkqLKFVf0q5ZGGSFiYl1IG3HDSog7Ss4aGKF9EJBxo2Jm5kEToWoYd0Xr6NxbejHF8LFEfCbDSBEcgBp8IXZhah23VSfzar0t47LasaEFy3cQUKNqmhkQY/QKAipsC487T6jq7N3DGerm+KTlYHEvlQUQrlDTMhAcOyDcIpkF4MVCCwQEoGoQdaAOWSHdUwNdJxHRszsTCo3eQH3rOJiesD4/Iv5pS3L3ibB128s3p2tIxG6mmEHtWtQq72MjmYGKSRQUIMAazHt7F48EhHSh7wy3ErZG/zy6gYCAqDUFEdBwsrQokEJg5Iqiz+QtNnKVZV66imfvhaRtXHR1RBmJyDkptpBBS/oqG0E5SJoYU8FtweIrQeTrEnPSlKvGmOjNP4k3p/whTAN3H4quNPq/IrB7V1o5ee120XajmIHLaRNprARoNEZxODMKD8B0ggAZADSZKVgRfRiWIa6aABToAp6EAOoL9CBaBQyVeUkc/hW1gY6JSomAODMEION1/DPpB94EymGamV1vpMLz5/O8lh1QYQW/B4Fj3QbNjlhh/wQd1LHrfHicjBBRnSGUAOm9ODNopCN4jCXiM5QJIDIodc7p9EH/w3+dGoquz0iTrVZLdpsLNmtK/LOZDZW/gXIAf2ZlHQJkn4BkkYVX9p/dtJDpS8DKW6o5DC0qLLU9c3c/SrwgtPNM1DU2vJYU34YVWu9qv+yvJN/tdhAR85/Dquk2+WPgu8hAW+nxyskCGNYg5IRE5l+lKlgZA6HyQrBjqp4cbLYm/rehZdTQPDd9N0+wSP9yRKDl+Q35JWFLcMD8w4rfVD+8/k+WN5TFJLJ3VMoY4JS/sGDm5i80z+mI0DBVJRkjSswYPEn6qZg9IblouTMnE9Q6CjC7Q0UusHZU9BIs/E9UxMy0Zr1X5I/8Mm7GyqmCkkBoCwnkk42EQRhDIwKwfXBRBaDpADyPdZEN+wsflmNt/gj+uZpIaF6/wxMwe30UgDLUbrn6j89Jrxqqzh1LOyfSfNoZiBA+vcFj8CqkL5C4wfJmkeWTqfGlriv7KEYAUsXI+KzJppkFRtoMUYtwm0NEKHAgKlLMzOxo0cXMvBtWzMSKVtgFtMQH45C/I6wD9G8RBjUFxBck5597y3o28RP6PlRBXSSJ0fqVuJw6DqsWj5nwllcJfDOEiLBRnPsFsBKMEYpJmDOxA5FKGEciuIiwgjB7MF8G2BfGMgTxuIGTmYPSSu+ND18tya3i9FFQfPGIJ5apZAwxTqWaQJYZ6RTlDJEioWoQabY+adiZabea1lXVNyW8u+U4pAUsEhdRxCyxKoP7loPfWs+mJm3YGL1mBSx8JMdNzmR9q3Cmxb4ZTRHCCxHkIHLMzMBjKE+BKDdDBJOwu3og8GlGyCOrBQXwvK9aKyuTZUzAqoj05Y1pIDm6dmH8j84nSGubLFveonf8eTldV3KEH89gxoCIaGBzoQe5DMxeP2uL0uF7QWc0EUBkIxriWnrbN0b0bMP6YGvgPkEL5BFIHIIQTVVnrVMQcJd10Od31uyGZpyP+a9dHOouv3J8skE7XX6/RXi1V5LRVtroGs3sItefv+8BzIYbM4fKM4bANUZAqGx7cw5rBMDlAEAFJ2vNAWrnPMeeqO8ux9VXXXqAvVbV2JOqwKl3zk8BLfkL5NXtICPnJ4ScP5NvNZ4M23wA+Qwz9FXGCRWgYOa+RUlVWq/BESGqHcVig8qg49UpiQquuad1X1TVx8ZAs5LObgen+BYUdcwZ28qsFFb/ekG7+oDMbkLNy0DTf4CYx0gZYjUAcLVFxSE0oYggkjB0T5Oj+hmk6q/UjtVtKwhQAdS5DAFkqaQwldiEAVFKcOiC30j8n3FyrZhIWDmQIxTQiuCCZ0bJ6ZQ1iDBGYuYQwhTGw+6OBZsJSu5xCGEIE5TGAOI01cTBfIN7BXVP6oqJHNHzcF4zouqQkkFCGELgQ3++NmZqzuLzGqv8Qq6fGFgfHSELIgjKcPibKy+TZQQxEWJl8fwJdHCHM+PiH9IC4rEs8N5mvYfGg94Ufq/VCKBZM0sGO0/kJdAG4Jii7m8qzhhC5SoAoTKPz5Cn8oY2r3I+1bIEka2hFAmwsSZFQszBwYJ7+YU9k17+3scxKntZyoAhqpWSEHqowpVUJKzyJ0/oQukNAFCnSBQl2AUMcR6JiklgmJ4wYaoacTJg5ZxiLsHIEpIEYXGKsMipVxhdowgTZSoNwhKOTian++3Z8oCovTfng0/b2YrHBMzuYb/0Lqtgm1LNIYSJqDY0ycWI1/rIpDqtmYjoWb2ELd+2e199QtTUNztrKWg2ckIUKJf4yCFaPZFqOj4+pAQsklFYGkGlJWMCjfRCet23DgRn+BLoTUh+OGEFwXjOsDMAMbM7Ihi13HIbWBAi2XNERgtjDcFITpOZiOjerbgl6LhDxpFt/B4TtYkB8PVVmX8xwIA5un4uxP/+J0uuVHyOFtdqG8SygTGpoQo7CDy+VedLrnnZ55iDyAlsm5tGDtLNqbIfj3qf6/Sw/ZLIrcIIqENgs5IahlW9g6yausygq6Iyl3fS70ffvfJXt3VlxNGpZ/brvx3x7g4dIrdxotjS6IOWzJ++SPz9nvADmEQeoFkAN3vRg6wb2eJOk3WK2EyAFlp3ihjK53adHt7Z1ynn+gS7qnKW0e9JHDm//N+5ufoY8cfvOX2HeCb50FVlwnWI8Ff2FljQqJvz2LXu+DHMs/RZz/LnJAZXBAMW9HOntdWLzsyG1t97yrdnD60vPiIL6UTuiZpDWYkF3Nquyb8w7OeGOSDSF8LRO3+aEmcSGxMuym7WZhy31l2z1ZR/yN4t2xCnZUPhvXsgkDk9QzBGqOUL7jqPzY/epbOR0PCzseKdtSlW13lS235S3nMxt3HDH74+oDlx0XRQ1nnlbujpPEfGW7ntd6Tdoafbk0PNbKwUwsXBMozMXvOJKljbflHTfz2k4+qNkdrwzAlExC5yfQ0YVaJqkMEhR8elZ7RdJ2S9Z2K6/z1L2aT47ruDEqltAQEG/67ErJlYLWc89r9x0zB/F0DNy8FUqmqoLJ3C8uaK/nND9SNz9QN10W1WFX7SE8UQgpY+NaOiRJ28PjTCczGk+k1e4/b4iMlp693/CVpP1uQdu5tPIwPC2YKGRgmq24yS+mCFAEVtYh7RhVE9IHxOWfzy1vX/S2DywSZ9T+UXmr5EBVKGLgJhrfwCaVwULx/mTl1dzmu/L2u7KOSxn1WIqJG5UdiqkCUQ6DHwniIlZU7mdJhrNptTcVLTcVTbfkbXdkbany5nvKxiMPynaeMATGafelWG8pG048LPropI6BabYIDDQif3t8Ycx1x838jhvK9muF7YKbjl2xsnCBPOZh+Q11i7l1bGjK1ds1KdG33FE0n0qv3XvOzBAq9pwvPvW04VJG3YEzRq5Az+BDVzgmqeXwM6Kv6pOzau/KO28XtJ97WvvhEVlAdB4b0/jxlSxMtPu4NOau5aas/Z68646s88Sj8r2nlRyelI2rWISWSYB8jgEZ83Y2ypVH/RysVOEpFk/FPpD+xekMHzl8xx1t5d881c/B43W7PW6X2zO/4K6ua6usa+sfn5lzexc9rnnvvLnTjsgh4Hfp3O8iB6qHdOhyVwcpdGP4qUMaukkS9vdZO/+jdN9/Kjj4f4r2/Ifnn9EUl661WBpdw1m9si15n/whjbVZHLRxuRYT1ZMuAnWV/slH/475v9nkABfY7V1C5LC05PR4+6edlx4ZklI1jvo+Hzl8x+ff99LPawEfOfy89vYdzWeB12wBqiYlUi4gqYYLyqlAJT/4z+nxuBc8ngdSy79EJnHA6aR0+VD0kyohitJ5rUyUAcwg9GHxsvg72u45V93AzKXn9mB+BoOQMwn5J2dVz7VNfbPu2u5ZXpIxiK9n49YAoR77qvIreYuydrCif6aqf7amb85UNfyssOXYjWJulDyYZ/bHDeHHdMIHRQ/1rbqGscqe2br+2YbB2br+mYb+mdruGVX56J6T+gBh/tHn5aqGUW1lV5qqSlPVU9k3U9QxeVfd/v5JLTdGcfiq7Z6mSVM/VNI1Vd0/W9U3Y2ueSNe3Cb40h8YUsoRKplDx3hntqfRyaWlPSddsRd9sZc+ctWHiuar94+OGINIcmWA98aTO1j6jcPQKLxqCMRlNqPs3Uvn5Ff2XuZWyit6ynpn6gdnaodmi7il51eCDwrqoc/JIgSKApw/AzB8c1+WUD6hrerN0dVmqBkfTRFXPbFXvjK15NFNX/8U5RaBAvo0wbhUUMQgLGwI70FIa1Q7SUXkOHYve1gEnlqTyj85jEDoaFCc1bcNM21DTPTZPdfiy6VpeZUFVd0nfTMXAbGX/XFH7pKqs/0le3aGTmjChhinQ+UF5XPmZZ+U5tm5Hy0TlwEz5IPxxzcBs/cB0Tf9Uqrx+3zl1eKIs9lFpSe9UpqEFu2phEypWnOGzy6Y7BfWm6qGa7tnKgbny/jl11VDKs4oPYnKvy5s1beNtk4tT857pKVfz8GzlwKzE0UdeswcJ84g75WL7gL5i4PR1644YHSScCAy7z2huF1SrKnqKOycqB+Yq+2cdrZNp+raYW8XBsRqWQH48rfyZuUXXMFjeP1sxMFc1MGdtHc00tibeskaShQGYhg2NyQ1M0ko1fEAlqorouAO1j9DTopVbPks7fF5iqe5YfLF+0Gohobf8iXsJ5Flu79KCxzvr8U57vOOLnhx95eXH6muZFomlqXFgcnhxwdBV/nF24p9TQ95NC9uUHUmpldbnBK/EHKgEZaiLCsDwKshhgyR0szj83ezIf5e1/fdZ23+XtePv0j/+izL5aou12TUu6pX9NW/P36cxNkkCNopD1kkgV3u9JHSDJPztjDkABiKxEoIHr8uzNDTrupZmOntPbajsgPwVqss0WhSi9Hqv+VvFt3ufBV6wgI8cXjCH7xefBX7tFqD0Ch6qgrvX7XV63Ytet9sL3OB2uTzuGY83VWr5p4hzK+RgQtJ5qLwJHRig94KdgRXRoPeCISxeEX9H1z3nahudy9TUJtzSCO7aEh7aUxV11uah+v7Ju9KyD46o/fnaYKHh0/PGLHt/Se+0vW2ooLhNYuvOs3UWNY1UdUzKbL2fJ6h24KYwoeHwl/bs0t7KgRlTfY/M0SSzN2pKm7vH5ken3Q2tY8+lNR8mqthCyRlJRc3IXO/odMfwtKOxV1naJrW1XM6teP+k9GCK6pG2pXF03tHQqynpkNvaVMXtttqepsHZLH0LL0Xvj+VxsNzERyWy2oGa4SllaXOOtTHP3lTgaH2mbNxzzBBImLYnWpKzGzqnPZWNg8eu6oKJfHqcmnOsMFVTV9Y7UdM3pShul1vb8x3t6vr+0r6ppuH5RwWVh85oQnjqINz04XGVpX2sc2qmuX+0rntMVdpW4GjUVndV9Uz0z7hvicv2ntIwcN1WaBdt5oBihyp5ZGGSuqC4/OSc8s5Fb8uAk5+k9o8uYIL0yMQkzFtx0zZCFxCr/vCY+oGqsaR7sqJvoqCkUWxvyCluNtT11vVMdQzM38uu+vy0nk2qWHGavckaVd1QdfektaY319ostTcbm3pbxqcHZxfLmgdTnjk+PC7bflx5MrOqd8FtqOw5essegMuDE3VfyppLOydq24dUpto8S2Ohoy3X1n4lvXxnTN6RpxVPzC3lXaNjM87+wUl1RYvE3nQzp+ZgkilIkJf4uMrUON7QOXblrmVHrIpOqiPPGpNElQ1Dc3U948banjxHc569QV3Ramkbv17Yuv24NjhemVk2omkYUZR15dnbRNZ2WUlHZfdY0/BsoaN3/wk1l9CyCdCDQT0oSO2A7Go6XsKAVG9IK/fjKf/yeeaeoxkP8x3WmtbVYatptdWuHW222rduWGvabTXt9uq2ouo2e3W7uapNX9Wqq2pVV7Sfe2zeeyInMkF68Iruq9zqHFvjfbPuI9GZP90LfycjjMorWC8NWZ8T9F3kwP3J5ADSow0S7iYxHAu1dAh/R7Tr3bRP/qK8dLXF1uIaF4Na6SMgB3HgRjF0m0bkAFu9xeRAfRF5vUsel8c7Mue5kWk5c0+lKmlZpMjB63GjAQkuvh+fBX5eC/jI4ee1t+9oPgu8ZgsAOUDbJ/jKobIiISnSvbTgWZpxe2bc3t7ZxSuZlv8SeYVNaplQCwjWwqE4JnQMgBqpUKgHL2bgdhZuCovXxN8x9cy5RuZcLQMTxa0Dlo6h6pHprjln0/C02FAXiT/gYAVMTLX7hP5idkXblLOsc/BGlunD+MwwQhYpyE1Os9ta+ppGZi8+KNmToP3wmPZCVk3DuKuyYzj5vurj2CcfkE8OJD6x1vS39c/lKeo+PfQskq+g46KT2SX1o/PT8962vunrz8z7ErPej5dGxmbtTHj+pbSkqm+6fWT6cqr88NHsj4jMfbHZJ68V1HaO1vbO3cltDDycFRiV9UjdUj04Y6rvjD79ZBf5cJfgyZ74jL0J0iBcxSB04ccN50W1XbPuqqaBo1cNQXhewDH1oVRT1eB0x+iCRNO0P17yPiaOFEiirumeGFq6ZtyNQ3Nn7zvCcHkwYdqZIDe2jA06PS2DU1J944ETop0xT3iXC57rGscWl4oaRhNvOjg8lR8UbzVwMKg0ysQdDNLGJPVfk8Ogi5ek9Y+WgZwJChDZoJarULP9hPLsE0dF33T9wHy6smZf/OMI8tGO+LTYm+ocY/PghKu+c+bcvZIwQhaaoDkvLa8emtGWtp++rozkPQsnniemKlXV7U1DUw/FRR/H5fjz88NPGhKzansW3OaK/pM3HMH8grDjKnnzROPIjFju2Me/sf3ww/cFWXsTpe8l5rNJhZ+g8IMzBU/VdZ3Ds0XlzVFn08LIJ0F4TiCmZuKyo0/qLE2T9Z2jl27rw2Pz6QIp/tBhaJ8YnPaKVLWxlxW7hek78YeHz2amqhqTxA07TupDE9T3DQPJ6RUHT+XtwjO4PNHeBMnDgoqm4ZnmkcUj1x0RsXrIBiFNNAi5QHdt6AqCyIENSSN6OqbedlDK3n/rk8QHRPLzr8el52TK8hCkPBekpAlS0t+qQV5KJ5MzyeRMwcWMmAvpMRcyiQsZ/Atp/PPPeeey9x7P58apGEINA1J9JB8dSfv8ampkZtIf7ke+kxW6WRq6Scp9reSAiqsGb5ByN0pDN0hCN4rD3xXt+l3avn9TXL7SYm9yjYr78rfmffQHqMrK3SSK3IhqK1Hw8HZmSKOYA/U9AYJTNyKHm1nWM6lKRVHTotcLUeSV4SOH1/yN6tv9d1jARw7fYRTfSz4L/DotgEpxLHmobrFOj8fpcrs8Xqd3ac6zNOFaGllY6ply5xe341/qtuwXQ/lU1KEZFTuCiv7Q+xmDykKo5TB0Iw6L08XeMXfPucYX3ePz7sE5b8ecd9DpGZhZyNNVHjzyLBzPZ+A6JqE9eLUov3RwcM7zPM/IP/0sgp/OOlzgz8v95ETGY4Wtc3oh39rzxTn1J6eVt/Lr+udc6qJm/EJhCJYbLFRzhRmPdTXlXRMaW78gURfGU9H5WSczi+qGZ8cmnddSNR/HSUJwWbDAFICpPzurkNhaO8Zn9SVN++PvhUU9CozOCozOjOTdzrM01/bNic2du2Oyw/gZz3TN9SNztqZeXtLzD2KzdmB5EdEybpSMhWvpQk3oSc05UWXXrKemafBoiiGIl7vrvD6trKdnYlFlaD1yQRfJkwVhSjqpppOFUVeNlT1z/TOu2+LSj47KQuM0O47k65tGGoZmspQ1H/DSQ/lyf0IVHCOL/co8NLvUMeC+eL8i4JBsS5SBTuigJQVmYWAOOm5nkiaqtlLnord50Mk7p+Tw8hiknk4YWZidjtlpfNWeJKWitr9zeiFbVY+dUu0g5BxCxRJoQ2KUCbdsTYNzI/OeR9LqTxJkHyQqHxuaG4fnMmTV+4/kBvMUbF7BvjO56fraluE5qbbxwGm1v0AWfFobl13ZveA2lfadvG4LJfJ3nFErWycax+fF2op9wgchUaIgXmEIoQggFVtw5b8JtTvOWB4quzoG5u0lbVGnZSGEnANnYaTxlUceN1iaJhu7RlPu6LbHFwTFS85kF9WNzPSNOgXnVCHRikDcHEJqA6MLuKQqQKCmEyqOQBdMKCNJeQSWG3gwyz9KyuVlnHmgtzT2tk86T95x7EzQM0kjTWCB1HbABgOUtcWLUcwBmjwwcM3WAxL253d3E6mfHnn46ZEH1NiXcP+T+LXjwSdxj966Ef9gX/z9z+Lu7Y9N/Tzu3r74+/sS7u1LuPdR7OPtAnGgQE4XqLfx5YG83B348+0nrvvdiv+7u5GbMkI3ikI2iILXS0PWSYNQFwVKpMRFUiUkW/qpaiXIkF6XE7IuN2R9Dhf4QRz6rmjH79L2/avySkqLowHUSlDozhsAACAASURBVIXbcvb8EWorhW0W7dgkjlwvCV+Hhi/msLQE8rORWTfEHFKVEHPwkcOv8+v5tzRrHzn8lq6m71zeUgsgqStVgBIKL64mRbtcrqmFhaL69qeykouPTadSTfHXVQeS8rgC6V8P5LMEJgahRzX1rdtIEw2qFZmpPAcWZmXzrWzMHBqvi0k1ty+4WkemMwvLjqTkJ94xPlM11fVOVbcP3xeVhB4SMzE9R6gVphYXdU5OLHqqW3qUjvpsc+Mzc1u6pS2vqLG8vW9g1mWrmzpwQfPesYJrouq+aU9p40DiDXUwJmLj0u1H0wpquutHFnINHXswSRAup/Mzz2YWN4ws9I05j1xWbBfmc3AtAzczedqYWyXamsGhucWW3hGZtU5kbsg0N2eYm0Xmmuq+sa4Zl7K87/PTMi4uPf6wSFM71DYxb6nvStc1nLpt+yxeHn5IyuapGAJNxEnNBVFlz5SnrmHkeIo1MCrvo2SDfXBhdMaTIa76VJgXxJezSNUWgX4Lqd170VpQ2tc/4xRpG6IvqLnCvJ3HpMbWkbqh2aeF9RFfiAL5OjpmoPFlB1N0PbPe3ilv8sMi/4NiOq6jCzRMqLhqhmAO5mAS5qC4wuScCkQOi7zzcjY/l05qATCgfK2dzld9mqytHFnoXXB/lVm2E8sPhsuk2wbdlHUHLtn1tSPD8+5sdfOhs+rdiQVfySobhmaUjvaEy6rg6IxAXkbsVypFWXvL0FyavHHPURWDKAw6rUnILu9ddBvLu4/dMAVi0sAE+Zfy5pK+6YbBCXVJ6+3c2qhkw86YgiBeHouv9BPod5yx3ld1dQzOFxW3HD5WEAIFo4xsvpGOaROfNFmapho7R67c1e6Mz92TpLqnbmobmzUVtx08DcVtmXhxIGbxP6wP4Bs5uJFJGNi4Ppgv/yRRfvym+V5efbq2JUPfaKrr6Rif6Z1cTLptez/BwCaMULdquSMEtKCm40UM3AHt9pZjDpKPEtKfyUoqmnsrm3u+Hk3dlWhUNHVXNPWUN/W+faOnDM4d7FDe1F3c1GVv6ipq6rbW9156at53XBIhzPrgWE7y8zKppfWh2bTz+ck/pkZseh62KTtiE7R+C1knDXwN5BBGAcA6adj6nND1ORDc2CDhviPe/k7G3v+pSrnUam9wjUh687flfPjH56xN4tDNou2bRZEbxeHQD04a5iMH7xLkOVBqpbP3lOrS1rXkAKpUn1rpLf3a/yVP20cOv6T1fcf2WeAnWmAlPc6L6iYtt85drt7ucTldi5OL8wX22iNfqXbH5UQIFUF8aTAu8fsi679/nE1V9qRDAX6rH2mmkSYmbmJjJtTB14Qq8Vu48Xrynrl1wV3dP5X8wBxy4GmwIPeLC7r8kp6WkTlrVf+BRFmIQB8Yq4p/WFTZPzXp9PSMTNf3jlX0jJf0jpf2jlf3jbcMzTQPLipLxj89rw+LzT15z97cO9s1NFtga7meU5EirbivrqgZmrG3jF9LrwiLFrFJOR3LPpdV1jCy2DnqJJIVoYJCFgENj2l89bGnNabmsZEFV//YdH3veGXvRHnvZHnPZHnvROPobNPoYo61+9Nj8mC+fM8JbdKT4ryitqqBmdK+KXVV/3N5Y9KdojC+nENoIk9oL4qqeqY8tfWjxy/bA6Pz914y1k4vTcwsPXxWtjtaEkgoGKRyq8DwV4Fu93lTmrmtb2ax0Nwac0kXRuTsOpZjahupH5p7UtgUelDqjxn8cPMWvuKzS7rOWU/fnDf5kcP/YDaT0NKFWtRhzYyCOXYGbgqKLbyUU9G54G0acPLOqTi8fDo0stAyof2ZjY5p9qeYGqa8/fPelMfFQYdy2aSJJjDRhDYaqd93waooHRiecUkNrVHJurD43Ph7qsqe8cbeSZmt5brIcUVclFPcUtk3Udo+ceKWcUecio7LQ05pjonK+hbdxorOozeN/rxcJqn+7IrtWl6Nuqavrn+upHNK4ui6IakWXjaF8QuZhGH7KXOqqqNjeKG4pP1QojyQr4FiuJiRjukSHwM5NHWNXL2n3hUv+TxZm2Zs7x6bU+hrPz+hZeIGP8LK5pv8o83+fAsbt7AIU5BAeyS14pGiSV3eW9Y+WdY1WdY90TQ6MzTvHJxavHDb/EE89OLwExj8IMnButK8ws7A7UitZAC10iHoIW2ubHVB2RnP12O1hBgl4YCw29s1XF6PC5aiQanoWvLOeT3TkNHkmXIuSVTlyamqq0/N6Zq60ubh3slZQ1v53syj/5Aaujkt9DWTQygih4gN4ghoVg39GULW54Ruku7YnLX3f6hTLrXaGlyD0t7cbTkf/iGNvUkSvlm8c5MocoMYmsGhvIvXUVgpFDESd72Uu1ES8YcHoYxnh+8VS+aWXNAqz4uq1/6i7vgLaqU15HAGkYNzyQup8CvDRw4/8TvUt/lLWMBHDi9hNN8mPgu8ERagsMELtfte6JuLWj9BVUanc2HG5dRUdR25a+GShWjNWLv9iIYVLfrPux/AQjiolcBbpZFWOjRfM6NeziYkFzEzcEtIvJ5MBXKo7J+58LA08JCUQShZWP4lSXVp93hz//SXD4vfP6ILFBbG3LeV9k2MLrhLG3oLLS0iQ0uGsSXD2CQytYpNnWmaruS0pl0ndWHx+cdTrXWdk10Dk839E9V94xX9kw0jM8VNw6k5tYfOGQMxBSzA47nnMivrhxc7gByUXLKQSehBBE+qEp5W6ppH+mYX6jsGCq2N2aaWDFNHhqkzzdSZae7I0HckP6ncRRYGRGsDecodsQXYNe1dbbukvL+4d7ppeN5SPRx1Whcao91+XHteVNU57aluGDl21RoQnbc32Vg76RmbXnqUVvE+lhNEKJi4mi4wbiVVu89rM4vbe+ac+YYW4Xl9OFb43tF8c9to/dD8E1lz8KEcDmb0I21bMO2nl0zts56+2aWURyUBX+QwcRNNYGaQULqKqq1Exw3BsYUpiBwa+528JF0A5DkY/Eg9apNnoWPaA5dsdeNLg3NLXz4tComWMKF1nZkeY6EL1J9dMmorBkanXWJt08ELKm5Cbsw9VXnXWNfoTEPvSGXfaGnvWPnAlLll7IGi6b04aYhAwyRUYac0J0SlfYtuU2XnsZvmgGgZg29gCpU7TiqPPCjJMPaoqgZqRmar+qaz1M2fH5EFEPrtJw2pqra2kQVbSccXx9UcXE8jbXTcQMPVRx832Jomm7pHLt9Xb08Q77ugeaZv7x1fsNhbDhwrZPFkfoSOjmmBQtEnKlBo2nvWmFc1UjU0U9Y1KivpSre2p5tb9fV97eMzA9PO83eN7yeo2ISGJtDTCBMDczAgQd9KJ2wMSL8xsnADDcgh60BSpqWyxYMqz1AVSFc8qFVXiiovBMk+b8tYbniHfEi0Cu30eBbc7kWXe3HRW1bZZrQ31LQOjcy7Z92eec+8pd3xcabwz/eC3knnbhSFbRCHvraYA/j96yVhG0Xhm0XcjWKQRa3PCd+Yu2tz9if/Q335UoutEcghb1vuR39I42ySRGyW7Nooilgv4q4TU/0lfOSAYg5r1Eo+cngjvn3f7kn4yOHtvv6+s/81W2BFpLQcaqDCDlDKHaSxUNF90emednqqe2evimp2HVEE4JogQnvwimVnouQ/77rJEeqQvN5EX3HRGJDhAJ0ckI8OmdPceEPMHXP7vLu6f/bCo7KAQ7l0QkPDlV9cN4iK27qnnObi/gMntP48afRNk6FjpHfedSfb9FlCetih9BBedmB0WlB0RlB0dmB0TiBfwcQLPzqnuy1v6J5e1NlqlOZ6VXG7qrxHVtaXeE31fkxOMF8VgBfRCTuNLzuXUdUwvNg16hRelIcRBZAjK7D4xeoOfGXNreptGp3M1ZV8EnsvJPopByRPEgZPysEkQTxxCC83iK9i8QyBmDEY1/jjMjopC40ruCquLu+c6BqbT82p/uiUbvtJVZKkqn3GXdk4lHhVHxAt+ui8vrh/fmTaIy6oP5goC44u8MegUiodl32aota1j3bPu9NkdYeOa8L4yg+PyyxADnOPZM0Bh3NZmNWPKN3Ct+y76GifXRqYXrryoDJov4qFldLIEjrhAGwgIKpDJ/QhcYWXcyq7Fr1Ng078jC74kMIfA1pjCsxM0sjgqz67YK0a8owvLj3PL96bkM0m5dsEuq1CFT0m9/B1bVHLyPiM60lexd7j0vfOFGRV9dSPzmmKG9MKi5RVXYUVPY+0zXG3LBFkXjChDASpjzbilOZYVnHvostc0QsZ0lFKFmagxyoYsRoOoeHihR8kiLOsLc0jsxVNw0k3zaGkZvcpfaqmrXl0zlDacuC0kinQ/1Vo8RNoaYKC40+qHU3jTd0jyfe1oXHS985oUpVtvROu5uZR4mR+UFQeHdduEWhoAg0nxhAQo995wngmvapydM7a3nsly7QjJp3JT+dEPT31wGRvHe6edp69a959RMki1TSET0ysCJEDxVrWNeSQcSAp3VzZ6qb6637f46/5H/XLzZ2yBOo5DDzlQQ0dPE6ojeBccM873fMe96zX5fS6Fzxzlg77x5mCP90P3JQRskEcul7MXScNfj1qJSjNBLWVQIYUvEkchLq8RW7Mee+d7H3/UwV5Do2uUWlvASIH5iZxyCZxxEZRGEwJGju8Jmz4FcYcfOTwcv8wfFu9Hgv4yOH12NW3V58FXrMFvgsbXN4lpFmARIclp8s7Nedu6p2+9tSAnc/74qzsk5PKUCzjsqQ09rbqv27/0p/UMwUGqIMJHq2FgdvouJ2G22mEjQYsYWXhpvA4ddwdQ+e8q7ZvNvlRSdDhPA5pZZDG4CN51wrK++a9w2Ou41cMkWTu/suGtKKu7gVXnqMx5oqMG5UWzM8J4uf583JYUWL6ITGLp2Di2n0pRfcNXR0ziyJZccKZjM+JB58Kn75PPgnnPeHyM0NweRDmYEQXMQ/LL6RXNQ0v9Iw64y7II3AZB9fTBcYtMcadF3VPbB2tkwulDb28E2kRvIwgfl4gKWeRQCYsXh6LV8gitJw402eXy/ec0gbys/0FhUFYfvR5RY6hvm9y/rmm7uPTip3HZRfFVV0z7sqGgaNXNcGYeOcZ7WNza8/UQkl9/6V7xohDT8KxAn9e3s6E3LPPbQ0TzrZJ15WnJbtIGZfUfHAi3wJ5DnMP5Y3+URIWZqYRRdt4ps8uOjpnlwanl67erwz+XMXml/uRZX5kEQ3IwQyNuklzcJwiRVLZNe9pHJwVnpJtPyANj1IG8+WBuCyQkAdgir1nzKKige4Zp7Wm6+wdbdChZxx+DpsQ7z6Ve0lU1DXlbBuau/TEEU5mv3dKpu2eqR91Ps4tPnjk8UfCh+8TD3eTTyOxrODDeYE8dQDfysZNESdNxzIrO+fdxvL+E9cd4XzFzmOG/TcNkccLAvG8UFzGjc5Ifmwubxyoax1PSS2JFKp3n1DfVbW0TjgrW4aiTksCSSmdUNB5hQxBfuLjamvDeGPnWMo9U1isPFCouJDV0DHpnZ53X7mt2iMQBfHzmISMQ0i+uGran6Lfl6T4UlLbPDGvrWw+eVsVzheH8GQ7MOn1jPKavumOCeeZu9b3EjQcQseAPAcDE7OBWomgOmCsJYesA0kZ5qpW19ISBNq+Nb4PJX7br79wp0HRGLfb63J5ltzuJeeC173oBmbwLHi9Lo/H6V20dRTtBXII2pTB3SCOWPca8xwQk0hC1ovDNklCNklCQLMk2r5JtOvd9L3/qriU0myvd41k9+ZtzX//T+l+v5P4vyMO3iwN2ZAbsj4POk//1A5038seb3QnuO9QK/nI4YVPue+XX9gCPnL4hS+A7/A+C7yMBaDTGxTsA2fA6wSFM4QZXF6v0+N1ejzeRffS4OSirab38iPNkSvSm5m2fHun2NiccFmUV9yYkmn9l8gvOdDRGXpvMaAHmRGVz7eBzp6wQfstzMbB9JFxsoQ76q55V23/7MVHJcGH8v2JIgZhZ5CyuIfWorbhmbmlh5mV+0+odh9TJD4uqhucqx2YlJV23BSXn3lQfPpB2dknFSniusu5jfuTrSHx+p0ndUkZ5RW9kzVtg3pHU76uJkdXl6Gtfaatv5FbFXPTvh1q8jgCDssvpVc2jsx3jTljLigjMUUA38TCLdtirKwjquNZFaaW0Y6xeYWt9XZ21cXHFUmPq44/rUyWNl+SNAtulgZhsp2nTDfV3Rm27tt51WceFyc9Kn6qqC1rG2ofnb30rPiDRPnuRHlKVlXvtKe6cSjxmjaAyPVP1EbdNDm6ppqH58xVPQ+lZZfTii9llj3WNlhahrrn3DJHN5lsDuErAoWa90/kAjkMz91XNHCis9mQwG2i8TT7L1o6Zpf6ZpZSHpYHHZCxsGI/ssiPdNCgO7WVCToce1CMKllc3bHg6Zyazyio+OpZyY2M6stZVZeyq04/LT+QbNyRqCBuW4v7ZlrG5sw1PfdyKi4+LLqcUfpc12hvHe6ddksNbfxLlmBCsfOY5npheW3/VEXLkNzSINbVZKlrRNq6DGXjrax6/LItIkbLIXQRJ81H06u6Fty6yt5jX1l3xCgOXyt6XtL90NB8RVSZ9Lj4/JNiZXFX68CsrWaISNYHkPKQ2IKrOXWt4+7+sfmMwvKroopjj8o/PaNjk+IjTystzeNNnaMpd43bY5T+mCb6y7L8ssEJ11JRXe9TWfWF56Vn0ypTlc2S8oGUnOr9F+TH7tnqh2aaBibyzS0XHhQnPap8KGuyNI50zbrapp2nUy3vxWv9MSMTsqJNTMhzMFNdtxn4MjnQMbXfoewDZ7PMVa2o6LAXtTt84XFFv7T8f1iDfysG1f7RvbREDQ9VJwGyP9zzbi80j3ZDE4All9vj8jjtHaV7M2P+4V7QZlArha8Xh31LrUQ1kH4VtZWk3HXS0PWSiA2ojfTmrIh3n2//u8fb/3D/vW25SdfqzY2Lw6Ju2dbM9//h7rbfP+X8Pj3kXVHIRiCHEKjIJOG+HnjwkcPLfO34tvFZgLKAjxx8nwSfBX4VFljjAaGniBxcHu+ix7tANYdGhb+dLu/CvMvbNTKrLmlPeaoXpojviqxF9f2D067esRm1paKhf+S21PHPEZfZhJ4JLXvXkAMB4nLktxWxcDsH10XG5cffUbXOu8r7Z889Lg8+LA/Ay5hYEZ3QfZJifKyrH1tcUjn6hVdtwUT+eyeVT5Stlqbhyr6psq5JY+2goXbY2DhqbpssrB4mvrRGHFHvOq5Iel5U1TvVOzlX3z1Y0thjb+yzNPWXdE7YO8Yltu7jN0u3883BUYUXM6qqhxeax1z4RV0Ypg3gWdm4zU9o2ypUf3TJeDW3xtw42DA4X94+6WgYtTaMahqGDW0zuaUjZx9VcaPzdh7V3pC3GJrHKromrXX95vqBiq7xso6xXHNHVJIhQijfnai6lFXTOempaBiOvaZnCwpp8YagBMW1gnpd/XBt73R975S1ZdDWOVLeP1XeMykv6zh5p+iDeL0/TxMoVH9wIs/UOlI1NJcqb2DzMtmYAvRU0YrPzhtaZ5Y6ZpfOPy7jHMxn4VY/gcWPBB5jQNFbBwMvChRqk7Jrm+e9/Yvuup7RyvaRis6x4q7x4q5xdc1Q0vMKblx+8JHCG6omU+to49BM48B0Uf1geetoXc9UVeeEwtFx5IZ5Z4KBg+t3HDVclZQ0Dkx3jcxVt4/YG3utdd0l9T0NbaP1bVN5lk7iqjEiQRV5wnD0OZCDsrIv4ZYjIlZ54KI9u6jP2jbhaB0z1Q3YGkZru+fsDaN3c2t2JxQwCCWbkMXeLtFUjo5Mehu6x0o7xrPNnYLLxkCBOO5plb5porZz9OJd446YQg5fu/2oNeFhpbJ2sH50oXpg2toybG4aLe+d0zSMXsyu+vCk/JPTCrG1vbZvuqFvxlI7ZGgYsbaOFnWMVA9NNE87j9217Y4zBvAtTNwC/RxwCwo4mP0g/WaZHBh8Ne1Q5v6zmRQ5/BATrPm38naQw9I3oi+ozhosLkD7R++i2+uEJvIQhPC4PC4bkEPsn1OXyWHDKjlAAdaV1tFQFJXqIf0TfXcor7ReErExJ+J34l3/d2HUNsOZEMOFSE1yQlF2fk9dj3PCMloea766XZnorz36ryrhP2Zsf0fE3ZjL3ZAD/v1bSA7whbTc3g3A2OVZGl2JOahLVssDLCdJo+yW5b/+VXyT+Sb5G7CAjxx+AxfRdwq/eQtQa4or6gxo8rYE8Qb4TlnweOfd7kW32w3Lil73rHu+Y2Qq39p0JlUVlZRxv7C8tmdycsHjdEHaw7zTNeP2pEqt/yXiPIvUsEiINjBxEwMK2tioFF4mZmVgRUzSwSJ0obGF/GsaTeuotHIg7k5JEE8TQJSz+HYGaeEeMwju2e1d4wWlQ4KbxSx+IRtX7jmmPvesVOzotLePl3aPlXaPFXVNKGuHbhc2fHJSFRorO3TZ8ETX1D7pLGrqeSorSkkzXEyzpGQ4nqnrSzvHWscW1UVDH5HKEF7BkQfl+dWjqrrRz5P0wZiJzXMwcRtNYPETmNhCzfun1Ccf2XOK++wtY1U941W94/aucUXdyFd5TdEXLEGHCwNwxecXjV/lN5jrRqrbx0u7xg0Nww9kjbwLxjBC7Y8rIhO1xx5V6erH802dhy8a2AIVI87CIDXbjylOPimV2LqLW8dtnWO2rglV7dB9WT0vWbZDqAnCTP6YMYhU7z5amGHvKqwauphZxeKLWRQ58JQfndbpmycNLROxtx3Mw4Vs0kwT6OnAY3YmDiIcJmHnCHTCBxWqlsmironKnomqnomKnomynonK7klr/eSl9LpgodxPoN5+Sn06rTy3uKesc6KyY7y6Y9xUNfAorxY7Lw8n8zi4lonrPjxjVDeMtw7Pm8q67olLkp9bzj/R33huUBnre/qmxxc89/IrP0lSRRxVCVPLrK1jjzUd0VdKgnBtBKmLv1Gcru+yNI6Vd4yVt44rioZSnlXsO6UIwAtYJCQl70o0n0qtttdMlnWMF3dNpOvaok5rQgSFUXeqnln65SU9idcNEcJcNqZh4sbgeGPUDUd6Ub8ZLv14Sce4qnLoUmbVp+cMgYTcHyuIvmx4rGo2N4wAJXZPZFhbbhWUPdLWaprGsKtFkTE2f76NiZv8oHWDhUFYaIRlKwnCOSZuYmFGJl9NP5i+PynDVNXi/kVL37z5txu0rLD64EFlmr2oIo/H5XXaOksg5nA3aHN66AZRxHLMIScAtYv+BjkgePhezc+PqomWsWGDJHxzzvY/ifYEOK7dmCjLm29TzrSWzA51LM6Oeua63KMls52qmaa0yfLjHbn/z7M9/y6d+24Od/PbqlZa/oAh0dJacjh9T6UuaXXDhXWjgDMVdl4F5Tf/g+mb4W/EAj5y+I1cSN9p/KYt8CI5LHm8y0upHtAneN2gSvAuLXq9sx7v0JzrYb4l+swT8kKWSNfQM7Uw6XIteNwut9u5sDi3sDDjct3Lsf7X7RcYhJpJ6Jn4WnJA+nIMqioxSBOT1HNINVcg356QGx4nCSILObieI7TBVoSRSer9SXlkvDgiNjuQzOUQmkCBlYUrQ+Lk4QkFEXGSyPj0HQmZOxNzw+PzAwQ5QbEajkB5KqPG1jXZPDybdEv5UbwkmMz3F8gDydxdMc+eKSpah2dKmkY+ic/hEgquUBUZW7gzNj8Iz2fxjQy+nYEZWZiWw7eyox2saLM/rgqNyd8Zm/NBvPTDI5LwhOyQWGkwKQvENWzcSBeaGEJtSJx6V7xip1C6I0EaEZcTLpSFCrUMvopGqJlCY1CsMSKmcJewkEuo2biBiZsCcFtAjDkoVh0Wm7cjRhxOZu0Q5O0SynYICoN5uVzSFEQ6oF9BtDoAV0bGFmwX5nHxQgamYZNWGm6mY6YAwvBerHKnMO//Y+/No6O40nxBLYDLxq6qfjWnz8z8M+e9N6/f667XZ7rOnH7nzJnpMspVbNrBdvXrrurqWrwWyoiUwCySwAa8lMvGNrZZ7SoMSIAyU+ybkJSrWM3mnR1ssEECbZkZcZeY8303M5USILQrJd08V6nIWG7c+MWNG9/vftv04r3W4obsEr/NWQsZCRxBuyNoU7wWZ4NZPTC1dE/h/N0Fquep0p2/mLvjqXk7npy363+W7PvXkkOzFO/UOX5r8ZHsP/hynfWF8/YXlu6Y5az+xVzXL0pripy7Zjj2Wv6wP9vZkDu/zvF+4ILOjl/4/vVV9bOeq5rq2DVF2T6z1ON4bfeW3Z+06Lza98WzfzqU7dwzc27tL+bumaXunemom1ocnOYITXPU5ZbuLprnmj13yxMlnidL9+eCVdj+6XP9NmfApjZmO4Iz1fon5++fVeZ5omLn7PkH8orrbarfNt+fv6D+qdID+cW7ZxTvm6Yesiteu8M30+nPce6ZNd/zi0XupxbseHLBvtzSgzb1kEmtMzvr7Y79uc49s0p3zppbkz+vJketyVe3z5q7a/a8ffmqb3pxKNsRyHZ67aU+K/iE3JM5bJbMoTcDXYI0JBYY+E0bHCYX9ODwMYe8dMzJAKZKNYU/cf3qiRNrtmiXjhvtx42204b2haF/abSd5rdO8qYjxs0D5NJ7Td6/3fjLRzfNmOSenuGZNn51DjG1Qxedg2QOven8cp9hQEAyh2EAWZ5CItBPBBIvfhE3SXxj9CSIOAlxvSGoPeirNc5aKPvs2u13NjY8U/GXl1bv3hn68kpze5hoGtV1QnQdgrRqeiRM9XXbgTlY1dq7mYNZCZqVoMUZtJT4zCrYnU91Hp5W4rc761BB4TOrddaSQ7YSr80ZsjlDVqU2u3S/RdlnLj6UrQatzgZ7qdde4rOr3qkltVNLDoFNlFJnUWttpXVm5UD5prONl1u/bde37jv7+4qt1t+vzvr9WvvTq175sKHxi+uXmiMHT3zzi1L3NOWAzem1q97pagPmgAtC9mXFN81RO93hy3aEshyBnysHzXMPZJce2tHpnQAAIABJREFUnO6snabWZs/1mh31luIGm9JgK6mfUlqXNbfBWuqd6qzPduy3lhyyl3jtqs/q8FqddVkltVNKfaaSkFX1TXcGpiohuxK0K4GpjqBFDZlLA5bSOpu6L9t5YLqjYYbDP0P1TQX5uCHbGbCrAZgFV7xTnYemqbV2pc6sBCyOI+BZ7gzZ1MbpjsB0xWt1+M2OoM0ZhKMcgezikN0RsgJzqDMpB6zqoaklvmyHd5raMM1ZN9V5aKqzfobDP9Phh+xpxd5pSnDqCwF7sd/m9FrVertycKpycJqzLtvpm+LwTXH4rWrDzHn7He97z+n8q+aOjzyHf13656zfvPc/frMqZ96W16qOHrvY1KSxD9wnf7W0ASypHL7pDu+0OXV2gMgHMaNUv8VZbys5aHceyHZAomu7esjmrLU6a22lfntpyOIMmCC61CHrgkOWebU2Z91Uh9+k+LPm+myl9dPVumkO71QIvVpndx7KLkGapNbb1QNY6rJVn80ZMDv9U5zerBKvSfHaFB+sVOttJfV24KX105z101W4WHuxz+qogz7p9IK9nGQO/Rwz4LCkcSO2KJiDAfkKSOgy+jkMh84hD3PA5Wd4cjLdOZOrZ/8fNU//jz0vmveVWQ+U2/e/PHXPy9N2l03dO3/a/gXZ+1407Xb+465nf1KZ89C2qZmeqemx5HQP1Gz0Y4eU9nOI3XmpcxjAIyAPHVIEJHMYUnhl5RKBASEQlwAY+DfGCmWcEsh4pTOmMaozyohh3I7oR7649l6V9/dlG179qG7fsQuXm9siEGFFYwxMmSgF90jK9AinQudgcx66B3MA9+gQxGYFE/OAWT1sUU+YlaNmCKkUtILQXG9x1kGCAudhs3p0CtAMn1mpMxXXW9UAWD2pfosjZHEcBl6hBiG8JgiCPnSoqP3dG4E/H/z6QpN2+uLtGt/n63cfW7Pr+Ic7j4U+v/7Zt22HTn67ZHWgQN1lV+pMKDtaHQEbRDINmVSQ8rOVuqmqz6oGpqi+f3LWTZnbYIZM2CAHW51BiyNohdRjfnuJ11zizSrxm53guWFx+LIg1GyjVW20gjTfYCmpN5X4p6ihLHDGDYHPtxqyKgG7I2hyBE1OMIsyq/UWqDxgU0I2SGxcbwHW5LU6/RYF8jNYgFl5MWxrwOI4jAn14Cw2B1y4SQlmKSEr/AzYHEGbo9HqaERrpQaoSvFbAdtGqK3EZ4amBm1qoxWa4bMq9ZB8Y47f6ghA+9WgWQmYHX5YdjY+DvGvDpscvmy19teve10nr59tCh/++rqr7sz6XUdW7Tq2sf5z39fff/Z9+57DF0pW+ApebDArwSxHo01phJbE5HKfWW0EfJwBvK0hc3HACrJ+A1ym028tCZpBkQLnNc0NPl7iz1J80B5nyFwC8bWsaoMNwQG1lYpxulSvSfWZgJP4gH8qhy0YjtYE1wiAmAGBwxZnI6SGgB7ltzp9mEIkaIG7XGdS60wY5suiBu9lrSR1Dr0aT+LjRuf/OHPg1Bhm5lCQ5inI8ORluHImbCt4aMushytnT64sfLSq6IdVT/6o8skfbS78YWX+j6ryf1SZ/6NNeY9V5oKHtHtGuntmujtnaJwcUj0qa+weS+bQq84udxoBBCRzGAHQ5SklAr1EQLz5wbmxkzkQZAKMMo3QsEYjYUJutmvBs9fe3dSgLKt8adWexi9v3mgnEUYJ1wmjaOVMIbG0AdaxUc7X1wT/oeg1ewlkgutmrYQhWRvNjsNWyO0AcVrN6pEpCojFFojTGrQrfpPiNYPcHDI7DpuUwygj+lHy85thoh3m2s2OkAV8gkEut4Iuwo9SqTdnbu2cNwOV9Zf3H79Sf/pK3elLtacu1p686D1zzRO4tPSjY/mOmhwUSU1qIEuFamHyHuT+mKRucQbMuCmrxGcqCWAAWT/6afizlWA2GAWhWsAZNDmDJvD5DlkcsGBWQSGQ7QjZHT4bMJyAWQETIyhqIAurtcYE9AAQJ3BRCGQ5/cigAlmOerOzzoJxbM14OJgnqXBqCAfkCGEeNx9Iyarf5PRmKX5gDsBVQuh0HsR0GYetSsDmCKDPQyMk4CtpMJd44UKA5IDWwuT0m50NNrUOrl0JWJWgVQmZHVjUkBlN/y1O0LqYlIbcRV71g+ObfFf2nbxWe/pSw9mL3rOX6s9cPnT6arXv63kr6ma/uN+ueiHYLmTqACZjdcKCCamLVW20KXBbbUqjtTgEtAo1KhYFjIXAPUMN2YphIUsNZCE4NmejDZrqt6heixqwwl2OOTSbFG8WpiRHh5kQkAToRdBz7CWwAL1CabQ6j5iQPMCVAnrAiMxqwOQE1mFSGiHZ9n2Yw++WV0o/h96MHp2kAVSSUCCKLTg7DCdzQK8JTwHYLLly07flp1cXZrgKMly5GZAYriDTXZgJqeJy0105GdW5E6pzJ7ryMsDAKS/dnYcOGP3QJ/TmEKlz6E0nkvtIBO6NgGQO98ZFrpUIjCwCGDFDREdhDKMsUqoL/kCBEVAODs/hdj18vS3acPab8pV7XlhSuWJD/cXmcBthUUo0Sihn1DAImiiAjoITzpA5bAfmYHXew1opxhyUIzaYohbBMf1mkIbB1MTu8NuLwXsVUxP47Q5w/LU5QigK+01OnxATMbUcJKXGEhDiNcyXKyGbEsxWGqarOwtKqp6au/EXJX9+Uln7VMn6/zm/etbc7TPUPdlK3czS43b1CMyy48S23QFaBRTWfSjiBwWNQXGzEWIWqX708w7aoSVCTAdh1+QMCNk0piJQYArfXhyyF4M0j6wG7I6gcshODfzBAs64MAtuVYBsTAE5XuQjw5TGTp/Z6cUiUg0AuULtgdfugFwNEBEIdqgzldSZQRUTsjga0fbGCyIyCNlHbI6QvRjaaVZCWVBhvagQpHAlYFYwmYbTZ3HWCzwRXqgHVQSg4bGqoP0wORvABMhZb59TX1hycPbcbbPmffjEi2t+8eJHT83d8ERp1awST566x6YcwPqDKN97oVUgryPnAVrityle9FLw24uDqBuBZljw8oV3st0B0bfMsbwfkMzOFrtY0RNgZ8QB7gUWOBd2CYjTheQnYINziQIrxZ7YkVCpgqwmfjiqvCRzGNQBCOevh585IAFwi3xwuXEmkJOkTwAX6jRPLI5TOu6Z5snrLP13zu6ZP4wq5sDjsZXWHag9Lj2kB/XBkJX1CwHJHPoFmzxIIjDECCQzBxE2iVIdCtMpGClFdaKHCb3S3L6j8etnXt6svrF904EzkF9BZ0QjDFgDUA5qUM1gmkGIoXOucUajnK1/AHMAqRoFaK9VAakREj6AfOmD2XqQ42G93eGzFwdgQt2B9jkKzBnHqQJaOjkbzFBALo+XYJYafFz1P+6sf9y531yy1+bcZVd2TnPumuY8mF1SZytpsDoDNuWEXTlmgzBEDSDXOnxWBZy2YeodJ6etYCSDM/EggwKrsUILBZMJmFVfVkmDqQSkZGQOAWQOaEYFh4OAa1IbUVkhZF/YJORaoEZgHwXrs5x+VCDAuWzAkQR58AvhG0OsAgMRrMmKZAMFaNCNiPl4sQ/yK8EcAma1EXUOfivoKwJTSoBuCdBA2oZZf5ynx4sSOhOgQKgSmeIMQZRSYFOHrM4DZkjSXG8qCVjUI1ZI91abXbJ7aumOaXP3TS05MK2kfnppwFrszVLrILiT0wv+5YrXotYjVwH9iamkATkhSurgRgJRjCCzB/CKOAcAXwifyelDNJBExWzSgEEhbkHgQo6QTfAxQNhvRgQAKNTJYBdC0hL76UX2AkQLihK0Ar8KYQGLqR78HKTOoX8Dz0gxhwx3bqYrJ8OVk+7CHBGe3LSaGWmeaZC12p2DioWCNHcRkAfI/DAzrWYm0AZBGBILg88fJHPoXz+SR0kEAAHJHGQ/kAikIgL3ZQ5UI1SPMr1VZ2cvN2/ac3LenzwV7+9x+b74/Ns7rRC3nYM7AyFgrAR54igxmG4QCgnjHswchGCN0q0P/GhhSl7Y5ICwG18juITP5oDM02B/At8BszMmnaPmwW+BqfF6lKHFep8V/GUDU5z+x0v9Py/1Pj63YUpJnUmttTkPgVuz6rWCX0HI6jhuV47YlYAN+IDIb41WTyBVB1FGRxseMJoPgZwKIizsiTK6sHsBiyZUSkBCAIsIO6t6zWhLk+X0Z8WUCag6AOFVGAXhpDtOjcOeIPiiFT5OsccsjsBOCSRmYYeDjcFQVKCvwEaCBAxz+fgN8+voGA1HoUgtMkkLB2UQxHElStjgZRFCZQhyDwjBhJoTNZjlDEwpweIMZKFiBGNbeS3AbUJm9bAZboQXPElKvVNKfI87/VNKQlklh7OUkBkYVANsdQShcribQoHjNUHCZiAzZuWwGTw94ueFC0fcYGvA5AxkxTiY0BUEY54MIPcDxRL2VEL6xzUCIh/ofKAGYdeE4KPzjFDyYG+JhQMWIWuxnqBQ+NzPQ1oyh/6NViPEHHLT3TkZ7pkZ7pmQHcKTj/Rgehq4PuekeXLT3bkZ4MyQn+7Oz0CzJdxB5JHIQXYxXvM5JMdWkjqH/nV6edSQISCZw5BBKyuWCPQfAbBShqMhl5NwcAbnZkJ1neoRSm/r9NjXN9ZvP1axct9LHxzYd+TcpVutrboeBQsljp4QOqOaAVmlgUqA2RJHV4e4zuFn97FWAgkSmEBM9gXbdJh+jsmR4BugAkOITSejWQuShxBswkloFO6FjQoQD5ChxdRyzJ8YrX1KfVml3qy5fhNEcGqwqQ12nBHH+eaQ3XEY5rAVmH6GXMJgwANT4ChfBnBSPDbbDacGFwi0p4JzgewuGhw3oQEiEXdoBokZHK/Bnh7X44Q3XmMQmy0Ed1SY4JXGfBIcsBVLQp8QYw44a+4D8Rr2F5UI6IBo4VahHhHMQfiHBKxgXgUGUTjLjp4SyF5QkQLUAubsUXyPOwCAG4YJCI8/Sw2Y8EA7mH7BxaJmw4/qgqDZefSf1ODPnYHHS4JTnEA5bCV+G8zi+wE94FogyqM0jzI9XBd4LSNocVss2AE9y4VzNtIbcS0CW7zYuKlSnD8gZ0CHk9jtBs8NbF7MYAm8SrAvYVViT1TOoMc2mpwhJkK9g44Wd+Vz2CyZQ/8GlRFiDuCLDG4MoE8oSPMUohnSjDTPDGGPBJsEcwDnh4IMt7BTygddBFCLGTIqK+Rz6MIcLmA+BwiohykdMLJeLEh3/7qGPEoi0GcEJHPoM2TyAInAUCMAHo2cwVkwDSzERSI6YbpG9Q5Cvm/XTlxqfqfSN+/N7a992OA9/V1zRI+SKKFRQonODR2ySRPOdIMR8I0E7gCJ4+CVk8QcIP7mPfI5gBwpZn9RLgfhTwh8wlEYWARIseBsgGvA2gT3REaBEnBCCkfnYCGD+i3gjd1gU+rBsgismOotJX6IrqN4bY6GbAjZ6bU5/HYIkOoHS3qYRwfp1qSGsqANYD2P4ngDpESIm8oIqgCuxvFZfwgsiz4DaNkvlA8gksYdeRMSM4r4EAYKXQvQDSNBPISPb8zHADzFMU2emJWP6RxiplPC8AbdIdD9A8R0oasR6hqYkkdZGSlTjKsIyxzwdrBB9gx0wgY+AI1ELYrwoxBhqUBGFzP3Zghe5Ef3g8Zsx2Gbo9EMKo5GmwMQs4Fv8dEpSigLPDe8FnC89tpL/HZh3BVzWBfOGOCUHNOKgGeIOJFw+YidWvQB5DZiT3TkwHuNvEIcApwtxiTBwaNBmGnhJQsqBWQsASN4qwMbQVcKob3B+wj6B1gAl2skQqDCMqkB8DOJZ4KzQSY4yRz6OfaMHHPIRzeGgjR3IZZ8yDcHRCKRci4Pkky7CtNdBenAHHJBBeECt2nMTCd1DgnmEFy6rrb2uGAOwgE+NqhjBnGcaepn75CHSQT6hoBkDn3DS+4tERgUBERqt/jr3IjNGeHgj4FQKDd0SPhGIVc0RFaiekSLtBFyI0xCX3+/8J09v1u44YNtRz691t7OOdAGPUKJjpoFYApdPhibKfYlYittD/6s6DV7cj4HxQf0ACTIpIJCnrBIic8oxwxUklYm5p4HuoCCbMyPNlF/nK4IAjDQUySqHYULwgRIiOYQGEoQNrQuE47aCZohYsXCt1AUjLqLjTOorsxhzkHrM5VPL6vyn5I5pPs8CMWHmmGOrRT3WBh8R4UB1pz6fg6Y7RMnfgjnTR105ZbGpesOIXNI5OtgHLXKkjn0+XmQBwwMAckcBoafPFoiMCgI8Dh5gP8YQhEyvoofnHAapXq7rl1t6tjp/3rRit3PVHxceeDsmSt3vm8nbRqJEKoRogsXakJYV+qQTBxYCjOHUSfgDm+D72IO6GOAzApm8ZNKzNsbYz0lrx81y5I5DMqgklyJZA5dU0OMLubAJHNI7sxyecQRkMxhxG+BbIBEADlCspqACXslzphBOI8YrJWQr7+9U33gzMvv7pv3+vaq/ae+/LbldoQiZ6A645gTDoIvMQKhV7tUlkwdUpg5CPVCVxv6RChPYd8yamTfJDl+sNosmIMw6UGdA7CFmKVQ3HMgyUsboxWBXqILqRisxgxtPZI5DPqYKJmDZA6D3qlkheMWAckcxu2tlxc+oggIJQM2QVgusU4VNAOPBHBqBn/nCOO3ovrZa81V+08vXrF78Vu7t+w7daNNbyeQRJpCqgcwaKIQPQlcoyHzW9dPMnFIZZ2D8DOOOwzEZFPwUY4lBxhaaTXlJWzhUozBiDqdkmM+zbHU3TFXDfCEFkUyhxF9yFPo5JI5SOaQQt1RNmWUIyCZwyi/gbL5oxSBuHmSoA3E4MTgzMAcDBgLiRBGiB4hrClMTl66tcZzrHj5loq3d+/2f9Wig3ErBc9nA4gDY4ZBsWCSWHSrTnAHwzBGC3OIBW66a45c+D8Id+eUl++HlN4kIhclzpLQOSTi4YpQS5BkI5bt7i48Ux9DqXMY9FFNMgfJHAa9U8kKxy0CkjmM21svL3xEEejCHCC3s84hEBLmb+OUQIJojbFWYvhPXX11zcHfLPjwjxsPBL+8djOiRyFWEmPEgEwNoKowgHSAgRP6RcC/zg8GZ0riDilsrYShk+7rIZ368u6ItFCYeHU7dcLXvNv60fJTMofOB3iQliRzkMxhkLqSrEYiIDPByT4gERgRBOLMAXQCQBhAjQCaB84IBzOkMGW3IsZO7+fL39+78I0d6zzHGr+68m1baweLEqYZFPZjxGBUxNWI0YaurAEubBQxByHvYkrmxJx6LBPZPeXj0SIHD6ydsaQQWAnmlOgMeAVxrmKpNsCfIeHSAKkkRBnYqTvvwjDXI5nDoI9JkjlI5jDonUpWOG4RkDqHcXvr5YWPNAJx3QCHyKtAHnTONEY1ztoJvdzUvsP/+Usrdy15Z/fHO05+euXOrUi0g0Y04BRRzA8HTg2MJnEGwUa6XtYoYg4izH/MNiluYyM4AyaEHjFBdpjl5q6nSzAHTJohYubGSAJswtRsGEi3C3NI5JQYlaBJ5tD1IR6EX5I5SOYwCN1IViERQAQkc5AdQSIwwgigcA/ezRqjYUpadXL+u5bt/i9KXqsqe3v7ttqzF77r6MDoSYTplGIUJcj1RikDl2jQKySu4C7y0BfmEBzZfA5dJeZRKfIOwSXEmUNyng3InA2BlZA5YHpvzKWdODsqHCBvdGLN6Fq4B3NQvLZimc8h8Zz3eeFBzGFmWs00zLyWSNBWkOZOLA8weUIKHg5RWTM8uRPchY99mGfZ+Py6o+6wQcBkFLNmJo+pfcZ6cA5Izucgo7IODqaylsFCQDKHwUJS1iMR6ILAXTJ88tZ4OCVI3gAaB0qpRnSNk3ZKLt1qr9p3+vfzNziWb9l3/OK1tkgYIq0SQnXGCDAMXVg36YRplGvcIOIlAye466z3ZA4f1mAmuOQc0pAJLmAW2aATQmrnNLaQ4+NSbFwhMLjyaEK9kKxhSJjsj97sBANDKY554qYomPetkzncI0deArSBnXrEyFsScwia1JBV8dsUnxWYQ5XMBJc8jvR5mXNq6I2Xj/3blrk/XjNjYmVeZnVBuis/zS2Yw8w0dyJn8ximDXl4mTnIHAoe+yjPsumFdcfcHQbRDWAOLOY91md0B/UAyRwGFU5Z2aAiIJnDoMIpK5MIIAI8Hu0oMdUngEHlANIG4dcAbggGZVynNEJJK2Nnrtx+ryow73X3H9cdDH12/ZuWcBuNaLyDsiiFRG+gaKBUeDxTBlZOEIP1fqiLCEto1QTaCTSJojqnH9UEflb0qs15yKI2mFURlgei9IzSlMOjVD7ub7MT/gwjJtn3t+V9aLBZDWSp/sedAbMSsjrgks1KnenZrZI53O9hv+96MZsAgijjBqGGdvjS0X/fPPcna3ImVuZnVhdkunIzPNPTPdPS3TPS3Tnp7tx0d1685Ka7c0AX4ckdc2VmumfmBHfBox/lmTa9sOaYp82gEYNrGBAbA93dF9Fh2SCZw7DALE/SLwQkc+gXbPIgicCDEIAQq0LnDW9uZsBrOzGXBYoG/AV7EAZJG663hOtPXHp7g7f8nd0rK/2Nn31zo520UR5lOqFRRgkHrwaWoAHJiaLv15auzAFDuXJgDh8Cc3jN5qyzqN6E8zHO9AsDGL/Zee8SzzgmJsLlt0RgqBAwq74sp3dKidei+G0Ov1UNmJS6rGe3Pb1sS+DUeXZ/tny/Z2GcrxfTFdSguqGFLh37deXcn6zJBebgys9w52bUzEyvmZHuEToHoW1IfKOtkSc/bYwVd26GO2+Sq+ix9QXmjXPWHq1pN1gUnM3AXAlH7JHtMpI5jCz+8uw9ISCZQ0/oyG0SgQEggHN9sQk/wg2dwYQfi2kh8N3EmKEzHqbG5ab2/Ue+emnlzoVv1Kytbjzy5fXbhLdRIwKHAVnA3HCY7oETBhZL8ElO2nB3OxNb42Qjxhw0zj7cHvyHotdtqmAOwhre3xvmYEbbeskfJAJDjYBZ9Zqc9VNK6yxqg83htal+s2QOdz/kvVuTMI6kBtMMErh04leVL/5kTe6kytxMd16GJze9JgeKR5gqFaS5C8d6KUh3F2S4Cya5Zj+2vsj8cfG6o9sjnBEYaBnjVDKH3vUsudc4RUAyh3F64+VlDz0CHBQKoGwwDHBFiFJDowZl4NnAORodaZS16Ozy7XBN4PMFb7l/O3/1pj3Hvrp+p50ZEc51kd1NcA+sB8gA5n8TrKCHS0jQBvRzoAx8qYE5MA6xm5A5vGZXD1mUBovqtaoQigfyECs+iwIUoocyDJYq8hTjHoGgRfWZnPVZpbUWtd6mNNhUn1k5ZJI6hx6e+ftsStAGoXbQDBa4dPJXlQv+l9W5P9icO9GVm+kGi3/gD568dHd+uqsg3VWY7ioa06VQMIcJrlmTPywybZyz7mhNlNNYPh2pc7hPX5KrJQICAckcZE+QCAwRAnHmAFoGKnQOYL8ETIASGomQcAvRrrVrH+46+vxLH7/w8sf7Tly+fDvSqvMoOCUQboBTA+oWRJboeIroeJboHtqdYA6onLgPc3DWWpU6q1pvA+Gs3qI2WBWvRfGZVZ/Zed8CBEMWicBQIoDe8D6zsyGr9BAyh3qb2mBRDpif3fzssk2BU19La6Uenv17b4prQInBQ5dO/Xrzwr/+IG/yxtyHqnMnuHMyavLSa5A5ePLj0UsL0tyJkrBcGksLeelgsFTwyEd5WRufX3vUHeVoEQoDrkireW8gh2uttFYaLqTlefqOgGQOfcdMHiER6BUCsXc1EgiwnYUPFYmfeYRpN6Mdn33b/F6lr/jlyuWr99WeuHC5ua1F06NU15nGeBTzwsFxBqeGQbDEbJ16c35BHroxB24wjfP1NaF/KPzjNKc3W/XbFX+2w293+G0QwQZSOA+1IYqsXyLQMwLQCZWAcHWwKn57sdeueK3KAcuzm55ZuiFw6ivJHHozAnTuE9c7cMPQDRa8fPrfqsp/sqpg0qa8zOq8DFdOumtmhisnUdJhTU66KzfdlZfuyktz5aa5csZacc9Md8NVP/znnMc3PbPm6LYw1wgjOqeEg9KhE72RWZLMYWRwl2ftDQKSOfQGJbmPRKAfCHDkDGCsBC9udFeglOsU7Ja+bYv4PrvybmWdunTLmx8eqj928ftWvV3TokTXqQa53pA5oFs1ulMbVNguYWW9bUw8JGunzoEbPMqNde7G/yv/jamKL9sRyC6OFZsjKEoipuc9Fywo1clvicDQIWB1BKwOyC6SpTZaiw9nzwnaHX6rctD2XNWzSzdKnUNvn3+xX8LcEW0nowbzXz79y6ryH68pnFhZmOEqyHDlZVTnZrpiZYI7sQz+05luKBnuvLFWwEArJ6M655E/z3x809Orjm1pN6I603VOaU/x6vqG/QD2lsxhAODJQ4cYAckchhhgWf14RSDxvo4xB8ooITqhHcy4ejty6NS3f9oUeLpswxvrD37y1Y2WCI1qjOiUEAL53SBmqw6qBgjIJMiCmDakwm2il6AmmANGdIV0EIyzCOPrPI0/K3xjqlKX7WiYWtwwrbhharHXpvjsqHzo+dum+DHRmPyWCAwVAjaHz+bwW5SQSTlsKz6SPSeYrfhsykHrs1v+8MrW0GkZW6mXA0B8NzEYwVjCkTmc+mVV2V+tKvzBplmTts2eUF00YVvRxOrCSa6CSa6Ch1wFD7kLsRQ95J6Fpegh91grk9yFE92FE7dBJrgpG5/54OiWNh7VmE7A14HDRM0IfyRzGOEbIE/fAwKSOfQAjtwkERgQAvH3NVTCONFItC0a+a6D7ApdWvD2oWcW73pv66lzNzvaic44Ac9namBWaNBPYO4F1JoLzQXWEc8SAT7Xvfl0Yw6EaJSRdkrXbw/+45OvTlV3TlP2QHHsmebYa1f2ZSv7uxfHfnvXYnPstym9LXZlf3LpdmDyJrGcvEPPW5P3FMvd9u+2Q89bu+08wJ89n6vnrQM8dbfDez5Xz1t7rsretQ90q6oEcy2ZAAAgAElEQVTb1m5VPejnPpu6x6bssyi1ZqXeVlyXPWe/XdlrcWzP+u1Hyuuuw2cvSmul3jz+3fcB5gCxlUKXT/6uqvx/W5H/47VFP/z4ycc2PfXIxice2TTrkc1FkzcXTa4sejRWZj1aORvLrEcrx1554tHKpx7d/IufrHnC/NELH4S2tXI9winEraMsObtmdxiH6bdkDsMEtDxNPxCQzKEfoMlDJAICgZgt7L1MYrlhaNyIcgPjg2MspSij1263V+07Vfra9kXvHNh88MuvmjpuEy3KIRU0vK9EMEBI7kbRSwFUDmDzFDNREnGaYtGaenMP7mYOOolGmL7GtftvrL/57/nlf59f8fd5FX+fV/73eRU/zVvy07yXsCzB5fh37pKfigI7LPk7WSQCQ41Afvnf5lf8t/yX/2v+sr/LXfbf85b8tKDipwXl/3fhwt8uei/wyeeSOfTm8U/eJ+YgxcBe8vD5E79bPe9/L7U+Ni/rkUWmh8ssk8rMk8pNk8qzHqqY8lDF41imPFSRhcWE31Nw05j5znqowvzQYttDS7IffdFqefPp9X5PKycdBo3i7A2oHUb4I5nDCN8AefoeEJDMoQdw5CaJQDcEEloEWMCcrBAqKWZPFNsXskKjtlszkDZQsD0y2nR+9tKtj3ceK32t+pW19Tt8X5+/3tJK9A4SidIoYTq4QgunZuHckIiO1JkjOvns3Rp2758JJ2kKH0Io0YmuMXLyqwtrt+39aLvvo5rO8mGN/8Ma//oa/zoogVjxBNYll8R6uSARGEIEfOu2+9ZuD6ytCa6D4l/r8a31+P683bfH/8nV75pGXKy79/OWsmvjIwfnjHB25c6Nnacb3vZue7Vh81Lvppd9m172V77s34xl08t+UcTPbivv3rT5Zf/GgZUeTrRpYDXft2FL/ZuWwvVWvRSoWl5fufnYgdPXzkU5jYBOBuLZ4ZzNyN5OyRxGFn959p4QkMyhJ3TkNolAVwSSZ/3BBSEWNwl1Avh25iwWgFXnkK+NEsqilLdo7MTX3693HV3wRs2r6w4eOHb56q2OKCUa1aIkqlOI6SFyTsczTyfzhv6LSYlaQAMf/+iMtWvkdkekLaq1RfW2qN4a/27F5ZaILotEYAQREP0w8d0S0W53RJs7oi0R6LE67a21XteHdxz/ijMHxjkxeAfTb2rtN7SOa1rb5eidS9E71/S2HspVvTW53LVny1X9TqJc0+9c01uSSuemxD6JBdyty6m7nqg1qR6oM3GgWOi2FU995/7fya1quaq1XNFaLmp3rkVbm7SOCNEpZ7oBBXJIj3xcVskcxvEDm/KXLplDyt8i2cAUQqALc0Blg1gDwj3aGEHYVcY1DikZCKG0Q9NvtmmnLjW9s8nvXF792pqDZ67cuRXRI4wSRiiPFcYhQ1yiiJfGwK87wRziZkvgQUEY0ygUSBiBOeoIB7NeUSjyIcGK5LdEYEQQiAu6MTs9kHcp0wk8IxQ1cwN/NMZnDRyiLnCdswjVYZAyeJizMKci5LMI33b3NzGAbyRKtx2IwQjEmk4URo3OkrQ+sUPyAkuuDZvReSKCMSJ6qC15U5+WCQSnZhHOwgaLoh4Go1czcY0Usu70f75mkLqWZA6DBKSsZggQkMxhCECVVY5ZBLowB5y/0w0MgoRZoQmQAQp0wIAoSkyj/Fa73vjFd6V/dD9TvnnVtsMXbkXadD1MIzpsTGYOYFebXIYCQkEkGAdHChF4kMZ8sJNPHY/9DkZYskgEUgABCHdDGCUc5MyutoFD8ZyMxTqTBWEYZ3DAEqMARo9OnmRI3rc3WHQZMdBHi3Z+P2AMeeC5Bq37dTYJvMjEyIdeZDSe+Q28ZzBRZ8yvrDfXPnT7SOYwdNjKmgeKgGQOA0VQHj9uEICXbXJhGA6JQwRVeA8JeyCY0gdGoHUQeu56y3bvF4ve3vn8S5v/vOvEp1dut4BxUlin7ZRFGZgzwVwqxmAdPgOMrjLC3W9uMS9JcXZSfksERgKBu8RN8dxBn5TMoX8DbvK0BC7HEiULGtF12kIYYSZ9J88sGEnrhajd/RsHRvAVEEY/D9y/6w59O1fXY7u3pKetoIdF6RznUTojUdw9IvYP8IEeJZnDQBGUxw8dApI5DB22suaxh4CIehSbsoIfMfJAwb2ZMKYzAs7OTGP082tNm/d/suT93QtW7Niw58SnV5pao0Qjmk46KG1jLIKOEEAeBPEYRrCS5wjvEii6vbjlT4lAyiEwjM/KWD1Vt+c+6TK7bRE/k7bfozf0fmvynkZ3ugI1J396bknPW5PruXs5diwQDWhE7H+ixrsPGIE1kjmMAOjylL1EQDKHXgIld5MIxH0Z4spunKvC0N/oDM3BRolHCLutkU+vNm3YfaJ85Y7y92qqG85cuR3p0CmhOqVRRsOMdjDIEp2swRg+ncO93teJd6ZYkPdaIiARGFMIJD/hY+rC+nUxCTQEc2CYKAeG4BQa/yRz6NetlQcNCwKSOQwLzPIkYwGB7tZKkKSBaYxFweWYEkp5hPKmKD37zZ3l67zPlFcuXb2v9pPzTboWJjoFa1rKDY1zzWAQeWnEmEPitXnPhfjb854b5UqJwIgjMBbGkuG9BqFkFL7Iwk2kN7P7I36jh7QBsTuA8jkEikDykLgt3fBJrB/GBckchhFseao+IiCZQx8Bk7uPXwS6MQcCvtEQmSNKaFTTtSjntyK84fTVxe/t+Ld5f1619ejRL2/c6ojoXNf0KHhOg1ocX+LgaiC8lBNqh+HUOYzfWyivXCIwDhHoJoJ3ItBtw7j82c12sxOcEV6SzGGEb4A8fQ8ISObQAzhy03hHoOvMU1fmgNFNUdugawR8F250EE/D2Yp3a0per/rL7uMnz9+81aZFKaFcAzslCPuHgVdjXnuCPKQmcxiXEkTMUkFe+6hAYLwPTX2+/uS72ueDx/IBXYBJ/tF19B92CCRzGHbI5Ql7jYBkDr2GSu44zhAQc1HJr4+4ogDVBYwxrhNGopS2avRKc8Tj/bz8nZoX39j68a4j579vbYnoGqEE7JQgdwLGC49XEAtvJNQO4jv5PCMOdLf3p/wpEUgpBEb8ARmFDUi+gaOw+UPaZIENnCIZpREekiVzGNJ7LisfEAKSOQwIPnnwWEUgphEQMSDjrxNIRGVwiP7NIHUb5TTKWHOEfHG9ZUfwXPGyqvlvuLcdPPXtnUhE55AHDlyiY6WrVwNEcU2OjjpWYZTXJRGQCEgEJAJ9R0Ayh75jJo8YLgQkcxgupOV5Rg8CCZk+FjwemQMHp2YaYVqUaoRoNBrVNL2NsNNXm1ZvP/wvJWvK39nt/eRycwcJg7+0AToJjJ6Eldydz2iEZ7RGz92QLZUISAQkAuMNAckcxtsdH03XK5nDaLpbsq3DgECCNkB6ZQy5wcE9wQAnBU50phGmE06iVLujM++Za29sqC9+ZcsbH9eHPr36fUtEJ5DuloE/9N1sIXmNZA7DcDPlKSQCEgGJwGhEQDKH0XjXxkubJXMYL3daXmdvEEimDaAxMHRuMGpwjNnHgRNoUV3X2wm71hHdd+LC8nUHF7y1472qwPFz12+2dUQJgciroGyI2SPdZTkbt3zqTWvkPhIBiYBEQCIwHhGQzGE83vXRcs2SOYyWOyXbORwIJDEH8HRgBsVE0ZwYnHIGFkgRvSNMzt8M7zhxef77u+e+6VnnPnLmQlOEsSjVdIyhxMEfotORYTjaLc8hEZAISAQkAmMHAckcxs69HHtXIpnD2Lun8or6j0BX5oDJF8BdAeKxUkY45eEIu9oU3X744nN/3P6rRX/Z2vD5leZIlHHIBMcJ4RQSvDHUU3Stq/9tkkdKBCQCEgGJwPhCQDKH8XW/R9fVSuYwuu6XbO2QI5AQ+NHBmUW1CCU6o4QQLcro+ZsdH+46PufVascbNQdPfnP5TqSNEJ1BAmnKGGZnMCBvg/RiGPIbJU8gEZAISATGKgKSOYzVOzsWrksyh7FwF+U1DC4CgjwwzgmlUT0S1bUoobc7oifPf/NuVW3pm1uXrttXe/Lq9Ra9g1CNAXMg3ADuYFCRJ1qM+oPbKlmbREAiIBGQCIwPBCRzGB/3eXRepWQOo/O+yVYPMQIinwNhLEy1NkKu3m73nb74pw375r5Z9aeNBw6dvNAUZVGdoZ6BgkoCaIPODR3DMTHJHIb4/sjqJQISAYnAGEZAMocxfHNH/aVJ5jDqb6G8gIEhcG+7IvBs4Ew3eBujF5vb9h0799pHB35X9uG7W7zHzl9vZUznjBAK+dzQeZowDWmDbgB5gPhKA2uVPFoiIBGQCEgExi0CkjmM21s/Ci5cModRcJNkE/uNQPcYqInf3DAYB48ESNgGizH3BvgJhTCiMdLB+S1mbKk7rb5W/UxF5V/2nj1/q72dMh10DFpn+CQ8uN+NlAdKBCQCEgGJgEQgCQHJHJLAkIsphoBkDil2Q2RzBhWBBFPoUmuMNiBjYCD/I3mIGShRpulUC1P9jk6vtOjrPYfVZZUV727fFfrqYlNHm850xtAXOuFKHVvocgr5QyIgEZAISAQkAv1EQDKHfgInDxsGBCRzGAaQ5SlGDIF7MgfO45wBjI1AwwAxkSBFNOVMYzSiUf1WhJy41LzGc1xZuvWP6/bvC31+taklQkWCN6GXgGrkRyIgEZAISAQkAoONgGQOg42orG/wEJDMYfCwlDWlHgJ3MwehIEBTJVAyULRYopCAgTKucxZlNNrUHjny1Xera048t2Tb0vf3eU9cvNnaoZEopRoQDbRSAgcH+ZEISAQkAhIBicDgIyCZw+BjKmscLAQkcxgsJGU9qYiAYA6JlsHPpA9mbICMz5Ar2tAZ1wjT2qLasS+/XbHR+/xLWyre23PifNPtDp0SwkmU6hHGKDpFGIYhmUMCV7kgEZAISAQkAoOIgGQOgwimrGqQEZDMYZABldWlMgLo4MAJo4RRyiDvM9UxDQMYLOkRpn8X0erPXlv0tsexrGr1tsYLzeHmiK5BbmhqkJg7NURTgtBJRJKHVL7Xsm0SAYmARGDUIiCZw6i9deOg4ZI5jIObLC8RERD6B8jvFmcOjFCuUYPonJKwTr+60VrV8IXy5vay9/dW7j/12ZWmdg38HgjXGdM4IwaaKkEcJoi7qkvmIHuWREAiIBGQCAwBApI5DAGosspBQkAyh0ECUlaT8ggkmIPOMHcbo5RSRuA7rOlnLtzYsOfEi+/snffuvm0NX37xze22qK5rhDFGONG5RsALAiMxoZOEAWoHabCU8nddNlAiIBGQCIw+BCRzGH33bPy0WDKH8XOvx/uVJpiDxmi8kAijbYSfvvDd6mpv6RvbFr2za/fhK5ebo+061TSNahqjjDCmMaJxAs7REI5J1DTe8ZTXLxGQCEgEJAJDg0AvmQPlnMlprKG5BbLW+yIgmcN9oZEbxhACIg4riPzCWklHJtDG9e+J/vVtff6Kmn8tef/lVdtPXfr+ToRq4PvAQRlBNJHtgXJwa4DU0AxslUDZMMpiK8GlY8G2d6pLxPqE8kSSojHU68fmpUhd3wDuKzzonUNBjxXFhrmxLpUm0OjsV6kxCCYzB97UQVduCS1dV1t7/AJN5C2FaSyKM1mdje/xnsqNfUJAzhHeFy7JHO4LjdwwqhEQIZQg8wJ4PxNi6AToAGSIplTXGQkz/XqHVvvpN8+/uuXfF328qvrw6Yu32iI6pRxTS8PeIgZrZzSm0YJIjAggvxGvGXTMYFxjnGAI2lg4WgbrCZQYt4LMFnDdEG9KFonAyCAQF1qhUwJVR9cifAwZN6ggwKPlWUyddiJr4BCAGly2iCEyYAKTwPDUIINiSsyYNSY1AGpqwPgg5kxwXBw9wwL2ms4rwr4kLgFfC7FeRbihYdGhX6G4Loa+xGzKiN3B2A3jhBvIHIIvrztw8Nh54ApdP50TQSPW1lF8YjHaJN53iW6DERcpxEXpuc9jSigQLIQ1c7edu2y9qyrMQxs/9q6tUFW8x4qF5Nq6bQIvzOTSZejGi+qcNIwPsP2/a5I59B87eWTKIiDGVfEYUUj4TCjHIEoQVJUSRsKUnbve5q7/cvEH+5596eO/7Dtx6nLT7TAlcbUCOjR0Ds8pe6U9Ngym0/D9yJEeaMAcGImPLyAo4MAEgyPsBjIawYIyBKbJi+euEHjIb4nAsCAQU+rFwiYLE0H8xpyNsFV++oaAkBUQV8rBZSvOHCArJoeo1IlENWIkALmE4szCPUcDinQi/p2KY0Xn6B1f6tZ1UWoDIDRqaMzQDUgHinppRKBv+A7F3t2ZQ+DldfsPHjt3L+YwFKcfL3XGXn3YS0QXSSzCU5EwMkB+lpC54wvxaQ3YTZRuAnpifW+2xg0aYufqdmxff3ZtSbx98Vpij0Vnw+PPCT4ED7j7kjk8ACC5eTQiIB6BJALOgDKAARLIzm2EfPVtS9XezypWHJj3Ws2mvUcv3G5poSRCGNFBRWGASM1pPPnDaEQARx4wT8JhQjAHnUGQKIpvecbAbYNSg6IKAiYbkTmgCgJmH2WRCIwMAijAUfGNud1hOYk8CCuO0flQjlyrhQCEc+qMGfDsCzvM2Jy8UESifgd8uXAwwHuAyslOkUJIVtgxQBehYyEpOVygV1pny7svCWKkcx41iGboFPSuMf2WSA86cvcqfuYEc2BC5yCZQxyZQf0Prz54KcJHxECJEWFY8eBZirggHucNXds2kK1da0qW8AfhXOJ64Qrxme6S6KoXltiSOXS7O/LnWEAAhwCGn4TsAVr6KOW3NXLuZuuGXSecS10LX9/lqf2ilfIOFo6yiEZ0Hc15OIMpOGAOoxWMTuPd+ADBOIgLECoKCRVwKGJEcb5NaCGEjYIQGrpqSO/Wiso1EoEhQyCuWyBgZpjE/sXrXIY069eYJAYEOJQZHG2VUOUIWIMpEky5M6ACycY9wrmL4CHIJWJaiLgVBwUGkqIFtCUx65GuF9V5gXgZUYNHDBo1IGUPDpUCH5hS6RfOg3qQZA6DCuf9KhPMAWwThDqewsAjOrfQqXXTVSX/BA7NkgoOXokdum9FgpLYChrV5GOBzcc4S3yf7s8jdmtUBaI2sLMzCw1g0pMJxhPda+tWeewnFWYGOFWTsMt6oOQjmcP9upNcP4oRSDCH2Kw6PqA6400aO3rx1tuVgX9VVy17f7/3kyt3NAozZrSD0TClGiEUIlXgTMMDH54UBojFbZRjLnQ4hlDBpWKjFVhwgf0S5zqaPsOMW3ygvMf0Rre5E/lTIjBkCIDVCIkViEygGUYUvyH5Yi/mw1L4wRyppiFzEF8wl8J0AzSQwr+WciNsGBGDa+j9gAKMUDfFZ2Bjsgr8RDKX5A8BSTFjOorUW7ib6sRELxgP4WJgNkUzKOEi1yc40UAIDYMSGAtH+iOZw7DcAc6hA2iGHjE0LCRi0A6Dthu83eAdBgsbZIQKDcPZ+1dob9rcYZD2pNIRv1Lw+Onx8wDmcOXKlU8//fTMmTNnz549c+bMp59++pn8SAT6jsDXX399/fr1aDRKqYgF0WOvHPBGDmQAPvH4q0AI7hDecPbaHz9u+MOybe9VHQ6evnr9drvGIJ00pxpnEcojOo9SnHyKWQgOuCUjVEGMOSRZEQBrEJgQQnRCNcqimN9ON4RzA1geROMimoaCmvyWCAw/AlHD6MCC4iwIte2G0WIYd7jRhkwXLPDkpy8IiIkDmMAEQxyuc9JhRJr4nWajtcWI3DG0G0bkOyNyy4jeNqKtRqQNS6sRbTG0O4beamjxIpb1VlhJkopYk2rfcC33LTx6h0e/4+23jI42HtGpDp7ImO2TgCiZSswBPaTf3eJfum5/7fEuHtIQKks+Dn15FrrtyznvINGvbl6tPXd87+UT+6+c2Hf5+J7Lx3deOb796oldVz7ZdfnErivHRqIc33VlgKWHZkPNu7H+nVeP77h6fMflYzsvHd19+diey8f3XDrWFGntBlS3nw9gDu++++78+fPfeuutlStXvvXWWytWrHgn6fOu/EgE7oVAUh+BxTfffPPdd9/1eDwtLS3DwxwSUrJG9CjVw1Rvjui1x8/9aUP9wnf3vLftyNGvbn7XEo4QjVANog1RwpkGzMGIEEOPG/qybk/L6PkZi/AtJAbURgJzIIQQqutUP3bmizfXbn1ljWf5uu3L1+98df2u19btfmXdruXrobyyfqcsEoGRQmD5+p3LsQe+tm7nH9ftfG3d7uXrdi1dt3P5h9tXbNju2uu9dO2GlJb6NBaBkwMa8RtgXUQvNX3jOrZv8e53F+xesXDXykW7Vs3bs+rFPasW7F21aN8H5fs+KN//Qfn+VWX7Vy/av2bR/jXl+9aU71tdvn91+f5VXYvYU2xKve99q6HZ9ymL9q5esGfVvD0fLNr5wZr6bUfPn9EhfAYwKzRXSYHBP6FzuD9zEMaofeoMcudkBBjn17WWDZ8c+JePX35qx6v/vOvVf965/Mldy4r2LCvcs/yJ3cuf2L1s9u6lY64smw2Xtnz27ldm7Xll1t5XZu1a9sSu5U/tWv7U9mVF2yrOfH8hGaW7lx/AHPLy8v7xH//x6aeffu65536Hn6eTPs/Ij0TgXggk9RFY/OUvf/mrX/2qoqKiqakJrOyHfo5EMAdCaAdhzRq51Nx26JPzSz/YWbZix0fbP/niesfNDi2saTowhyiFCSZwjGYieCvo8WMOmqPW0yEeSQVU8ujIyMFUCZQNLBph5MPqfT81/fvf2Ob+x+wF/3Fa2X+euvj/zF7yn6cu/k/TFv+naRX/eVq5LBKBEUTgv0yt+K/Z5X9rL/upreJv7S/9jf2l/5Jd8XfT5v9jrvM3zjf8R89KtcPd7/Ie14BlGc5PGxFOAuc/+e36Bf/rvJ8/Ov//mbzgnx5dkPVomWVymXlyhWny4imTlzw++aUpjyzJemSJ6ZEl5keWWCYvzpq8JGvyEty05PHJS36O5Z8mv/T/TV7yT7B/KpYpk5eYJi8237M8utjySIX54TLT5HLrfygxWV777eqGbW2GDrppiDeHRKtHQIdjYxJzaA6zlVsDS9cdONhV5yCZwwBvBOHs6+j3c/ev+Q8Lp//4vSd+/EHRX60q/NGagkfW5z+yvuCHawt+uCb/0bVjrqwpeGx14aNrih5dWzR5bdGj62Y9urrwx2uKfrK66K9W5k96xVJ/6ZOegX0AcygoKDCbzUuWLFm0aFEFfsqTPmKN/JYIdEMgqY/AYklJyQsvvFBWVnbz5s3hYA4QuBuslTTCmnX2ZVO4pvHcbxeum/e6a0fDVzdaaJTysEY0tNkhLKIzDeIuiQClYPsKtrAxf6Gen57U3Roz58D3SoI5UAKQRNoZ+cuOwM+ffCXXudfuPGBz1trVuqlKQ7Zab3PW2Z112bJIBEYQAbXepnjtjoZpxfUz5nhnzAlOLQ7Zi722F3bZf//hc0s2BU6ek8yhr2OPGBEYuDSQhiuf/OvWRX+9asZjm3J+uLXoR1ueenTLPz+y9RcPb3viB9WzJrmKJrmLJrlmPVT9xEPVTz5U/dSk6lmTqgu7loJJ1flYCrqu77bbyP4Ul/AEXkj374ern5y87akfbv3FX6+ZbflL8cqj7iYjomEAiVTxwu/KHN7bGgTmcOwcBIESjCH+3dfOIPdPIADMIfJdycHVjy2b+VjVLx+ufGLy1lkPu4smbC/M3F74sKvwkeqih6pnT3I9IcpE1+yJ1V1KYtMk1xP32tp57KR7HJu8NXaKpApnT3Ldt0x0zZpY3aUk75y0NdZa3Jo4xeyJ22ZN2DZrQvWsCXg5E7YU/mBL0WNVsx7bUJD+runQ1YExh/z8/KysrMWLF5eXly++69NNXpQ/JQIJBJI7i6IozzzzTHl5+c2bN3Vdp3SwwlaIgCEwv57I8oODLYR9oZRHqPHJlTvveU4885Jr3lu7609fu34nHNEJ1bkeZRohGtOiLBLlGoYcikWDRJ3IqHeRhpERY0bEdQ4EjZU0nWltlKxx+X+W88q04jqr0mBVG2xKg93hsyleq+q1qF6r6ksqsFIWicDwIGBRfRbVl6X6TbDQYFV8ViVoczbanAGrY6/1uY+eWb4pcEoyh4Tk06sFHCJjY5puEP/lE/9SNf/H66c/tHXmJFf+pG0FD7lmTXQVTnAXZLrzMtw5Ge6cTFdupitvgqtgQnVBpqsgs7oQS1Fmdbcy66413XYYuZ+uwsweywRX4cRtRT9el2/6+IX3jlY3GWENk4WmDHMQrzZOmNEUYe9tCy1dd/DA0XNgTYtqkZgJ2tDr8HvVyUbnTpSzi9HvSvevfLjC8si2f560rXCSK3eCJyd9x8z0HTMmemZMdM/MdOdmjFiBh3EA5X4tz8tw52V48jJq8jJq8jM8+ZnuvInVeT/Ykvfwhhnpb/+/h64e7/l+PkDnkJeXl5WVVVFRUVZWVl5enpALEwvdZpflT4nA3f1EVdVnn322vLy8X9ZKwArQaghnzWJmOCgVQy4CHcOREWJoER6O8IjGdKIzXeOtYRY4c/X1jf7iP+1esrq+7pNr11vaIyxCWJRRyPiG0UMoJomDrMkYoiwWVannZ2Y0bQUD53jwN3CQJhSSZ7O1nuA/5L+WrSBzULxWKD6z6rdACViUYKyoAVwj1otv311rkrfKZYnAwBEImNWgWfWbnP4sZ9CsBq1qwKb6rcUHLM99/Pvlm32nIRnWaHoMU6Ct8YHToAYNXT7xy6p5P1o3fcKWXGQF+Znu/AxPTro7N92dl+bOTXPnpLvz4iU33Z2f7hKlIN01iko+tPzeBa4uw503wVX4w/V55o+fX3PU1WZouhDJIbvNSN4zMf+Fbz0IvEmZ0aTx1a4jS9fW7gp+GYU1Is5VLJBuIp7HiLZ6JBHr97mpwS9Gb5YeeO/hJaZHtsyeWJ2X6c7J8OSm1+Rl1uRmemZmwLOQiw/FmPqGp9uTKLnpbpgpmLQ1/+GPcx1gQjwAACAASURBVNPf+vmhK4PKHKRYLBHoBwJOp/P5558vLy9vbm7u+xMOCU4hpLgYy8ULEEMBol+zju6/OuXRKOsIs7YI1Tt09m1TuP7YhVfXHlD+6Fn+54baT642h0mURAmLEvCEZgkuEtf3wv++t20UHAGcKPnDWZTz9dtDPyt63a4esqr1gjZYFJ9JDZiBKgQtSihW1CAQic4ihMLkNXJZIjD4CFihBwZMzsDjzpBJDVoVn83htRYfND+7+XfLKyVz6N+4IwY4ZrDDl0/8qmruD9dOz6zKz6guzKjOS3fnpHlmoHiUn+bO77LgyUkDOjHGCkiBGZ7cCe7Cxz7Ms2x8ft1Rd9ggOoTyh8kWUGOP3AfOHfuDULeUG806/3D7iWVrDrnrP4sYkJeHMkY41zCUNjQW2zuSjR45uAZyZmrwC9FbJQfff+Rl0yNVhROrc4FCe/Iy3IUT3fmZHhCpx1znjz/Lnrw0j5gggGc83ZU/cVvhIxvz09+ccujKiZ5R7ZvOoR9SozxEIjAw5mCgzqE7cxCpDzF1C4XU0FCilITDjF5tjew7ceHFP7lfqNjwfpXv2NfXWynt0MK6rhPCCAWX4dhQOw4GWskckpjP4Mu4svKhQMDqQOagSubQ8+u7b1vFaHc3c0ivzksD5jC9C2EA/oAUYuwyh3RPbmaKMwfMmUK5cYcaG/ecXr6mrmr/6Qgk9YQ4UIQxTMkxsjSnb50w1fZOMIeHY8whJ8OTkyaYgys/I6ZtiIvaY4w/38UcJmwrfORjyRykzJ4aCAyYOYgZGBFpVKQbAm0y+DRDED3MXARaB41T3hw1tno/e3rZll8u2OTxfXXp+5YIiRIepjSMAZc42OtAbtq4DVSqjWSD3R7JHIZCtJV1DikCkjkM9jAA9UnmkDR5DDqHlGYO4o6hTlyk6qs++OmyVYfWuo7eIQZaVcFsmQ768xHVjwxFTx3GOiVzQKPEmM5BMofUEJllKxCBwWAOOJZ0Jq3F16DIaEo5YTRKSGuEfHOTfLz9RMkfPfPe2b37k2sXmsNtkQglEU51QjB+ErAGjVEd056OA40D5glKNlZi0lqp0/hKqiBSFAHJHIZCdpLMYbQwh867j+pxyowIM/aHLry+rmHFBv/NqAExoCAGICH4LZzfR9g5o7PRo2lJMgfJHKScnqIIDA5ziHs4wNQZFLDfpwQoQZTRm2HtxMWmtdXH5r+x/ZW1B3c2nvumXe9gjABP0ChlOhAMSGnAmWZQjXM6TqZqpM5hSGfHZeVDgYBkDkMhfCWYQyP4OZQm/ByktVJXPwc24n4OXe4+h9zfGjeOfnZjxV/8S1buvdZKw5RATj8DkpgyCBMC1rySOXTBrXc/JHOQzCFF5WbZrMFhDkLdHg/EihFHqUa1CCE32iKNX15/33P8+aXbXl1fW3fi4q2wHqYaeDRwnTGicyPCYZ4GcoRSAo5wMOYyOg70vJI5DIVoK+scUgQkc+id2NO3vSRz6I3OgfCUYA7JNIBzIAdff9O6aktjyWvuz6+HWzUN4wp2MgdUTiQf1Le+MW73lsxBMgcpoqcoAoPGHJA8iNwNlHOdswjntyKa7+zl1z+q+/WCjW9WNZ68druFgB7C4BFGNQ7KBqYZRtgwohzmZziFfxDqbnxYLEnmMKQyrqx8KBCQzGEoJDnJHEYNcwAK0BkaFsILcuPGneiGXcfnLKuuO3WjqT0K/IaDkx8zdHT+A9e/mC/LUPSeMVqnZA6SOaSo3CybNUDmgENWp60SMyBKq2YYHdy4rXGP/8zCFe65r3s27f38i+86bmkkTDRdC3OicUowyB6lBtM5I2AZCiZOjBEDx2XxKh2jQ2LssiRzGArRVtY5pAhI5jAUg5JkDqOIOaAxrQgKAg7QjLM7GtsZODfvrd1rXIe/bW6l8CKDFxoBNTqPBR8U78mh6D1jtE7JHCRzkCJ6iiLwQObQ83AXDy9BOOS9ITqjUcbbqHH+u9ZNuxrnr/AsW1vrrv/y/I32NsI1znVKCNG4yJYDEzfoSS0yokH0Vo1yDRNEjNGxsOtlSeYwpDKurHwoEJDMoetDPJi/qMHAz2FL6Y/WTp9QlZdRXZhenX9XVNY8DMk6HqOypoS1EqoPRDhybkDSN8ZYO+X+s9++8qFv4QrPl1e+ixKKMQLBABf159hJxsNk2GA+DTALKfI5QFTWSsjnkN4ZlbVARmW9H9gyn0OKSttjqVk9M4dObcLdnTSepw0zPeuMa5SBY0NzhJy6eHPD7qPFyz5eumrfruC5y7fCUc4IR6UCfFMccCE3NHqOxUZiWGkQxkk8ROHdpxxra+7PHF6zq7VdM8FBvl7MHi0zwaVo0KGhENNTsE7JHIZuGMIc0sd/tWXuj9dOn1iJzMEVZw6QukGkcchLcxfgcl6aZ6gzYSXqF6fOj2sGRMreIQqlf9+orKnEHPDdCCM4mCVFGf/82p2Pdn7ym4Uf+U5daG6LgjIdXnXAHGKGSpI59PHJoYZxXrulHnz/4ZdNkyuLJlTnxZlD0QSXZA73RVMyh7EkoqfotTyQOcSUsiJmUixyEgRPiqU/5obOdMI0wrSorjV36Kcu3FxVHXh2yYa5b9XUf3Ll25ZomHMClEDjBkFrJuHJ0Gkqet8nYKxviIMYD80ai8oa/FnR3cwhZE5kjxYLMoe0DOE6EghI5jDowxKIlCCIcmqQ0GVkDmtmdGEONdPS7sEcEnL8kEnwcFJBHvKRrsQZizsX2zNk571PPocUYQ6J/Btw14AhgJP0d23RA8fO/2vp+s37Tp779o5GOKec0dhMGdCHeMbUQe8/Y7VCahjntFtK7fsPAXOYFWcO+enuWROqC9Jdic45RP1wRKuVmeBSVGSWzUIEemYO+EKLZ3mLe3iBMwOOioRTjXGdaDoJR2nkjqadvXb71XUHfj133YI3XeeaWLPG2ymPMkqBM+gGp1ihGG/j1Y3VYa8X1yWZQwrOqcsm9YyAZA69eLL7tktqMwchPyWYg/g5jpkD3tuY/kAwB2Lo1GgjxpnLzfP/tOPlVbX1p6+0UgqJUHWCftIM/CFib7++9Y3xvLdkDtLPQcrpKYrAg5iD8HmOa1xxvBQaWsIpZroBe84oo9+2hGtPXq54f/+cpdtWVvpOXbzZohvthEUo1aiuQzwldBUTNkpyFBWvn5jiRuocpAHSqEFAModBF+Ykc4gbQcVpSQrrHBIWvDALBpoEMFgilEcou3yz7c81nzxdXvXRvlNX2qMRqnFdYxD+QzKH/jw0kjlI5pCicrNs1oOYQ3yqJDFeCjsl8GamkMCNM43zr6+3Vnu/Klt1sHTFnvU7jp88/10H5TrjOqOEEUoJpbAIMZMwLEU88UN/RpOxdIzUOfQ8vS23piACkjkM+hCUqswhL26qlFA7JNtHJVwgxNZB/E5dP4fO1yB0AnyPiQCsjOmM3g5rJ881lbyx8+WPvIc+/aaV6IxosAWU9HK2rM/PjWQOkjlIET1FEeiZOcQmVWJmuDhUwjQ5oYwQBpGUNMq+vna7cv+nC9875Hhzz18OnP3yxp0IKGqhCEtPzmDOhRGKrtHoIzE+0jU8cKSUzCEFJWPZpJ4RkMzhgc91X3dIYeYwiHyg91WlKHMQtEF4KwjtO4YBFOEBwZ9BY6xFM1Z7jpe+vX9l9bGrdyIaAXteSPkg/Bz62jPG9/6SOUjmkKJys2xWD8xBzKgQCBGBkj74O4Csq5OIRvSoTlvD5Jvm8Prqw+rymhdXHHAfvno1HO0AA6UwJxHONbBQQtoAzmHxw0G5K7QP497TQTKHnoVUuTUFEZDMYdDFOckcRoW1UjJzgD4AvzGdA8c5MjBZIlFuBD6/Xv5+7bw/7Ws49U2rpmG0QIrvzkHvOGO8QskcJHOQInqKItADcxBjI0UtqyAPlDJNh3mUKGW3w/T0+aY31h90vFT59seBwKffX+/Q2klEJ2FGOjiLQEg6KBh8FYyURLZNSPsALtbjnjYAvNLPoVfRgfwW1Xf/4h+YeN1Dzb6B1TxqXBf6dJmSOQy6vJaqzCERBDYvzZOXXpPsFZ20yd17ZUIv90xRnQO+EJNCrCKTEPNrGJwV0phSg97WyJb9Z+e+uvPllfuvNkei4OMgUkp37zjwSpSf+yOQOswh3ZOf7kk21etlTx7AbjK2UoqKzLJZiICqqs8991x5eXlzc7OQZVHWj3+ByoCiDxhGp6ZEp1qEke9bo/5PLr65fu+clzeurzl69MvvbrZpUUII0QmJEhIhNApSsUEZqizQwQHTNUD8OsgSjTM29x8zxscWyRx6J7NK5pBCJEQyh0EfnFKYORQIbUD6PZhDbFNXdcEARKVOBpK6zCHu2yAUDrFQq0KhAGkdKIGkRoydvdS0duvRORVVroNnvmlqgwAjkP00/lbt+n/Qu9OYqTBFmIOgDcNNHkYPc6goL68YAnF6iKodgpaOyypV1fncc8+XlZU1Nzd3HdBQrOWEsihjlFLwdNYp6aD6N3fa9zd+tuLPe8ve2rrK7Ttx8WZThOiUQ1IHQgkFFwhIocl5jDmArZMBFMIgGPl6HOV663kQ7wtzCI7jfA7dmIPfonYrAQtkt0iUHuRscWBi/wBW5bOoXizd9A8D1Gb00IxRvOmezMFWfND87ObfLa/0nT6H3qA9d3y5tQsC92IO0ydW5WW4CtNFJrjhyOdwd643SDmX7s7PcOdnePLSPULnkEjvMHRTsKnPHFBljl/MwJkwMOjlHBz8iMb0W2HNe/LKS+/sLXujpu7IV9/f6YDsDl2YA07Hxd64XTqD/JFAYISYQ9KDAH0+DzlDQZw/DAo37kUlKc4cyjrF5SUV5YvxV9K6+NaKsnIsFRX32Bjfqft/sevicqh2KDhJWXn5ovLyMiyJc4ufD2hl7HLwoAfsmqh4jC441ZLnn3uhrGxRc3NTMnNgkHyBEg65GgjRdR1UCS1R7VJT697DXy1e6Xrxjc0f7zly4U77LU0LI7WgGuXgFg3ZM8W7ENmCoA0QVAlCTEBBhYPU097XWin0s6LX7eqh7jmklaAlORnceMoEZ1X8NgcUq4IytxK0OBotSqPZGTA7/RY1aHc0Wh2NZiUEmbbRAsqsBkQx4YJFCVgVv1URJMFvVoNmNWRWQ1Y1ZFN9VrXBqnitSsCs+s1Or9npBUahiKpiZMOqBGxQCTTAHDOySvAQwQQEdRnFrKA3KqAEc5jiDJnUoFXx2RxeW/FBy7Obfy+ZQ0Lq6cvCfZhDboarYOiZAzCBdHd+OpCEwgx3AZzUnQeJ3qDkZ7gKJ7gKMt15GbHsb7mdqawhg7Uo3SShAdoypThzwLgh8feXCFuO1ryoZedcZ9EOpl+81VbT8PUfyjat+LC28fTlFo3qoJUQH+FUjS6EsALdJdBtoi+9ZuzvOxLMQeQtKUxzF6Z58tJqctJqctI9+Rnuwkx3QaYnN0M8F536sW49f/B+piRzAPG6onxRWXnFooryRRVlZRXlFWUvLyl7qaKsrKxsYRmI47CHKOXl5RWLyhaXLV5StmRx2eKKCkEwFqHgviguUVcgQxA8oRw2VSwEmb5sSXnZS/ANdQpBP35EP/8LHoK1VSwor1hQXo4ngtoqkNksKCubX16+qALYimgPNLjzWsrKX1pUvqQM2ExZRflCvMx+tmXUH1bhVOY+/+ycReULbzXfpKgcEH5flDPd0HUeJZDojYE/tE7PNbVv9X3x24oNc17ZsvnQmRs6a6XhMI9oRpQYIvYcRT0D0IP40Dr2B7h+X+F9dA73ZA5CWk0iD3EROS7tdZNiR5f86sO5/6Q2J9Ekq9poU0LZxYGpc0J2Rwg4Q/ER65wTFscJkzNkcvqtSmjGH47Zi4+ZlMNZKiTbNiuhLGfQ5AyYnP7HSwImZ8CqBmyKz6bUm5VDJrXBpARMSqNFOWx3HMtW/Hal3uposBUD8chy+kxOn0UJ2ooPW1S/ucRrLvFanD6bEsh2BOwOaGSWM2AG14uEpiIANAN4XWOM3XW/O0mX1ivXjtTdXzAHsxrowhzmHLQ+s/n3yyp9p6TOoa/jAYbdwWE3KYf09IlVOUPMHHLTPTnp7pwMV25mdWGGa1aGe3ama9YEd1GGOyfNMz2tZka6J2/CtsIfVBdNqi7IdOWmw/r8dA/Mv2agFJXunpnuhkriKaXjCeM8hUgw+idIpTJzuMfNTcy4Qeo3ZuiMRDhp4/Ryc/iDjY3Fi7a8vzH41Y22doPpoLwHqybOdUqjHDXzyBy4YRAujHuRR8i3p4EOlkOcQ1rkREdlGqRLByVbmrsozTU7zTU7w1OQvj0nbfvMtJr8TFfRJFfBJPeMCZ6paa7pQ2Chd9eTMhqYgxC5X1qyaPHiMpDIcRq+i6CPtGBxRdli5BkPZA4gk8cE+rLFSB4WDxdzANJSVrZwsWhjV8m+DDUfFWVAGxYjc1hUUb6gonwhXBawiHH4KVGdLzz33MLyBd8339QNFpsGoWCVCf5eFDMxUNam0xPnb7zvCv1u8cbFq/bvOXr+4u2OO5R1kHCURYgBsecYA5UsFFQsyLHvHi+Zrqskc4jTnh6ZA8j3jVOLg1OLQ3ZHo81x2FZ81FZ8zKIcBhFf9U11hGb+4cj0OY02R8Cq+q3OgAX1CWagB/4sp9/k9FqcDRZng9nZkOX0Zjn9ZiVogzoP24uPQD1qo0lttIDi4rBZAd2FzRGyA5HwZpU0TCmtn1JSb3Y22ED1ERSqCasibKi86LqdYA4hyRyktVLXp/zBv2CoRHfbOHOY9+M1MyZW5g01c0jzgNyf6SrIqJ6NzKEQ/Bm256TVTE/3TMuomZHpAV4xwV2Q6c7PrM6b6CrMdM/K8BRl1hRk1sD86/2Zw0C8IEYxc2CQ5CgaJR1hEmnT6LnrbW9/5Jv36o73q0Lnm8N3Iu0aDTNDY4ZOIBsS4eD4F+VGhBlRtOZlmPFIxg+Bp2aEdA6Fae6idE9Rek1Rek1eek1Ohjs305U3wT1zQs30DLAbnJlWAzEDhpY/pCRzEFPwQudQUQY6hMUVi5YsKVtcEWMOZagxWAgKifKyuIVSRTkwhyWoQECtQncdQkLtIJiD0DAMOnMQAr4gNguRn3RTZaBGpaIcdQ5djJeE2gFaieQhpnNYXD5/cfkCJA/jkDk4VfX5555dVLboZvNNYhDKdQ7JnokBuaEhkVtUY61R5jt1acUm79w3d776ka/+5JWrtzvaKA1TXaMRyqOMa5wlMQdM3MAe/MYc73tI5vBA5mBWgmga5EeNQdCqNFqVw/jdCFZDwBz82Y7gtOLAVIfPpoASwCy4gRq0KEGrEjSD0ZHP4qw3O+tNJV5TacBUGrQ4g1OV4IziYLYjZFEOT3EenuIMmZWADY2gLEqjzRG0OwJmxTvF6X28xDulpAFNmIJCq2DFmuM+EhiCKUlJEjdzSl29QRz2/rRQ6hwGfdhKYg40dPnEr7bM+/GamcAcqofUzyHmt5DumpXueiLdXQRqhJrpQBvAQiM3AyyU8jKrczPdeZme3AmuvIe2FU6qfmKCa3ampzCzJu8+zAHVDp5xyhw4Y4xpFEx8o4Sydt048un1lRsD897YvnJb4OyV7+9EIzro53UKLtOMA3mIciNMk5gDWvbKuEtDzxzA3C5BABLuDRBGKb0mP8OTP8GdO9GVO6E6b0J1fqYrJ9M9I9MzY4I7L7MG1G5JxyYqGbyFVGYOYIVUsaSs4iUQpBeUVyxE0XpxOVCJigUVIE7jdHxZjE8sKltcXi5Mj4B7YOkmbAt/6IRw//+z9x7QbWTpueC0Yvcke+ZNsI/tsz7v2cf71ut982w/v/XuPk+3KFKZIqmsljqNZzpILRKBlEQAVYXETFGUSIo5ZyIxBzAgEARzBJgTCBJgAjORqgrcc6sAEArd090zPZ6WGuc/4K1cAFH3/t/9///73PlC5JpnXPxnjv1Si+TV3RlTzmoFcKMwm81mIwA5gGwsV0qVawcCTyBEzIEIsIBPGMqBQzkIk428gmEHkluJBcGraybcYcdwK4ZZMHwXw60ohpltuGHdrBic46c2BMdWPC5q7xo1bZhBRYMdA/rQOG5z4LY93LaH2RyYHeANZ9gB/xY5/FYP41vk4HJhPzPm4EVtO0ZXvhUM8AAoTqC2H6d3HA9RHw9WetHkxyhyL4ryOKg9kJO1CoSvL/+3EAWZxXSC0nEiqMOH0nacpjhGlx+jK96igSiEF03pQ1GeDlSeCFQcp6iO0duOhah86CofAhIQJQ0Aqxyntr5FayMyoNq8KSovWtsxmhokMoHIA2gQ4IEspAZAxWnf8Hwk1z/lxbjieeRwgqhz8P7k22yl3/rEv3gHD+SAO5FDqu/hYv8DwouviQK+I/b9ztdTIf2a+DyocADI4fJBsf8hydlDktOHxL6HhZeOll17veTq60UXv1966fUyv6Ni39clvq+XnT9adumQ4PJB0cWDRMISmarkka3k56yCeGWRA6jmw/YwuwOz4xiYTtuyYWrNfEyO7FdwfkblQO/UqslsQwENE4aB2TkHAR5sGJHuS2KGb5ED+Zx8zTEHMknJXfEfQKQq+ZMExK+V+x4Unzsi9D0q8D9advGN0itvFAR8N9f3ewXnfyC4eFR44SCgLvj94YTnT/VHjBwgGGFDbB6E8CGIy2KwoNBQLgcJC+fzw3gcLouLMLkwkwMxEIgJQSwm8ME5MEIihy+e2eOJIligjILw7r8USvjsnUlg4EQFIA7CRGCYx+WGsdkImwMjbCYRPHHvBoANhCAIm81FAAZCYIjJhhlchMFlM9nsVxI50G+BCmm2yWQCOs92i9W6bbFv7qI7mzbb3Jq5ZWCWFit4LzQ3saxzasVqd+yRSUl7oK4L6MLtYQA2AEOfQg7fZiu92E3wWPs8crA5HFkV39Y5PJX8c4ze9hZdRRQ6tx+jtnuHqH3uKY+HNHoFNXjdlnrdkR2jtf4yRPEWXXacJvOmyo/R5f8rRPYWXekNqiM6z9zpOhnUeRz4/aAy4dinTW/daXozsPmtOzKvW7Ljn0h9Pm04SW06FaI4c1ftQ9QneNMUPjSZN03hDTKXurwoXT53Ok8GqrypMi96szet+SSl1RtEJ0jw8GIP+/P972/u1hcihxNBjd6fFIMK6W/rHDwe8C/SJNKU3NlKLuSQ5nu4OOCA6GtGDiK/g6KAg8KLh4QXjwr9Xhec+27Z+R+Lbv6F8KO/FVH/XkD7P0tu/2N54F+WXv+xwP8HYt/Xy04fLfM/JLhwAHhOoGz6RciBcKdeUeRAKDRgjj0Ud4CSBgx3gCLBDZtdPbFMja/+FSx5XNrTOb68brZbbRgomsYAbTmQgwBUhE/ZtwPo148czhH1OWTRP4EcgL9+HsTcys8ekJw9JDz/eumlPym5+Z8Ft/+P3I/+r/Rf/X3mu39VcuP7JRcOCf0AkcDXZ3+syAEEDSCYw0L4CCcijB8dGx0TFxMVH/cgPv5h3MOHjx7FRUeFcWAmxLjHQSAmkwmzOTCbw2RATMZvdf5BQhCCsCEIYYOCA4jFYoDiZSJ08aJIxWdDg+e2fC67E8RksRF2WHhEdMyD2IfxseERXARhQKxQiMVgMZkQC2JBMAOCIqOiHkRHRfF4HIjFgpkMDpvB4XxZ5OD5LSBEKOO5m/0tK8gz/L7R1G+56DObaVTarU9uAVZW0+qeA8NRu91ms+G2TRydWjML5CO3uUW/hrLFrRPTJusO6BAde4BzFQc8rSDCgO7hdsJAghMwMuYAhKK/fX3eN+Cuq9tv7DlsDkdmhfoXF6NP0ltchD/K41SlkyAIZOB8Vib9S1shfYLW7UPtOh7Ufiqk63Rwq09grfenghOBxWfvlJz/tPzsp/UnKPITjI5jlNqTgaKzlPJTtIZ/ozS+SW05TlGcDFKdDmz3Cer6tzttXjSl792W80EVZ+5UnKA0eFNavO+0nL1T43u75EKQ8AKt9uSnzSdp7d4APCh86DKQ4ETrOE7rBjXZt1v87jaepZWeouSdoZacp0vPUFt9nP8LJ5vTNxcMfKk7/yzk4PMtcvi8x/3F25zP/n6dA6bW9RDZSmf/EKysIuD9HBD7HxYEfF9w6Yf5F3+e/fb/qoQY01U5m4M15kmpebzSov20M/FfxL/5edH5H4rOHZX4EdGGgEOSAEDVSpRHg5iDyDPx43fMAv8m1Tns997u/yWAAaT0mx0FAXzLrt1i3LH0G3bjivs/4YqghJrmnrlNK4YSAyYxbDrAuAloRUCSkhNMvvgn8w1bS34rn3PT7i/w+X2+ZuTgIhAD/GBEih0ZRgDI4fyB8vOHJReOll3+YcHN/1pCRSbry9e1yt3RnPn6/7fi9p+WXTkofEVjDjDhsLJZcPjDR2nVVdLJ8fHxEc3E+Ojk5OTExOTExNj4+OjgQF9DXU1cbDRRcwyygJhMFkGx6pmV5OmLkklECASxWSyS1whQMrE5MJMAHEQSkef+X74NYgaQM+doP9hAZk/BDCY7/lFKbV3j+OT45NRoi6w+NS0Bhu7DEBOUcEAIlxf2+ElS70CfoqUpJyWZy2QgEAtis1lsDotI0vqyN4QQry97FLm/J/b4amcg+aS+8rEwDNPotFu3CeSwsupAUcxmM1usGxZ0eHErrbor+GEFkiht6JyeM+3uoLgNw1FQDIEDdQcHijkwoM/gsO85yOJqwOPqAg+vLnJwd/0vbJD9o7u7fKqx57C6kMNzrKyvMLcStc2bojxBaTp/t+5WrCKxYkTStVDVq6/uni9tnuWndd9kNvjeb6KldeXKJnOko/RHrafpTd7UFh+q7CRV7kNVetO7fkltO8uQ01M66geMqdWjH8Uqzt2rey+iNU+2UNczX92hf1w2cpFed4bWCkqfqQofmtybLj9GaztOb/ehyc+F1PBKBkvU03WDcwUto7/hNfiHyE5QVR5hBxK5faPx2xcKnrwQOfh8G3N43vH5YmucHJ9ExhK2Z1frut8razScTQAAIABJREFUvfunaSS3kv9rIr/XJF9XthLIgxKfOyDyPSy48CfFN/5BQnuvLS17sbvRPNWG6TpwXY9DP7S30rChTdRV32wP+3neudfLQNn0a+UELxNADn5EytPTsAGQuv4u07HfJOTwXH+OA4IQ5/QZiuN2O2634vZdzL5uxbQLm3n1A8iTOkZ8RXqZYmTWtG3FbRgIURA5S6DywZnB9MV+PN/EvZ7BEu4R8PnP8odADgA2kCl2rmwlMRBwOCgJ+H7p9f8iuB0gS0hc6JKbjWO4aRrXVyxK3yz/+MeCaweFv0slzxd4Ov6IYw4wDHNZUERKakFX1yCG2qbGR9pUyqamJplM3t3dPT+v39jcMBoXFPKWxIRHYXwuG9RKM4GyA2A0JYGBZ9qSk44JghCIxUZgfnx8glgiKhMUJyQ+hCAW4WO/sDrii7u+4BIIAhhXiSAG8JyJg52XZjK5Kam5XT0DGI6hmMVgnGmQVkREcBCYCXKXYE5YeFRGXq5pY21sWCPIzQljMNjgxtgwwvkKuhMkbPhqAYcv/pk/Z8/fBbeQp6XSqR/f/hiCINOKCcdwG4oub5o7Ro2pknZmUk1Edou0S7e8g1pQFBQ2gPKGPTughECJvExQ6UWCB4AfADMTMKLfBMjh1Qw7vBAwPLXS3VkCBnCPlwMHyKG87RcXo07Qmo/TZMeByMCrHnM4RlMeo0kDWLXsvPZS5USXbn1szaZdMY+uWseXLNIeQ1h2l19IJSO7vXVqVWvcyq0dPU+pOkltPkFrAV8jXeYVrH6L3vJOtDJVOmq040Ll5J24loDQyjuJisEVuwndWzbjCs0yLa7l4r3mE1S5N6X1FLX1BE3uRVN60ZWn7zW9H1FXPbQ0uWVZwTDNwgYnVXEptNGHKncxKbkV5UgtuS/kgn+pmf4/np2fRw5AzyGQyFb6lpX1effnc9cQPQHwNcFcswNH92xqXed7pSF/mnb6cMm5A6RfDjz100RahVsngWST/J1nPSWAaPWA6PyRsst/VfbJdVVq/vJAL75cNt8WNVB8ryM1tCc7YaRRvj3Xaddn6euPST7+eanfG+JzhyrOvSY5B4iYnODB7QkBp/87QD/rOSzxJfI6vunIAQeaRUTmESiXxjE7mGgDhQ27DmzUuF7ROhad3UyPKE7Ib5Kqx6eMWzuog0xcAqSGhL0co6fHQOf0BZ5Z88ziM8/K144cnLCB/PW6K6QDXhNfPCy68vfV9Pc7MlPnu5T21WqdVrs9P4fp6hbrj5V/+FPBtUPC34V32P28fHbjjxY5IAgbQXgsKDw1rbC3R2u3WRrrq2OjI+/dvcdiwY8ePa6uqdUMD6+YTLu7O81N0sfxcWyEyUFAvg/hdLqRAznzT/ruRA00QA4cHi+qoKDYaDSMjWsLCnMRBOZw2CRlqssV9kQdrnWuiMb+8lMtAF0I5ADQC9ChcMrMgatDCIsF8ZNT8zo6+1EM3d5Z2zGvDo/0ZmYmsUHNBsKBueER0ZkF+aaNtXGtRpibE85gcEBwhIPAJHJwX+zF9+YCKmA3T9jwWeCB5Hr9jHOBegtn0IDkgSKLQEBOl8ucmUxPxVb2b9F1B+41X6FBoVE/uvUxxIJWV0w23LG4bVWNLjwoVFDCSx8WKFVa4xa6Z8EwG2oDFdFkshKgXsIwQC1nxfZsqMOOOew46PpQl2Fk4qZnvwDarjjsF2k804l83YvuW3r+Qs9+iueWPT4WONp9KrLxbPYqcTgg/iZeKMBjqPOFoRYcB8jhAoEcqAA5HCfqdF/2bKXnpupdVEVetLZfBiuP36v/ML5JMbUys2Hpmlwqb5sqlE2Xtc62DC0qhlcz6qbO0crfD6ut6Z2f38Hahlcu0kSnac0n6S0naE1eIOlIeYxWS8tobxxbXrRgjws73oPrAu5X0560zGzbN+34ph0dW1zPrB54D647Q20+SWk7Q2k7TSWIXGktF+BmTl77qMmi39pe2TVPL24lFbdfYdV7U1uIkmg14dZ7Cl2/1MgB/GtABMyl56Dwoch9AhuAEtx/KHJ47rn8D5u4+Iw7cXYMT1c3EVmfDpRwF1G7w9Km63ivlP6n6acOl5w9ACQUiNn98jOEL/57Rw6ARuagOOCNkqv/WseOmmzpxVfbdiY+aXnwi5z3fvrk/J9nXPuXEsajKXWPdbVzawLuffK/l13+E+HZo6B+1PeAxO+AxJ8IO7gcIFJn+ndVy/rmIQfQ7RMvYvgg/9FgJMAB0ypgOAel0Chud9jNDmxx294xuhRf0EQJK0AeVxVUD3aNLupNu5tWFFCP4IB4xBl5eP6X9Nlrnhm5PntHsOXZUeoFA5d7HPu8be5nzPNy5Mcl34lqD+fsGPgSPLWzPY9xtT0/xdePHFy/WwBrzxMZdwA2HBBdOSK4dqr9YbxRVbk9mTHdRq/OqNf3z2Bz0pWm4xUf/lxw5YgQ/PJfzToHhAmxGSw+gRyGMdTWLK1+FBcLA4YlNgSzWRAS/zipsUVutlq2NzdFpcV8NsRlk5lCBJErqDRG2GwACdgcNswGdEZsBJQawDCfz4/JLywxGhfGxrX5+TkMRiiCwGxiHzJigCDEYQQTEiBDAi82uYtziSRIIhKjQMEEsSfCZiFsAB6I/CRwn4RbvY8ckpJzVO3dKI7OzI6vrRtWVubk8gYuh4iDwJyIqNicosKVddO4ZkiYkxMeyuAyYQ7CZwPjuFx8d0QFwAM2gFhgC4G1QP0GuFOYuHsOeBFUTsQqIo2KLMAG3wgbkN0CAx49uFUYdn4OMsqBcHjESg7C5iAc52mJr4DUmWCBUhSioNz57Ti/BOc3Qa78LNDyBVEEya0EMaHFFdOqHZdq5hhpDVfo6cmCXq1uw4IDZjTQi+2BSAKYGAN00w7cgYGO0GG3g7JoFIQgHOh+j+fSygROM5G8ie8B4ejfYs/t6epMvtpfYhaPTAVwd2+ubsndKZINZ17qi+HOC6/uecQzbWKuifwsrqsTWj/u+yExAzmUYFbUbrXbrKC4xGaz2yw4llXe9t8vRJ10xRyOg+QZ4KgR9rLWOTznau8jB/Uvg1vPIXJ2Ue8iujdp2IxKrvf9KPtMUPXpwPIrIRX0uLbQ5MFTlPq3Pi7LbJjSbTuGDVu3I6S+IbKTdPnJYNkxiuw4XekdXMkX9I9sYMZdLDSmKYDScOGe/F6yemHHvrS5u7C+NbW22TG59Gl4jR+t8TS17TSl/QxF4UNXeFEbP4hqE6kNhm1UO7cwu7SsX9pIzJNfgWp9aK8qciB+jW7kABBUUP3xT4o+Ci9pHZjEP5tPEjxur97L5Sw5OwoiHg5moO0oagdzBuAvDnJA7XYcIIf3y+g/Sj95pPgsIb5GIoezLuRA5kiQMYff0XHx/47kwnfKLx4QX/puwY13e3PL18cGzQtZU5X/vfRX38/3PVLq/0bZ9R8UfnhJkVtqGB1Bl8UrLb8ovfYnJae/K/J9Xeh3UAyYK79FDq5RBfy2n4qzA+QA8pAAmwgO+EcACSuOm+3Ypg1fte/V9+hZj+veDsq4zSouaRjW6jZWd9BtG25GMYvdjoKpOkJcDgdV1KTX/dzT4zlJRw4xz+3iXvHMSOW56KrNICs0nn53bXu6gNtzRsx1BcI3wHEMTDViVjtuteN2FBiKElNkgI4RA5lchGfgOuqpv+4v8w+i5+B+jgieJQDU/Q+ILx4UXTosuOrd+fCeroIymPuLzI/+IeVWyqR8GF+Qrip9aj75qSDgsND3tadCFr/jw/jc4X+cMQfAVwoB4iEGzE1Nz+/rHcbsFrm0KvFhLEAMQFOaA0EIwg3LyCmYmpvf3t3uUCvTniQSwCECQcIjo2MzsjPqGirlcmlzS6NIIklMfhIaepfDvM9lsxOfpNU1KXq12vXttZVVo2aov6W5ubGxIflJIoeDIKDIAkYgTkpyalVlpVzWrFC2NDU35uTm83nhPBhQOAFggMAsNvsuk/kkLa28srJZ1iKTtdTXViQmPuBwmAgbYrBgJswhYhAsCHDKQhDES07JVnf02mx2paJ5bGRoY315dm4iLSORxwMsreEEclhdN40PDQqys3ihDITFjYp+VCaQ1NfV52RnstkIDHEQhI+weVwuv6qqpr6uLisjE2LAbDYfIiS0ORxuOJ8vLBM0NzUpla0NjY2ZOTlhEXyCx5YRER5WUVHT3NxSkJ8VxrnPhUMQJhMC3zaHHx4pEonrGxqzc/N5YVEQwocRHo8XkZGZJW1uUihaFS3yCokwNSWex77HZt2HGAzwX+BwES6bH87PK8iXNkoVCoVCLs/PzYuOjIQhJgeAMRfk+YJwwbUbAiH36PcCb1HuhcKj+pUy2cj9xAZKbE1R46h2fn3dbLWT/BAgb5MQvsTdM+pOp9jTN3Z5BW4XGahiOm1vD/1cA/jkadu/FHFNHFSQOSO5TzXAjA4Q5nQAZOLsg5y9jwc+eIq0At8j0kkxzOE2FHRuhIFSDsxux+xkLQcpif3UuwNME4L6cOJLeWoTIQL6NE5wdbeubwp8IUBjD7djDhuOL21srWybdzDcgqJWO2rGsSxJ2z8FxJymt3gDDQGVF6ABBfZqIQdAbErCpDYvuuxamOJhuXbZ7lD3TcBx1Wdvlx2nNXvRGk/Rmi+EKC7fU52mqHyojay8vpax5SmTOVnYdxNpOUlp9KHIvIGStOJ6WEt2y8TMhk2tWbgd3nCWUh9wt4WRojbs2qeW13qmDb365dkNS2S64kZo3Wmq/AS90ydQ7k1VnLvXEprZ0z23pV0wNfZq+6bmZhY3kws6r0NSIqOMpGR9Dvm8rMSsQPIClIJ40dqAAgaoJpd7URvfDKp881bBR2GFrYOTKPEkejoW+23H/iPnfvZe+gYxp0I88aBSzGbHbHYAEjAbhm/uWLZ3rFYbbrFhKOh0ULWu54Oyuz9OP3Wk6PQh0fmD5f4E04svUTngUmgGSrdfLVXJ8wwBB8QBB0UBRwSXf1bySfBIdbN5VrXef6cR+duSK98v8zsi8j9ceuH1ohv/U8J9NNY2gm8qdvpO1n36F8IL3xOePyI8D2jvCeTw+555/UbGHDxdXs/2vl8MUAAAiDYMN6OObdSxuGUb0q1Xtk5EpjYHckpp4SUP85sbuqYnlnZWzfZd1GEnRheicgLM36G43QaOds7Mgck7ICSHEWMMmB4DFdaE904O2GCQIQYyHMfIh9I9hDrpTIDuHOHFu4dWB9jTVadBHEWcFX96dCYGa8COggJEAy5NTAoQQz9QucMXVrf6JxbGF1a3UHwXqNw5UBB6wUCyAjkJSYYfwLWeHrU9vruvPeYAGMCcjxII7gl9DwDRhvOHxf5HRQH/SXDzryX//tei93+Sf/UvMz98NKMcchjrVpTHKz/6iSDgkODcayIAHkjkvP8u8ieYlL/a4+mBH/6okQOCMGAOQA49JHKoTIp7wGES0/gg9QcOZSLR8Ykt6o6Nna3JiWFBSQGYOUcii4vKFaoO7diwfmHaYJg1GOendbO9/f1VVRVRPDafzckvLB2emjOur+/ad83mjbXVJaPBMDc3W1RYwONyeTxefHxiQ32jdkir1+kWF/VLS/OLi8aJiSmFTJGbkRbO4wBwgXAiYh+U11b3DPZP62YWDAsLC3OG+RmFvCEl5TELYkIIh4lwXciBAcIKMC85Nbe9s89qs9VVVzY11E1Ojq1vrSramh/Gx0AwzI+KyikqWNtcGxsaLMvO4jGYEJMb/zi1rb1remqyvq6ax+MA5ALzgE/PjxweHpuemqwslzDvM5mA8pUTExNTUJDf2a6emZqe1y8YjUvzBuPw6ERjU2NqcgIHYUZEhMkVbbM6nbqtJSUpigsFcyCYBXFhXkRSavr4xOT4+IRQVM7lRcKcsLz8YrlMOTI6alg0LBmXlwyLc7MzQ5oeaWPlg5hwLghEsDn8sIdJCTKlYnxifMEwv7RoXF40jo+OlkvEMTFRbKLkw4UFvuxfJJhy98N/D/zgo7sJBfKQBzVQcotAMT22vLtqQS0Y6E4IBxl4xKQ0tLMvcQUQnvGScTA7sm/gEHePQyhLO0/yfJvczb3efZS7QYQ8AHMTYSgoyibMAfiIbKDM4hlw4tzTeYi7LwSVaKTLv19jALo0An+QoVVQ1+YAjHlk0QZKHOLx7s7KAqdym/veAOGUU04PNEAJOTDn7dn3QFG5DcetOL6LOxrVwyW13bXt46PGTZMF3cTxjIqOf74Yf4qu9CG0kI/T2o/T1N5AOsDtTBNYguAP9Uh/fy7h5xvjvHrm+bi1EUi8BOScvUOU18OUcZKhNXRvUr/2KFd+KbjUm1Z9jN7kTVcAYqWgFu8g+YkQ2QdxitzWCf0O2qFd+jis/lRQ1UlQ6Kz+ZVAjNbWzYdA4s7KTIxl4F2k4Q28KYMjuPlHNb9tHFtcrOkZEbcOLZkzSOBIY2XSaJj1GVwNVB7r8nfDWJzWj0xvW+s6JouYe9ahuanErMb/zbWbDSWozoefwysAGmuo4QA4qQl9PTchcqAnpvaa3KFVv3ir4OLxYOThpA9mMLzDwgBAPuDMO6YrLvQKLYMbZOdFA5LvbUZD9acEdbb3D4ga1tF07tbizacF2MEyp639HwPxB2tlDxWcPSfwPVgS8Vu4LihxA5YCn3//VXBPPMwS8JvI/KAx4Q3D9b8Qh0bq2DtQgXVFdFH/yV6UB3y3zPSLwO1p28UjJ1b8tpbO1DYOO9V7r2PUmxl8Lrr4h8D0M0qhAncPvGzYQeSPg5OcPii/8IMvveMHtjC6xeQ8l02FBFPuzg1oebucfS9PlGBNJagA5gCl4O4aBHwBq37LZ5td2ukcMkpaR+MJWKLGa8bgiKqcxRdImUY22jy9PrZpNVmwbxc0YbgZaS5gVZDQB9xukuO0rKIHxjhi2UDuoRkTRPQyoRrgTiMmh0zlggWJEsh7x2fHRNcKS68GDDEbe/XwBMKA7T+IcYclUAmwPzBLacYcNd2yhuGZ+/YlQEZVdXyjt65w0Grat2xhuBdWndmKsBXgDzAaCYMwfCXLwOwBqfnwPiXwPi84fEfkdKQl4vfTCG4ILb5Re+rP8T+J1bUOOxfoVhXflxz8pu3BIAHYmuMVIngDXuyjgNWBf7fH0eJr+KJEDUEJjQRwmAjNgtgs5mOVSD+TAglksJJTF5kY+KBBVrGysGxfnaipFbBaTywlXqXrGJ2c1I8Ptnap2tbKzs3Niasa0vmkwLGQ8SYjkh6WmZTe3dg6OT2zubqytLY6Pajo62lWq1vS0NB6PH/fwcVOTYnl5ZXlpaXRE29XZ1tmp0mq1S0ura2sbPV1tiQkPOBw2lx+RlpWnXzLMGfWaEU17h7pd3TrY3y2T1WdkPGFBDITNg2A3cgBZVkw47Elafntnv9VmqSoX5WZnNstaTNvr84v6wsJcfjiPHxWRW+xGDjlhDAhm8RKfZA5pRtbWVtpUMn4Yh8yDghFueETswsLSmmmlUVrDDL3PYCB8fkRBYf7AQM/W1vrYyGhXR49a3dXXp5lfWDYYDU3S2vi4aB6PV1UtXVxamZkdk4hy2BCdDbOZMD8s9pGgvGJnd3d6erqkuIzHi3yUkNw/MLS6ajIszPf393Z1dPZ09UxOTS2bVowrC+UVgri4GISNRMbEiKqrVzc25vRzfb3dnWpVT2e7ZrC/qrLiwYMHzkqJLwsZnPsjVOq9935F9Xs39J37ee8yy3hZqrrehc5xY/fYYt+EcXDKODi9OORpM0sal2lnlkZmlkemPWxmeRTYyujMytjsyphuZWxuddxppgn90za/Num2hbXJhfXJhfUpYBtTho0pA7Fo2Jg2bE4bN2eMmzOLW0/Z8s7M8s7Myu6sh+lWd3Wr5jmTZc5knjPtepp+bVe/Zp5ft8yvWwxrFuOaxWhy2tK6bWnDvm+b9sUtwrbRxS10aRvztOVtbGUHXdnFVkkzY6uEmSyYyYKtWbB1K7A1K7pmRUHbBmwDGL5hw7fs2CaKbdjRNRu2YsNSBR2UqGpafGNi+UB110z/wnp8mfqfriSeorcS2gIkYGj1BmJnhL2ErKwkcgDyz05H3Jmq1H4cyCm0Hw9W+UMyZmb75Kp5eRtv6pqOzFV+FNt0hg4IWE9SW7wpLW9RmrzuNp+Ba6LK+2a37EsmO5zY7B9cdZIu9wluf4tSGyseHpjbGp3dYMS2XLzfeDJY5s+UhSS36rftmsWN1JqumBLFwg42PLXGT1Gdo1e/SZd7BatOBDcGp3VW983PbliTStuSytsVo/MTi1uP8zpuhDacojZ7017BmIPam6r2ora/RQO4DvzX6C3HqPVv3ir+KKy0pW9yGwMeMGm7GOY24PqgpGFm9NUx3IICA58dw8wYvmvHtq3ohhVdseE5lW302LKQhOr0Gq20d0ZrMNVM9F4XwN/L8DtY4ntA4n+g3IUc3NyRYJb09xNz+I7I/4DwwneFN39RCacZ+wfw5crFZq+yd/+8zO+NsnNHyvxeF146UnblL0pu0YfKu/GVEdvMr1v4fyO48XqZL2BY+lpgw0uMHBxEyYMdBwJxoJwBxexWzGbFUQvuMJnxvqlVQbMmrrCZlykNSai896Q+LL8trVojVI41dM0oB+Y6hg1940uD0yuaGWAjs6aZxd3ZJcuMcXfauD27tD2ztDm/vrO8a1mz2snxiHxftWBLO9iiy4w7qHEHNWzbF7Zs8xsW/bp5fs0CzGTRg3HTPLdq1q3szoIRdntqcWvGuAXGX8KmDRuTC+sT86ZxYjQf15vG50xjc6aRuVWtblk7uzQ4s9g1tVzeNX87piqAnv/v/IqIAnWJYrRtdGF2ZWMXBVlYgJ2RiJz8RyMHd1W0kyUMxBwI8HBI5HdIcPGw6OJh8YUjwst/Vvjp47l2rWNRuir3qfzwp2UXDr/SyIENvG8XctiVSyvImANIVIJgBOZASBg7/EFSVr5xbW3FZGyolSDMe3wev7lZUVvfCNKTGPdYDCaLyS4uEc/NG3d3dyuFJQ+joxGYxw6LzS4qmTfqJ8a1xYW5LGYok8kAJcz8iLz84s2t3e2drY721tSUBAQOZbHuxj9KkMnb1zY2zRaTQJQfFR0ZHftIVF6zbd0Z0PZl5WSwWKEw635MJO9BbFhkJIfNhmCITUhSICwEZCuxEITBjkxKL2jr7LfZLJUSQVxsTE5+wZhOt2MzK5XypCcJYdFh+aUFpvXV8cEhYXZeOJPNRcKTkrMGNcPr68vt6hY+nw0B5TsIRrhRUY/1+iWTabGpqYoFhUJw2MP4xDa1an1jWa+fTk9L53LCGQxuZOQjqVRhMpmmJkYEZUUIgiQlZ01O60xrRnVbHRsOhiEOA4l4lJLV2tFptVk62tuTk1Jiox/W1zft7u4uGg31tTWR4Xw2C+JyeLkFxT0azYZ5Rzc/nZWViiCs+MePe7Ujm7sWaWNjdEQ4814wF2LEP4iJjY7mEpUSXzlbCYKRoODQtz8OPf3riHO03Hd4FUHxDVByAy+lnp/ayEmp56TVhWU2eJg0MrspMsdpUTnNMbktsZ6WJ3uQJ4/LVzwsUDwsVD4sVMYXtT4qUj0ubksoaUsqbU8q27dkQWeysIu0FGFXiqg7VdyTKu5JkxAm7kkX92RI+jLL+7MrBnIqB3Oq9i23eqigbriwfrSoYaxYCqyEfG8cL22eFLRMlckmy2QTHjYukE8IFZNi5bRENSNRTUtUU+Uuq2rX1XTq3Vbbqa/t1Nd1zdd1LzR0G6S9xsa+RQ8zNvYbmgeMLUOLMs2iXLuo8DDl8JJ6DFi7y7rGl7omlrpd1ju12DOz1DW91Dm5rJ5c5uV0XoWl3pTKE0Fl77HFCZKe+08a/+VG+km6wpssjwb+tIJADoTQsqsAACTzPBVV+ObGHEhiIo/7d35GIMlMyDa3elEabnIaShXTI4YdwzY2atwRKSYCIyQfwDWX7zWdpsqO0WT/K0T6byGSkCxVn25jZ9eRJez/AJGeCGo8EaI+e7++VDU3u2zt6F28SS0/S2/2osrO3W++lwbqHAYXNyJLWimPazTG3bVdPF3Ye41R9Sa9/s27LWfu18RXDPYbNofmNumxlRHFbbIx4/jiVkJBJ0AOlGZA4frUf8EF8F7elaR+thdVTchpq72pCm9QDdL8y49F70MlJY39Q7oljafNLmlcNjS7NDi7+MrZzNLAzFL/7FKfDryD9tRS9/SyamYlvKjzGrvmBF1yhi76KKIitaY7WdkUUMD8QWbAwWLfA0L/A+ILzpgDmVQN5jJ/z8jhDcE7/6OSX2DUDmPLooW6fym+/FOB7+tC38NC/yPCi4cFl39a+uGtgVI1apyy628rov9O9P7rAr8D4nOgqPRrKRJ9SbOVAJOeg8gXAgpIQBdpD0zDWzAMhKYBC5NjF3OsWB2aFVtuy8i95OZ3YPFFetkFSuH7TFFgeC3jYRM/RRmT2xab1xqT2/qwsCO7eiK/bjq3eiK7ciS/ZrSwbqRarZMNGVtHl5Ujy4rhJdLkw4sN/Yv1wIx1/ca6PmNdn6GmZ76iUydumxIqJ4SKKaF8SiibKmuZKGueKGseL2kcK2oYKajT5tYMZVUNZFb0Z1T0ASvvS5X0JAs7kwSdSWXtCSXqhJL2hOL2+GJVXKH8YX7Lg1xZRE5raFrXVUh6mlZ7ll53Okh05V4xklpf3zm+bkVtOKh5AGmLOEiWcr+eDxJ97dlKHr9eUO4s8n1N5HtADBKWDon9D4ouHxBdPCAKOCq48uf5gYm6jmGAHFpOVP3q5wL/I0JAZ/zKxRyIgl0O83nk8PABhwVznIW5HAbEhfkxyTnFyxsbyyuGhtpyLsJAYIjPD2fzeEwEYrCYEJMDMcNSUvM6uwdsdkt9pSA+BiAHfmR8XrFwwbgwMT5cUgSQA6nxHBf3WNrYgmH45MRwYX4mBwklIh9MiB2enF7Y3tVrQ9db2+oTkx5HxTwSV9Tt2HbGJofzC3IgVijMvIcyPN/YAAAgAElEQVSw7rGR+xwOg81mMRmgfoDQdyCIlRD2fSQyIb1A3dVvt5mrK0SxMTHRcfHiuvp1y+6CYV4kEYTHhGUXZq9vrk0MaYTZeWEMNsLiJyRlDGq0a2uLalUDnwdBLAYEsWCYGxHxeE63tGoyNrdUQvB9BjMsv6BsZHTEYNTV1IgjwsNgiIvAYTxedFzc4/Hx8aVFvVwmhQDy4Hf3DuyY1yen+iIjIA7CYyIR2UUC3fz8zu6mWCCIDo/OSMuanZ2z260NgNIqnA0xYCYTUEXxI/IEYuPG+q59Rygq4vGR+MfxAyNjGztmuVL5KD4OZtwNY7Ng5n0Y6HoDzPTVkQMCf0KhX/g17dRvok5Ri32oJScCc30/TbsWlPY2NeNyYHLAp0kXApM97SIl9RI1DRgl9SI19WJwOrAQwoLTLwSnXaCnBtCc5h+U7h+YGRCUdYGSfYGSc4mWe5mWt2/0vEu03IvAwKZL9FzwTjQu03Kv0POvBRdcpedfpuZeCsq5FJRNvOdcCsq5TNiVwOyrgdnXgnKuBeVcD8p9m5p3k1Zwk5r/NiXvOiX3JjXP096h5t+k5t2g5F4PzL52J/MKNeMyLf0yLY20q8EZV0MySbsWkvk2PeMGLf0GlbS0m7SMd4OzXJb5bnD6TXrqTXrKDWrydUrSdWrSDVoyaTdpKTdpqTdoqTfowG7SgL1DS3uHlv4uLf1detq79LQb9NS3g1PfDk67Qcu4Tss8F1TmFVjzS4rUm1p/9o7oMq34El14hlLnA7hB5cepcpBHDlCEyhtACKWTzAfM9b5EyMENh5xJWU+RnHqBeX35SVpdwN3StJrB3pm15W10y4wtrtsUvaucxK7zn1afuat6M7jF627dr+OaCpo0u6ijVj4WEtN4JqjSO0T2mziVXLs6rtsoqRzyuyU5QWk+TlH63lfeTe00mtFBw3pEcfv7EdX5ssn5bVt9+2zwQ9mxQNGbIbXvRTeIumYmTJbqtrl3mCIkT90yvjS2uBWfo377Xv3JoFcTOZCSF4TACLXNm6r0obUepyj+7TcVpz/KvRSU8XZI2tshqaRdD065Rk9221V68tXgJ1eDk14le3I5OPlScMrFkJSLIU8uBz+5Rk15m5p2427GVUbBGXrFMUrzL6kqL4rSL6TqbWbuRU74/4j89feSfA8XnD0iDDgiuQT0HCS+Tjf9948cLn5P9MH/rAwrM46MoYsl+or/VuD/w5LTh4VnD4n9DokDDosu/1Tw0Ud9xQrL/BS6QOt8/F/L//0Nof/hcqDk8C1yeN7ffX6N2zl26kpjGKAv30Mxh8OKOqx2UJAMiuzsoCx6F99bwfemzfZ2w26+ajE4qe8CvTqAWnuRWn+ZWnclpPoyTXiBUhgQlH+RUnSJWnaRUnKJUnIpsOji7YLr1OKbIcU3gvOu0TKuB2fcuJt+4176jbtpN0LSbgZn3gzOctsNegYwWvoNevoNWvrbtMy3aZnXqZnXgjKuBaXfoGXdpGe/Tcu6Rkm/EpR+KSjzAoUcxLOJoRyM5hepOZfpeVeC86/R86/Rcq/Ssq9Ss64FZV4PzLwSlHf2TtnJoJpT9ObTwS3en1afo5TdChcV1HUvbVvsmNWBWfcwG6H+tE9L8vz39odEDuCXDCqkARg4ADLl/A+Vv31QcvWQ6OJ3y97+85yghNkOrcNQZ2o4XvPuT0TnD4vOHXDKILrylACHsh+RqvTyZis5kQPw2UGdQ2+PFrMTMQeAHIBMM8ElxIHYYfyo+Oxi0crm5uKivrZayAaqaiwWBLMQ+GFCvLRROtinGewfHxvXL61s2OwWabXocWwMwuLzwuLzi0QAOYxpSgpzYAhIT0MQOy01q7d3AEfxVoU0KSEage5zOKAYOhQKi4pPq2mS2bDN3gFVemYqjx+VkpqtX5hbMS3N6qaVSkVqciKfCyPwfcIYRG0wGwbUpwA5MBH2PSSCRA6ozVxdLoyNjkI4vIS09HGdbn1zs72zPSM3Pac4e23TNKHRCLLz+aEIzOQlEshhfX2pQy0FBdoQE4ZgBOGFhz+am1syrS1KmyT3GHQGK6KuQTFvMG5tr+vmJrWawZHhEa12tL9f09/fv75uWjcttbcpIiIiGEyuuLx6VjdlMEwWFWbyuOHcsFhJdZ1pwzQ3N5memspjh+XnlWxsbO6at0pLcrlIKBdhcRGEyUTusrhJ2QXj8/NWzFpdLYqO4kdGRZSKyo3Lq0vLK2OjI7KmhtioMB7gsgKV7CRycIOHL6suRwu5+8Gt4Csf8m4wSk4FZn78sDpfNSUdmlNp59o0OrVmtkOr69Dq2rU6NVgE1q6da9fOqTVzKo1OOTz3nOkUWqe1audatfpWrV7ltHmV1sOG51XD863a+VaNXqmZV2qIthasbCM2qYbBzkrNvGJIrxzSt2qeMpVG72ltmvk2zbxqaL51UK8c0KuIRXIlWE9uGtIrB/WKwTm5RifT6lpcJtPqZNo5tym0OqVGpxzSKYZ0ikHQUGrmPEyn1MwqNbOKoVnF4Ix8cEY+MAtsEJhikFhPbh2aBWcY0smHdOCKhMk1s3LtLFgc0jUPzTGS1f73pF6BdScCq05/nM/OaKXGN/0/7+d6U5tO0OQEWgA5PN4UkHYPqh1ewmwlcp6+jcBCzuwsgJGAAbBEcKoqvOhN3rTa98JbQh7LUoU93aMrq7uYYc3eoV1LLNX6Uat96E0+dOklqI6T22q04hP67biM1rO3i0/db4wtH9cYdtRD89xExfnAhlOUFm+K8vz91nspnYYdVGvYjCjsDAgtZ+R0Diyb+2bXEkq6fIOKfejlYSWd6unl7hkTL6P1QogEyu1oGV8aX9pKyO+8Htp4gtICmK9e3vDCCz8aUecACh68aG3elLYT1FYfmtKLIvO6XX0ztCS5vLNhSNegmXXa0GyDy6RDs8A0M6+aNWhm6zWzdZrZOu1Mg2ZWOjAr7dPVD+iqhuaZOb2X2MoTwQqfIKnvnSJeZnNsdY1/BvOHT84fzTt7pNT/kOgi0GtzIgd3wOH3lK0k9n9NeOl7gvf/74qwMoN2FDWWzlf9c9mVH5WdOyryPSzxOyTxPyK+/NOSjz7uLVZa5ifsc3faY/+u4oPXhf6Hv64ih5ctW8nTISaiDoBvhKwDcmAoakPtNkB3jmKYxY4tbVg7RwwJRU2MREnQA/FvwsQ3mCXvwWWhTxRJojGRYlGmWZZpjc1DC02D802DC82DhpaBBWCDC/KheaV2QaldkGv0siEwBCuHdYph51isGp5r1c4ptcRANjRHDkzu91bNHLAh0nQqMLjrVcQa5RCxSatXavQKjV4xBEyp0Su1evdIrdTOy7V6uVavAGfWNw3q8+Szv4loPBMo9KOL30XKsxrH5SPGieX1XcyGOSwO3LqH2xzACNjkglae39UfgluJFB7xkB8BkuoE1/ABScDB8isHxBcPCANeF1z/s7ygR7qOwb2F6tX6YzXv/ljkd0gMohOeMYcDYoJn7KWucwC58RDBSkQghzwCORB1Dg9jOSwYkIsCoWY2C+FFxj4W1zSsbW3NTI+JBflsmIHA7KzsvMqamvau9vmFua2NzY31nY1Ny47ZZrWZpdXihNhYNovP4z3MLxQtGBYmxoZKi7IBNIBYEIuTmZmvHR7DUExaX/4oLpwN3UdgiAUhoXBk+IMUcW2DFd0YHe/Lys5AEF5k5IMyQVlXd8f8Aiih7unpksub8vMyY6L5CMQgFCXYBNABhFAMhHMfCU9Mz2/v7kdtlppywcOYaBhGeJHRFbX1hsXlmTmdVCYtKMtf31wd1wwJsnP5DAhm8pKeZA1pRtbXlzvUjRE8GGExYcA9yw8LewiyldaXpE0Vd0Pp95lhzfJ24/Kq2bqztb22ubG2vbW1tblpMpmWlo1bWxtLxnl5s5TH4zIh7pPUzO7eHpPJqG5TREXFJiSlqtrVG5vLKlXjwwcP2Eh4QYFwc3N7a2u1qCCNDYVwERabKKS+y+I+zsjRTE/bUEuTtOZRXBSPjUQ/eCwur9YOj66srCwtLqjblE3S+qzMdD6P6ykx8RWKHULuBd8KDLpFRXKruoLjyoNiJWm1/QPGjWULto3tWVx1vSQzEoiwutbYHYDWwUoaIE94zpzi0g7bnoe5CpqJsmbQc4BwLRGxNaOoGUWtOAa6E3AIbgXKaKQ5rERJ8f476HWctdFkw+pwkJFfMpnY4nA8Z3sWh8OMO3Zxx65jb9ext+MycvHF7/je7jMGjnIAA6cCW7cxYDs4acQmcgfX+zbu2HIA2ybW7DrwHRzbwvB1zJEq7P2QW/sBt4GX15cs7pUNG2NK1f98PcGH1gRkjIH3DFhZvSnt3m7MQDZeppgDiCqQLjjZID61cyVY40VrJfTgFN7BzWdCat7jSfk5vTk1Go1+Y2ETbdOshsSpAkJkJymK0/TG3zxo7jXuGNawwvLB9+6LL0H1oh7j+Kq5XDnxIafuHEV+miLzIZDD3eSuhW10ZGErqqDvFLX8Cq+uftw0tmYRyYY/YJRcuFtWpp4aXtqt69a/A5WfpVSwcrqbx5ZHl0G20lVGsw9Fdtxdf/LK4AdvEGcACNaLqvahqE9SFEARj9Lo9ank19yyxr6pDXxv02Vbjr1vbQt8G45Nh2PDgW868E0MW7ejqyi6gGJptb0fR1V/wG/g5g6lintbhxeqtL03C9g/TD7/esH5I2UXDgoCvl7kIALI4V/L+cWGoWHMIDDU/Kvwxk/K/I4KfQ+Jzx+S+B0RXf558cd3+gRqm3HUPvObVv7fSN55XeB/kJDa/Tbm8Iyz+zmLRGU3hjnsgDOJNMyGonaLHTXtosNz66KW4WRBR3S27DYnnx5dFp3blF7RmVPbJZQPygbnNLpNwxq2ZQe8GjsYvo3i26hjF93bsROG7pkde9sYvoVh2zi+48B39jBgDnzH4djd27MQZnaA3cz43g6GkwZGQ9xhAbZHGNl2vwMfgBzBwViM4xaySht3Ov5gExhqwXi6C07uMDsc6yjer9/kpzWExtekVQwI5JqJ1d01FDMD9nY77rCSozdRTW0nuEuc0OGZb+9rjzmQ0TyPmB4IGkgA1zBhAQfFfodEfq8Lr/0sP/DRXIfGYWhYafSu+tVPhBcOi84fAMRKviSrEnnISx9zIJEDm4lwCFbWvN5eDWa3yhsqkx7GEEUOADtAbDYLZj9MSO7qG9wx7wz0tedkPuFx4cjouO6ewaWVVcOSYXCob7C/t6+3b3hkzLC0bLOapVWShJhYDpPH4z7MLxAvGBYmx4fKirPZcCgMQUwmJy09b1A7Zsew5ubaxEfRbFYoxAC0RUwkMio+raK+0WrbGBsfyMxMh1gIm81jMBgpaSn1UunAkGZqetpi2dUM9eXnZgAMA7GIsAPBMYtATIQTioQlpue2d/fZ7ebaCsHj2GgOjEBsTnTco/7B4WXT2tjMeJW0anNnbXyoX5CdFcZkIRAvKTl7SDO6vrbc0dYUzgP+OyBmhflh4Q/084um9WVpU9V9RvA9JqehSWFYXNrYXB+fGBno7+3t6QbW293Vpe7r7VG3KkoK80CyE8IJi4xtaGo2mVbn5nSJSU8EQuH4uHZ5abqgIC0iPAJBonLzxaa1re3t1ZLiNA4SzIaZEBNis8Pvw2GJmbljulmb3SJrrEuMi+awmBDEY7A4ufnFKpV6dGx0fX1te3tT3daalPCIDViowOsrwAYYhoJDqLfvfMKA4PmVtXrVKDehih5ellfd0z25ZNy27QIhG8BERDAhEAQLZHSRYGEDz/mz5EpPE6bsUzK8SMsBEDsD9ibSAH8cCgQ3AU8cYFjdJysimOP29wT7P8X3APYH3NmALBtUnhGdEZFT6iamdvLFkdTUgMP1mRv3YHAF5yKv/aKbBpucxBTgFsEn9LxRok1QXrh47wiCCzKvk0ztJO8TsLib7VidfPhJUWt2VV+/ftNkw9cde+lVHf98Ne4kXUYEHFrBTDzw1ZzcrC9pzMGTXomMNpAQAsAJb1qbD2CXAq7qmzTFseAW75Dm0yHNASHiwpaxqdWdqaXdvKrpG/eVpwPV3kGtl7kyYc/87KqtsW0WedxyK6q+Y25jyLiZWjFw8W7VGWrraYrchRy653fQkfntmMIhn8Dq47SKlJYJzepuq3aOl1QbFCFpn1odXNhNrxo5QxGeCqxk5fQ0ja0ML289Kmi/EtriA9LJXv7ChmciD67AFyhePxGkPhkkP0FtPk6te+tW8Yf8ktaBKZxghnzuASMII0G/8eyT95KvcX1c0BUREy+4w4biVgtu2cJt9erepOKGjPKOvtkdkwXfdTiUswPvFDJ+kOp7pDjgkODiawL/rxU5HBBd+p7wg3+RcHIXeocc85KlhreE7/+89MJRASgVPSw+f0R46a9Kbt8drOjBVgZtEzdbWH8tuv66wO9b5PCMm/vCRddkuvMv7kDtDqsNt9ocNhtuN6O2la3dYd1KdftEsmTgdmTlx3wxO7UpNrdJItOMLaxvY8ARt+7tWR0OG2BlAnzhYCwmqMiBzBJZN0GyLDn2bIB5CQXsRXuY3WGzO1AUkCzhLt5WQEpFGimvQBK8ghM+ZU7hNifrETHMk+xKBJ8TMV67R2cwAIInmGRRJxwC3IZh+pXNisbOlo7h1R10BwfJSYDxiZzrwwDXIEEpixIcUW52pWd1l/6gyAGE9UhqI4JrWOJ/UOJ7RHzuqPD8G4JrP8u/82iuY9SxKF9uOVPx4c/LLh0R+r2ayAHMqjNhHoEccnt7hzCbTdZQmRQPkAMMIUwE6BnwwsLzCos3t3et1t1madXD2LDwMF5WXrHesGRYWqqT1oUyQ9hAlA1JScvo7OlFUUtDlTAhJobD5PEBcpDsIwd2KIvFYjK4Scm5bT1DFgxv72xLT03iwCyEyWIxEBYclpCcKVO12e07He3K5CeJQD6NzSGk2DgshMPmhyenpi8uGbc2TQqZlMdmcQkHH6jCgZwdgBwYMO9JWnZ7d6/Nbq6pEDyKieSCxCM4lAVXVDXo5o3rO5uj0yO71s3Rge6yrIxwFosD8xOfZA0OjayZVjramsN5hEQ1zOdyIh7EJSwYFpdXF+uklfcZIfchWFJdMzc/P78wV1CYG8bnQiwGArO4HIQo1wYJUxxiEWKzQyF2UYlQP7dg3jUXlRSp1a1LxpnJ8e7YGDaHw2NB0RnZItOm2YZui8U5XM5dCGLALA6bHcVkh2fkFxlWlu1WS61E9DCCz4dZXHYYgoTBCJ8FscMjohTK1vWN9fm52epyEcIEQRsSNnwFCEGl0T6+fQuC4VXTmg3b69boo5Jr36elxuW1qEYXViyoBSUmRnDA70boOpAKl4Qi9HOd5TMd5XPbn1rh3vmptWTXRmxzdnJu1kZ3t0c2nj5sv/v5bZx94NafwQSfe2aXToX7fp/t4J6+EaAc6mlkn+t+J+6O6Goxh8VqW1ozm3bsZmJeB6S97uGZkrZ/DIg9HdJ6Ilh1nA5KhIk0nlYvutIL0GK6IMRLFXMg/W93wIEED04IcYKqPklpP0lRn6Cqj1Nkx+iyY8Gtb9HVPpRaOE3eqpnTr1kqFbr3QhWn7rQfp3b6I20RgsGRpZ2+yeX8ip7Y7JbJTYt8xAhnqE4Glp+mtZ6iEEIN91tDknsWdtARw050geZEYMPpe7LAJFnz2OKwcb22VZtX3ja2tFnTpb+boDobXHeaUs3K7m0cXdEsbz0sar8MkIPilUQOKrLYhkAObadpypP0Zi9K1Zuf5H8UXqQamMBA1rZTc2WfoRmwNRMY4Zmn5VVYdHcvxDwDwWkJZp3tKLqytrG6tQMitzjYhu7h6rn+dwWhP8rwO1zkd0AY8JrI7zuSc19XtpLI/4Do4vfE7/+DkJGkV/U55upW5f6SW39VcpWIKpw/LDp/tOzS3wko3OG6Aceq2jzk3xD8l4LLR4XnD4Jspd+ZetKjRNXlt71U2Ur7YwZo4RgOQKMVt+5i9nU7Prdha+7XR2Y1Btx6/AGjhJOirGqf1+/sbYDJezDZBJ4Z4JMDzxwHUggAK4DJKcLRJ2TngMcOwClJhk4MPGARjDcEQboLEoDnzP07fKbhVHAADy2p7/DMds8Bj9zkfmqdi8QVQZu8FUAIu4cCMQpQBU18BJRgIwfzeoSEg/MOAZbe52X1vA64wn8ccrjwWrn/kQrfN0Rn3yjx/W7RtT8vpDzSqUdxg3JZ5iv+8M+KLx4FJAEeMQe3KuLLnq20jxxSMnJ6eodQOyqT1ibFP+AAWWMOwuOFR0UKReLJySmrxTo7PV6Ym85DmOFhYUWlEuPSypxeV1ElYUL3mcxQNptTWFQ6PjmFoua6yrLH0VFkzCG3UDJvMExPj4mFRWz4Pgti3g9FomKfVDcqzBi+uLxYWSEC0g2hgGGVxw0Xicv183qrdaeiXBQdFRkRHp6Skvr4cQKPH86Cgc4EPzxyfHx0Y31FpWwO48JcGOKCmmIgGQcDsWUOE+Imp2V3dPfa7ZaaCuGjmHAOKxQkQ7E5sXGJClX72vaGadtktW+PaXrKcjJ4DAYCceLiU7p6hjY2NsdGBuPjYtgwm8VE4h48UqnaNjc319ZXpE119xn3GDAzLTtzQDNoWlvt7u6MiY6EWAxSiw2GmKAEnMlAICYEKpchiM17kpKpUnVarfb+gQHDwtzK4mybvJrHuQdBbAYUlZBaqBmfMdu2+voU2VmJCAIqwNnsiPikVKlCsWXeXVyYL8rOjGIjcZEReTkFfF4kjPBYMAfm8NIzM+fmdHrdTG11OY/NAh/QFXZwFzx8sRAEQqEFf3z7DsRmr66toji2YbZqdSvZFV2B3NzwtOrm3skNG76LoVaHzb5nR4nOC5BG40DuACPgg2cv8zm9k+duzrbLv37BJqKXe8a9dy+S+z/TFYL5f88TPb3k3uLqGYmu9VkA4b6Ch+4NObmyr0tBTrF4nn2/1yT6edeiu3P13Bd06MQkJJDEwq12m9mOWoipGKAii6E2B5YtUf1TQNRJWhMhdiYn0nhavWgKL7oC1Aq7Sx1eJuTg/lDOCml3kQMoEPehKE9RFGdpLacp0jM06Ulqgw+t8WRw8xmK4EFhR9/ksm51O6926HporQ9F7kVrO3G3+SavUj65Omna7hqeqZP1GXdtBQ2aD8MaTlLqT1JbT1BA7cRZhiIktWN+Gx1e2IkuGDoR2OBDVVwIlZSoZ2e3sYX1nfHZhYUNa0619kZo9amgurOUGjinrwkgh82Hhaqr95tPBMlJttx9zlxXzhLAeC+pATopqvI4kJFW+1DaTlJAzMGLUvPWrQKAHAYngafz7cvjG9jvr5wrgdIW0NkFmnBAXBfMehBeF+oASnDvl977T+lnjwLkcOE7In9CzIEkMvr91jkASsrXAOnk2/9b8R3OeF2rdVq+0X2nhft3xdd/IPQ/UuF/RBRwpPDK/1fJfTLZpsVMdevtb1V88rOSgKMC3wPCc69JgOqCh8fvZqMn79O9+GUbLw+3EkHDihLvBA8pTnT7KL66be8aNcVkyIJ4wpAoSUJJa/v40szKzsq2bduG24DbTfjcTrANxiMSOezrIzmxAerYI+WIQKhvf0BzD3ikQirIGkA9za2T5DrmKa/dE/A4daxfNFiDGTIwuoGpOKJ0gxB5I9ADeZ/gsmALqVEHhlcSCHk+HO5reax0Nv+jkMN3JAGvSQIOSc6/LvD7funFPy1552e5t2NmFAO4vmlZdkbyIfkIHNxHDv5AVFEccMAJG17aCmlnthIL4TJgTlpWbt+gxmbHhjXapobGSnFFbWWtXK7s7e3T6/Ub6+sLep2gpOBBVDgbhvjc8JTU7NlZvclkGtIMCEUlhUUFTU3NwyNjqyYTat+trRI8jo3iQFw2JzYxPX9MN7e8Zhoa6heWFdbWViQ9SQ2PeJiZXTg9O7exuTE7M6WUywSlAqFAJJPJJqcm1tZWJiZGU1KecBAk4dHjpsbmwUFNg7SpTCgsFZbVSeuXlxaWF/UNdZVsKJQDsTiAXIngkIWA9jML4qakZXd199qBnoPgYUw4GwqFYRaMsBFuWIlQNDEzbbZZUdQ6pukvzcvispgIixMWEdfQ3GpcWTWZltvbVZUVFbU1tT3d3YaF+Z2tTdPyYqO0jskIZcJQeFRUXUO9wWhYNa22tanKyyUlJcUlxYWlJYVSaW1FuTA5KYFFUiTB3IjIWKGowmZD19bWzTtbs5MjZQVZBE5CQhF+eFyipKrWtLa8urqgGeqrra0tLiyuqKhSd3bNLiysbqw3NUkfPYjhsBjJSUkjI+Nt6s7Kqpri0jKhWNzR0W4yLQ9rBwrys2EIQCOAm77Si0qjf3L7NgSzVtcWMdxmw7F1KzqkWyuo7eEmlYenVFUpRg3b1i3catkD0U/MmRKEoWAyYd9XB8+6q/Nx92CuFc/3Cc7dnxtT9/f07Pqeb+/vR7bcezy74allj73cza/Q8DgnefT+Pfz2WVViD2ICiqiKA3ABJ8I4hMSm1YFnlbf944WoE7TG47QWUCJMVR4Hkr1OKpuXNObgLo92V0jvxx+8ghrfj+6IKp96XDMN5wx8HCO7ya7+9/Bafra6qX9BZ7IMTq9CT6QB9yqO05rfoquOBctO3ysvaNeNmHaMm5t6w9LC6m58Xsf1+3WnQJ5Suze104um9mXI7qaoFnbsw4adqMJBn8AGH5r6BLUqtlzbZ9zaRrGtnd2ByZWIzK4ASu1ZSsuZoBokp7cFZCttPi5su3avASjQgbJ1II5GeNLE/4gADF401bGXFjmoyB8koQTX5kNRnKDIvIMajt0q/DC8uHVwEvN4Pr5tPv8NEJJgwB8jdScJ2ODsFVAHptb1vFca8qO0M0eKnTEHglvpLMGtRNLP++3rObzYcf98T/0ZDnv/g+LLPyr41Sd9RdUb471mXca4+M2yX/954fkflJ3/QdHlH2V+8FFbSe3yVL9Fnzgt+HwaQZAAACAASURBVG/C935Y5He4zO+gyP81IOlAStS58QOJGS58R3zhq6pcf9NjDp6DnoPo2oF6AwbyjFAr5ti2OsbnNsRNGk5iNTO+MrFYVd8xOTJnWt1FzRhmx+1ASRwHJEykVDTx+wHIwRVO2B9zSZcdvBMvsKfnaEb+8lxrXJ6/Mx7+9K6e9/zsD5Y8NxnHeGY/j9EPQF9y4o3cZ/+yZAoAWOta9+wVPnP560cO5wmBRYBU3RTDRN0CQAJHRVd/VHz9Z7nXfp5x/b+k3UqcUmiwhabFVn9B0F/nXflxgf/3i/2OlJ0/BDDGhUNiIP5wELC4XiDww+8cjvujVIIDyIEF5MnYDJidnJ7Z2dNntqIrK2t63fzslG5+dt60YlpfXzMaFoYG+qrLxYDLBzjobA47LDLigaxFOaebW142Tk6Nakc0c3r9rG5udnbWZt2pqRY+ehDFhjkwOzLsQYKso2thZXXVtDo+OqibHSspKeXzo6MiH4jF5cPDw8vLS0tLS+Pjk5OTUwbD/PyCbmCwR1BWEg4ydKD4h/G1NfXz84ZZnW58Ynx8YmxuXmdY0LWrFVkZKRDzPgeB2DCLuDFQloFAHAjmpaRldXR2W8y7lWJBXEw4G2YA5AAjTITzKCmpSSbb2t6xW63/P3vvARzHkaYLEgBJuTGaeXtxG3EmLu5iZjbee/HuzdzujHZ25o0IoAEOHSwl7b7dHY1ZjURREtDdkCGANgC9SEoi5elEUjRw3Q16EgAJoOHoPUUPgN4AIOG6qyozqy7+P6sbDdcggAbhsiPRqC6TmfVVVdb/5e/Onjq+5Zu12ZZMmyXLal+4btO2Q8dONjQ+aGx8UFd3rb6+9np97fFjR+7evnn35o3ifXstEAIWKMiXX39dWl5269atu3fv1tbWXrjw3Xfnz1747uz161dratzfrF9ryci028GQymrNXr1m/Z279zwer6e99cTRmlUrPrRDbm5Lut1mXbjwk88+r6isrK+ru3fv/o0bNy98d7629ipoaerqK6qqPv/80/nZNktm+qeffnr6zLmbt+5cra397sJ3ly5dunv3du21y3t2b/9oxVJL5gdWn7XSALiDyZQ25825FktGY+MdBuktmZeqDyX10u3WvP0nFnyx0/bpLlfFuUv3Gx8pMuSAhEDMjGJq6c4jAY5jyB74ejH12OuIiPOLXICAuUf+loAXBZNUdd32qp8nL401lRhMpRAsH5iDO9IEVv4dtGGMRWUNJmRXRKXum/vF4dwT94/dl0rON+SVX/5m78lvi0+Xnb976YF09nrrtn0X/j3DOe3dXVFpB6akVUSmuaPf3bvYee7Q9YfNjLZJ0skLDZkrK+KN+2ONVYbUw5HGo5Gm6rj00ve/qrjVrpy707p0y+nYt/cbTIeijAfe/vrIjlO3HzG1XaGuA5feWeqekVIyzVQR+87uzA0nSi42nEM/h1c+KIrB2EoxqeOMOaRWRxuBF/3OXB1pwqisqeWGlOKoOVtfwxzSlMsKQe7+8b3Jzxx0c3JUOKArl0o1Wl1//A+57z6/evqkDuYQN8EVyBx4MukEkHU6jLODs4Wet0IkGWdCuDP52W3/9vsDK76oP3SCNNa0XMqo+SxuX9o/7X77t7vmJRV9/k39ycOeW3sbav5YYf0/8pKfzo2fVJA80ZGMOgee39pvI56InGF8Mwe8//WXoEqRPEDuMy+lD9rJkQt3N+44bl21x7pq59a9x09cu9vglb0MwrMSeBMolIFHA7xhe1bqj6OHZ+iZQ9fngrs7h0Eyh6T/bcfcF0vm/3PZR/9WvPyN4q/33Dtfzx6eenhxUfU3r5d/9C/uRZFFaf97wf98xpk4qTAB+IMjKcKZHOZM5EGWetLFdW0u2D4jkzlYrOAGPM8C6c1WrFy1c8/ea3X1dXX19XX19bX19dfqrl29duLEsT17tn/91Sprxvv2zExrhtWaCX7Dlsz5q1Z+tn/vvgsXztfXX7tad/XEqVN79+3fuXNnbe2VvLxvl3+42AbxmebPs89fvXFzWXXNldrLV6+dO3/u+MYNG7OzFllAqrZv2bK5qqri4sUL0G799XPnzxaX7Fu79ksbWP5k2KzWrOz5yz/6eH/xgbPnzl2rq62rq7t06UJpWfFnn39itaZbLfOyICJrpg0ojc4crLb5qz77au++oqtXLuds2bh8yQI/c8i0ZdmyF6xeu+7s2XO112oPFO//+vNV4GVhzcq0ZGUtXLL2mw2HDtdcu3alru7ad+fPlhTvX/nJR1UV7pPHjroK8iwZGRD51WLLsFiWLV++Z8+eM2fOXLt2rR5gq62tvXryxBGXM++Tj1dYLVZgDtaszEzbsuUfHzhYdvHS5UsXz+/a7szCjmLSuoxMu8WWnb18+SdO565jR09dvVJbXwf1nDp5asf2nSuWr7BaM2z2DJvdsmDhwq++XlNZVXPx0uXaurorV66cOXO60FXwycfLrJZ5dlvGAAiD7xCbyfTum2++Y7FYmxoewChHIUOLRNQ2WbvV6N1bfXneStfbCzfnlZ67cKfloZcpRGOEqhAAiYAArGsa/DMOPkepABXEOBrq+nOqfuagCxA4xSSYQzcjH3eMuehPH5av2n3hyI1HFx+01T5sr33UfuVh+7n7bYeuPPxmx6W3F5VNS9lleLc0Kq0sKq08Os1tePfA3E9rCg5dv9rouXq3Zcuey6/NL49NPWAwVccYD72YWhNpqpyVXmb6tPL03ZbKSw+y15+Y+naRwVgdmVadkF2xfOeF75o8V+95F6879Ep6cYyxNMrsjkzdb1xzIv/YXfeVhgVrqpPnHTBAto2KGGNlDPpJcwslroXodhZjx3jJIJhDfx7z7vvyB1+fKPYZfKINo0Y19iSZQzhIOVCecfzr/1OQ+trhLTtb6i+xlsrWi5uuFy37ruCji/t2NV89It8taTm18LvV/zUn4Qd5v5/sjJ/omj3RmQw5pP1xLX3epb5EdYnBpKKe3Rv8ctVotlbCyXX0OwALVzQzghAjElUftCvVl+8u31L2zhKH/cuS8pN377cqHpV6VUWGdwCE+NCtm1SZqQr6w/A6ut9E42LNcDGHcGfCpILkfyxdaK8v2S1dK/fWVrbVXyHN91XpLmk91XbjsLf2gOf8sqsFv9751g/yEia6ZoYXzgwH472ECf6Hoo+b3H+397IwMpkD5Guw28A/AAosZFgyM2E23IKhTq0ZYHKTabdnZNnn2S3z7JmZdkuWzTLfkpmdkW6327Jt4JYLsvS8zPQMLrdDkJ+MTMsHkAkNTO8hwUK6LRvl3/QMq8liedeSmWnNzEL3BFt2dpZdDwxky8DmrdYMuy0j24p9sNttWfZMe5YlKxtTOltsVit4JM8H/+1M8HlOT0+HtpA5QJRZm8WeacFEdla7FVyfM7Ks6ZBhzQoJKCzWLCt0O9tmnY/nnGm3ZdohNpNu7mS1QyhaVFAAJHYsVkuGJTM9M2NeJpx2ls3Gs+RZ7Ha7Faf64UytGcCrbOngc46RjsD5AqrLstuzbfZsi8WGupGMTEsGWlbNs1rft1o/sNpstqxFVvsSq3WhNdOWmQltWTMtdos9y2rPtGdk2NMzIcAV76HdH4DVZrPCRbNl2m0ZNqB0A/5w5pBitdibGppAIwpmkxpYJzJNoVpDOz10udH04c7X7AVfOE9cuOuRYGJcUiVZJf4AR2DmCIdpPHZrZ0+AcTHEDeQkuejgpw0gT6iqYA7dZG73VPBw2Bdn2vUn+675GytWOQ59sf3w54WHF31b8Xr2rldMe+JSSg0plZFp1ZHgClJmMLsNZnf8vH1pn7lX5p/8OPf0fyw8MP294ihzqSGtMialDJIwmN3T3i37N1vpstzjizbWvL7g4LS390enHoh8t+q3pqJ/WVK6JO/UJzmn/zVjV0zqzinm4v+RdvBFc+k/L6p+f93J+ZtO/sm6f4b5IOSaMOuUwGdOBvoHPeNBMEXKKCYSgjkM5GkPOIY/+AEruKIWTD+fMHOY4EqEUpAQ4Xr56dx//7vCd//jyOb93hvn6aMLrOkcazzHHp1jTUWt59879tkv8l7+m1zDU/mG8ILpYZAzqxeJJwTrRzNz4GwB3QgYsAimENVD1NstcsmpW6kfO15bsGVVQc2Fe3KzF2KUUnAaBPc23QkAbFYJhiuVMew5wfoCb5ZxtDxczCHCmTipYHbUoVVL7xzZK98+INdVyDcPy/eOyg+OSvcOSfcOybfL5asf123/za63v5cbN9ExI9w1ExIjuuInFPro9CAfhBHKHKxWEGGRJUBUIksGiK0o7VvAvzczMwP8bm3WDBsEP023WSxZtqws23wQuy3ZILSCxJyZacucB9IuMBCLzZJpSYeVQBuAQlhhTVaGxZpu/SDdZrZY37OBdZAdQiLZMA+DNdMCjMWaAeQAiAxI85jBGkR4Gwjj6SAa861Wm8WSCXmvM9Kt6elWaIsb6iBtADWH1ZpttYKkbrWAVI3ZJ9Khp7CfHXQdmViQhgCjsKIJUofgnZmRMS8jY16mfk6ZmBUuw2rJsAGfgZR16FMATgVIMiwZ1ox52BkIjoT9gVwYNhunGZhxDxQ2EOEJ8M3IgN3m2S0f2C3pwKPs2Rm2+ZmWbEuGLTMD/K3tmdYsIEw2YA5A0yBTtNVqh+x7CFZGhn6xkDxYoIeD+JjM5jfnzrWCzgGYA0ZtQI8nJA8S1e63k6qLDUs21Zg/2r9sU9XhC7cftUlEIaB54JEedO9hv5UjN3TUlRHjaJzr/6kG2i2APKEJ5tBdpK6INZXHmipizNWx71cmzS+fPb94dlbRy1kHEzJKppkPxL5z0PBOWZS56kWTOxJybLujjJUxaTVTzaXJ8w78q+3gK9aDM94/GJlW+qK5LDqt/PfG8pi3DxpSy2JM5VPNZS9bD7wyrzjBeOD3b5fFppZFmiv/h9Ed+17Fy9aq/5npnvVucYy5OCrtQOS7pZFp7th33fHzyl7JLE1678Dv08qjzRWRZvBt8Jdo9HkQzKH/j8K4PsI3T60zh1d1a6UENJiOBy/kobFWAg9pR2J4flK4I3mS8+UfOv/t/3bOid5pn+Ne90FVTkZ17nvVW96qWjNtb/p/dv773zimP+eKmZw3dZJj5sTt8WE7/P4Sfu8LdFHoqoUYAMEYxcyBK98xNjdVIUo48VJW+6C1sPKCcVn++5/v3HLg3NmbzY8k5pUJYYRAnFaiqBSUC/AO4O9gHveboAfy+H00hos5QBo4R9Lfut74b4Xv/XbHvCk734sqnBflTI9yzot2fhDjyojemfHirrT/vv31v81/5amChIiCOIiB5tSfiHBHfDj8HFwZqczBYoFgpiDPQkhTNEXqmHFHWuGb4bZwIdluw0l5UFXYLTjPD/K5rrWAA7CAuA9BUsEY6n2U+bMsVluGPT0j612rbZ7dCgcDeQCtB5/gB7EYC86j86YxPQEQFzuUTBvqSKy2LCsQi3Q7BHFNt2UiXdGlZn4qnDnAfD/8ceYDyhPcyQ7WVplZNsjVkIWNAfkBHHQ/ATgbUJhg4coH5ER6OzZQZfgjoMIZ4OmDsJ+JYWF99UBrSI34eaH+wQoGWpkQdindaknPsmRkgfoFEkBn2ECtgJhAfVkWW3am3W6xZdoyMrKAOWDvQcXBP74wSpCszga5vgfoG81rM5mNb859w2KxNDU26ckOVNA9YPYEqqjES0mTzKou3Ps09/B7y3d9uP5gydHLNxtbZYwMxzMtcCNdP1dAEyYe+nT8jnqPc+aBzAGYmvBz6GmePsZYaTBVR5kPv2iuiXzPHZlWGmksi0pxT0lxv5hSPiWlLCq1LMpcMcVYHgVhf6qiUqvAKslUFWt2x5pKo40l0Sb3FHPli2kVUe+6p5rKp6aUxaSWT0l1//ad8ijTQUPKgZi3SmPfqphmrIhNq4o0VU1JxezIpopYs9tgghJjBsOkKSnuqJTyqcay6aayqe+6o9KAOXAlSSR3iRbM4fQV4efwOM9+4D7dmMN76OeQEO5Iwqiss4aIOYCfgyMhoiB5onP2JFfCJMfMp3Jm/eDbl37ifPu/OdL+33zzf3Wk/MT5xo+3vfRM7synnTOecs2YlD9rsiNuUuGs8B2zUFRK7HDXdvLZ1i6eDwOQn0Ylc+CqJFQdaziYQ9YCWWV1ja2FFefnr979/kf5rorvLt9tbZVVGTJGe2Uw/lWopmDOJK511mfv9LCrqI7CW8VnFxx434z15WFjDs6ECGfi03n//NyWl77/beLzm+N/uCHpBxtmf39j0g82Jjy/IeEHW5Ke3Rb/dO6sp/LjJxckRUD0ZKQNIO5zwj9mPaSROYBI3XMBsx1doEcpH+hAuhWtcWyQ7wHyJyBzgIl+XOZrbJm2rAxbVibs/z7qK2zgjW3LyMx63wZKAD9zsPqatmBDWT4uwZ0WQKxF5gBKBtAQYNZroCyQtwEK2lmB7M4/2GEr+CWDEwWsRVKTYUVShPvYgDNYssElGk4NfQ6g8xwBOGGkBZwpdf8Gaygf54H6fMTJkqkzB8wcoXdH71QHhuC9bUefDDCvyrJYs4BBwVUA1oG9wSozQRUEDYFRFrdWQmbgO89O9Q/+h8VkTp0z9/VMa2ZTUxNYZ8KkB5gsKZDIWZFVr0w8MpXbKT1x+e5XudWpixzzv96zq+rC9QctEDmOD3eYSIbHTuC0wRddeqyPbYM7v07MQXhI90QbcBa/ypBaHWWsmmKsjDRWGIxVMSk1hrdqDCk1wBxSS6PRQonTBsx9URWVWhFjrjGk1USnVQI3MFZFmWsi362JfK/SYHJPRfn+dymVv06p/F1axRRTeeQ77ui3K6cZK6elVRrMFZHGSvBHf7cacvClVMemVE9NrTAYgTlEplbFQgim8pi0iqg0iHnFmYNurWQS1kqCOfR7UAjKHOIwE9z0gNhKofOQdswKd8RFOJImb38JNAn5sREFU8MLZk12vTI5/58n57w0OTcJ/D4L4icVxD9VkDA5P2miIznCGR9ROD18+zTBHPxX2k8b9CSklDAqE5U0yrSw+kLW6t2Zqxzby0/dfeSRQFtPCSVe4oXkaBoQDE2FdG3g2OCLa+r3IPQ1IZjD7IkF8RjLKyHMOXsiCOuz/AGRBjjB7+pKa30e0vERzsTJjtlPFSQ9XRD3dMHMp3KTJue/NNmRPNkRNzl3xiRnfPj2uLDCuInOhMkFyZMKksIhenLchMKZE1zxYc6kMMdgYothr0aszoEL7j6dAZfDO1iEjzmAIA6KCWACGcgcYNbdxxxgZh+lV649sIBwbM1G5mBBDUMGWhAh07BD0jQ7BFFFvwoQs7lYj8yBJ2aAujiR4HK5BefyQSeAKgWbHY7mllG64O5nDroQDaxAZw4+ZsJPCnkBTO1jQCbYm3ceqAjuicwBdTB6Vb5/nCFgQ1yH0CHEd2JNoL6xQ9q5Th/dYwLNlvS28FygJ7CjLcNiS8c+dFHC6Juwb7pyqFPFiBTvW5f1/fppMhnffHOOxWppbGriWWYIDGMa0VRFUxTVq5A2RfZQRVYorbvf/M2Oo29Yv31/WYHzwMkHrV6PosoUYk1zzgExqH0xnHl+Bd/AJ/73gIBgDt28GrpbK1XFpFah/Y87OrXckOqemlIx7e3KaW9VTkutjkktjTYeNBjLY0yVUakY2tVcGW2uiDK6DWkg+keluaNNJbEplTGmQ1FpNVPerZxidkP6hdTqKamHfmM6/Nu0it+ZS6cYK6JTqmJTymONYMXEzZCmQOq9qpjUQ79POTQ1pTraVBGZ6o42VsWaD8UgYejiEs1/dnGYfowT7H7KI3qN8HPo4Uke3KphYg5xYY6ZUFzxk3a9PNExa1L+tMnOGRHbZ4VBiQ93zQpzTAsrjAt3zHoqP/GZvJcm5b8c5nwJLLm3T58AzIFbaCR2BGAFU6XxqHPwMQfG8M3JFFmR5RaJHKt/ZFzhnLtoa27xMUlVIXsHgWRwBFymFRWSBfnfugp3bPBlRvNFMR3crTWqjx4unQPo4lyJ4QVJEY6Eic5ZEx0zJjlnhzteDnfOjnDFhxdMh0djO2RCnOhImpyXPKkgMdwxa4Jr+oTCaROcs8Igq8OYZQ66eMmlXZwCB/GUfywQGqlj2S86o4CLJj26cQ4Xi7kwnwHp2Cx2izU705YFcjZ6KNh8eQZQW+CXgFFK7pk5oEMCGgL5ZPoO5oBT/l3Fd72j+j9778zBzxZ4N8DdAp2x0c4KDgdzLf+J8/oCzh07htygM13pYE2cOeBWXY/hC/qka2a4MzeSFjTAgjY6iA1iBfoHiw0Iku5kAsGjdNw4feJ6DGzLzr/1Ux/QP7PZNBdzSDeizkGPK45RkyAFJE/xCFloGKWkXZFvPmxzlBzPXFFgnr/l65zSe21yk0TbIY0Zo1RWiaRSGQJEYKqHUT1sPYHOC+bwGIJ1BToil0eay6eY3ZGm8mhTeYzRDY7IRggJGo2Ba2NM1VGp6G9grogyVfgSb1dhHr1yjHdUjeoIEMohA4Ox2mCqiUw7NCWtEuoELUSVwVgaDSZP4C8xxeSONPKk3bA/ai0gKm6MsToWGAvUDFTBZ54UbdS9HTpUEOgC8RgnOKJ5Qvf+C+YQ8pFhGJlDuHNWuCsxrDApHKwsZoUXzAhzzgqDlXFQQB6KC3NB8NaIAghVqYtErriwQn8k1q4TtwOcAO6wCx9N1ko+zgD/qcq8TKLUQySp3aNcvvPI9GH+W4tzv91//FZzO7g0EC+hksJkhUmU+ZkDxBTx5Ubi7oIhv8VGZYXDyhwS0AAJ+DOETnIlhjmTId2bCxl14Uzgz4VJYc7kCEdieEFcuGNGmHNamGt6uHNWBKRmH7PWSiBmcpFUFz+7Cc0QJghFXbTtD5xQ90/Sc+YAjtAo5qLRjTUbLHGgeuASPLszyrS6Qy+K5v75dZ8HAroBcNHXJyfrTsi6jgHW8oBQPOgRRobiB3T6DuQVuocGn7bnfUCpnasKuPGSXT9NBINj4q8vkDagUgahQpVJAHkA4sRVJT0xB95t0DaA5wIaa6GlE7iKY3NcAwNMi9tKIZSwK0SasmbogZ98oHAQuOO1nzz4OzyABT9zaGpq8s1y+AYxtERiTKWEwaBIiUIlD5Vq7zftr7n40bpi84KtX+SUHL1y93674qWMEIkpXiQPBN19OzI8jMpxa+g7LZhDd8G0pzVVUaYqdCSoiETyEGUCN+hIU1WUEWR3A1CI6iiU3fnhKNODfZEviR4kmAMCAOqL6lhjVaypMsZUEW3GfHPGCgMERKoymIAqTDFWTjFWTAFPa2g3ygQJraED5kPRxho4PLUqFsKwQiJqbL0jKitXO0SbKiPNUHo6l1G/UjCHkA8MyBxg9OWxlV7N7ezn4MTpTEhW5fdF5guDzecQ7owLhzy4mL7NlRQG4lF8hCMu3Bkf5kyEUhA/wREP612J4BGBIhG36JjgGrRs1EEVunCPUcQcOHFAwR+UBUyGEKtejyyfv3r/y62Vf7VsWLvj0OkbD1opUZiX0HaKSnqILqJCyFYMnRRomsStkgK/Q367jZoKqaZdlRtMJV88PT/yuW26tVKYKyHCAdZKQGvhoehy8/TnZ+/WSmEunpkEnoiJwKXjeWLpMFcChl6dhdFXEye4ksKcCcgcZoY7Z05wYWJ1SM0+6KdjpForgZDZeTIbfnb+gOSNIi9GBkLfANzB7wPAfQUgapDPQwCEe4zZ5HcE4DtDa3xS39dERyX6HLzPzocLyf6GdPUD/IYasBK/tO2rrOO/vo9vRWArvnVgEAVz+iiFcw7DNSMgrQeCEMgccNkHGPbJXx23G+J981kr6e3yA5ADWSCPnO7PoDuU85++bujMAWgZ+qqjowfnbh1XChvVz9HPJgJ60u9FzhysVisyB18WBn3gwrGQqgTzRWOeOI+strUz6U5zu/tE/ScbDr6ZvfHTvLKK8zfutcpehSiKwiBQhALZHnQ9LINhVf90GGv6V/k2jcf/gjk8hmytp5dGIb4S9QkVkTjfD8zBVAWuCJAjjyef1uVylOCROUDgI9wtgDnEGKtiTBUx6PqM7IJrFeBYpChV6OcAztbRcGxFlBmir0aZa7CtKp89khsVGh3HBp6L3+0hcOXYWBbMIeRDVQBz4DmkOXOIDy9IwolPZA6Q9M3PHHwGQgPJId0hWmEmOOAGE8BKGyK0hoHmIV7nEs5E3ARWGVCcsAm38hoGLRv1KvONFuYAgZTQuIgzB0jmTDXqYeTmozbXwXNzLVtXbCg+duV2kyR7mQy0gXmZiu6B+hG6hqHjvdjpRdltdcjvvJFdYZ/MAQKh9noXddznve7TjTlMAM6MBYgxeP/Dba+3wp8+fFL4GtwnDAKUxWGcYsxIPbhHsqOrI5k59FvMFAeMOQTMZvPcuXMDmEPHWILTKTzfAPovQGJLj0ybJbXNw5SHEjtd93DBuuK5Czd/tPmg++ytuy1Km8IUdA5TqaQxojEFvzl58NERZBIBGeM6WhxvS4I5jA1helydhWAOIR+mfMxBpRqprj+GOocZmEPaxxwKp2G66C7MYehk98eQugYjsfVx7GhhDlxpQCE0iJ6OAdz9HhHmPn9j6caSuVlbDl243dguyYwoTCLEg/mk0RfQZ+QU8ntpLFVINe2a1GAu7qRzCPfpHCIcswbLHPq4D4f1KRDMYcwJ22PqhPpiDhTctjhxgJgQkiS3KkyWVOpharOi3fWoa5yH59pz3lu+/cDZe3cl0kq9Mm1nxAv5bRjRKIXCoMD0DGgiYJjtCDc3loa6fp6LYA7jSuYeGycrmEM/n/K+dxfMoWOqFYS5kcwcOEvg11Q3NwKdOjIHxigh9PYj7+f5ZW8v2fK1q/pBu6xgnlQw+mUKpogWzKHvJ4LvIZgDKkDAoSjMkTAxP+nZbxPCPnrxwPXjwRGcEHxzfHz8lClTIO+xzwt5TIm04mSeCAKPxRx4qDiwzKQUnB4Y+b5VywAAIABJREFUwyQ3MmUS1a7das3bezbzkz2py105FRcuPmhuJpAFwguBJHisJYKB5ximugGVLo/fGvz2Hg9bBXMYG8L0uDoLwRxCPjQJ5jA6mYPfWonPrVGqEpmpRdUXM1Y6s9bsOXunuUVWiB5tkBv9dqIN8CoUn94REMxBMIcnIgWLRvqPQF/MgWF2Bz3OtG7VCfoDCLVEiMKY6pXVq7eat5dftH1V9O6qXRv2nzp5vfEhYe0wxwJGnRQSZCro/gfkAQqQB2GvBCQK3iT+j8gE50uPMK5k8dF1soI59C7qDHCLYA6jkzmA6hz9HECjQFXiJcq9R/LKjSXWz3ZtPXC6gVAPhaCDGmxXCcEptwA7JcEcgj8wwZiDIynCESeslXoEUOgc+i8IiyP6iUBfzAGnVSCptKJCpGqmYfhpRhgjCiUyZZQw5mXs5sP2fUfqLJ/vS/90z5odR45evfNIZh4CMeokRoiqMEguB2MoZw5ISMY7eRDMYXQJzaK3EKIqtToaAltV/s5cHWmCwLgxqeWGlOKoOVtfW7TNLXJI9/gyD7pSMIdRxRw6OS4jdaAQWZCRpjap6vSd9z50fJZbdbKuoU0lskoZZHkjKtUZhI844DUXOoegz4WfOTwzP+pZX2wl3c/BkRQBYcEG5yEt/Bz6KS6K3QUCOgJ9MgdQD4B/gp6nBpUGEFJCo2DVKRNFVqlXJe3gM00OX2xcuKZ4bvaWpWv3Xr79sKFVavFKHkUiTGaqxBiBwHUqZx8KA0LSoa7lQ2rQkWSsbRTMQcjiow4BwRxCPgwJ5jB6mAO/+PqcFzo4qIRRPot2/X7rZ1sPmZa6dlRceiipMiOyRiDjmx4pxM8aOhZCfi+NpQr9zOFpwRyEn4OQ2UcUAn0yB5TtVYw8TfAb50lUFbUHFHweNMI0haiyl0gtMj1d9/Czre6/fLA64+O8YxfvNLYTL6UKlRQiE7BfQgoCaaohDAX/8MEucHksDX9BzkUwh1EnN4sOC+YQ5Ike2CbBHEYTc9CvFpAHrn0gmipT1uIlJy/de2ehc8W3Fccv3ZUZZoxWKc6XEQ3SRffwGdgNM06OEsxB+DmMKGlZdKYDgcdiDjBWgpYBC4NfGjoqgK8C5C9SNYWpCmVEZqyxnZytb9i899ArKcvtq5z7qi/ebGprp1RhYPJJKHg+EHB26PkzTsZEfpqCOQhBfNQhIJhDyMcowRxGGXMAykC5xx7TVIWBSv1OQ9uusvPJxq8cZRduNrYTiLNEVAgoiAa+GFCwy50j/By6ANLlp2AOgjl0iKpiaUQh0B/m4PduBt4Ageh05sDQERqCt1LGJMLaqHrlftOnOftNi7dmf76j4MCpy/daWgiVwKuaUqJigFawW+rQO/h4BIZrRW7SZRQZiz+ROQQ4SXfykC42mEoNxnKD0R1tdEeZqqMh31lAMXXKfYZZySpGnRgqOjzqEOjOHGJTy2NSioSfw6CGKJi+DsjnsGb6pJz4cAfP5zBzgmvc5XMId8VNdCZ9f3181Oa5a484PRo4GFN8YeBc/6DAHtTBeKVQ/Q7kAZmDKjP1/NV7X29zv2rbWH3hbrNEIawgZZgkutdwIII5BL8QwBzkBnPJF34/h3DXrHHt57BZRGUdUeLzOO5MEOYAT3WHM1hHOCRcB+ZKmEETxnLK/cBQkcAYzMF4VNZE2aY9R0xLc9KWF2wuOvPdneYmjyQRQlDvAEMuhYgTEOE1gEDwyNjYcPBRZQxsBbbEQ/ZBsG8Gpl+Sqq7bXvXz5CWxZsEc9ITQo062Htsd9jOHF9FDOtrojk0t05nDYuEhPZhxCZhDDc8Eh8whAphD/ATnjAmu6ZgJLh7z2vJvXxrpkezlOcC+gedruBOYw/e+iY/cMnftUacXHAaAOTB0vBsMyoM9VmcOPC8Rah+Y6iGa++i1BZ/tXrjxwIU7ze34RoQ3pK6Z4Md0nRETzCH4teA5pM0lkAnu2ZzkiQXx4a5ZYa74CEfyJEdiuCukOZsHeK8OTbY4TAM3Ab7j+IMf5kiYlJ/0zJaEsI9FPodxLK+PnFPvgzkEfbJRT0CBOPgKcgn4SSFrJmlkbPexa++v3PUv5nVrd5w6e7O5UZI9FBymwVGaqhpPDgFZ4uCVgCZMRNMI8oeu42zQvoyejT7TBMQK4vUBbVDB3Iszh/Xbq36RvCQGmUOMsdyQCjoHn7ahi55ByNYCgSeNQAzEVqqaYqrizCHK6I4xlsW8UxQ1Z8t/LN5WLmIrDWgowsFOZRo5hMzhB2umT8yJ15kD0IYZE1wzQYxwJiB5SMTvMZtD2s8cnvsmfgoyBxlfFfpEE7raDQjmEBzUMX7rHAaCjj9sV7cfuPTB0l3bik7WP2r3gOefBl59qsw9HHAuTMH3Wgj6ME6qoJp6VW4wlXz+1IIXn8lNgqTRrlkTCuPDXUmTHAnhrrgwTh5GlNAfqs5w2lA4SzCHkSMti550IBBa5sAwXCuDbNMKIbJXZXdaJffZ2yu3Hnrb7vpkS035+dt3JalV8YLREoVU1CoFFoF6B0wXgaqMYdZHD/nAzFU5MH3WmTlQSVUFcxjbc/aj/ew6mIOpJspUFQ3MgVsrbXtN6BwGOnTwaZIA5jCjgzmAzmEmCBCCOXAV9bAyB7jCfPyGbgB7oKp2o8H7jeuoaWHBkSsPGrxERjMmGNw1BWzQcE/fjNhAb5Hxd1wAc5jydG5SREEn5hCBzAE9AeLH0ne4Iz7cwc8oLsw5K9wxK8IRP7Eg4em8pOc2C51Dh+wqloYTgdAyB7/ygZMHxoissgdt8pGLD77MOZb+yd4PN5XuOXb5rkdqg1hLXkLbGUjLqopOE6jE4N4UYzvVg585cGslv86BSipbX1j1i+SlMeYSg6lU6BxGu5w99vpvQGebSFP1FB9zMBjdhpSSqDk5f12UI/I59F/A4wIoHMc06tM59MYcAk2VhM6h/2CH5Ag+fiNtAD8HTTtT1/jZtqr0FdtrH3hbCdUjB4Kjg0I1ynSqwXXpIenBuKhE93Mo/uKZBVOezU2aWBAX7pwV7ooPdyZNciRORJO2scQZ/OcS7gTmMMEFzCHMqTOHpwRzGE5JWbTdGYFBMwduZKR/+2Zj4CcDEySYcVEYe+QlZ+oernYeyfx018J1+4uO11570P7IK3mJV2ESwwRzHX4TMCJDoukxPTpiij3kTGitBBGnGGhh2PrC6l8kfxhjPmAwlQUwhyo0WBLWSk/aOGfsif6DPCODsTrKWB1pqo401USjzsGQWmF450D0G7l/XZhTceoKHfYp4VE2cPBsm9BpZA7HX819/wdrZqLOITEc/BxmBugc4tFgKQG/h8bGOlTmFgOvB/wcItDPYQRaK8F1QubAwwsSTfVqWvmZm8s2lS9aXfSglUqUQKoi9P2jaLWESgcVdQ5j+6UW4gcPYys1phV/8Qz4OcyelB8foTOH5IljmjkgbfA5ObhmhTnjIxwJk/OTnhV+Dp3FV/Fr2BDgzMFisTQ1NfX3uUcVQaevwBrQ/ReMcSijMpE9TKltaN+27/R7S11pS527amqv3m9rlmUvkyBiBs8PxzDmNYzMoAUOrG3MLXcwB66oAUMvlfiYwzIfc3Drfg4golWBoGYSorNAYFgRMAKJjTLWRBkPwT2Z6jYYKwwpB6PfyHtjYU7lqStghCc+/UAgkDmwmvoTf8yZ98PVs/zMAWy79TJ2M+YG0Azu5NALc9CDafQD3SHbFeyUNJWorF3VdlZfXrju4MqtFa3gkEFUVVHBb40QjSiwG49GSIesL2OzYs4czMVfPL0g8uncl3zMISHMNTvCmRThjA/nOaQ7/Inj0at4lH/zZ8HvHg3Pfnw4Mgf0kJ5y4Prx4Nd7QvDN8fHxU6ZMsdvtFovFZrMNm+wpGh7NCAyGOcDkS+eP/45FvwX0m4aYQYQyD1G9XkpuP/QWH6p9f7HzTdvmrftPXLnf3I66CcZjDKngHE0gP3XXmnk7/vrHxILqN+6CCSrIdaF4Gegcfp60zGA6GG0sg9nc1ArwkB4CwmAwVwWWLk0EbjKYh5axBG8r+NYu3e7zZ/Dagm/ts/IuOwSvLfjWLlUN8mfwtoJv7dK0AW7FqmhzjcFUE2OqjDaWRYO1UqlBMIcBjkodzIGqrKb+5B9z03+4Jm5iTkKEIzHckRDhAmfQziUebDZg/ZgsIBECc3AkPvdNHPeQljSFMjoSPKT5jBZcM2QOVNPamJZTci5rTcna7UdkpkHqN1XRkDwQjVEMXq7HMR/gHTJOD0Pm0JBWhFFZ81+eVJAw0TErwpkQ5gTmMNERH+GMD3MljL0Srp9U/IRC8AKPKEyc6Ep6qiD52S2JYR8PmjkkJCRERkba7fasrCyr1WoRH4FA/xHgzCEzM7OxsRHE9xDNF3J1LgauY6oKIyla4zCJqHebvBUnbi76Yt8HK5xfFVSdrm1olxnEaqWEMKYgecBYdpx99GgNpduZjs4BlXeenx1RNaKqBD3LFarKXkbXu5A5GA9Gp5bBhC4yhyhjRchLF4kw2lQZ2ETwrYF7Dn45eFvBt/ar9T6r6nOHx28ueFXBtz5+K4+zZ/C2gm/tXn+0qTza5I42VRmM1eAbbS6LSauMSS2N+mvOG/O3Cp1D/wclH3OAaHOspu7kq8gcJuUkToSJ1cQIZwLyBN3omZs++02ix+RCj8yBUAjMitE0hlGpBaM3H8Eh5iqGXW0h2qa9p7PXHty6/7QCzIFqjCBzoBQVDpAwFQgH/u///TFuj2CaVic3vlf85bPzo57Ne3lSfvykgriJzsRw1+wIV/IkR8JEeDQSwgvHUPHNBQAdKgTmEA7kIT7CkYjWSolhn0QeuHEi+C3Rh84hMTGR6xzmz5/ff4lRHCEQAATMZvObb76ZkZHx4MEDSmmomAOOlOD2zNM+8BgUPOwqodrDNlZ2vH7p+gPzPtnxRU7l0fO3G1s9EiUKZIrDtJs8ZbUv2Kt/bh4HXz2QdvCHZ6Ru5e8PfP2A4p2omowJMIA0dTCHxOXRxoNRKWXRKe7oFHdUanlUqru7DCfWCASeLALuKKM7yngwyoicNqXSkFoaYy6NTauISS2Nfj0XmMPJy8JaqZ+DTzfmkAM6B2QOyVztgB6T4CsZ5pzpK3FjkjPgSWFImU46B4ekKcAc+ORWiKa3+nmZ+O76xeLjOMYV11pkbf2Ok/PXljnLLiBzYKBpAPIAwZV8Hnv8iAG1OV4PQubQ9F7xV88tMDxb8MpkR+JkR8IkZ1J44UvhhbMnORMnOVEjN4aYQ4QLzmhix3nFRbjiIpwJkxyJz+Qnf39rUsTKqIODZA4JCQm/+93v0tPTMzIyPsDPPPERCPQTgXfeeef1119PT0+/f/8+Y6GcFEEzUHRfwIEPhWVUIDBVIWorUctP31yxqdy0OP/jTWUVZ67fetjmUUD1wECeBt0DEgZMNAcUAn6OLeZAVU1hqsyY0qFzUEHn8IvED2OMJdGppdFAHsqiUkujUsuQP5TjQpnvu9y3UiwIBJ4AAnjjGUuijAeiU0pj3imPSSmOMZfEmEsNKSWxc/LmLNgmdA79F/M6MYfqulN/zLH8aHXCU9sSJxUkTypImpifGFGQEFEQF1EwC8tM/I6LKIgfoyVuYkHcJEfCUwVJ31sfH7l57tqjDi9nDiNC5wCvSc4DmKoRqjV7ta8dxxesKdtdfQXjsWJMViAPEPsDdgUdiWAO/X4yqKbVgs7hq+fmx3wv71+eKUh+Jj/xqYLkCMdLEx2zn8pPejo/8an8xMljqzyVn/h0Hp5XQcLkgvin8uOfLkh6Nj/5+7mzn/82efLH0aXXB6dzSEhIeOGFF958882//OUvr7/++pw5c94UH4FAPxF4FT9Wq7WxsbHfT3ZfBzDMKs3HTNRm6HPtlFKF0Taqnqpt+CKv5o/pGz5YWbjn8KUHHlmmhKmypjMHtJ4CBTX6nGk8k85oD9iqv0xAAwPMgdMGn5+Dyta7Kv8+YcG0lN2xKUUxKfsNqfuiU/fFpOyPSSmKeafI0KWkFBsGWmJSizuVzvWAUNi5BDbUZVNM52MD9zR0roQf2K8d4JDArgZtq0vNXX722e0+d+hSYZCfwbvdZ0N97hDYdPCd+94aCG9qkDuqCG7C1N0xqXtj3yma+k7x1JTdsam7YlJ2xby1/fdztrwpmENfQ2JP23FURNFS0dSq+jN/3pb1v34x+/ubZj+3bfazW5Of3cZL0rM5ic/kxD+zLeGZrbwkPrN1DJZntyY+ty3xe9uSf7D15R9/lRS98Z01R1weTaaQAwjcBkKoGO/pcgRf56N5PkZAmfbQo36ec3j+6rL9R+olDbM4MDBaAnWDYA7B4Qy6FZiD1PjB3q9/lBn742/++YcbZ/9oQ9LzG5K/t2n2c5tm/3Bj8vMbkn4UUJ6HrWOh/PgbOK/nNyb+cGPC8xsSfrwp+T9tTP6b9cn/y+qk55YYyuoHxxxee+21X/ziF7/5zW/+CT+/ER+BQP8R+PWvfx0fH//RRx89fPjwiYzIMO5DxFYKFOGhRz57oyGv/IJ5ueP9jxzb9h+/7yFexohGKYjUCs8Lhz5maNijk4exEXipw5FDB4RSD2ObCkt+PfPt385e8o8vf/jLl5f+wyuL/uGVRb96eek/vrTshZc+/NVLSzuXD38FK0URCDwBBODee+GlhS/MXvzC7GUvJC/71UuLf5mU/ULy/H+aveB/zLa9nbWu5pSwVgoqDfW2EQdfSWNV1869sX7h/5WZ8GPr1B9mRT+fFf38/Njey9Tn5/dZYh9jn94qGcyxvdX5eOvtU3+YEfu36dOnf5a64dAuryarYM+JzKE3DJ/Iel1/AG1hGjimNnrVz3MPL1hdXnT4BuEmuV0ChwyjX8YTwWSIGmGadk9u+fRA3j9aX/3FR3/5h1V/fmHln1745E+/XPmnv1/151+u/MuvoPz5Vyv/pJdP/vTLzuUfVv7p8csvV0LN/vL4B3bf01+Jf6H7Pj2v6dT/P/7yEyi/WvmnF1b++YWVf/7lx3/65fJXj14/HxzwPvwc3G53vvgIBAaNwO7du8+cOSNJkJEt+B0Zkq0+5gCRMmTKHkrkckObo+LC/NV70z9ybnAdvnyrtUUiCmz0gvcwhZitEH1IU5gmgQc1D9n6JDobkjPutRL/+8XPHBTGvrt6I3dHed7uIzl7j27de2TL3sNb9h7euvfItj1Hoew94i9b9x7Zumeoir8VvjBG2gpATz+vzgA+ubPuqyehvLIhbWvb3sPb9h7Zuvfo1j1wf27dU5OzpyZvz6HcXVVlR87faXgyExC9PlOjcAOas6A5vMLU648a9pw/tKrauaIm76NDOR8dyllxOG/Z4fzeS8Gyw44Pey4FHx4u+PBwfu+loJcDeYXBjw1S7eNsCtb00sMFSw4VLK0qWF7l2Ham9My9a0RVVCZTleBM/nAO/dC23j6M34SpDQHMATwFe/qMwtty+LusapqXKuduXnMcObjlRFHu6ZKC0yWuU8Wu0yWu0wcLT5e6Tpc6A8upUmeXErh1VCxj/x2nSruW06WO07Cy4NTB+60Pg1+bPphD8IPFVoHA4yDgH+VCGFgpeLsBzAHCtcpUbSPq9UfS7ppLi77el5qVu8Fx/NSV+43t7RLzUFBSK4yCxSjTCNNkZA7oej2cr4/gp/i4WwPBp/zDmEyYV1EVBq7TElMlqkpU82KR8PxlFVCQVU1imnfIyjC2NXQn5e0LwC5nPYw9CWHTXU5qkLeNpKqSxiQVi6bCAmMS3LRUQZr/ZCYgHvcZGwX7oQU8WrZQpnoobSLSXdZ+j7U1qG0NWtt9zXNP89zVvFg8d2HZX7z3NO89Tbrbc+nxEP+x/jp7PLzPYwPrGcAyr7+Hpu9o3lua96Ym3VLl26q3QZU9vuhzBNwKIPDeMF7VDuaAw7dgDkN6LcCTRFUllbYyqV2VJE1WMKYIJtqDXLMkoKBKCvxLBlYIeLV3lIFV4j9qwFUFHsiXFUipS7EwWaV9WlwI5jCk96SoHBDgwitfeDKIcOYAs+yMQihWmSoy9RD6wKNUnL1lX7XvtXc3rsk7dOzynQft7bIqEyphhGwKuZb11wZD+6Un098hbKULc2DcURq/IUEpIESBNVGNYtGtZ7kNLX5Tqg6wIBXrXGGnqjpvAuPdwIa6bQXzst4Kp32Bh8C19O/f754Ea6ujWn/9AQuD7EnwyrtsDTxfvhy4Q2h70u+2Hh+TgD2x/xquIFTlBWi9TIisYHADBZKzCObQzyHDxxzAsVaVCGtTqJcxL6UyozDTrjFZU/0FMgUEFKJnFYCsZKOoEE3trShAR1WPqnqY6sXZEwWGC5ARFXz0VfA7HrZPr8xhTVnRketC5xDCC8PTbmNSPbz6KlU08HWBkFWYKQNHUfCa58X/PvUvoKAAMR4fp0De74DyOIf0uk9APRQN2Hrds6e++fvPF/DsmP/j13n1BrVgDr0hI9aHDAF+a/LqApdD1kC3ivSHQWU8iwH8kySmSF5FbmhXzt5oWbqmeE7GpiVfFdWcu9sO7g7gRgwJ4lTKgythhCXMy9mt8tG1gkOhA8IwqYVKiKooqJenIDaAQ6Ae09Y3xAQehYYOoDwPfenUDEiDoW/C3+0ubfnXD8VC8LaCbw1tf55YW5CSvfNnECcCkShB7ENnJA3ftch1JcjKAn6hT8TmcXQ96MF7i6Gr8QFjEHeOSTJEp9YnDSCOAve0hWjUsNxJvOFB53oTwh+HSgzm2Mepv+d98CwglU1PBTK+wVwyEicF8jRrBN8BMuZPGNYbjF8svKD4SKHOgX2eV7NgzcHiI3WCOQS/1/u7lWpw6SHiIqMEKDRT0HCZ8UlEuBX0vBp6do2uT0cgFxi9yzzOJOa7UgkO3sGAFMwhGDpi2+hFgEsx8NKD2QKqUq9KvZQqEmVNEj1T37i24FDG8h3zP91XfKTudrOnnSoK7AvznDiGgFqyJ1e00WfAFCjQgZKBwSsSC8zLw2sVcmorUGCSDmcudFmChwoHqXBISmArfHmIGoJ3cbcyRG312VCfO4SqY0+soRDDC/cavwtBB4jRDnj6c9COgdw0eoel4em575EGdoe0ACRmFaZWQatDYMaEG2fiYw63TYDOUV/u9vh0uru6799lTZDDu+wZsp98HhZOmJfAcRC10jp3gNkiHt8U9vDvOzyXClr1MQeYR4EPMAcP/Sy3asGakuKjtd2Zw/B1dSy0jJMeQBvgkdAovgL11x14BsFo3Otsvu9+8d9k3Vl34KY+t3bZeZA/u9CYLrV12er/yWPT9zHICuYwFm59cQ7dEeCvCf52w8cbg66qhDIqUdJG1TO1Dd/uPGFbtce+andh+fmLd5qaCZFgQo4ShcArFXICwYCC5hHw1PGFgLnU7s2O0DUcDfz2Ge7436ggU+vZLdAYIUCGCJUIK+oRCDwuAvrjhdonLsj5xF0VpgJ1zdQIfc5GYrf4lCnX0+CyCoIymB2BKoBpCgXmoI8NMCp0/vimDAKGvS6aQZ+iogdyjpJXME1i8GM7kZMg3KPnTXgevu53m/rADaCswPllitG9dQERTZX6kJyG8koHMgeQXIE5tJPPcisXrCkqPnpNMIcQgw/EAOcYNbBV7vCP1++ZbrdO56Gs8+Pi555cTO+2EVYESvA97hCqlX02FLhDp+U+ERbMoU+IxA6jFQGcnORvOf7yghEZDHaoJDPFQ9nlO815JWfNiwvSP9mxreTs2duPmmTiJYqiyOCJSWAaAq0kwOgJXjD4HZAqbjQh0zEa+RJkB8zdconCFxp8NJ2W6OsYRABezXBa/LbkJ8hUcECiwyjQjVKg+QjoD/oPUhLqFAJMLyAld6fSmSYEO/EuLKL7z2AHd26m+7GDW9Pn0XDOeN6cMcBNx1HQuU7wrg/d1i7MAWxpkDlULFizv/joVcEcQgk93AL4TEASWO4Zz28cuDkDXpG9ttnnbTZid+j1lB5jg2AOjwGS2GW0IqDi25HBENBxCgycHpQ2mSpexm41e/ceufH2wvy3lzhW7zx+4X5rsyJJVFYI0AdICKH7SgQyB3+e6Y5KR8sSvJSwdBnOoP98crLj/dlJlvC9VMVKgcBQI+DLsKLfkfqzhUYDbCz4Hj3ZwYI/6V1yW/J5BBwLcCaky3AQ+BN7G7hibCz77yr/yKf7ROPLIuB98WSvFpIWNNbTaZWKDhgBzOGKYA6hvST4LPjIo79qfpf7f4qFzggI5tAZD/FrTCHgYw44rcDlEQwnpBDqJYwolLbK5EaLVPrdvYUbSt9anLtsY/F3N5sbPJKHKgpTIFprB3NQmCqrkCcOmcPjTEeMSDD9BKFz5EEcKX3D5dgQDsRZjFoEdHICD5DvHPhMLOYkGJHP1QjuFIcwEExA1Y8t/IAJ154KV1D2+d3jsf4ZluCH93bsYNYHb9FHo/hQiL84BH5UhjOyElyOjvYh+I9P5zB/7f7io4I5hPhJ4/eK/9J3PCx6O/67pM+bajTt4JtC7NkisE+IBXPoEyKxw6hGwDcOdMgfKo+/x8ORKoy2UuVWu1R58c6XBTXGBblLV5eUn7x+q9nTxqhCiUIVDF0oq1SiTFJVRdUo6jdHMSy+GTXf/1F8KqLrYxWBgJuz80M8Vk94WM/LNz76idoYX/CB7bu1OI3iawPW+XZ70v/9Nz9QaMLUxnb6WW7F/LVFwlop5Jci8HIHLgc0xFePq++As+9pUTCHnlAR68Y0AuCj5PtQlcpM9lDvQ1k5ceX+l1sr37HnLltXsvfw5WtNba2gmyCKLFHFq1JIGIc+muBFCC9W8REICAQEAgIBgcBQIACvGM4cNGQOlYI5DAXMos4BICCYwwBAE4eMYgQCaQOkHoNwjxJR2mUitSm07n7717mV72Rvtn+5a3vN5domT7NEvB5J8UoMwp9DjEjuKjBqjZVG8bUTXRcICAQEAuMFAcEcxsuVHn3nKZjD6LtmosdyXn2uAAAgAElEQVSDRICTB6ABkDhRpURmRGFUUYBAKI1e4iw7+95yx9zsbVuKz9U+aG+TmKwwWVYIUyC4IToLdxiiDrI34nCBgEBAICAQEAh0QUAwhy6AiJ8jBgHBHEbMpRAdeSII+IOTctqgUkgeKRFI4UAppFiWqHKjsWVP9eUlaw6mzs9bnXfoxJUHTV7qYUyCfMsaxmOGKOBPpL+iEYGAQEAgIBAYfwj4mYOqWystWFtUckxEZR1/d8LIO2PBHEbeNRE9GjIE/LRBX4DkJxpjqkIhrzKDn4wxxUvJjca2g8fqP/qmfN6yHZ/nVLnP3LznJe2qKquUQMwlmYHPQ9fPkHVcVCwQEAgIBAQC4wkBwRzG09UeXecqmMPoul6it4NFIFDY5+FDIA9MQLYCoA6MSow0tHmPXnzw8Ub3+8u3r9hUWnbm+r02qY0oEtg1yUSRkWoE1gcjvfgIBAQCAgGBgEBgsAgI5jBYBMXxQ4WAYA5Dhayod9Qg0MEbIIy2QlWiajKVJeJtp+qFu+2fbqt4K3tz5ieOmvM377R42wiTCVMUCjqKzp9Rc8qiowIBgYBAQCAwkhEQzGEkX53x3TfBHMb39RdnD3oHqmlE1SjTwI1BYRplKgN7JElhrEmSzt95uKX4pHlpXmr25r1Vl683eFoV1qYoxBfalf8H12nxEQgIBAQCAgGBwOAREMxh8BiKGoYGAcEchgZXUevoQMCf24WqGqHIHAgQCKYSRaWKSpnMSJMsn7/T5HR/l7F8e/aqPfn7z1y4+bAFfB0YhGfCD6UUfCZAaSH4w+i49qKXAgGBgEBg5CLQA3MoLjl2jYJtbafPyD0F0bMxioBgDmP0worTeiwE/CkjIUkDg9TQ8A+YA6UqpRrQASozpZkodU1t28svLvi8aMHn+zbvOna67t4jmXgp5JkG7gAcggdcEvFaHwt6sZNAQCAgEBAI9IqAzhwYUXkO6eoFa0u6MQeM8iGmq3oFUWwYEgQEcxgSWEWloxcBf6o4FfQQmgppHxRFldqZ0uBle2tqF39d/MGHji9z3KeuPbjb6mknCigcqMrDM3G1g1+X4V8YvYCIngsEBAICAYHAk0VARToAU1pEZZhDumbB2gOdmQNTVSJ03U/2uojWAAHBHMR9IBDohICfOYADNNVUUEAoVJWJKssqeUTZ4Yv3P9lQ8e/vrMn+bO/hy/eaFOpRZKANCnhM8AzTGg77ftogDJg6QSx+CAQEAgIBgUAwBARzCIaO2Da8CAjmMLz4i9ZHHAJ+5gDODtxbGq2RKKOEKh4i32/1nrzWuHn3OdOCPNuqHTsqzt1tlSSFQoIHTBSHqeJYIG0QzGHEXWbRIYGAQEAgMHIREMxh5F4b0TPBHMQ9IBDohAB3PQN9A2qCKThAQIY4XghRvERp9Mrf3W7Zuvek5eNC+6c78ktO3mr2timgnlDB20HR4GhIFOEvgjx0Qln8EAgIBAQCAoFeERDMoVdoxIZhR0Awh2G/BKIDIwsBf9AKLvRjsgfOI6jGNJUyQmWJyS2M1DW15+4/aV1Z+MGKfKf7zKW7zc0SIYwwKqlMZioEdw1gDoI7jKwLLXojEBAICARGKgKCOYzUKyP6JfwcxD0gEAiCAA7eHQkfQIvAqKYqTFUUjXo19U6rtKvq/LyPc1+d98XWkrMX77S0yopCvJS0UaZAeCbQQUDhWeOCtCU2CQQEAgIBgYBAABEQzEHcCCMXAaFzGLnXRvRsBCCgYqwknqWBqZqiaV5N9WqqojKVaJqH0vvt3uoL1zM+LXjdvmm14/CZuqYWosisjaiyYA4j4AqKLggEBAICgVGHgGAOo+6SjaMOC+Ywji62ONX+IoBezkgbYElVVUXVvFBURWPg+iBRqZVKd9rbay7d/HhzaeYnO1Z+W1559laDJHsZJT6Fg9A59Bd5sb9AQCAgEBjHCAjmMI4v/og/dcEcRvwlEh0cPgSQOfi+wN6IME1mmqyqBKNsKwqVvEzyqKSZskMXbn+VV23/dO+yb8pKTt649cjjpZDEB6yVkGaoqu7qgP+w2uE7NdGyQGDEIiBcgkJ+aQSk3SEd2ZgI5tD9iok1IwUBwRxGypUQ/RiBCPhIgwZJeUDnwCBMK2SWhgBK4AZNFYjWyoAhtDH1TN3DDdtPpi0pzP7yQNGR2usNbW0KUwiFVHHo6cAr8msxejhlTiiG9J3mbwK9v3mXeuiJWDVCEOi4Xr5rFbhmhHQypN1gkBalx2dAhS3i008EuM1lHwfx0WC8fMPtxTgi/GnCZ6sPiJ7oZsEcnijcorF+ISCYQ7/gEjuPawT8YZd4zgeIucpUX6FMYx6m1jfKu6pvvJa+JW1poaP0uxsPvc0eLyEKMgfGIGMchXxx8IZGAalDGsQ3mF8oHDKk9ZaZBj1XO04AOhLwEvV3pMvCYPrVpaouP/usucv+XX4GP7zLzl1+Bj+2z61dauvyM/jhXXYO/AkHBv7ucTnoLsGbHtKtPXbWvzJI0xiRAIKSAUXgB+DeeHfqq4McLjZ1R6CTlIyYYrAH3YcrAGj/9Rn7CxAnz3+DISHViUSnm647lk9sjWAOTwxq0VC/ERDMod+QiQPGMwKdyANmesBJOqASCiVeypplVt/oPXj8uv3TXe8ty1/jrLz6oK1VpgSMnZjKCE/1ECASBTphg/CuwlzYkE6soligf6kUwkVRiroUFCWGtOnxfO/0+9y5+AYUr5cyVi8VPgV4cvwL1X16fhSgu/1GUhyAQwq/j6iqEUh3D0GmYTUfcXq7x8buejxvf8YdgMEHB18Y5ptGMIdhvgCi+SAICOYQBByxSSDQMwKcP2CIVpwcRRUCoVQmxEtIu0Lut3iLjl37cGPJ+yscn22rPH7lQZNHweRwupoCUsbhqxvyTqtAJ1AFoaEKA7LP9dxwCNbilC40B40Am/ExhwA1CBdZe/wefA96rJav7LPywRwbMMGoSwaBtfXZdPAdAqvqshz8QL61yyEdP4FW+tVa3RZ8wnXH/r4JU77mcZoeun1661Wfgj8/abwfUbJFMZc/III2DPh68cuhp7jEMYf4bi7QOkDhjG28fKPWl2fc8T1kyNCRUw3hCPyYV1Awh8cESuw2DAgI5jAMoIsmxwACKHODzwMWkHIYUwmhClEIlRUm35eUg2fql288+FZWzqc5lVVnr99r9sgww68yBl8ERHawXwJ/a505qKoGM4IqzAj2KWANBEXspsKYooJ1lYZaE1hi+sQjbAcJogfZ2r9yIO36jvFX0tuCb8ce/vd2iH99D8cErPLv1ttCwL79W+ytQv/64NX5d+thATlqEJGuh0M6X7vgTQ/d1gF3jB9I0KeIPxWMYQYVBoEGIL0iWtcMXc/HZs2cZOLthOSBEZXBOEBVQlUKZGGcffSHivHBL5CeU300HuYbQTCHYb4AovkgCAjmEAQcsUkgEAwBn34AVARgYASWs6pKKeSQVj0eVXlE2am6xmXrD/wlfd3S9fsOHL9255HkJfjGVinRCLy2MXYrHgx6CPC9BvIQSuYQKBIwlSpUkolECAFPb4KRY5EGof0C35f3pLfvwPr6u9xbnXx9n7UN5vDBHDtsHfNNhnZTN6CoA/cL/AUpffZ86HYI0ivod+8fpqkQvoxqTIG5caIwiRCJKIoiM0mmlA0JqQ72qI/ybbqfA/6DIYYxQglVZEJkBaY5FB4BLiCItD+D5ehdYOBa1nth8MGxFu9TfrMCacD7En3AhveqC+YwvPiL1oMhIJhDMHTENoFAMARAgOEvZTAu4uZHKOoRTZWoqsiMNsuk9kHrOldV6qIt81YWuCrP3pdYO8z5K5RJlMoqcg14iWHgJp/LQWhkIy6c4TuSQYAnShmjiqp4qexVFIoqDx70CYyWwJAqmBAa+q28Z/7vIW3d3wpfGNK2QlR5h2zdO/S9b8FL2UV2ClHHem60X231vjM8ByDLEgaSrEo1QijQBioxxYOCrtA7BBuVum4LGKFguCKq6mXMQ6lXITIhij51gc5OKiXjpGhUVqkEszyMUlBk8SJrqqzBjArqXbsi+WR/C+bwZPEWrfUHAcEc+oOW2FcgEIgA92TWXzNoRAH2PyoquxXGZEK9kuJp8Xqu3GnKLTlp+3JH2ke5m/Ydu3qvpU2mCiGEUBCO9JljCkKSRtGKKTQWGX7RE+yjdOoAAliLIjd5yENJeyhpj2S1WVabYUF7KKu+n2qz1FvRmqXBlI5qW2Q1sDTLj1Ntx+Hdehjs8BapS1vd6wl2+GOccvcK/Wv6rNm/Z7cFuCJwaXorCFq3o3zXrkXSAstjnEWfXe11h8CGWvQ7ZCAda5HUVom1SmqLBHfmI5k9klizh7W0qq0tzNOuEALzwoEPolgOjgAKwox7UhFVbWfkIZEfMqVNJR4sbRpt08h4KrRFpc1w7qyVUQ+jCgMaQVQiwwgcYq1v8KvTy1bBHHoBRqweAQgI5jACLoLowihFQLfl9k3qgasAFrBbIsgcPApp9yoeL2NX7j5ylZ9bsHqPeWn+t7tPnr7W+KidekH1oHKvBzA7BntuMDvGoCchACWQOXDyQCi8JqvPXFy62rF43f4Fa/cvXLdv0bp9i9buX7Ru/0Io+LP378Xr9g+4QEOdy+L1+zpK0JoXrdvf5dguP/vq1b7F6zra6nLsoqBNB695kB3r1pNOEOEV4del5+/ghwfv+ZBuHUzHlqwtWrK2eMma4sVriwDetfsXr96/5Mu9y77YUbCrsu7mPcEc+js6gBwK45JGVPagvfnE7Sv7rx3bV3u0qO5ocd3RfXXHxlk5vrv22K7aY/vqTuy7dvzwrYs3W+4TGIwVRSNU9zTrL8ah3V8wh9DiKWoLJQKCOYQSTVHXOEOAUwfmC3HoS+/A7UQYoZAFTlKoTBiTmHrnobf0WL31k51pH+5YW3js+JWGB+3MQ5hCFEZkFfTnisogrRwDy6cQfPzMgS+AOzYh7Uxdnbf/71587b/MyPrp9OyfTs/62Yysv5ue/bPp838yY/5PZmT/ZGZWb+WnM7J+OmP+QEv2T3uv+Sczs346I7v3mrN/2kfHghw7P/ixfTUd/Hz77FhwxIKh/RNAO8h5YdMzglysIMcGP6lBbh0kJvN/OmPhT6cv/tm0xT+btvBncItm/2za/L+Ltf7naOOf31tVefw7cOgXn34iAJiBYT+9fL9+bYXjDefSV7cv+OOuBX/etfDVXYv+oJeFf9jFi3/NaF9Y/IddPZR/37no33Yu/MPOJX92LllwcMPBa8ckVYaJGwh6MdRxsR/nygnm8DgoiX2GBwHBHIYHd9HqGEDAp2LgEc95jD99HXdcBSttsOfGeEoEvJEfeejp+tbsr4reXJCzdFPZsfrWBg/zgt2SwqAQFWKeELDu7hzhqBtcur7DF0in23Zc4WMOul06MAdKvUzd4Kr8VdKCmaa9U41FU01Qfm8sjjWWxJhKYkzFBvP+HkuMaX+MqSjGVDzgYjAXG8xFPZbHqbnHAw3mosc7dlBNBz/l3jqGfesDruCYxMJ1KZ7aU4k1Qs29Nf04mAQ/qUFu7a1jfWJiMBdHmw9Gm8oMprKpxoNTTUWx5uJYc0ls6u7YORvnLM6pPH1VMIeeH/igaznZUjRWXXvqL99a/8/liT/6Iu6Ha6B8f/Ws76+e6Sszvr96hm/Zv3LmD1aPwvL1rB/0Wmb+8OuZP/oi7m+WzzSse+vrI65WTYZ4ERBmCofVoGAO/UbBHIYeY9HCQBEQzGGgyInjBAKdEfCJ6fAfnDshdBLEkYS0S0SjMpFlxSPTJi87Xd/49fajpo92ZKzaXXHmzp1muZ0wr0K9MlWoQsE9VIHJQR5YHSgEWEFBa/pMq88+CuOqYgzyzl3BX349A4azRFUGqEGoxNRvXDV/n7h8WuqBqcbyWKM7NtUdk+o2mMoNRneM0R0LK3sqqeWxqbDzoArU31N5nGp7PBD733eXejv2MQ8P3r3eKg9+lH/rYA4fzLH+DgzFwoA7ZnQbjO5oU6XBWPn7FPe01NKY1DKDscyQsjdmzoY3FmytPHVFMIceHvhgq2As4ZGWicqq6069us3yn76Kf3pL4uS8pMl5iZNzk+E7L2FyXvzkvFlY4nA5AdfHP5U3Jkpu/FO8wOnEPZMb9+y2hB+smfXi5rlfHnO0aDKEnIKpHoQrGJ5PYJtgDk8AZNHEABEQzGGAwInDBAJdEAhkDhjmFMJ1qBD4D6J1MEIUBSIatRO10UtP1jV8u/fkvOWuhZ/v2eW+ePVOc6tCJEgGoVAmq5oMbENXmvusoTra6wdzgJ5AIPwO5iADczj0/yWtmJpaGmOsiEnlpTLaVGEwVsaIIhAYbgSijRVRpspoY9XU1IppqWWG1PJoY3l0yj7DnI2COXQMA/1YwnQturUSq647+YecjOdXx03alhjhSILiTI5wJkU4EyKc8RHOOCzx+DMxwpk00Zkw5kr8JGfcZEfc0/mJ31sf97utb34BzEFRKKFMMId+3Fhi1/GJgGAO4/O6i7MOPQJdmAMmeejIsMYYUagsEdlLqIewZolevNGYt/dE+of5i7/c6yg+felGQ7sCjhGUKQyYg4LkgeI3z/bKJw31nG3IK7ihVK9OET61QzfmUHjoF0krphoPxhgrDEAe3DGplVGmimhjlQEKTPeKIhAYFgSijUBigTmYqmKMFVNTy6NT3VHG8ujUfYY3N72+cGvFqSugjxOffiDQnTmkP/913KRtCcgcgB5EOBPDnQnhzrhw5yxkDgl+5oAL/Oco/sazS+DfEc74iZ2Zw5fHHK2aInQO/binxK7jGAHBHMbxxRenPpQIcBMjUHxjglaIG84UwhSZKqBWUIhHJvdbZWfJ6cwVzswVri07j12719YiURldq8FgSVU0LJCnCdIuaBhYkTIgFXRgzIGpkKZufWHNL5KXx5oOGtAyBIyUgDnALC8UEyyLIhAYPgQqIs1VkWa4FcFyCYyX3NGp+6PnfvvXRVvdgjn0e+DyMQcYOLjOYd7zX8+alBMPhMGRGO5MDHclhDnjw5xxYc64cFd8uCsBS2K4CzaNgYJnF+/7Br3KJGfcUwWoc9jy5ldHHe3IHNAxTVgr9fsOEweMKwQEcxhXl1uc7JNEACkDmsz6fKnBbgkKMgGqqhJTH3hI6cnrS1YXvZGxafn6kgu3mpplChmeKaSDAK8EqmCeOPB1oBojmkI0yLCLdAJ8sNGdutfzQrWDvhs6bANzWFdY8/PkZbGmAwZjORZ3jLETc4iGGV9RBALDg0CUCWjDFCAP1ah/4MyhKGrulr8u2iaYQ69Pe68bOjOH+hN/yP2AM4dwZ2KYMyHMFT/BGTfBNQtLXJgrYeyVCc74gBIXrjOHpO+vj39x69yvjznaNVD4oqGpYA693klig0BA0zTBHMRtIBAYKgR4AiYfbYAUcagoAAMkplLCmKKxdqbebJbcZ65/tq3s9Yxvlq0tqjx9/UG73EaIl8oy8RJgDujfiDmewfFaUwJpQ5/MIdDPgalEUtm67dU/T/4w1lTsZw7RAcwhylQVtAh1hEBgCBEAymqEO3AKkIfqSHNllIkzh+LIN7cK5jCg0SqQOdDq+uN/yH3/+dUzJ+XEI3OI93GGWRNccRNc8WOndGILnZhDGLpzPOVI+p7OHJwejeiJ5lFPPCCcQ3iQ8JAOIZiiqhAjIJhDiAEV1QkEAhDwUwV/gHC+hjBVUZisqIqkklbKbrd4D124+WVO+ftLHcvXHdh/6MrtFqmVUg8F6yaI0IQeDaBAQN1DKJjDUmAOEPuy3GAqD2AO1dGmIAUMSEQRCAwpAgZjdbSpKtJU9aK5eoq5KsrkNoCHdHHknG2COQQML4+/iJPo6BtCNVpdf+wPue89v3oGMAdHYpgjfoJrJhZkDl2k7dFLJLqcSKefaJQFrg7IHLbMXX3M6YUseWCsBHoHXxi7x4c41HsK5hBqREV9oUNAMIfQYSlqEgh0RUBF8yQC4VR9CRhQ+idUlYkqEdWrMEmiioeyh156+W7z6vyad5cWLviiuPhoXV2T96FCPYzIDA2WeMwPrGhQzEFj67ZX/Xz2klgzMIdoKMAcIk2VUeDnALTB0GupMpgqRREIDCECENmp2mAE5vA7c/WL5qooCBZcHvMOMoeF2ypEVNau40zfv2EA0pkD6Yk5zJjgmoHkIQ5NehImOBM6bHtGKXnoRBUCFQ5omgXuHHGT/MzhKDIHzL8jmEPf95PYY3wjIJjD+L7+4uyHFgFdw4ApGcBSSUWLIwapHhQGSRsUlckUY7HKRGulWm2zvHHPKdOiQuN8167qumtN7S2MSKqiUIlSSWWyBqmK2OCYA123A5hDjLkYaUNX5mAwVsf0WqpE2FaBwNAikFoZm1IdkwoGS5w5RIMHPzCH6DnbXl+4TeRzGMCgBawB/6jmZw7TwUPakRjuiAtzTZ8AZQaYLYHAnRjAHDiX6CJ5j4KfPmdov1d04ALoHMJ8zGHKlrmrBXMYwF0lDhmvCAjmMF6vvDjvJ4GAX9GAr+0O5gBKcR50CbylCWUKJYoqq2ozpdcaPbur67I/LX7bvmnr/mPf3W5qprSdeiXaRlgbY14Mu+R3esbArwHnwkO0+rOggooD8jlAcgleJI2t21H134E5FEWbSkHhYHJHGys6dA7GatA8QMFQS4HfJmGtJIy1hhyBmNRqQ6quc5hiqjZAtr7ymBSdOQidQ8Dj/riLPTOHbZw5xIc5Z4S5poc5Z2JspXjwmXag5zRGW+pQPgSbxR9xXKJP5hDuipvoTPreN/GRW+auPeqU0FqJj8wwOA/zR1grDfMFEM0HQUAwhyDgiE0CgZAiwHNCY7SjgC+0rKWMQmAPJjParrDrD9qLj9YuXr3LsqpgjbPq0MW7972klUpe6lGYV4WorOD3ALmq4cPNEKCr3DqKL+jkQdXQcpdRFQpjDD2kq34+m/s5IHOAwJcVkaaqqA7O4GMOXb0aKobUwF1ULhCASKyp3Fqp8nfm6khTlZ85RM1BD+nTIp9Dv8clnTlAOAXQObzK/Ry2xYcXJIU5EiY4Z05wTfMpHLidUqDaYcSxgkGTGR58FpjD99fHR22eu/YIWCsRHCT1OZ1+YxzaAwRzCC2eorZQIiCYQyjRFHUJBPpEIIAzdCwyxqjvQyjzEHq7pf3gqasrNhVbV+1ctaXCfe7O7VaphSgyg7hMXIUB3tL8g62iaZRKwYWaO1RjDmpkDpDDGgsyBxX8HJKXxppKDKZSHpU12uiONFV3ZQ5dNQwV0SbBHIZ8xl2QB0NqNXe88TOHmNRyQ0px1Jytry3a5hbMoc9RptsOfTGHWRMKOXPwezhw5hDg7TCqFA59UYu4CWitFIHMIRqZg0cjCg6SKoygQufQ7R4SKwQCPgQEc/AhIf4LBJ4UAoGqcD970AMC4j+FgWP0I6oevnR/5Wa3cVH+h+sPVp6/davZ4yGQUk4DGyVIDQc5HiBBBGacU1WmQZ44SBunqZA2QkO1BANtg2AOQiIfLQgI5hDyoUgwh85cQjCHkN9iosJxhIBgDuPoYotTHYEI+JkDmBjpH4bZHoisaS1MvXCndcveM/8xb/17K/KLjl++1+aVZAJWTYRRlaoa0TRFU4mqMfS+VjTVCxnfBHPoamcldAWjBgHBHEI+UgnmIJhDyG8qUeG4RUAwh3F76cWJjxQEOF/o6A1YHYHwD0kfVK1FZpfvNDvLzqctz//g44KcfcduNrR7IRkEJRR3gb24GoKpjGhMBpdoMGiGAnRE6BwEixhVCAjm0DEahGhJMAfBHEJ0K4lqBAIih7S4BwQCIw0BHsqVmyCh+VGbTOsetDrd32V8uv2Djws37Tp58XbrIw9RKIE4S5qfOQBJgBBKmMyIVwDcQTCHUSU3jxaboqHrp2AOIR+TBHMQzCHkN5WocNwiIHQO4/bSixMfwQhw8sBdnhlEbfVQcreduCrOZ36+++3Frm92nT11raGxzUsYZw6Ex1kC4kBhMUDnIJjDqLHSGTpZfHTVLJhDyMcmwRwEcwj5TSUqHLcICOYwbi+9OPGRjAAG94DIq+ALTRkjTPFS70NKi0/Xv/vJzn81b/48p/rohdsPPZKiKkyDvHIQ2ZUxmaL3tPBzEHqGUYuAYA4hH5sEcxDMIeQ3lahw3CIgmMO4vfTixEcsAioGTSI88zQDbwdKMO20xNh9j3Lo6r1lmyrezNqyaPX+A8fr/n/23ju2rTTLF7Qcqnv67YSeHTzgAYvFAu+/Xbx904M3wGBnpmwxK0fnUK5c5STeQEpWsJyzXc45W7aySCqSYs5BOUcq55woilGL811KlkO5qtuudlebwoFN3st77/edy3B+3zm/85tyehc8bqdnwQ3mQsVKXhCK8/dW+tWGzr+uFMF7H60fObz37yY/cvAjh/f+pvKf8KP1gB85fLS33j/xv1gPAHLwLCLkgCQbXF4PgAdQmvba3d7xeUdNz+i9fEvK1ZLjN+X5GuvAtH3ONe/w2NweBzqY0otGTclBuBq6MLkW3e5F97Kewz/HnmWBnoOaiWuZoASnpRM/qRitA7VpMErYAR7TXyg86OiElo7r6LgOiU8b6biB7nsxVS9kWDoQPaWkqQkDE6lG0H1RvoGxJCJBbWHiBiaupxNgb49Q4QVL52TA63XIli79YteLS6ATLitUoOnDVXxzpJN68IlvsnomTulnL4tarJTTXnGSl8ZpoBOGlYOnHi9vYeI6Jo6GvTRrmD5S72bicEXmS2d7owdWXpqa2oqBwZiXjTqcGj91K/VodtR8tTAS3+V0y3eBQeh8g4Rd4KKlly2f5/UBLJ/nT3zgRw7v/bvpLwk5RKwSLpkg4uWAPmqVcFlQ4heVn/N3ZX3vbzH/CT8iD/iRw0d0s/1T/bV4wFerhNShvV5IILg8kE1wueBfh8c943HW9YynldQdvS5PvSoRqhvaB8dmHfMujwOaKbndHrfHgyjSi4q5vPgAACAASURBVD7k4IKsxaLb6/E6PKAE988bz7FIBUTJELyCQdRIhdfL/74atlLhpmY53ASoQOiZoPKLYlxSsxR2Gxi4CeJjUrMCPFBROApAffGxEV0R4ksEDCDGRcH6C6iwjBxorw7m1aiUToXgKOxGkEZLo4ANBLuUJDb699VImjoPFa8bIVAmNAxCQyO1gaSeRsAWCiyxkLAxdWbQOfZBEerwlXBiOXA30AkjDcw3KQaAGT0NzEBDUIEFnvdBBcoJSIzPzMBNCDnofwZyWBr/i3lRUIEK9I2vIYdl7KdZAjBaBpoydcUlNLV8kqW3BxonEzfCmH1oaiWS1DPAV9TlKEDy6g1agiU/vd2PHN77N9UHQw7CyFXClzEAwIZwnwkiAgRRyCJXCRBmEEatEi7LV7+CK14+zzsp0/mRw3t/i/lP+BF5wI8cPqKb7Z/qr84DSwoP0C2J+nO73U63c95ln3N7rCPzQk1b4qV8/rnsPEV9a//k7IIDJRgouQcPJSUN6hBeJ4UcFhFyeEghBx6FHAwMWN6mkMNPRnUQLKJgl1rUh/CUiRtYuIlFGJmkhoUrWYScRaghkwBr2Bpq4R9SE8uRPUHF8Qhv4HoGhtIUEPga6RBS62mEjkZhCdzAwowsDJbtaZABeNvw6Jh+6RJ6BqGmkRowQsfAjGyuCYGHFUmVF3H2UoSNmyBqJ7QswD+aQFK3gWegESYmoWeSkGaBk8BItHR4gZ4FOsfLWQh4AbU2vxR/A1qgEYZAwhhIAoSgIBACDwYaCXACToLrUJQME6cTWhqppYOSNyCHpVzH8or+j80dhfi+kSx5gJod8h4FV5DrEEpB6AWBOqQajlIivsEjaESlFOhwj+AOohtHZaUA4SDksIw9KLwE4BCBECOdMFHAA7JYb71Zb9/rRw7v/ZvqQyGHAEFkAArxqQfw+CXkEBmQF7M6L9oHHoRRq0RU2mHpZe8ED96CNPzI4b2/xfwn/Ig84EcOH9HN9k/11+iBZfCAhBl8+MHrcrs9XptnsX/OqW0e4p8X7j+cdT+nwjo0vwD5CZvbbXO7oXIJVKQ9LpfXl3NY9HicXs/DfMMfYs+xSQUTcg5UiA/L4W+P59BeFD5iFgaODLOgJW0dE7cwuRZ6nDqYWxQUl8vh5rMxOZOrY2NaCpPQIbDWsjAzE441Q3yM1vKhVgqDkidUKwUB9AaeLhBlKpgQWBvZKJxFyOEnRojKrjQsXMvCNUxCRUfggU7oWJiRw6VqbJYLbKjsyspEBKyXQ7hMaFkwMH0gYdxAmuikhUmuQA6o/ooOQIJCDis9pmXiGmSo7AenUJAuEMAA4B8218jmGlgI3iCc4INPdNxEI0yQhSDVNJ6KRuqoHAWka0g1SnesvMorj5dTJSvrjnyzY+JGDlfPxDUo86Nh4FoEflAVGRoeHcCSmY5b6ISZAXAFIRYKhCwlaui4nkbqKLAEmRDMBGiQVPtuGUAULR1eoEdgw4jeJAC9EPJ5ZbQ/96kfObz3b6oPhRxW50WuyQPwECCMXC2IWiOIWo2eroJsQ2SAIHqVIDYALDpAEBEgDA8QrchICMNfrmV6CxL4Y3f5kcN7f4v5T/gRecCPHD6im+2f6q/dAz7NOA8ovyHm9OKc2zs45zC1jlx8oo0/J/rhsaLGOjI7P+90L7jcDrfL5YGWS2631+VcdLoWnZ5Fh8PreiQy/EvsOTaBkANa/KYvL/P/BH6gQlULAytjYOUIBmjpuJqBQ2YgnCc/9LDirqzjvND6zYU6DmbicHVMnKr80dEJDQszMTGADYEkBQ/UTFzDxvVMWGg3MXADjdCt52kCeWomoWFjejbXyIJ0gQHiVPLtq+864GwAbQMMkh6kjkFqmaSejRuDMAMCMK8jBxOs7lNhNCq2YRF6NlReGemkkUaaIKT2VSvplzCMbyQsjEJcKBqGaBug0RJygKGCS0mYC52E0iYWhmCDL+wGdIG2gD8RjtIzCBUD7ojGx3CAQiYtqgt6S8C9nHBYLpGiUig+QgIHg/wAjQRj4FTaBKaMaqJQlI+D5wE/oIQPgjRUnZIO0S0Q/iENdB7CMPDK8kDSEEhqUVKISpUArqDQFMXQQFjCn3P4y/qy+VDIAcGDqAABwIbVAB4i18BjKhERtUoYs0oUu0oUAxVKKBcRIAoLEIatFoatFoSvfpUF8cfCg7e83o8c/rLen/7R/Lo84EcOv6775R+t3wOQRgC9Bq/Xs+hxed02l3N8wWVoHLiZbUi6lH/2vlxT1dk3MTfncjpddo/D4XW6ocbJ63QuOtyLTofXDcgh5ixCDsCFRaUmSwVCP4EcqLVtoDEwMQsgAULNINVMUhlzSMW/aymuG5E0jl3Kb9153ASL/RhUN23g6T7lGWiklgURvJ5OaAN56kCemgZRso4FxU6wnYXrGKRmPV9F46tYuDqIq+NwjbDIjeLyn1rD1jJIGMnSajfE7lA9RWjYuC5omcjhmx1VtrSccwAPQNkVaWCTEN+zCT0LgAoKf3FE1cD1bBj8C7ozlT3wZWnQOj2qVoLCHlSrA0VNgByAL2FC1UrAAQgkNRt4ShqpZhJaDqblcCE9AmOGsiU9C9OxMQPKTpjYCGks0ZHfAh6WoAvkjpZTEAhI4DoWpqWRhg0kVEwxIPUByA1RUKjkAMoIQVGZjkFo0K2k6o4AwtF8SRhUPUVogf6BGwLxik9JMw3OpmNASZKOQQKbBQ6HicMYlgu6fkYK683z8ucc3vvX3IdCDqsEUQF5UWvyItfmAWZYI4xcLYxYLYjwgQdh5CpRVIAoerUwKkAYGSAKX4UsQAiwYc1SpdMvkHnwI4f3/hbzn/Aj8oAfOXxEN9s/1b8OD4BAHHCoPYuLLo93welecHhcU05XhXX4jsC872TOqfuKIrO1Y3TG5lzwOOyLTiBWuzwAHjxet9ProZADh1QyfRXqaIHcR1N+czC3FAVqGYQKqmgg1jdBxA+wQR2ZosDvmjLKeky900+Vbdyr+hCejIkb2Ig+sZ5n+E8+5BlYaFWeTgJs2MBDJARYetexMSWLW8rGZCxCGchX0nhKNq4J4uqDfjZyQEkJRGwgdYFAMDAi8kYpG5NwMAUH6oiWWxgtrdPDliVDFUpA9Sb0bEzHwRVsXMLCSti4koGp6NB7CrYj2OOjO7+GHHy0DQo/UCU9NFKzgdR/SpQBXwKSG6YNhH49D8qHWLiGg6lgyrxSBqlkYAYmVsYCMGZhcS1srhkIHsA/efvtWGJmr4QNwNbwETDouCaQNGzgmaDyCrgWRgZmhiQDvEDHBMoKMkjXKFiEClWv6WkYUE0CURqKiRuZ3DIWpmPhagahX0+Uf0qU0XEtiytlccVMHKgyiAQPIIQFTHRAhghLvD1H9LZ5+ZHDe/+m+pDIQYCQA8CGCIANovA1wog1CDysFgCiWCeIWieIXCuAvQEiwBKrhFR1k48j4UcO4zb39SzTifsKeUWHG778qT+P1wsaoKD7swh32P/n98CfxwN+5PDn8bP/Kn4PvDcPeBcX3Yi/sOh1eL12j3fB5XG6vK5Zl6d5aO5ece0Xh9MTb4iF+tb+yfmFBbvH5fC6XB6oWvIA6cHrfSQy/CHmbBBPBWGfr+fpz8k5oGV4UskglcD3hYSDnsXTMHDF5+e018RN2u6Jx9LGPadLQ/BiBqFmxRuZmJ6OmwJJy3qemU4gBgIEoGrUuchAA/ihCyaVUQklG5MKIniFHFzC4Cs3EAoWBsiBw6XWsFeW4rw54qSIEDRSv4EwrIdqKHNIgj4mqXhjYmEUvzQIVy21MFrKM0CSYbl4yUf5peMGGqZn45owvjg6UbgxSRROlrIwBUIOBsTZgD6tVPcnFoY438spGsQehjgbwn1Yg0c5B90G0vgpXkbHgfLBidPT43R0TMPE1BxMGYRLWbiYyZfSSTUNM9HxChphoRFmxJA2w4B9I3zzlJew3FJ5km8kQGPw9VMidTRSSSNVqFpJj7ajGiRUmARMd6iwAnI8C1ezcBUb10GlFlfH5Ko5pIpOKOiEmoWbOJiFzdWxgC+h20BaaERZMC6LiS/YlJwfnlDKwFU0aMULDazYGFVa5kcO7+3D/r5O9KGQA1CfodFqxGpRRIAoHFnE2vzoNXlRn+TF/pfcjf+YvfH3OTG/yw7/JCd8rSByNZCkYwOEMQHC6ABIRET9ArAhchXUQUUEAICJ+duHkYxn++6XCeYXXU6vx+X1eNHCzPvy/J96Hi/CAtBk2+X1+JHDn+pG/3G/iAf8yOEXcav/pH4P/KIeQOtLHu+iywtpB6fL5XCDGJx3xuXpnVt4rmokfsiPO537UFjZPzFvczhdwKz2IjFqh8PjfiiiGNJKKDih1t1Ry50Vwegbo1WqgAfxgDELAyuHMJqnYhGyaL7g8+Sn+w7f2817EosXBuEqOmlkxltYsPZvpuEWGm5hYlrUhJTqAAs1MKjaXrXlmOq6tE3cOnU6q2ljspLFkwfiSham5UD1DsT3VCnRT40NMXRRC9T1hIF10Bx3p1VYO5Gu7ccvVbAPSJlATaZYDUBsQGdbRg6ozSiuh/GQZgYh4z+oSC/rL6ib3HveGJmgRa1RDWxIXACTG1GB9SwMuc4Xr0NEDlAKkIOPjY0asBoCCUMgpmFxBSH700O+f87+Np29JzN4X07I/uyguGwOkU/HFIGYMRC3rMf16/mqDXwVIlXDxH8Wz4FqOItyCHAIxQahwAOpoePFbFLEIfLZuIQJkh1U/RXF0NAyENUbZDegw5WJza3gxJmC4xTheH44nsPBhSxcysH1HFwXhO4djTQE8gwcQrP3gvaJyippnT4j6IlM1tNwfSD41sLiljMwCx2YG298//zcjf6cw3v/9vhwyCGSoj6vESHwkB8VUBC7WrTpb7K2/tfM3f8jdy89n/xX4bf/NSPyNzkha/MjA0RRqwWxYFTDJT9y8COH9/5h8J/wnT3gRw7v7EL/Cfwe+AAeoEqWPEgpzu3xAJUBpOI8HrvL3TU2K9A1HL0n4Z4VXMvUV3eMTthdDg8kHmxzCzan+2G+8Q9Iz4GOQ87hRVfWnxPwQX2RnsUFkjS0HOWpwxJKjz6pEBrapebmG+mWL1IkQZiMQeppOPQpYhIGioPLQtU+KLA2MnEzA7PQMAMdl24/WZpu6aoeX7hV2Lo9RR5EyJi4Bi4BugFLq9e+Cv4fTz7AC6DCh4HrNxAaTrIu+WmDpWdWVTt09FZZyAEpCvSXaADLq/LUfIFoAXVBNNwYSJqYpORweqWsfbR8YJ53WR+ToGGhkiE2cK+hUdIbkAMaHoINUBGEAl9oUQoFQjzDxsP6q8WtovKe4vLufEtPQUVPUUWv0NRzX9ISf1u1PaU0HFcEcbVMTM3kK2h8BQ06F0FtFQW03gqZliqvfOVJVGhOER70QfGanac099Qd6eb+w0/r6HvFDEiGUO1x9dA0idAGEroNhG49kDEM9DhzJN9E3qjJMffnGHuIa8qoBDEUenE1TAxKy9aTWjpfEZNQdK+k0dgxIa4bOXBJF5agoaFWVIglj5ovvSiX+rlQ4ZU5+pHDe/9G+VDIYZUgPCAvbI0gfG1e5CfCmE8Em/4me+vv0z/7/4pS8NqM+/36jD79ocYn/69o9++ygtbkhwSIIA+wBrVqXQUdmfw5B3/O4b1/GvwnfFcP+JHDu3rQf7zfAx/CA1Rhq3fR61mEUlcXkKDdHmAzOFwLLlfH6GRxeeuZZ+oDp7JvZuv1Db29U/a+cZta39gxMHlXZPqfG88zSSVCDgaoY0GEhCUtgrcGfLgBkXehJw+02eEpd5xSpuu7e+fcYzaXpWE44ZIynChm4io69DhSIWE1PYMwMaG8hyIDQJdSBmamgZKDeMep4tzKzubphQclzbsOSYMJGRtaqUIhEx0U2dTQVQlW1k1IlHqFqgOpZwBV1ycbx4SiGiMTKvsVnBTF4YzqmoFpU8Pg6dvmsLhSFg4s5CViw1I9DyVehhvZwM820HDjBtLA4pWcyKrQdY02DNuSrqo2JaiAug08BxUb01BadVDhg6kZMEJUzQ8dihC7gIIQwOq2oG6nRg5f99UZvaJ1stfusU7MWzrH9NaR8p6JuqG56oG54qqux+LmlKuGHfzSsDgZB9ylRsE9yCkgD7zei3Y5VeLDCUiEm5qRkQGKCkiKAdOExqv2XDLq+ubqptx3JJ2MPYWojMpHjaABctBsILTrCe16YJ5o6ZguOlF7Ir2xcdrbNOE6+dS46WAJB1czMAON0Kwn4WXBSXLylk7eMKRuHLqSU7UxXhREqhByAKoMev/4us2+AAPQ5IriPCyPnJIh/9G3GSUYQiP060H4wsjCtZDw4croezK+PZWpq7W6P8RH7tdwTWjD/HLJu2/L68jh9/fC1mVErs6NDsiLWiUIXyUMge5GlBwbqChEI3v3wD0iQBC+Oi9iXV7U73I3/VP2rv8nj7tJdeVsk1g61dHunW13jaUNyv6j4Ju/zWCvEXJWi8LW5kWvzQWRh1UfebUSvOGgWskJ1Uqe61nGE/flr/Ec3H6ew6/hg/nXNkY/cvhru6P++XwcHkD1SiAyDcjBgySjIe3gdLkWnA7Hgs3tGLIvmDtGz9yXEacyf3iuEVk6BYaOpDN5Jca2HzL1/3PjJRZ0IvLpGVNKbUzg6a5oNvqmFASdgOY/LExPJ7WBPA2dJ+XdNyuah8ac7kmbY3Bi/nKacevBIiZXxiJ1LELJJJUMnoZB6plQ3mNgElAxz8ZQ5Q/USol3niwRVHW2zSw8Fjd+fkgcgkk5QFOGFXc6od7AU9F5OgiIgQnwQn0ZavRJqo5Ij1oYaRiYGY4i1DSejH1IlppVBcihHpBDaFwpE/gVwOJd0pcAugJqRQpE5CAo8dfRcFiAZ/GKTmWXm7pGW4ZnD12RbklQAM8b1wdxVRwMPIYU3DQcTAFSCcBn0DFxIw030Mll8GAC2ICD2EVIvGbfWa3JOtEzvaCvH7yaXX42o/yqqOa5uk1RP9Q0Ot8745YYOw5fUW4iioOBDgGwCskmUH1dtXSY5jLbGArGEI8ZsRSQgDcqCUOJI8LAws0spD/NwNTBfOWXZ7Tpuq788v5Tz2pZ+8WI1Y3oE6CYoaGTShqhRiwODcV0D0uU4XdMouqh/Ir+hBuamHgxG1MzSXMgqV5PqjeQqqjDmitF7fKG0fsF9V8fLg6Oy2fhKjqhCwROBRoqkp/zvYsAjqKaKKosCkg1OoTfKK3xZSDxKoSgeOE0ArpC0QkjG9Mh5CBl7Mn8/kSm/uNFDsvA4JUH1Hce5CEXF92Qh6Rq5BEbCmnQQy82aq970WnsLv8s6+Dv70V8khG1BpBDJEIOYYhRsAwYYpaQw7uDB9BtWCfc+PdZ2/5ZiH+rv5c+Uqux9VfMDLXNjfc4J3P7ZBtEX/3dc9YaQdBqEWQn1uZFrxb4kcMycvCOzXuuAXKQvYwcfF32XsaKH8cPoH+WH9QDfuTwQd3vv7jfA+/ggaUOG/C/B/TeXA6Hw263Lziddrdj3uOcdbkHJpx3MvV7TuZsTsnenFoUFZd9IauMd0P6z1vuBPENTNJEI4xQiw/r+vqfhxz0rDgz6qCqovNkHH7xLWlTVe9479hsR/fE7IInu7Ru3yl5MFfB5JrZhIbNVzH5KjquYnPVqO5FycFLg3EJG5eB8AIu++yUXFjd3T7reCZu/DqlOJRbEoxrgnEtrHYTyg2kks7TonV0qJ4PJI2BmJ6BgVg1m5CzgfqsphGKDaSCRkCvJxahppMyTqosJau2amDGWD988nZZEFfKQO2VUOiMpNZA11kHCtOknoOpgjEFB5MxMCl0mCUKTmSWGztH24ZmD18q2hpfysE1DNIQQug4ULCkY2K6IEwdTiiDcOgrhfoIUVrRZgZpZhEgbUFpRDAITVi8EjunLW+faOufSytoCt2bF0JIOEQxe3/u9gThY0lbff9cz4xLXNGz+7AoNF7HhsONIFZNauh8DZ2vYvBUbELNxDRMUsci9SwCCqsAS4Dagx5dzkjHVQzoB6UKIvQcAGxaBqlhxqs5PBnz2yecrx8H7c1l4woOZmQRZgYItylYhJzDl7JIOQfXhGH6YK6WSSpo8eINhGDD90+Z3z0O5eYH43ImF5qxIqa1mkFqolP0x583XXhadeCELHSfiI1JmRSaAvkL/QZCyyZ0wZiOw9UxuFBsxgKPqRhwKw106ONkZOFGGB5IxS1rUb+KHHxK28B0hzayHKCtqxmYmLknfe+JDEMN5BwQdH6HD8/SoYC+X7KXn72685XnP/F06SK+/1+J9195+sqLX3v6ystXPqUyDVTrBBeqYITvBDgDEoJEbRGgD8/iotO9uGDsrtidlfj7uxG/yYhamxuFkAPSX4OEAwUYotEDYDa/I0E5AHTfogOEm35bsO2/Ze/eVXZTsNCm8Yze7y27WCXOaTNbnaOiXjFd9MXfA3IIWSWCDktrBNGrBTEBgpiPs1qJShAtLw45vYuj855r2Ybj96WyCqt75fc+evzaW8W/we+BX9YDfuTwy/rXf3a/B35pD1C/Ix4PCL65XCDiAL2W3F6gPThd8wvumo6p85nVMYekQfG6IK5670XjlpSi/7HlCeLgotJ/qkcnBHagWfaizuSNOQfgOZhZhIZBKlg8edTBYmnDSOvwnLG6O6uwfHjOaWgYPHbXHMaVsHAzk1CzeCo2TxlMyrenyremyGP5xbE84Wepot1HC2IPlobg4l0n5LlV3W0zjrSi2u+TBVv5eTsPF+86WrgttSDmYFEILg0CqQFKG0HH4JlYELVLtyQUfX6o8Ksj4t1HxFsPFYfHFzK4pRxczwZOgjwkWXIko7oakMPgydvmEMg5gOozQg6UihnVllTNwWXheMGmxMKdRwo+O1qw/XBpGJF1KsNg6hxpH5o7elmyLQGQAw0kEbR0XBYWr9iapPzikOz7I6W7k2UxfCkHlzEwbSBmCsTLGLiFjRmCuFrUiAm0GsLi5dxzhsr2SevA3LPillBuARtXQLYE14Zg6h0pymeyzobBuer+6UuCusiDpUxcxiA1dJ72U1LC5BfFpBTtOlL8+WHxzlRJdHxxKFYaHKcO4gJgCCT0NCia0nDiSjcml2w/WrjrWMGuIwWxSXnBPCGdJ94Qr2KQmk2J4l2JxVv44mCulIMB7OEQioh4ydbU4h3HRNuPFmxJKorFSyJxFYuUr4+X0BNLYlOKPksSbeSVhOAKilfNJhQcvDSML9mWKsXPig+eLog7kr8zoSCcWxQSp2BjejpMX8fklW5NLd2ZItnELwnjlmxJke88LN15uHRLcmkYKQ3C1UGYmcMFrvwSbPjRsiU6tNY1BZJmJmbi4JC8ouNFrH3Pvj+Rpqtpc/s0TagmOC9ifV8EDXInP2YvoQQI/D2elwySeD9ur7z4j3oKw6QG+GP//vh1fe1+Xsx0eRoIuywjB5RY8Hq97kWva9Hj9rrdi3aHa97pWgD0AODB7XGaOqs+z0j63++H/SYjdE1uZEBedIAwchUINkctFSlR1UpoI5QwvUVS7Sd2IQ3pqNV5sb/N2/x/5H4eW3bx6JD4y6pH/yZIjZZcu9Wmb3WOCfsktBXIIQDAA0IO0GHpPWQ83jT+v+jeSn7k8Ev/aPrP/44e8COHd3Sg/3C/Bz68B5YXoSBc8iDVBs+i1+1xO5x2u0tT3pl6RxeRIGaSeuYB/cZENftAwf/YlkVHxf1siKcNLFyLxBaWq2JeXwamtqClbhAE0NBJVWiy9sA1Y1XfbFXryNO8ilO35M2jtqbB2buCui3xEhaAEA2L1AbzNTtP6J6ou++XtFzKqLiWXSEwWgvKOi5k1X59SvH5KYmwpqdj2l6gbrj0SPOgpDHH0iks78jStd0Q1OPn9Bt5cjYhpfEUDL6GzVN+dtJw7HFtWml7kbGzpKwrv6wrQ2u9Kqw/8IMuJl7JhhSEMiRZejSjtmZgBlUrGcPiJEC5ppADoQ0E9rYBYndSvjlJfOxR+YPSljxTR35ZR66x+4dMc4aiuqprsGXQlnpNuSlRyiRUNJ6alVj6zRX9+dzmDFVPsalHbukp1PbcFrQQV8wRpBilI4AfzMJ0HEzNhqwINEcK5av3nTNVtE9ah+bSSlo4XBGTUNJJPShOYHoOUZp8W69qGOiYchSW9+9MLQwmiliELCRRufW04mhWzRN1W6Glq8TSVWTqvlfUnHTduOOgNIwrZREaSBOR6s0p6qOPax8rrXllnfnlHSJz+xNFQ9I99ZYjYhZPGn5Qf7vY+lzacfR2RciBkiBMFc6T779ouiZozjZ0iSwdwrKODLX1UnrDFr6CRZbSE0u/uGZ6oOzOlLTFndaG4zIkD6eMii8mrhovC1ue67rFlg6FqV1ssD4vbT31qGJ3ojQcNb2lAds+93pxw0NJ3fk049H7pifKLoG5J9/SnanuOJ/R8HmqMgrTBscBb+Fn5BwgNRRIAuOcDVR7JR0rpn//fM/JDF1NOzSxf5Mto2joJfamP5+G4vIHBh6sPNNLO/74JytPBR2QXzYvFBP9iCFM8PLhLw2M2rViRC/jG2oHapiwCE3U3B6Qj/d4be7FsqYOeVljRdvA0Jxr1umed7v1nTW7M1P+8X7obzOD1+ZFIOQQESAMXyWMXMFziEKizmEIUfwEPHhTaO47hBJ9W50XszZ30z/mbP+/i/b9m/zgfy+M+4dnX/+n+Oyldt1K5LBWAAxpP3LwI4cP/5vqH8FbPeBHDm91j3+n3wO/Bg/4KhOWljLdEFUsej0et9Npm3dKdY2n7qm+OC6NTlSFc+Xh3CLad3n/+rkIRIUJAxuHlXgWpkX02R8DDMvbqcasRjqpC+SpY47rb5Za28bsEr019ZJs/0mxtm2ia8pRqO3Yf0rJARqDjoXrQ/maPZeMtePuxsHZ8rYRc8twff90w+BMpqaLuKb54lSRsLq7Z8Ze0zagqOw0dk5pD206UwAAIABJREFUOkbK+iYaRueqe2dzZR0HTijCeSUMsjT4oHLHceUlYbOsfqx+wFbbM2Wyjpb1TdUM2yp7ZoT6LvyCJjJBHkgoOCnKw5kNNQOz5vqBM7cN4XElbEzLwvSwgg7Sznoa0AnUWw8pjz6wKBpG6wbnavqnzB0jFb3T+ubBCmtv28hY45At8YYmOllGJ2XByfJvriofa9t11snynmlD25C5bbC+d6bCOp2t6uBdlMfyipFqhB4VEYFENIgq4MZgvv6788ayjknr8NwTcQuTK2KQSiiUglZOWiZf9tmJwlxDW++cu8I6uf9kcSRZFM6TfH1Gc1vcrGqbsPRMWjpGy9tGG3pmantmC/Rdx2/rNhECNiGjkfLNRzWn0mrUzZO1Q/NVfVMW62hV10T94Gyewcq/qQsjxZuTtObO2dbB+YcFzcEH8jl46bdn1Q9L2io6pmv6Jk2tw8bWEbN1qsgy8lmygsMr4SSJE9Nq6kY87T32I9fMEVgpi1ByDkrib2pztZ2WrtmKgbky62ildbRxYKZxeF7XNHrpSfmXR1QhpIqJKxlxz5XtI40jU/qmXmlNj6lr0tI50jAwZR2zl1knLzy2fJmsCjugRshhOe3wRrAKe0GNjgT+BhvXsAgVHSsN/Dbr22M50rK2cZtjwuaYmAebfM2mbI4ftXnHzLxz2abnndPzjhXmRFuW/rU7p1+Ya9ru8u21u2Z+1Jwz9mXzvWzW7kLmnrO/bAvuOTAPZbMO96zD9Zq5Zx3uOYfb9oo53XMrzObw2BzeOad31umZc3pmF9wzC65Jp3vIsfhUVnH0QemFdFOuvqusfbxrcl7aXr8r68Q/3Iv6bWbYuryI1XmRAcKwAFEoAgmwGI+QAIUcwhFt+k9HDgHCCBCHFsasFsT+Nmfjf8mI+Zvn0etyNq/L+uzfZGcvWnWtrhc5h2XkEODPOVBUFZRRWqpW0vurlX4Nv8YfxRj9yOGjuM3+SX4kHvCtoAKEAEEjp9tlc7haukfExrZbeVUpN3XYKfmXKcJILHfDniImH+EBpD/gEy8D0vDbq5UQQ5c0MngmGk+947xW0zXZNel4nF+zO0m4NUmcoe3pmrCXNQ2fuV8OtS6YnsEFrbe9l/T1Y+5Ru2do1llpHcuQ1D8uajyfXvvdefmuUwU5FV19swtj886GvukcU9fxp/of8iqKa/o6Zp2Dc+4rTy07ksVsrCj2kPRMenVZ92zrmF3bMHBbUJt6z3Qxpza/rK9tdH7CuZhWXP/1SSUNl7JSNMlZTdUDcxRyCIsrYuMqFlAdVHREnKDj+iBCwb1iUjZO9s+7KqwjaeKa00+0N4vr1C1DHZPTww57/fBc/A11dFIpiyfZcUb9QNncPm2v6p18qqhPvCfl3Zbel9SXd423DM2IFI1fJuWE4dBRikZoaDyQukP0a1MQ3/DNRb25c6J9xPZU0sbGChmEClozcYEyTufLog/lP1S0dM142gftSReVm3jiXanyS5k1A7Pepv6pDEXj8cf6I/cNd/Iaytsm24fmxcaOr5JzQkgxm1eY9NBi6ZgctHnUdUN3BNWnH+huZFXKqwZltSOn02sj+ZLNB9WVXbOdI3OPiurZWDadLDibW1vWOdE+PJVRWnHijvrYbd2tvLpHYutnh+Qh/KKwxKLUpxWtw67uHvuxq6ZIriSYJ489IS6s7reOzdf2TDxXNh9/aDj2SP9Q1mjsGh9YcFd3Tp18YN6YIA7CJJwD6dq2kWGHp3/OUTMwnaZovPhM96SwprxlfNTu1FT1plw2RByQMuKgOSwwswFfvY4cKHQKfOsNPAQ+MTWTUNMwxYZv83cl5twvqNQ09Gkaet9ousZefVPfSjM09a00U3OfqbnP3NRPmamp/2UbMDWDmZsHzS2Dlhc2ZGkZMjcPWpoHLC2DZa3D5W1vsLK24WUrbxupaB+tQECrEv1bZR1dYWNVHT6r7hir6hyr6hytXmldo9VdY9VdYzXd47U943Xd4/Wv2lh9D7LusYaeicaeqfreybreiYbeiYaeibruieqeCWPP7Nnc6p3HJRG8wu2HxKfTyoWW7sdl5ZvSL/zd3W2/TY/6TW7kOkF4gCgkID94FQUeoGwpwkePhlKld6pWgjxGfvSq/NgAUcwaQfS6vOhPcqMDBDFrc3b+m+LMhQ5tq2tM0C8JRNVK6/JCAGmIIkADThCzGggS/molr9ND8Rz0Jx5IZaAhDdmolX8fya+bf5p/OR7wI4e/nHvhH4nfA+/HA6gGetG96HV6PU6va96xMGVfGJp1dIw7Gnrn9Y3jJx9bNnyTwQTm8VINEqFGjGFoZcN4G9UBaK9MTEfHDBy+CrttGHB7O0bnzz4xceLyQhKUqffLqjqnrIOzGeLmiDhBMAGdRkN58n2XdC1j7rH5RVPDyIUnlu08wUa8MIIQc3hFW86UZlR2ds4sVFtHbmWXbU0URvJl0XxJwi1zYUX/iMNTouvAL2gjyOKvTiuVdWM9kw6JuSXpimQTrzia1MaQsn1nFE+K66c9i819s8fvWdhxhZxk9cGs+srBWejKescQElfAATa2mkEoAnkyOqlkkurNhzXnchrap9ztozOXnup3JxdFJ0pDU4q/u1yUV9bSbVtoHrGlXFNtixdH8cT8W2V1Q86ucfutLN2ulPTghCzGwbyNqVl3iyqb+6abu6biL0hiE0qZhCrQhxw0dGgXawjm6747b7B0TLYP29JK2jgHipmYjs01BsWZOFxTIKkKSyq8JWlqm3B2DNiTf1DHxBfx75oVTaNTds/9TOU3x/NCEgqCDkqj+YXXc2pqOsfru8YP39RExJfuPK18pGgbnHU1dE0nXVZsJguicHEsX7wjOf+7s8rtx7QcUh110GDqmGsZnrlbXEnH0+jxopuyVqB/NPXyzmVvOVgYxZdExxdF8/LY+/I5eElkouTI08rWUUdXz+zJG/qNRPHGQ2ryWUXl8Gxt5/CDXNP2hKzI+NKQ+NKY5MJDD7R1Q7ahOfeTooZvj8nDuMXBe9O1zaODdq+5bezEY+OW5KIIsmRHUunZx+V9No912H7+YWU0V8aBZrjLyAE1XHqZUcNE8nZ0wrCBBzkcFqamY8r1B2Trvy3gfP0w6sCtTeSNFXZ9E/nCNvNubOXfXGnb+DdfsvhbO+Jv7Tx4Z1fiXbCDd1bY3Z0Jd3cevLcr8cHu5IefJz/anfxwd9KD3UkPP096+HnyQ7TxwefJPvvi0KMvUx8v2ZMvU58sPYaNXx9+8s3RNJ8dS/v2WNp3R599d/T5sn1/LH3Z9hx/vvdk2j7KTqXtO5W258STvSfT9p9+HncmAzufFXc248CSxZ3JOHA63Wen0uNOPsdPZxJnc5Bl8c5kxZ/OTjiTzTubwz1fvD21NIyvZhNGDq6N4RXtOpy97cLdT2+l/u7Otk+eR/0mJ3xdXliAKCggn7OEHKjerMu9laLfUoz007tACjoGeAuiyDWiyLXCqDXQ7zXmk5yd/y4/fdmqbQPkIN4g+vzvn7Mo5LBKFLEKAEM0KqPyIwcfcrieDTkHabnVBUVwL2GH9/Oz4T+L3wM/2wN+5PCzXeV/od8Dvw4PUCJxsC7l9njd0LN1weWxL3jssy7HtMM9bHPdzLP865brVMcbKKqhet3gIMMMyOFtaQfEc8CAvbDjpO6KqHbKtagwt8f/IAviFoTwVN8cK1VWDfRPOHRV/V8mCyOIoiBcGsqX7rusaRl3dU840krqv0wtCcVkUNtDqgL54k3nJBnVHdaZhQJNC3FaHBJXyMY1QZj2i2O62/kNY05vbcd06g1TDCHCL6usYwvdYwv3hOVbEnKDcCmHqwniKiP4Et4tQ++8t3/Kff15VTS3IDxRkZhdUzE4Y2gcOnnXHMQtpqTlGIQykCdnkAo2T7H7rPa2pKV3zm1q6E65qIw5IA7CtTSeMixR9IOwrKJ7rGlgPvWKdnt8ya5D0ouZdQNznpa+8btZGvxs3t7zBd9dluy5IHhUVN7cM9kzZj9yW7MxSc5AOQfocEpoKO2IEL527zlDGUIOTwE5FDExDQczBnHN7DgTjdREpBTekTa1TzqtQ/b4S5roxMJjWTW1Y/ZR2/yd9GLiUs7XPxR/dVn5/ZmSW9nm6vYh69Dszdz62KTSPVc1AktX/4Q9q7jpqyPiEELCJjVsXBVCSiPilcHxWhZfF5uiNXfPto/aHhU1cA7kBuHFZ7LqjdaJttHZPFVzwlXVloP5IdzsECyPw5WySVVYouLQk+rmkYWe/ukTN1TRWN6OE8r7pj7rrFNqbEq9WBx1QMgBUQsdk5B9c06Tbx4YmnVJzH0J1wwhXAEnLk3dNtI14xLqOzcdFHFIBR2aQSm5V0xtk+7+Wc/lZzWRXCmTS/VjXS5YWq6FW0qCYWYGZgbBEAIEudnAllHTcdmG7wXb4jN/SDfl6dvz9G1vNl1rrqblhWlbcl+2HG1LjqYlW92SpWrOUjVlKZuyVE3ZqmbKspTNWcrmTEVzhrwpXd6UIW9csqYMRVOmojFT0ZihaEiX1z+X1T+T1qWVvrBn0vrnKyxNUve4pPpxcfWj4upHRVWPi6qfFNeAFS1b9eNCsEeF1Q8Lqu7ll98rKL9fUH6/EFkBPL2XX3Y3v+yuqOy2qPy2qPyWqGLJym8Ky28Ky8AEZTfzzDdyTTdyzTdzTbdzzHezLXezym5lma9kVcSd125MUAVhmhBMEYML9l8swNIyQ9OP/+5uzCcZ4b/JpZBDSIAoZJUwDHEbXkEO7xi7RwVAo6TINaLw1cLINYKoNXkxAcKNn2Tv/E/p6Svt2nbXeN4K5LBaGOFHDq/zHEbmPdezDSceSKXl7X7k8Ov4Hf6rHqUfOfxV317/5D5GDyDkgBLaiKLp8bpBWtrttbu8Cy6ve97rvS8y/SHmIio3h9okKJ4BhjSoif1UtRJ6MZTiSOJumaT1Q3PORaGkLOVq8VfHSr46oeSeLpZYrAOT9ubOyRM31Fv4RcGYNDRetveqpnnc1TYyfz3bEk3kcUDvTE/n6Wm80m1nJLk1nZ3TC1nF9d+llITgSjrSBNiUpD6dVj5g97QNzJ+8Y9rKz0u+rR6wu5sGZs8/NYdwBQxSRSe0DFyzgVu685y6ccY7ZFt8nNewi1ccnSBNyqquBOQwcuJuRRBEq0YGZgBpOZ6KSapZpPzby8Zn+q7BeWeJtoE4IY3cJ+Vg0J0WurKmWwxtw0398ymXdVsOlnxxQn67sHHc6e2bmNXVdRXom4tMrYUWq8jUbGnp75+Y75tynHho2ZSiZoDCg5ZFqIHUC42qdCF8zb6zxnLrZBvwHFpZcYAc2JiewzVASyJSEXs4/4mquWva3dBtO3BWtTFZfCG/yTrnnlpwGKubi0wNuWVtGWWdeaY2bX1P1+hM58j84+L2jYdK8Pu64rrezhHbtbTybSliFk9G50OfWRb0QgXNB3a8OvaQtKxnpmPU/qSoJXhvfjBXuue85pG0pbJ7srFvTmzpflDccOyR4ZtT4hBuKYfUhiaqU57UNI0sdA9MH78pD8cyPzujKGmdHph3ZxdX7EsWRuwvDcZMdOAuK7ee0Nwubu2fcWjrho/cMwdhOcy4p8r2kfYpx3N5C2d/BhNXBJJGGq7ac8HQOuYYsnsvZ9RG4FIGpkdFSlRV0mvVSj5FCBMdh5bBLMzAxtUsIIeIA/dmfnMiW2yxDs15h+c8lI3MeUZsL2x4zj0841ppQ7POJXMNzbgGp10D066BKVf/pLN/0kHZwJSTMrTR2Tfh6B1f6Bmz944v20Lv+ELfOPzbO27vGZvvHpvvGrG9xTqHZ62DM9aB6faB6fZ+ZMsPqKf9M+3902190219U619k429K6xvsqlvsgm2TDT0QJ1SXfdEXRdYbfcLq+meqOker+kar+4co+qgqjuGa6wjNe1j1W1jFe2jhtaxi8/KvkoVb00Qcy9qf0ivzNG33DOpt+Qc/bsHkZ+kh36SF7FOGIV4yYgh7asOotqzviNmAHZEADLgSQvDA4RRq/Ni1uTFrhZu+iRz53+Wnrnarrci5LAe5Rw+yQtZRg7QyxWaPr2HMbwpMfIr6600bHNfzdKdeCBTVHb6kcPH+Kv+FzZnP3L4C7sh/uH4PfDOHgBy3Qvk4PWAuLTT63V6vS6vx7Pg9TwQGf8l5mIQop8yoMOSno2BbDMsk7+h7vylJWHo3BqvZcTnH82uaJt2zTu9Kkv9sxLz3fyyO/mV9wrKdM09AzO2/lFbdknzF8niMEwWmiDfc1XdPO5qH7FdzzRFETkcCPpBHZlJyD47Jcuv6u6dWsguavzukCyEp6XxQGwhKlF+5JGle87d0m87dc+wMzE39YGq1+Gu6Zk+88gSyi2g8zQbSNAg+w9MuuWsqm7KMzDvfSJq2h1fEhMvScmsqR6cMTaOnrxbHRynYGImOiAHHR3kDvRMXLHnmjm7rHfI7hQparnHSyMOSNm4YT2pZ/JKTmRWGqxjzQPzyVe0mxJLPj8tv13SMOH29k/bKjuG9Y1QJW9p7DM391vgQb+yqi/+qik6EcmcAXJQAakXA9W5EL5m7zljmXWydWTukaSVyS1iwS4tCwPWL5NX8sXZIqHZ2jvtNjZMfpUq35wkvVbY1jXnnZ53N7WOVDQN6FoGpC2DqpYBXfOgqWmw1NJ9Lq0mIrGQ98QgbhpoG567+Ni8JUXCIGWBPGAVI31rLYNQM+Pl0SlFlp4p66j9UWELZ38+m1AE84v2XVbdLWpU1QzWdE21jC4Y20fviKp2JonDeerwg8pDT2qaRh1dAzPHADlkfH5Oqem0jdg9T0XlXySIwg8oQzATg9Ss58ljTqp/EDX0zjp09UNH7puDuLn0uGcK62jb1MJzRXPwgedsroROqBlc2f7zOuvowsi893JmTThZipS/dUwAaT5B66WqOd87jQUtdIFfTgPpcQOo0RGyQLwwcF/anjPputp218pOqkj5bKmtEHQWevnv5Q5HIJq46PaAWNqP2iLsckPKDopCkL36Yt9JXj0PkIteNupw37+QA1xhvqugS7jh87m40lyLi2CwET668On1gDmRubywCww9dXgWkXmdXrfD63Z4PPNu76zHPeHyClX1Z+8pzj7U5ahamgbmhhdcyq7qXdnJ//gwYl166Lq8qHWi2ABhdIAoapUwZoWeQzRQFKDhUvibIu8/gjMdIIhAFrlKGBMg2BiQt3G1cPMnGTv/o/TslXZDu2sit1+yXvT53z1jrcsNXS2IDBBFgno0ZCo+RuRAde6Fr3DUxNfrhWql4TnXpXT1iQcyTV2vHzm88y+k/wTv6gE/cnhXD/qP93vgL80DSz860JjD7fW4QWEaBVQQKy0ueL0P8g3/EnOeA0UgEEajQE23pOTw2hrwyzXoDFwXyFNsPCO5rWzoX3BP2ZwDNmeXzdk17+y2u9oXnG12x6DDOTbrqGweizspjSJKw/nSvVdUbRPujmHbzUxzDJ4bwlOySS0sJ3PVu09oCyr6eicXcoobv0kWM+NKGQk6OqGISZGefF7Za/c29s8fu2PcnJB78L6yy+FqGbFdeVoWvU8YhGlpcTo6oB3p1xdVrVOenlnPtczqWEwUmyA7klFfOzBrbhg5daciGNqYvpgXExqDar65ZHyqtfbNu6SWDvysLPiAOJCr/3dcz0mQncqu1FtHmgbnj1zTbkkQf3Zcdr2wbtjhVlW1JF3K3sK9vYX7cMv++9uxR9viHmw98HAblh6+v4jDBaUzqOQhlUgBDYBECF/7/XmTxTrVMmJ7KGlnxxUFYWoOZCRUdLyUwxMceaoztA52jdsLtD1becVRRMkVYYt1yt3ZP3v0uOiruMdb8KfhZFoonhbBfRbLfb4RywyLEwRy87kPjYUN/a0jsxcf67enSFmEkoZE4oJAoltBJxS0eGXEIamxZ6Z1dP5BcSMLE2w4qFh/UMrkS8LIws38nKMP9eKa/o6ZhZaR2fNPTNuTJFG8ksOPq1rHXd3DthM3lVFY9tfn1FqrbcjueSau++qIOBRTcLhqBilfT4pjTiluSFv6bQ5lZW/KdUPQARGTm6OyjlmnFjLlzWH7MkLiZACT4qQHzuo6RxZGbN4fMitDyGIaZIp0TMCNb0CqoLwB0iJwvwJJIwO6suqYuDKQW0Tbk/bt6eeAHHzQGJqKQWS/Mlr34YalmP8NwTwctays8Ap+oEr9IKb3gPbBK4INy3oKHg90PkXXfaEGgVqcLZ+Ykmf0ffJAku016QjqcJ96xAuBBt/YqDEgpAEf4JcnuQKyUCDGBR91GLTH6QFzu9wum3PB5nbXt/XVtQ0OTrsm5z3QoMnt0nVV7c5O/vs7oZ9kRK7Jiw2A8iEk6YAYCEsacMu9ld4dOUQiVYeYAEHsKmHsKuHGVaIta7N2/Xvp2cvt+lbXRHZ/6aeiL//2GWdtTjhoWiP1aAQeov5Kcw4+dPDaD4fv/eVBO+DLGt69iy6Xd2TGcfGJ/OQDqbF5ECGHl9Dxa+fxb/B74Jf1gB85/LL+9Z/d74EP4oHlH5aVTe2pzkuQc8jX/3PsWTahZILIGqxSM3At/RWE8KanTELPJgxMnpR8aCyp77UOzzx8ZsBPij5Pzf7sSO7uI8IdR7K/OpnxRFLRN7nQP+k4dkO5LaE4kl+8/6qqZcLdMTR/M708hisIJgA5MHE9A1PtOKkVVfd3TdtLNM0JZyRhWD4dL2WTRd9cUDyStwzYParqvoOXjTFk0f4ripZpZ8+M83lBzTcJ+TEHSoMwOYsQx6YUH39qHl5YbBiZP/7YEhInik5SHktvahiYK2voP3VHH4SVMAkVonPombiRiVnomHbnGd1NaUvngtvSPpR8tTQSE7EJFS1eE3JQdL24pnF4tnXQlnpVtSVBui1Zdu55dd+cp757+OSd0lg8K4QQM7kSNlcczC0I4wrDsYIQTMUBdWQTAmNKFPtC6VdQgm7vBX1Z+0TbkO1pSXvogaJQTBWEqdhcaQhZ+MWJ/IKKLuuUvax99OhNdSQPznk0vbF2zDk06zp5SbwLz4qIEwXhpSD5jMmCueJgTBJEqhmY5ptLZZnG3p4Zh7Ssa88xSTB0nlWFYOpIrDiCLODwxXS+KvyQSt8z2zw6/6CwkXUgLzBBTEssYieIQ8jSIAz40NgVWZ6+qWN8NkdW983R4k0JRUefVDeOLnQNzZ28odnIFX55XJWu6eyddqgqe47cUEccEIRgUg4m55CFe67IFK0jY3aXSNbIPS0NxvJZB55r2ketk8700vbg7wVBB3R0wkTHFHsv6DpGHaN276Xs8hBeAY3QMKFDLoUcIM+w8r2H5AhBCoNO6DZAsRPSG8F0jDgp/fuM705laGvbnV6v2+v5EeE0D0oqUAH1a//6EgnLn4+3PXgtffG2F6N9wC36cfuJ8/3IdJaQxU9e3PcChKQoXUi3y+V22+YXZuft8w7ngmPB6XTZ3Q5dV/nu7ITf3w//JCN6TW7s6two1NEobIWeA0V1QBrS75RzQNJyeVEBgkjQhBZuhLSGKDogf9O67J3/Ljv7g1XX6BrJHJB8WvDl32aw1whD1wIRImK1IJwSgviokAMkn1A+DCEHr3fRteh1LwJG9Q5NL5y9Lzl5T1LeNkIl3CiQgVTCkdj0B/mZ8V/0Y/WAHzl8rHfeP++/dg8sRxrL4OFl5HCGTSgAOcCCLiAH2ssB3CsFJNRTJqHn4Fo2XnRd0lI7YqvtmMCT8zceyOfsz2fGFTAPFNH357Pj0g8/1Frax8bt7qcFVd+fEEfyRXuuqOrH3W3D9uvp5VFxQg6mhu46YModp7TC2sHO2YWWvimhoi3xum7r4ZKvz0iuiarLuyYH5t338+u+OaoNiyv97LissLqvfdJubhq+k1kVd1y6I7nwy9PFp9JNsrr+Ycdirq5j3wUNm1sckaQ6nt5a1z9nbug7eU/LwkqgbIbQMTEDi2tiE+UM3Bh1SH0ks6Z20mmdmk+TVBEXi3ceLvzqkuZiUa22fWRg1mUdsB26pticKI3kSXhXTWWds92T8/nalqQb6k3JkshkWUxyyY6j4m/PKfZc1IfzFUAUgaZAQFPmQPUXrJcHJWj3X1BXto13D84KZa1fHir57Ijym9M6/Krx9PPKwrKu1jFbXf/0E0nDziRBEA5iFN/drMitGhhyeov1zcduK3enFsYeLN6YLN1+WPrdBd13lyzhybBgH52iupLf1D3r7hqz3cmu3H9auiNF/PUx9ckHFVfyGvAb5SF8RSxCDk2j9vuFzUH788IOFR3KbTiRU8+9pN2aVLQxSZR4W15S3t4xNptWVPHV4eJN8eLjT+qaRp1dg3PHr+tjuAWbkmTJD4x1A3PWYVuRpi3xB+mupMKdhyTENe1jeVPHpL1zcPbaU/O2xEIWIeLEPdG0jbRPuJ6VdgTvEQbFgZrbBkz63QV1+6h9eN57KaciNL4oENpzAXJYfo+9jhwQlPUhB1SwpGMekDEAOWRqa9tdL+ugvRxzvxU5QBXSi7/XvwNe7PuRRysPee0lryKH14TfVh790mNIorxsL5IXSzotKw947dKvblj+1IO6PBgqWYR8hMvQXbE7O/4f70d8khG9Ojc2IA+QwyphKJJuiEJicO8LOYC0XACQHELXAHjYtFq4aY0wZo0o8rdZ2/5DevZiu77RNZQ1IA7M//IfMlnr8oPXCEPB8kLW5oWthYH9VfIc3pxzgOTZogvhXupuIhTqcTtd7q7x+WO3is7cL23sm1pCDijFRSWzVr4z/I/9HvjlPeBHDr+8j/1X8HvgA3mA+v1ZjiHeB3LQcUj1pkOynIrB5imnvLJ/+968qDhVEK5lkhoGatjKxMXfXVQ/U1uH7F59w0DCNVU4T/DdFU3VuLtpxH41oyIKeqQaaISBRurphHL7KW1e9VDrjKN91GZpGSsw994urnuubDS3DHeN2E0NI/GXdTHxajZXGX1QdizNrG4daxpvJZbGAAAgAElEQVSxl7WOZ0ub7hZUPpXXKRv7m4ZtpraxlFuG2IMyJlcWmqg6+ry1qn9O3zhw/L6BiZXQCDVoinGNnDgzBy9j4sYgnvL7S8Zsy0D7lLOiYzhf1/CwqPypqkXVPlrbN9k9YrP22w5dlW9KLA3CpTuOaq8VtFb0zVb0TBVYuq6Jai+LGq7nV98T1z2St14vaN2UKGHhahpuoAHdXM0BJoOBgRuCEjT7Ligq2sZGJu1VTYNPiuvuiZvSlO355h5dy2jXjKe6ZzpN2oxdUgZzRXRMvZ7URh5Tpz4vL+udbhicLq3ofFhcc11QdTO/9m5R3VOV9Upx++bjana8jklKsRtmSfXwkM1jaR7OVjXdLax5KmlR1oyU1oycSKsPJ2RbEhWm7pmWEfuDguaQ/XnRhwru6XqLG8Zyddbbouprooo8Y2tZ5yhkPG7LtxwUx8TLjzxuaBx1dvTbjl43RmJFwXzxpmPiZ9quxsH51oEZibHtrqjyXmFdvqmrsnOqfdAukrbhp9UhuJhGFLG5j9VtIy3jrielHUF7czhcVSCp24CXfntB1TLm6LN5L+ZUhSaIoWMSBk2Tfhw56Bk4AEvIORBGJgY8nGXkoKu1Iq1DCLWpEOyVmHslCeKVx6i4yRdkv/FD+WoA/vLz1w95eT/1CfMVSr0GG35ibfiVWbyCHH7GpV8by9IGNCBQlV8EqpPb0F25Oyv+9/fC171ADuGAHEC64T0jBx9sEHLWCsLW5Wz5Xc7Ov8/d/vuc2P+W/nmQ5NKNNlOra1TULwsX7Pm/0sL/KS/yb/MifiMIXZsXsi43bF1u5MeEHLyoGZ4LwAMUKXm9HrfX4/J4nHans7Zn8tC1oh+eKrvH5hFy8N1af87h9c+Ff8ufwQN+5PBncLL/En4PfBgPUD8v7w856BiEhsNXfXelLLtyWNk2eie/LmpPfkicholraaDNrGViZiauiT6kSH5aWTFgr+6dT7ljDCGFX1/WK7rmdNaJM08rojBJMFlOI8000kAjVFuOaR/r+rVd00JzZ47WWj1ga5yY75ya7xyYNZb1X7hj2RQvAwlhUscmVRuTxJcETdL60frBOevYfMfEfNu4vbbfJq0aPvvEvIlXwtwvpWOq4ERl/MN6Rct4UXlv0i0TE5fQCDUT0wchIQUW18Ti6tiYMjpRjl01lFSP1PfPdo/besbtTX12saUnV94sNXdbmicSLsg3xkvZhJoVr406orxa2ilrm6gZmWset7WMzbePz7eN2so7p7JU3duTCtmQMTBsII10KMSCZA6d0HPiNd+cUUhrBrsm5nsnbR1TtrYpW9ukDaUa5tSN41dz6786IWVz85mEcj1QtHWBROmmQ5IrufW6xrHmoTnrhK1j0gYzHZ2v7J17puvddlLOTtLQ+ZrIJBX/mknTNNkwONcyYWuZtDWN2aq6Zp4rrdzLpqA4+UaeXF4/Vm6dupldF7Y/Lyy+4GhmXWHNSP2grX3M1jRpaxiz6VvHHhY1bo0XhhCy0Hg1/16N1jpd1jSRdNkYThYz+CWB/MJvftA8VXRVdc91TMy3jttaJ2wtw7bK1mmBrC/uqCIGVzIw3XpcyeSm51f3G7tmb+Q3sfdlsjE5DaYj+/K82tQ1VzM4f/x5RXB8KcV7/nnIwQDIARj8WuYBKZVzQMjhBVHhlQgbPV3mI7zpAcCNX+7vTcN5Mdi3XfdPP/JtZwWCxTJy8Hoo5FDxWRb/H+6G+ZBDbtQqQfgqYcgvgBwiAoRhq4XBa0TsTwSh/1vm9v8zd///Kkz4tJAXJDrKVafndtb1uqa0gxay5HRENkbPj/tDwbe/z4n+JC90bV7o2lxox/SO/OwfOfzD9laibvVLtw19V7spAjy00gbKitvrdrg9jlmnQ17bl3St5FaOaXjGhXgOPjk4P3J4yYn+J38uD/iRw5/L0/7r+D3wITwAccPSny/nsAg8hz/E/gnVSjoGqWHxZZuOKfkPypMeWL4+KQ+Nk7JwDYOE3vxMrp4TV8bBDEyeMuaY6nBa7Zln9V+f1IXypLFH1MlPqo88sXx3WhOBq4KJMhbPROdpabgy/KCGd6f20OPKL0/Ld6ZKkm6bz2dUXMkqP31HjR0rjtlfEEJoAknNp9BGyciM04RhxV8eEyfdUp9/brmUXn7xeU3iNdOuJEkUlh/KVXIwLZNQsxMglZH6uDLxpmlnipyJyRiEmoXr2FwDCzPSufogvoFFqhm4LIgv23G09NBtzZV0y430qvO3az+Pz//iiIR/y3L0Sc3uFHkYrqDj2k/5xv/kaen84q9/UBxLM1zONl/OsFzJqLjw2Jx8WbE7IS8aLwwmNQzSHIhD01JUBob0j3m6mGQF/27F6Yyqi9mWq3nma7mG61mGi0+NSdc00URmKFHIweUAvaDVqZlG6pm4KpgrjeTmf5Vacvim5spz8/VM082M8osPyxN+0OxMFXN4xYE8zQbCyCIsMTzjZ8mS1HuGM5nG09nGE+mWAxelm5Ly2aSMRppYuDbpbu2J+5UHTmuCD5SwSVUwT/rFCdXhO8Yr6YYfckwnnxq456QbMVEoJmfzDKx47dZTmtQ007F7hs9T5KG4mMGXBPLlLFIelVD6/TnNqWdVP2SaLmWYzj408M8pN8YVhscpOXFGBl5GJ00cQnzwftnhx+Xfn1dxkPoegzDQcFVMsvzEk4qz6TVfnlYzcXkgZmL9RM4B2nzRCT3KORiYuI6NaVlxMiaqVtLVWikK6Yf4PP3KrrmUdQAEBTkQqJ33GLorP8viv8g5IJ7DL5NziEAMivAAUehaQeQ/ZX4ZrrtxdaRCONMqmewyz4x0LMxMem0DrtGKqWb1RK1w3Hy8I+u/5+z6m5yIdSKwAOEf0cTpR0DCG8/wl4wcHG7Q8PQuugE5uDwL4wv25/LGlBvSZyW1UwuIqeNxITqNBxUr/aJI+Ff2hvcP98/jAT9y+PP42X8Vvwc+jAdWIgdAEF7PwrsgB2BUy4MT5JsOaTcnayNINRtT00h1IA/UwThcU8j+ilCumUXq6Qnq8BT11lRdRDzU/QfzVZtT1dsOK6LilZw4DYurA600QsnEVUGELjZZvylVGZagCOapYxMNW1P0W1M1sSnysAQJm5CygNwMOgl0XE/nGphcVQhPHp0s33xYtfWodvMRfcRBLQtTcDB5EIisUd1OlaEHNZsPabckqSNJFQtIDiBxgBgdBjpuYJI6OqnZwNN8ytfSD8pjUlQ7U3WfpZi2xRvC4uShfEVEqjbyqD4kQQt9kDA9AzfScSMN14QmqDcdUu84rN52RL31qHZrqvr/b+9co5s4zzzuC042ZGnT7p7Tz/t5v7R7zu6nDcia0cVOAMk2Oblsu0Ab0qZp0FxkKNhc0i5pk+ZGkrZASALhZhtbtkkoAWxdZkaSbUgaAklDIIQAIUASsAFZmnlntOd5ZyTLjm2QEb7A4zOI8Wgu7/xHGj+/eW7zlnXOFvZXQkWjuJPrcnAxF6+4eAmMXaggJDlrg3NWyVVPKTWrww+u7Pzp6tDPVoYeqQvWLO1wcX9z8vtZARpTMELULnQDdfCym4tUPLn/frGjenn4wVXhh1Z1PLwy8lCdUr1UuU+MMEKwXJTKIXW4Z7bvwFxerqkL16wO1jwVrF4FlVXdYoQRY7YlPbbamGeF8kB9yLu0wyl0MnyE4cKVYrhmWeiR1R2P/G7/Qys7q5YGK7mQi5cZMcb4lcploQdW73ukvsMrBt18Jyt2WKWiBKliqVJVH31wRejhlfKD9WHv0v0OrsPBR1haCsnJy24+PG+F/MBKyfPbkIsLuiCZIc5ysUo+8tCyjkfqg3OXhJ1i1CF050kOkouLmOTwGOQ5HCcT82WaqkfNPOIGciBpPUbJ4Z7XBnwOVp7DzYhWgvRob3Gbt6St5l+afj5befmlC92Bvk92Xzq2r/dEpO+zWN9Rqe+jvZc+eOfS37d9E1txsunfWubfudMzrW3utNuJHKj3gNDSuyp4hiB2SdOJmiTamb7ki9uV363vfFv+9AoxCLCDBnFnBoECwgbww1T9aOK4p6YCSA5T87rhqFGB61OgoOSggB3Mh118uAIeA8dYX8wuKLP8YZsfWia7fPHK3/Tct7jbwcdnisq9YK9bGdhOPuLmg26x08mHWZ/s8EUcfNjJh5w8ZBJDfwOhwyF2gmcAMgQUhldm+SMzl4TstUGHEKQ5x2GXT2K4mJ2Pgp0thlh/2FErsf6IXQjb+DALpU7pw2k+zEKvN8UlyG6emv5WSVZwjDCQCG4+0o6Wi7FZfmVWbZgRIi4u6ua6nD7J7Qu5hBBbG7bVSrZaSB+v8MkVvij4UqC5m+KEsHvFIUaY2iDj72TFEG1NANjg5OIueDfi4iRokQEd2SJ2odNWG57ll2yCxPoiFZxcAe+GHVzQwQedYicLvZbDkC9Oe59BGjonVfjgjGyiPKs2YvMHIdoKurwpDmhJAU4YaN1Ae1G7uSgrmPwmsYLs4qPAMHyMFWWmNmIXQ3YhyIhBux/wibXqaIWZ2rDD3+EUw07wkHQxYhd0bROjrBhxifsr+aAb+lEoLFzxiIOP2ERlphizQYqCVcDXLkbK/RG7GGaFoJMPumnnbze0l6YOKLgWioOLO0BVpWJxZwXXSZsPxljhmj6HWI7PQXFAB4wwJYeGx9Y0SB8cJzc34uj6vlpTai1qWg4mh5xopZtGDl7o5tZSVdLqLWmtmtH08L+/w8+Wn/1p9KWF0VcWKn/+ufzKL+TnFyjP/Sz63P/Enp8XfaZcqv9By4NlLZ6StrklbXNuH58DJQcd+nNAngPN4yeapmt9GvnkfOK3L7S9+JYcO/JlQtcJbelB+39oSA5T6lt46wwWyeHWuZZ4JqjAdxUoNDmANUzbxnUx3AEb3zMTjG+pXJSgoxwXcz0Zdz/ZxXJds8T4zNqYzTLTY5ARy0VYIUwfritg5dNH8k6okdrFwBP9CCt0skIHy4cdkD8dn+WP3Vsr2/ySAxKOQ5W+kJuLMHysXIjbode1zIqSU4TMbIamWDBQXhZaAQCcCBGWj7N8F8vHwdwXFdoeW2Kg+7XC0iJIkJLBdbF8lBHDdk6CMYhxuyg5haBLCDnAIyHP8oOnooKTKn0yWNKwW5nloqwvzghyuT8IkxgGg1uIO3iKDXzECZFRkgNGQsmBD9lEsLxpsm/M7YtRJ4ZEsSoMFa7EDru/0y6G7YJsh6GCz6HSJzN8dKY/em+tPLM2Ui6a5xtxgdsnbPeHbLB+BHYCDhlYgXY/iLt98crFscrFkQquwy3stwuhWaI0yy/bagE8XFALVbb75ZlLZIor4OgoF3vK/RY5UBktNwsVsMsBLZ8pw/hjdn/cCcJC4nK5GC0XFUYMm2hXwUUqfNA5285HyyliQXICuB2AuMADQ3v/2XnAQufotZWgLJUZrRSlve3COeTQiOTw3a/5NZdMGDlAbSVvSWBucav3jp3Vd22vvvstz4zNc+7Z5Pn+5urvbaqesckzY7Nn+lueu7Z479padecO77QWb2mrB7Dh9iMHPa2RtEbMJiRES+nkfEKNHf36iVVb32w7ePRMbz+QQ0o3UrRtoEkOBH0O1/z84wqFVQDJobB64t5QgcmlQGHJgRUUhyhTsy9u57tmCvF7/bFyMHZpkU0+ynKywxdj+S670G3zd9uEOCOABU9tdIkRIowo2UXZDlWYotA3jY8zfBcjxlkhahr9DiEED+x9ioMD5wAjdLFcDN6C7hOhcjHK8HEHuClkFxeu4MKVPskFpi2UQKXDCzrEDlYM2bmone+x8z0wAD/0KqaHlhgRWowxQoyFZ+HdlYujbi7s4MEKt/kj5fBgHh6xM5xUzsusX3aJkpuXXdCYTLL7Qww4RkIO8CpEXOA2McvLxliIMqItzIQwK4ZY6m+BOrB8lFrPslOIOoWYm1MqYENwpMCBOAASpwCeAZs/aPN32MEQj1QAOcQcXJzlFJYD/4yLk9xcuAK8PeDQYMTQLH9oZm2wfEmnozaUiXcCKHL5opWLpft84Uou5OaCdlqhyCZ2lQvdLl+32xd38VGHP2Kr7XTxEFDEUkcHrckbZYUoVbKLEWIgPsQadbNcnBEAFRgh5hJilVyUtsGOgHfFF3PyUdpJUHH6wFUCfMhLLG0v6OKBaoDiQFLJAeyklAM/AJmMliFtkYNs8yuDyaHxsTVIDmO5w4xADt6S5urim5jnAMWRSlo9xRAHVV3aUjOt2VvaPKcsMOeO5vvLWjylrVXFAS8sbPGWAGBA54fSVu8drZ6ytjmltyk5EM2AVn5QVUknJ765vDP4kW91w67QP872JpPQ3SGJ5DCW7wBuUzgFkBwKpyXuCRWYfAqMTA7PwNNuIQwm3UA/B9N2zL4O1M3MFNCUGVFmOInlI3b6HNomQr8zllbYhLcgLgjIAXiA74JGYEAO3Q6um64Dm9vBiJfpg394/EwdCNAJwcHBxPJRJwQOxVwWWnQzkHOsQO0mfxgeyUN8P7zrBMCQ3IvBfqVkAuQAVjvE/4B3ghGAHCBlGXwCZvsIOn4B+gxQAolT21diwWsRsYlSOZjOpqE8cF5g40KIFDxfZ8UgTc8IA7r4lMwgu2D88KAdnAyQlQHZCGBAm8udggwd4iD7GVwiNHMjDN4P8Ht0Az4BzEQYuCKQlQHrgKQxF6dUQqyU4gJ8ilL8iAKNQNhVpFwMlfuDjOkJAcqKM2LcIYBPwwkxRcBIkHgNXpoulu92+nqci7ucXAxCnoQwpIX4og4uRhtrRGisVxTCnIQuuz9mB/8MDUwCj1CcAcyzIrWcvOT2yZWLoxWLqQvCUswMZotAjgc0CYGTNbGBuoCg23emFK/57sCna2g/h0HkoEBgG41WYn/VgOQwtnsMkANNdzDzHOY3LqG1lSg5ZPs5DOQ5QB8GOnlok4dhk4zzWdjqLWqrKWmdVwr84C1pnlvSPBscEQFvcYu31CSHFm8JTYooDXjKAp5pgTklrbNv0WilgWuYLahFc52JGa1E0oToqqqnrujk/c8vrNnQueqF3d0fnr6q6SoUXdJ0Q8U8hwERcW7cFUByGHfJ8YCowDgqMAw5QA/p6E+gh3SHQwjR+qES7QQXhSfxYCBmJjCjB8w7FqgAjFGI2Mka4oNWMFfOgAefmck4BMy95ZqJ1GLObAVBRKa9To1jurn18BusdtPoh7gjMwCG2qamDWq2YAPqyBmkCTDU5BUoVOQMlY4BDketcNMjYaIFfegOVviQczcHCZ4Hc6JHh1AcelDwOdCzMyXKvsJWNCsjzPgjjB9scfOUaT40+G3sQrdd6AKMgfwE2c1J8KieNwOQIHPDDQVk4aztEB0Er2YWNWUDifIJvSgwAGtywDWiA6aJ3XBZ6VvmaK0x84rbB+4jRlDKKc45OcUNSRqwE3ogCO6iFxqOSIdtkgAczgklbhWXD07fLkZtMCmMIFP8oAOGAWR1MEcIx8q54qakw7xSgAQHhQ3q9kZpnkPE6dvPPL5jEe0Eh3kO+d5CMuRgkDSJnTxIyeH+sh0e8Dm0mFVZK4ugXXQGGAJVFjkE8iGEEVf2FrVWFQXAw1Ac8BS1eIpb5sIMnYpbPMUBayqiMyUBD3gqWufmUy4pr3FObG0li+JMbDD7eBhp6GCYyXPQiKElde18IrWn5/iiui2bAu8dP3NJpW0erCq7UGs3hzvy/UDg+qjADSiA5HAD4uGmqMCkV2A4cjBGIAcoHzSADfDseYj1bBqCw5h6gwFjjCtkzcqRZq5xlCGDH/JrDjZcYz8FXhMSmiGHAZKJJbuo0C4WMTv1A9iFrnKhyyIHcKTE3OBegHYQULEKko8hc8BBg/7LRcWcGBob5gLHwrWkNkWA65hlHtPbAxea1j4CU5625FOckI0AEwvOARPVILjLuhy0GhX4UmiuCE1dGBiYzQ9js9OBUY9HBl3GJGaWHGZBJ7goOGq4iAPIYfuip3dIh44hOeR748khB214cmgblhxuUjuFa1v5xa03r4G0h3augIqxpYHqGW942K1PbOwJJNKaauga7cJGewzmq/F1r58x+HPIQactC4EcDEMjEJJE+nVy+OSF9c3xR5dvjvz91Nd9SZo3DQ06zJ/rPh6uiAoUWAEkhwILirtDBSaVAkgOFguNyYQtCGOAqW0a3JYVbj7Cj5mhXHYhnokFijkhBEsxg8cYSH6I0OivATzIdddYXoXRzwvIIesMMb0lptfIDA+zkg3M3dI8DbqEgorl5KExS+AqMX0+cC7gOWFpPJKZx0xxyMIPlnJObg7DGDREcij4PWTKkQM4H25WG7jJQQ6W4yFtAKbotLs5SRvE0AnRISqpN0V2RY7Uv9T+f+v2HDvXm9CITkuKUVdDwT8guENUIA8FkBzyEAtXRQWmnAK3EznQwCEzfOi7r6Nb2Df33WzQToYBcoZHs0SskWcioMzVzOgp8AmYxvfgd68r7CeDDdYOrWAzc4cWUWSGZOa4Z46VMfchrTzjZ8g4Hyz3hRWARMOxBg3GHGdmDwP7v/4lSA4Fv89MRXK4aaFKk4Uccq4ydT8Y4HgwdF3TSb9mHDt39eWtkvh009+iR79JpFLUF4HliHNEw9kJUwDJYcKkxwOjAuOgwBQih+u3LKfYmjRhI5OEkGtJZ4liwArPnBrNWLA2tDYZCzkMJYHco1tMYnaooIViBwDATAqng5FonSgr2zuTSQL5D5mhDtpnQRYiORT8zoDkMJhDJjrPYcgFNtLQNBom3YCySuQySTfu/6juxV3Pvb73iwtX+jWiGUQ3oCMH/qACE64AksOEXwIcACpwExVAciiILXtDO4GySzGa1W31ksswAJQ/ohWQBhJILA8DOCVozsnQVJN8zfRc+97Mn87uAXwIZnBRNmWC1maFFWjQlJn8LdP6SBIwgzUkaO8whBxuMDxpiLxIDgW/IyA5TF5yoNgACc9ADToh5EpSPXKq96m/dqz+y57dypGEqsFiQ0duKPj3Anc4NgWQHMamG26FCkwNBZAchlil4/8rxQaTHCCLIGfKJQew1wfqDlEznfa7GJKknrX7r3MmSw5W2aWcrPfhycFO3RSDyYFygkUOw4/HPKlCaYvkUPCbC5LDpCUHg5KDrhsa0VNEv5oiX1y4vGX3IfHZ9tfauo+f+5aQFCCFAR4HA50OBf9u4A7zVwDJIX/NcAtUYOoogORQKHN27PsBm3t4g3u0fZpbUdIwV8uWnDJ/vT5jnUYZ0ZKsGY+BiRBQasn0OZgllWj7iAF0yYlWMhElJ4cE0GKI++I6MeZ6V0NyKPgNBslhMpMDgd7RekIjVzTy5aX+0PunFv+ucc2G/dLhk1d1jWjJNLgcoKKSntYL/tnAHaIC+SqA5JCvYrg+KjCVFLidyCE3beC789drto5mzY+aNjDyhgPBSJl1BjwAtHGE9etgGDDb6g0Me+zkYLkLMiV3B4q0ws7NPAcz3Cjr9BgUfTQoboo6MSjVZNcZMjCrofgYtaJDop3g7IKCVVkLda9Bcphk5AAXxPwxDNrHIZ1OGMa3KU0+fOr36/ctqtvy7oHPzl7p7yeqpmkGobWXqNshsx3+jwpMmAJIDhMmPR4YFRgHBfIhhygzjIk5YLnS0PZs9Evu8kky/11ayF0yYYPM9LDL1iZSaGM1szYrvFqP8KEtnRXLRAGDdtq+Afvb3Am8Wu6LjN8Ajmi2aQNNBh/UUilLBTC2gUTtDAKZHfTMZnOZIKshNaDoIcaoOfocCn5nQHIYd3LIdG0we3dbr3oanAYwQTFWWpAVXAlpQ0sbvarR9fHJV7Z38H9s3LLn0LHzvZc1NUUgy8EgsBFUby34JwN3iArkrwCSQ/6a4RaowNRRYARyiP2k5lmX0Dm4hzRYtAOJsOPeCe5GbM2MKZyLCkPmx2jF3vCoBrpfZ5/N05nvkkMuNmQbMN/gsDOklwsPFo1k3srAQ+6ZjkwOmfFksMHcKosNuTsZ8zySQ8FvMEgO40sOQ7BBT6cJnbR0WoN2b+BmINC4Aaqw6sQgCaJ/cPzc+sbwyrXNL28Lfnz28sWUmjJUjag6MZAcCv6NwB3eiAJIDjeiHm6LCkx2BfIkBxrCbkanTD1yyBi1N/qcHvczwQogORT8toLkMD7kYLV3zv3PavRm9Yc20qpupHRD1Q1NVVVN01Wi9/anjn/V+1qTtPy5nS9u2n/g6Fe9xEgaRDM0QycAGhmHA/ocCv7VwB2OQQEkhzGIhpugAlNGASSHMT/5xg0nSgEkh4LfX5AcxpUc9DQUQqKT1afBSEODaFhGDEM19JSupVL9/SmNXCbGx1/2/bWpa9GyDS9s3t/18dleNZ1Kp1VDJYZKHRI0vgkuITScLvhnA3eICuSrAJJDvorh+qjAVFIAyWGizF887pgVQHIo+C0GyWE8yYHGINHGbmZ7t0Gv0LZBh7YNWlJVLyZ15ci55zdFH1/RsHZ7WPno1NnLyYRKVF0j4JrQrHJKOkAD/YfkUPAvB+4wbwWQHPKWDDdABaaQAkgOY7ZfccOJUgDJoeB3mIzZaZC0Fjt5cH7jkh9suL+swVPSUl3c4i0KzClqqyxqnVMU8NLJUxSoypn3DDa7b4FfR+whDdVPafby2C6BGaakQ79nyGSwJoNAmzfrB5aqunFV089c7H+3+/gLm+W6F/a+uqM79o8vz/QlrxJIbiBE1fWUQcmBbmeSg5kvgfAwtouDWxVMgaKTo/709/cX7FC4I1QAFRh3BZAcJsr8xeOOWYFRyOGxpxukQ8eIgcZTfreS4chh9h0NntKW6uJmJIcnNvYEEmlNNSAb+cbJASz+tGoYKaIndSOp60ldT+k6JETrkOWQ/iahfXz6YiDy8Zr1e1eu3f1a84EPT/Z+kyQJPa0S3YAyrCnDIgcYEf28GzRoiZgMkd/lx7VRgXwUOHfu3KhkcLLo5KnTo0xIDvmojeuiApNOgZHI4cfD11bCDOkJTg4es+nhPfgAAAiXSURBVLV9K22I5FDw+wiSw2C3ySg+hxsnB536ClTdSKraFZVcpVO/StSUqiZS2vne/oOfnnuz/eDjq7YseyHQsPfvx872JQiwBQQnQUp0Kg3koBo6ZEgjORT864A7HF2Bc+cvjMIFJ0+dLjp34cIoUyqVGv0A+C4qgApMZgWQHG4lk/o2ORckh4LfUpAcxpEcwPrXIVEBUpyTJNWvqwmdXCH6xaT+6Zlvd757cOXzLb+u2/T8ppDy0emzlxMJTdX0FLADhCepaaKmdWJAtgRNp4ZgJ9PJZrodCv7pwB2iAoMUuHjp0ihccO7ChaK+y1dGmTRCBu0Pf0EFUIEppQCSw21ibd9Kp4nkUPB7DJLDOJADdQ5A+jP80wnRiWroCV2/pOqne5Pvnfi6OXj42df3rFzb+qeN+wIdhw8du3C+tz8BpVk1jahE1yA7wiAADFCSKU3LM6lpQ834QbAXXMG/GbjDYRS4mugfhQv6Ll8pSvQnR5mIjuWDh5EVF6ECU0UBmplHw2utF9JvGK+3RX9c/YyT73AIIVYIs3yY5SOMILO8zPI5LYeHNkaQWUG6lSxUPJdJqgB0rVbsomwTo3Yh5uAVJy85fHvZX2/95R92yJjnkP/dZzA5HJjfuOSHG+6/c4dnWnN1SXMV5Ea33fedDGkzSfoWyIce5hRKAnNLA3OntVTNeMPDbv3NxgOQ56AZxIoNuo5EGtoE2kxBoM9nqINAMwzT/Nd0I6HpX1/VPv3qinz4dGPHoZe2hVb/5e01r+3Z2BoPvnfi1NeJq9DpzQDC0Immw6F1WkrJCk+yyEFLG2rayr2AbtP5X3zcAhXIT4FkSh2FCxL9yaJkSh1l0nX8mOanOK6NCkwCBbJfWwOeYMFDLCgYAs/BdK3f0F9vi/5H1TMuvgOwAeAhCK+85ORkB8CDyQ/ZNsa5zZglVsj9FedRgZugAHQhhN7bdlFhhLhD6HLyimPxu84nNj/+x23yh5ghnfc9JksOWlqNnjwwv3Hpv264f/o2z507q8uaq4sDc4pb7y8OzC0OeM2ppKWmpKWqJOAtySzJvnVrzExr8dzR4rmzqer7r3uZbU9uPNiaSGvEIHoaiiBB97YRfizHAvSCpn3aqIeB6FrKIAnd6FONi/3aud7k5+cvf/j5heD7X2zde/hPm8PLX2pd+lzT85v27j1w4vj5K32qnqQNpGnPBwoMmcqttPs0jU6yrpkOfSAGarKOOLARxouLUYG8FVA1bRQuSKZUJIe8NcUNUIHJrYAZC0v/7MCfJPMPHLjBdU3XCETcvtEW+8+aZyuETlaIsELYIYYcQtgJT3ZhcgiSEydUYEIU4GUnLzu5uJOLOXnJyUccXNzB9bi4mHvxuxWPv/HEH7ZFqc8hE/k9ub+Lk2Z0lhVqGFo6Ff2iZ37Tkh+tnz1ji3d647w7m6pLm+eUtswubfaUNnvpVF22c14ZQIV3WnPVtBaYSm+haVpL1R3N3rsavdN3VP9go5fdvnjje239aU3PxgsZw0dbZOORoKwq0a8SvZ/oyZSe0PRLmv5VUv/sYurgZ9++03ViXXPP8pfeXrjszZ/6N9Q+2/xG24GDn359IQFokdLTULSVhoKbO5w0HxMcCCoACiA54OcAFbjdFBiJHCBnjxA1QfQ3W5X/8v7e/sudtsfaZj7Wfu+itnsXtf43zOyauah95qK2WTihAhOkgO3R9vJf/M3+6DvMo+3MorbyRW/bHt1jf3S349FG54JXfWu2xQ8dz5abud2+22M+31xyiH3Rs6Bp6Y/WzblnS9X3Gubd3VBzV5NnetPc6Y1V0xurpzfWTG+cd3fDA3c31NzdWH13Y4050eU1t8zr3Y1V/9zgnbG9+p4NHmYr+BwoORDazcFMMhhGbAhLMoyURs5cvBw9cmJP/Nhu+WRg32eb2z9cu11Z89q+urW7nvx9w+Ortgl/bH56w/7Nu94LHvjiyIlvznx9pfdqKgVtGohZnBXJYRh9cdHkUADJYXJcBxwFKjB+CoxEDgaQg6YmNW136OAC4eWFK7YvqG9cWN+0sL5xwYqG+Ssa59c30SWNC2E5TqjAxCiwoG7nwrqmhXWNC+ob/re+aX59YH5988K6bYvqNrz45ttHjp0yu2qN31dqih+JBsCYDYgNYqixkwcW7Fjywxec//Rn153rK8rWuco2sGUbmLL1zrJ1bjpVlK2rLFtXkZk3F95ar+udZesdd6xzT3/RZXvjV6/1BCg56DTTYMREZJMcrqa09098tbYxvOyVfXWvdK94+f36V3vq/xp5amPHs291vtrSvW3fod2xo9Ejpz858+2Fvv6rKVXVVE2D6km0+CqhPaSh/Az6HKb4d+vWHP6Nk0NubiXOowKowJRQAJ5qWX+dCOACIfCiqURToab4R0c/397a8VZ75K22yJY2aWu7tHVXZMsuaUs7TPArTqjAxCnwVpu0GabI5vbIm+3Spl3Kpl3yprbwtvbOcNcHZ89/o5HMk9sp8XWc0EHCfYBO5n8qUT/+6tO14U0Pt9RXt9VVtdd72+q87cu87b/1ti/3ttVnphWZmeySW2umfbm3fXlVe/28lhXL9/5l7yexfl3TNKJBhSNIWR72otFiq/rVpHr45Pk33+56brP80tZDf2k4+nrbse37jrZHj4Y//Pzwmb6zV7RLKf2ypicISRJVJSlNS6rw0CapaimNaBohqqYNXJphD4YLUYEJUuBGyWH0JAl8FxVABVABVAAVQAVQAVQAFUAFbhMFrpEhfZuogKeJCqACqAAqgAqgAqgAKoAKoAKjK4DkMFpR2tG1w3dRAVQAFUAFUAFUABVABVCB20cBJAckB1QAFUAFUAFUABVABVABVAAVuLYCSA7X1uj24Ug8U1QAFUAFUAFUABVABVABVGAkBZAckBxQAVQAFUAFUAFUABVABVABVODaCvw/mT/piI5gbxoAAAAASUVORK5CYII=)"
      ]
    },
    {
      "cell_type": "markdown",
      "metadata": {
        "id": "eFTuDzQknfeF"
      },
      "source": [
        "#### Creamos las instancias de los mejores modelos obtenidos de KNN, RandomForest y XGBoost"
      ]
    },
    {
      "cell_type": "code",
      "execution_count": null,
      "metadata": {
        "id": "PAP8KPFRmKSk"
      },
      "outputs": [],
      "source": [
        "import xgboost as xgb\n",
        "from sklearn.model_selection import train_test_split\n",
        "from sklearn.neighbors import KNeighborsClassifier\n",
        "from sklearn.metrics import accuracy_score\n",
        "from sklearn.ensemble import RandomForestClassifier\n",
        "\n",
        "\n",
        "# Crear un clasificador Random Forest con los mejores hiperparámetros\n",
        "best_random_forest_model = RandomForestClassifier(\n",
        "    n_estimators=180,\n",
        "    max_depth=60,\n",
        "    min_samples_split=2,\n",
        "    min_samples_leaf=1,\n",
        "    max_features='log2',\n",
        "    criterion='entropy',\n",
        "    random_state=42\n",
        ")\n",
        "\n",
        "#Creo el mejor clasificador de KNN con los mejores hiperparámetros\n",
        "knn_mejores_hiperparametros = {'weights': 'distance', 'n_neighbors': 8, 'metric': 'manhattan', 'algorithm': 'brute'}\n",
        "best_knn_model = KNeighborsClassifier(**knn_mejores_hiperparametros)\n",
        "\n",
        "xgboost_mejores_hiperparametros = {\n",
        "    'alpha': 0.29007760721044407,\n",
        "    'colsample_bytree': 0.8090077144994208,\n",
        "    'gamma': 0.42876870094576613,\n",
        "    'lambda': 0.13547406422245023,\n",
        "    'learning_rate': 0.29828232595603077,\n",
        "    'max_depth': 8,\n",
        "    'n_estimators': 179,\n",
        "    'subsample': 0.7871626244247893,\n",
        "    'objective': 'binary:logistic',\n",
        "    'random_state': 0\n",
        "}\n",
        "\n",
        "best_xgb_model = xgb.XGBClassifier(**xgboost_mejores_hiperparametros)\n"
      ]
    },
    {
      "cell_type": "markdown",
      "metadata": {
        "id": "R_CpomIJxSXS"
      },
      "source": [
        "#### Creamos un ensamble híbrido del tipo Voting con los mejores modelos que tenemos:"
      ]
    },
    {
      "cell_type": "code",
      "execution_count": null,
      "metadata": {
        "id": "iVt5Ea1Iyuf7"
      },
      "outputs": [],
      "source": [
        "from sklearn.ensemble import VotingClassifier\n",
        "from sklearn.ensemble import RandomForestClassifier\n",
        "from sklearn.model_selection import cross_val_score\n",
        "from sklearn.metrics import accuracy_score, confusion_matrix, classification_report\n",
        "from sklearn.model_selection import StratifiedKFold, KFold,RandomizedSearchCV\n",
        "from sklearn.metrics import make_scorer, f1_score\n",
        "import xgboost as xgb\n",
        "\n",
        "#Creo ensemble de Votación\n",
        "vot_clf = VotingClassifier(estimators = [('rnd', best_random_forest_model), ('xgb', best_xgb_model), ('knn', best_knn_model)], voting = 'hard')"
      ]
    },
    {
      "cell_type": "markdown",
      "metadata": {
        "id": "o0f5CpOFn_bd"
      },
      "source": [
        "#### Entrenamos al modelo de Voting y creamos la matriz de confusión"
      ]
    },
    {
      "cell_type": "code",
      "execution_count": null,
      "metadata": {
        "colab": {
          "base_uri": "https://localhost:8080/",
          "height": 624
        },
        "id": "jjVWNSNyoDVb",
        "outputId": "79610eb7-14c4-4e1c-fd15-0695360d61db"
      },
      "outputs": [
        {
          "output_type": "stream",
          "name": "stdout",
          "text": [
            "              precision    recall  f1-score   support\n",
            "\n",
            "           0       0.84      0.87      0.86      9292\n",
            "           1       0.87      0.83      0.85      9281\n",
            "\n",
            "    accuracy                           0.85     18573\n",
            "   macro avg       0.85      0.85      0.85     18573\n",
            "weighted avg       0.85      0.85      0.85     18573\n",
            "\n"
          ]
        },
        {
          "output_type": "execute_result",
          "data": {
            "text/plain": [
              "Text(50.722222222222214, 0.5, 'True')"
            ]
          },
          "metadata": {},
          "execution_count": 33
        },
        {
          "output_type": "display_data",
          "data": {
            "text/plain": [
              "<Figure size 640x480 with 2 Axes>"
            ],
            "image/png": "[encoded data removed]"
          },
          "metadata": {}
        }
      ],
      "source": [
        "#Entreno el ensamble con los datasets enteros\n",
        "vot_clf.fit(x_train, y_train)\n",
        "\n",
        "#Evaluo en conjunto de test con x_test, para poder armar la matriz de correlación.\n",
        "y_pred = vot_clf.predict(x_test)\n",
        "print(classification_report(y_test, y_pred))\n",
        "cm = confusion_matrix(y_test,y_pred)\n",
        "sns.heatmap(cm, cmap='Blues',annot=True,fmt='g')\n",
        "plt.xlabel('Predicted')\n",
        "plt.ylabel('True')"
      ]
    },
    {
      "cell_type": "markdown",
      "metadata": {
        "id": "rcFuwbeZxGjr"
      },
      "source": [
        "#### Exporto el modelo de voting\n"
      ]
    },
    {
      "cell_type": "code",
      "execution_count": null,
      "metadata": {
        "id": "ndEV-gFsxRXa"
      },
      "outputs": [],
      "source": [
        "y_pred = vot_clf.predict(ds_test_x)\n",
        "df_submission_voting = pd.DataFrame({'id': ds_hoteles_test['id'], 'is_canceled': y_pred})\n",
        "#df_submission_voting\n",
        "df_submission_voting.to_csv('/content/drive/MyDrive/Tp_Datos_2023_2°/Submission_Voting.csv',index=False)"
      ]
    },
    {
      "cell_type": "markdown",
      "metadata": {
        "id": "EazJvkx7_KNT"
      },
      "source": [
        "---\n",
        "### Stacking\n",
        "\n",
        "Voy a necesitar (por elección) el:\n",
        "\n",
        "1. Mejor modelo de XGBoost\n",
        "2. Mejor modelo de RandomForest\n",
        "3. Mejor modelo de KNN\n",
        "\n",
        "Visualizacion del modelo de ensamble híbrido stacking\n",
        "![Visualizacion del modelo de ensamble híbrido stacking.png](data:image/png;base64,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)"
      ]
    },
    {
      "cell_type": "markdown",
      "metadata": {
        "id": "_yCSCDiV-fAr"
      },
      "source": [
        "#### Definicion de funciones\n"
      ]
    },
    {
      "cell_type": "markdown",
      "metadata": {
        "id": "LPTQc7Ycji08"
      },
      "source": [
        "##### Defino la funcion para evaluar a cada modelo:"
      ]
    },
    {
      "cell_type": "code",
      "execution_count": null,
      "metadata": {
        "id": "RQBR4yPHjmVC"
      },
      "outputs": [],
      "source": [
        "from sklearn.model_selection import cross_val_score, RepeatedStratifiedKFold\n",
        "\n",
        "#Funcion para evaluar los modelos 5fold -CV (repite 2 veces)\n",
        "def evaluate_model(model, x, y):\n",
        "    cv = RepeatedStratifiedKFold(n_splits=5, n_repeats=2, random_state=1)\n",
        "    scores = cross_val_score(model, x, y, scoring='accuracy', cv=cv, verbose=1, n_jobs=3, error_score='raise')\n",
        "    return scores"
      ]
    },
    {
      "cell_type": "markdown",
      "metadata": {
        "id": "k33VAOo0jWHg"
      },
      "source": [
        "##### Defino la función para graficar la performance de cada modelo"
      ]
    },
    {
      "cell_type": "code",
      "execution_count": null,
      "metadata": {
        "id": "dDAe5ApRjVW8"
      },
      "outputs": [],
      "source": [
        "#Funcion para plotear a performance\n",
        "def plot_results(model_scores, name):\n",
        "\n",
        "    model_names = list(model_scores.keys())\n",
        "    results = [model_scores[model] for model in model_names]\n",
        "    fig = go.Figure()\n",
        "    for model, result in zip(model_names, results):\n",
        "        fig.add_trace(go.Box(\n",
        "            y=result,\n",
        "            name=model,\n",
        "            boxpoints='all',\n",
        "            jitter=0.5,\n",
        "            whiskerwidth=0.2,\n",
        "            marker_size=2,\n",
        "            line_width=1)\n",
        "        )\n",
        "\n",
        "    fig.update_layout(\n",
        "    title='Performance of Different Models Using 5-Fold Cross-Validation',\n",
        "    paper_bgcolor='rgb(243, 243, 243)',\n",
        "    plot_bgcolor='rgb(243, 243, 243)',\n",
        "    xaxis_title='Model',\n",
        "    yaxis_title='Accuracy',\n",
        "    showlegend=False)\n",
        "    fig.show()"
      ]
    },
    {
      "cell_type": "markdown",
      "metadata": {
        "id": "oLG5w4NNh0zP"
      },
      "source": [
        "#### Creamos las instancias de los mejores modelos obtenidos de KNN, RandomForest y XGBoost"
      ]
    },
    {
      "cell_type": "code",
      "execution_count": null,
      "metadata": {
        "id": "VKA6z5Icgk_p"
      },
      "outputs": [],
      "source": [
        "import xgboost as xgb\n",
        "from sklearn.model_selection import train_test_split\n",
        "from sklearn.neighbors import KNeighborsClassifier\n",
        "from sklearn.metrics import accuracy_score\n",
        "from sklearn.ensemble import RandomForestClassifier\n",
        "\n",
        "\n",
        "# Crear un clasificador Random Forest con los mejores hiperparámetros\n",
        "best_random_forest_model = RandomForestClassifier(\n",
        "    n_estimators=180,\n",
        "    max_depth=60,\n",
        "    min_samples_split=2,\n",
        "    min_samples_leaf=1,\n",
        "    max_features='log2',\n",
        "    criterion='entropy',\n",
        "    random_state=42\n",
        ")\n",
        "\n",
        "#Creo el mejor clasificador de KNN con los mejores hiperparámetros\n",
        "knn_mejores_hiperparametros = {'weights': 'distance', 'n_neighbors': 8, 'metric': 'manhattan', 'algorithm': 'brute'}\n",
        "best_knn_model = KNeighborsClassifier(**knn_mejores_hiperparametros)\n",
        "\n",
        "xgboost_mejores_hiperparametros = {\n",
        "    'alpha': 0.29007760721044407,\n",
        "    'colsample_bytree': 0.8090077144994208,\n",
        "    'gamma': 0.42876870094576613,\n",
        "    'lambda': 0.13547406422245023,\n",
        "    'learning_rate': 0.29828232595603077,\n",
        "    'max_depth': 8,\n",
        "    'n_estimators': 179,\n",
        "    'subsample': 0.7871626244247893,\n",
        "    'objective': 'binary:logistic',\n",
        "    'random_state': 0\n",
        "}\n",
        "\n",
        "best_xgb_model = xgb.XGBClassifier(**xgboost_mejores_hiperparametros)\n"
      ]
    },
    {
      "cell_type": "markdown",
      "metadata": {
        "id": "ZseDqik_-L9A"
      },
      "source": [
        "#### Creo el modelo de ensamble híbrido de stacking"
      ]
    },
    {
      "cell_type": "code",
      "execution_count": null,
      "metadata": {
        "colab": {
          "base_uri": "https://localhost:8080/"
        },
        "id": "nIJlUAjGh6Ah",
        "outputId": "ae0cfd11-6cf1-4715-cc59-7cb665375676"
      },
      "outputs": [
        {
          "output_type": "stream",
          "name": "stdout",
          "text": [
            "Evaluating xgboost\n"
          ]
        },
        {
          "output_type": "stream",
          "name": "stderr",
          "text": [
            "[Parallel(n_jobs=3)]: Using backend LokyBackend with 3 concurrent workers.\n",
            "[Parallel(n_jobs=3)]: Done  10 out of  10 | elapsed:   26.5s finished\n",
            "[Parallel(n_jobs=3)]: Using backend LokyBackend with 3 concurrent workers.\n"
          ]
        },
        {
          "output_type": "stream",
          "name": "stdout",
          "text": [
            "Evaluating random_forest\n"
          ]
        },
        {
          "output_type": "stream",
          "name": "stderr",
          "text": [
            "[Parallel(n_jobs=3)]: Done  10 out of  10 | elapsed:  2.1min finished\n",
            "[Parallel(n_jobs=3)]: Using backend LokyBackend with 3 concurrent workers.\n"
          ]
        },
        {
          "output_type": "stream",
          "name": "stdout",
          "text": [
            "Evaluating knn\n"
          ]
        },
        {
          "output_type": "stream",
          "name": "stderr",
          "text": [
            "[Parallel(n_jobs=3)]: Done  10 out of  10 | elapsed:  9.0min finished\n"
          ]
        }
      ],
      "source": [
        "from sklearn.ensemble import StackingClassifier\n",
        "from sklearn.linear_model import LogisticRegressionCV\n",
        "from collections import defaultdict\n",
        "import plotly.graph_objects as go\n",
        "\n",
        "#Modelos Base\n",
        "base_models = [('xgboost', best_xgb_model),\n",
        "               ('random_forest', best_random_forest_model),\n",
        "               ('knn', best_knn_model)]\n",
        "\n",
        "#Guarda los scores de cada modelo\n",
        "model_scores = defaultdict()\n",
        "\n",
        "#Entreno los clasificadores\n",
        "for name, model in base_models:\n",
        "    print('Evaluating {}'.format(name))\n",
        "    scores = evaluate_model(model, ds_hoteles_train_x, ds_hoteles_train_y)\n",
        "    model_scores[name] = scores\n",
        "\n",
        "#Meta modelo, donde utilizamos la regresion logística por ser un problema de clasificación.\n",
        "meta_model = LogisticRegressionCV()\n",
        "\n",
        "#Ensemble Stacking\n",
        "stacking_model = StackingClassifier(estimators=base_models,\n",
        "                                    final_estimator=meta_model,\n",
        "                                    passthrough=True,\n",
        "                                    cv=5,\n",
        "                                    verbose=2)"
      ]
    },
    {
      "cell_type": "markdown",
      "metadata": {
        "id": "LmVbBW7F-tTM"
      },
      "source": [
        "#### Evalúo la performance del modelo de stacking y visualizo\n"
      ]
    },
    {
      "cell_type": "code",
      "execution_count": null,
      "metadata": {
        "colab": {
          "base_uri": "https://localhost:8080/",
          "height": 577
        },
        "id": "Vu8Pirfx-ws2",
        "outputId": "6dd3c45e-2095-411f-8704-587ad928a113"
      },
      "outputs": [
        {
          "name": "stderr",
          "output_type": "stream",
          "text": [
            "[Parallel(n_jobs=3)]: Using backend LokyBackend with 3 concurrent workers.\n",
            "[Parallel(n_jobs=3)]: Done  10 out of  10 | elapsed: 53.3min finished\n"
          ]
        },
        {
          "data": {
            "text/html": [
              "<html>\n",
              "<head><meta charset=\"utf-8\" /></head>\n",
              "<body>\n",
              "    <div>            <script src=\"https://cdnjs.cloudflare.com/ajax/libs/mathjax/2.7.5/MathJax.js?config=TeX-AMS-MML_SVG\"></script><script type=\"text/javascript\">if (window.MathJax && window.MathJax.Hub && window.MathJax.Hub.Config) {window.MathJax.Hub.Config({SVG: {font: \"STIX-Web\"}});}</script>                <script type=\"text/javascript\">window.PlotlyConfig = {MathJaxConfig: 'local'};</script>\n",
              "        <script charset=\"utf-8\" src=\"https://cdn.plot.ly/plotly-2.24.1.min.js\"></script>                <div id=\"50b052ea-b1dc-4436-ad5b-d01ced44127e\" class=\"plotly-graph-div\" style=\"height:525px; width:100%;\"></div>            <script type=\"text/javascript\">                                    window.PLOTLYENV=window.PLOTLYENV || {};                                    if (document.getElementById(\"50b052ea-b1dc-4436-ad5b-d01ced44127e\")) {                    Plotly.newPlot(                        \"50b052ea-b1dc-4436-ad5b-d01ced44127e\",                        [{\"boxpoints\":\"all\",\"jitter\":0.5,\"line\":{\"width\":1},\"marker\":{\"size\":2},\"name\":\"xgboost\",\"whiskerwidth\":0.2,\"y\":[0.8403327410757552,0.8518817638507511,0.8503472783072201,0.8531739622031982,0.8484775058557467,0.8467937328379906,0.84485543530932,0.8504280407042482,0.8473590696171862,0.8500928842581374],\"type\":\"box\"},{\"boxpoints\":\"all\",\"jitter\":0.5,\"line\":{\"width\":1},\"marker\":{\"size\":2},\"name\":\"random_forest\",\"whiskerwidth\":0.2,\"y\":[0.8540623485705056,0.8565659828783718,0.8561621708932321,0.8552737845259247,0.8531621032226799,0.8500242287191084,0.8484089807785495,0.8567275076724277,0.8576158940397351,0.8555044019061465],\"type\":\"box\"},{\"boxpoints\":\"all\",\"jitter\":0.5,\"line\":{\"width\":1},\"marker\":{\"size\":2},\"name\":\"knn\",\"whiskerwidth\":0.2,\"y\":[0.742852527863027,0.7522209659182685,0.7518171539331288,0.7510902923598772,0.7543009449963654,0.7489904700371507,0.7463253109352286,0.7521402035212406,0.7502826683895978,0.7473548178660852],\"type\":\"box\"},{\"boxpoints\":\"all\",\"jitter\":0.5,\"line\":{\"width\":1},\"marker\":{\"size\":2},\"name\":\"stacking\",\"whiskerwidth\":0.2,\"y\":[0.5002422871910839,0.5002422871910839,0.5003230495881118,0.5003230495881118,0.5002826912204184,0.5002422871910839,0.5002422871910839,0.5003230495881118,0.5003230495881118,0.5002826912204184],\"type\":\"box\"}],                        {\"template\":{\"data\":{\"histogram2dcontour\":[{\"type\":\"histogram2dcontour\",\"colorbar\":{\"outlinewidth\":0,\"ticks\":\"\"},\"colorscale\":[[0.0,\"#0d0887\"],[0.1111111111111111,\"#46039f\"],[0.2222222222222222,\"#7201a8\"],[0.3333333333333333,\"#9c179e\"],[0.4444444444444444,\"#bd3786\"],[0.5555555555555556,\"#d8576b\"],[0.6666666666666666,\"#ed7953\"],[0.7777777777777778,\"#fb9f3a\"],[0.8888888888888888,\"#fdca26\"],[1.0,\"#f0f921\"]]}],\"choropleth\":[{\"type\":\"choropleth\",\"colorbar\":{\"outlinewidth\":0,\"ticks\":\"\"}}],\"histogram2d\":[{\"type\":\"histogram2d\",\"colorbar\":{\"outlinewidth\":0,\"ticks\":\"\"},\"colorscale\":[[0.0,\"#0d0887\"],[0.1111111111111111,\"#46039f\"],[0.2222222222222222,\"#7201a8\"],[0.3333333333333333,\"#9c179e\"],[0.4444444444444444,\"#bd3786\"],[0.5555555555555556,\"#d8576b\"],[0.6666666666666666,\"#ed7953\"],[0.7777777777777778,\"#fb9f3a\"],[0.8888888888888888,\"#fdca26\"],[1.0,\"#f0f921\"]]}],\"heatmap\":[{\"type\":\"heatmap\",\"colorbar\":{\"outlinewidth\":0,\"ticks\":\"\"},\"colorscale\":[[0.0,\"#0d0887\"],[0.1111111111111111,\"#46039f\"],[0.2222222222222222,\"#7201a8\"],[0.3333333333333333,\"#9c179e\"],[0.4444444444444444,\"#bd3786\"],[0.5555555555555556,\"#d8576b\"],[0.6666666666666666,\"#ed7953\"],[0.7777777777777778,\"#fb9f3a\"],[0.8888888888888888,\"#fdca26\"],[1.0,\"#f0f921\"]]}],\"heatmapgl\":[{\"type\":\"heatmapgl\",\"colorbar\":{\"outlinewidth\":0,\"ticks\":\"\"},\"colorscale\":[[0.0,\"#0d0887\"],[0.1111111111111111,\"#46039f\"],[0.2222222222222222,\"#7201a8\"],[0.3333333333333333,\"#9c179e\"],[0.4444444444444444,\"#bd3786\"],[0.5555555555555556,\"#d8576b\"],[0.6666666666666666,\"#ed7953\"],[0.7777777777777778,\"#fb9f3a\"],[0.8888888888888888,\"#fdca26\"],[1.0,\"#f0f921\"]]}],\"contourcarpet\":[{\"type\":\"contourcarpet\",\"colorbar\":{\"outlinewidth\":0,\"ticks\":\"\"}}],\"contour\":[{\"type\":\"contour\",\"colorbar\":{\"outlinewidth\":0,\"ticks\":\"\"},\"colorscale\":[[0.0,\"#0d0887\"],[0.1111111111111111,\"#46039f\"],[0.2222222222222222,\"#7201a8\"],[0.3333333333333333,\"#9c179e\"],[0.4444444444444444,\"#bd3786\"],[0.5555555555555556,\"#d8576b\"],[0.6666666666666666,\"#ed7953\"],[0.7777777777777778,\"#fb9f3a\"],[0.8888888888888888,\"#fdca26\"],[1.0,\"#f0f921\"]]}],\"surface\":[{\"type\":\"surface\",\"colorbar\":{\"outlinewidth\":0,\"ticks\":\"\"},\"colorscale\":[[0.0,\"#0d0887\"],[0.1111111111111111,\"#46039f\"],[0.2222222222222222,\"#7201a8\"],[0.3333333333333333,\"#9c179e\"],[0.4444444444444444,\"#bd3786\"],[0.5555555555555556,\"#d8576b\"],[0.6666666666666666,\"#ed7953\"],[0.7777777777777778,\"#fb9f3a\"],[0.8888888888888888,\"#fdca26\"],[1.0,\"#f0f921\"]]}],\"mesh3d\":[{\"type\":\"mesh3d\",\"colorbar\":{\"outlinewidth\":0,\"ticks\":\"\"}}],\"scatter\":[{\"fillpattern\":{\"fillmode\":\"overlay\",\"size\":10,\"solidity\":0.2},\"type\":\"scatter\"}],\"parcoords\":[{\"type\":\"parcoords\",\"line\":{\"colorbar\":{\"outlinewidth\":0,\"ticks\":\"\"}}}],\"scatterpolargl\":[{\"type\":\"scatterpolargl\",\"marker\":{\"colorbar\":{\"outlinewidth\":0,\"ticks\":\"\"}}}],\"bar\":[{\"error_x\":{\"color\":\"#2a3f5f\"},\"error_y\":{\"color\":\"#2a3f5f\"},\"marker\":{\"line\":{\"color\":\"#E5ECF6\",\"width\":0.5},\"pattern\":{\"fillmode\":\"overlay\",\"size\":10,\"solidity\":0.2}},\"type\":\"bar\"}],\"scattergeo\":[{\"type\":\"scattergeo\",\"marker\":{\"colorbar\":{\"outlinewidth\":0,\"ticks\":\"\"}}}],\"scatterpolar\":[{\"type\":\"scatterpolar\",\"marker\":{\"colorbar\":{\"outlinewidth\":0,\"ticks\":\"\"}}}],\"histogram\":[{\"marker\":{\"pattern\":{\"fillmode\":\"overlay\",\"size\":10,\"solidity\":0.2}},\"type\":\"histogram\"}],\"scattergl\":[{\"type\":\"scattergl\",\"marker\":{\"colorbar\":{\"outlinewidth\":0,\"ticks\":\"\"}}}],\"scatter3d\":[{\"type\":\"scatter3d\",\"line\":{\"colorbar\":{\"outlinewidth\":0,\"ticks\":\"\"}},\"marker\":{\"colorbar\":{\"outlinewidth\":0,\"ticks\":\"\"}}}],\"scattermapbox\":[{\"type\":\"scattermapbox\",\"marker\":{\"colorbar\":{\"outlinewidth\":0,\"ticks\":\"\"}}}],\"scatterternary\":[{\"type\":\"scatterternary\",\"marker\":{\"colorbar\":{\"outlinewidth\":0,\"ticks\":\"\"}}}],\"scattercarpet\":[{\"type\":\"scattercarpet\",\"marker\":{\"colorbar\":{\"outlinewidth\":0,\"ticks\":\"\"}}}],\"carpet\":[{\"aaxis\":{\"endlinecolor\":\"#2a3f5f\",\"gridcolor\":\"white\",\"linecolor\":\"white\",\"minorgridcolor\":\"white\",\"startlinecolor\":\"#2a3f5f\"},\"baxis\":{\"endlinecolor\":\"#2a3f5f\",\"gridcolor\":\"white\",\"linecolor\":\"white\",\"minorgridcolor\":\"white\",\"startlinecolor\":\"#2a3f5f\"},\"type\":\"carpet\"}],\"table\":[{\"cells\":{\"fill\":{\"color\":\"#EBF0F8\"},\"line\":{\"color\":\"white\"}},\"header\":{\"fill\":{\"color\":\"#C8D4E3\"},\"line\":{\"color\":\"white\"}},\"type\":\"table\"}],\"barpolar\":[{\"marker\":{\"line\":{\"color\":\"#E5ECF6\",\"width\":0.5},\"pattern\":{\"fillmode\":\"overlay\",\"size\":10,\"solidity\":0.2}},\"type\":\"barpolar\"}],\"pie\":[{\"automargin\":true,\"type\":\"pie\"}]},\"layout\":{\"autotypenumbers\":\"strict\",\"colorway\":[\"#636efa\",\"#EF553B\",\"#00cc96\",\"#ab63fa\",\"#FFA15A\",\"#19d3f3\",\"#FF6692\",\"#B6E880\",\"#FF97FF\",\"#FECB52\"],\"font\":{\"color\":\"#2a3f5f\"},\"hovermode\":\"closest\",\"hoverlabel\":{\"align\":\"left\"},\"paper_bgcolor\":\"white\",\"plot_bgcolor\":\"#E5ECF6\",\"polar\":{\"bgcolor\":\"#E5ECF6\",\"angularaxis\":{\"gridcolor\":\"white\",\"linecolor\":\"white\",\"ticks\":\"\"},\"radialaxis\":{\"gridcolor\":\"white\",\"linecolor\":\"white\",\"ticks\":\"\"}},\"ternary\":{\"bgcolor\":\"#E5ECF6\",\"aaxis\":{\"gridcolor\":\"white\",\"linecolor\":\"white\",\"ticks\":\"\"},\"baxis\":{\"gridcolor\":\"white\",\"linecolor\":\"white\",\"ticks\":\"\"},\"caxis\":{\"gridcolor\":\"white\",\"linecolor\":\"white\",\"ticks\":\"\"}},\"coloraxis\":{\"colorbar\":{\"outlinewidth\":0,\"ticks\":\"\"}},\"colorscale\":{\"sequential\":[[0.0,\"#0d0887\"],[0.1111111111111111,\"#46039f\"],[0.2222222222222222,\"#7201a8\"],[0.3333333333333333,\"#9c179e\"],[0.4444444444444444,\"#bd3786\"],[0.5555555555555556,\"#d8576b\"],[0.6666666666666666,\"#ed7953\"],[0.7777777777777778,\"#fb9f3a\"],[0.8888888888888888,\"#fdca26\"],[1.0,\"#f0f921\"]],\"sequentialminus\":[[0.0,\"#0d0887\"],[0.1111111111111111,\"#46039f\"],[0.2222222222222222,\"#7201a8\"],[0.3333333333333333,\"#9c179e\"],[0.4444444444444444,\"#bd3786\"],[0.5555555555555556,\"#d8576b\"],[0.6666666666666666,\"#ed7953\"],[0.7777777777777778,\"#fb9f3a\"],[0.8888888888888888,\"#fdca26\"],[1.0,\"#f0f921\"]],\"diverging\":[[0,\"#8e0152\"],[0.1,\"#c51b7d\"],[0.2,\"#de77ae\"],[0.3,\"#f1b6da\"],[0.4,\"#fde0ef\"],[0.5,\"#f7f7f7\"],[0.6,\"#e6f5d0\"],[0.7,\"#b8e186\"],[0.8,\"#7fbc41\"],[0.9,\"#4d9221\"],[1,\"#276419\"]]},\"xaxis\":{\"gridcolor\":\"white\",\"linecolor\":\"white\",\"ticks\":\"\",\"title\":{\"standoff\":15},\"zerolinecolor\":\"white\",\"automargin\":true,\"zerolinewidth\":2},\"yaxis\":{\"gridcolor\":\"white\",\"linecolor\":\"white\",\"ticks\":\"\",\"title\":{\"standoff\":15},\"zerolinecolor\":\"white\",\"automargin\":true,\"zerolinewidth\":2},\"scene\":{\"xaxis\":{\"backgroundcolor\":\"#E5ECF6\",\"gridcolor\":\"white\",\"linecolor\":\"white\",\"showbackground\":true,\"ticks\":\"\",\"zerolinecolor\":\"white\",\"gridwidth\":2},\"yaxis\":{\"backgroundcolor\":\"#E5ECF6\",\"gridcolor\":\"white\",\"linecolor\":\"white\",\"showbackground\":true,\"ticks\":\"\",\"zerolinecolor\":\"white\",\"gridwidth\":2},\"zaxis\":{\"backgroundcolor\":\"#E5ECF6\",\"gridcolor\":\"white\",\"linecolor\":\"white\",\"showbackground\":true,\"ticks\":\"\",\"zerolinecolor\":\"white\",\"gridwidth\":2}},\"shapedefaults\":{\"line\":{\"color\":\"#2a3f5f\"}},\"annotationdefaults\":{\"arrowcolor\":\"#2a3f5f\",\"arrowhead\":0,\"arrowwidth\":1},\"geo\":{\"bgcolor\":\"white\",\"landcolor\":\"#E5ECF6\",\"subunitcolor\":\"white\",\"showland\":true,\"showlakes\":true,\"lakecolor\":\"white\"},\"title\":{\"x\":0.05},\"mapbox\":{\"style\":\"light\"}}},\"title\":{\"text\":\"Performance of Different Models Using 5-Fold Cross-Validation\"},\"paper_bgcolor\":\"rgb(243, 243, 243)\",\"plot_bgcolor\":\"rgb(243, 243, 243)\",\"xaxis\":{\"title\":{\"text\":\"Model\"}},\"yaxis\":{\"title\":{\"text\":\"Accuracy\"}},\"showlegend\":false},                        {\"responsive\": true}                    ).then(function(){\n",
              "                            \n",
              "var gd = document.getElementById('50b052ea-b1dc-4436-ad5b-d01ced44127e');\n",
              "var x = new MutationObserver(function (mutations, observer) {{\n",
              "        var display = window.getComputedStyle(gd).display;\n",
              "        if (!display || display === 'none') {{\n",
              "            console.log([gd, 'removed!']);\n",
              "            Plotly.purge(gd);\n",
              "            observer.disconnect();\n",
              "        }}\n",
              "}});\n",
              "\n",
              "// Listen for the removal of the full notebook cells\n",
              "var notebookContainer = gd.closest('#notebook-container');\n",
              "if (notebookContainer) {{\n",
              "    x.observe(notebookContainer, {childList: true});\n",
              "}}\n",
              "\n",
              "// Listen for the clearing of the current output cell\n",
              "var outputEl = gd.closest('.output');\n",
              "if (outputEl) {{\n",
              "    x.observe(outputEl, {childList: true});\n",
              "}}\n",
              "\n",
              "                        })                };                            </script>        </div>\n",
              "</body>\n",
              "</html>"
            ]
          },
          "metadata": {},
          "output_type": "display_data"
        }
      ],
      "source": [
        "#Performance el modelo en entrenamiento\n",
        "stacking_scores = evaluate_model(stacking_model, ds_hoteles_train_x, ds_hoteles_train_y)\n",
        "model_scores['stacking'] = stacking_scores\n",
        "#Grafico performance\n",
        "plot_results(model_scores, name='stacking_model_cv')"
      ]
    },
    {
      "cell_type": "markdown",
      "metadata": {
        "id": "MKjRszuGrXfg"
      },
      "source": [
        "#### Creamos la matriz de confusión para el modelo híbrido de Stacking"
      ]
    },
    {
      "cell_type": "code",
      "execution_count": null,
      "metadata": {
        "id": "D2sL6TKlzk_4",
        "outputId": "9e761d81-7ae0-4621-acad-ac2d785dec99"
      },
      "outputs": [
        {
          "name": "stdout",
          "output_type": "stream",
          "text": [
            "              precision    recall  f1-score   support\n",
            "\n",
            "           0       0.84      0.87      0.86      9281\n",
            "           1       0.87      0.84      0.85      9161\n",
            "\n",
            "    accuracy                           0.86     18442\n",
            "   macro avg       0.86      0.85      0.85     18442\n",
            "weighted avg       0.86      0.86      0.85     18442\n",
            "\n"
          ]
        }
      ],
      "source": [
        "from sklearn.ensemble import RandomForestClassifier\n",
        "from sklearn.svm import LinearSVC\n",
        "from sklearn.linear_model import LogisticRegression\n",
        "from sklearn.preprocessing import StandardScaler\n",
        "from sklearn.pipeline import make_pipeline\n",
        "from sklearn.ensemble import StackingClassifier\n",
        "\n",
        "estimators = [('xgb',best_xgb_model), ('rf',best_random_forest_model)]\n",
        "clf = StackingClassifier(\n",
        "    estimators=estimators, final_estimator=LogisticRegression()\n",
        ")\n",
        "\n",
        "\n",
        "clf.fit(x_train, y_train)\n",
        "y_pred = clf.predict(x_test)\n",
        "print(classification_report(y_test, y_pred))"
      ]
    },
    {
      "cell_type": "code",
      "execution_count": null,
      "metadata": {
        "id": "zkPzWksSzk_4",
        "outputId": "98ccf205-fea7-419a-8ae7-5ac9e3196f47"
      },
      "outputs": [
        {
          "data": {
            "text/plain": [
              "Text(50.722222222222214, 0.5, 'True')"
            ]
          },
          "execution_count": 53,
          "metadata": {},
          "output_type": "execute_result"
        },
        {
          "data": {
            "image/png": "[encoded data removed]",
            "text/plain": [
              "<Figure size 640x480 with 2 Axes>"
            ]
          },
          "metadata": {},
          "output_type": "display_data"
        }
      ],
      "source": [
        "cm = confusion_matrix(y_test,y_pred)\n",
        "sns.heatmap(cm, cmap='Blues',annot=True,fmt='g')\n",
        "plt.xlabel('Predicted')\n",
        "plt.ylabel('True')"
      ]
    },
    {
      "cell_type": "markdown",
      "source": [
        "#### Exporto el modelo de Stacking"
      ],
      "metadata": {
        "id": "0ROgtr340NO1"
      }
    },
    {
      "cell_type": "code",
      "source": [
        "clf.fit(ds_hoteles_train_x, ds_hoteles_train_y)\n",
        "y_pred = clf.predict(ds_test_x)\n",
        "df_submission_stacking = pd.DataFrame({'id': ds_hoteles_test['id'], 'is_canceled': y_pred})\n",
        "df_submission_voting.to_csv('/content/drive/MyDrive/Tp_Datos_2023_2°/Submission_Stacking.csv',index=False)"
      ],
      "metadata": {
        "id": "KJl4_R0Q0RjX"
      },
      "execution_count": null,
      "outputs": []
    }
  ],
  "metadata": {
    "colab": {
      "toc_visible": true,
      "provenance": []
    },
    "kernelspec": {
      "display_name": "Python 3",
      "name": "python3"
    },
    "language_info": {
      "name": "python"
    }
  },
  "nbformat": 4,
  "nbformat_minor": 0
}